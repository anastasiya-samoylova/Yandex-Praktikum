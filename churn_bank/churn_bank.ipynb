{
 "cells": [
  {
   "cell_type": "markdown",
   "id": "9f31b27a",
   "metadata": {
    "toc": true
   },
   "source": [
    "<h1>Содержание<span class=\"tocSkip\"></span></h1>\n",
    "<div class=\"toc\"><ul class=\"toc-item\"><li><span><a href=\"#Описание-проекта\" data-toc-modified-id=\"Описание-проекта-1\"><span class=\"toc-item-num\">1&nbsp;&nbsp;</span>Описание проекта</a></span></li><li><span><a href=\"#Подготовка-данных\" data-toc-modified-id=\"Подготовка-данных-2\"><span class=\"toc-item-num\">2&nbsp;&nbsp;</span>Подготовка данных</a></span><ul class=\"toc-item\"><li><span><a href=\"#Импорт-данных\" data-toc-modified-id=\"Импорт-данных-2.1\"><span class=\"toc-item-num\">2.1&nbsp;&nbsp;</span>Импорт данных</a></span></li><li><span><a href=\"#Исследование-данных\" data-toc-modified-id=\"Исследование-данных-2.2\"><span class=\"toc-item-num\">2.2&nbsp;&nbsp;</span>Исследование данных</a></span></li><li><span><a href=\"#One-hot-encoding\" data-toc-modified-id=\"One-hot-encoding-2.3\"><span class=\"toc-item-num\">2.3&nbsp;&nbsp;</span>One hot encoding</a></span></li><li><span><a href=\"#Обработка-пропусков\" data-toc-modified-id=\"Обработка-пропусков-2.4\"><span class=\"toc-item-num\">2.4&nbsp;&nbsp;</span>Обработка пропусков</a></span></li></ul></li><li><span><a href=\"#Исследование-задачи\" data-toc-modified-id=\"Исследование-задачи-3\"><span class=\"toc-item-num\">3&nbsp;&nbsp;</span>Исследование задачи</a></span><ul class=\"toc-item\"><li><span><a href=\"#Разделение-данных-на-выборки\" data-toc-modified-id=\"Разделение-данных-на-выборки-3.1\"><span class=\"toc-item-num\">3.1&nbsp;&nbsp;</span>Разделение данных на выборки</a></span></li><li><span><a href=\"#Проверка-на-Logistic-Regression\" data-toc-modified-id=\"Проверка-на-Logistic-Regression-3.2\"><span class=\"toc-item-num\">3.2&nbsp;&nbsp;</span>Проверка на Logistic Regression</a></span></li><li><span><a href=\"#Проверка-на-Decision-Tree-Classifier\" data-toc-modified-id=\"Проверка-на-Decision-Tree-Classifier-3.3\"><span class=\"toc-item-num\">3.3&nbsp;&nbsp;</span>Проверка на Decision Tree Classifier</a></span></li><li><span><a href=\"#Проверка-на-Random-Forest-Classifier\" data-toc-modified-id=\"Проверка-на-Random-Forest-Classifier-3.4\"><span class=\"toc-item-num\">3.4&nbsp;&nbsp;</span>Проверка на Random Forest Classifier</a></span></li><li><span><a href=\"#Вывод\" data-toc-modified-id=\"Вывод-3.5\"><span class=\"toc-item-num\">3.5&nbsp;&nbsp;</span>Вывод</a></span></li></ul></li><li><span><a href=\"#Борьба-с-дисбалансом\" data-toc-modified-id=\"Борьба-с-дисбалансом-4\"><span class=\"toc-item-num\">4&nbsp;&nbsp;</span>Борьба с дисбалансом</a></span><ul class=\"toc-item\"><li><span><a href=\"#Балансировка-классов\" data-toc-modified-id=\"Балансировка-классов-4.1\"><span class=\"toc-item-num\">4.1&nbsp;&nbsp;</span>Балансировка классов</a></span><ul class=\"toc-item\"><li><span><a href=\"#Logistic-Regression\" data-toc-modified-id=\"Logistic-Regression-4.1.1\"><span class=\"toc-item-num\">4.1.1&nbsp;&nbsp;</span>Logistic Regression</a></span></li><li><span><a href=\"#Decision-Tree-Classifier\" data-toc-modified-id=\"Decision-Tree-Classifier-4.1.2\"><span class=\"toc-item-num\">4.1.2&nbsp;&nbsp;</span>Decision Tree Classifier</a></span></li><li><span><a href=\"#Random-Forest-Classifier\" data-toc-modified-id=\"Random-Forest-Classifier-4.1.3\"><span class=\"toc-item-num\">4.1.3&nbsp;&nbsp;</span>Random Forest Classifier</a></span></li></ul></li><li><span><a href=\"#Upsampling\" data-toc-modified-id=\"Upsampling-4.2\"><span class=\"toc-item-num\">4.2&nbsp;&nbsp;</span>Upsampling</a></span><ul class=\"toc-item\"><li><span><a href=\"#Logistic-Regression\" data-toc-modified-id=\"Logistic-Regression-4.2.1\"><span class=\"toc-item-num\">4.2.1&nbsp;&nbsp;</span>Logistic Regression</a></span></li><li><span><a href=\"#Decision-Tree-Classifier\" data-toc-modified-id=\"Decision-Tree-Classifier-4.2.2\"><span class=\"toc-item-num\">4.2.2&nbsp;&nbsp;</span>Decision Tree Classifier</a></span></li><li><span><a href=\"#Random-Forest-Classifier\" data-toc-modified-id=\"Random-Forest-Classifier-4.2.3\"><span class=\"toc-item-num\">4.2.3&nbsp;&nbsp;</span>Random Forest Classifier</a></span></li></ul></li><li><span><a href=\"#Downsampling\" data-toc-modified-id=\"Downsampling-4.3\"><span class=\"toc-item-num\">4.3&nbsp;&nbsp;</span>Downsampling</a></span><ul class=\"toc-item\"><li><span><a href=\"#Logistic-Regression\" data-toc-modified-id=\"Logistic-Regression-4.3.1\"><span class=\"toc-item-num\">4.3.1&nbsp;&nbsp;</span>Logistic Regression</a></span></li><li><span><a href=\"#Decision-Tree-Classifier\" data-toc-modified-id=\"Decision-Tree-Classifier-4.3.2\"><span class=\"toc-item-num\">4.3.2&nbsp;&nbsp;</span>Decision Tree Classifier</a></span></li><li><span><a href=\"#Random-Forest-Classifier\" data-toc-modified-id=\"Random-Forest-Classifier-4.3.3\"><span class=\"toc-item-num\">4.3.3&nbsp;&nbsp;</span>Random Forest Classifier</a></span></li></ul></li><li><span><a href=\"#Вывод\" data-toc-modified-id=\"Вывод-4.4\"><span class=\"toc-item-num\">4.4&nbsp;&nbsp;</span>Вывод</a></span></li><li><span><a href=\"#ROC-кривая\" data-toc-modified-id=\"ROC-кривая-4.5\"><span class=\"toc-item-num\">4.5&nbsp;&nbsp;</span>ROC-кривая</a></span></li></ul></li><li><span><a href=\"#Тестирование-модели\" data-toc-modified-id=\"Тестирование-модели-5\"><span class=\"toc-item-num\">5&nbsp;&nbsp;</span>Тестирование модели</a></span></li><li><span><a href=\"#Вывод\" data-toc-modified-id=\"Вывод-6\"><span class=\"toc-item-num\">6&nbsp;&nbsp;</span>Вывод</a></span></li><li><span><a href=\"#Чек-лист-готовности-проекта\" data-toc-modified-id=\"Чек-лист-готовности-проекта-7\"><span class=\"toc-item-num\">7&nbsp;&nbsp;</span>Чек-лист готовности проекта</a></span></li></ul></div>"
   ]
  },
  {
   "cell_type": "markdown",
   "id": "d68072a4",
   "metadata": {},
   "source": [
    "## Описание проекта\n",
    "Из «Бета-Банка» стали уходить клиенты. Каждый месяц. Немного, но заметно. Банковские маркетологи посчитали: сохранять текущих клиентов дешевле, чем привлекать новых.\n",
    "Нужно спрогнозировать, уйдёт клиент из банка в ближайшее время или нет. \n",
    "\n",
    "Нам предоставлены исторические данные о поведении клиентов и расторжении договоров с банком.\n",
    "Построим модель с предельно большим значением F1-меры."
   ]
  },
  {
   "cell_type": "code",
   "execution_count": 1,
   "id": "29475ad6",
   "metadata": {},
   "outputs": [],
   "source": [
    "import pandas as pd\n",
    "import seaborn as sns\n",
    "import matplotlib.pyplot as plt\n",
    "\n",
    "# импортируем из бибилиотеки sklearn необходимые функции\n",
    "from sklearn.metrics import accuracy_score,roc_auc_score,roc_curve,auc,f1_score,precision_score, recall_score\n",
    "from sklearn.model_selection import train_test_split\n",
    "\n",
    "# импортируем из бибилиотеки sklearn структуры данных для классификации\n",
    "from sklearn.ensemble import RandomForestClassifier\n",
    "from sklearn.dummy import DummyClassifier\n",
    "from sklearn.linear_model import LogisticRegression\n",
    "from sklearn.preprocessing import StandardScaler\n",
    "from sklearn.tree import DecisionTreeClassifier\n",
    "from sklearn.utils import shuffle\n",
    "\n",
    "# отключим некритические предупреждения в коде\n",
    "import warnings\n",
    "warnings.filterwarnings(\"ignore\")"
   ]
  },
  {
   "cell_type": "code",
   "execution_count": 2,
   "id": "1e9ce358",
   "metadata": {},
   "outputs": [],
   "source": [
    "# сбросим ограничение на количество выводимых столбцов, что бы просмотреть все столбцы\n",
    "pd.set_option('display.max_columns', None)"
   ]
  },
  {
   "cell_type": "markdown",
   "id": "92a0c146",
   "metadata": {},
   "source": [
    "## Подготовка данных"
   ]
  },
  {
   "cell_type": "markdown",
   "id": "8e202bb1",
   "metadata": {},
   "source": [
    "### Импорт данных"
   ]
  },
  {
   "cell_type": "code",
   "execution_count": 3,
   "id": "a7e43f09",
   "metadata": {},
   "outputs": [
    {
     "data": {
      "text/html": [
       "<div>\n",
       "<style scoped>\n",
       "    .dataframe tbody tr th:only-of-type {\n",
       "        vertical-align: middle;\n",
       "    }\n",
       "\n",
       "    .dataframe tbody tr th {\n",
       "        vertical-align: top;\n",
       "    }\n",
       "\n",
       "    .dataframe thead th {\n",
       "        text-align: right;\n",
       "    }\n",
       "</style>\n",
       "<table border=\"1\" class=\"dataframe\">\n",
       "  <thead>\n",
       "    <tr style=\"text-align: right;\">\n",
       "      <th></th>\n",
       "      <th>CustomerId</th>\n",
       "      <th>Surname</th>\n",
       "      <th>CreditScore</th>\n",
       "      <th>Geography</th>\n",
       "      <th>Gender</th>\n",
       "      <th>Age</th>\n",
       "      <th>Tenure</th>\n",
       "      <th>Balance</th>\n",
       "      <th>NumOfProducts</th>\n",
       "      <th>HasCrCard</th>\n",
       "      <th>IsActiveMember</th>\n",
       "      <th>EstimatedSalary</th>\n",
       "      <th>Exited</th>\n",
       "    </tr>\n",
       "    <tr>\n",
       "      <th>RowNumber</th>\n",
       "      <th></th>\n",
       "      <th></th>\n",
       "      <th></th>\n",
       "      <th></th>\n",
       "      <th></th>\n",
       "      <th></th>\n",
       "      <th></th>\n",
       "      <th></th>\n",
       "      <th></th>\n",
       "      <th></th>\n",
       "      <th></th>\n",
       "      <th></th>\n",
       "      <th></th>\n",
       "    </tr>\n",
       "  </thead>\n",
       "  <tbody>\n",
       "    <tr>\n",
       "      <th>1</th>\n",
       "      <td>15634602</td>\n",
       "      <td>Hargrave</td>\n",
       "      <td>619</td>\n",
       "      <td>France</td>\n",
       "      <td>Female</td>\n",
       "      <td>42</td>\n",
       "      <td>2.0</td>\n",
       "      <td>0.00</td>\n",
       "      <td>1</td>\n",
       "      <td>1</td>\n",
       "      <td>1</td>\n",
       "      <td>101348.88</td>\n",
       "      <td>1</td>\n",
       "    </tr>\n",
       "    <tr>\n",
       "      <th>2</th>\n",
       "      <td>15647311</td>\n",
       "      <td>Hill</td>\n",
       "      <td>608</td>\n",
       "      <td>Spain</td>\n",
       "      <td>Female</td>\n",
       "      <td>41</td>\n",
       "      <td>1.0</td>\n",
       "      <td>83807.86</td>\n",
       "      <td>1</td>\n",
       "      <td>0</td>\n",
       "      <td>1</td>\n",
       "      <td>112542.58</td>\n",
       "      <td>0</td>\n",
       "    </tr>\n",
       "    <tr>\n",
       "      <th>3</th>\n",
       "      <td>15619304</td>\n",
       "      <td>Onio</td>\n",
       "      <td>502</td>\n",
       "      <td>France</td>\n",
       "      <td>Female</td>\n",
       "      <td>42</td>\n",
       "      <td>8.0</td>\n",
       "      <td>159660.80</td>\n",
       "      <td>3</td>\n",
       "      <td>1</td>\n",
       "      <td>0</td>\n",
       "      <td>113931.57</td>\n",
       "      <td>1</td>\n",
       "    </tr>\n",
       "    <tr>\n",
       "      <th>4</th>\n",
       "      <td>15701354</td>\n",
       "      <td>Boni</td>\n",
       "      <td>699</td>\n",
       "      <td>France</td>\n",
       "      <td>Female</td>\n",
       "      <td>39</td>\n",
       "      <td>1.0</td>\n",
       "      <td>0.00</td>\n",
       "      <td>2</td>\n",
       "      <td>0</td>\n",
       "      <td>0</td>\n",
       "      <td>93826.63</td>\n",
       "      <td>0</td>\n",
       "    </tr>\n",
       "    <tr>\n",
       "      <th>5</th>\n",
       "      <td>15737888</td>\n",
       "      <td>Mitchell</td>\n",
       "      <td>850</td>\n",
       "      <td>Spain</td>\n",
       "      <td>Female</td>\n",
       "      <td>43</td>\n",
       "      <td>2.0</td>\n",
       "      <td>125510.82</td>\n",
       "      <td>1</td>\n",
       "      <td>1</td>\n",
       "      <td>1</td>\n",
       "      <td>79084.10</td>\n",
       "      <td>0</td>\n",
       "    </tr>\n",
       "  </tbody>\n",
       "</table>\n",
       "</div>"
      ],
      "text/plain": [
       "           CustomerId   Surname  CreditScore Geography  Gender  Age  Tenure  \\\n",
       "RowNumber                                                                     \n",
       "1            15634602  Hargrave          619    France  Female   42     2.0   \n",
       "2            15647311      Hill          608     Spain  Female   41     1.0   \n",
       "3            15619304      Onio          502    France  Female   42     8.0   \n",
       "4            15701354      Boni          699    France  Female   39     1.0   \n",
       "5            15737888  Mitchell          850     Spain  Female   43     2.0   \n",
       "\n",
       "             Balance  NumOfProducts  HasCrCard  IsActiveMember  \\\n",
       "RowNumber                                                        \n",
       "1               0.00              1          1               1   \n",
       "2           83807.86              1          0               1   \n",
       "3          159660.80              3          1               0   \n",
       "4               0.00              2          0               0   \n",
       "5          125510.82              1          1               1   \n",
       "\n",
       "           EstimatedSalary  Exited  \n",
       "RowNumber                           \n",
       "1                101348.88       1  \n",
       "2                112542.58       0  \n",
       "3                113931.57       1  \n",
       "4                 93826.63       0  \n",
       "5                 79084.10       0  "
      ]
     },
     "execution_count": 3,
     "metadata": {},
     "output_type": "execute_result"
    }
   ],
   "source": [
    "# чтение файла с данными и сохранение в DataFrame\n",
    "df = pd.read_csv('/datasets/---.csv',index_col=0)\n",
    "df.head()"
   ]
  },
  {
   "cell_type": "code",
   "execution_count": 4,
   "id": "c3476427",
   "metadata": {},
   "outputs": [
    {
     "name": "stdout",
     "output_type": "stream",
     "text": [
      "<class 'pandas.core.frame.DataFrame'>\n",
      "Int64Index: 10000 entries, 1 to 10000\n",
      "Data columns (total 13 columns):\n",
      " #   Column           Non-Null Count  Dtype  \n",
      "---  ------           --------------  -----  \n",
      " 0   CustomerId       10000 non-null  int64  \n",
      " 1   Surname          10000 non-null  object \n",
      " 2   CreditScore      10000 non-null  int64  \n",
      " 3   Geography        10000 non-null  object \n",
      " 4   Gender           10000 non-null  object \n",
      " 5   Age              10000 non-null  int64  \n",
      " 6   Tenure           9091 non-null   float64\n",
      " 7   Balance          10000 non-null  float64\n",
      " 8   NumOfProducts    10000 non-null  int64  \n",
      " 9   HasCrCard        10000 non-null  int64  \n",
      " 10  IsActiveMember   10000 non-null  int64  \n",
      " 11  EstimatedSalary  10000 non-null  float64\n",
      " 12  Exited           10000 non-null  int64  \n",
      "dtypes: float64(3), int64(7), object(3)\n",
      "memory usage: 1.1+ MB\n"
     ]
    }
   ],
   "source": [
    "df.info()"
   ]
  },
  {
   "cell_type": "markdown",
   "id": "294bef74",
   "metadata": {},
   "source": [
    "Согласно документации к данным:\n",
    "\n",
    "Каждый объект в наборе данных — это информация о поведении одного пользователя за месяц.\n",
    "\n",
    "**Признаки**\n",
    "\n",
    "- *RowNumber —* индекс строки в данных\n",
    "- *CustomerId* — уникальный идентификатор клиента\n",
    "- *Surname —* фамилия\n",
    "- *CreditScore —* кредитный рейтинг\n",
    "- *Geography —* страна проживания\n",
    "- *Gender —* пол\n",
    "- *Age —* возраст\n",
    "- *Tenure —* сколько лет человек является клиентом банка\n",
    "- *Balance —* баланс на счёте\n",
    "- *NumOfProducts —* количество продуктов банка, используемых клиентом\n",
    "- *HasCrCard —* наличие кредитной карты\n",
    "- *IsActiveMember —* активность клиента\n",
    "- *EstimatedSalary —* предполагаемая зарплата\n",
    "\n",
    "**Целевой признак**\n",
    "\n",
    "- *Exited* — факт ухода клиента"
   ]
  },
  {
   "cell_type": "markdown",
   "id": "625e361a",
   "metadata": {},
   "source": [
    "Пропуски есть в столбце `Tenure` — сколько лет человек является клиентом банка. Типы данных нормальные."
   ]
  },
  {
   "cell_type": "code",
   "execution_count": 5,
   "id": "61dddd88",
   "metadata": {},
   "outputs": [
    {
     "name": "stdout",
     "output_type": "stream",
     "text": [
      "<class 'pandas.core.frame.DataFrame'>\n",
      "Int64Index: 10000 entries, 1 to 10000\n",
      "Data columns (total 13 columns):\n",
      " #   Column           Non-Null Count  Dtype  \n",
      "---  ------           --------------  -----  \n",
      " 0   customerid       10000 non-null  int64  \n",
      " 1   surname          10000 non-null  object \n",
      " 2   creditscore      10000 non-null  int64  \n",
      " 3   geography        10000 non-null  object \n",
      " 4   gender           10000 non-null  object \n",
      " 5   age              10000 non-null  int64  \n",
      " 6   tenure           9091 non-null   float64\n",
      " 7   balance          10000 non-null  float64\n",
      " 8   numofproducts    10000 non-null  int64  \n",
      " 9   hascrcard        10000 non-null  int64  \n",
      " 10  isactivemember   10000 non-null  int64  \n",
      " 11  estimatedsalary  10000 non-null  float64\n",
      " 12  exited           10000 non-null  int64  \n",
      "dtypes: float64(3), int64(7), object(3)\n",
      "memory usage: 1.1+ MB\n"
     ]
    }
   ],
   "source": [
    "# приведем столбцы к нижнему регистру\n",
    "df.columns = map(str.lower, df.columns)\n",
    "df.info()"
   ]
  },
  {
   "cell_type": "code",
   "execution_count": 6,
   "id": "7582fb6f",
   "metadata": {},
   "outputs": [
    {
     "data": {
      "text/plain": [
       "Index(['customerid', 'surname', 'creditscore', 'geography', 'gender', 'age',\n",
       "       'tenure', 'balance', 'numofproducts', 'hascrcard', 'isactivemember',\n",
       "       'estimatedsalary', 'exited'],\n",
       "      dtype='object')"
      ]
     },
     "execution_count": 6,
     "metadata": {},
     "output_type": "execute_result"
    }
   ],
   "source": [
    "df.columns "
   ]
  },
  {
   "cell_type": "code",
   "execution_count": 7,
   "id": "e918799e",
   "metadata": {},
   "outputs": [
    {
     "name": "stdout",
     "output_type": "stream",
     "text": [
      "<class 'pandas.core.frame.DataFrame'>\n",
      "Int64Index: 10000 entries, 1 to 10000\n",
      "Data columns (total 13 columns):\n",
      " #   Column            Non-Null Count  Dtype  \n",
      "---  ------            --------------  -----  \n",
      " 0   customer_id       10000 non-null  int64  \n",
      " 1   surname           10000 non-null  object \n",
      " 2   credit_score      10000 non-null  int64  \n",
      " 3   geography         10000 non-null  object \n",
      " 4   gender            10000 non-null  object \n",
      " 5   age               10000 non-null  int64  \n",
      " 6   tenure            9091 non-null   float64\n",
      " 7   balance           10000 non-null  float64\n",
      " 8   num_of_products   10000 non-null  int64  \n",
      " 9   has_credit_card   10000 non-null  int64  \n",
      " 10  is_active_member  10000 non-null  int64  \n",
      " 11  estimated_salary  10000 non-null  float64\n",
      " 12  exited            10000 non-null  int64  \n",
      "dtypes: float64(3), int64(7), object(3)\n",
      "memory usage: 1.1+ MB\n"
     ]
    }
   ],
   "source": [
    "df = df.rename(columns = {'customerid' : 'customer_id',\n",
    "'creditscore' : 'credit_score',\n",
    "'numofproducts' : 'num_of_products',\n",
    "'hascrcard' : 'has_credit_card',\n",
    "'isactivemember' : 'is_active_member',\n",
    "'estimatedsalary' : 'estimated_salary'})\n",
    "df.info()"
   ]
  },
  {
   "cell_type": "markdown",
   "id": "12d404e6",
   "metadata": {},
   "source": [
    "### Исследование данных"
   ]
  },
  {
   "cell_type": "code",
   "execution_count": 8,
   "id": "dddf84e8",
   "metadata": {},
   "outputs": [
    {
     "data": {
      "text/plain": [
       "France     5014\n",
       "Germany    2509\n",
       "Spain      2477\n",
       "Name: geography, dtype: int64"
      ]
     },
     "execution_count": 8,
     "metadata": {},
     "output_type": "execute_result"
    }
   ],
   "source": [
    "# Посмотрим значения по столбцу geography\n",
    "df['geography'].value_counts()"
   ]
  },
  {
   "cell_type": "code",
   "execution_count": 9,
   "id": "bf672f60",
   "metadata": {},
   "outputs": [
    {
     "data": {
      "text/plain": [
       "Male      5457\n",
       "Female    4543\n",
       "Name: gender, dtype: int64"
      ]
     },
     "execution_count": 9,
     "metadata": {},
     "output_type": "execute_result"
    }
   ],
   "source": [
    "# Посмотрим значения по столбцу gender\n",
    "df['gender'].value_counts()"
   ]
  },
  {
   "cell_type": "markdown",
   "id": "800ad9c1",
   "metadata": {},
   "source": [
    "Удалим колонки `customer_id`, `surname`. Считаем, что id и фамилия клиента  не влияют на факт ухода клиента."
   ]
  },
  {
   "cell_type": "code",
   "execution_count": 10,
   "id": "53d68f9e",
   "metadata": {},
   "outputs": [],
   "source": [
    "# удалим колонки customer_id,surname\n",
    "df.drop(columns=['customer_id','surname'],axis=1,inplace=True)"
   ]
  },
  {
   "cell_type": "markdown",
   "id": "46c7686e",
   "metadata": {},
   "source": [
    "### One hot encoding"
   ]
  },
  {
   "cell_type": "code",
   "execution_count": 11,
   "id": "3f349c47",
   "metadata": {},
   "outputs": [
    {
     "data": {
      "text/html": [
       "<div>\n",
       "<style scoped>\n",
       "    .dataframe tbody tr th:only-of-type {\n",
       "        vertical-align: middle;\n",
       "    }\n",
       "\n",
       "    .dataframe tbody tr th {\n",
       "        vertical-align: top;\n",
       "    }\n",
       "\n",
       "    .dataframe thead th {\n",
       "        text-align: right;\n",
       "    }\n",
       "</style>\n",
       "<table border=\"1\" class=\"dataframe\">\n",
       "  <thead>\n",
       "    <tr style=\"text-align: right;\">\n",
       "      <th></th>\n",
       "      <th>credit_score</th>\n",
       "      <th>age</th>\n",
       "      <th>tenure</th>\n",
       "      <th>balance</th>\n",
       "      <th>num_of_products</th>\n",
       "      <th>has_credit_card</th>\n",
       "      <th>is_active_member</th>\n",
       "      <th>estimated_salary</th>\n",
       "      <th>exited</th>\n",
       "      <th>geography_Germany</th>\n",
       "      <th>geography_Spain</th>\n",
       "      <th>gender_Male</th>\n",
       "    </tr>\n",
       "    <tr>\n",
       "      <th>RowNumber</th>\n",
       "      <th></th>\n",
       "      <th></th>\n",
       "      <th></th>\n",
       "      <th></th>\n",
       "      <th></th>\n",
       "      <th></th>\n",
       "      <th></th>\n",
       "      <th></th>\n",
       "      <th></th>\n",
       "      <th></th>\n",
       "      <th></th>\n",
       "      <th></th>\n",
       "    </tr>\n",
       "  </thead>\n",
       "  <tbody>\n",
       "    <tr>\n",
       "      <th>1</th>\n",
       "      <td>619</td>\n",
       "      <td>42</td>\n",
       "      <td>2.0</td>\n",
       "      <td>0.00</td>\n",
       "      <td>1</td>\n",
       "      <td>1</td>\n",
       "      <td>1</td>\n",
       "      <td>101348.88</td>\n",
       "      <td>1</td>\n",
       "      <td>0</td>\n",
       "      <td>0</td>\n",
       "      <td>0</td>\n",
       "    </tr>\n",
       "    <tr>\n",
       "      <th>2</th>\n",
       "      <td>608</td>\n",
       "      <td>41</td>\n",
       "      <td>1.0</td>\n",
       "      <td>83807.86</td>\n",
       "      <td>1</td>\n",
       "      <td>0</td>\n",
       "      <td>1</td>\n",
       "      <td>112542.58</td>\n",
       "      <td>0</td>\n",
       "      <td>0</td>\n",
       "      <td>1</td>\n",
       "      <td>0</td>\n",
       "    </tr>\n",
       "    <tr>\n",
       "      <th>3</th>\n",
       "      <td>502</td>\n",
       "      <td>42</td>\n",
       "      <td>8.0</td>\n",
       "      <td>159660.80</td>\n",
       "      <td>3</td>\n",
       "      <td>1</td>\n",
       "      <td>0</td>\n",
       "      <td>113931.57</td>\n",
       "      <td>1</td>\n",
       "      <td>0</td>\n",
       "      <td>0</td>\n",
       "      <td>0</td>\n",
       "    </tr>\n",
       "    <tr>\n",
       "      <th>4</th>\n",
       "      <td>699</td>\n",
       "      <td>39</td>\n",
       "      <td>1.0</td>\n",
       "      <td>0.00</td>\n",
       "      <td>2</td>\n",
       "      <td>0</td>\n",
       "      <td>0</td>\n",
       "      <td>93826.63</td>\n",
       "      <td>0</td>\n",
       "      <td>0</td>\n",
       "      <td>0</td>\n",
       "      <td>0</td>\n",
       "    </tr>\n",
       "    <tr>\n",
       "      <th>5</th>\n",
       "      <td>850</td>\n",
       "      <td>43</td>\n",
       "      <td>2.0</td>\n",
       "      <td>125510.82</td>\n",
       "      <td>1</td>\n",
       "      <td>1</td>\n",
       "      <td>1</td>\n",
       "      <td>79084.10</td>\n",
       "      <td>0</td>\n",
       "      <td>0</td>\n",
       "      <td>1</td>\n",
       "      <td>0</td>\n",
       "    </tr>\n",
       "  </tbody>\n",
       "</table>\n",
       "</div>"
      ],
      "text/plain": [
       "           credit_score  age  tenure    balance  num_of_products  \\\n",
       "RowNumber                                                          \n",
       "1                   619   42     2.0       0.00                1   \n",
       "2                   608   41     1.0   83807.86                1   \n",
       "3                   502   42     8.0  159660.80                3   \n",
       "4                   699   39     1.0       0.00                2   \n",
       "5                   850   43     2.0  125510.82                1   \n",
       "\n",
       "           has_credit_card  is_active_member  estimated_salary  exited  \\\n",
       "RowNumber                                                                \n",
       "1                        1                 1         101348.88       1   \n",
       "2                        0                 1         112542.58       0   \n",
       "3                        1                 0         113931.57       1   \n",
       "4                        0                 0          93826.63       0   \n",
       "5                        1                 1          79084.10       0   \n",
       "\n",
       "           geography_Germany  geography_Spain  gender_Male  \n",
       "RowNumber                                                   \n",
       "1                          0                0            0  \n",
       "2                          0                1            0  \n",
       "3                          0                0            0  \n",
       "4                          0                0            0  \n",
       "5                          0                1            0  "
      ]
     },
     "execution_count": 11,
     "metadata": {},
     "output_type": "execute_result"
    }
   ],
   "source": [
    "# Применим one hot encoding к датафрейму, избежав \"ловушку фиктивных признаков\"\n",
    "df_ohe=pd.get_dummies(df, drop_first=True)\n",
    "df_ohe.head()"
   ]
  },
  {
   "cell_type": "markdown",
   "id": "3e8be3e2",
   "metadata": {},
   "source": [
    "### Обработка пропусков"
   ]
  },
  {
   "cell_type": "code",
   "execution_count": 12,
   "id": "5dd76d06",
   "metadata": {},
   "outputs": [
    {
     "data": {
      "text/plain": [
       "0"
      ]
     },
     "execution_count": 12,
     "metadata": {},
     "output_type": "execute_result"
    }
   ],
   "source": [
    "#проверим данные на наличие дубликатов.\n",
    "df.duplicated().sum()"
   ]
  },
  {
   "cell_type": "code",
   "execution_count": 13,
   "id": "4a650ae5",
   "metadata": {},
   "outputs": [
    {
     "data": {
      "text/plain": [
       "1.0     952\n",
       "2.0     950\n",
       "8.0     933\n",
       "3.0     928\n",
       "5.0     927\n",
       "7.0     925\n",
       "4.0     885\n",
       "9.0     882\n",
       "6.0     881\n",
       "10.0    446\n",
       "0.0     382\n",
       "Name: tenure, dtype: int64"
      ]
     },
     "execution_count": 13,
     "metadata": {},
     "output_type": "execute_result"
    }
   ],
   "source": [
    "# посмотрим значения по столбцу Tenure\n",
    "df_ohe['tenure'].value_counts()"
   ]
  },
  {
   "cell_type": "code",
   "execution_count": 14,
   "id": "cbfd9cfe",
   "metadata": {},
   "outputs": [
    {
     "data": {
      "text/plain": [
       "<AxesSubplot:>"
      ]
     },
     "execution_count": 14,
     "metadata": {},
     "output_type": "execute_result"
    },
    {
     "data": {
      "image/png": "[encoded data removed]",
      "text/plain": [
       "<Figure size 432x288 with 1 Axes>"
      ]
     },
     "metadata": {
      "needs_background": "light"
     },
     "output_type": "display_data"
    }
   ],
   "source": [
    "# построим гистограмму по столбцу Tenure\n",
    "df_ohe['tenure'].hist(bins=11)"
   ]
  },
  {
   "cell_type": "code",
   "execution_count": 15,
   "id": "2313633d",
   "metadata": {},
   "outputs": [
    {
     "data": {
      "text/plain": [
       "0.0909"
      ]
     },
     "execution_count": 15,
     "metadata": {},
     "output_type": "execute_result"
    }
   ],
   "source": [
    "df_ohe['tenure'].isna().sum()/df_ohe.shape[0]"
   ]
  },
  {
   "cell_type": "markdown",
   "id": "51c1f7ae",
   "metadata": {},
   "source": [
    "Строк с пропусками в поле `tenure` 9%, может этим строки безболезненно удалить из датасета. "
   ]
  },
  {
   "cell_type": "code",
   "execution_count": 16,
   "id": "f99d5cf6",
   "metadata": {},
   "outputs": [
    {
     "name": "stdout",
     "output_type": "stream",
     "text": [
      "<class 'pandas.core.frame.DataFrame'>\n",
      "RangeIndex: 9091 entries, 0 to 9090\n",
      "Data columns (total 12 columns):\n",
      " #   Column             Non-Null Count  Dtype  \n",
      "---  ------             --------------  -----  \n",
      " 0   credit_score       9091 non-null   int64  \n",
      " 1   age                9091 non-null   int64  \n",
      " 2   tenure             9091 non-null   float64\n",
      " 3   balance            9091 non-null   float64\n",
      " 4   num_of_products    9091 non-null   int64  \n",
      " 5   has_credit_card    9091 non-null   int64  \n",
      " 6   is_active_member   9091 non-null   int64  \n",
      " 7   estimated_salary   9091 non-null   float64\n",
      " 8   exited             9091 non-null   int64  \n",
      " 9   geography_Germany  9091 non-null   uint8  \n",
      " 10  geography_Spain    9091 non-null   uint8  \n",
      " 11  gender_Male        9091 non-null   uint8  \n",
      "dtypes: float64(3), int64(6), uint8(3)\n",
      "memory usage: 666.0 KB\n"
     ]
    }
   ],
   "source": [
    "df_ohe = df_ohe.dropna(subset=['tenure']).reset_index(drop=True)\n",
    "df_ohe.info()\n",
    "\n",
    "#data = (np.random.randint(0,10,size=df_ohe['tenure'].isna().sum()))\n",
    "#df_ohe.loc[df_ohe['tenure'].isna(),'tenure']=data"
   ]
  },
  {
   "cell_type": "markdown",
   "id": "7e4552fa",
   "metadata": {},
   "source": [
    "Теперь пропуски отстутсвуют."
   ]
  },
  {
   "cell_type": "code",
   "execution_count": 17,
   "id": "2267ca1d",
   "metadata": {},
   "outputs": [],
   "source": [
    "# Создадим список с числовыми столбцами\n",
    "numeric = ['credit_score','age','balance','num_of_products','estimated_salary','tenure']"
   ]
  },
  {
   "cell_type": "code",
   "execution_count": 18,
   "id": "8b371dc8",
   "metadata": {},
   "outputs": [
    {
     "data": {
      "text/html": [
       "<style  type=\"text/css\" >\n",
       "#T_76727_row0_col0,#T_76727_row0_col1,#T_76727_row0_col2,#T_76727_row0_col3,#T_76727_row0_col4,#T_76727_row0_col5,#T_76727_row1_col0,#T_76727_row1_col1,#T_76727_row1_col2,#T_76727_row1_col3,#T_76727_row1_col4,#T_76727_row1_col5,#T_76727_row2_col0,#T_76727_row2_col1,#T_76727_row2_col2,#T_76727_row2_col3,#T_76727_row2_col4,#T_76727_row2_col5,#T_76727_row3_col0,#T_76727_row3_col1,#T_76727_row3_col2,#T_76727_row3_col3,#T_76727_row3_col4,#T_76727_row3_col5,#T_76727_row4_col0,#T_76727_row4_col1,#T_76727_row4_col2,#T_76727_row4_col3,#T_76727_row4_col4,#T_76727_row4_col5,#T_76727_row5_col0,#T_76727_row5_col1,#T_76727_row5_col2,#T_76727_row5_col3,#T_76727_row5_col4,#T_76727_row5_col5{\n",
       "            color:  black;\n",
       "        }</style><table id=\"T_76727_\" ><thead>    <tr>        <th class=\"blank level0\" ></th>        <th class=\"col_heading level0 col0\" >credit_score</th>        <th class=\"col_heading level0 col1\" >age</th>        <th class=\"col_heading level0 col2\" >balance</th>        <th class=\"col_heading level0 col3\" >num_of_products</th>        <th class=\"col_heading level0 col4\" >estimated_salary</th>        <th class=\"col_heading level0 col5\" >tenure</th>    </tr></thead><tbody>\n",
       "                <tr>\n",
       "                        <th id=\"T_76727_level0_row0\" class=\"row_heading level0 row0\" >credit_score</th>\n",
       "                        <td id=\"T_76727_row0_col0\" class=\"data row0 col0\" >1.000000</td>\n",
       "                        <td id=\"T_76727_row0_col1\" class=\"data row0 col1\" >-0.004504</td>\n",
       "                        <td id=\"T_76727_row0_col2\" class=\"data row0 col2\" >0.002804</td>\n",
       "                        <td id=\"T_76727_row0_col3\" class=\"data row0 col3\" >0.011090</td>\n",
       "                        <td id=\"T_76727_row0_col4\" class=\"data row0 col4\" >0.005182</td>\n",
       "                        <td id=\"T_76727_row0_col5\" class=\"data row0 col5\" >-0.000062</td>\n",
       "            </tr>\n",
       "            <tr>\n",
       "                        <th id=\"T_76727_level0_row1\" class=\"row_heading level0 row1\" >age</th>\n",
       "                        <td id=\"T_76727_row1_col0\" class=\"data row1 col0\" >-0.004504</td>\n",
       "                        <td id=\"T_76727_row1_col1\" class=\"data row1 col1\" >1.000000</td>\n",
       "                        <td id=\"T_76727_row1_col2\" class=\"data row1 col2\" >0.031481</td>\n",
       "                        <td id=\"T_76727_row1_col3\" class=\"data row1 col3\" >-0.031877</td>\n",
       "                        <td id=\"T_76727_row1_col4\" class=\"data row1 col4\" >-0.007037</td>\n",
       "                        <td id=\"T_76727_row1_col5\" class=\"data row1 col5\" >-0.013134</td>\n",
       "            </tr>\n",
       "            <tr>\n",
       "                        <th id=\"T_76727_level0_row2\" class=\"row_heading level0 row2\" >balance</th>\n",
       "                        <td id=\"T_76727_row2_col0\" class=\"data row2 col0\" >0.002804</td>\n",
       "                        <td id=\"T_76727_row2_col1\" class=\"data row2 col1\" >0.031481</td>\n",
       "                        <td id=\"T_76727_row2_col2\" class=\"data row2 col2\" >1.000000</td>\n",
       "                        <td id=\"T_76727_row2_col3\" class=\"data row2 col3\" >-0.301858</td>\n",
       "                        <td id=\"T_76727_row2_col4\" class=\"data row2 col4\" >0.014351</td>\n",
       "                        <td id=\"T_76727_row2_col5\" class=\"data row2 col5\" >-0.007911</td>\n",
       "            </tr>\n",
       "            <tr>\n",
       "                        <th id=\"T_76727_level0_row3\" class=\"row_heading level0 row3\" >num_of_products</th>\n",
       "                        <td id=\"T_76727_row3_col0\" class=\"data row3 col0\" >0.011090</td>\n",
       "                        <td id=\"T_76727_row3_col1\" class=\"data row3 col1\" >-0.031877</td>\n",
       "                        <td id=\"T_76727_row3_col2\" class=\"data row3 col2\" >-0.301858</td>\n",
       "                        <td id=\"T_76727_row3_col3\" class=\"data row3 col3\" >1.000000</td>\n",
       "                        <td id=\"T_76727_row3_col4\" class=\"data row3 col4\" >0.013990</td>\n",
       "                        <td id=\"T_76727_row3_col5\" class=\"data row3 col5\" >0.011979</td>\n",
       "            </tr>\n",
       "            <tr>\n",
       "                        <th id=\"T_76727_level0_row4\" class=\"row_heading level0 row4\" >estimated_salary</th>\n",
       "                        <td id=\"T_76727_row4_col0\" class=\"data row4 col0\" >0.005182</td>\n",
       "                        <td id=\"T_76727_row4_col1\" class=\"data row4 col1\" >-0.007037</td>\n",
       "                        <td id=\"T_76727_row4_col2\" class=\"data row4 col2\" >0.014351</td>\n",
       "                        <td id=\"T_76727_row4_col3\" class=\"data row4 col3\" >0.013990</td>\n",
       "                        <td id=\"T_76727_row4_col4\" class=\"data row4 col4\" >1.000000</td>\n",
       "                        <td id=\"T_76727_row4_col5\" class=\"data row4 col5\" >0.010520</td>\n",
       "            </tr>\n",
       "            <tr>\n",
       "                        <th id=\"T_76727_level0_row5\" class=\"row_heading level0 row5\" >tenure</th>\n",
       "                        <td id=\"T_76727_row5_col0\" class=\"data row5 col0\" >-0.000062</td>\n",
       "                        <td id=\"T_76727_row5_col1\" class=\"data row5 col1\" >-0.013134</td>\n",
       "                        <td id=\"T_76727_row5_col2\" class=\"data row5 col2\" >-0.007911</td>\n",
       "                        <td id=\"T_76727_row5_col3\" class=\"data row5 col3\" >0.011979</td>\n",
       "                        <td id=\"T_76727_row5_col4\" class=\"data row5 col4\" >0.010520</td>\n",
       "                        <td id=\"T_76727_row5_col5\" class=\"data row5 col5\" >1.000000</td>\n",
       "            </tr>\n",
       "    </tbody></table>"
      ],
      "text/plain": [
       "<pandas.io.formats.style.Styler at 0x7fdff9d3d760>"
      ]
     },
     "execution_count": 18,
     "metadata": {},
     "output_type": "execute_result"
    }
   ],
   "source": [
    "# посмотрим корреляцию факторов\n",
    "df_ohe.loc[:,numeric].corr().style.applymap(lambda x: f\"color: {'red' if (abs(x) > 0.5  and x !=1) else 'black'}\")"
   ]
  },
  {
   "cell_type": "code",
   "execution_count": 19,
   "id": "d33f5326",
   "metadata": {},
   "outputs": [
    {
     "data": {
      "image/png": "[encoded data removed]",
      "text/plain": [
       "<Figure size 432x288 with 2 Axes>"
      ]
     },
     "metadata": {
      "needs_background": "light"
     },
     "output_type": "display_data"
    }
   ],
   "source": [
    "# для наглядности построим heatmap матрицы корреляции\n",
    "sns.heatmap(df_ohe.loc[:,numeric].corr(),\n",
    "            xticklabels=df_ohe.loc[:,numeric].corr().columns,\n",
    "            yticklabels=df_ohe.loc[:,numeric].corr().columns)\n",
    "plt.title('Heatmap матрицы корреляции параметров исходных данных')\n",
    "plt.show()"
   ]
  },
  {
   "cell_type": "markdown",
   "id": "cf8f4e73",
   "metadata": {},
   "source": [
    "## Исследование задачи"
   ]
  },
  {
   "cell_type": "code",
   "execution_count": 20,
   "id": "3b000132",
   "metadata": {},
   "outputs": [
    {
     "data": {
      "text/plain": [
       "0    7237\n",
       "1    1854\n",
       "Name: exited, dtype: int64"
      ]
     },
     "execution_count": 20,
     "metadata": {},
     "output_type": "execute_result"
    }
   ],
   "source": [
    "df_ohe['exited'].value_counts()"
   ]
  },
  {
   "cell_type": "code",
   "execution_count": 21,
   "id": "03c05d82",
   "metadata": {},
   "outputs": [
    {
     "data": {
      "image/png": "[encoded data removed]",
      "text/plain": [
       "<Figure size 432x288 with 1 Axes>"
      ]
     },
     "metadata": {
      "needs_background": "light"
     },
     "output_type": "display_data"
    }
   ],
   "source": [
    "df_ohe['exited'].value_counts().plot(kind='bar');"
   ]
  },
  {
   "cell_type": "markdown",
   "id": "dcc9cf28",
   "metadata": {},
   "source": [
    "Тех кто остался больше чем тех кто ушел, в данных дисбаланс. Обучим модель с дисбалансом, затем сравним с моделью без дисбаланса."
   ]
  },
  {
   "cell_type": "markdown",
   "id": "07b3745c",
   "metadata": {},
   "source": [
    "Определение класса это задача классификации. Будем использовать дерево решений,случайный лес и логистическую регрессию."
   ]
  },
  {
   "cell_type": "markdown",
   "id": "aafebb97",
   "metadata": {},
   "source": [
    "Исходный набор данных поделим на три части: обучающую, валидационную и тестовую. Размеры тестового и валидационного наборов сделаю 60% / 20% / 20%"
   ]
  },
  {
   "cell_type": "markdown",
   "id": "e56dc8cc",
   "metadata": {},
   "source": [
    "### Разделение данных на выборки"
   ]
  },
  {
   "cell_type": "code",
   "execution_count": 22,
   "id": "25a9b289",
   "metadata": {},
   "outputs": [
    {
     "name": "stdout",
     "output_type": "stream",
     "text": [
      "(5454, 11) (1818, 11) (1819, 11)\n",
      "(5454,) (1818,) (1819,)\n"
     ]
    }
   ],
   "source": [
    "target = df_ohe['exited']\n",
    "features = df_ohe.drop('exited', axis=1)\n",
    "\n",
    "features_train, features_valid, target_train, target_valid = train_test_split(features, target, test_size=0.4, \n",
    "                                                                              random_state=12345, stratify=target)\n",
    "features_valid, features_test, target_valid, target_test = train_test_split(features_valid, target_valid, test_size=0.5, \n",
    "                                                                              random_state=12345, stratify=target_valid)\n",
    "print(features_train.shape, features_valid.shape, features_test.shape)\n",
    "print(target_train.shape, target_valid.shape, target_test.shape)"
   ]
  },
  {
   "cell_type": "code",
   "execution_count": 23,
   "id": "a9ab1949",
   "metadata": {},
   "outputs": [],
   "source": [
    "scaler = StandardScaler()\n",
    "scaler.fit(features_train[numeric])\n",
    "features_train[numeric] = scaler.transform(features_train[numeric])\n",
    "features_valid[numeric] = scaler.transform(features_valid[numeric])\n",
    "features_test[numeric] = scaler.transform(features_test[numeric])"
   ]
  },
  {
   "cell_type": "markdown",
   "id": "1c6e99db",
   "metadata": {},
   "source": [
    "### Проверка на Logistic Regression"
   ]
  },
  {
   "cell_type": "code",
   "execution_count": 24,
   "id": "1d6bdd60",
   "metadata": {},
   "outputs": [
    {
     "name": "stdout",
     "output_type": "stream",
     "text": [
      "F1 0.3306772908366534\n",
      "CPU times: user 20.4 ms, sys: 4.21 ms, total: 24.6 ms\n",
      "Wall time: 13.6 ms\n"
     ]
    }
   ],
   "source": [
    "%%time\n",
    "\n",
    "model = LogisticRegression(random_state=12345, solver='liblinear')\n",
    "model.fit(features_train, target_train)\n",
    "predicted_valid = model.predict(features_valid)\n",
    "print('F1', f1_score(target_valid, predicted_valid))"
   ]
  },
  {
   "cell_type": "markdown",
   "id": "5e399ddc",
   "metadata": {},
   "source": [
    "Показатели F1 при дисбалансе на логистической регрессии, далеки от хороших."
   ]
  },
  {
   "cell_type": "markdown",
   "id": "60712688",
   "metadata": {},
   "source": [
    "### Проверка на Decision Tree Classifier"
   ]
  },
  {
   "cell_type": "code",
   "execution_count": 25,
   "id": "7b64a707",
   "metadata": {},
   "outputs": [
    {
     "name": "stdout",
     "output_type": "stream",
     "text": [
      "Лучшая F-мера 0.5815126050420169 cо значением глубины = 7\n",
      "CPU times: user 562 ms, sys: 1.21 ms, total: 563 ms\n",
      "Wall time: 575 ms\n"
     ]
    }
   ],
   "source": [
    "%%time\n",
    "\n",
    "best_model_tree = None\n",
    "best_result = 0\n",
    "\n",
    "for depth in range(2, 30):\n",
    "    model_tree = DecisionTreeClassifier(random_state=12345, max_depth=depth)\n",
    "    model_tree.fit(features_train, target_train)\n",
    "    predicted_valid = model_tree.predict(features_valid)\n",
    "    #print('Max depth:', depth,'F1-score:', f1_score(target_valid, predicted_valid))\n",
    "    result = f1_score(target_valid, predicted_valid)\n",
    "    \n",
    "    if best_result < result:\n",
    "        best_result = result\n",
    "        best_depth_for_decision_tree = depth\n",
    "        best_model_tree = model_tree\n",
    "\n",
    "        \n",
    "print(\"Лучшая F-мера\", best_result, 'cо значением глубины =', best_depth_for_decision_tree)\n"
   ]
  },
  {
   "cell_type": "markdown",
   "id": "5c2f8025",
   "metadata": {},
   "source": [
    "Лучший показатель при глубине 7  F1-score: 0.5815126050420169."
   ]
  },
  {
   "cell_type": "markdown",
   "id": "6d7fba34",
   "metadata": {},
   "source": [
    "### Проверка на Random Forest Classifier"
   ]
  },
  {
   "cell_type": "code",
   "execution_count": 26,
   "id": "b2eda077",
   "metadata": {},
   "outputs": [
    {
     "name": "stdout",
     "output_type": "stream",
     "text": [
      "Лучшая F-мера 0.6166394779771615 при глубине = 19 и количестве деревьев = 48\n",
      "CPU times: user 30.5 s, sys: 121 ms, total: 30.6 s\n",
      "Wall time: 31.3 s\n"
     ]
    }
   ],
   "source": [
    "%%time\n",
    "\n",
    "best_model_rf = None\n",
    "best_result = 0\n",
    "best_depth = 0\n",
    "best_est = 0\n",
    "\n",
    "for estimator in range(10, 50, 2):\n",
    "    for depth in range(10, 20):\n",
    "        model_rf =  RandomForestClassifier(random_state=12345, \n",
    "                                           n_estimators=estimator, \n",
    "                                           max_depth = depth)\n",
    "        model_rf.fit(features_train, target_train)\n",
    "        predicted_valid = model_rf.predict(features_valid)\n",
    "        #print('N estimators:', estimator, \n",
    "        #      'Глубина:', depth, \n",
    "        #     'F1:', f1_score(target_valid, predicted_valid))\n",
    "        result = f1_score(target_valid, predicted_valid) \n",
    "        \n",
    "        if result > best_result:\n",
    "            best_model_rf = model_rf\n",
    "            best_result = result\n",
    "            best_depth_for_random_forest = depth\n",
    "            best_est = estimator\n",
    "\n",
    "print(\"Лучшая F-мера\", best_result, \n",
    "      'при глубине = {0} и количестве деревьев = {1}'.format(best_depth_for_random_forest, best_est))\n"
   ]
  },
  {
   "cell_type": "markdown",
   "id": "13ee95c3",
   "metadata": {},
   "source": [
    "Лучшая F-мера 0.6166394779771615 при глубине = 19 и количестве деревьев = 48\n",
    "\n",
    "Проведем оценку accuracy, precision и recall, а также посмотрим F-метрику."
   ]
  },
  {
   "cell_type": "code",
   "execution_count": 27,
   "id": "6faa1f82",
   "metadata": {},
   "outputs": [
    {
     "name": "stdout",
     "output_type": "stream",
     "text": [
      "Логистическая регрессия\n",
      "Точность попадания по классам 0.8151815181518152\n",
      "Precision 0.6335877862595419\n",
      "Recall 0.22371967654986524\n",
      "F1 0.3306772908366534\n",
      "\n",
      "Решающее дерево\n",
      "Точность попадания по классам 0.863036303630363\n",
      "Precision 0.7723214285714286\n",
      "Recall 0.46630727762803237\n",
      "F1 0.5815126050420169\n",
      "\n",
      "Случайный лес\n",
      "Точность попадания по классам 0.8707370737073707\n",
      "Precision 0.78099173553719\n",
      "Recall 0.5094339622641509\n",
      "F1 0.6166394779771615\n",
      "\n",
      "CPU times: user 329 ms, sys: 111 ms, total: 440 ms\n",
      "Wall time: 445 ms\n"
     ]
    }
   ],
   "source": [
    "%%time\n",
    "\n",
    "model = LogisticRegression(random_state=12345, solver='liblinear')\n",
    "model.fit(features_train, target_train)\n",
    "predicted_valid = model.predict(features_valid)\n",
    "print('Логистическая регрессия')\n",
    "print('Точность попадания по классам', accuracy_score(target_valid, predicted_valid))\n",
    "print('Precision', precision_score(target_valid, predicted_valid))\n",
    "print('Recall', recall_score(target_valid, predicted_valid))\n",
    "print('F1', f1_score(target_valid, predicted_valid))\n",
    "print()\n",
    "\n",
    "model = DecisionTreeClassifier(random_state=12345, max_depth=best_depth_for_decision_tree)\n",
    "model.fit(features_train, target_train)\n",
    "predicted_valid = model.predict(features_valid)\n",
    "print('Решающее дерево')\n",
    "print('Точность попадания по классам', accuracy_score(target_valid, predicted_valid))\n",
    "print('Precision', precision_score(target_valid, predicted_valid))\n",
    "print('Recall', recall_score(target_valid, predicted_valid))\n",
    "print('F1', f1_score(target_valid, predicted_valid))\n",
    "print()\n",
    "\n",
    "model = RandomForestClassifier(random_state=12345, n_estimators=best_est, max_depth=best_depth_for_random_forest)\n",
    "model.fit(features_train, target_train)\n",
    "predicted_valid = model.predict(features_valid)\n",
    "print('Случайный лес')\n",
    "print('Точность попадания по классам', accuracy_score(target_valid, predicted_valid))\n",
    "print('Precision', precision_score(target_valid, predicted_valid))\n",
    "print('Recall', recall_score(target_valid, predicted_valid))\n",
    "print('F1', f1_score(target_valid, predicted_valid))\n",
    "print()"
   ]
  },
  {
   "cell_type": "markdown",
   "id": "58f9d01a",
   "metadata": {},
   "source": [
    "### Вывод"
   ]
  },
  {
   "cell_type": "markdown",
   "id": "d732ccc1",
   "metadata": {},
   "source": [
    "\n",
    "- `Logistic Regression`: F1 - 0.3306772908366534;\n",
    "- `Decision Tree Classifier`: Лучшая F-мера - 0.5815126050420169 (глубина = 7);\n",
    "- `Random Forest Classifier`:  Лучшая F-мера -  0.6166394779771615 (глубина = 19, количество деревьев = 48).\n",
    "\n",
    "Если не брать во внимание, что в данных присутствует дисбаланс, то лучшее значение F-меры 0.6166394779771615 у модели Случайный лес при глубине = 19 и количестве деревьев = 48, при этом точность - 0.78, а полнота - 0.5."
   ]
  },
  {
   "cell_type": "markdown",
   "id": "7b3b7642",
   "metadata": {},
   "source": [
    "## Борьба с дисбалансом"
   ]
  },
  {
   "cell_type": "markdown",
   "id": "acc65854",
   "metadata": {},
   "source": [
    "### Балансировка классов"
   ]
  },
  {
   "cell_type": "markdown",
   "id": "e212b4d1",
   "metadata": {},
   "source": [
    "Придадим объектам редкого класса `1` больший вес, используя гиперпараметр class_weight='balanced'."
   ]
  },
  {
   "cell_type": "markdown",
   "id": "0214e54c",
   "metadata": {},
   "source": [
    "#### Logistic Regression"
   ]
  },
  {
   "cell_type": "code",
   "execution_count": 28,
   "id": "6dc443f9",
   "metadata": {},
   "outputs": [
    {
     "name": "stdout",
     "output_type": "stream",
     "text": [
      "Логистическая регрессия\n",
      "Точность попадания по классам 0.7095709570957096\n",
      "Precision 0.3876967095851216\n",
      "Recall 0.7304582210242587\n",
      "F1 0.5065420560747663\n",
      "\n",
      "CPU times: user 41.6 ms, sys: 24.4 ms, total: 66 ms\n",
      "Wall time: 24.8 ms\n"
     ]
    }
   ],
   "source": [
    "%%time\n",
    "\n",
    "model = LogisticRegression(random_state=12345, solver='liblinear', class_weight='balanced')\n",
    "model.fit(features_train, target_train)\n",
    "predicted_valid = model.predict(features_valid)\n",
    "print('Логистическая регрессия')\n",
    "print('Точность попадания по классам', accuracy_score(target_valid, predicted_valid))\n",
    "print('Precision', precision_score(target_valid, predicted_valid))\n",
    "print('Recall', recall_score(target_valid, predicted_valid))\n",
    "print('F1', f1_score(target_valid, predicted_valid))\n",
    "print()"
   ]
  },
  {
   "cell_type": "markdown",
   "id": "bfc49a98",
   "metadata": {},
   "source": [
    "#### Decision Tree Classifier"
   ]
  },
  {
   "cell_type": "code",
   "execution_count": 29,
   "id": "851c3897",
   "metadata": {},
   "outputs": [
    {
     "name": "stdout",
     "output_type": "stream",
     "text": [
      "Лучшая F-мера 0.583084577114428 cо значением глубины = 6\n",
      "CPU times: user 362 ms, sys: 47.7 ms, total: 409 ms\n",
      "Wall time: 440 ms\n"
     ]
    }
   ],
   "source": [
    "%%time\n",
    "\n",
    "best_model_tree_balance = None\n",
    "best_result_balance = 0\n",
    "\n",
    "for depth in range(2, 20):\n",
    "    model_tree_balance = DecisionTreeClassifier(random_state=12345, \n",
    "                                                max_depth=depth, \n",
    "                                                class_weight='balanced')\n",
    "    model_tree_balance.fit(features_train, target_train)\n",
    "    predicted_valid = model_tree_balance.predict(features_valid)\n",
    "    #print('Max depth:', depth,'F1-score:', f1_score(target_valid, predicted_valid))\n",
    "    result = f1_score(target_valid, predicted_valid)\n",
    "    \n",
    "    if best_result_balance < result:\n",
    "        best_result_balance = result\n",
    "        best_depth_for_decision_tree = depth\n",
    "        best_model_tree_balance = model_tree_balance\n",
    "\n",
    "print(\"Лучшая F-мера\", best_result_balance, \n",
    "      'cо значением глубины =', best_depth_for_decision_tree)"
   ]
  },
  {
   "cell_type": "markdown",
   "id": "4b527e9a",
   "metadata": {},
   "source": [
    "Лучшая F-мера 0.583084577114428  cо значением глубины = 6."
   ]
  },
  {
   "cell_type": "markdown",
   "id": "e6fba1d3",
   "metadata": {},
   "source": [
    "#### Random Forest Classifier"
   ]
  },
  {
   "cell_type": "code",
   "execution_count": 30,
   "id": "a075c87a",
   "metadata": {},
   "outputs": [
    {
     "name": "stdout",
     "output_type": "stream",
     "text": [
      "Лучшая F-мера 0.646112600536193 при глубине = 10 и количестве деревьев = 210\n",
      "CPU times: user 1min 55s, sys: 741 ms, total: 1min 56s\n",
      "Wall time: 1min 56s\n"
     ]
    }
   ],
   "source": [
    "%%time\n",
    "\n",
    "best_model_rf_balance = None\n",
    "best_result_balance = 0\n",
    "best_depth_balance = 0\n",
    "best_est_balance = 0\n",
    "\n",
    "for estimator in range(10, 300, 20):\n",
    "    for depth in range(10, 20):\n",
    "        model_rf_balance =  RandomForestClassifier(random_state=12345, \n",
    "                                                   n_estimators=estimator, \n",
    "                                                   max_depth = depth, \n",
    "                                                   class_weight='balanced')\n",
    "        model_rf_balance.fit(features_train, target_train)\n",
    "        predicted_valid = model_rf_balance.predict(features_valid)\n",
    "        #print('N estimators:', estimator, \n",
    "        #      'Глубина:', depth, \n",
    "        #      'F1:', f1_score(target_valid, predicted_valid))\n",
    "        result = f1_score(target_valid, predicted_valid) \n",
    "        \n",
    "        if result > best_result_balance:\n",
    "            best_model_rf_balance = model_rf_balance\n",
    "            best_result_balance = result\n",
    "            best_depth_for_random_forest = depth\n",
    "            best_est_balance = estimator\n",
    "\n",
    "print(\"Лучшая F-мера\", best_result_balance, \n",
    "      'при глубине = {0} и количестве деревьев = {1}'.format(best_depth_for_random_forest, best_est_balance))"
   ]
  },
  {
   "cell_type": "markdown",
   "id": "0ec54644",
   "metadata": {},
   "source": [
    "Лучшая F-мера 0.646112600536193 при глубине = 10 и количестве деревьев = 210"
   ]
  },
  {
   "cell_type": "markdown",
   "id": "f60dbbff",
   "metadata": {},
   "source": [
    "### Upsampling"
   ]
  },
  {
   "cell_type": "markdown",
   "id": "2ebe2f0c",
   "metadata": {},
   "source": [
    "Увеличим объекты редкого класса и заново обучим модели."
   ]
  },
  {
   "cell_type": "code",
   "execution_count": 31,
   "id": "9dcc37bc",
   "metadata": {},
   "outputs": [
    {
     "name": "stdout",
     "output_type": "stream",
     "text": [
      "1    4448\n",
      "0    4342\n",
      "Name: exited, dtype: int64\n"
     ]
    }
   ],
   "source": [
    "def upsample(features, target, repeat):\n",
    "    features_zeros = features[target == 0]\n",
    "    features_ones = features[target == 1]\n",
    "    target_zeros = target[target == 0]\n",
    "    target_ones = target[target == 1]\n",
    "\n",
    "    features_upsampled = pd.concat([features_zeros] + [features_ones] * repeat)\n",
    "    target_upsampled = pd.concat([target_zeros] + [target_ones] * repeat)\n",
    "    \n",
    "    features_upsampled, target_upsampled = shuffle(\n",
    "        features_upsampled, target_upsampled, random_state=12345)\n",
    "    \n",
    "    return features_upsampled, target_upsampled\n",
    "\n",
    "features_upsampled, target_upsampled = upsample(features_train, target_train, 4)\n",
    "\n",
    "print(target_upsampled.value_counts())"
   ]
  },
  {
   "cell_type": "markdown",
   "id": "04064c62",
   "metadata": {},
   "source": [
    "#### Logistic Regression\n",
    "\n"
   ]
  },
  {
   "cell_type": "code",
   "execution_count": 32,
   "id": "7cf336f8",
   "metadata": {},
   "outputs": [
    {
     "name": "stdout",
     "output_type": "stream",
     "text": [
      "Логистическая регрессия\n",
      "Точность попадания по классам 0.7057205720572057\n",
      "Precision 0.3845070422535211\n",
      "Recall 0.7358490566037735\n",
      "F1 0.5050878815911193\n",
      "\n",
      "CPU times: user 20.5 ms, sys: 47.8 ms, total: 68.4 ms\n",
      "Wall time: 91.7 ms\n"
     ]
    }
   ],
   "source": [
    "%%time\n",
    "\n",
    "model = LogisticRegression(random_state=12345, solver='liblinear')\n",
    "model.fit(features_upsampled, target_upsampled)\n",
    "predicted_valid = model.predict(features_valid)\n",
    "print('Логистическая регрессия')\n",
    "print('Точность попадания по классам', accuracy_score(target_valid, predicted_valid))\n",
    "print('Precision', precision_score(target_valid, predicted_valid))\n",
    "print('Recall', recall_score(target_valid, predicted_valid))\n",
    "print('F1', f1_score(target_valid, predicted_valid))\n",
    "print()"
   ]
  },
  {
   "cell_type": "markdown",
   "id": "3d009104",
   "metadata": {},
   "source": [
    "#### Decision Tree Classifier"
   ]
  },
  {
   "cell_type": "code",
   "execution_count": 33,
   "id": "91bdb11e",
   "metadata": {},
   "outputs": [
    {
     "name": "stdout",
     "output_type": "stream",
     "text": [
      "Лучшая F-мера 0.5825049701789264 cо значением глубины = 6\n",
      "CPU times: user 393 ms, sys: 39.8 ms, total: 433 ms\n",
      "Wall time: 497 ms\n"
     ]
    }
   ],
   "source": [
    "%%time\n",
    "\n",
    "\n",
    "best_model_tree_upsmple = None\n",
    "best_result_upsmple = 0\n",
    "\n",
    "for depth in range(2, 20):\n",
    "    model_tree_upsmple = DecisionTreeClassifier(random_state=12345, \n",
    "                                                max_depth=depth)\n",
    "    model_tree_upsmple.fit(features_upsampled, target_upsampled)\n",
    "    predicted_valid = model_tree_upsmple.predict(features_valid)\n",
    "    #print('Max depth:', depth,'F1-score:', f1_score(target_valid, predicted_valid))\n",
    "    result = f1_score(target_valid, predicted_valid)\n",
    "    \n",
    "    if best_result_upsmple < result:\n",
    "        best_result_upsmple = result\n",
    "        max_depth_upsmple = depth\n",
    "        best_model_tree_upsmple = model_tree_upsmple\n",
    "\n",
    "print(\"Лучшая F-мера\", best_result_upsmple, 'cо значением глубины =', max_depth_upsmple)"
   ]
  },
  {
   "cell_type": "markdown",
   "id": "cce77525",
   "metadata": {},
   "source": [
    "Лучшая F-мера 0.5825049701789264  cо значением глубины = 6"
   ]
  },
  {
   "cell_type": "markdown",
   "id": "af1855aa",
   "metadata": {},
   "source": [
    "#### Random Forest Classifier"
   ]
  },
  {
   "cell_type": "code",
   "execution_count": 34,
   "id": "79f725ea",
   "metadata": {},
   "outputs": [
    {
     "name": "stdout",
     "output_type": "stream",
     "text": [
      "Лучшая F-мера 0.6534914361001316 при глубине = 12 и количестве деревьев = 130\n",
      "CPU times: user 2min 36s, sys: 548 ms, total: 2min 36s\n",
      "Wall time: 2min 36s\n"
     ]
    }
   ],
   "source": [
    "%%time\n",
    "\n",
    "best_model_rf_upsample = None\n",
    "best_result_upsample = 0\n",
    "best_depth_upsample = 0\n",
    "best_est_upsample = 0\n",
    "\n",
    "for estimator in range(10, 300, 20):\n",
    "    for depth in range(10, 20):\n",
    "        model_rf_upsample =  RandomForestClassifier(random_state=12345, \n",
    "                                                    n_estimators=estimator, \n",
    "                                                    max_depth = depth)\n",
    "        model_rf_upsample.fit(features_upsampled, target_upsampled)\n",
    "        predicted_valid = model_rf_upsample.predict(features_valid)\n",
    "        #print('N estimators:', estimator, \n",
    "        #     'Глубина:', depth, \n",
    "        #      'F1:', f1_score(target_valid, predicted_valid))\n",
    "        result = f1_score(target_valid, predicted_valid) \n",
    "        \n",
    "        if result > best_result_upsample:\n",
    "            best_model_rf_upsample = model_rf_upsample\n",
    "            best_result_upsample = result\n",
    "            best_depth_upsample = depth\n",
    "            best_est_upsample = estimator\n",
    "\n",
    "print(\"Лучшая F-мера\", best_result_upsample, \n",
    "      'при глубине = {0} и количестве деревьев = {1}'.format(best_depth_upsample,best_est_upsample))"
   ]
  },
  {
   "cell_type": "markdown",
   "id": "c0b50ad1",
   "metadata": {},
   "source": [
    "Лучшая F-мера 0.6534914361001316 при глубине = 12 и количестве деревьев = 130"
   ]
  },
  {
   "cell_type": "markdown",
   "id": "93a64112",
   "metadata": {},
   "source": [
    "### Downsampling"
   ]
  },
  {
   "cell_type": "markdown",
   "id": "9e068cea",
   "metadata": {},
   "source": [
    "Теперь уменьшим выборку и посмотрим результаты."
   ]
  },
  {
   "cell_type": "code",
   "execution_count": 35,
   "id": "0aea1686",
   "metadata": {},
   "outputs": [
    {
     "name": "stdout",
     "output_type": "stream",
     "text": [
      "1    1112\n",
      "0    1086\n",
      "Name: exited, dtype: int64\n"
     ]
    }
   ],
   "source": [
    "def downsample(features, target, fraction):\n",
    "    features_zeros = features[target == 0]\n",
    "    features_ones = features[target == 1]\n",
    "    target_zeros = target[target == 0]\n",
    "    target_ones = target[target == 1]\n",
    "\n",
    "    features_downsampled = pd.concat(\n",
    "        [features_zeros.sample(frac=fraction, random_state=12345)] + [features_ones])\n",
    "    target_downsampled = pd.concat(\n",
    "        [target_zeros.sample(frac=fraction, random_state=12345)] + [target_ones])\n",
    "    \n",
    "    features_downsampled, target_downsampled = shuffle(\n",
    "        features_downsampled, target_downsampled, random_state=12345)\n",
    "    \n",
    "    return features_downsampled, target_downsampled\n",
    "\n",
    "features_downsampled, target_downsampled = downsample(features_train, target_train, 0.25)\n",
    "\n",
    "print(target_downsampled.value_counts())"
   ]
  },
  {
   "cell_type": "markdown",
   "id": "e14b2294",
   "metadata": {},
   "source": [
    "#### Logistic Regression"
   ]
  },
  {
   "cell_type": "code",
   "execution_count": 36,
   "id": "bc687eb8",
   "metadata": {},
   "outputs": [
    {
     "name": "stdout",
     "output_type": "stream",
     "text": [
      "Логистическая регрессия\n",
      "Точность попадания по классам 0.7068206820682068\n",
      "Precision 0.38687150837988826\n",
      "Recall 0.7466307277628033\n",
      "F1 0.5096596136154553\n",
      "\n",
      "CPU times: user 12.6 ms, sys: 43.9 ms, total: 56.4 ms\n",
      "Wall time: 76.3 ms\n"
     ]
    }
   ],
   "source": [
    "%%time\n",
    "\n",
    "model = LogisticRegression(random_state=12345, solver='liblinear')\n",
    "model.fit(features_downsampled, target_downsampled)\n",
    "predicted_valid = model.predict(features_valid)\n",
    "print('Логистическая регрессия')\n",
    "print('Точность попадания по классам', accuracy_score(target_valid, predicted_valid))\n",
    "print('Precision', precision_score(target_valid, predicted_valid))\n",
    "print('Recall', recall_score(target_valid, predicted_valid))\n",
    "print('F1', f1_score(target_valid, predicted_valid))\n",
    "print()"
   ]
  },
  {
   "cell_type": "markdown",
   "id": "22d6323d",
   "metadata": {},
   "source": [
    "#### Decision Tree Classifier"
   ]
  },
  {
   "cell_type": "code",
   "execution_count": 37,
   "id": "b47baeaf",
   "metadata": {},
   "outputs": [
    {
     "name": "stdout",
     "output_type": "stream",
     "text": [
      "Лучшая F-мера 0.5688442211055276 cо значением глубины = 6\n",
      "CPU times: user 168 ms, sys: 1 µs, total: 168 ms\n",
      "Wall time: 167 ms\n"
     ]
    }
   ],
   "source": [
    "%%time\n",
    "\n",
    "\n",
    "best_model_tree_downsample = None\n",
    "best_result_downsample = 0\n",
    "\n",
    "for depth in range(2, 20):\n",
    "    model_tree_downsample = DecisionTreeClassifier(random_state=12345, \n",
    "                                                   max_depth=depth)\n",
    "    model_tree_downsample.fit(features_downsampled, target_downsampled)\n",
    "    predicted_valid = model_tree_downsample.predict(features_valid)\n",
    "    #print('Max depth:', depth,'F1-score:', f1_score(target_valid, predicted_valid))\n",
    "    result = f1_score(target_valid, predicted_valid)\n",
    "    \n",
    "    if best_result_downsample < result:\n",
    "        best_result_downsample = result\n",
    "        max_depth_downsample = depth\n",
    "        best_model_tree_downsample = model_tree_downsample\n",
    "\n",
    "print(\"Лучшая F-мера\", best_result_downsample, \n",
    "      'cо значением глубины =', max_depth_downsample)"
   ]
  },
  {
   "cell_type": "markdown",
   "id": "ad20e529",
   "metadata": {},
   "source": [
    "Лучшая F-мера 0.5688442211055276  cо значением глубины = 6"
   ]
  },
  {
   "cell_type": "markdown",
   "id": "5942d757",
   "metadata": {},
   "source": [
    "#### Random Forest Classifier"
   ]
  },
  {
   "cell_type": "code",
   "execution_count": 38,
   "id": "4fd1c98a",
   "metadata": {},
   "outputs": [
    {
     "name": "stdout",
     "output_type": "stream",
     "text": [
      "Лучшая F-мера 0.616822429906542 при глубине = 12 и количестве деревьев = 190\n",
      "CPU times: user 1min 3s, sys: 556 ms, total: 1min 3s\n",
      "Wall time: 1min 3s\n"
     ]
    }
   ],
   "source": [
    "%%time\n",
    "\n",
    "best_model_rf_downsample = None\n",
    "best_result_downsample = 0\n",
    "best_depth_downsample = 0\n",
    "best_est_downsample = 0\n",
    "\n",
    "for estimator in range(10, 300, 20):\n",
    "    for depth in range(10, 20):\n",
    "        model_rf_downsample =  RandomForestClassifier(random_state=12345, \n",
    "                                                      n_estimators=estimator, \n",
    "                                                      max_depth = depth)\n",
    "        model_rf_downsample.fit(features_downsampled, target_downsampled)\n",
    "        predicted_valid = model_rf_downsample.predict(features_valid)\n",
    "        #print('N estimators:', estimator, \n",
    "        #      'Глубина:', depth, \n",
    "         #     'F1:', f1_score(target_valid, predicted_valid))\n",
    "        result = f1_score(target_valid, predicted_valid) \n",
    "        \n",
    "        if result > best_result_downsample:\n",
    "            best_model_rf_downsample = model_rf_downsample\n",
    "            best_result_downsample = result\n",
    "            best_depth_downsample = depth\n",
    "            best_est_downsample = estimator\n",
    "\n",
    "print(\"Лучшая F-мера\", best_result_downsample, \n",
    "      'при глубине = {0} и количестве деревьев = {1}'.format(best_depth_downsample,best_est_downsample))"
   ]
  },
  {
   "cell_type": "markdown",
   "id": "d858e9b3",
   "metadata": {},
   "source": [
    "Лучшая F-мера 0.616822429906542 при глубине = 12 и количестве деревьев = 190."
   ]
  },
  {
   "cell_type": "markdown",
   "id": "78800949",
   "metadata": {},
   "source": [
    "### Вывод"
   ]
  },
  {
   "cell_type": "markdown",
   "id": "59692205",
   "metadata": {},
   "source": [
    "**Балансировка**\n",
    "- `Logistic Regression`: F1 - 0.5065420560747663;\n",
    "- `Decision Tree Classifier`: Лучшая F-мера - 0.583084577114428 (глубина = 6);\n",
    "- `Random Forest Classifier`:  Лучшая F-мера - 0.646112600536193  (глубина = 10, количество деревьев = 210).\n",
    "\n",
    "**Upsampling**\n",
    "- `Logistic Regression`: F1 - 0.5050878815911193;\n",
    "- `Decision Tree Classifier`: Лучшая F-мера - 0.5825049701789264 (глубина = 6);\n",
    "- `Random Forest Classifier`:  Лучшая F-мера - **0.6534914361001316** (глубина = 16, количество деревьев = 130).\n",
    "\n",
    "**Downsampling**\n",
    "- `Logistic Regression`: F1 - 0.5096596136154553;\n",
    "- `Decision Tree Classifier`: Лучшая F-мера - 0.5688442211055276 (глубина = 6);\n",
    "- `Random Forest Classifier`:  Лучшая F-мера - 0.6264367816091954  (глубина = 12, количество деревьев = 190).\n"
   ]
  },
  {
   "cell_type": "markdown",
   "id": "3527687d",
   "metadata": {},
   "source": [
    "### ROC-кривая"
   ]
  },
  {
   "cell_type": "markdown",
   "id": "39303b4e",
   "metadata": {},
   "source": [
    "Выведем ROC-кривую и AUC-ROC лучшей модели."
   ]
  },
  {
   "cell_type": "code",
   "execution_count": 39,
   "id": "24a459c2",
   "metadata": {},
   "outputs": [
    {
     "name": "stdout",
     "output_type": "stream",
     "text": [
      "AUC-ROC RandomForestClassifier 0.8664771615965368\n"
     ]
    },
    {
     "data": {
      "image/png": "[encoded data removed]",
      "text/plain": [
       "<Figure size 864x648 with 1 Axes>"
      ]
     },
     "metadata": {
      "needs_background": "light"
     },
     "output_type": "display_data"
    }
   ],
   "source": [
    "plt.figure(figsize=[12,9])\n",
    "\n",
    "plt.plot([0, 1], [0, 1], linestyle='--', label='RandomModel')\n",
    "\n",
    "model_randomforest_upsample =  RandomForestClassifier(random_state=12345, \n",
    "                                n_estimators=130, \n",
    "                                max_depth = 16)\n",
    "model_randomforest_upsample.fit(features_upsampled, target_upsampled)\n",
    "predicted_valid = model_randomforest_upsample.predict(features_valid)\n",
    "probabilities_valid = model_randomforest_upsample.predict_proba(features_valid)\n",
    "probabilities_one_valid = probabilities_valid[:, 1]\n",
    "\n",
    "fpr, tpr, thresholds = roc_curve(target_valid, probabilities_one_valid)\n",
    "auc_roc = roc_auc_score(target_valid, probabilities_one_valid)\n",
    "print('AUC-ROC RandomForestClassifier',auc_roc)\n",
    "plt.plot(fpr, tpr, label='RandomForestClassifier')\n",
    "\n",
    "plt.xlim([0,1])\n",
    "plt.ylim([0,1])\n",
    "\n",
    "plt.xlabel(\"False Positive Rate\")\n",
    "plt.ylabel(\"True Positive Rate\")\n",
    "\n",
    "plt.legend(loc='lower right', fontsize='x-large')\n",
    "\n",
    "plt.title(\"ROC-кривая\")\n",
    "plt.show()"
   ]
  },
  {
   "cell_type": "markdown",
   "id": "da3a735c",
   "metadata": {},
   "source": [
    "Судя по графику модель далека от случайной, площадь которой была бы равна 0,5."
   ]
  },
  {
   "cell_type": "markdown",
   "id": "4b1f7930",
   "metadata": {},
   "source": [
    "## Тестирование модели"
   ]
  },
  {
   "cell_type": "markdown",
   "id": "88a5b3bb",
   "metadata": {},
   "source": [
    "Модель случайного леса на увеличенной выборке показала лучшее значение F-меры. Поэтому тестировать будем эту модель на выборке, которую эта можель еще не видела."
   ]
  },
  {
   "cell_type": "code",
   "execution_count": 40,
   "id": "ea679b98",
   "metadata": {},
   "outputs": [
    {
     "name": "stdout",
     "output_type": "stream",
     "text": [
      "0.5944363103953149\n",
      "AUC-ROC RandomForestClassifier 0.8394625545412577\n"
     ]
    },
    {
     "data": {
      "image/png": "[encoded data removed]",
      "text/plain": [
       "<Figure size 864x648 with 1 Axes>"
      ]
     },
     "metadata": {
      "needs_background": "light"
     },
     "output_type": "display_data"
    }
   ],
   "source": [
    "plt.figure(figsize=[12,9])\n",
    "\n",
    "plt.plot([0, 1], [0, 1], linestyle='--', label='RandomModel')\n",
    "\n",
    "model = RandomForestClassifier(random_state=12345, \n",
    "                               n_estimators=130, \n",
    "                               max_depth = 16)\n",
    "model.fit(features_upsampled, target_upsampled)\n",
    "predicted_test = model.predict(features_test)\n",
    "print(f1_score(target_test, predicted_test))\n",
    "\n",
    "probabilities_test = model.predict_proba(features_test)\n",
    "probabilities_one_test = probabilities_test[:, 1]\n",
    "\n",
    "fpr, tpr, thresholds = roc_curve(target_test, probabilities_one_test)\n",
    "auc_roc = roc_auc_score(target_test, probabilities_one_test)\n",
    "print('AUC-ROC RandomForestClassifier',auc_roc)\n",
    "plt.plot(fpr, tpr, label='RandomForestClassifier')\n",
    "\n",
    "plt.xlim([0,1])\n",
    "plt.ylim([0,1])\n",
    "\n",
    "plt.xlabel(\"False Positive Rate\")\n",
    "plt.ylabel(\"True Positive Rate\")\n",
    "\n",
    "plt.legend(loc='lower right', fontsize='x-large')\n",
    "\n",
    "plt.title(\"ROC-кривая\")\n",
    "plt.show()"
   ]
  },
  {
   "cell_type": "markdown",
   "id": "13346092",
   "metadata": {},
   "source": [
    "## Вывод"
   ]
  },
  {
   "cell_type": "markdown",
   "id": "ca3cb2a7",
   "metadata": {},
   "source": [
    "1. Изучили и подготовили данные. Классы оказались не сбалансированы. Тех кто остался в Бета-Банке - 80%, тех, кто ушел -  20%.\n",
    "2. Разбили данные на тренировочную, валидационную и тестовую выборки.\n",
    "3. Проверили модели на данных без изменений.\n",
    "4. Скоректировали балланс класса. Изменили вес класса.\n",
    "5. Получили улучшенную модель. Провёли поиск гиперпараметров.\n",
    "6. Провёли финальный тест:\n",
    "   \n",
    "   Обученная модель случайного леса с увеличением выборки имеет достаточную адекватность, подтвержденная ее значением AUC-ROC = 0.832. Это лучше, чем случайная модель предсказывания (AUC-ROC = 0.5). На тестовой выборке показала значение F-меры - 0.59, что соответствует критерию задания/заказчика."
   ]
  },
  {
   "cell_type": "code",
   "execution_count": null,
   "id": "ee9177e8",
   "metadata": {},
   "outputs": [],
   "source": []
  }
 ],
 "metadata": {
  "ExecuteTimeLog": [
   {
    "duration": 46,
    "start_time": "2022-11-08T08:57:50.327Z"
   },
   {
    "duration": 7,
    "start_time": "2022-11-08T09:05:48.010Z"
   },
   {
    "duration": 1644,
    "start_time": "2022-11-08T09:05:56.901Z"
   },
   {
    "duration": 163,
    "start_time": "2022-11-08T09:06:02.981Z"
   },
   {
    "duration": 1524,
    "start_time": "2022-11-09T19:31:15.701Z"
   },
   {
    "duration": 2,
    "start_time": "2022-11-09T19:31:17.227Z"
   },
   {
    "duration": 8,
    "start_time": "2022-11-09T19:31:17.231Z"
   },
   {
    "duration": 89,
    "start_time": "2022-11-09T19:31:17.241Z"
   },
   {
    "duration": 11,
    "start_time": "2022-11-09T19:31:17.332Z"
   },
   {
    "duration": 12,
    "start_time": "2022-11-09T19:31:17.345Z"
   },
   {
    "duration": 5,
    "start_time": "2022-11-09T19:31:17.358Z"
   },
   {
    "duration": 16,
    "start_time": "2022-11-09T19:31:17.364Z"
   },
   {
    "duration": 5,
    "start_time": "2022-11-09T19:31:17.381Z"
   },
   {
    "duration": 38,
    "start_time": "2022-11-09T19:31:17.390Z"
   },
   {
    "duration": 6,
    "start_time": "2022-11-09T19:31:17.430Z"
   },
   {
    "duration": 24,
    "start_time": "2022-11-09T19:31:17.438Z"
   },
   {
    "duration": 12,
    "start_time": "2022-11-09T19:31:17.464Z"
   },
   {
    "duration": 7,
    "start_time": "2022-11-09T19:31:17.478Z"
   },
   {
    "duration": 260,
    "start_time": "2022-11-09T19:31:17.487Z"
   },
   {
    "duration": 0,
    "start_time": "2022-11-09T19:31:17.749Z"
   },
   {
    "duration": 0,
    "start_time": "2022-11-09T19:31:17.750Z"
   },
   {
    "duration": 0,
    "start_time": "2022-11-09T19:31:17.751Z"
   },
   {
    "duration": 0,
    "start_time": "2022-11-09T19:31:17.752Z"
   },
   {
    "duration": 0,
    "start_time": "2022-11-09T19:31:17.753Z"
   },
   {
    "duration": 0,
    "start_time": "2022-11-09T19:31:17.755Z"
   },
   {
    "duration": 0,
    "start_time": "2022-11-09T19:31:17.755Z"
   },
   {
    "duration": 0,
    "start_time": "2022-11-09T19:31:17.757Z"
   },
   {
    "duration": 0,
    "start_time": "2022-11-09T19:31:17.758Z"
   },
   {
    "duration": 0,
    "start_time": "2022-11-09T19:31:17.759Z"
   },
   {
    "duration": 0,
    "start_time": "2022-11-09T19:31:17.760Z"
   },
   {
    "duration": 0,
    "start_time": "2022-11-09T19:31:17.761Z"
   },
   {
    "duration": 0,
    "start_time": "2022-11-09T19:31:17.762Z"
   },
   {
    "duration": 0,
    "start_time": "2022-11-09T19:31:17.763Z"
   },
   {
    "duration": 0,
    "start_time": "2022-11-09T19:31:17.764Z"
   },
   {
    "duration": 0,
    "start_time": "2022-11-09T19:31:17.766Z"
   },
   {
    "duration": 0,
    "start_time": "2022-11-09T19:31:17.767Z"
   },
   {
    "duration": 0,
    "start_time": "2022-11-09T19:31:17.768Z"
   },
   {
    "duration": 0,
    "start_time": "2022-11-09T19:31:17.769Z"
   },
   {
    "duration": 0,
    "start_time": "2022-11-09T19:31:17.770Z"
   },
   {
    "duration": 0,
    "start_time": "2022-11-09T19:31:17.771Z"
   },
   {
    "duration": 0,
    "start_time": "2022-11-09T19:31:17.773Z"
   },
   {
    "duration": 0,
    "start_time": "2022-11-09T19:31:17.773Z"
   },
   {
    "duration": 0,
    "start_time": "2022-11-09T19:31:17.775Z"
   },
   {
    "duration": 0,
    "start_time": "2022-11-09T19:31:17.776Z"
   },
   {
    "duration": 0,
    "start_time": "2022-11-09T19:31:17.777Z"
   },
   {
    "duration": 0,
    "start_time": "2022-11-09T19:31:17.777Z"
   },
   {
    "duration": 100,
    "start_time": "2022-11-09T19:34:13.144Z"
   },
   {
    "duration": 16,
    "start_time": "2022-11-09T19:39:35.904Z"
   },
   {
    "duration": 8,
    "start_time": "2022-11-09T19:40:20.662Z"
   },
   {
    "duration": 106,
    "start_time": "2022-11-09T19:40:25.879Z"
   },
   {
    "duration": 106,
    "start_time": "2022-11-09T19:40:29.965Z"
   },
   {
    "duration": 12,
    "start_time": "2022-11-09T19:40:44.025Z"
   },
   {
    "duration": 2,
    "start_time": "2022-11-09T19:48:57.048Z"
   },
   {
    "duration": 4,
    "start_time": "2022-11-09T19:50:38.169Z"
   },
   {
    "duration": 10,
    "start_time": "2022-11-09T19:50:38.175Z"
   },
   {
    "duration": 42,
    "start_time": "2022-11-09T19:50:38.186Z"
   },
   {
    "duration": 10,
    "start_time": "2022-11-09T19:50:38.230Z"
   },
   {
    "duration": 85,
    "start_time": "2022-11-09T19:50:38.241Z"
   },
   {
    "duration": 4,
    "start_time": "2022-11-09T19:50:38.328Z"
   },
   {
    "duration": 22,
    "start_time": "2022-11-09T19:50:38.333Z"
   },
   {
    "duration": 6,
    "start_time": "2022-11-09T19:50:38.357Z"
   },
   {
    "duration": 7,
    "start_time": "2022-11-09T19:50:38.364Z"
   },
   {
    "duration": 5,
    "start_time": "2022-11-09T19:50:38.372Z"
   },
   {
    "duration": 18,
    "start_time": "2022-11-09T19:50:38.379Z"
   },
   {
    "duration": 31,
    "start_time": "2022-11-09T19:50:38.399Z"
   },
   {
    "duration": 6,
    "start_time": "2022-11-09T19:50:38.431Z"
   },
   {
    "duration": 122,
    "start_time": "2022-11-09T19:50:38.438Z"
   },
   {
    "duration": 4,
    "start_time": "2022-11-09T19:50:42.235Z"
   },
   {
    "duration": 4,
    "start_time": "2022-11-09T19:50:51.252Z"
   },
   {
    "duration": 12,
    "start_time": "2022-11-09T19:51:05.452Z"
   },
   {
    "duration": 2,
    "start_time": "2022-11-09T19:51:12.866Z"
   },
   {
    "duration": 46,
    "start_time": "2022-11-09T19:51:15.534Z"
   },
   {
    "duration": 183,
    "start_time": "2022-11-09T19:51:24.781Z"
   },
   {
    "duration": 185,
    "start_time": "2022-11-09T19:51:32.590Z"
   },
   {
    "duration": 4,
    "start_time": "2022-11-09T19:52:21.937Z"
   },
   {
    "duration": 5,
    "start_time": "2022-11-09T19:52:29.833Z"
   },
   {
    "duration": 178,
    "start_time": "2022-11-09T19:52:47.059Z"
   },
   {
    "duration": 14,
    "start_time": "2022-11-09T19:53:06.482Z"
   },
   {
    "duration": 184,
    "start_time": "2022-11-09T19:53:08.542Z"
   },
   {
    "duration": 5,
    "start_time": "2022-11-09T19:53:12.938Z"
   },
   {
    "duration": 88,
    "start_time": "2022-11-09T19:53:14.466Z"
   },
   {
    "duration": 13,
    "start_time": "2022-11-09T19:53:19.311Z"
   },
   {
    "duration": 23,
    "start_time": "2022-11-09T19:53:28.190Z"
   },
   {
    "duration": 20,
    "start_time": "2022-11-09T19:53:31.677Z"
   },
   {
    "duration": 573,
    "start_time": "2022-11-09T19:53:38.454Z"
   },
   {
    "duration": 30688,
    "start_time": "2022-11-09T19:54:01.208Z"
   },
   {
    "duration": 457,
    "start_time": "2022-11-09T19:55:05.844Z"
   },
   {
    "duration": 23,
    "start_time": "2022-11-09T19:58:24.671Z"
   },
   {
    "duration": 333,
    "start_time": "2022-11-09T19:58:32.074Z"
   },
   {
    "duration": 116774,
    "start_time": "2022-11-09T20:00:32.548Z"
   },
   {
    "duration": 14,
    "start_time": "2022-11-09T20:07:40.682Z"
   },
   {
    "duration": 32,
    "start_time": "2022-11-09T20:07:48.403Z"
   },
   {
    "duration": 413,
    "start_time": "2022-11-09T20:08:10.118Z"
   },
   {
    "duration": 158020,
    "start_time": "2022-11-09T20:09:04.774Z"
   },
   {
    "duration": 99,
    "start_time": "2022-11-09T20:14:10.301Z"
   },
   {
    "duration": 11,
    "start_time": "2022-11-09T20:14:14.582Z"
   },
   {
    "duration": 20,
    "start_time": "2022-11-09T20:14:19.321Z"
   },
   {
    "duration": 175,
    "start_time": "2022-11-09T20:14:52.268Z"
   },
   {
    "duration": 63921,
    "start_time": "2022-11-09T20:15:15.513Z"
   },
   {
    "duration": 1315,
    "start_time": "2022-11-09T20:18:48.242Z"
   },
   {
    "duration": 994,
    "start_time": "2022-11-09T20:19:27.553Z"
   },
   {
    "duration": 1159,
    "start_time": "2022-11-09T20:24:43.542Z"
   },
   {
    "duration": 1141,
    "start_time": "2022-11-09T20:25:46.325Z"
   },
   {
    "duration": 1146,
    "start_time": "2022-11-09T20:26:20.126Z"
   },
   {
    "duration": 1426,
    "start_time": "2022-11-09T20:28:44.602Z"
   },
   {
    "duration": 2,
    "start_time": "2022-11-09T20:28:46.030Z"
   },
   {
    "duration": 51,
    "start_time": "2022-11-09T20:28:46.034Z"
   },
   {
    "duration": 12,
    "start_time": "2022-11-09T20:28:46.087Z"
   },
   {
    "duration": 10,
    "start_time": "2022-11-09T20:28:46.100Z"
   },
   {
    "duration": 4,
    "start_time": "2022-11-09T20:28:46.111Z"
   },
   {
    "duration": 10,
    "start_time": "2022-11-09T20:28:46.126Z"
   },
   {
    "duration": 5,
    "start_time": "2022-11-09T20:28:46.138Z"
   },
   {
    "duration": 6,
    "start_time": "2022-11-09T20:28:46.144Z"
   },
   {
    "duration": 7,
    "start_time": "2022-11-09T20:28:46.152Z"
   },
   {
    "duration": 18,
    "start_time": "2022-11-09T20:28:46.160Z"
   },
   {
    "duration": 7,
    "start_time": "2022-11-09T20:28:46.180Z"
   },
   {
    "duration": 5,
    "start_time": "2022-11-09T20:28:46.188Z"
   },
   {
    "duration": 132,
    "start_time": "2022-11-09T20:28:46.227Z"
   },
   {
    "duration": 4,
    "start_time": "2022-11-09T20:28:46.361Z"
   },
   {
    "duration": 16,
    "start_time": "2022-11-09T20:28:46.366Z"
   },
   {
    "duration": 2,
    "start_time": "2022-11-09T20:28:46.384Z"
   },
   {
    "duration": 60,
    "start_time": "2022-11-09T20:28:46.387Z"
   },
   {
    "duration": 204,
    "start_time": "2022-11-09T20:28:46.449Z"
   },
   {
    "duration": 5,
    "start_time": "2022-11-09T20:28:46.655Z"
   },
   {
    "duration": 108,
    "start_time": "2022-11-09T20:28:46.662Z"
   },
   {
    "duration": 12,
    "start_time": "2022-11-09T20:28:46.772Z"
   },
   {
    "duration": 98,
    "start_time": "2022-11-09T20:28:46.785Z"
   },
   {
    "duration": 50,
    "start_time": "2022-11-09T20:28:46.885Z"
   },
   {
    "duration": 666,
    "start_time": "2022-11-09T20:28:46.936Z"
   },
   {
    "duration": 31353,
    "start_time": "2022-11-09T20:28:47.604Z"
   },
   {
    "duration": 450,
    "start_time": "2022-11-09T20:29:18.959Z"
   },
   {
    "duration": 28,
    "start_time": "2022-11-09T20:29:19.412Z"
   },
   {
    "duration": 529,
    "start_time": "2022-11-09T20:29:19.442Z"
   },
   {
    "duration": 116743,
    "start_time": "2022-11-09T20:29:19.972Z"
   },
   {
    "duration": 14,
    "start_time": "2022-11-09T20:31:16.716Z"
   },
   {
    "duration": 97,
    "start_time": "2022-11-09T20:31:16.732Z"
   },
   {
    "duration": 501,
    "start_time": "2022-11-09T20:31:16.831Z"
   },
   {
    "duration": 156985,
    "start_time": "2022-11-09T20:31:17.334Z"
   },
   {
    "duration": 12,
    "start_time": "2022-11-09T20:33:54.326Z"
   },
   {
    "duration": 89,
    "start_time": "2022-11-09T20:33:54.339Z"
   },
   {
    "duration": 282,
    "start_time": "2022-11-09T20:33:54.430Z"
   },
   {
    "duration": 63941,
    "start_time": "2022-11-09T20:33:54.713Z"
   },
   {
    "duration": 1165,
    "start_time": "2022-11-09T20:34:58.656Z"
   },
   {
    "duration": 1188,
    "start_time": "2022-11-09T20:34:59.822Z"
   }
  ],
  "kernelspec": {
   "display_name": "Python 3 (ipykernel)",
   "language": "python",
   "name": "python3"
  },
  "language_info": {
   "codemirror_mode": {
    "name": "ipython",
    "version": 3
   },
   "file_extension": ".py",
   "mimetype": "text/x-python",
   "name": "python",
   "nbconvert_exporter": "python",
   "pygments_lexer": "ipython3",
   "version": "3.9.13"
  },
  "toc": {
   "base_numbering": 1,
   "nav_menu": {},
   "number_sections": true,
   "sideBar": true,
   "skip_h1_title": false,
   "title_cell": "Содержание",
   "title_sidebar": "Contents",
   "toc_cell": true,
   "toc_position": {
    "height": "520.8px",
    "left": "161px",
    "top": "145.125px",
    "width": "252.625px"
   },
   "toc_section_display": true,
   "toc_window_display": true
  }
 },
 "nbformat": 4,
 "nbformat_minor": 5
}
