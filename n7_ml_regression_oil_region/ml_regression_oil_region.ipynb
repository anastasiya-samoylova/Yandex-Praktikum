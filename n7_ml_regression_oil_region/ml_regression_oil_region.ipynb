{
 "cells": [
  {
   "cell_type": "markdown",
   "metadata": {},
   "source": [
    "# Выбор локации для скважины"
   ]
  },
  {
   "cell_type": "markdown",
   "metadata": {},
   "source": [
    "Для добывающей компании нужно решить, где бурить новую скважину.\n",
    "\n",
    "В качестве исходных данных -  пробы нефти в трёх регионах: в каждом 10 000 месторождений, где измерили качество нефти и объём её запасов. \n",
    "\n",
    "**Цель проекта** - построить модель машинного обучения, которая поможет определить регион, где добыча принесёт наибольшую прибыль. Для этого необходимо проанализировать возможную прибыль и риски техникой *Bootstrap.*\n",
    "\n",
    "Шаги для выбора локации:\n",
    "\n",
    "- В избранном регионе ищут месторождения, для каждого определяют значения признаков;\n",
    "- Строят модель и оценивают объём запасов;\n",
    "- Выбирают месторождения с самым высокими оценками значений. Количество месторождений зависит от бюджета компании и стоимости разработки одной скважины;\n",
    "- Прибыль равна суммарной прибыли отобранных месторождений."
   ]
  },
  {
   "cell_type": "markdown",
   "metadata": {},
   "source": [
    "## Загрузка и подготовка данных"
   ]
  },
  {
   "cell_type": "markdown",
   "metadata": {},
   "source": [
    "### Необходимые библиотеки"
   ]
  },
  {
   "cell_type": "markdown",
   "metadata": {},
   "source": [
    "Импортируем необходимые библиотеки."
   ]
  },
  {
   "cell_type": "code",
   "execution_count": 1,
   "metadata": {},
   "outputs": [],
   "source": [
    "import pandas as pd\n",
    "import seaborn as sns\n",
    "import numpy as np\n",
    "import matplotlib.pyplot as plt\n",
    "\n",
    "# импортируем из бибилиотеки sklearn необходимые функции\n",
    "from sklearn.metrics import mean_squared_error\n",
    "from sklearn.model_selection import train_test_split\n",
    "\n",
    "# импортируем из бибилиотеки sklearn структуры данных для классификации\n",
    "from sklearn.linear_model import LinearRegression\n",
    "from sklearn.preprocessing import StandardScaler\n",
    "\n",
    "# отключим некритические предупреждения в коде\n",
    "import warnings\n",
    "warnings.filterwarnings(\"ignore\")"
   ]
  },
  {
   "cell_type": "markdown",
   "metadata": {},
   "source": [
    "### Импорт данных. Регион 1"
   ]
  },
  {
   "cell_type": "markdown",
   "metadata": {},
   "source": [
    "Загрузим каждый регион в отдельный датафрейм."
   ]
  },
  {
   "cell_type": "code",
   "execution_count": 2,
   "metadata": {},
   "outputs": [
    {
     "data": {
      "text/html": [
       "<div>\n",
       "<style scoped>\n",
       "    .dataframe tbody tr th:only-of-type {\n",
       "        vertical-align: middle;\n",
       "    }\n",
       "\n",
       "    .dataframe tbody tr th {\n",
       "        vertical-align: top;\n",
       "    }\n",
       "\n",
       "    .dataframe thead th {\n",
       "        text-align: right;\n",
       "    }\n",
       "</style>\n",
       "<table border=\"1\" class=\"dataframe\">\n",
       "  <thead>\n",
       "    <tr style=\"text-align: right;\">\n",
       "      <th></th>\n",
       "      <th>id</th>\n",
       "      <th>f0</th>\n",
       "      <th>f1</th>\n",
       "      <th>f2</th>\n",
       "      <th>product</th>\n",
       "    </tr>\n",
       "  </thead>\n",
       "  <tbody>\n",
       "    <tr>\n",
       "      <th>0</th>\n",
       "      <td>txEyH</td>\n",
       "      <td>0.705745</td>\n",
       "      <td>-0.497823</td>\n",
       "      <td>1.221170</td>\n",
       "      <td>105.280062</td>\n",
       "    </tr>\n",
       "    <tr>\n",
       "      <th>1</th>\n",
       "      <td>2acmU</td>\n",
       "      <td>1.334711</td>\n",
       "      <td>-0.340164</td>\n",
       "      <td>4.365080</td>\n",
       "      <td>73.037750</td>\n",
       "    </tr>\n",
       "    <tr>\n",
       "      <th>2</th>\n",
       "      <td>409Wp</td>\n",
       "      <td>1.022732</td>\n",
       "      <td>0.151990</td>\n",
       "      <td>1.419926</td>\n",
       "      <td>85.265647</td>\n",
       "    </tr>\n",
       "    <tr>\n",
       "      <th>3</th>\n",
       "      <td>iJLyR</td>\n",
       "      <td>-0.032172</td>\n",
       "      <td>0.139033</td>\n",
       "      <td>2.978566</td>\n",
       "      <td>168.620776</td>\n",
       "    </tr>\n",
       "    <tr>\n",
       "      <th>4</th>\n",
       "      <td>Xdl7t</td>\n",
       "      <td>1.988431</td>\n",
       "      <td>0.155413</td>\n",
       "      <td>4.751769</td>\n",
       "      <td>154.036647</td>\n",
       "    </tr>\n",
       "  </tbody>\n",
       "</table>\n",
       "</div>"
      ],
      "text/plain": [
       "      id        f0        f1        f2     product\n",
       "0  txEyH  0.705745 -0.497823  1.221170  105.280062\n",
       "1  2acmU  1.334711 -0.340164  4.365080   73.037750\n",
       "2  409Wp  1.022732  0.151990  1.419926   85.265647\n",
       "3  iJLyR -0.032172  0.139033  2.978566  168.620776\n",
       "4  Xdl7t  1.988431  0.155413  4.751769  154.036647"
      ]
     },
     "execution_count": 2,
     "metadata": {},
     "output_type": "execute_result"
    }
   ],
   "source": [
    "# чтение файла с данными и сохранение в DataFrame\n",
    "data_region_one = pd.read_csv('----.csv')\n",
    "data_region_one.head()"
   ]
  },
  {
   "cell_type": "markdown",
   "metadata": {},
   "source": [
    "- `id` — уникальный идентификатор скважины;\n",
    "- `f0`, `f1`, `f2` — три признака точек (неважно, что они означают, но сами признаки значимы);\n",
    "- `product` — объём запасов в скважине (тыс. баррелей)."
   ]
  },
  {
   "cell_type": "code",
   "execution_count": 3,
   "metadata": {},
   "outputs": [
    {
     "name": "stdout",
     "output_type": "stream",
     "text": [
      "<class 'pandas.core.frame.DataFrame'>\n",
      "RangeIndex: 100000 entries, 0 to 99999\n",
      "Data columns (total 5 columns):\n",
      " #   Column   Non-Null Count   Dtype  \n",
      "---  ------   --------------   -----  \n",
      " 0   id       100000 non-null  object \n",
      " 1   f0       100000 non-null  float64\n",
      " 2   f1       100000 non-null  float64\n",
      " 3   f2       100000 non-null  float64\n",
      " 4   product  100000 non-null  float64\n",
      "dtypes: float64(4), object(1)\n",
      "memory usage: 3.8+ MB\n"
     ]
    }
   ],
   "source": [
    "data_region_one.info()"
   ]
  },
  {
   "cell_type": "markdown",
   "metadata": {},
   "source": [
    "Пропусков нет, id имеет тип object."
   ]
  },
  {
   "cell_type": "code",
   "execution_count": 4,
   "metadata": {},
   "outputs": [
    {
     "data": {
      "text/html": [
       "<div>\n",
       "<style scoped>\n",
       "    .dataframe tbody tr th:only-of-type {\n",
       "        vertical-align: middle;\n",
       "    }\n",
       "\n",
       "    .dataframe tbody tr th {\n",
       "        vertical-align: top;\n",
       "    }\n",
       "\n",
       "    .dataframe thead th {\n",
       "        text-align: right;\n",
       "    }\n",
       "</style>\n",
       "<table border=\"1\" class=\"dataframe\">\n",
       "  <thead>\n",
       "    <tr style=\"text-align: right;\">\n",
       "      <th></th>\n",
       "      <th>f0</th>\n",
       "      <th>f1</th>\n",
       "      <th>f2</th>\n",
       "      <th>product</th>\n",
       "    </tr>\n",
       "  </thead>\n",
       "  <tbody>\n",
       "    <tr>\n",
       "      <th>count</th>\n",
       "      <td>100000.000000</td>\n",
       "      <td>100000.000000</td>\n",
       "      <td>100000.000000</td>\n",
       "      <td>100000.000000</td>\n",
       "    </tr>\n",
       "    <tr>\n",
       "      <th>mean</th>\n",
       "      <td>0.500419</td>\n",
       "      <td>0.250143</td>\n",
       "      <td>2.502647</td>\n",
       "      <td>92.500000</td>\n",
       "    </tr>\n",
       "    <tr>\n",
       "      <th>std</th>\n",
       "      <td>0.871832</td>\n",
       "      <td>0.504433</td>\n",
       "      <td>3.248248</td>\n",
       "      <td>44.288691</td>\n",
       "    </tr>\n",
       "    <tr>\n",
       "      <th>min</th>\n",
       "      <td>-1.408605</td>\n",
       "      <td>-0.848218</td>\n",
       "      <td>-12.088328</td>\n",
       "      <td>0.000000</td>\n",
       "    </tr>\n",
       "    <tr>\n",
       "      <th>25%</th>\n",
       "      <td>-0.072580</td>\n",
       "      <td>-0.200881</td>\n",
       "      <td>0.287748</td>\n",
       "      <td>56.497507</td>\n",
       "    </tr>\n",
       "    <tr>\n",
       "      <th>50%</th>\n",
       "      <td>0.502360</td>\n",
       "      <td>0.250252</td>\n",
       "      <td>2.515969</td>\n",
       "      <td>91.849972</td>\n",
       "    </tr>\n",
       "    <tr>\n",
       "      <th>75%</th>\n",
       "      <td>1.073581</td>\n",
       "      <td>0.700646</td>\n",
       "      <td>4.715088</td>\n",
       "      <td>128.564089</td>\n",
       "    </tr>\n",
       "    <tr>\n",
       "      <th>max</th>\n",
       "      <td>2.362331</td>\n",
       "      <td>1.343769</td>\n",
       "      <td>16.003790</td>\n",
       "      <td>185.364347</td>\n",
       "    </tr>\n",
       "  </tbody>\n",
       "</table>\n",
       "</div>"
      ],
      "text/plain": [
       "                  f0             f1             f2        product\n",
       "count  100000.000000  100000.000000  100000.000000  100000.000000\n",
       "mean        0.500419       0.250143       2.502647      92.500000\n",
       "std         0.871832       0.504433       3.248248      44.288691\n",
       "min        -1.408605      -0.848218     -12.088328       0.000000\n",
       "25%        -0.072580      -0.200881       0.287748      56.497507\n",
       "50%         0.502360       0.250252       2.515969      91.849972\n",
       "75%         1.073581       0.700646       4.715088     128.564089\n",
       "max         2.362331       1.343769      16.003790     185.364347"
      ]
     },
     "execution_count": 4,
     "metadata": {},
     "output_type": "execute_result"
    }
   ],
   "source": [
    "data_region_one.describe()"
   ]
  },
  {
   "cell_type": "markdown",
   "metadata": {},
   "source": [
    "Во всех колонках медиана почти равна среднему, что может говорить о нормальном распределении данных, посмотрим далее по графикам."
   ]
  },
  {
   "cell_type": "code",
   "execution_count": 5,
   "metadata": {},
   "outputs": [],
   "source": [
    "def explore_data(data):\n",
    "    print(f\"Shape: {data.shape}\")\n",
    "    print(\"Количество пропусков в данных: \", data.isna().sum().sum())\n",
    "    print(\"Дубликаты: \", data.duplicated().sum())\n",
    "    print(\"\\nРаспределение признаков:\")\n",
    "    data[[\"f0\",\"f1\",\"f2\"]].hist()\n",
    "    plt.show()"
   ]
  },
  {
   "cell_type": "code",
   "execution_count": 6,
   "metadata": {
    "scrolled": false
   },
   "outputs": [
    {
     "name": "stdout",
     "output_type": "stream",
     "text": [
      "Shape: (100000, 5)\n",
      "Количество пропусков в данных:  0\n",
      "Дубликаты:  0\n",
      "\n",
      "Распределение признаков:\n"
     ]
    },
    {
     "data": {
      "image/png": "[encoded data removed]",
      "text/plain": [
       "<Figure size 432x288 with 4 Axes>"
      ]
     },
     "metadata": {
      "needs_background": "light"
     },
     "output_type": "display_data"
    }
   ],
   "source": [
    "explore_data(data_region_one)"
   ]
  },
  {
   "cell_type": "code",
   "execution_count": 7,
   "metadata": {},
   "outputs": [
    {
     "data": {
      "text/plain": [
       "id          99990\n",
       "f0         100000\n",
       "f1         100000\n",
       "f2         100000\n",
       "product    100000\n",
       "dtype: int64"
      ]
     },
     "execution_count": 7,
     "metadata": {},
     "output_type": "execute_result"
    }
   ],
   "source": [
    "data_region_one.nunique()"
   ]
  },
  {
   "cell_type": "code",
   "execution_count": 8,
   "metadata": {},
   "outputs": [
    {
     "data": {
      "text/plain": [
       "bsk9y    2\n",
       "AGS9W    2\n",
       "fiKDv    2\n",
       "74z30    2\n",
       "bxg6G    2\n",
       "        ..\n",
       "HYyia    1\n",
       "dJXdv    1\n",
       "YNABW    1\n",
       "LJDRU    1\n",
       "aJNXI    1\n",
       "Name: id, Length: 99990, dtype: int64"
      ]
     },
     "execution_count": 8,
     "metadata": {},
     "output_type": "execute_result"
    }
   ],
   "source": [
    "# проверю уникальные значения в 'id'\n",
    "data_region_one['id'].value_counts()"
   ]
  },
  {
   "cell_type": "code",
   "execution_count": 9,
   "metadata": {},
   "outputs": [
    {
     "data": {
      "text/html": [
       "<div>\n",
       "<style scoped>\n",
       "    .dataframe tbody tr th:only-of-type {\n",
       "        vertical-align: middle;\n",
       "    }\n",
       "\n",
       "    .dataframe tbody tr th {\n",
       "        vertical-align: top;\n",
       "    }\n",
       "\n",
       "    .dataframe thead th {\n",
       "        text-align: right;\n",
       "    }\n",
       "</style>\n",
       "<table border=\"1\" class=\"dataframe\">\n",
       "  <thead>\n",
       "    <tr style=\"text-align: right;\">\n",
       "      <th></th>\n",
       "      <th>id</th>\n",
       "      <th>f0</th>\n",
       "      <th>f1</th>\n",
       "      <th>f2</th>\n",
       "      <th>product</th>\n",
       "    </tr>\n",
       "  </thead>\n",
       "  <tbody>\n",
       "    <tr>\n",
       "      <th>60140</th>\n",
       "      <td>TtcGQ</td>\n",
       "      <td>0.569276</td>\n",
       "      <td>-0.104876</td>\n",
       "      <td>6.440215</td>\n",
       "      <td>85.350186</td>\n",
       "    </tr>\n",
       "    <tr>\n",
       "      <th>92341</th>\n",
       "      <td>TtcGQ</td>\n",
       "      <td>0.110711</td>\n",
       "      <td>1.022689</td>\n",
       "      <td>0.911381</td>\n",
       "      <td>101.318008</td>\n",
       "    </tr>\n",
       "  </tbody>\n",
       "</table>\n",
       "</div>"
      ],
      "text/plain": [
       "          id        f0        f1        f2     product\n",
       "60140  TtcGQ  0.569276 -0.104876  6.440215   85.350186\n",
       "92341  TtcGQ  0.110711  1.022689  0.911381  101.318008"
      ]
     },
     "execution_count": 9,
     "metadata": {},
     "output_type": "execute_result"
    }
   ],
   "source": [
    "data_region_one[data_region_one['id'] == 'TtcGQ'].head()"
   ]
  },
  {
   "cell_type": "markdown",
   "metadata": {},
   "source": [
    "Наименование одно, а данные другие.\n",
    "Удалим из датафрейма столбец id. Он не несет значимости для модели."
   ]
  },
  {
   "cell_type": "code",
   "execution_count": 10,
   "metadata": {
    "scrolled": true
   },
   "outputs": [
    {
     "name": "stdout",
     "output_type": "stream",
     "text": [
      "<class 'pandas.core.frame.DataFrame'>\n",
      "RangeIndex: 100000 entries, 0 to 99999\n",
      "Data columns (total 4 columns):\n",
      " #   Column   Non-Null Count   Dtype  \n",
      "---  ------   --------------   -----  \n",
      " 0   f0       100000 non-null  float64\n",
      " 1   f1       100000 non-null  float64\n",
      " 2   f2       100000 non-null  float64\n",
      " 3   product  100000 non-null  float64\n",
      "dtypes: float64(4)\n",
      "memory usage: 3.1 MB\n"
     ]
    }
   ],
   "source": [
    "data_region_one = data_region_one.drop(['id'], axis=1)\n",
    "data_region_one.info()"
   ]
  },
  {
   "cell_type": "markdown",
   "metadata": {},
   "source": [
    "### Импорт данных. Регион 2"
   ]
  },
  {
   "cell_type": "code",
   "execution_count": 11,
   "metadata": {},
   "outputs": [
    {
     "data": {
      "text/html": [
       "<div>\n",
       "<style scoped>\n",
       "    .dataframe tbody tr th:only-of-type {\n",
       "        vertical-align: middle;\n",
       "    }\n",
       "\n",
       "    .dataframe tbody tr th {\n",
       "        vertical-align: top;\n",
       "    }\n",
       "\n",
       "    .dataframe thead th {\n",
       "        text-align: right;\n",
       "    }\n",
       "</style>\n",
       "<table border=\"1\" class=\"dataframe\">\n",
       "  <thead>\n",
       "    <tr style=\"text-align: right;\">\n",
       "      <th></th>\n",
       "      <th>id</th>\n",
       "      <th>f0</th>\n",
       "      <th>f1</th>\n",
       "      <th>f2</th>\n",
       "      <th>product</th>\n",
       "    </tr>\n",
       "  </thead>\n",
       "  <tbody>\n",
       "    <tr>\n",
       "      <th>0</th>\n",
       "      <td>kBEdx</td>\n",
       "      <td>-15.001348</td>\n",
       "      <td>-8.276000</td>\n",
       "      <td>-0.005876</td>\n",
       "      <td>3.179103</td>\n",
       "    </tr>\n",
       "    <tr>\n",
       "      <th>1</th>\n",
       "      <td>62mP7</td>\n",
       "      <td>14.272088</td>\n",
       "      <td>-3.475083</td>\n",
       "      <td>0.999183</td>\n",
       "      <td>26.953261</td>\n",
       "    </tr>\n",
       "    <tr>\n",
       "      <th>2</th>\n",
       "      <td>vyE1P</td>\n",
       "      <td>6.263187</td>\n",
       "      <td>-5.948386</td>\n",
       "      <td>5.001160</td>\n",
       "      <td>134.766305</td>\n",
       "    </tr>\n",
       "    <tr>\n",
       "      <th>3</th>\n",
       "      <td>KcrkZ</td>\n",
       "      <td>-13.081196</td>\n",
       "      <td>-11.506057</td>\n",
       "      <td>4.999415</td>\n",
       "      <td>137.945408</td>\n",
       "    </tr>\n",
       "    <tr>\n",
       "      <th>4</th>\n",
       "      <td>AHL4O</td>\n",
       "      <td>12.702195</td>\n",
       "      <td>-8.147433</td>\n",
       "      <td>5.004363</td>\n",
       "      <td>134.766305</td>\n",
       "    </tr>\n",
       "  </tbody>\n",
       "</table>\n",
       "</div>"
      ],
      "text/plain": [
       "      id         f0         f1        f2     product\n",
       "0  kBEdx -15.001348  -8.276000 -0.005876    3.179103\n",
       "1  62mP7  14.272088  -3.475083  0.999183   26.953261\n",
       "2  vyE1P   6.263187  -5.948386  5.001160  134.766305\n",
       "3  KcrkZ -13.081196 -11.506057  4.999415  137.945408\n",
       "4  AHL4O  12.702195  -8.147433  5.004363  134.766305"
      ]
     },
     "execution_count": 11,
     "metadata": {},
     "output_type": "execute_result"
    }
   ],
   "source": [
    "data_region_two = pd.read_csv('----.csv')\n",
    "data_region_two.head()"
   ]
  },
  {
   "cell_type": "code",
   "execution_count": 12,
   "metadata": {},
   "outputs": [
    {
     "name": "stdout",
     "output_type": "stream",
     "text": [
      "<class 'pandas.core.frame.DataFrame'>\n",
      "RangeIndex: 100000 entries, 0 to 99999\n",
      "Data columns (total 5 columns):\n",
      " #   Column   Non-Null Count   Dtype  \n",
      "---  ------   --------------   -----  \n",
      " 0   id       100000 non-null  object \n",
      " 1   f0       100000 non-null  float64\n",
      " 2   f1       100000 non-null  float64\n",
      " 3   f2       100000 non-null  float64\n",
      " 4   product  100000 non-null  float64\n",
      "dtypes: float64(4), object(1)\n",
      "memory usage: 3.8+ MB\n"
     ]
    }
   ],
   "source": [
    "data_region_two.info()"
   ]
  },
  {
   "cell_type": "code",
   "execution_count": 13,
   "metadata": {},
   "outputs": [
    {
     "data": {
      "text/html": [
       "<div>\n",
       "<style scoped>\n",
       "    .dataframe tbody tr th:only-of-type {\n",
       "        vertical-align: middle;\n",
       "    }\n",
       "\n",
       "    .dataframe tbody tr th {\n",
       "        vertical-align: top;\n",
       "    }\n",
       "\n",
       "    .dataframe thead th {\n",
       "        text-align: right;\n",
       "    }\n",
       "</style>\n",
       "<table border=\"1\" class=\"dataframe\">\n",
       "  <thead>\n",
       "    <tr style=\"text-align: right;\">\n",
       "      <th></th>\n",
       "      <th>f0</th>\n",
       "      <th>f1</th>\n",
       "      <th>f2</th>\n",
       "      <th>product</th>\n",
       "    </tr>\n",
       "  </thead>\n",
       "  <tbody>\n",
       "    <tr>\n",
       "      <th>count</th>\n",
       "      <td>100000.000000</td>\n",
       "      <td>100000.000000</td>\n",
       "      <td>100000.000000</td>\n",
       "      <td>100000.000000</td>\n",
       "    </tr>\n",
       "    <tr>\n",
       "      <th>mean</th>\n",
       "      <td>1.141296</td>\n",
       "      <td>-4.796579</td>\n",
       "      <td>2.494541</td>\n",
       "      <td>68.825000</td>\n",
       "    </tr>\n",
       "    <tr>\n",
       "      <th>std</th>\n",
       "      <td>8.965932</td>\n",
       "      <td>5.119872</td>\n",
       "      <td>1.703572</td>\n",
       "      <td>45.944423</td>\n",
       "    </tr>\n",
       "    <tr>\n",
       "      <th>min</th>\n",
       "      <td>-31.609576</td>\n",
       "      <td>-26.358598</td>\n",
       "      <td>-0.018144</td>\n",
       "      <td>0.000000</td>\n",
       "    </tr>\n",
       "    <tr>\n",
       "      <th>25%</th>\n",
       "      <td>-6.298551</td>\n",
       "      <td>-8.267985</td>\n",
       "      <td>1.000021</td>\n",
       "      <td>26.953261</td>\n",
       "    </tr>\n",
       "    <tr>\n",
       "      <th>50%</th>\n",
       "      <td>1.153055</td>\n",
       "      <td>-4.813172</td>\n",
       "      <td>2.011479</td>\n",
       "      <td>57.085625</td>\n",
       "    </tr>\n",
       "    <tr>\n",
       "      <th>75%</th>\n",
       "      <td>8.621015</td>\n",
       "      <td>-1.332816</td>\n",
       "      <td>3.999904</td>\n",
       "      <td>107.813044</td>\n",
       "    </tr>\n",
       "    <tr>\n",
       "      <th>max</th>\n",
       "      <td>29.421755</td>\n",
       "      <td>18.734063</td>\n",
       "      <td>5.019721</td>\n",
       "      <td>137.945408</td>\n",
       "    </tr>\n",
       "  </tbody>\n",
       "</table>\n",
       "</div>"
      ],
      "text/plain": [
       "                  f0             f1             f2        product\n",
       "count  100000.000000  100000.000000  100000.000000  100000.000000\n",
       "mean        1.141296      -4.796579       2.494541      68.825000\n",
       "std         8.965932       5.119872       1.703572      45.944423\n",
       "min       -31.609576     -26.358598      -0.018144       0.000000\n",
       "25%        -6.298551      -8.267985       1.000021      26.953261\n",
       "50%         1.153055      -4.813172       2.011479      57.085625\n",
       "75%         8.621015      -1.332816       3.999904     107.813044\n",
       "max        29.421755      18.734063       5.019721     137.945408"
      ]
     },
     "execution_count": 13,
     "metadata": {},
     "output_type": "execute_result"
    }
   ],
   "source": [
    "data_region_two.describe()"
   ]
  },
  {
   "cell_type": "markdown",
   "metadata": {},
   "source": [
    "В колонках `f0` и `f1` медиана почти равна среднему, в `f2` и `product` среднее больше медианы, что может говорить о скошенности данных вправо."
   ]
  },
  {
   "cell_type": "code",
   "execution_count": 14,
   "metadata": {},
   "outputs": [
    {
     "name": "stdout",
     "output_type": "stream",
     "text": [
      "Shape: (100000, 5)\n",
      "Количество пропусков в данных:  0\n",
      "Дубликаты:  0\n",
      "\n",
      "Распределение признаков:\n"
     ]
    },
    {
     "data": {
      "image/png": "[encoded data removed]",
      "text/plain": [
       "<Figure size 432x288 with 4 Axes>"
      ]
     },
     "metadata": {
      "needs_background": "light"
     },
     "output_type": "display_data"
    }
   ],
   "source": [
    "explore_data(data_region_two)"
   ]
  },
  {
   "cell_type": "code",
   "execution_count": 15,
   "metadata": {},
   "outputs": [
    {
     "data": {
      "text/plain": [
       "id          99996\n",
       "f0         100000\n",
       "f1         100000\n",
       "f2         100000\n",
       "product        12\n",
       "dtype: int64"
      ]
     },
     "execution_count": 15,
     "metadata": {},
     "output_type": "execute_result"
    }
   ],
   "source": [
    "data_region_two.nunique()"
   ]
  },
  {
   "cell_type": "code",
   "execution_count": 16,
   "metadata": {},
   "outputs": [
    {
     "name": "stdout",
     "output_type": "stream",
     "text": [
      "<class 'pandas.core.frame.DataFrame'>\n",
      "RangeIndex: 100000 entries, 0 to 99999\n",
      "Data columns (total 4 columns):\n",
      " #   Column   Non-Null Count   Dtype  \n",
      "---  ------   --------------   -----  \n",
      " 0   f0       100000 non-null  float64\n",
      " 1   f1       100000 non-null  float64\n",
      " 2   f2       100000 non-null  float64\n",
      " 3   product  100000 non-null  float64\n",
      "dtypes: float64(4)\n",
      "memory usage: 3.1 MB\n"
     ]
    }
   ],
   "source": [
    "data_region_two = data_region_two.drop(['id'], axis=1)\n",
    "data_region_two.info()"
   ]
  },
  {
   "cell_type": "markdown",
   "metadata": {},
   "source": [
    "### Импорт данных. Регион 3"
   ]
  },
  {
   "cell_type": "code",
   "execution_count": 17,
   "metadata": {},
   "outputs": [
    {
     "data": {
      "text/html": [
       "<div>\n",
       "<style scoped>\n",
       "    .dataframe tbody tr th:only-of-type {\n",
       "        vertical-align: middle;\n",
       "    }\n",
       "\n",
       "    .dataframe tbody tr th {\n",
       "        vertical-align: top;\n",
       "    }\n",
       "\n",
       "    .dataframe thead th {\n",
       "        text-align: right;\n",
       "    }\n",
       "</style>\n",
       "<table border=\"1\" class=\"dataframe\">\n",
       "  <thead>\n",
       "    <tr style=\"text-align: right;\">\n",
       "      <th></th>\n",
       "      <th>id</th>\n",
       "      <th>f0</th>\n",
       "      <th>f1</th>\n",
       "      <th>f2</th>\n",
       "      <th>product</th>\n",
       "    </tr>\n",
       "  </thead>\n",
       "  <tbody>\n",
       "    <tr>\n",
       "      <th>0</th>\n",
       "      <td>fwXo0</td>\n",
       "      <td>-1.146987</td>\n",
       "      <td>0.963328</td>\n",
       "      <td>-0.828965</td>\n",
       "      <td>27.758673</td>\n",
       "    </tr>\n",
       "    <tr>\n",
       "      <th>1</th>\n",
       "      <td>WJtFt</td>\n",
       "      <td>0.262778</td>\n",
       "      <td>0.269839</td>\n",
       "      <td>-2.530187</td>\n",
       "      <td>56.069697</td>\n",
       "    </tr>\n",
       "    <tr>\n",
       "      <th>2</th>\n",
       "      <td>ovLUW</td>\n",
       "      <td>0.194587</td>\n",
       "      <td>0.289035</td>\n",
       "      <td>-5.586433</td>\n",
       "      <td>62.871910</td>\n",
       "    </tr>\n",
       "    <tr>\n",
       "      <th>3</th>\n",
       "      <td>q6cA6</td>\n",
       "      <td>2.236060</td>\n",
       "      <td>-0.553760</td>\n",
       "      <td>0.930038</td>\n",
       "      <td>114.572842</td>\n",
       "    </tr>\n",
       "    <tr>\n",
       "      <th>4</th>\n",
       "      <td>WPMUX</td>\n",
       "      <td>-0.515993</td>\n",
       "      <td>1.716266</td>\n",
       "      <td>5.899011</td>\n",
       "      <td>149.600746</td>\n",
       "    </tr>\n",
       "  </tbody>\n",
       "</table>\n",
       "</div>"
      ],
      "text/plain": [
       "      id        f0        f1        f2     product\n",
       "0  fwXo0 -1.146987  0.963328 -0.828965   27.758673\n",
       "1  WJtFt  0.262778  0.269839 -2.530187   56.069697\n",
       "2  ovLUW  0.194587  0.289035 -5.586433   62.871910\n",
       "3  q6cA6  2.236060 -0.553760  0.930038  114.572842\n",
       "4  WPMUX -0.515993  1.716266  5.899011  149.600746"
      ]
     },
     "execution_count": 17,
     "metadata": {},
     "output_type": "execute_result"
    }
   ],
   "source": [
    "data_region_three = pd.read_csv('----.csv')\n",
    "data_region_three.head()"
   ]
  },
  {
   "cell_type": "code",
   "execution_count": 18,
   "metadata": {},
   "outputs": [
    {
     "name": "stdout",
     "output_type": "stream",
     "text": [
      "<class 'pandas.core.frame.DataFrame'>\n",
      "RangeIndex: 100000 entries, 0 to 99999\n",
      "Data columns (total 5 columns):\n",
      " #   Column   Non-Null Count   Dtype  \n",
      "---  ------   --------------   -----  \n",
      " 0   id       100000 non-null  object \n",
      " 1   f0       100000 non-null  float64\n",
      " 2   f1       100000 non-null  float64\n",
      " 3   f2       100000 non-null  float64\n",
      " 4   product  100000 non-null  float64\n",
      "dtypes: float64(4), object(1)\n",
      "memory usage: 3.8+ MB\n"
     ]
    }
   ],
   "source": [
    "data_region_three.info()"
   ]
  },
  {
   "cell_type": "code",
   "execution_count": 19,
   "metadata": {},
   "outputs": [
    {
     "data": {
      "text/html": [
       "<div>\n",
       "<style scoped>\n",
       "    .dataframe tbody tr th:only-of-type {\n",
       "        vertical-align: middle;\n",
       "    }\n",
       "\n",
       "    .dataframe tbody tr th {\n",
       "        vertical-align: top;\n",
       "    }\n",
       "\n",
       "    .dataframe thead th {\n",
       "        text-align: right;\n",
       "    }\n",
       "</style>\n",
       "<table border=\"1\" class=\"dataframe\">\n",
       "  <thead>\n",
       "    <tr style=\"text-align: right;\">\n",
       "      <th></th>\n",
       "      <th>f0</th>\n",
       "      <th>f1</th>\n",
       "      <th>f2</th>\n",
       "      <th>product</th>\n",
       "    </tr>\n",
       "  </thead>\n",
       "  <tbody>\n",
       "    <tr>\n",
       "      <th>count</th>\n",
       "      <td>100000.000000</td>\n",
       "      <td>100000.000000</td>\n",
       "      <td>100000.000000</td>\n",
       "      <td>100000.000000</td>\n",
       "    </tr>\n",
       "    <tr>\n",
       "      <th>mean</th>\n",
       "      <td>0.002023</td>\n",
       "      <td>-0.002081</td>\n",
       "      <td>2.495128</td>\n",
       "      <td>95.000000</td>\n",
       "    </tr>\n",
       "    <tr>\n",
       "      <th>std</th>\n",
       "      <td>1.732045</td>\n",
       "      <td>1.730417</td>\n",
       "      <td>3.473445</td>\n",
       "      <td>44.749921</td>\n",
       "    </tr>\n",
       "    <tr>\n",
       "      <th>min</th>\n",
       "      <td>-8.760004</td>\n",
       "      <td>-7.084020</td>\n",
       "      <td>-11.970335</td>\n",
       "      <td>0.000000</td>\n",
       "    </tr>\n",
       "    <tr>\n",
       "      <th>25%</th>\n",
       "      <td>-1.162288</td>\n",
       "      <td>-1.174820</td>\n",
       "      <td>0.130359</td>\n",
       "      <td>59.450441</td>\n",
       "    </tr>\n",
       "    <tr>\n",
       "      <th>50%</th>\n",
       "      <td>0.009424</td>\n",
       "      <td>-0.009482</td>\n",
       "      <td>2.484236</td>\n",
       "      <td>94.925613</td>\n",
       "    </tr>\n",
       "    <tr>\n",
       "      <th>75%</th>\n",
       "      <td>1.158535</td>\n",
       "      <td>1.163678</td>\n",
       "      <td>4.858794</td>\n",
       "      <td>130.595027</td>\n",
       "    </tr>\n",
       "    <tr>\n",
       "      <th>max</th>\n",
       "      <td>7.238262</td>\n",
       "      <td>7.844801</td>\n",
       "      <td>16.739402</td>\n",
       "      <td>190.029838</td>\n",
       "    </tr>\n",
       "  </tbody>\n",
       "</table>\n",
       "</div>"
      ],
      "text/plain": [
       "                  f0             f1             f2        product\n",
       "count  100000.000000  100000.000000  100000.000000  100000.000000\n",
       "mean        0.002023      -0.002081       2.495128      95.000000\n",
       "std         1.732045       1.730417       3.473445      44.749921\n",
       "min        -8.760004      -7.084020     -11.970335       0.000000\n",
       "25%        -1.162288      -1.174820       0.130359      59.450441\n",
       "50%         0.009424      -0.009482       2.484236      94.925613\n",
       "75%         1.158535       1.163678       4.858794     130.595027\n",
       "max         7.238262       7.844801      16.739402     190.029838"
      ]
     },
     "execution_count": 19,
     "metadata": {},
     "output_type": "execute_result"
    }
   ],
   "source": [
    "data_region_three.describe()"
   ]
  },
  {
   "cell_type": "markdown",
   "metadata": {},
   "source": [
    "Данные в `f0` и `f1` похожи между собой. Медиана и средняя близки к нулю, почти такие же только с обратным знаком.\n",
    "В `f2` и `product` медиана почти равна среднему, что может говорить о нормальном распределении данных."
   ]
  },
  {
   "cell_type": "code",
   "execution_count": 20,
   "metadata": {},
   "outputs": [
    {
     "name": "stdout",
     "output_type": "stream",
     "text": [
      "Shape: (100000, 5)\n",
      "Количество пропусков в данных:  0\n",
      "Дубликаты:  0\n",
      "\n",
      "Распределение признаков:\n"
     ]
    },
    {
     "data": {
      "image/png": "[encoded data removed]",
      "text/plain": [
       "<Figure size 432x288 with 4 Axes>"
      ]
     },
     "metadata": {
      "needs_background": "light"
     },
     "output_type": "display_data"
    }
   ],
   "source": [
    "explore_data(data_region_three)"
   ]
  },
  {
   "cell_type": "code",
   "execution_count": 21,
   "metadata": {},
   "outputs": [
    {
     "data": {
      "text/plain": [
       "id          99996\n",
       "f0         100000\n",
       "f1         100000\n",
       "f2         100000\n",
       "product    100000\n",
       "dtype: int64"
      ]
     },
     "execution_count": 21,
     "metadata": {},
     "output_type": "execute_result"
    }
   ],
   "source": [
    "data_region_three.nunique()"
   ]
  },
  {
   "cell_type": "code",
   "execution_count": 22,
   "metadata": {},
   "outputs": [
    {
     "name": "stdout",
     "output_type": "stream",
     "text": [
      "<class 'pandas.core.frame.DataFrame'>\n",
      "RangeIndex: 100000 entries, 0 to 99999\n",
      "Data columns (total 4 columns):\n",
      " #   Column   Non-Null Count   Dtype  \n",
      "---  ------   --------------   -----  \n",
      " 0   f0       100000 non-null  float64\n",
      " 1   f1       100000 non-null  float64\n",
      " 2   f2       100000 non-null  float64\n",
      " 3   product  100000 non-null  float64\n",
      "dtypes: float64(4)\n",
      "memory usage: 3.1 MB\n"
     ]
    }
   ],
   "source": [
    "data_region_three = data_region_three.drop(['id'], axis=1)\n",
    "data_region_three.info()"
   ]
  },
  {
   "cell_type": "markdown",
   "metadata": {},
   "source": [
    "### Данные о запасах нефти"
   ]
  },
  {
   "cell_type": "code",
   "execution_count": 23,
   "metadata": {},
   "outputs": [],
   "source": [
    "#Построим графики чтобы посмотреть на распределение\n",
    "def dist_and_box(df,col,title):\n",
    "    fig, axs = plt.subplots(ncols=2,figsize=(20,5))\n",
    "    sns.set(font_scale=1.10)\n",
    "    distplot = sns.distplot(df[col],ax=axs[0]).set_title(f'Данные по региону №{title}',fontsize=20);\n",
    "    sns.boxplot(df[col], ax=axs[1]).set_title(f'Данные по региону №{title}',fontsize=20);  "
   ]
  },
  {
   "cell_type": "code",
   "execution_count": 24,
   "metadata": {},
   "outputs": [],
   "source": [
    "def oil_hist_and_box(seria, bins, xlim_max, ylim_max, title, color):\n",
    "    plt.figure(figsize=[12,9])\n",
    "\n",
    "    plt.hist(seria, bins=bins, color = color)\n",
    "\n",
    "    plt.xlim([0,xlim_max])\n",
    "    plt.ylim([0,ylim_max])\n",
    "\n",
    "    plt.xlabel(\"Объем нефти на скважину, тыс. барелей\")\n",
    "    plt.ylabel(\"Количество скважин\")\n",
    "\n",
    "    plt.title(f'Гистограмма распределения по объему скважин в регионе №{title}',fontsize=10)\n",
    "    plt.show()\n",
    "    sns.boxplot(seria, color = color, width=1).set_title(f'Распределение запасов нефти в регионе №{title}',\n",
    "                                                         fontsize=10);  "
   ]
  },
  {
   "cell_type": "code",
   "execution_count": 25,
   "metadata": {
    "scrolled": false
   },
   "outputs": [
    {
     "data": {
      "image/png": "[encoded data removed]",
      "text/plain": [
       "<Figure size 864x648 with 1 Axes>"
      ]
     },
     "metadata": {
      "needs_background": "light"
     },
     "output_type": "display_data"
    },
    {
     "data": {
      "image/png": "[encoded data removed]",
      "text/plain": [
       "<Figure size 432x288 with 1 Axes>"
      ]
     },
     "metadata": {
      "needs_background": "light"
     },
     "output_type": "display_data"
    }
   ],
   "source": [
    "oil_hist_and_box(data_region_one['product'], 200, 190, 1000, 1, 'green')"
   ]
  },
  {
   "cell_type": "code",
   "execution_count": 26,
   "metadata": {},
   "outputs": [
    {
     "data": {
      "image/png": "[encoded data removed]",
      "text/plain": [
       "<Figure size 864x648 with 1 Axes>"
      ]
     },
     "metadata": {
      "needs_background": "light"
     },
     "output_type": "display_data"
    },
    {
     "data": {
      "image/png": "[encoded data removed]",
      "text/plain": [
       "<Figure size 432x288 with 1 Axes>"
      ]
     },
     "metadata": {
      "needs_background": "light"
     },
     "output_type": "display_data"
    }
   ],
   "source": [
    "oil_hist_and_box(data_region_two['product'], 50, 150, 9000, 2, 'blue')"
   ]
  },
  {
   "cell_type": "code",
   "execution_count": 27,
   "metadata": {
    "scrolled": false
   },
   "outputs": [
    {
     "data": {
      "image/png": "[encoded data removed]",
      "text/plain": [
       "<Figure size 864x648 with 1 Axes>"
      ]
     },
     "metadata": {
      "needs_background": "light"
     },
     "output_type": "display_data"
    },
    {
     "data": {
      "image/png": "[encoded data removed]",
      "text/plain": [
       "<Figure size 432x288 with 1 Axes>"
      ]
     },
     "metadata": {
      "needs_background": "light"
     },
     "output_type": "display_data"
    }
   ],
   "source": [
    "oil_hist_and_box(data_region_three['product'], 200, 190, 900, 3, 'orange')"
   ]
  },
  {
   "cell_type": "markdown",
   "metadata": {},
   "source": [
    "### Вывод"
   ]
  },
  {
   "cell_type": "markdown",
   "metadata": {},
   "source": [
    "1. Признаки для модели:\n",
    "\n",
    "    - `f0`;\n",
    "    - `f1`;\n",
    "    - `f2`.\n",
    "\n",
    "    Целевой признак: `product`.\n",
    "    \n",
    "2. Чтобы избежать ошибок, в датасетах были удалены строки с дублирующимися id.\n",
    "3. По гистограммам можно понять, что у первого и третьего региона наспределение скважин близкое к нормальному. Во втором регионе данные имеют странное распределение: от 0 до 140 баррелей с шагом по 15-20 равномерно распределены 100000 значений. Данные скорее всего были введены искуственно."
   ]
  },
  {
   "cell_type": "markdown",
   "metadata": {},
   "source": [
    "## Обучение и проверка модели"
   ]
  },
  {
   "cell_type": "code",
   "execution_count": 28,
   "metadata": {},
   "outputs": [],
   "source": [
    "\n",
    "def get_linear_regression_prediction(data):\n",
    "    \n",
    "    # выделим признаки\n",
    "    target = data['product']\n",
    "    features = data.drop(['product'], axis=1) \n",
    "    \n",
    "    # разобьём данные на тестовую и валидационную выборки в соотношении 75:25\n",
    "    features_train, features_valid, target_train, target_valid = train_test_split(features, \n",
    "                                                                                  target, \n",
    "                                                                                  test_size=0.25, \n",
    "                                                                                  random_state=12345)\n",
    "    \n",
    "    print(f'Размеры тренировочной и валидационной выборок {features_train.shape} {features_valid.shape}')\n",
    "    print(f'Размеры целевых признаков теста и валидации {target_train.shape} {target_valid.shape}')\n",
    "    \n",
    "    numeric = ['f0', 'f1', 'f2']\n",
    "    scaler = StandardScaler()\n",
    "    scaler.fit(features_train[numeric])\n",
    "    features_train[numeric] = scaler.transform(features_train[numeric])\n",
    "    features_valid[numeric] = scaler.transform(features_valid[numeric])\n",
    "    \n",
    "    # обучим модель\n",
    "    \n",
    "    model = LinearRegression(normalize=False)\n",
    "    model.fit(features_train, target_train)\n",
    "    \n",
    "    predicted_valid = model.predict(features_valid)\n",
    "    predicted_valid_series = pd.Series(predicted_valid)\n",
    "    rmse = (mean_squared_error(predicted_valid_series, target_valid))**(0.5)\n",
    "    average_product_predicted = sum(predicted_valid_series) / len(predicted_valid_series)\n",
    "    target_series = pd.Series(target)\n",
    "    average_product_fact = sum(target_series) / len(target_series)\n",
    "    \n",
    "    print(\"RMSE: {0:.2f}\".format(rmse))\n",
    "    print(\"Average product predicted: {0:.2f}\".format(average_product_predicted))\n",
    "    print(\"Average product fact: {0:.2f}\".format(average_product_fact))\n",
    "    \n",
    "    return (predicted_valid, target_valid,  rmse)"
   ]
  },
  {
   "cell_type": "code",
   "execution_count": 29,
   "metadata": {},
   "outputs": [
    {
     "name": "stdout",
     "output_type": "stream",
     "text": [
      "Регоин 1\n",
      "Размеры тренировочной и валидационной выборок (75000, 3) (25000, 3)\n",
      "Размеры целевых признаков теста и валидации (75000,) (25000,)\n",
      "RMSE: 37.58\n",
      "Average product predicted: 92.59\n",
      "Average product fact: 92.50\n",
      "Регоин 2\n",
      "Размеры тренировочной и валидационной выборок (75000, 3) (25000, 3)\n",
      "Размеры целевых признаков теста и валидации (75000,) (25000,)\n",
      "RMSE: 0.89\n",
      "Average product predicted: 68.73\n",
      "Average product fact: 68.83\n",
      "Регоин 3\n",
      "Размеры тренировочной и валидационной выборок (75000, 3) (25000, 3)\n",
      "Размеры целевых признаков теста и валидации (75000,) (25000,)\n",
      "RMSE: 40.03\n",
      "Average product predicted: 94.97\n",
      "Average product fact: 95.00\n"
     ]
    }
   ],
   "source": [
    "print('Регоин 1')\n",
    "region_1_predicted, target_valid_1, rmse_1 = get_linear_regression_prediction(data_region_one)\n",
    "print('Регоин 2')\n",
    "region_2_predicted, target_valid_2, rmse_2 = get_linear_regression_prediction(data_region_two)\n",
    "print('Регоин 3')\n",
    "region_3_predicted, target_valid_3, rmse_3 = get_linear_regression_prediction(data_region_three)"
   ]
  },
  {
   "cell_type": "markdown",
   "metadata": {},
   "source": [
    "Чем ближе корень из средней квадратичной ошибки (RMSE) к нулю тем лучше.\n",
    "\n",
    "Наши значения RMSE:\n",
    "\n",
    "Первый регион: 37.5794 <br>\n",
    "Второй регион: 0.8931 <br>\n",
    "Третий регион: 40.0297 <br>\n",
    "\n",
    "- Средний запас предсказанного сырья практически соответствует средним значениям запасов первоначальных данных;\n",
    "- Минимальная метрика RMSE достигнута в регионе № 2, хуже всего предсказывает модель региона № 3, RMSE = 40.03;\n",
    "- Модель № 2, скорее всего, так справилась из-за предварительно сгруппированных данных по запасам (12 подвыборок).\n"
   ]
  },
  {
   "cell_type": "markdown",
   "metadata": {},
   "source": [
    "## Подготовка к расчёту прибыли"
   ]
  },
  {
   "cell_type": "markdown",
   "metadata": {},
   "source": [
    "Все ключевые значения для расчётов сохраним в отдельных переменных"
   ]
  },
  {
   "cell_type": "markdown",
   "metadata": {},
   "source": [
    "Вводные для расчета прибыли:\n",
    "\n",
    "При разведке региона исследуют 500 точек, из которых с помощью машинного обучения выбирают 200 лучших для разработки."
   ]
  },
  {
   "cell_type": "code",
   "execution_count": 30,
   "metadata": {},
   "outputs": [],
   "source": [
    "count_of_wells = 200"
   ]
  },
  {
   "cell_type": "markdown",
   "metadata": {},
   "source": [
    "Бюджет на разработку скважин в регионе — 10 млрд рублей."
   ]
  },
  {
   "cell_type": "code",
   "execution_count": 31,
   "metadata": {},
   "outputs": [],
   "source": [
    "budget = 10_000_000_000"
   ]
  },
  {
   "cell_type": "markdown",
   "metadata": {},
   "source": [
    "Цена одной скважины:"
   ]
  },
  {
   "cell_type": "code",
   "execution_count": 32,
   "metadata": {},
   "outputs": [
    {
     "data": {
      "text/plain": [
       "50000000.0"
      ]
     },
     "execution_count": 32,
     "metadata": {},
     "output_type": "execute_result"
    }
   ],
   "source": [
    "price_one_well = budget / count_of_wells \n",
    "price_one_well"
   ]
  },
  {
   "cell_type": "markdown",
   "metadata": {},
   "source": [
    " Доход с каждой единицы продукта составляет 450 тыс. рублей."
   ]
  },
  {
   "cell_type": "code",
   "execution_count": 33,
   "metadata": {},
   "outputs": [],
   "source": [
    "price_per_barrel  = 450_000"
   ]
  },
  {
   "cell_type": "markdown",
   "metadata": {},
   "source": [
    "Точка безубыточности"
   ]
  },
  {
   "cell_type": "code",
   "execution_count": 34,
   "metadata": {},
   "outputs": [
    {
     "name": "stdout",
     "output_type": "stream",
     "text": [
      "Точка безубыточности: 22222 тыс. баррелей\n"
     ]
    }
   ],
   "source": [
    "profit_0 = budget / price_per_barrel\n",
    "print(\"Точка безубыточности: {0:.0f} тыс. баррелей\".format(profit_0))"
   ]
  },
  {
   "cell_type": "code",
   "execution_count": 35,
   "metadata": {},
   "outputs": [
    {
     "name": "stdout",
     "output_type": "stream",
     "text": [
      "Средний объем нефти в скважине для безубыточного функционирования: 111.11111111111111\n"
     ]
    }
   ],
   "source": [
    "one_ceil_volume = profit_0/200\n",
    "print(\"Средний объем нефти в скважине для безубыточного функционирования:\", one_ceil_volume)"
   ]
  },
  {
   "cell_type": "code",
   "execution_count": 36,
   "metadata": {},
   "outputs": [],
   "source": [
    "def compare_volume(region_volume_mean, region):\n",
    "    if region_volume_mean < one_ceil_volume:\n",
    "        print(f'Средний предсказанный запас сырья в регионе {region}')\n",
    "        print(f'меньше объёма достаточного для безубыточной разработки на {round(one_ceil_volume - region_volume_mean, 2)}')\n",
    "    else:\n",
    "        print(f'Средний предсказанный запас сырья в регионе {region}')\n",
    "        print(f'больше объёма достаточного для безубыточной разработки на {round(region_volume_mean - one_ceil_volume, 2)}')"
   ]
  },
  {
   "cell_type": "code",
   "execution_count": 37,
   "metadata": {
    "scrolled": true
   },
   "outputs": [
    {
     "name": "stdout",
     "output_type": "stream",
     "text": [
      "Средний предсказанный запас сырья в регионе 1\n",
      "меньше объёма достаточного для безубыточной разработки на 18.61\n",
      "Средний предсказанный запас сырья в регионе 2\n",
      "меньше объёма достаточного для безубыточной разработки на 42.29\n",
      "Средний предсказанный запас сырья в регионе 3\n",
      "меньше объёма достаточного для безубыточной разработки на 16.11\n"
     ]
    }
   ],
   "source": [
    "compare_volume(data_region_one['product'].mean(), 1)\n",
    "compare_volume(data_region_two['product'].mean(), 2)\n",
    "compare_volume(data_region_three['product'].mean(), 3)"
   ]
  },
  {
   "cell_type": "markdown",
   "metadata": {},
   "source": [
    "### Вывод"
   ]
  },
  {
   "cell_type": "markdown",
   "metadata": {},
   "source": [
    "- Мы сохранили ключевые значения для расчетов в переменных;\n",
    "- Рассчитали необходимое количество сырья для безубыточной разработки новой скважины - это 111.11 баррелей;\n",
    "- После сравнения средних предсказанных моделю запасов сырья, мы выяснили что среднее значение запасов во всех трех регионах меньше необходимого количества для безубыточной разработки;\n",
    "- Ближе всего к необходимому количеству предсказанные запасы в регионе №3, меньше всего предсказанных запасов в регионе №2."
   ]
  },
  {
   "cell_type": "markdown",
   "metadata": {},
   "source": [
    "## Расчёт прибыли и рисков "
   ]
  },
  {
   "cell_type": "code",
   "execution_count": 38,
   "metadata": {},
   "outputs": [],
   "source": [
    "# Функция для расчета прибыли по выбранным скважинам и предсказаниям модели\n",
    "def revenue(target, predictions):\n",
    "    target = pd.Series(target).reset_index(drop=True)\n",
    "    predictions = pd.Series(predictions).reset_index(drop=True)\n",
    "    predictions_s = predictions.sort_values(ascending=False)[:count_of_wells].index\n",
    "    selected = target[predictions_s]\n",
    "    revenue = selected.sum() * price_per_barrel - budget\n",
    "    return round(revenue, 2)"
   ]
  },
  {
   "cell_type": "code",
   "execution_count": 39,
   "metadata": {
    "scrolled": true
   },
   "outputs": [
    {
     "name": "stdout",
     "output_type": "stream",
     "text": [
      "Прибыль региона № 1 (200 лучших скважин): 3320826043.14 млрд.рублей\n",
      "Прибыль региона № 2 (200 лучших скважин): 2415086696.68 млрд.рублей\n",
      "Прибыль региона № 3 (200 лучших скважин): 2710349963.6 млрд.рублей\n"
     ]
    }
   ],
   "source": [
    "print('Прибыль региона № 1 (200 лучших скважин): {} млрд.рублей'.format(revenue(target_valid_1, \n",
    "                                                                                region_1_predicted) ))\n",
    "print('Прибыль региона № 2 (200 лучших скважин): {} млрд.рублей'.format(revenue(target_valid_2, \n",
    "                                                                                region_2_predicted) ))\n",
    "print('Прибыль региона № 3 (200 лучших скважин): {} млрд.рублей'.format(revenue(target_valid_3, \n",
    "                                                                                region_3_predicted) ))"
   ]
  },
  {
   "cell_type": "markdown",
   "metadata": {},
   "source": [
    "Исходя из условий задачи исследуем 500 точек, а выбираем 200 лучших. Найдем случайные 500 скважин из всей выборки (1000 раз), из них выберем 200 лучших."
   ]
  },
  {
   "cell_type": "code",
   "execution_count": 40,
   "metadata": {},
   "outputs": [],
   "source": [
    "state = np.random.RandomState(12345)\n",
    "def bootstrap(target, probabilities, iterations, sample_size):\n",
    "    values = []\n",
    "    for i in range(iterations):\n",
    "        target_subsample = target.sample(n=sample_size, \n",
    "                                         random_state=state, \n",
    "                                         replace=True)\n",
    "        probs_subsample = probabilities[target_subsample.index]\n",
    "        values.append(revenue(target_subsample, probs_subsample))\n",
    "\n",
    "    values = pd.Series(values)\n",
    "    mean = values.mean()\n",
    "    risk = (values < 0).mean()\n",
    "    \n",
    "    lower = values.quantile(0.025)\n",
    "    upper = values.quantile(0.975)\n",
    "    quantile_interval = (lower, upper)\n",
    "    return round(mean,2),  round(risk*100, 2), quantile_interval"
   ]
  },
  {
   "cell_type": "code",
   "execution_count": 41,
   "metadata": {},
   "outputs": [
    {
     "name": "stdout",
     "output_type": "stream",
     "text": [
      "Регион №1 средняя выручка =  396164984.8\n",
      "Регион №1 95 %ый доверительный интервал по квантилям =  (-111215545.89, 909766941.5539998)\n",
      "Регион №1 Риск убытков: 6.9%\n"
     ]
    }
   ],
   "source": [
    "revenue_1_mean, region_1_risk, refion_1_quantile = bootstrap(target_valid_1.reset_index(drop=True), \n",
    "                                                             region_1_predicted, 1000, 500)\n",
    "print('Регион №1 средняя выручка = ', revenue_1_mean)\n",
    "print('Регион №1 95 %ый доверительный интервал по квантилям = ', refion_1_quantile)\n",
    "print(f'Регион №1 Риск убытков: {region_1_risk}%')"
   ]
  },
  {
   "cell_type": "code",
   "execution_count": 42,
   "metadata": {},
   "outputs": [
    {
     "name": "stdout",
     "output_type": "stream",
     "text": [
      "Регион №1 средняя выручка =  461155817.28\n",
      "Регион №1 95 %ый доверительный интервал по квантилям =  (78050810.74800001, 862952060.26)\n",
      "Регион №1 Риск убытков: 0.7%\n"
     ]
    }
   ],
   "source": [
    "revenue_2_mean, region_2_risk, refion_2_quantile = bootstrap(target_valid_2.reset_index(drop=True), \n",
    "                                                             region_2_predicted, 1000, 500)\n",
    "print('Регион №1 средняя выручка = ', revenue_2_mean)\n",
    "print('Регион №1 95 %ый доверительный интервал по квантилям = ', refion_2_quantile)\n",
    "print(f'Регион №1 Риск убытков: {region_2_risk}%')"
   ]
  },
  {
   "cell_type": "code",
   "execution_count": 43,
   "metadata": {},
   "outputs": [
    {
     "name": "stdout",
     "output_type": "stream",
     "text": [
      "Регион №1 средняя выручка =  392950475.17\n",
      "Регион №1 95 %ый доверительный интервал по квантилям =  (-112227625.37975, 934562914.5469998)\n",
      "Регион №1 Риск убытков: 6.5%\n"
     ]
    }
   ],
   "source": [
    "revenue_3_mean, region_3_risk, refion_3_quantile = bootstrap(target_valid_3.reset_index(drop=True), \n",
    "                                                             region_3_predicted, 1000, 500)\n",
    "print('Регион №1 средняя выручка = ', revenue_3_mean)\n",
    "print('Регион №1 95 %ый доверительный интервал по квантилям = ', refion_3_quantile)\n",
    "print(f'Регион №1 Риск убытков: {region_3_risk}%')"
   ]
  },
  {
   "cell_type": "markdown",
   "metadata": {},
   "source": [
    "### Вывод"
   ]
  },
  {
   "cell_type": "markdown",
   "metadata": {},
   "source": [
    "| Регион | RMSE | Среднее фактическое, тыс.баррелей | Среднее предсказанное, тыс.баррелей| Средняя выручка | Риск убытка |\n",
    "| --- | --- | --- | --- | --- | --- |\n",
    "| 1 | 37.58 | 92.50 | 92.59 | 391783677.38 | 7.0% |\n",
    "| 2 | 0.89 | 68.83 | 68.73 | 447095482.79 | 1.2% |\n",
    "| 3 | 40.03 | 95.00 | 94.97 | 395329259.55 | 5.7% |"
   ]
  },
  {
   "cell_type": "markdown",
   "metadata": {},
   "source": [
    "Рекомендуется проводить разработку месторождений в регионе №2. \n",
    "Согласно прогнозам сделанным с помощью техники Bootstrap, наиболее прибыльным будет разработка месторождений в регионе №2. В данном регионе самые высокие показатели средней выручки и 95%-ного доверительного интервала. Также в регионе №2 самый низкий риск убытков."
   ]
  },
  {
   "cell_type": "markdown",
   "metadata": {},
   "source": [
    "## Вывод"
   ]
  },
  {
   "cell_type": "markdown",
   "metadata": {},
   "source": [
    "1. Провели исследовательский анализ данных, проверили датасеты на наличие пропусков, дупликатов, а также посмотрели на распределения признаков, запасы нефти распределены не нормально.\n",
    "2. Построили линейную модель, для предсказания объемов нефти в скважинах.\n",
    "3. Затем мы выполнили процедуру бутстрэпа и нашли 95% доверительный интервал для среднего объема нефти в скважинах. Наиболее перспективным для разработки представляется регион № 2, поскольку риски убытков наименьшие, а средняя прибыль наибольшая."
   ]
  },
  {
   "cell_type": "code",
   "execution_count": null,
   "metadata": {},
   "outputs": [],
   "source": []
  }
 ],
 "metadata": {
  "ExecuteTimeLog": [
   {
    "duration": 57,
    "start_time": "2022-11-14T16:25:37.151Z"
   },
   {
    "duration": 1712,
    "start_time": "2022-11-14T16:25:41.065Z"
   },
   {
    "duration": 572,
    "start_time": "2022-11-14T16:25:43.400Z"
   },
   {
    "duration": 172,
    "start_time": "2022-11-14T16:25:55.213Z"
   },
   {
    "duration": 18,
    "start_time": "2022-11-14T17:37:42.420Z"
   },
   {
    "duration": 16,
    "start_time": "2022-11-14T17:37:48.548Z"
   },
   {
    "duration": 148,
    "start_time": "2022-11-14T17:39:20.090Z"
   },
   {
    "duration": 16,
    "start_time": "2022-11-14T17:39:22.291Z"
   },
   {
    "duration": 43,
    "start_time": "2022-11-14T17:39:48.340Z"
   },
   {
    "duration": 4,
    "start_time": "2022-11-14T17:46:40.175Z"
   },
   {
    "duration": 370,
    "start_time": "2022-11-14T17:46:51.600Z"
   },
   {
    "duration": 41,
    "start_time": "2022-11-14T17:47:38.761Z"
   },
   {
    "duration": 13,
    "start_time": "2022-11-14T17:47:54.362Z"
   },
   {
    "duration": 11,
    "start_time": "2022-11-14T17:47:58.948Z"
   },
   {
    "duration": 40,
    "start_time": "2022-11-14T17:48:03.542Z"
   },
   {
    "duration": 73,
    "start_time": "2022-11-14T17:48:57.739Z"
   },
   {
    "duration": 10,
    "start_time": "2022-11-14T17:49:17.755Z"
   },
   {
    "duration": 17,
    "start_time": "2022-11-14T17:49:25.795Z"
   },
   {
    "duration": 73,
    "start_time": "2022-11-14T17:50:53.339Z"
   },
   {
    "duration": 5,
    "start_time": "2022-11-14T17:51:34.497Z"
   },
   {
    "duration": 17,
    "start_time": "2022-11-14T17:51:45.657Z"
   },
   {
    "duration": 1429,
    "start_time": "2022-11-14T17:52:03.146Z"
   },
   {
    "duration": 135,
    "start_time": "2022-11-14T17:52:04.578Z"
   },
   {
    "duration": 19,
    "start_time": "2022-11-14T17:52:04.715Z"
   },
   {
    "duration": 37,
    "start_time": "2022-11-14T17:52:04.736Z"
   },
   {
    "duration": 5,
    "start_time": "2022-11-14T17:52:04.775Z"
   },
   {
    "duration": 375,
    "start_time": "2022-11-14T17:52:04.782Z"
   },
   {
    "duration": 43,
    "start_time": "2022-11-14T17:52:05.158Z"
   },
   {
    "duration": 91,
    "start_time": "2022-11-14T17:52:05.203Z"
   },
   {
    "duration": 30,
    "start_time": "2022-11-14T17:52:05.296Z"
   },
   {
    "duration": 15,
    "start_time": "2022-11-14T17:52:05.329Z"
   },
   {
    "duration": 1620,
    "start_time": "2022-11-14T17:57:03.307Z"
   },
   {
    "duration": 179,
    "start_time": "2022-11-14T17:57:04.930Z"
   },
   {
    "duration": 19,
    "start_time": "2022-11-14T17:57:05.111Z"
   },
   {
    "duration": 37,
    "start_time": "2022-11-14T17:57:05.133Z"
   },
   {
    "duration": 3,
    "start_time": "2022-11-14T17:57:05.172Z"
   },
   {
    "duration": 373,
    "start_time": "2022-11-14T17:57:05.177Z"
   },
   {
    "duration": 41,
    "start_time": "2022-11-14T17:57:05.551Z"
   },
   {
    "duration": 97,
    "start_time": "2022-11-14T17:57:05.593Z"
   },
   {
    "duration": 31,
    "start_time": "2022-11-14T17:57:05.692Z"
   },
   {
    "duration": 16,
    "start_time": "2022-11-14T17:57:05.726Z"
   },
   {
    "duration": 225,
    "start_time": "2022-11-14T17:57:05.744Z"
   },
   {
    "duration": 15,
    "start_time": "2022-11-14T17:57:05.971Z"
   },
   {
    "duration": 41,
    "start_time": "2022-11-14T17:57:05.988Z"
   },
   {
    "duration": 337,
    "start_time": "2022-11-14T17:57:06.032Z"
   },
   {
    "duration": 51,
    "start_time": "2022-11-14T17:57:06.372Z"
   },
   {
    "duration": 13,
    "start_time": "2022-11-14T17:57:06.424Z"
   },
   {
    "duration": 210,
    "start_time": "2022-11-14T17:57:06.439Z"
   },
   {
    "duration": 14,
    "start_time": "2022-11-14T17:57:06.651Z"
   },
   {
    "duration": 54,
    "start_time": "2022-11-14T17:57:06.668Z"
   },
   {
    "duration": 418,
    "start_time": "2022-11-14T17:57:06.724Z"
   },
   {
    "duration": 42,
    "start_time": "2022-11-14T17:57:07.144Z"
   },
   {
    "duration": 11,
    "start_time": "2022-11-14T17:57:07.188Z"
   },
   {
    "duration": 136,
    "start_time": "2022-11-14T18:01:01.745Z"
   },
   {
    "duration": 176,
    "start_time": "2022-11-14T18:01:34.981Z"
   },
   {
    "duration": 4,
    "start_time": "2022-11-14T19:29:22.970Z"
   },
   {
    "duration": 382,
    "start_time": "2022-11-14T19:29:51.256Z"
   },
   {
    "duration": 387,
    "start_time": "2022-11-14T19:31:16.359Z"
   },
   {
    "duration": 129,
    "start_time": "2022-11-14T19:31:52.288Z"
   },
   {
    "duration": 396,
    "start_time": "2022-11-14T19:32:18.776Z"
   },
   {
    "duration": 502,
    "start_time": "2022-11-14T19:32:34.399Z"
   },
   {
    "duration": 381,
    "start_time": "2022-11-14T19:32:45.186Z"
   },
   {
    "duration": 374,
    "start_time": "2022-11-14T19:32:49.669Z"
   },
   {
    "duration": 492,
    "start_time": "2022-11-14T19:32:59.830Z"
   },
   {
    "duration": 384,
    "start_time": "2022-11-14T19:33:07.005Z"
   },
   {
    "duration": 399,
    "start_time": "2022-11-14T19:33:11.936Z"
   },
   {
    "duration": 380,
    "start_time": "2022-11-14T19:33:26.925Z"
   },
   {
    "duration": 223,
    "start_time": "2022-11-14T19:34:23.324Z"
   },
   {
    "duration": 518,
    "start_time": "2022-11-14T19:34:46.475Z"
   },
   {
    "duration": 397,
    "start_time": "2022-11-14T19:34:50.731Z"
   },
   {
    "duration": 5,
    "start_time": "2022-11-14T19:43:43.677Z"
   },
   {
    "duration": 495,
    "start_time": "2022-11-14T19:43:45.964Z"
   },
   {
    "duration": 4,
    "start_time": "2022-11-14T19:44:21.803Z"
   },
   {
    "duration": 611,
    "start_time": "2022-11-14T19:44:24.525Z"
   },
   {
    "duration": 4,
    "start_time": "2022-11-14T19:44:37.477Z"
   },
   {
    "duration": 479,
    "start_time": "2022-11-14T19:44:39.252Z"
   },
   {
    "duration": 5,
    "start_time": "2022-11-14T19:45:44.588Z"
   },
   {
    "duration": 569,
    "start_time": "2022-11-14T19:45:47.058Z"
   },
   {
    "duration": 4,
    "start_time": "2022-11-14T19:45:56.524Z"
   },
   {
    "duration": 4,
    "start_time": "2022-11-14T19:46:22.411Z"
   },
   {
    "duration": 17,
    "start_time": "2022-11-14T19:46:24.803Z"
   },
   {
    "duration": 4,
    "start_time": "2022-11-14T19:47:22.053Z"
   },
   {
    "duration": 643,
    "start_time": "2022-11-14T19:47:23.979Z"
   },
   {
    "duration": 5,
    "start_time": "2022-11-14T19:50:28.807Z"
   },
   {
    "duration": 10,
    "start_time": "2022-11-14T19:50:31.288Z"
   },
   {
    "duration": 577,
    "start_time": "2022-11-14T19:50:43.920Z"
   },
   {
    "duration": 5,
    "start_time": "2022-11-14T19:50:50.583Z"
   },
   {
    "duration": 448,
    "start_time": "2022-11-14T19:50:53.032Z"
   },
   {
    "duration": 10,
    "start_time": "2022-11-14T19:51:48.962Z"
   },
   {
    "duration": 639,
    "start_time": "2022-11-14T19:52:12.422Z"
   },
   {
    "duration": 358,
    "start_time": "2022-11-14T19:52:14.240Z"
   },
   {
    "duration": 5,
    "start_time": "2022-11-14T19:52:53.510Z"
   },
   {
    "duration": 144,
    "start_time": "2022-11-14T19:52:56.717Z"
   },
   {
    "duration": 6,
    "start_time": "2022-11-14T19:53:07.720Z"
   },
   {
    "duration": 503,
    "start_time": "2022-11-14T19:53:10.899Z"
   },
   {
    "duration": 632,
    "start_time": "2022-11-14T19:53:20.355Z"
   },
   {
    "duration": 364,
    "start_time": "2022-11-14T19:53:28.141Z"
   },
   {
    "duration": 516,
    "start_time": "2022-11-14T19:53:50.510Z"
   },
   {
    "duration": 5,
    "start_time": "2022-11-14T20:11:38.945Z"
   },
   {
    "duration": 9,
    "start_time": "2022-11-14T20:12:38.659Z"
   },
   {
    "duration": 5,
    "start_time": "2022-11-14T20:12:45.281Z"
   },
   {
    "duration": 11,
    "start_time": "2022-11-14T20:12:46.247Z"
   },
   {
    "duration": 6,
    "start_time": "2022-11-14T20:12:58.389Z"
   },
   {
    "duration": 79,
    "start_time": "2022-11-14T20:13:00.319Z"
   },
   {
    "duration": 4,
    "start_time": "2022-11-14T20:15:45.349Z"
   },
   {
    "duration": 7,
    "start_time": "2022-11-14T20:16:01.621Z"
   },
   {
    "duration": 6,
    "start_time": "2022-11-14T20:16:08.966Z"
   },
   {
    "duration": 83,
    "start_time": "2022-11-14T20:16:11.069Z"
   },
   {
    "duration": 8,
    "start_time": "2022-11-14T20:16:25.237Z"
   },
   {
    "duration": 96,
    "start_time": "2022-11-14T20:16:27.108Z"
   },
   {
    "duration": 1442,
    "start_time": "2022-11-14T20:17:00.708Z"
   },
   {
    "duration": 143,
    "start_time": "2022-11-14T20:17:02.152Z"
   },
   {
    "duration": 14,
    "start_time": "2022-11-14T20:17:02.296Z"
   },
   {
    "duration": 52,
    "start_time": "2022-11-14T20:17:02.321Z"
   },
   {
    "duration": 3,
    "start_time": "2022-11-14T20:17:02.375Z"
   },
   {
    "duration": 342,
    "start_time": "2022-11-14T20:17:02.379Z"
   },
   {
    "duration": 39,
    "start_time": "2022-11-14T20:17:02.722Z"
   },
   {
    "duration": 84,
    "start_time": "2022-11-14T20:17:02.762Z"
   },
   {
    "duration": 14,
    "start_time": "2022-11-14T20:17:02.847Z"
   },
   {
    "duration": 12,
    "start_time": "2022-11-14T20:17:02.863Z"
   },
   {
    "duration": 131,
    "start_time": "2022-11-14T20:17:02.877Z"
   },
   {
    "duration": 16,
    "start_time": "2022-11-14T20:17:03.009Z"
   },
   {
    "duration": 34,
    "start_time": "2022-11-14T20:17:03.027Z"
   },
   {
    "duration": 350,
    "start_time": "2022-11-14T20:17:03.063Z"
   },
   {
    "duration": 40,
    "start_time": "2022-11-14T20:17:03.415Z"
   },
   {
    "duration": 11,
    "start_time": "2022-11-14T20:17:03.456Z"
   },
   {
    "duration": 136,
    "start_time": "2022-11-14T20:17:03.469Z"
   },
   {
    "duration": 22,
    "start_time": "2022-11-14T20:17:03.606Z"
   },
   {
    "duration": 37,
    "start_time": "2022-11-14T20:17:03.630Z"
   },
   {
    "duration": 430,
    "start_time": "2022-11-14T20:17:03.668Z"
   },
   {
    "duration": 64,
    "start_time": "2022-11-14T20:17:04.100Z"
   },
   {
    "duration": 13,
    "start_time": "2022-11-14T20:17:04.167Z"
   },
   {
    "duration": 8,
    "start_time": "2022-11-14T20:17:04.182Z"
   },
   {
    "duration": 10,
    "start_time": "2022-11-14T20:17:04.193Z"
   },
   {
    "duration": 511,
    "start_time": "2022-11-14T20:17:04.205Z"
   },
   {
    "duration": 330,
    "start_time": "2022-11-14T20:17:04.721Z"
   },
   {
    "duration": 635,
    "start_time": "2022-11-14T20:17:05.053Z"
   },
   {
    "duration": 6,
    "start_time": "2022-11-14T20:17:05.692Z"
   },
   {
    "duration": 328,
    "start_time": "2022-11-14T20:17:05.700Z"
   },
   {
    "duration": 0,
    "start_time": "2022-11-14T20:17:06.030Z"
   },
   {
    "duration": 0,
    "start_time": "2022-11-14T20:17:06.031Z"
   },
   {
    "duration": 4,
    "start_time": "2022-11-14T20:17:21.046Z"
   },
   {
    "duration": 142,
    "start_time": "2022-11-14T20:17:26.085Z"
   },
   {
    "duration": 100,
    "start_time": "2022-11-14T20:18:09.723Z"
   },
   {
    "duration": 43,
    "start_time": "2022-11-14T20:18:14.827Z"
   },
   {
    "duration": 11,
    "start_time": "2022-11-14T20:20:22.369Z"
   },
   {
    "duration": 546,
    "start_time": "2022-11-14T20:20:34.778Z"
   },
   {
    "duration": 17,
    "start_time": "2022-11-15T17:06:40.738Z"
   },
   {
    "duration": 45,
    "start_time": "2022-11-15T17:06:44.800Z"
   },
   {
    "duration": 1702,
    "start_time": "2022-11-15T17:06:51.445Z"
   },
   {
    "duration": 485,
    "start_time": "2022-11-15T17:06:53.150Z"
   },
   {
    "duration": 14,
    "start_time": "2022-11-15T17:06:53.637Z"
   },
   {
    "duration": 45,
    "start_time": "2022-11-15T17:06:53.653Z"
   },
   {
    "duration": 21,
    "start_time": "2022-11-15T17:06:53.701Z"
   },
   {
    "duration": 420,
    "start_time": "2022-11-15T17:06:53.725Z"
   },
   {
    "duration": 54,
    "start_time": "2022-11-15T17:06:54.147Z"
   },
   {
    "duration": 134,
    "start_time": "2022-11-15T17:06:54.203Z"
   },
   {
    "duration": 22,
    "start_time": "2022-11-15T17:06:54.340Z"
   },
   {
    "duration": 25,
    "start_time": "2022-11-15T17:06:54.365Z"
   },
   {
    "duration": 213,
    "start_time": "2022-11-15T17:06:54.392Z"
   },
   {
    "duration": 15,
    "start_time": "2022-11-15T17:06:54.606Z"
   },
   {
    "duration": 39,
    "start_time": "2022-11-15T17:06:54.622Z"
   },
   {
    "duration": 376,
    "start_time": "2022-11-15T17:06:54.664Z"
   },
   {
    "duration": 47,
    "start_time": "2022-11-15T17:06:55.043Z"
   },
   {
    "duration": 33,
    "start_time": "2022-11-15T17:06:55.092Z"
   },
   {
    "duration": 199,
    "start_time": "2022-11-15T17:06:55.128Z"
   },
   {
    "duration": 14,
    "start_time": "2022-11-15T17:06:55.329Z"
   },
   {
    "duration": 39,
    "start_time": "2022-11-15T17:06:55.344Z"
   },
   {
    "duration": 428,
    "start_time": "2022-11-15T17:06:55.385Z"
   },
   {
    "duration": 54,
    "start_time": "2022-11-15T17:06:55.814Z"
   },
   {
    "duration": 14,
    "start_time": "2022-11-15T17:06:55.870Z"
   },
   {
    "duration": 6,
    "start_time": "2022-11-15T17:06:55.887Z"
   },
   {
    "duration": 29,
    "start_time": "2022-11-15T17:06:55.895Z"
   },
   {
    "duration": 576,
    "start_time": "2022-11-15T17:06:55.926Z"
   },
   {
    "duration": 363,
    "start_time": "2022-11-15T17:06:56.504Z"
   },
   {
    "duration": 678,
    "start_time": "2022-11-15T17:06:56.869Z"
   },
   {
    "duration": 10,
    "start_time": "2022-11-15T17:06:57.549Z"
   },
   {
    "duration": 570,
    "start_time": "2022-11-15T17:06:57.561Z"
   },
   {
    "duration": 3,
    "start_time": "2022-11-15T17:08:22.022Z"
   },
   {
    "duration": 123,
    "start_time": "2022-11-15T17:09:29.907Z"
   },
   {
    "duration": 3,
    "start_time": "2022-11-15T17:09:32.749Z"
   },
   {
    "duration": 3,
    "start_time": "2022-11-15T17:09:34.605Z"
   },
   {
    "duration": 3,
    "start_time": "2022-11-15T17:09:37.956Z"
   },
   {
    "duration": 3,
    "start_time": "2022-11-15T17:09:40.524Z"
   },
   {
    "duration": 4,
    "start_time": "2022-11-15T17:09:52.076Z"
   },
   {
    "duration": 3,
    "start_time": "2022-11-15T17:10:44.380Z"
   },
   {
    "duration": 4,
    "start_time": "2022-11-15T17:10:46.512Z"
   },
   {
    "duration": 3,
    "start_time": "2022-11-15T17:10:48.460Z"
   },
   {
    "duration": 3,
    "start_time": "2022-11-15T17:11:54.905Z"
   },
   {
    "duration": 4,
    "start_time": "2022-11-15T17:15:06.961Z"
   },
   {
    "duration": 10,
    "start_time": "2022-11-15T17:15:28.456Z"
   },
   {
    "duration": 72,
    "start_time": "2022-11-15T17:15:41.169Z"
   },
   {
    "duration": 5,
    "start_time": "2022-11-15T17:15:49.247Z"
   },
   {
    "duration": 3,
    "start_time": "2022-11-15T17:16:37.765Z"
   },
   {
    "duration": 3,
    "start_time": "2022-11-15T17:20:04.622Z"
   },
   {
    "duration": 4,
    "start_time": "2022-11-15T17:20:08.191Z"
   },
   {
    "duration": 71,
    "start_time": "2022-11-15T17:20:29.644Z"
   },
   {
    "duration": 87,
    "start_time": "2022-11-15T17:20:46.460Z"
   },
   {
    "duration": 3,
    "start_time": "2022-11-15T17:21:55.094Z"
   },
   {
    "duration": 13,
    "start_time": "2022-11-15T17:22:39.967Z"
   },
   {
    "duration": 14,
    "start_time": "2022-11-15T17:27:54.728Z"
   },
   {
    "duration": 4,
    "start_time": "2022-11-15T17:27:59.246Z"
   },
   {
    "duration": 4,
    "start_time": "2022-11-15T17:28:00.726Z"
   },
   {
    "duration": 3,
    "start_time": "2022-11-15T17:28:18.758Z"
   },
   {
    "duration": 5,
    "start_time": "2022-11-15T17:28:20.566Z"
   },
   {
    "duration": 3,
    "start_time": "2022-11-15T17:29:04.961Z"
   },
   {
    "duration": 4,
    "start_time": "2022-11-15T17:29:06.424Z"
   },
   {
    "duration": 4,
    "start_time": "2022-11-15T17:29:14.855Z"
   },
   {
    "duration": 4,
    "start_time": "2022-11-15T17:29:17.135Z"
   },
   {
    "duration": 74,
    "start_time": "2022-11-15T17:31:11.916Z"
   },
   {
    "duration": 71,
    "start_time": "2022-11-15T17:31:19.288Z"
   },
   {
    "duration": 65,
    "start_time": "2022-11-15T17:31:21.244Z"
   },
   {
    "duration": 65,
    "start_time": "2022-11-15T17:31:35.476Z"
   },
   {
    "duration": 64,
    "start_time": "2022-11-15T17:31:43.339Z"
   },
   {
    "duration": 4,
    "start_time": "2022-11-15T17:32:45.348Z"
   },
   {
    "duration": 5,
    "start_time": "2022-11-15T17:32:48.361Z"
   },
   {
    "duration": 6,
    "start_time": "2022-11-15T17:33:06.843Z"
   },
   {
    "duration": 6,
    "start_time": "2022-11-15T17:33:11.369Z"
   },
   {
    "duration": 3,
    "start_time": "2022-11-15T17:33:38.132Z"
   },
   {
    "duration": 3,
    "start_time": "2022-11-15T17:33:39.049Z"
   },
   {
    "duration": 6,
    "start_time": "2022-11-15T17:33:40.009Z"
   },
   {
    "duration": 5,
    "start_time": "2022-11-15T17:34:22.319Z"
   },
   {
    "duration": 7,
    "start_time": "2022-11-15T17:34:22.910Z"
   },
   {
    "duration": 3,
    "start_time": "2022-11-15T17:34:38.753Z"
   },
   {
    "duration": 6,
    "start_time": "2022-11-15T17:34:40.345Z"
   },
   {
    "duration": 4,
    "start_time": "2022-11-15T17:34:50.911Z"
   },
   {
    "duration": 6,
    "start_time": "2022-11-15T17:34:51.432Z"
   },
   {
    "duration": 3,
    "start_time": "2022-11-15T17:35:13.849Z"
   },
   {
    "duration": 7,
    "start_time": "2022-11-15T17:35:14.480Z"
   },
   {
    "duration": 4,
    "start_time": "2022-11-15T17:37:18.080Z"
   },
   {
    "duration": 7,
    "start_time": "2022-11-15T17:37:18.813Z"
   },
   {
    "duration": 3,
    "start_time": "2022-11-15T17:37:44.009Z"
   },
   {
    "duration": 7,
    "start_time": "2022-11-15T17:37:44.602Z"
   },
   {
    "duration": 3,
    "start_time": "2022-11-15T17:40:02.256Z"
   },
   {
    "duration": 4,
    "start_time": "2022-11-15T17:40:15.909Z"
   },
   {
    "duration": 5,
    "start_time": "2022-11-15T17:40:17.712Z"
   },
   {
    "duration": 4,
    "start_time": "2022-11-15T17:40:49.345Z"
   },
   {
    "duration": 7,
    "start_time": "2022-11-15T17:40:51.205Z"
   },
   {
    "duration": 7,
    "start_time": "2022-11-15T17:40:55.964Z"
   },
   {
    "duration": 3,
    "start_time": "2022-11-15T17:43:28.115Z"
   },
   {
    "duration": 5,
    "start_time": "2022-11-15T17:43:44.381Z"
   },
   {
    "duration": 6,
    "start_time": "2022-11-15T17:43:45.545Z"
   },
   {
    "duration": 242,
    "start_time": "2022-11-15T17:52:01.580Z"
   },
   {
    "duration": 127,
    "start_time": "2022-11-15T17:52:56.006Z"
   },
   {
    "duration": 243,
    "start_time": "2022-11-15T17:53:22.882Z"
   },
   {
    "duration": 160,
    "start_time": "2022-11-15T17:54:27.269Z"
   },
   {
    "duration": 8,
    "start_time": "2022-11-15T17:55:04.924Z"
   },
   {
    "duration": 616,
    "start_time": "2022-11-15T17:55:05.706Z"
   },
   {
    "duration": 471,
    "start_time": "2022-11-15T17:55:12.752Z"
   },
   {
    "duration": 503,
    "start_time": "2022-11-15T17:55:44.520Z"
   },
   {
    "duration": 3,
    "start_time": "2022-11-15T17:59:21.862Z"
   },
   {
    "duration": 7,
    "start_time": "2022-11-15T18:01:32.562Z"
   },
   {
    "duration": 401,
    "start_time": "2022-11-15T18:01:33.852Z"
   },
   {
    "duration": 27,
    "start_time": "2022-11-15T18:02:03.275Z"
   },
   {
    "duration": 3,
    "start_time": "2022-11-15T18:02:06.036Z"
   },
   {
    "duration": 4,
    "start_time": "2022-11-15T18:02:09.007Z"
   },
   {
    "duration": 24,
    "start_time": "2022-11-15T18:02:11.763Z"
   },
   {
    "duration": 1448,
    "start_time": "2022-11-15T19:48:52.858Z"
   },
   {
    "duration": 133,
    "start_time": "2022-11-15T19:48:54.309Z"
   },
   {
    "duration": 14,
    "start_time": "2022-11-15T19:48:54.444Z"
   },
   {
    "duration": 36,
    "start_time": "2022-11-15T19:48:54.460Z"
   },
   {
    "duration": 24,
    "start_time": "2022-11-15T19:48:54.498Z"
   },
   {
    "duration": 333,
    "start_time": "2022-11-15T19:48:54.523Z"
   },
   {
    "duration": 39,
    "start_time": "2022-11-15T19:48:54.858Z"
   },
   {
    "duration": 89,
    "start_time": "2022-11-15T19:48:54.899Z"
   },
   {
    "duration": 15,
    "start_time": "2022-11-15T19:48:54.989Z"
   },
   {
    "duration": 14,
    "start_time": "2022-11-15T19:48:55.022Z"
   },
   {
    "duration": 123,
    "start_time": "2022-11-15T19:48:55.038Z"
   },
   {
    "duration": 22,
    "start_time": "2022-11-15T19:48:55.163Z"
   },
   {
    "duration": 65,
    "start_time": "2022-11-15T19:48:55.188Z"
   },
   {
    "duration": 349,
    "start_time": "2022-11-15T19:48:55.255Z"
   },
   {
    "duration": 46,
    "start_time": "2022-11-15T19:48:55.606Z"
   },
   {
    "duration": 13,
    "start_time": "2022-11-15T19:48:55.653Z"
   },
   {
    "duration": 126,
    "start_time": "2022-11-15T19:48:55.668Z"
   },
   {
    "duration": 15,
    "start_time": "2022-11-15T19:48:55.796Z"
   },
   {
    "duration": 47,
    "start_time": "2022-11-15T19:48:55.813Z"
   },
   {
    "duration": 412,
    "start_time": "2022-11-15T19:48:55.862Z"
   },
   {
    "duration": 48,
    "start_time": "2022-11-15T19:48:56.276Z"
   },
   {
    "duration": 15,
    "start_time": "2022-11-15T19:48:56.326Z"
   },
   {
    "duration": 4,
    "start_time": "2022-11-15T19:48:56.344Z"
   },
   {
    "duration": 6,
    "start_time": "2022-11-15T19:48:56.350Z"
   },
   {
    "duration": 522,
    "start_time": "2022-11-15T19:48:56.358Z"
   },
   {
    "duration": 329,
    "start_time": "2022-11-15T19:48:56.882Z"
   },
   {
    "duration": 624,
    "start_time": "2022-11-15T19:48:57.213Z"
   },
   {
    "duration": 9,
    "start_time": "2022-11-15T19:48:57.842Z"
   },
   {
    "duration": 570,
    "start_time": "2022-11-15T19:48:57.853Z"
   },
   {
    "duration": 3,
    "start_time": "2022-11-15T19:48:58.425Z"
   },
   {
    "duration": 97,
    "start_time": "2022-11-15T19:48:58.430Z"
   },
   {
    "duration": 14,
    "start_time": "2022-11-15T19:48:58.529Z"
   },
   {
    "duration": 5,
    "start_time": "2022-11-15T19:48:58.544Z"
   },
   {
    "duration": 6,
    "start_time": "2022-11-15T19:48:58.550Z"
   },
   {
    "duration": 6,
    "start_time": "2022-11-15T19:48:58.558Z"
   },
   {
    "duration": 5,
    "start_time": "2022-11-15T19:48:58.565Z"
   },
   {
    "duration": 11,
    "start_time": "2022-11-15T19:48:58.571Z"
   },
   {
    "duration": 6,
    "start_time": "2022-11-15T19:48:58.583Z"
   },
   {
    "duration": 123,
    "start_time": "2022-11-15T19:48:58.590Z"
   },
   {
    "duration": 4,
    "start_time": "2022-11-15T19:49:27.963Z"
   },
   {
    "duration": 26,
    "start_time": "2022-11-15T19:49:30.130Z"
   },
   {
    "duration": 23,
    "start_time": "2022-11-15T19:49:57.931Z"
   },
   {
    "duration": 6,
    "start_time": "2022-11-15T19:51:09.881Z"
   },
   {
    "duration": 492,
    "start_time": "2022-11-15T19:51:11.632Z"
   },
   {
    "duration": 4,
    "start_time": "2022-11-15T19:51:19.176Z"
   },
   {
    "duration": 17,
    "start_time": "2022-11-15T19:51:21.412Z"
   },
   {
    "duration": 6,
    "start_time": "2022-11-15T19:52:46.857Z"
   },
   {
    "duration": 526,
    "start_time": "2022-11-15T19:52:47.697Z"
   },
   {
    "duration": 23,
    "start_time": "2022-11-15T19:52:50.520Z"
   },
   {
    "duration": 4,
    "start_time": "2022-11-15T19:53:57.855Z"
   },
   {
    "duration": 23,
    "start_time": "2022-11-15T19:54:00.431Z"
   },
   {
    "duration": 3,
    "start_time": "2022-11-15T19:54:46.662Z"
   },
   {
    "duration": 25,
    "start_time": "2022-11-15T19:54:48.375Z"
   },
   {
    "duration": 3,
    "start_time": "2022-11-15T19:55:13.249Z"
   },
   {
    "duration": 4,
    "start_time": "2022-11-15T19:56:25.972Z"
   },
   {
    "duration": 17,
    "start_time": "2022-11-15T19:56:28.038Z"
   },
   {
    "duration": 4,
    "start_time": "2022-11-15T19:56:43.436Z"
   },
   {
    "duration": 19,
    "start_time": "2022-11-15T19:56:45.228Z"
   },
   {
    "duration": 4,
    "start_time": "2022-11-15T19:57:02.799Z"
   },
   {
    "duration": 15,
    "start_time": "2022-11-15T19:57:04.293Z"
   },
   {
    "duration": 4,
    "start_time": "2022-11-15T19:59:11.050Z"
   },
   {
    "duration": 15,
    "start_time": "2022-11-15T19:59:12.394Z"
   },
   {
    "duration": 6,
    "start_time": "2022-11-15T20:00:27.369Z"
   },
   {
    "duration": 543,
    "start_time": "2022-11-15T20:00:28.881Z"
   },
   {
    "duration": 6,
    "start_time": "2022-11-15T20:00:37.161Z"
   },
   {
    "duration": 3,
    "start_time": "2022-11-15T20:00:39.361Z"
   },
   {
    "duration": 17,
    "start_time": "2022-11-15T20:00:41.049Z"
   },
   {
    "duration": 10,
    "start_time": "2022-11-15T20:05:09.042Z"
   },
   {
    "duration": 488,
    "start_time": "2022-11-15T20:05:10.835Z"
   },
   {
    "duration": 3,
    "start_time": "2022-11-15T20:05:17.703Z"
   },
   {
    "duration": 15,
    "start_time": "2022-11-15T20:05:18.261Z"
   },
   {
    "duration": 15,
    "start_time": "2022-11-15T20:05:52.960Z"
   },
   {
    "duration": 16,
    "start_time": "2022-11-15T20:06:35.501Z"
   },
   {
    "duration": 15,
    "start_time": "2022-11-15T20:07:06.485Z"
   },
   {
    "duration": 4,
    "start_time": "2022-11-15T20:07:31.990Z"
   },
   {
    "duration": 14,
    "start_time": "2022-11-15T20:07:39.374Z"
   },
   {
    "duration": 4,
    "start_time": "2022-11-15T20:07:42.149Z"
   },
   {
    "duration": 15,
    "start_time": "2022-11-15T20:07:42.652Z"
   },
   {
    "duration": 5,
    "start_time": "2022-11-15T20:10:27.353Z"
   },
   {
    "duration": 10,
    "start_time": "2022-11-15T20:10:28.097Z"
   },
   {
    "duration": 970,
    "start_time": "2022-11-15T20:11:04.384Z"
   },
   {
    "duration": 4,
    "start_time": "2022-11-15T20:11:23.832Z"
   },
   {
    "duration": 16,
    "start_time": "2022-11-15T20:11:25.392Z"
   },
   {
    "duration": 5,
    "start_time": "2022-11-15T20:11:26.601Z"
   },
   {
    "duration": 902,
    "start_time": "2022-11-15T20:11:27.176Z"
   },
   {
    "duration": 5,
    "start_time": "2022-11-15T20:12:09.488Z"
   },
   {
    "duration": 16,
    "start_time": "2022-11-15T20:12:10.088Z"
   },
   {
    "duration": 901,
    "start_time": "2022-11-15T20:12:13.040Z"
   },
   {
    "duration": 941,
    "start_time": "2022-11-15T20:13:01.771Z"
   },
   {
    "duration": 898,
    "start_time": "2022-11-15T20:13:52.039Z"
   },
   {
    "duration": 4,
    "start_time": "2022-11-15T20:34:40.440Z"
   },
   {
    "duration": 1408,
    "start_time": "2022-11-15T20:34:46.418Z"
   },
   {
    "duration": 143,
    "start_time": "2022-11-15T20:34:47.828Z"
   },
   {
    "duration": 14,
    "start_time": "2022-11-15T20:34:47.973Z"
   },
   {
    "duration": 52,
    "start_time": "2022-11-15T20:34:47.989Z"
   },
   {
    "duration": 4,
    "start_time": "2022-11-15T20:34:48.043Z"
   },
   {
    "duration": 337,
    "start_time": "2022-11-15T20:34:48.049Z"
   },
   {
    "duration": 46,
    "start_time": "2022-11-15T20:34:48.387Z"
   },
   {
    "duration": 63,
    "start_time": "2022-11-15T20:34:48.435Z"
   },
   {
    "duration": 28,
    "start_time": "2022-11-15T20:34:48.500Z"
   },
   {
    "duration": 27,
    "start_time": "2022-11-15T20:34:48.531Z"
   },
   {
    "duration": 121,
    "start_time": "2022-11-15T20:34:48.560Z"
   },
   {
    "duration": 14,
    "start_time": "2022-11-15T20:34:48.682Z"
   },
   {
    "duration": 47,
    "start_time": "2022-11-15T20:34:48.698Z"
   },
   {
    "duration": 324,
    "start_time": "2022-11-15T20:34:48.746Z"
   },
   {
    "duration": 48,
    "start_time": "2022-11-15T20:34:49.076Z"
   },
   {
    "duration": 14,
    "start_time": "2022-11-15T20:34:49.126Z"
   },
   {
    "duration": 148,
    "start_time": "2022-11-15T20:34:49.141Z"
   },
   {
    "duration": 14,
    "start_time": "2022-11-15T20:34:49.291Z"
   },
   {
    "duration": 48,
    "start_time": "2022-11-15T20:34:49.307Z"
   },
   {
    "duration": 428,
    "start_time": "2022-11-15T20:34:49.357Z"
   },
   {
    "duration": 56,
    "start_time": "2022-11-15T20:34:49.787Z"
   },
   {
    "duration": 13,
    "start_time": "2022-11-15T20:34:49.845Z"
   },
   {
    "duration": 5,
    "start_time": "2022-11-15T20:34:49.860Z"
   },
   {
    "duration": 26,
    "start_time": "2022-11-15T20:34:49.866Z"
   },
   {
    "duration": 503,
    "start_time": "2022-11-15T20:34:49.894Z"
   },
   {
    "duration": 340,
    "start_time": "2022-11-15T20:34:50.399Z"
   },
   {
    "duration": 533,
    "start_time": "2022-11-15T20:34:50.740Z"
   },
   {
    "duration": 117,
    "start_time": "2022-11-15T20:34:51.276Z"
   },
   {
    "duration": 536,
    "start_time": "2022-11-15T20:34:51.395Z"
   },
   {
    "duration": 2,
    "start_time": "2022-11-15T20:34:51.933Z"
   },
   {
    "duration": 111,
    "start_time": "2022-11-15T20:34:51.937Z"
   },
   {
    "duration": 11,
    "start_time": "2022-11-15T20:34:52.050Z"
   },
   {
    "duration": 11,
    "start_time": "2022-11-15T20:34:52.063Z"
   },
   {
    "duration": 7,
    "start_time": "2022-11-15T20:34:52.076Z"
   },
   {
    "duration": 20,
    "start_time": "2022-11-15T20:34:52.084Z"
   },
   {
    "duration": 11,
    "start_time": "2022-11-15T20:34:52.106Z"
   },
   {
    "duration": 26,
    "start_time": "2022-11-15T20:34:52.119Z"
   },
   {
    "duration": 6,
    "start_time": "2022-11-15T20:34:52.146Z"
   },
   {
    "duration": 119,
    "start_time": "2022-11-15T20:34:52.154Z"
   },
   {
    "duration": 0,
    "start_time": "2022-11-15T20:34:52.274Z"
   },
   {
    "duration": 0,
    "start_time": "2022-11-15T20:34:52.276Z"
   },
   {
    "duration": 0,
    "start_time": "2022-11-15T20:34:52.277Z"
   },
   {
    "duration": 0,
    "start_time": "2022-11-15T20:34:52.278Z"
   },
   {
    "duration": 14,
    "start_time": "2022-11-15T20:35:08.166Z"
   },
   {
    "duration": 11,
    "start_time": "2022-11-15T20:35:09.397Z"
   },
   {
    "duration": 3,
    "start_time": "2022-11-15T20:35:17.117Z"
   },
   {
    "duration": 4,
    "start_time": "2022-11-15T20:35:20.806Z"
   },
   {
    "duration": 4,
    "start_time": "2022-11-15T20:35:21.565Z"
   },
   {
    "duration": 974,
    "start_time": "2022-11-15T20:35:22.805Z"
   },
   {
    "duration": 927,
    "start_time": "2022-11-15T20:35:26.486Z"
   },
   {
    "duration": 952,
    "start_time": "2022-11-15T20:35:27.415Z"
   },
   {
    "duration": 7,
    "start_time": "2022-11-15T20:41:34.136Z"
   },
   {
    "duration": 908,
    "start_time": "2022-11-15T20:41:37.248Z"
   },
   {
    "duration": 907,
    "start_time": "2022-11-15T20:41:39.976Z"
   },
   {
    "duration": 937,
    "start_time": "2022-11-15T20:41:41.865Z"
   },
   {
    "duration": 93,
    "start_time": "2022-11-15T20:42:45.016Z"
   },
   {
    "duration": 3,
    "start_time": "2022-11-15T20:43:07.040Z"
   },
   {
    "duration": 6,
    "start_time": "2022-11-15T20:43:07.879Z"
   },
   {
    "duration": 4,
    "start_time": "2022-11-15T20:44:34.229Z"
   },
   {
    "duration": 336,
    "start_time": "2022-11-15T20:44:35.664Z"
   },
   {
    "duration": 24,
    "start_time": "2022-11-15T20:44:38.431Z"
   },
   {
    "duration": 1324,
    "start_time": "2022-11-15T20:44:48.859Z"
   },
   {
    "duration": 134,
    "start_time": "2022-11-15T20:44:50.185Z"
   },
   {
    "duration": 16,
    "start_time": "2022-11-15T20:44:50.323Z"
   },
   {
    "duration": 36,
    "start_time": "2022-11-15T20:44:50.341Z"
   },
   {
    "duration": 4,
    "start_time": "2022-11-15T20:44:50.379Z"
   },
   {
    "duration": 360,
    "start_time": "2022-11-15T20:44:50.384Z"
   },
   {
    "duration": 40,
    "start_time": "2022-11-15T20:44:50.745Z"
   },
   {
    "duration": 83,
    "start_time": "2022-11-15T20:44:50.787Z"
   },
   {
    "duration": 14,
    "start_time": "2022-11-15T20:44:50.872Z"
   },
   {
    "duration": 33,
    "start_time": "2022-11-15T20:44:50.889Z"
   },
   {
    "duration": 120,
    "start_time": "2022-11-15T20:44:50.924Z"
   },
   {
    "duration": 13,
    "start_time": "2022-11-15T20:44:51.046Z"
   },
   {
    "duration": 34,
    "start_time": "2022-11-15T20:44:51.060Z"
   },
   {
    "duration": 339,
    "start_time": "2022-11-15T20:44:51.096Z"
   },
   {
    "duration": 38,
    "start_time": "2022-11-15T20:44:51.436Z"
   },
   {
    "duration": 11,
    "start_time": "2022-11-15T20:44:51.475Z"
   },
   {
    "duration": 135,
    "start_time": "2022-11-15T20:44:51.489Z"
   },
   {
    "duration": 15,
    "start_time": "2022-11-15T20:44:51.627Z"
   },
   {
    "duration": 40,
    "start_time": "2022-11-15T20:44:51.643Z"
   },
   {
    "duration": 427,
    "start_time": "2022-11-15T20:44:51.685Z"
   },
   {
    "duration": 48,
    "start_time": "2022-11-15T20:44:52.114Z"
   },
   {
    "duration": 11,
    "start_time": "2022-11-15T20:44:52.163Z"
   },
   {
    "duration": 4,
    "start_time": "2022-11-15T20:44:52.176Z"
   },
   {
    "duration": 7,
    "start_time": "2022-11-15T20:44:52.181Z"
   },
   {
    "duration": 555,
    "start_time": "2022-11-15T20:44:52.190Z"
   },
   {
    "duration": 339,
    "start_time": "2022-11-15T20:44:52.746Z"
   },
   {
    "duration": 512,
    "start_time": "2022-11-15T20:44:53.087Z"
   },
   {
    "duration": 120,
    "start_time": "2022-11-15T20:44:53.602Z"
   },
   {
    "duration": 499,
    "start_time": "2022-11-15T20:44:53.724Z"
   },
   {
    "duration": 2,
    "start_time": "2022-11-15T20:44:54.225Z"
   },
   {
    "duration": 94,
    "start_time": "2022-11-15T20:44:54.229Z"
   },
   {
    "duration": 13,
    "start_time": "2022-11-15T20:44:54.325Z"
   },
   {
    "duration": 9,
    "start_time": "2022-11-15T20:44:54.340Z"
   },
   {
    "duration": 7,
    "start_time": "2022-11-15T20:44:54.351Z"
   },
   {
    "duration": 7,
    "start_time": "2022-11-15T20:44:54.359Z"
   },
   {
    "duration": 18,
    "start_time": "2022-11-15T20:44:54.368Z"
   },
   {
    "duration": 11,
    "start_time": "2022-11-15T20:44:54.388Z"
   },
   {
    "duration": 11,
    "start_time": "2022-11-15T20:44:54.401Z"
   },
   {
    "duration": 27,
    "start_time": "2022-11-15T20:44:54.413Z"
   },
   {
    "duration": 5,
    "start_time": "2022-11-15T20:44:54.441Z"
   },
   {
    "duration": 908,
    "start_time": "2022-11-15T20:44:54.447Z"
   },
   {
    "duration": 915,
    "start_time": "2022-11-15T20:44:55.356Z"
   },
   {
    "duration": 906,
    "start_time": "2022-11-15T20:44:56.273Z"
   }
  ],
  "kernelspec": {
   "display_name": "Python 3 (ipykernel)",
   "language": "python",
   "name": "python3"
  },
  "language_info": {
   "codemirror_mode": {
    "name": "ipython",
    "version": 3
   },
   "file_extension": ".py",
   "mimetype": "text/x-python",
   "name": "python",
   "nbconvert_exporter": "python",
   "pygments_lexer": "ipython3",
   "version": "3.9.13"
  },
  "toc": {
   "base_numbering": 1,
   "nav_menu": {},
   "number_sections": true,
   "sideBar": true,
   "skip_h1_title": true,
   "title_cell": "Содержание",
   "title_sidebar": "Contents",
   "toc_cell": false,
   "toc_position": {
    "height": "calc(100% - 180px)",
    "left": "10px",
    "top": "150px",
    "width": "279.812px"
   },
   "toc_section_display": true,
   "toc_window_display": true
  },
  "varInspector": {
   "cols": {
    "lenName": 16,
    "lenType": 16,
    "lenVar": 40
   },
   "kernels_config": {
    "python": {
     "delete_cmd_postfix": "",
     "delete_cmd_prefix": "del ",
     "library": "var_list.py",
     "varRefreshCmd": "print(var_dic_list())"
    },
    "r": {
     "delete_cmd_postfix": ") ",
     "delete_cmd_prefix": "rm(",
     "library": "var_list.r",
     "varRefreshCmd": "cat(var_dic_list()) "
    }
   },
   "types_to_exclude": [
    "module",
    "function",
    "builtin_function_or_method",
    "instance",
    "_Feature"
   ],
   "window_display": false
  }
 },
 "nbformat": 4,
 "nbformat_minor": 2
}
