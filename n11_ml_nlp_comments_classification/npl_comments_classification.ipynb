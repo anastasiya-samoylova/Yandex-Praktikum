{
 "cells": [
  {
   "cell_type": "markdown",
   "metadata": {},
   "source": [
    "# Классификация комментариев на позитивные и негативные"
   ]
  },
  {
   "cell_type": "markdown",
   "metadata": {},
   "source": [
    "Интернет-магазин запускает новый сервис. Теперь пользователи могут редактировать и дополнять описания товаров, как в вики-сообществах. То есть клиенты предлагают свои правки и комментируют изменения других. Магазину нужен инструмент, который будет искать токсичные комментарии и отправлять их на модерацию. \n",
    "\n",
    "Необходимо обучить модель классифицировать комментарии на позитивные и негативные. В нашем  распоряжении набор данных с разметкой о токсичности правок.\n",
    "\n",
    "Криетрий успешности: значение метрики качества *F1* модели должно быть не меньше 0.75. \n",
    "\n",
    "\n",
    "**Описание данных**\n",
    "\n",
    "Данные находятся в файле `---.csv`. Столбец *text* в нём содержит текст комментария, а *toxic* — целевой признак."
   ]
  },
  {
   "cell_type": "markdown",
   "metadata": {},
   "source": [
    "## Подготовка"
   ]
  },
  {
   "cell_type": "markdown",
   "metadata": {},
   "source": [
    "### Импорты"
   ]
  },
  {
   "cell_type": "code",
   "execution_count": 1,
   "metadata": {},
   "outputs": [
    {
     "name": "stderr",
     "output_type": "stream",
     "text": [
      "[nltk_data] Downloading package averaged_perceptron_tagger to\n",
      "[nltk_data]     /home/jovyan/nltk_data...\n",
      "[nltk_data]   Package averaged_perceptron_tagger is already up-to-\n",
      "[nltk_data]       date!\n"
     ]
    }
   ],
   "source": [
    "# импорты из стандартной библиотеки\n",
    "import warnings\n",
    "\n",
    "# импорты сторонних библиотек\n",
    "import numpy as np\n",
    "import pandas as pd\n",
    "import lightgbm\n",
    "import re\n",
    "import nltk\n",
    "nltk.download('averaged_perceptron_tagger')\n",
    "import matplotlib.pyplot as plt\n",
    "import spacy\n",
    "\n",
    "# импорты модулей\n",
    "\n",
    "from sklearn.feature_extraction.text import TfidfVectorizer, TfidfTransformer\n",
    "from nltk.corpus import stopwords as nltk_stopwords\n",
    "stopwords = set(nltk_stopwords.words('english'))\n",
    "from nltk.stem import WordNetLemmatizer\n",
    "from nltk.corpus import wordnet\n",
    "from lightgbm import LGBMClassifier\n",
    "from sklearn.linear_model import LogisticRegression\n",
    "from sklearn.metrics import f1_score\n",
    "from sklearn.model_selection import (\n",
    "    cross_val_score,\n",
    "    GridSearchCV,\n",
    "    KFold,\n",
    "    TimeSeriesSplit,\n",
    "    train_test_split\n",
    ")\n",
    "from sklearn.tree import DecisionTreeClassifier\n",
    "from sklearn.utils import shuffle\n",
    "from spacy.lang.en import English\n",
    "from sklearn.pipeline import Pipeline\n",
    "\n",
    "\n",
    "# настройки\n",
    "warnings.filterwarnings(\"ignore\")\n",
    "\n",
    "# константы\n",
    "RANDOM_STATE = 42"
   ]
  },
  {
   "cell_type": "code",
   "execution_count": 2,
   "metadata": {},
   "outputs": [
    {
     "data": {
      "text/html": [
       "<div>\n",
       "<style scoped>\n",
       "    .dataframe tbody tr th:only-of-type {\n",
       "        vertical-align: middle;\n",
       "    }\n",
       "\n",
       "    .dataframe tbody tr th {\n",
       "        vertical-align: top;\n",
       "    }\n",
       "\n",
       "    .dataframe thead th {\n",
       "        text-align: right;\n",
       "    }\n",
       "</style>\n",
       "<table border=\"1\" class=\"dataframe\">\n",
       "  <thead>\n",
       "    <tr style=\"text-align: right;\">\n",
       "      <th></th>\n",
       "      <th>text</th>\n",
       "      <th>toxic</th>\n",
       "    </tr>\n",
       "  </thead>\n",
       "  <tbody>\n",
       "    <tr>\n",
       "      <th>53810</th>\n",
       "      <td>Thanks for messing with my scratchpad. Real ki...</td>\n",
       "      <td>0</td>\n",
       "    </tr>\n",
       "    <tr>\n",
       "      <th>28165</th>\n",
       "      <td>\"\\nWell, I wanted to get 26328 Litomyšl a DYK,...</td>\n",
       "      <td>0</td>\n",
       "    </tr>\n",
       "    <tr>\n",
       "      <th>158141</th>\n",
       "      <td>. the other use has also said it was vandalism...</td>\n",
       "      <td>0</td>\n",
       "    </tr>\n",
       "    <tr>\n",
       "      <th>130158</th>\n",
       "      <td>July 2015 \\n\\nHello. I would like to let you k...</td>\n",
       "      <td>0</td>\n",
       "    </tr>\n",
       "    <tr>\n",
       "      <th>16386</th>\n",
       "      <td>New logo 2010-08-12 \\n\\n  (Italian)\\n  (Italia...</td>\n",
       "      <td>0</td>\n",
       "    </tr>\n",
       "  </tbody>\n",
       "</table>\n",
       "</div>"
      ],
      "text/plain": [
       "                                                     text  toxic\n",
       "53810   Thanks for messing with my scratchpad. Real ki...      0\n",
       "28165   \"\\nWell, I wanted to get 26328 Litomyšl a DYK,...      0\n",
       "158141  . the other use has also said it was vandalism...      0\n",
       "130158  July 2015 \\n\\nHello. I would like to let you k...      0\n",
       "16386   New logo 2010-08-12 \\n\\n  (Italian)\\n  (Italia...      0"
      ]
     },
     "execution_count": 2,
     "metadata": {},
     "output_type": "execute_result"
    }
   ],
   "source": [
    "df = pd.read_csv('-----.csv', index_col=0)\n",
    "df.sample(5)"
   ]
  },
  {
   "cell_type": "markdown",
   "metadata": {},
   "source": [
    "Тексты в файле на английском языке."
   ]
  },
  {
   "cell_type": "code",
   "execution_count": 3,
   "metadata": {},
   "outputs": [
    {
     "name": "stdout",
     "output_type": "stream",
     "text": [
      "<class 'pandas.core.frame.DataFrame'>\n",
      "Int64Index: 159292 entries, 0 to 159450\n",
      "Data columns (total 2 columns):\n",
      " #   Column  Non-Null Count   Dtype \n",
      "---  ------  --------------   ----- \n",
      " 0   text    159292 non-null  object\n",
      " 1   toxic   159292 non-null  int64 \n",
      "dtypes: int64(1), object(1)\n",
      "memory usage: 3.6+ MB\n"
     ]
    }
   ],
   "source": [
    "df.info()"
   ]
  },
  {
   "cell_type": "code",
   "execution_count": 4,
   "metadata": {},
   "outputs": [
    {
     "data": {
      "text/html": [
       "<div>\n",
       "<style scoped>\n",
       "    .dataframe tbody tr th:only-of-type {\n",
       "        vertical-align: middle;\n",
       "    }\n",
       "\n",
       "    .dataframe tbody tr th {\n",
       "        vertical-align: top;\n",
       "    }\n",
       "\n",
       "    .dataframe thead th {\n",
       "        text-align: right;\n",
       "    }\n",
       "</style>\n",
       "<table border=\"1\" class=\"dataframe\">\n",
       "  <thead>\n",
       "    <tr style=\"text-align: right;\">\n",
       "      <th></th>\n",
       "      <th>toxic</th>\n",
       "    </tr>\n",
       "  </thead>\n",
       "  <tbody>\n",
       "    <tr>\n",
       "      <th>count</th>\n",
       "      <td>159292.000000</td>\n",
       "    </tr>\n",
       "    <tr>\n",
       "      <th>mean</th>\n",
       "      <td>0.101612</td>\n",
       "    </tr>\n",
       "    <tr>\n",
       "      <th>std</th>\n",
       "      <td>0.302139</td>\n",
       "    </tr>\n",
       "    <tr>\n",
       "      <th>min</th>\n",
       "      <td>0.000000</td>\n",
       "    </tr>\n",
       "    <tr>\n",
       "      <th>25%</th>\n",
       "      <td>0.000000</td>\n",
       "    </tr>\n",
       "    <tr>\n",
       "      <th>50%</th>\n",
       "      <td>0.000000</td>\n",
       "    </tr>\n",
       "    <tr>\n",
       "      <th>75%</th>\n",
       "      <td>0.000000</td>\n",
       "    </tr>\n",
       "    <tr>\n",
       "      <th>max</th>\n",
       "      <td>1.000000</td>\n",
       "    </tr>\n",
       "  </tbody>\n",
       "</table>\n",
       "</div>"
      ],
      "text/plain": [
       "               toxic\n",
       "count  159292.000000\n",
       "mean        0.101612\n",
       "std         0.302139\n",
       "min         0.000000\n",
       "25%         0.000000\n",
       "50%         0.000000\n",
       "75%         0.000000\n",
       "max         1.000000"
      ]
     },
     "execution_count": 4,
     "metadata": {},
     "output_type": "execute_result"
    }
   ],
   "source": [
    "df.describe()"
   ]
  },
  {
   "cell_type": "code",
   "execution_count": 5,
   "metadata": {},
   "outputs": [
    {
     "data": {
      "text/plain": [
       "<AxesSubplot:>"
      ]
     },
     "execution_count": 5,
     "metadata": {},
     "output_type": "execute_result"
    },
    {
     "data": {
      "image/png": "[encoded data removed]",
      "text/plain": [
       "<Figure size 432x288 with 1 Axes>"
      ]
     },
     "metadata": {
      "needs_background": "light"
     },
     "output_type": "display_data"
    }
   ],
   "source": [
    "df['toxic'].value_counts(normalize=True).plot(kind='bar')"
   ]
  },
  {
   "cell_type": "markdown",
   "metadata": {},
   "source": [
    "Признак \"toxic\" установлен для 10% текстов.\n",
    "Пропусков нет."
   ]
  },
  {
   "cell_type": "markdown",
   "metadata": {},
   "source": [
    "### Очистка"
   ]
  },
  {
   "cell_type": "markdown",
   "metadata": {},
   "source": [
    "Необходимо подготовить данные для анализа:  перевести все в нижний регистр, оставить только латиницу, и удалить stop_words."
   ]
  },
  {
   "cell_type": "code",
   "execution_count": 6,
   "metadata": {},
   "outputs": [],
   "source": [
    "def clear_text(text):    \n",
    "    stop_words = set(nltk_stopwords.words('english'))\n",
    "    text = text.lower()\n",
    "    word_list = re.sub(r\"[^a-z ]\", ' ', text).split()\n",
    "    word_notstop_list = [w for w in word_list if not w in stop_words]\n",
    "    return ' '.join(word_notstop_list)"
   ]
  },
  {
   "cell_type": "code",
   "execution_count": 7,
   "metadata": {},
   "outputs": [
    {
     "data": {
      "text/html": [
       "<div>\n",
       "<style scoped>\n",
       "    .dataframe tbody tr th:only-of-type {\n",
       "        vertical-align: middle;\n",
       "    }\n",
       "\n",
       "    .dataframe tbody tr th {\n",
       "        vertical-align: top;\n",
       "    }\n",
       "\n",
       "    .dataframe thead th {\n",
       "        text-align: right;\n",
       "    }\n",
       "</style>\n",
       "<table border=\"1\" class=\"dataframe\">\n",
       "  <thead>\n",
       "    <tr style=\"text-align: right;\">\n",
       "      <th></th>\n",
       "      <th>text</th>\n",
       "      <th>toxic</th>\n",
       "      <th>clean_text</th>\n",
       "    </tr>\n",
       "  </thead>\n",
       "  <tbody>\n",
       "    <tr>\n",
       "      <th>36913</th>\n",
       "      <td>Since when do definitions or encyclopedia entr...</td>\n",
       "      <td>0</td>\n",
       "      <td>since definitions encyclopedia entries speak o...</td>\n",
       "    </tr>\n",
       "    <tr>\n",
       "      <th>108944</th>\n",
       "      <td>PUZZLE CURIOUS GOGGLE FOR EARTH SOLUTION CLIMA...</td>\n",
       "      <td>0</td>\n",
       "      <td>puzzle curious goggle earth solution climate c...</td>\n",
       "    </tr>\n",
       "    <tr>\n",
       "      <th>101450</th>\n",
       "      <td>\"\\n\\nArbitration enforcement action appeal by ...</td>\n",
       "      <td>0</td>\n",
       "      <td>arbitration enforcement action appeal wookiein...</td>\n",
       "    </tr>\n",
       "    <tr>\n",
       "      <th>136229</th>\n",
       "      <td>Thanks to everyone for their patience with thi...</td>\n",
       "      <td>0</td>\n",
       "      <td>thanks everyone patience things deal last mont...</td>\n",
       "    </tr>\n",
       "    <tr>\n",
       "      <th>50728</th>\n",
       "      <td>March 2015 (UTC)\\n\\nWhat is this, fighting a f...</td>\n",
       "      <td>0</td>\n",
       "      <td>march utc fighting fish discussion already rfc...</td>\n",
       "    </tr>\n",
       "  </tbody>\n",
       "</table>\n",
       "</div>"
      ],
      "text/plain": [
       "                                                     text  toxic  \\\n",
       "36913   Since when do definitions or encyclopedia entr...      0   \n",
       "108944  PUZZLE CURIOUS GOGGLE FOR EARTH SOLUTION CLIMA...      0   \n",
       "101450  \"\\n\\nArbitration enforcement action appeal by ...      0   \n",
       "136229  Thanks to everyone for their patience with thi...      0   \n",
       "50728   March 2015 (UTC)\\n\\nWhat is this, fighting a f...      0   \n",
       "\n",
       "                                               clean_text  \n",
       "36913   since definitions encyclopedia entries speak o...  \n",
       "108944  puzzle curious goggle earth solution climate c...  \n",
       "101450  arbitration enforcement action appeal wookiein...  \n",
       "136229  thanks everyone patience things deal last mont...  \n",
       "50728   march utc fighting fish discussion already rfc...  "
      ]
     },
     "execution_count": 7,
     "metadata": {},
     "output_type": "execute_result"
    }
   ],
   "source": [
    "df['clean_text'] = df['text'].apply(clear_text)\n",
    "df.sample(5)"
   ]
  },
  {
   "cell_type": "code",
   "execution_count": 8,
   "metadata": {},
   "outputs": [
    {
     "data": {
      "text/plain": [
       "0"
      ]
     },
     "execution_count": 8,
     "metadata": {},
     "output_type": "execute_result"
    }
   ],
   "source": [
    "df.duplicated().sum()"
   ]
  },
  {
   "cell_type": "markdown",
   "metadata": {},
   "source": [
    "Дубликатов нет."
   ]
  },
  {
   "cell_type": "markdown",
   "metadata": {},
   "source": [
    "### Лемматизация WordNetLemmatizer"
   ]
  },
  {
   "cell_type": "code",
   "execution_count": 9,
   "metadata": {},
   "outputs": [],
   "source": [
    "def get_wordnet_pos(word):\n",
    "    tag = nltk.pos_tag([word])[0][1][0].upper()\n",
    "    tag_dict = {\"J\": wordnet.ADJ,\n",
    "                \"N\": wordnet.NOUN,\n",
    "                \"V\": wordnet.VERB,\n",
    "                \"R\": wordnet.ADV}\n",
    "    return tag_dict.get(tag, wordnet.NOUN)"
   ]
  },
  {
   "cell_type": "code",
   "execution_count": 10,
   "metadata": {},
   "outputs": [],
   "source": [
    "def postag_lemm_text(text):    \n",
    "    lemmatizer = WordNetLemmatizer()\n",
    "    word_list = text.split()\n",
    "    lemmatized_text = ' '.join([lemmatizer.lemmatize(w, get_wordnet_pos(w)) for w in word_list])\n",
    "    return lemmatized_text"
   ]
  },
  {
   "cell_type": "code",
   "execution_count": 11,
   "metadata": {},
   "outputs": [
    {
     "data": {
      "text/html": [
       "<div>\n",
       "<style scoped>\n",
       "    .dataframe tbody tr th:only-of-type {\n",
       "        vertical-align: middle;\n",
       "    }\n",
       "\n",
       "    .dataframe tbody tr th {\n",
       "        vertical-align: top;\n",
       "    }\n",
       "\n",
       "    .dataframe thead th {\n",
       "        text-align: right;\n",
       "    }\n",
       "</style>\n",
       "<table border=\"1\" class=\"dataframe\">\n",
       "  <thead>\n",
       "    <tr style=\"text-align: right;\">\n",
       "      <th></th>\n",
       "      <th>text</th>\n",
       "      <th>toxic</th>\n",
       "      <th>clean_text</th>\n",
       "      <th>lemm_text</th>\n",
       "    </tr>\n",
       "  </thead>\n",
       "  <tbody>\n",
       "    <tr>\n",
       "      <th>125123</th>\n",
       "      <td>Replying to your message, as your e-mail was n...</td>\n",
       "      <td>0</td>\n",
       "      <td>replying message e mail available good afterno...</td>\n",
       "      <td>reply message e mail available good afternoon ...</td>\n",
       "    </tr>\n",
       "    <tr>\n",
       "      <th>49565</th>\n",
       "      <td>Hello and welcome to Wikipedia! Hope you like ...</td>\n",
       "      <td>0</td>\n",
       "      <td>hello welcome wikipedia hope like stick around...</td>\n",
       "      <td>hello welcome wikipedia hope like stick around...</td>\n",
       "    </tr>\n",
       "    <tr>\n",
       "      <th>156136</th>\n",
       "      <td>They have bad credit rating also</td>\n",
       "      <td>0</td>\n",
       "      <td>bad credit rating also</td>\n",
       "      <td>bad credit rating also</td>\n",
       "    </tr>\n",
       "    <tr>\n",
       "      <th>36596</th>\n",
       "      <td>Mere Propoganda \\n\\nThe claims are merely poli...</td>\n",
       "      <td>0</td>\n",
       "      <td>mere propoganda claims merely political proble...</td>\n",
       "      <td>mere propoganda claim merely political problem...</td>\n",
       "    </tr>\n",
       "    <tr>\n",
       "      <th>26838</th>\n",
       "      <td>the escrow and carry considerable liability to...</td>\n",
       "      <td>0</td>\n",
       "      <td>escrow carry considerable liability attorney s...</td>\n",
       "      <td>escrow carry considerable liability attorney s...</td>\n",
       "    </tr>\n",
       "  </tbody>\n",
       "</table>\n",
       "</div>"
      ],
      "text/plain": [
       "                                                     text  toxic  \\\n",
       "125123  Replying to your message, as your e-mail was n...      0   \n",
       "49565   Hello and welcome to Wikipedia! Hope you like ...      0   \n",
       "156136                   They have bad credit rating also      0   \n",
       "36596   Mere Propoganda \\n\\nThe claims are merely poli...      0   \n",
       "26838   the escrow and carry considerable liability to...      0   \n",
       "\n",
       "                                               clean_text  \\\n",
       "125123  replying message e mail available good afterno...   \n",
       "49565   hello welcome wikipedia hope like stick around...   \n",
       "156136                             bad credit rating also   \n",
       "36596   mere propoganda claims merely political proble...   \n",
       "26838   escrow carry considerable liability attorney s...   \n",
       "\n",
       "                                                lemm_text  \n",
       "125123  reply message e mail available good afternoon ...  \n",
       "49565   hello welcome wikipedia hope like stick around...  \n",
       "156136                             bad credit rating also  \n",
       "36596   mere propoganda claim merely political problem...  \n",
       "26838   escrow carry considerable liability attorney s...  "
      ]
     },
     "execution_count": 11,
     "metadata": {},
     "output_type": "execute_result"
    }
   ],
   "source": [
    "df['lemm_text'] = df['clean_text'].apply(postag_lemm_text)\n",
    "df.sample(5)"
   ]
  },
  {
   "cell_type": "code",
   "execution_count": 12,
   "metadata": {},
   "outputs": [
    {
     "data": {
      "text/plain": [
       "'a letter have be write , ask he to be release'"
      ]
     },
     "execution_count": 12,
     "metadata": {},
     "output_type": "execute_result"
    }
   ],
   "source": [
    "def lemm_text_2(text):   \n",
    "    lemmatizer = spacy.load('en_core_web_sm') \n",
    "    word_list = lemmatizer(text)\n",
    "    lemmatized_text = ' '.join([w.lemma_ for w in word_list])\n",
    "    return lemmatized_text\n",
    "lemm_text_2('A letter has been written, asking him to be released')"
   ]
  },
  {
   "cell_type": "markdown",
   "metadata": {},
   "source": [
    "### Вывод\n",
    "\n",
    "\n",
    "1. Загружены и изучены исходные данные.\n",
    "2. В данных нет пропусков и дубликатов.\n",
    "3. Присутствует дисбаланс классов у целевого признака (только 10% текстов имеют признак токсичный).\n",
    "4. Данные лемматизированы."
   ]
  },
  {
   "cell_type": "markdown",
   "metadata": {},
   "source": [
    "## Обучение"
   ]
  },
  {
   "cell_type": "markdown",
   "metadata": {},
   "source": [
    "### Разделение на выборки"
   ]
  },
  {
   "cell_type": "code",
   "execution_count": 13,
   "metadata": {},
   "outputs": [],
   "source": [
    "features = df.drop('toxic',axis=1)\n",
    "target = df['toxic']"
   ]
  },
  {
   "cell_type": "code",
   "execution_count": 14,
   "metadata": {},
   "outputs": [
    {
     "name": "stdout",
     "output_type": "stream",
     "text": [
      "(127433, 3)\n",
      "(31859, 3)\n",
      "(127433,)\n",
      "(31859,)\n"
     ]
    }
   ],
   "source": [
    "features_train, features_test, target_train, target_test = train_test_split(\n",
    "    features, \n",
    "    target, \n",
    "    test_size=0.2, stratify=target, shuffle=True, random_state=RANDOM_STATE)\n",
    "\n",
    "print(features_train.shape)\n",
    "print(features_test.shape)\n",
    "print(target_train.shape)\n",
    "print(target_test.shape)"
   ]
  },
  {
   "cell_type": "markdown",
   "metadata": {},
   "source": [
    "### Изменение баланса классов"
   ]
  },
  {
   "cell_type": "markdown",
   "metadata": {},
   "source": [
    "В разделе \"Подготовка\" мы выяснили, что только 10% данных имеют признак *toxic*. Проверим на обучающей выборке."
   ]
  },
  {
   "cell_type": "code",
   "execution_count": 15,
   "metadata": {},
   "outputs": [
    {
     "data": {
      "image/png": "[encoded data removed]",
      "text/plain": [
       "<Figure size 396x396 with 1 Axes>"
      ]
     },
     "metadata": {},
     "output_type": "display_data"
    }
   ],
   "source": [
    "target_train.value_counts(normalize=True).plot(kind='pie',figsize=[5.5,5.5], legend=False, autopct='%1.1f%%',labels=['Отзыв токсичный, класс [0]','Отзыв не токсичный, класс [1]'])\n",
    "plt.title('Баланс распределения классов в тренировочных данных')\n",
    "plt.ylabel('')\n",
    "plt.show()"
   ]
  },
  {
   "cell_type": "markdown",
   "metadata": {},
   "source": [
    " В данных преобладают \"нетоксичные\" комментарии. "
   ]
  },
  {
   "cell_type": "markdown",
   "metadata": {},
   "source": [
    "### LogisticRegression"
   ]
  },
  {
   "cell_type": "code",
   "execution_count": 22,
   "metadata": {},
   "outputs": [],
   "source": [
    "kfold = KFold(n_splits=5, random_state=RANDOM_STATE, shuffle=True)"
   ]
  },
  {
   "cell_type": "code",
   "execution_count": 23,
   "metadata": {},
   "outputs": [
    {
     "name": "stdout",
     "output_type": "stream",
     "text": [
      "{'clf__C': 9, 'clf__max_iter': 15, 'tfidf__ngram_range': (1, 3)}\n",
      "0.7639567159827978\n",
      "CPU times: user 9min 14s, sys: 3min 22s, total: 12min 37s\n",
      "Wall time: 12min 38s\n"
     ]
    }
   ],
   "source": [
    "%%time\n",
    "\n",
    "lr_pipe = Pipeline([\n",
    "    ('tfidf', TfidfVectorizer(min_df=3, max_df=0.9, use_idf=1,\n",
    "               smooth_idf=1, sublinear_tf=1, stop_words=stopwords)),\n",
    "    ('clf', LogisticRegression(random_state=RANDOM_STATE, class_weight='balanced'))])\n",
    "\n",
    "lr_params = {'clf__C': [9, 100],\n",
    "             'clf__max_iter': range (14, 16),\n",
    "             'tfidf__ngram_range':  [(1,1),  (1,3)]}\n",
    "\n",
    "lr_grid = GridSearchCV(estimator=lr_pipe, param_grid=lr_params, cv=kfold, scoring='f1', n_jobs=-1, refit=False)\n",
    "lr_grid.fit(features_train['lemm_text'], target_train)\n",
    "lr_best_paramms = lr_grid.best_params_\n",
    "\n",
    "print(lr_best_paramms)\n",
    "print(lr_grid.best_score_)"
   ]
  },
  {
   "cell_type": "markdown",
   "metadata": {},
   "source": [
    "###  LGBMClassifier"
   ]
  },
  {
   "cell_type": "code",
   "execution_count": 26,
   "metadata": {},
   "outputs": [
    {
     "name": "stdout",
     "output_type": "stream",
     "text": [
      "{'clf__learning_rate': 0.25, 'clf__max_depth': 10, 'clf__n_estimators': 50, 'tfidf__ngram_range': (1, 1)}\n",
      "0.7295819203064543\n",
      "CPU times: user 27min 14s, sys: 10.5 s, total: 27min 24s\n",
      "Wall time: 27min 31s\n"
     ]
    }
   ],
   "source": [
    "%%time\n",
    "\n",
    "lgb_pipe = Pipeline([\n",
    "    ('tfidf', TfidfVectorizer(min_df=3, max_df=0.9, use_idf=1,\n",
    "               smooth_idf=1, sublinear_tf=1, stop_words=stopwords)),\n",
    "    ('clf', LGBMClassifier(random_state=RANDOM_STATE, class_weight='balanced'))])\n",
    "\n",
    "params = {\n",
    "  'clf__n_estimators': [50, 200],\n",
    "  'clf__learning_rate': [0.25, 0.15],\n",
    "  'clf__max_depth': [ 10, -1],\n",
    "  'tfidf__ngram_range':  [(1,1), (1,3)]}\n",
    "\n",
    "lgb_grid = GridSearchCV(estimator=lgb_pipe, param_grid=params, cv=kfold, scoring='f1', n_jobs=-1, refit=False)\n",
    "lgb_grid.fit(features_train['lemm_text'], target_train)\n",
    "lgb_best_params = lgb_grid.best_params_\n",
    "\n",
    "print(lgb_best_params)\n",
    "print(lgb_grid.best_score_)"
   ]
  },
  {
   "cell_type": "code",
   "execution_count": 27,
   "metadata": {},
   "outputs": [
    {
     "data": {
      "text/html": [
       "<div>\n",
       "<style scoped>\n",
       "    .dataframe tbody tr th:only-of-type {\n",
       "        vertical-align: middle;\n",
       "    }\n",
       "\n",
       "    .dataframe tbody tr th {\n",
       "        vertical-align: top;\n",
       "    }\n",
       "\n",
       "    .dataframe thead th {\n",
       "        text-align: right;\n",
       "    }\n",
       "</style>\n",
       "<table border=\"1\" class=\"dataframe\">\n",
       "  <thead>\n",
       "    <tr style=\"text-align: right;\">\n",
       "      <th></th>\n",
       "      <th>f1</th>\n",
       "    </tr>\n",
       "  </thead>\n",
       "  <tbody>\n",
       "    <tr>\n",
       "      <th>LogisticRegression</th>\n",
       "      <td>0.763957</td>\n",
       "    </tr>\n",
       "    <tr>\n",
       "      <th>LGBMClassifier</th>\n",
       "      <td>0.729582</td>\n",
       "    </tr>\n",
       "  </tbody>\n",
       "</table>\n",
       "</div>"
      ],
      "text/plain": [
       "                          f1\n",
       "LogisticRegression  0.763957\n",
       "LGBMClassifier      0.729582"
      ]
     },
     "execution_count": 27,
     "metadata": {},
     "output_type": "execute_result"
    }
   ],
   "source": [
    "result = pd.DataFrame(\n",
    "     [lr_grid.best_score_,  lgb_grid.best_score_] , \n",
    "    index=['LogisticRegression', 'LGBMClassifier'], \n",
    "    columns=['f1']\n",
    ")\n",
    "result"
   ]
  },
  {
   "cell_type": "markdown",
   "metadata": {},
   "source": [
    "Лучшее значение метрики `f1` у модели Логистической регрессии."
   ]
  },
  {
   "cell_type": "markdown",
   "metadata": {},
   "source": [
    "### Тестирование модели"
   ]
  },
  {
   "cell_type": "markdown",
   "metadata": {},
   "source": [
    "Проверим лучшую модель на тестовой выборке."
   ]
  },
  {
   "cell_type": "code",
   "execution_count": 28,
   "metadata": {},
   "outputs": [],
   "source": [
    "vectorize = TfidfVectorizer(ngram_range=(1,3),\n",
    "               min_df=3, max_df=0.9, use_idf=1,\n",
    "               smooth_idf=1, sublinear_tf=1, stop_words=stopwords)"
   ]
  },
  {
   "cell_type": "code",
   "execution_count": 31,
   "metadata": {},
   "outputs": [],
   "source": [
    "features_train = vectorize.fit_transform(features_train['lemm_text'])\n",
    "features_test = vectorize.transform(features_test['lemm_text'])"
   ]
  },
  {
   "cell_type": "code",
   "execution_count": 32,
   "metadata": {},
   "outputs": [
    {
     "data": {
      "text/plain": [
       "0.7610350076103501"
      ]
     },
     "execution_count": 32,
     "metadata": {},
     "output_type": "execute_result"
    }
   ],
   "source": [
    "lr_m = LogisticRegression(C=9, max_iter=15, class_weight='balanced', random_state=RANDOM_STATE)\n",
    "lr_m.fit(features_train, target_train)\n",
    "\n",
    "target_predict_lr = lr_m.predict(features_test)\n",
    "f1_score_lr = f1_score(target_test, target_predict_lr)\n",
    "f1_score_lr"
   ]
  },
  {
   "cell_type": "markdown",
   "metadata": {},
   "source": [
    "## Выводы"
   ]
  },
  {
   "cell_type": "markdown",
   "metadata": {},
   "source": [
    "Нашей целью было найти и обучить модель для магазина \"Викишоп\", которая способна классифицировать комментарии на позитивные и негативные для того, чтобы в дальнейшем токсичные отзывы отправлялись на модерацию. При этом достигуть результата предсказания наилучшей модели по метрике *F1*  не меньше  0.75. \n",
    "\n",
    "В нашем распоряжении был набор данных с разметкой о токсичности комментариев, но для правильной работы предсказательных алгоритмов моделей нам пришлось очистить комментарии от лишних символов.\n",
    "\n",
    "Для определения наилучшей модели мы остановили наш выбор на двух моделях *LogisticRegression*, *LGBMClassifier*. По итогам сравнеиня лучшей оказалась модель **LogisticRegression** с гиперпараметрами(-  C': 9, 'max_iter': 15),  значение *f1* метрики 0.761.\n",
    "\n",
    "Таким мы можем  рекомендовать к использованию данную модель для классифицирования комментариев на позитивные и негативные в магазине."
   ]
  },
  {
   "cell_type": "code",
   "execution_count": null,
   "metadata": {},
   "outputs": [],
   "source": []
  }
 ],
 "metadata": {
  "ExecuteTimeLog": [
   {
    "duration": 1438,
    "start_time": "2023-01-30T08:55:39.040Z"
   },
   {
    "duration": 90,
    "start_time": "2023-01-30T09:10:18.227Z"
   },
   {
    "duration": 51,
    "start_time": "2023-01-30T09:10:24.494Z"
   },
   {
    "duration": 197,
    "start_time": "2023-01-30T09:10:53.542Z"
   },
   {
    "duration": 2375,
    "start_time": "2023-01-30T09:11:10.191Z"
   },
   {
    "duration": 758,
    "start_time": "2023-01-30T09:12:01.694Z"
   },
   {
    "duration": 40,
    "start_time": "2023-01-30T09:12:23.566Z"
   },
   {
    "duration": 19,
    "start_time": "2023-01-30T09:12:40.527Z"
   },
   {
    "duration": 5,
    "start_time": "2023-01-30T09:17:30.317Z"
   },
   {
    "duration": 20896,
    "start_time": "2023-01-30T09:17:34.180Z"
   },
   {
    "duration": 21005,
    "start_time": "2023-01-30T09:17:58.063Z"
   },
   {
    "duration": 335,
    "start_time": "2023-01-30T09:34:19.667Z"
   },
   {
    "duration": 83,
    "start_time": "2023-01-30T09:36:02.299Z"
   },
   {
    "duration": 3,
    "start_time": "2023-01-30T09:36:48.267Z"
   },
   {
    "duration": 9,
    "start_time": "2023-01-30T09:37:53.635Z"
   },
   {
    "duration": 18056,
    "start_time": "2023-01-30T09:37:58.273Z"
   },
   {
    "duration": 16759,
    "start_time": "2023-01-30T09:38:18.017Z"
   },
   {
    "duration": 3,
    "start_time": "2023-01-30T09:40:14.968Z"
   },
   {
    "duration": 3,
    "start_time": "2023-01-30T09:40:40.833Z"
   },
   {
    "duration": 307,
    "start_time": "2023-01-30T09:41:54.647Z"
   },
   {
    "duration": 1473,
    "start_time": "2023-01-30T09:42:53.374Z"
   },
   {
    "duration": 854,
    "start_time": "2023-01-30T09:42:54.861Z"
   },
   {
    "duration": 34,
    "start_time": "2023-01-30T09:42:55.717Z"
   },
   {
    "duration": 20,
    "start_time": "2023-01-30T09:42:55.761Z"
   },
   {
    "duration": 4,
    "start_time": "2023-01-30T09:42:55.782Z"
   },
   {
    "duration": 19387,
    "start_time": "2023-01-30T09:42:55.787Z"
   },
   {
    "duration": 382,
    "start_time": "2023-01-30T09:43:15.176Z"
   },
   {
    "duration": 3,
    "start_time": "2023-01-30T09:43:15.559Z"
   },
   {
    "duration": 18850,
    "start_time": "2023-01-30T09:43:15.564Z"
   },
   {
    "duration": 3,
    "start_time": "2023-01-30T09:43:34.416Z"
   },
   {
    "duration": 10,
    "start_time": "2023-01-30T09:43:34.421Z"
   },
   {
    "duration": 462,
    "start_time": "2023-01-30T09:43:34.433Z"
   },
   {
    "duration": 71,
    "start_time": "2023-01-30T09:44:08.861Z"
   },
   {
    "duration": 915,
    "start_time": "2023-01-30T09:44:15.245Z"
   },
   {
    "duration": 1631,
    "start_time": "2023-01-30T09:44:32.638Z"
   },
   {
    "duration": 809,
    "start_time": "2023-01-30T09:44:34.271Z"
   },
   {
    "duration": 25,
    "start_time": "2023-01-30T09:44:35.081Z"
   },
   {
    "duration": 19,
    "start_time": "2023-01-30T09:44:35.108Z"
   },
   {
    "duration": 20,
    "start_time": "2023-01-30T09:44:35.128Z"
   },
   {
    "duration": 18585,
    "start_time": "2023-01-30T09:44:35.150Z"
   },
   {
    "duration": 401,
    "start_time": "2023-01-30T09:44:53.736Z"
   },
   {
    "duration": 3,
    "start_time": "2023-01-30T09:44:54.138Z"
   },
   {
    "duration": 16783,
    "start_time": "2023-01-30T09:44:54.142Z"
   },
   {
    "duration": 3,
    "start_time": "2023-01-30T09:45:10.927Z"
   },
   {
    "duration": 17,
    "start_time": "2023-01-30T09:45:10.932Z"
   },
   {
    "duration": 694141,
    "start_time": "2023-01-30T09:45:10.950Z"
   },
   {
    "duration": 4,
    "start_time": "2023-01-30T10:14:10.037Z"
   },
   {
    "duration": 134,
    "start_time": "2023-01-30T10:14:11.336Z"
   },
   {
    "duration": 20,
    "start_time": "2023-01-30T10:14:15.634Z"
   },
   {
    "duration": 4797,
    "start_time": "2023-01-30T10:14:18.145Z"
   },
   {
    "duration": 97,
    "start_time": "2023-01-30T10:14:24.853Z"
   },
   {
    "duration": 113,
    "start_time": "2023-01-30T10:14:55.608Z"
   },
   {
    "duration": 93,
    "start_time": "2023-01-30T10:15:59.576Z"
   },
   {
    "duration": 104,
    "start_time": "2023-01-30T10:16:53.807Z"
   },
   {
    "duration": 135,
    "start_time": "2023-01-30T10:17:54.413Z"
   },
   {
    "duration": 2,
    "start_time": "2023-01-30T10:18:40.864Z"
   },
   {
    "duration": 18,
    "start_time": "2023-01-30T10:18:41.508Z"
   },
   {
    "duration": 5381,
    "start_time": "2023-01-30T10:18:42.206Z"
   },
   {
    "duration": 381,
    "start_time": "2023-01-30T10:20:00.763Z"
   },
   {
    "duration": 1834,
    "start_time": "2023-01-30T10:21:03.421Z"
   },
   {
    "duration": 851,
    "start_time": "2023-01-30T10:21:05.257Z"
   },
   {
    "duration": 38,
    "start_time": "2023-01-30T10:21:06.110Z"
   },
   {
    "duration": 22,
    "start_time": "2023-01-30T10:21:06.150Z"
   },
   {
    "duration": 4,
    "start_time": "2023-01-30T10:21:06.173Z"
   },
   {
    "duration": 19779,
    "start_time": "2023-01-30T10:21:06.178Z"
   },
   {
    "duration": 382,
    "start_time": "2023-01-30T10:21:25.959Z"
   },
   {
    "duration": 7,
    "start_time": "2023-01-30T10:21:26.343Z"
   },
   {
    "duration": 19075,
    "start_time": "2023-01-30T10:21:26.352Z"
   },
   {
    "duration": 3,
    "start_time": "2023-01-30T10:21:45.429Z"
   },
   {
    "duration": 28,
    "start_time": "2023-01-30T10:21:45.433Z"
   },
   {
    "duration": 5056,
    "start_time": "2023-01-30T10:21:45.463Z"
   },
   {
    "duration": 88,
    "start_time": "2023-01-30T10:21:50.521Z"
   },
   {
    "duration": 131,
    "start_time": "2023-01-30T10:21:50.611Z"
   },
   {
    "duration": 0,
    "start_time": "2023-01-30T10:21:50.744Z"
   },
   {
    "duration": 0,
    "start_time": "2023-01-30T10:21:50.748Z"
   },
   {
    "duration": 88,
    "start_time": "2023-01-30T10:23:37.626Z"
   },
   {
    "duration": 116,
    "start_time": "2023-01-30T10:23:42.240Z"
   },
   {
    "duration": 37,
    "start_time": "2023-01-30T10:23:48.225Z"
   },
   {
    "duration": 5,
    "start_time": "2023-01-30T10:24:18.290Z"
   },
   {
    "duration": 39,
    "start_time": "2023-01-30T10:24:21.999Z"
   },
   {
    "duration": 5,
    "start_time": "2023-01-30T10:29:11.487Z"
   },
   {
    "duration": 39,
    "start_time": "2023-01-30T10:29:13.067Z"
   },
   {
    "duration": 39,
    "start_time": "2023-01-30T10:29:45.980Z"
   },
   {
    "duration": 83,
    "start_time": "2023-01-30T10:30:12.770Z"
   },
   {
    "duration": 106,
    "start_time": "2023-01-30T10:30:15.231Z"
   },
   {
    "duration": 27,
    "start_time": "2023-01-30T10:30:17.803Z"
   },
   {
    "duration": 74,
    "start_time": "2023-01-30T10:30:46.066Z"
   },
   {
    "duration": 11,
    "start_time": "2023-01-30T10:30:49.546Z"
   },
   {
    "duration": 25,
    "start_time": "2023-01-30T10:30:50.970Z"
   },
   {
    "duration": 23,
    "start_time": "2023-01-30T10:30:53.243Z"
   },
   {
    "duration": 78,
    "start_time": "2023-01-30T10:31:00.395Z"
   },
   {
    "duration": 77,
    "start_time": "2023-01-30T10:31:01.689Z"
   },
   {
    "duration": 95,
    "start_time": "2023-01-30T10:31:03.145Z"
   },
   {
    "duration": 26,
    "start_time": "2023-01-30T10:31:04.610Z"
   },
   {
    "duration": 18,
    "start_time": "2023-01-30T10:32:32.554Z"
   },
   {
    "duration": 32,
    "start_time": "2023-01-30T10:32:51.457Z"
   },
   {
    "duration": 15,
    "start_time": "2023-01-30T10:49:56.883Z"
   },
   {
    "duration": 93,
    "start_time": "2023-01-30T10:50:28.035Z"
   },
   {
    "duration": 103,
    "start_time": "2023-01-30T10:50:45.185Z"
   },
   {
    "duration": 132,
    "start_time": "2023-01-30T10:51:29.418Z"
   },
   {
    "duration": 96,
    "start_time": "2023-01-30T10:51:45.006Z"
   },
   {
    "duration": 2,
    "start_time": "2023-01-30T10:55:28.258Z"
   },
   {
    "duration": 27,
    "start_time": "2023-01-30T10:55:29.533Z"
   },
   {
    "duration": 20,
    "start_time": "2023-01-30T10:55:41.759Z"
   },
   {
    "duration": 3330,
    "start_time": "2023-01-30T10:55:43.046Z"
   },
   {
    "duration": 6,
    "start_time": "2023-01-30T10:55:48.430Z"
   },
   {
    "duration": 813,
    "start_time": "2023-01-30T10:55:49.581Z"
   },
   {
    "duration": 3245,
    "start_time": "2023-01-30T10:55:59.654Z"
   },
   {
    "duration": 97,
    "start_time": "2023-01-30T10:58:41.084Z"
   },
   {
    "duration": 206,
    "start_time": "2023-01-30T11:00:03.812Z"
   },
   {
    "duration": 3,
    "start_time": "2023-01-30T11:00:52.427Z"
   },
   {
    "duration": 3,
    "start_time": "2023-01-30T11:01:12.370Z"
   },
   {
    "duration": 61541,
    "start_time": "2023-01-30T11:01:14.546Z"
   },
   {
    "duration": 2883,
    "start_time": "2023-01-30T11:09:43.884Z"
   },
   {
    "duration": 842,
    "start_time": "2023-01-30T11:09:46.770Z"
   },
   {
    "duration": 43,
    "start_time": "2023-01-30T11:09:47.614Z"
   },
   {
    "duration": 29,
    "start_time": "2023-01-30T11:09:47.659Z"
   },
   {
    "duration": 4,
    "start_time": "2023-01-30T11:09:47.690Z"
   },
   {
    "duration": 20625,
    "start_time": "2023-01-30T11:09:47.696Z"
   },
   {
    "duration": 365,
    "start_time": "2023-01-30T11:10:08.323Z"
   },
   {
    "duration": 3,
    "start_time": "2023-01-30T11:10:08.690Z"
   },
   {
    "duration": 18585,
    "start_time": "2023-01-30T11:10:08.695Z"
   },
   {
    "duration": 21,
    "start_time": "2023-01-30T11:10:27.283Z"
   },
   {
    "duration": 101,
    "start_time": "2023-01-30T11:10:27.306Z"
   },
   {
    "duration": 120,
    "start_time": "2023-01-30T11:10:27.410Z"
   },
   {
    "duration": 133,
    "start_time": "2023-01-30T11:10:27.531Z"
   },
   {
    "duration": 102,
    "start_time": "2023-01-30T11:10:27.667Z"
   },
   {
    "duration": 3,
    "start_time": "2023-01-30T11:10:27.771Z"
   },
   {
    "duration": 37,
    "start_time": "2023-01-30T11:10:27.776Z"
   },
   {
    "duration": 3405,
    "start_time": "2023-01-30T11:10:27.815Z"
   },
   {
    "duration": 7,
    "start_time": "2023-01-30T11:10:31.221Z"
   },
   {
    "duration": 924,
    "start_time": "2023-01-30T11:10:31.230Z"
   },
   {
    "duration": 292,
    "start_time": "2023-01-30T11:10:32.155Z"
   },
   {
    "duration": 162,
    "start_time": "2023-01-30T11:10:56.463Z"
   },
   {
    "duration": 91,
    "start_time": "2023-01-30T11:11:18.483Z"
   },
   {
    "duration": 3038,
    "start_time": "2023-01-30T11:11:32.014Z"
   },
   {
    "duration": 838,
    "start_time": "2023-01-30T11:11:35.055Z"
   },
   {
    "duration": 28,
    "start_time": "2023-01-30T11:11:35.895Z"
   },
   {
    "duration": 36,
    "start_time": "2023-01-30T11:11:35.925Z"
   },
   {
    "duration": 4,
    "start_time": "2023-01-30T11:11:35.963Z"
   },
   {
    "duration": 20254,
    "start_time": "2023-01-30T11:11:35.970Z"
   },
   {
    "duration": 428,
    "start_time": "2023-01-30T11:11:56.226Z"
   },
   {
    "duration": 5,
    "start_time": "2023-01-30T11:11:56.656Z"
   },
   {
    "duration": 18926,
    "start_time": "2023-01-30T11:11:56.662Z"
   },
   {
    "duration": 16,
    "start_time": "2023-01-30T11:12:15.590Z"
   },
   {
    "duration": 106,
    "start_time": "2023-01-30T11:12:15.607Z"
   },
   {
    "duration": 126,
    "start_time": "2023-01-30T11:12:15.715Z"
   },
   {
    "duration": 155,
    "start_time": "2023-01-30T11:12:15.842Z"
   },
   {
    "duration": 97,
    "start_time": "2023-01-30T11:12:15.999Z"
   },
   {
    "duration": 2,
    "start_time": "2023-01-30T11:12:16.098Z"
   },
   {
    "duration": 34,
    "start_time": "2023-01-30T11:12:16.101Z"
   },
   {
    "duration": 3565,
    "start_time": "2023-01-30T11:12:16.137Z"
   },
   {
    "duration": 6,
    "start_time": "2023-01-30T11:12:19.704Z"
   },
   {
    "duration": 867,
    "start_time": "2023-01-30T11:12:19.711Z"
   },
   {
    "duration": 2133,
    "start_time": "2023-01-30T11:30:05.036Z"
   },
   {
    "duration": 868,
    "start_time": "2023-01-30T11:30:07.171Z"
   },
   {
    "duration": 33,
    "start_time": "2023-01-30T11:30:08.041Z"
   },
   {
    "duration": 30,
    "start_time": "2023-01-30T11:30:08.076Z"
   },
   {
    "duration": 4,
    "start_time": "2023-01-30T11:30:08.108Z"
   },
   {
    "duration": 21461,
    "start_time": "2023-01-30T11:30:08.113Z"
   },
   {
    "duration": 391,
    "start_time": "2023-01-30T11:30:29.576Z"
   },
   {
    "duration": 4,
    "start_time": "2023-01-30T11:30:29.968Z"
   },
   {
    "duration": 19100,
    "start_time": "2023-01-30T11:30:29.973Z"
   },
   {
    "duration": 15,
    "start_time": "2023-01-30T11:30:49.074Z"
   },
   {
    "duration": 93,
    "start_time": "2023-01-30T11:30:49.090Z"
   },
   {
    "duration": 120,
    "start_time": "2023-01-30T11:30:49.185Z"
   },
   {
    "duration": 189,
    "start_time": "2023-01-30T11:30:49.307Z"
   },
   {
    "duration": 123,
    "start_time": "2023-01-30T11:30:49.500Z"
   },
   {
    "duration": 14,
    "start_time": "2023-01-30T11:30:49.625Z"
   },
   {
    "duration": 3544,
    "start_time": "2023-01-30T11:30:49.640Z"
   },
   {
    "duration": 7,
    "start_time": "2023-01-30T11:30:53.185Z"
   },
   {
    "duration": 883,
    "start_time": "2023-01-30T11:30:53.194Z"
   },
   {
    "duration": 4,
    "start_time": "2023-01-30T11:30:54.078Z"
   },
   {
    "duration": 229187,
    "start_time": "2023-01-30T11:30:54.084Z"
   },
   {
    "duration": 593538,
    "start_time": "2023-01-30T11:34:43.273Z"
   },
   {
    "duration": 5,
    "start_time": "2023-01-30T11:44:36.812Z"
   },
   {
    "duration": 0,
    "start_time": "2023-01-30T11:44:36.819Z"
   },
   {
    "duration": 2676,
    "start_time": "2023-01-30T13:36:59.719Z"
   },
   {
    "duration": 809,
    "start_time": "2023-01-30T13:37:02.398Z"
   },
   {
    "duration": 41,
    "start_time": "2023-01-30T13:37:03.209Z"
   },
   {
    "duration": 22,
    "start_time": "2023-01-30T13:37:03.252Z"
   },
   {
    "duration": 25,
    "start_time": "2023-01-30T13:37:03.277Z"
   },
   {
    "duration": 19149,
    "start_time": "2023-01-30T13:37:03.304Z"
   },
   {
    "duration": 400,
    "start_time": "2023-01-30T13:37:22.455Z"
   },
   {
    "duration": 3,
    "start_time": "2023-01-30T13:37:22.857Z"
   },
   {
    "duration": 20235,
    "start_time": "2023-01-30T13:37:22.862Z"
   },
   {
    "duration": 20,
    "start_time": "2023-01-30T13:37:43.098Z"
   },
   {
    "duration": 108,
    "start_time": "2023-01-30T13:37:43.121Z"
   },
   {
    "duration": 124,
    "start_time": "2023-01-30T13:37:43.231Z"
   },
   {
    "duration": 175,
    "start_time": "2023-01-30T13:37:43.356Z"
   },
   {
    "duration": 141,
    "start_time": "2023-01-30T13:37:43.535Z"
   },
   {
    "duration": 16,
    "start_time": "2023-01-30T13:37:43.678Z"
   },
   {
    "duration": 3524,
    "start_time": "2023-01-30T13:37:43.696Z"
   },
   {
    "duration": 7,
    "start_time": "2023-01-30T13:37:47.222Z"
   },
   {
    "duration": 831,
    "start_time": "2023-01-30T13:37:47.230Z"
   },
   {
    "duration": 3,
    "start_time": "2023-01-30T13:37:48.063Z"
   },
   {
    "duration": 225502,
    "start_time": "2023-01-30T13:37:48.068Z"
   },
   {
    "duration": 557680,
    "start_time": "2023-01-30T13:41:33.571Z"
   },
   {
    "duration": 4378033,
    "start_time": "2023-01-30T13:50:51.253Z"
   },
   {
    "duration": 7,
    "start_time": "2023-01-30T15:03:49.287Z"
   },
   {
    "duration": 8,
    "start_time": "2023-01-30T15:15:02.764Z"
   },
   {
    "duration": 14,
    "start_time": "2023-01-30T15:24:57.677Z"
   },
   {
    "duration": 15,
    "start_time": "2023-01-30T15:25:06.836Z"
   },
   {
    "duration": 2606,
    "start_time": "2023-01-30T17:02:24.035Z"
   },
   {
    "duration": 2391,
    "start_time": "2023-01-30T17:02:26.644Z"
   },
   {
    "duration": 316,
    "start_time": "2023-01-30T17:03:19.530Z"
   },
   {
    "duration": 120,
    "start_time": "2023-01-30T17:03:29.197Z"
   },
   {
    "duration": 9,
    "start_time": "2023-01-30T17:03:32.884Z"
   },
   {
    "duration": 54987,
    "start_time": "2023-01-30T17:04:20.039Z"
   },
   {
    "duration": 0,
    "start_time": "2023-01-30T17:05:15.031Z"
   },
   {
    "duration": 3740,
    "start_time": "2023-01-30T17:07:26.740Z"
   },
   {
    "duration": 744,
    "start_time": "2023-01-30T17:07:33.728Z"
   },
   {
    "duration": 28,
    "start_time": "2023-01-30T17:07:36.492Z"
   },
   {
    "duration": 15,
    "start_time": "2023-01-30T17:07:38.235Z"
   },
   {
    "duration": 0,
    "start_time": "2023-01-30T17:09:56.603Z"
   },
   {
    "duration": 5757,
    "start_time": "2023-01-30T17:12:05.416Z"
   },
   {
    "duration": 744,
    "start_time": "2023-01-30T17:12:23.537Z"
   },
   {
    "duration": 759,
    "start_time": "2023-01-30T17:12:28.119Z"
   },
   {
    "duration": 27,
    "start_time": "2023-01-30T17:12:33.047Z"
   },
   {
    "duration": 13,
    "start_time": "2023-01-30T17:12:35.168Z"
   },
   {
    "duration": 85,
    "start_time": "2023-01-30T17:12:36.815Z"
   },
   {
    "duration": 3,
    "start_time": "2023-01-30T17:13:06.135Z"
   },
   {
    "duration": 18193,
    "start_time": "2023-01-30T17:13:07.911Z"
   },
   {
    "duration": 3,
    "start_time": "2023-01-30T17:19:39.482Z"
   },
   {
    "duration": 17,
    "start_time": "2023-01-30T17:19:42.506Z"
   },
   {
    "duration": 486,
    "start_time": "2023-01-30T17:20:01.026Z"
   },
   {
    "duration": 3,
    "start_time": "2023-01-30T17:20:29.106Z"
   },
   {
    "duration": 453,
    "start_time": "2023-01-30T17:20:30.212Z"
   },
   {
    "duration": 3,
    "start_time": "2023-01-30T17:21:53.856Z"
   },
   {
    "duration": 438,
    "start_time": "2023-01-30T17:21:56.200Z"
   },
   {
    "duration": 3,
    "start_time": "2023-01-30T17:24:32.820Z"
   },
   {
    "duration": 584,
    "start_time": "2023-01-30T17:24:34.878Z"
   },
   {
    "duration": 2,
    "start_time": "2023-01-30T17:30:11.338Z"
   },
   {
    "duration": 799,
    "start_time": "2023-01-30T17:30:12.451Z"
   },
   {
    "duration": 3,
    "start_time": "2023-01-30T17:30:28.833Z"
   },
   {
    "duration": 732,
    "start_time": "2023-01-30T17:30:30.337Z"
   },
   {
    "duration": 5,
    "start_time": "2023-01-30T17:30:43.321Z"
   },
   {
    "duration": 780,
    "start_time": "2023-01-30T17:30:43.328Z"
   },
   {
    "duration": 22,
    "start_time": "2023-01-30T17:30:44.109Z"
   },
   {
    "duration": 13,
    "start_time": "2023-01-30T17:30:44.143Z"
   },
   {
    "duration": 94,
    "start_time": "2023-01-30T17:30:44.157Z"
   },
   {
    "duration": 3,
    "start_time": "2023-01-30T17:30:44.253Z"
   },
   {
    "duration": 17755,
    "start_time": "2023-01-30T17:30:44.257Z"
   },
   {
    "duration": 319,
    "start_time": "2023-01-30T17:31:02.013Z"
   },
   {
    "duration": 3,
    "start_time": "2023-01-30T17:31:02.334Z"
   },
   {
    "duration": 3,
    "start_time": "2023-01-30T17:31:08.146Z"
   },
   {
    "duration": 756,
    "start_time": "2023-01-30T17:31:10.438Z"
   },
   {
    "duration": 3,
    "start_time": "2023-01-30T17:37:21.308Z"
   },
   {
    "duration": 6662,
    "start_time": "2023-01-30T17:37:57.596Z"
   },
   {
    "duration": 2298,
    "start_time": "2023-01-30T17:38:04.260Z"
   },
   {
    "duration": 30,
    "start_time": "2023-01-30T17:38:06.560Z"
   },
   {
    "duration": 23,
    "start_time": "2023-01-30T17:38:06.592Z"
   },
   {
    "duration": 98,
    "start_time": "2023-01-30T17:38:06.617Z"
   },
   {
    "duration": 3,
    "start_time": "2023-01-30T17:38:06.717Z"
   },
   {
    "duration": 17686,
    "start_time": "2023-01-30T17:38:06.722Z"
   },
   {
    "duration": 361,
    "start_time": "2023-01-30T17:38:24.410Z"
   },
   {
    "duration": 4,
    "start_time": "2023-01-30T17:38:24.773Z"
   },
   {
    "duration": 1126089,
    "start_time": "2023-01-30T17:38:28.539Z"
   },
   {
    "duration": 4197,
    "start_time": "2023-01-30T17:58:04.886Z"
   },
   {
    "duration": 802,
    "start_time": "2023-01-30T17:58:09.085Z"
   },
   {
    "duration": 28,
    "start_time": "2023-01-30T17:58:09.888Z"
   },
   {
    "duration": 28,
    "start_time": "2023-01-30T17:58:09.917Z"
   },
   {
    "duration": 100,
    "start_time": "2023-01-30T17:58:09.946Z"
   },
   {
    "duration": 3,
    "start_time": "2023-01-30T17:58:10.047Z"
   },
   {
    "duration": 17389,
    "start_time": "2023-01-30T17:58:10.052Z"
   },
   {
    "duration": 340,
    "start_time": "2023-01-30T17:58:27.444Z"
   },
   {
    "duration": 3,
    "start_time": "2023-01-30T17:58:27.785Z"
   },
   {
    "duration": 460,
    "start_time": "2023-01-30T17:58:32.412Z"
   },
   {
    "duration": 6068,
    "start_time": "2023-01-30T20:08:02.358Z"
   },
   {
    "duration": 0,
    "start_time": "2023-01-30T20:08:08.428Z"
   },
   {
    "duration": 0,
    "start_time": "2023-01-30T20:08:08.429Z"
   },
   {
    "duration": 0,
    "start_time": "2023-01-30T20:08:08.430Z"
   },
   {
    "duration": 0,
    "start_time": "2023-01-30T20:08:08.431Z"
   },
   {
    "duration": 0,
    "start_time": "2023-01-30T20:08:08.445Z"
   },
   {
    "duration": 0,
    "start_time": "2023-01-30T20:08:08.446Z"
   },
   {
    "duration": 0,
    "start_time": "2023-01-30T20:08:08.447Z"
   },
   {
    "duration": 0,
    "start_time": "2023-01-30T20:08:08.447Z"
   },
   {
    "duration": 0,
    "start_time": "2023-01-30T20:08:08.448Z"
   },
   {
    "duration": 0,
    "start_time": "2023-01-30T20:08:08.450Z"
   },
   {
    "duration": 0,
    "start_time": "2023-01-30T20:08:08.454Z"
   },
   {
    "duration": 0,
    "start_time": "2023-01-30T20:08:08.455Z"
   },
   {
    "duration": 0,
    "start_time": "2023-01-30T20:08:08.457Z"
   },
   {
    "duration": 0,
    "start_time": "2023-01-30T20:08:08.458Z"
   },
   {
    "duration": 0,
    "start_time": "2023-01-30T20:08:08.459Z"
   },
   {
    "duration": 0,
    "start_time": "2023-01-30T20:08:08.460Z"
   },
   {
    "duration": 0,
    "start_time": "2023-01-30T20:08:08.461Z"
   },
   {
    "duration": 0,
    "start_time": "2023-01-30T20:08:08.462Z"
   },
   {
    "duration": 1,
    "start_time": "2023-01-30T20:08:08.463Z"
   },
   {
    "duration": 0,
    "start_time": "2023-01-30T20:08:08.465Z"
   },
   {
    "duration": 0,
    "start_time": "2023-01-30T20:08:08.466Z"
   },
   {
    "duration": 0,
    "start_time": "2023-01-30T20:08:08.468Z"
   },
   {
    "duration": 0,
    "start_time": "2023-01-30T20:08:08.469Z"
   },
   {
    "duration": 0,
    "start_time": "2023-01-30T20:08:08.470Z"
   },
   {
    "duration": 1,
    "start_time": "2023-01-30T20:08:08.471Z"
   },
   {
    "duration": 0,
    "start_time": "2023-01-30T20:08:08.473Z"
   },
   {
    "duration": 5462,
    "start_time": "2023-01-30T20:08:34.098Z"
   },
   {
    "duration": 887,
    "start_time": "2023-01-30T20:08:39.563Z"
   },
   {
    "duration": 35,
    "start_time": "2023-01-30T20:08:40.452Z"
   },
   {
    "duration": 15,
    "start_time": "2023-01-30T20:08:40.489Z"
   },
   {
    "duration": 123,
    "start_time": "2023-01-30T20:08:40.505Z"
   },
   {
    "duration": 17,
    "start_time": "2023-01-30T20:08:40.630Z"
   },
   {
    "duration": 18990,
    "start_time": "2023-01-30T20:08:40.650Z"
   },
   {
    "duration": 378,
    "start_time": "2023-01-30T20:08:59.642Z"
   },
   {
    "duration": 3,
    "start_time": "2023-01-30T20:09:00.022Z"
   },
   {
    "duration": 536,
    "start_time": "2023-01-30T20:09:00.027Z"
   },
   {
    "duration": 34499440,
    "start_time": "2023-01-30T20:09:00.565Z"
   },
   {
    "duration": 0,
    "start_time": "2023-01-31T05:44:00.007Z"
   },
   {
    "duration": 0,
    "start_time": "2023-01-31T05:44:00.009Z"
   },
   {
    "duration": 0,
    "start_time": "2023-01-31T05:44:00.011Z"
   },
   {
    "duration": 0,
    "start_time": "2023-01-31T05:44:00.013Z"
   },
   {
    "duration": 0,
    "start_time": "2023-01-31T05:44:00.014Z"
   },
   {
    "duration": 0,
    "start_time": "2023-01-31T05:44:00.015Z"
   },
   {
    "duration": 0,
    "start_time": "2023-01-31T05:44:00.016Z"
   },
   {
    "duration": 0,
    "start_time": "2023-01-31T05:44:00.017Z"
   },
   {
    "duration": 0,
    "start_time": "2023-01-31T05:44:00.018Z"
   },
   {
    "duration": 0,
    "start_time": "2023-01-31T05:44:00.019Z"
   },
   {
    "duration": 0,
    "start_time": "2023-01-31T05:44:00.020Z"
   },
   {
    "duration": 0,
    "start_time": "2023-01-31T05:44:00.021Z"
   },
   {
    "duration": 0,
    "start_time": "2023-01-31T05:44:00.022Z"
   },
   {
    "duration": 0,
    "start_time": "2023-01-31T05:44:00.023Z"
   },
   {
    "duration": 0,
    "start_time": "2023-01-31T05:44:00.025Z"
   },
   {
    "duration": 0,
    "start_time": "2023-01-31T05:44:00.026Z"
   },
   {
    "duration": 180,
    "start_time": "2023-01-31T05:46:58.808Z"
   },
   {
    "duration": 830,
    "start_time": "2023-01-31T05:46:58.989Z"
   },
   {
    "duration": 46,
    "start_time": "2023-01-31T05:46:59.821Z"
   },
   {
    "duration": 27,
    "start_time": "2023-01-31T05:46:59.874Z"
   },
   {
    "duration": 100,
    "start_time": "2023-01-31T05:46:59.903Z"
   },
   {
    "duration": 4,
    "start_time": "2023-01-31T05:47:00.005Z"
   },
   {
    "duration": 21998,
    "start_time": "2023-01-31T05:47:00.011Z"
   },
   {
    "duration": 421,
    "start_time": "2023-01-31T05:47:22.011Z"
   },
   {
    "duration": 9,
    "start_time": "2023-01-31T05:47:22.434Z"
   },
   {
    "duration": 65,
    "start_time": "2023-01-31T05:47:22.445Z"
   },
   {
    "duration": 751877,
    "start_time": "2023-01-31T05:47:22.512Z"
   },
   {
    "duration": 1163,
    "start_time": "2023-01-31T09:41:13.749Z"
   },
   {
    "duration": 6098,
    "start_time": "2023-01-31T09:41:31.632Z"
   },
   {
    "duration": 3235,
    "start_time": "2023-01-31T09:41:37.735Z"
   },
   {
    "duration": 31,
    "start_time": "2023-01-31T09:41:40.972Z"
   },
   {
    "duration": 19,
    "start_time": "2023-01-31T09:41:41.004Z"
   },
   {
    "duration": 146,
    "start_time": "2023-01-31T09:41:41.026Z"
   },
   {
    "duration": 4,
    "start_time": "2023-01-31T09:41:41.173Z"
   },
   {
    "duration": 18958,
    "start_time": "2023-01-31T09:41:41.178Z"
   },
   {
    "duration": 384,
    "start_time": "2023-01-31T09:42:00.138Z"
   },
   {
    "duration": 5,
    "start_time": "2023-01-31T09:42:00.524Z"
   },
   {
    "duration": 37,
    "start_time": "2023-01-31T09:42:00.531Z"
   },
   {
    "duration": 717560,
    "start_time": "2023-01-31T09:42:00.570Z"
   },
   {
    "duration": 370,
    "start_time": "2023-01-31T09:53:58.135Z"
   },
   {
    "duration": 116,
    "start_time": "2023-01-31T09:54:06.754Z"
   },
   {
    "duration": 119,
    "start_time": "2023-01-31T09:54:52.026Z"
   },
   {
    "duration": 662,
    "start_time": "2023-01-31T09:56:07.859Z"
   },
   {
    "duration": 15,
    "start_time": "2023-01-31T09:56:57.395Z"
   },
   {
    "duration": 78,
    "start_time": "2023-01-31T09:56:59.167Z"
   },
   {
    "duration": 105,
    "start_time": "2023-01-31T09:57:02.671Z"
   },
   {
    "duration": 4,
    "start_time": "2023-01-31T09:58:33.018Z"
   },
   {
    "duration": 4455,
    "start_time": "2023-01-31T10:03:45.671Z"
   },
   {
    "duration": 828,
    "start_time": "2023-01-31T10:03:50.128Z"
   },
   {
    "duration": 30,
    "start_time": "2023-01-31T10:03:50.957Z"
   },
   {
    "duration": 19,
    "start_time": "2023-01-31T10:03:50.989Z"
   },
   {
    "duration": 143,
    "start_time": "2023-01-31T10:03:51.010Z"
   },
   {
    "duration": 5,
    "start_time": "2023-01-31T10:03:51.155Z"
   },
   {
    "duration": 2122,
    "start_time": "2023-01-31T10:03:51.162Z"
   },
   {
    "duration": 0,
    "start_time": "2023-01-31T10:03:53.286Z"
   },
   {
    "duration": 0,
    "start_time": "2023-01-31T10:03:53.287Z"
   },
   {
    "duration": 0,
    "start_time": "2023-01-31T10:03:53.288Z"
   },
   {
    "duration": 0,
    "start_time": "2023-01-31T10:03:53.289Z"
   },
   {
    "duration": 0,
    "start_time": "2023-01-31T10:03:53.290Z"
   },
   {
    "duration": 0,
    "start_time": "2023-01-31T10:03:53.291Z"
   },
   {
    "duration": 0,
    "start_time": "2023-01-31T10:03:53.292Z"
   },
   {
    "duration": 0,
    "start_time": "2023-01-31T10:03:53.293Z"
   },
   {
    "duration": 0,
    "start_time": "2023-01-31T10:03:53.294Z"
   },
   {
    "duration": 0,
    "start_time": "2023-01-31T10:03:53.295Z"
   },
   {
    "duration": 0,
    "start_time": "2023-01-31T10:03:53.296Z"
   },
   {
    "duration": 0,
    "start_time": "2023-01-31T10:03:53.297Z"
   },
   {
    "duration": 0,
    "start_time": "2023-01-31T10:03:53.299Z"
   },
   {
    "duration": 0,
    "start_time": "2023-01-31T10:03:53.300Z"
   },
   {
    "duration": 0,
    "start_time": "2023-01-31T10:03:53.301Z"
   },
   {
    "duration": 0,
    "start_time": "2023-01-31T10:03:53.302Z"
   },
   {
    "duration": 0,
    "start_time": "2023-01-31T10:03:53.303Z"
   },
   {
    "duration": 0,
    "start_time": "2023-01-31T10:03:53.304Z"
   },
   {
    "duration": 0,
    "start_time": "2023-01-31T10:03:53.305Z"
   },
   {
    "duration": 0,
    "start_time": "2023-01-31T10:03:53.306Z"
   },
   {
    "duration": 5465,
    "start_time": "2023-01-31T10:05:58.128Z"
   },
   {
    "duration": 738,
    "start_time": "2023-01-31T10:06:03.595Z"
   },
   {
    "duration": 29,
    "start_time": "2023-01-31T10:06:04.336Z"
   },
   {
    "duration": 25,
    "start_time": "2023-01-31T10:06:04.367Z"
   },
   {
    "duration": 115,
    "start_time": "2023-01-31T10:06:04.393Z"
   },
   {
    "duration": 3,
    "start_time": "2023-01-31T10:06:04.510Z"
   },
   {
    "duration": 19372,
    "start_time": "2023-01-31T10:06:04.527Z"
   },
   {
    "duration": 382,
    "start_time": "2023-01-31T10:06:23.901Z"
   },
   {
    "duration": 3,
    "start_time": "2023-01-31T10:06:24.285Z"
   },
   {
    "duration": 26,
    "start_time": "2023-01-31T10:06:24.290Z"
   },
   {
    "duration": 707683,
    "start_time": "2023-01-31T10:06:24.318Z"
   },
   {
    "duration": 556,
    "start_time": "2023-01-31T10:18:12.003Z"
   },
   {
    "duration": 15,
    "start_time": "2023-01-31T10:18:12.560Z"
   },
   {
    "duration": 107,
    "start_time": "2023-01-31T10:18:12.576Z"
   },
   {
    "duration": 127,
    "start_time": "2023-01-31T10:18:12.685Z"
   },
   {
    "duration": 3,
    "start_time": "2023-01-31T10:18:12.814Z"
   },
   {
    "duration": 6,
    "start_time": "2023-01-31T10:18:12.831Z"
   },
   {
    "duration": 10,
    "start_time": "2023-01-31T10:18:12.840Z"
   },
   {
    "duration": 10,
    "start_time": "2023-01-31T10:18:12.852Z"
   },
   {
    "duration": 18,
    "start_time": "2023-01-31T10:18:12.864Z"
   },
   {
    "duration": 16,
    "start_time": "2023-01-31T10:18:12.883Z"
   },
   {
    "duration": 7,
    "start_time": "2023-01-31T10:18:12.902Z"
   },
   {
    "duration": 408,
    "start_time": "2023-01-31T10:18:12.911Z"
   },
   {
    "duration": 66,
    "start_time": "2023-01-31T10:18:13.321Z"
   },
   {
    "duration": 68,
    "start_time": "2023-01-31T10:18:13.389Z"
   },
   {
    "duration": 25,
    "start_time": "2023-01-31T10:18:13.460Z"
   },
   {
    "duration": 0,
    "start_time": "2023-01-31T10:18:13.487Z"
   },
   {
    "duration": 9,
    "start_time": "2023-01-31T10:27:50.294Z"
   },
   {
    "duration": 181048,
    "start_time": "2023-01-31T10:27:57.242Z"
   },
   {
    "duration": 593803,
    "start_time": "2023-01-31T10:35:40.191Z"
   },
   {
    "duration": 30,
    "start_time": "2023-01-31T10:46:55.292Z"
   },
   {
    "duration": 5267,
    "start_time": "2023-01-31T15:52:04.377Z"
   },
   {
    "duration": 2323,
    "start_time": "2023-01-31T15:52:09.646Z"
   },
   {
    "duration": 34,
    "start_time": "2023-01-31T15:52:11.971Z"
   },
   {
    "duration": 17,
    "start_time": "2023-01-31T15:52:12.007Z"
   },
   {
    "duration": 124,
    "start_time": "2023-01-31T15:52:12.035Z"
   },
   {
    "duration": 4,
    "start_time": "2023-01-31T15:52:12.161Z"
   },
   {
    "duration": 20334,
    "start_time": "2023-01-31T15:52:12.168Z"
   },
   {
    "duration": 400,
    "start_time": "2023-01-31T15:52:32.504Z"
   },
   {
    "duration": 6,
    "start_time": "2023-01-31T15:52:32.907Z"
   },
   {
    "duration": 4,
    "start_time": "2023-01-31T15:52:32.917Z"
   },
   {
    "duration": 385592,
    "start_time": "2023-01-31T15:52:32.923Z"
   },
   {
    "duration": 0,
    "start_time": "2023-01-31T15:58:58.518Z"
   },
   {
    "duration": 0,
    "start_time": "2023-01-31T15:58:58.520Z"
   },
   {
    "duration": 0,
    "start_time": "2023-01-31T15:58:58.526Z"
   },
   {
    "duration": 0,
    "start_time": "2023-01-31T15:58:58.529Z"
   },
   {
    "duration": 0,
    "start_time": "2023-01-31T15:58:58.530Z"
   },
   {
    "duration": 0,
    "start_time": "2023-01-31T15:58:58.531Z"
   },
   {
    "duration": 0,
    "start_time": "2023-01-31T15:58:58.533Z"
   },
   {
    "duration": 0,
    "start_time": "2023-01-31T15:58:58.534Z"
   },
   {
    "duration": 0,
    "start_time": "2023-01-31T15:58:58.535Z"
   },
   {
    "duration": 0,
    "start_time": "2023-01-31T15:58:58.537Z"
   },
   {
    "duration": 0,
    "start_time": "2023-01-31T15:58:58.539Z"
   },
   {
    "duration": 0,
    "start_time": "2023-01-31T15:58:58.541Z"
   },
   {
    "duration": 0,
    "start_time": "2023-01-31T15:58:58.543Z"
   },
   {
    "duration": 0,
    "start_time": "2023-01-31T15:58:58.544Z"
   },
   {
    "duration": 0,
    "start_time": "2023-01-31T15:58:58.545Z"
   },
   {
    "duration": 0,
    "start_time": "2023-01-31T15:58:58.547Z"
   },
   {
    "duration": 0,
    "start_time": "2023-01-31T15:58:58.548Z"
   },
   {
    "duration": 4756,
    "start_time": "2023-01-31T16:00:09.249Z"
   },
   {
    "duration": 884,
    "start_time": "2023-01-31T16:00:14.009Z"
   },
   {
    "duration": 51,
    "start_time": "2023-01-31T16:00:14.895Z"
   },
   {
    "duration": 22,
    "start_time": "2023-01-31T16:00:14.948Z"
   },
   {
    "duration": 141,
    "start_time": "2023-01-31T16:00:14.972Z"
   },
   {
    "duration": 4,
    "start_time": "2023-01-31T16:00:15.116Z"
   },
   {
    "duration": 19430,
    "start_time": "2023-01-31T16:00:15.121Z"
   },
   {
    "duration": 422,
    "start_time": "2023-01-31T16:00:34.553Z"
   },
   {
    "duration": 4,
    "start_time": "2023-01-31T16:00:34.977Z"
   },
   {
    "duration": 17,
    "start_time": "2023-01-31T16:00:34.984Z"
   },
   {
    "duration": 677397,
    "start_time": "2023-01-31T16:00:35.003Z"
   },
   {
    "duration": 572,
    "start_time": "2023-01-31T16:11:52.402Z"
   },
   {
    "duration": 20,
    "start_time": "2023-01-31T16:11:52.977Z"
   },
   {
    "duration": 101,
    "start_time": "2023-01-31T16:11:52.998Z"
   },
   {
    "duration": 110,
    "start_time": "2023-01-31T16:11:53.101Z"
   },
   {
    "duration": 2,
    "start_time": "2023-01-31T16:11:53.213Z"
   },
   {
    "duration": 41,
    "start_time": "2023-01-31T16:11:53.216Z"
   },
   {
    "duration": 41,
    "start_time": "2023-01-31T16:11:53.259Z"
   },
   {
    "duration": 21,
    "start_time": "2023-01-31T16:11:53.302Z"
   },
   {
    "duration": 35,
    "start_time": "2023-01-31T16:11:53.326Z"
   },
   {
    "duration": 22,
    "start_time": "2023-01-31T16:11:53.363Z"
   },
   {
    "duration": 37,
    "start_time": "2023-01-31T16:11:53.387Z"
   },
   {
    "duration": 758064,
    "start_time": "2023-01-31T16:11:53.426Z"
   },
   {
    "duration": 8184449,
    "start_time": "2023-01-31T16:24:31.492Z"
   },
   {
    "duration": 759,
    "start_time": "2023-01-31T18:40:55.943Z"
   },
   {
    "duration": 0,
    "start_time": "2023-01-31T18:40:56.704Z"
   },
   {
    "duration": 0,
    "start_time": "2023-01-31T18:40:56.705Z"
   },
   {
    "duration": 0,
    "start_time": "2023-01-31T18:40:56.705Z"
   },
   {
    "duration": 1651514,
    "start_time": "2023-01-31T18:41:19.377Z"
   },
   {
    "duration": 10,
    "start_time": "2023-01-31T19:17:10.022Z"
   },
   {
    "duration": 3,
    "start_time": "2023-01-31T19:18:03.742Z"
   },
   {
    "duration": 21,
    "start_time": "2023-01-31T19:18:05.316Z"
   },
   {
    "duration": 20,
    "start_time": "2023-01-31T19:18:12.785Z"
   },
   {
    "duration": 25521,
    "start_time": "2023-01-31T19:18:16.326Z"
   },
   {
    "duration": 13067,
    "start_time": "2023-01-31T19:18:44.388Z"
   }
  ],
  "kernelspec": {
   "display_name": "Python 3 (ipykernel)",
   "language": "python",
   "name": "python3"
  },
  "language_info": {
   "codemirror_mode": {
    "name": "ipython",
    "version": 3
   },
   "file_extension": ".py",
   "mimetype": "text/x-python",
   "name": "python",
   "nbconvert_exporter": "python",
   "pygments_lexer": "ipython3",
   "version": "3.9.13"
  },
  "toc": {
   "base_numbering": 1,
   "nav_menu": {},
   "number_sections": true,
   "sideBar": true,
   "skip_h1_title": true,
   "title_cell": "Содержание",
   "title_sidebar": "Contents",
   "toc_cell": false,
   "toc_position": {
    "height": "calc(100% - 180px)",
    "left": "10px",
    "top": "150px",
    "width": "245px"
   },
   "toc_section_display": true,
   "toc_window_display": true
  },
  "varInspector": {
   "cols": {
    "lenName": 16,
    "lenType": 16,
    "lenVar": 40
   },
   "kernels_config": {
    "python": {
     "delete_cmd_postfix": "",
     "delete_cmd_prefix": "del ",
     "library": "var_list.py",
     "varRefreshCmd": "print(var_dic_list())"
    },
    "r": {
     "delete_cmd_postfix": ") ",
     "delete_cmd_prefix": "rm(",
     "library": "var_list.r",
     "varRefreshCmd": "cat(var_dic_list()) "
    }
   },
   "types_to_exclude": [
    "module",
    "function",
    "builtin_function_or_method",
    "instance",
    "_Feature"
   ],
   "window_display": false
  }
 },
 "nbformat": 4,
 "nbformat_minor": 2
}
