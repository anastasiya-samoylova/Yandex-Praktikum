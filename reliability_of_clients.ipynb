{
 "cells": [
  {
   "cell_type": "markdown",
   "id": "5ef4b510",
   "metadata": {},
   "source": [
    "# Исследование надежности заемщиков."
   ]
  },
  {
   "cell_type": "markdown",
   "id": "72cf9bc2",
   "metadata": {},
   "source": [
    "<a id='study_purpose'>**Цель исследования** — проверить следующие гипотезы:</a>\n",
    "\n",
    "1. Существует зависимость между количеством детей и возвратом кредита в срок.\n",
    "2. Существует зависимость между семейным положением и возвратом кредита в срок.\n",
    "3. Существует зависимость между уровнем дохода и возвратом кредита в срок.\n",
    "4. Разные цели кредита влияют на его возврат в срок.\n",
    "\n",
    "**Ход исследования**\n",
    "\n",
    "Данные  о платёжеспособности клиентов, предоставленные кредитным отделом банка, возьмем из следующего файла:`/datasets/data.csv`. О качестве данных нам ничего не известно. Поэтому перед проверкой гипотез понадобится обзор данных. \n",
    "\n",
    "Проверим данные на ошибки и оценим их влияние на исследование. Затем, на этапе предобработки  поищем возможность исправить самые критичные ошибки данных.\n",
    " \n",
    "Таким образом, исследование пройдёт в три этапа:\n",
    " 1. Обзор данных.\n",
    " 2. Предобработка данных.\n",
    " 3. Проверка гипотез."
   ]
  },
  {
   "cell_type": "markdown",
   "id": "6845cd68",
   "metadata": {},
   "source": [
    "### Обзор данных"
   ]
  },
  {
   "cell_type": "code",
   "execution_count": 1,
   "id": "da42b4b2",
   "metadata": {},
   "outputs": [],
   "source": [
    "import pandas as pd #импорт библиотеки pandas"
   ]
  },
  {
   "cell_type": "code",
   "execution_count": 2,
   "id": "0c5dc1fa",
   "metadata": {
    "scrolled": true
   },
   "outputs": [
    {
     "data": {
      "text/html": [
       "<div>\n",
       "<style scoped>\n",
       "    .dataframe tbody tr th:only-of-type {\n",
       "        vertical-align: middle;\n",
       "    }\n",
       "\n",
       "    .dataframe tbody tr th {\n",
       "        vertical-align: top;\n",
       "    }\n",
       "\n",
       "    .dataframe thead th {\n",
       "        text-align: right;\n",
       "    }\n",
       "</style>\n",
       "<table border=\"1\" class=\"dataframe\">\n",
       "  <thead>\n",
       "    <tr style=\"text-align: right;\">\n",
       "      <th></th>\n",
       "      <th>children</th>\n",
       "      <th>days_employed</th>\n",
       "      <th>dob_years</th>\n",
       "      <th>education</th>\n",
       "      <th>education_id</th>\n",
       "      <th>family_status</th>\n",
       "      <th>family_status_id</th>\n",
       "      <th>gender</th>\n",
       "      <th>income_type</th>\n",
       "      <th>debt</th>\n",
       "      <th>total_income</th>\n",
       "      <th>purpose</th>\n",
       "    </tr>\n",
       "  </thead>\n",
       "  <tbody>\n",
       "    <tr>\n",
       "      <th>0</th>\n",
       "      <td>1</td>\n",
       "      <td>-8437.673028</td>\n",
       "      <td>42</td>\n",
       "      <td>высшее</td>\n",
       "      <td>0</td>\n",
       "      <td>женат / замужем</td>\n",
       "      <td>0</td>\n",
       "      <td>F</td>\n",
       "      <td>сотрудник</td>\n",
       "      <td>0</td>\n",
       "      <td>253875.639453</td>\n",
       "      <td>покупка жилья</td>\n",
       "    </tr>\n",
       "    <tr>\n",
       "      <th>1</th>\n",
       "      <td>1</td>\n",
       "      <td>-4024.803754</td>\n",
       "      <td>36</td>\n",
       "      <td>среднее</td>\n",
       "      <td>1</td>\n",
       "      <td>женат / замужем</td>\n",
       "      <td>0</td>\n",
       "      <td>F</td>\n",
       "      <td>сотрудник</td>\n",
       "      <td>0</td>\n",
       "      <td>112080.014102</td>\n",
       "      <td>приобретение автомобиля</td>\n",
       "    </tr>\n",
       "    <tr>\n",
       "      <th>2</th>\n",
       "      <td>0</td>\n",
       "      <td>-5623.422610</td>\n",
       "      <td>33</td>\n",
       "      <td>Среднее</td>\n",
       "      <td>1</td>\n",
       "      <td>женат / замужем</td>\n",
       "      <td>0</td>\n",
       "      <td>M</td>\n",
       "      <td>сотрудник</td>\n",
       "      <td>0</td>\n",
       "      <td>145885.952297</td>\n",
       "      <td>покупка жилья</td>\n",
       "    </tr>\n",
       "    <tr>\n",
       "      <th>3</th>\n",
       "      <td>3</td>\n",
       "      <td>-4124.747207</td>\n",
       "      <td>32</td>\n",
       "      <td>среднее</td>\n",
       "      <td>1</td>\n",
       "      <td>женат / замужем</td>\n",
       "      <td>0</td>\n",
       "      <td>M</td>\n",
       "      <td>сотрудник</td>\n",
       "      <td>0</td>\n",
       "      <td>267628.550329</td>\n",
       "      <td>дополнительное образование</td>\n",
       "    </tr>\n",
       "    <tr>\n",
       "      <th>4</th>\n",
       "      <td>0</td>\n",
       "      <td>340266.072047</td>\n",
       "      <td>53</td>\n",
       "      <td>среднее</td>\n",
       "      <td>1</td>\n",
       "      <td>гражданский брак</td>\n",
       "      <td>1</td>\n",
       "      <td>F</td>\n",
       "      <td>пенсионер</td>\n",
       "      <td>0</td>\n",
       "      <td>158616.077870</td>\n",
       "      <td>сыграть свадьбу</td>\n",
       "    </tr>\n",
       "    <tr>\n",
       "      <th>5</th>\n",
       "      <td>0</td>\n",
       "      <td>-926.185831</td>\n",
       "      <td>27</td>\n",
       "      <td>высшее</td>\n",
       "      <td>0</td>\n",
       "      <td>гражданский брак</td>\n",
       "      <td>1</td>\n",
       "      <td>M</td>\n",
       "      <td>компаньон</td>\n",
       "      <td>0</td>\n",
       "      <td>255763.565419</td>\n",
       "      <td>покупка жилья</td>\n",
       "    </tr>\n",
       "    <tr>\n",
       "      <th>6</th>\n",
       "      <td>0</td>\n",
       "      <td>-2879.202052</td>\n",
       "      <td>43</td>\n",
       "      <td>высшее</td>\n",
       "      <td>0</td>\n",
       "      <td>женат / замужем</td>\n",
       "      <td>0</td>\n",
       "      <td>F</td>\n",
       "      <td>компаньон</td>\n",
       "      <td>0</td>\n",
       "      <td>240525.971920</td>\n",
       "      <td>операции с жильем</td>\n",
       "    </tr>\n",
       "    <tr>\n",
       "      <th>7</th>\n",
       "      <td>0</td>\n",
       "      <td>-152.779569</td>\n",
       "      <td>50</td>\n",
       "      <td>СРЕДНЕЕ</td>\n",
       "      <td>1</td>\n",
       "      <td>женат / замужем</td>\n",
       "      <td>0</td>\n",
       "      <td>M</td>\n",
       "      <td>сотрудник</td>\n",
       "      <td>0</td>\n",
       "      <td>135823.934197</td>\n",
       "      <td>образование</td>\n",
       "    </tr>\n",
       "    <tr>\n",
       "      <th>8</th>\n",
       "      <td>2</td>\n",
       "      <td>-6929.865299</td>\n",
       "      <td>35</td>\n",
       "      <td>ВЫСШЕЕ</td>\n",
       "      <td>0</td>\n",
       "      <td>гражданский брак</td>\n",
       "      <td>1</td>\n",
       "      <td>F</td>\n",
       "      <td>сотрудник</td>\n",
       "      <td>0</td>\n",
       "      <td>95856.832424</td>\n",
       "      <td>на проведение свадьбы</td>\n",
       "    </tr>\n",
       "    <tr>\n",
       "      <th>9</th>\n",
       "      <td>0</td>\n",
       "      <td>-2188.756445</td>\n",
       "      <td>41</td>\n",
       "      <td>среднее</td>\n",
       "      <td>1</td>\n",
       "      <td>женат / замужем</td>\n",
       "      <td>0</td>\n",
       "      <td>M</td>\n",
       "      <td>сотрудник</td>\n",
       "      <td>0</td>\n",
       "      <td>144425.938277</td>\n",
       "      <td>покупка жилья для семьи</td>\n",
       "    </tr>\n",
       "  </tbody>\n",
       "</table>\n",
       "</div>"
      ],
      "text/plain": [
       "   children  days_employed  dob_years education  education_id  \\\n",
       "0         1   -8437.673028         42    высшее             0   \n",
       "1         1   -4024.803754         36   среднее             1   \n",
       "2         0   -5623.422610         33   Среднее             1   \n",
       "3         3   -4124.747207         32   среднее             1   \n",
       "4         0  340266.072047         53   среднее             1   \n",
       "5         0    -926.185831         27    высшее             0   \n",
       "6         0   -2879.202052         43    высшее             0   \n",
       "7         0    -152.779569         50   СРЕДНЕЕ             1   \n",
       "8         2   -6929.865299         35    ВЫСШЕЕ             0   \n",
       "9         0   -2188.756445         41   среднее             1   \n",
       "\n",
       "      family_status  family_status_id gender income_type  debt   total_income  \\\n",
       "0   женат / замужем                 0      F   сотрудник     0  253875.639453   \n",
       "1   женат / замужем                 0      F   сотрудник     0  112080.014102   \n",
       "2   женат / замужем                 0      M   сотрудник     0  145885.952297   \n",
       "3   женат / замужем                 0      M   сотрудник     0  267628.550329   \n",
       "4  гражданский брак                 1      F   пенсионер     0  158616.077870   \n",
       "5  гражданский брак                 1      M   компаньон     0  255763.565419   \n",
       "6   женат / замужем                 0      F   компаньон     0  240525.971920   \n",
       "7   женат / замужем                 0      M   сотрудник     0  135823.934197   \n",
       "8  гражданский брак                 1      F   сотрудник     0   95856.832424   \n",
       "9   женат / замужем                 0      M   сотрудник     0  144425.938277   \n",
       "\n",
       "                      purpose  \n",
       "0               покупка жилья  \n",
       "1     приобретение автомобиля  \n",
       "2               покупка жилья  \n",
       "3  дополнительное образование  \n",
       "4             сыграть свадьбу  \n",
       "5               покупка жилья  \n",
       "6           операции с жильем  \n",
       "7                 образование  \n",
       "8       на проведение свадьбы  \n",
       "9     покупка жилья для семьи  "
      ]
     },
     "execution_count": 2,
     "metadata": {},
     "output_type": "execute_result"
    }
   ],
   "source": [
    "df = pd.read_csv('/datasets/data.csv')# таблицу с данными сохраним в df\n",
    "df.head(10) "
   ]
  },
  {
   "cell_type": "code",
   "execution_count": 3,
   "id": "fdc5ea19",
   "metadata": {
    "scrolled": true
   },
   "outputs": [
    {
     "name": "stdout",
     "output_type": "stream",
     "text": [
      "<class 'pandas.core.frame.DataFrame'>\n",
      "RangeIndex: 21525 entries, 0 to 21524\n",
      "Data columns (total 12 columns):\n",
      " #   Column            Non-Null Count  Dtype  \n",
      "---  ------            --------------  -----  \n",
      " 0   children          21525 non-null  int64  \n",
      " 1   days_employed     19351 non-null  float64\n",
      " 2   dob_years         21525 non-null  int64  \n",
      " 3   education         21525 non-null  object \n",
      " 4   education_id      21525 non-null  int64  \n",
      " 5   family_status     21525 non-null  object \n",
      " 6   family_status_id  21525 non-null  int64  \n",
      " 7   gender            21525 non-null  object \n",
      " 8   income_type       21525 non-null  object \n",
      " 9   debt              21525 non-null  int64  \n",
      " 10  total_income      19351 non-null  float64\n",
      " 11  purpose           21525 non-null  object \n",
      "dtypes: float64(2), int64(5), object(5)\n",
      "memory usage: 2.0+ MB\n"
     ]
    }
   ],
   "source": [
    "df.info() # общая информация о данных в таблице df"
   ]
  },
  {
   "cell_type": "markdown",
   "id": "6a5a01bb",
   "metadata": {},
   "source": [
    "В таблице 12 столбцов.\n",
    "Согласно документации к данным:\n",
    "- `children` — количество детей в семье\n",
    "- `days_employed` — общий трудовой стаж в днях\n",
    "- `dob_years` — возраст клиента в годах\n",
    "- `education` — уровень образования клиента\n",
    "- `education_id` — идентификатор уровня образования\n",
    "- `family_status` — семейное положение\n",
    "- `family_status_id` — идентификатор семейного положения\n",
    "- `gender` — пол клиента\n",
    "- `income_type` — тип занятости\n",
    "- `debt` — имел ли задолженность по возврату кредитов\n",
    "- `total_income` — ежемесячный доход\n",
    "- `purpose` — цель получения кредита\n",
    "\n",
    "Количество значений в столбцах `days_employed` и `total_income` отличается от общего кол-ва строк. Значит, в данных есть пропущенные значения."
   ]
  },
  {
   "cell_type": "code",
   "execution_count": 4,
   "id": "3f799a0d",
   "metadata": {},
   "outputs": [
    {
     "data": {
      "text/html": [
       "<div>\n",
       "<style scoped>\n",
       "    .dataframe tbody tr th:only-of-type {\n",
       "        vertical-align: middle;\n",
       "    }\n",
       "\n",
       "    .dataframe tbody tr th {\n",
       "        vertical-align: top;\n",
       "    }\n",
       "\n",
       "    .dataframe thead th {\n",
       "        text-align: right;\n",
       "    }\n",
       "</style>\n",
       "<table border=\"1\" class=\"dataframe\">\n",
       "  <thead>\n",
       "    <tr style=\"text-align: right;\">\n",
       "      <th></th>\n",
       "      <th>children</th>\n",
       "      <th>days_employed</th>\n",
       "      <th>dob_years</th>\n",
       "      <th>education_id</th>\n",
       "      <th>family_status_id</th>\n",
       "      <th>debt</th>\n",
       "      <th>total_income</th>\n",
       "    </tr>\n",
       "  </thead>\n",
       "  <tbody>\n",
       "    <tr>\n",
       "      <th>count</th>\n",
       "      <td>21525.000000</td>\n",
       "      <td>19351.000000</td>\n",
       "      <td>21525.000000</td>\n",
       "      <td>21525.000000</td>\n",
       "      <td>21525.000000</td>\n",
       "      <td>21525.000000</td>\n",
       "      <td>1.935100e+04</td>\n",
       "    </tr>\n",
       "    <tr>\n",
       "      <th>mean</th>\n",
       "      <td>0.538908</td>\n",
       "      <td>63046.497661</td>\n",
       "      <td>43.293380</td>\n",
       "      <td>0.817236</td>\n",
       "      <td>0.972544</td>\n",
       "      <td>0.080883</td>\n",
       "      <td>1.674223e+05</td>\n",
       "    </tr>\n",
       "    <tr>\n",
       "      <th>std</th>\n",
       "      <td>1.381587</td>\n",
       "      <td>140827.311974</td>\n",
       "      <td>12.574584</td>\n",
       "      <td>0.548138</td>\n",
       "      <td>1.420324</td>\n",
       "      <td>0.272661</td>\n",
       "      <td>1.029716e+05</td>\n",
       "    </tr>\n",
       "    <tr>\n",
       "      <th>min</th>\n",
       "      <td>-1.000000</td>\n",
       "      <td>-18388.949901</td>\n",
       "      <td>0.000000</td>\n",
       "      <td>0.000000</td>\n",
       "      <td>0.000000</td>\n",
       "      <td>0.000000</td>\n",
       "      <td>2.066726e+04</td>\n",
       "    </tr>\n",
       "    <tr>\n",
       "      <th>25%</th>\n",
       "      <td>0.000000</td>\n",
       "      <td>-2747.423625</td>\n",
       "      <td>33.000000</td>\n",
       "      <td>1.000000</td>\n",
       "      <td>0.000000</td>\n",
       "      <td>0.000000</td>\n",
       "      <td>1.030532e+05</td>\n",
       "    </tr>\n",
       "    <tr>\n",
       "      <th>50%</th>\n",
       "      <td>0.000000</td>\n",
       "      <td>-1203.369529</td>\n",
       "      <td>42.000000</td>\n",
       "      <td>1.000000</td>\n",
       "      <td>0.000000</td>\n",
       "      <td>0.000000</td>\n",
       "      <td>1.450179e+05</td>\n",
       "    </tr>\n",
       "    <tr>\n",
       "      <th>75%</th>\n",
       "      <td>1.000000</td>\n",
       "      <td>-291.095954</td>\n",
       "      <td>53.000000</td>\n",
       "      <td>1.000000</td>\n",
       "      <td>1.000000</td>\n",
       "      <td>0.000000</td>\n",
       "      <td>2.034351e+05</td>\n",
       "    </tr>\n",
       "    <tr>\n",
       "      <th>max</th>\n",
       "      <td>20.000000</td>\n",
       "      <td>401755.400475</td>\n",
       "      <td>75.000000</td>\n",
       "      <td>4.000000</td>\n",
       "      <td>4.000000</td>\n",
       "      <td>1.000000</td>\n",
       "      <td>2.265604e+06</td>\n",
       "    </tr>\n",
       "  </tbody>\n",
       "</table>\n",
       "</div>"
      ],
      "text/plain": [
       "           children  days_employed     dob_years  education_id  \\\n",
       "count  21525.000000   19351.000000  21525.000000  21525.000000   \n",
       "mean       0.538908   63046.497661     43.293380      0.817236   \n",
       "std        1.381587  140827.311974     12.574584      0.548138   \n",
       "min       -1.000000  -18388.949901      0.000000      0.000000   \n",
       "25%        0.000000   -2747.423625     33.000000      1.000000   \n",
       "50%        0.000000   -1203.369529     42.000000      1.000000   \n",
       "75%        1.000000    -291.095954     53.000000      1.000000   \n",
       "max       20.000000  401755.400475     75.000000      4.000000   \n",
       "\n",
       "       family_status_id          debt  total_income  \n",
       "count      21525.000000  21525.000000  1.935100e+04  \n",
       "mean           0.972544      0.080883  1.674223e+05  \n",
       "std            1.420324      0.272661  1.029716e+05  \n",
       "min            0.000000      0.000000  2.066726e+04  \n",
       "25%            0.000000      0.000000  1.030532e+05  \n",
       "50%            0.000000      0.000000  1.450179e+05  \n",
       "75%            1.000000      0.000000  2.034351e+05  \n",
       "max            4.000000      1.000000  2.265604e+06  "
      ]
     },
     "execution_count": 4,
     "metadata": {},
     "output_type": "execute_result"
    }
   ],
   "source": [
    "df.describe()"
   ]
  },
  {
   "cell_type": "markdown",
   "id": "cec88488",
   "metadata": {},
   "source": [
    "Результат обзора данных: \n",
    "- Количество значений в столбцах `days_employed` и `total_income` отличается от общего кол-ва строк. Значит, в данных есть пропущенные значения;\n",
    "- В колонке со стажем есть отрицательные значения ;\n",
    "- Разный регистр  букв в колонке с уровнем образования `education`;\n",
    "- Минимальное значение в колонке с возрастом `dob_years`  — 0."
   ]
  },
  {
   "cell_type": "markdown",
   "id": "997387b9",
   "metadata": {},
   "source": [
    "###  Заполнение пропусков"
   ]
  },
  {
   "cell_type": "markdown",
   "id": "15c7b6b8",
   "metadata": {},
   "source": [
    "Посчитаем количество пропусков в таблице df."
   ]
  },
  {
   "cell_type": "code",
   "execution_count": 5,
   "id": "5dea518d",
   "metadata": {},
   "outputs": [
    {
     "data": {
      "text/plain": [
       "children               0\n",
       "days_employed       2174\n",
       "dob_years              0\n",
       "education              0\n",
       "education_id           0\n",
       "family_status          0\n",
       "family_status_id       0\n",
       "gender                 0\n",
       "income_type            0\n",
       "debt                   0\n",
       "total_income        2174\n",
       "purpose                0\n",
       "dtype: int64"
      ]
     },
     "execution_count": 5,
     "metadata": {},
     "output_type": "execute_result"
    }
   ],
   "source": [
    "df.isna().sum() # подсчёт пропусков"
   ]
  },
  {
   "cell_type": "markdown",
   "id": "6c79c6ed",
   "metadata": {},
   "source": [
    "Стаж клиентов не анализируется при исследовании гипотез,  пропуски в столбце `days_employed` заполним нулем."
   ]
  },
  {
   "cell_type": "markdown",
   "id": "954b5005",
   "metadata": {},
   "source": [
    "В столбцах `days_employed` и `total_income` одинаковое количество пропусков, но все же отдельно проверим, дейстивтельно ли эти пропуски в одних и тех же строках, или в разных."
   ]
  },
  {
   "cell_type": "code",
   "execution_count": 6,
   "id": "c1d7335a",
   "metadata": {},
   "outputs": [
    {
     "data": {
      "text/plain": [
       "2174"
      ]
     },
     "execution_count": 6,
     "metadata": {},
     "output_type": "execute_result"
    }
   ],
   "source": [
    "# посчитем количество строк, в которых пропуски и в столце стажа days_employed, и в стобце дохода total_income\n",
    "df.loc[(df['days_employed'].isna()) & (df['total_income'].isna())]['children'].count()"
   ]
  },
  {
   "cell_type": "markdown",
   "id": "9763313d",
   "metadata": {},
   "source": [
    "Делаем вывод, что если неизветсно о стаже клиента, то и ежемесячный доход клиента не заполнен.\n",
    "Вычислим, какую долю составляют пропущенные значения в каждом из столбцов с пропусками."
   ]
  },
  {
   "cell_type": "code",
   "execution_count": 7,
   "id": "f9af5157",
   "metadata": {},
   "outputs": [
    {
     "name": "stdout",
     "output_type": "stream",
     "text": [
      "Доля пропущенных значений: 10.1%\n"
     ]
    }
   ],
   "source": [
    "print(\"Доля пропущенных значений: {:.1%}\".format(df['days_employed'].isna().mean()))\n"
   ]
  },
  {
   "cell_type": "code",
   "execution_count": 8,
   "id": "08b1f3d3",
   "metadata": {},
   "outputs": [
    {
     "data": {
      "text/html": [
       "<div>\n",
       "<style scoped>\n",
       "    .dataframe tbody tr th:only-of-type {\n",
       "        vertical-align: middle;\n",
       "    }\n",
       "\n",
       "    .dataframe tbody tr th {\n",
       "        vertical-align: top;\n",
       "    }\n",
       "\n",
       "    .dataframe thead th {\n",
       "        text-align: right;\n",
       "    }\n",
       "</style>\n",
       "<table border=\"1\" class=\"dataframe\">\n",
       "  <thead>\n",
       "    <tr style=\"text-align: right;\">\n",
       "      <th></th>\n",
       "      <th>children</th>\n",
       "      <th>days_employed</th>\n",
       "      <th>dob_years</th>\n",
       "      <th>education</th>\n",
       "      <th>education_id</th>\n",
       "      <th>family_status</th>\n",
       "      <th>family_status_id</th>\n",
       "      <th>gender</th>\n",
       "      <th>income_type</th>\n",
       "      <th>debt</th>\n",
       "      <th>total_income</th>\n",
       "      <th>purpose</th>\n",
       "    </tr>\n",
       "  </thead>\n",
       "  <tbody>\n",
       "    <tr>\n",
       "      <th>12</th>\n",
       "      <td>0</td>\n",
       "      <td>NaN</td>\n",
       "      <td>65</td>\n",
       "      <td>среднее</td>\n",
       "      <td>1</td>\n",
       "      <td>гражданский брак</td>\n",
       "      <td>1</td>\n",
       "      <td>M</td>\n",
       "      <td>пенсионер</td>\n",
       "      <td>0</td>\n",
       "      <td>NaN</td>\n",
       "      <td>сыграть свадьбу</td>\n",
       "    </tr>\n",
       "    <tr>\n",
       "      <th>26</th>\n",
       "      <td>0</td>\n",
       "      <td>NaN</td>\n",
       "      <td>41</td>\n",
       "      <td>среднее</td>\n",
       "      <td>1</td>\n",
       "      <td>женат / замужем</td>\n",
       "      <td>0</td>\n",
       "      <td>M</td>\n",
       "      <td>госслужащий</td>\n",
       "      <td>0</td>\n",
       "      <td>NaN</td>\n",
       "      <td>образование</td>\n",
       "    </tr>\n",
       "    <tr>\n",
       "      <th>29</th>\n",
       "      <td>0</td>\n",
       "      <td>NaN</td>\n",
       "      <td>63</td>\n",
       "      <td>среднее</td>\n",
       "      <td>1</td>\n",
       "      <td>Не женат / не замужем</td>\n",
       "      <td>4</td>\n",
       "      <td>F</td>\n",
       "      <td>пенсионер</td>\n",
       "      <td>0</td>\n",
       "      <td>NaN</td>\n",
       "      <td>строительство жилой недвижимости</td>\n",
       "    </tr>\n",
       "    <tr>\n",
       "      <th>41</th>\n",
       "      <td>0</td>\n",
       "      <td>NaN</td>\n",
       "      <td>50</td>\n",
       "      <td>среднее</td>\n",
       "      <td>1</td>\n",
       "      <td>женат / замужем</td>\n",
       "      <td>0</td>\n",
       "      <td>F</td>\n",
       "      <td>госслужащий</td>\n",
       "      <td>0</td>\n",
       "      <td>NaN</td>\n",
       "      <td>сделка с подержанным автомобилем</td>\n",
       "    </tr>\n",
       "    <tr>\n",
       "      <th>55</th>\n",
       "      <td>0</td>\n",
       "      <td>NaN</td>\n",
       "      <td>54</td>\n",
       "      <td>среднее</td>\n",
       "      <td>1</td>\n",
       "      <td>гражданский брак</td>\n",
       "      <td>1</td>\n",
       "      <td>F</td>\n",
       "      <td>пенсионер</td>\n",
       "      <td>1</td>\n",
       "      <td>NaN</td>\n",
       "      <td>сыграть свадьбу</td>\n",
       "    </tr>\n",
       "  </tbody>\n",
       "</table>\n",
       "</div>"
      ],
      "text/plain": [
       "    children  days_employed  dob_years education  education_id  \\\n",
       "12         0            NaN         65   среднее             1   \n",
       "26         0            NaN         41   среднее             1   \n",
       "29         0            NaN         63   среднее             1   \n",
       "41         0            NaN         50   среднее             1   \n",
       "55         0            NaN         54   среднее             1   \n",
       "\n",
       "            family_status  family_status_id gender  income_type  debt  \\\n",
       "12       гражданский брак                 1      M    пенсионер     0   \n",
       "26        женат / замужем                 0      M  госслужащий     0   \n",
       "29  Не женат / не замужем                 4      F    пенсионер     0   \n",
       "41        женат / замужем                 0      F  госслужащий     0   \n",
       "55       гражданский брак                 1      F    пенсионер     1   \n",
       "\n",
       "    total_income                           purpose  \n",
       "12           NaN                   сыграть свадьбу  \n",
       "26           NaN                       образование  \n",
       "29           NaN  строительство жилой недвижимости  \n",
       "41           NaN  сделка с подержанным автомобилем  \n",
       "55           NaN                   сыграть свадьбу  "
      ]
     },
     "execution_count": 8,
     "metadata": {},
     "output_type": "execute_result"
    }
   ],
   "source": [
    "df.loc[df['days_employed'].isna()].head()"
   ]
  },
  {
   "cell_type": "code",
   "execution_count": 9,
   "id": "d3889d2a",
   "metadata": {},
   "outputs": [
    {
     "data": {
      "text/html": [
       "<div>\n",
       "<style scoped>\n",
       "    .dataframe tbody tr th:only-of-type {\n",
       "        vertical-align: middle;\n",
       "    }\n",
       "\n",
       "    .dataframe tbody tr th {\n",
       "        vertical-align: top;\n",
       "    }\n",
       "\n",
       "    .dataframe thead th {\n",
       "        text-align: right;\n",
       "    }\n",
       "</style>\n",
       "<table border=\"1\" class=\"dataframe\">\n",
       "  <thead>\n",
       "    <tr style=\"text-align: right;\">\n",
       "      <th></th>\n",
       "      <th>children</th>\n",
       "      <th>days_employed</th>\n",
       "      <th>dob_years</th>\n",
       "      <th>education</th>\n",
       "      <th>education_id</th>\n",
       "      <th>family_status</th>\n",
       "      <th>family_status_id</th>\n",
       "      <th>gender</th>\n",
       "      <th>income_type</th>\n",
       "      <th>debt</th>\n",
       "      <th>total_income</th>\n",
       "      <th>purpose</th>\n",
       "    </tr>\n",
       "  </thead>\n",
       "  <tbody>\n",
       "    <tr>\n",
       "      <th>21489</th>\n",
       "      <td>2</td>\n",
       "      <td>NaN</td>\n",
       "      <td>47</td>\n",
       "      <td>Среднее</td>\n",
       "      <td>1</td>\n",
       "      <td>женат / замужем</td>\n",
       "      <td>0</td>\n",
       "      <td>M</td>\n",
       "      <td>компаньон</td>\n",
       "      <td>0</td>\n",
       "      <td>NaN</td>\n",
       "      <td>сделка с автомобилем</td>\n",
       "    </tr>\n",
       "    <tr>\n",
       "      <th>21495</th>\n",
       "      <td>1</td>\n",
       "      <td>NaN</td>\n",
       "      <td>50</td>\n",
       "      <td>среднее</td>\n",
       "      <td>1</td>\n",
       "      <td>гражданский брак</td>\n",
       "      <td>1</td>\n",
       "      <td>F</td>\n",
       "      <td>сотрудник</td>\n",
       "      <td>0</td>\n",
       "      <td>NaN</td>\n",
       "      <td>свадьба</td>\n",
       "    </tr>\n",
       "    <tr>\n",
       "      <th>21497</th>\n",
       "      <td>0</td>\n",
       "      <td>NaN</td>\n",
       "      <td>48</td>\n",
       "      <td>ВЫСШЕЕ</td>\n",
       "      <td>0</td>\n",
       "      <td>женат / замужем</td>\n",
       "      <td>0</td>\n",
       "      <td>F</td>\n",
       "      <td>компаньон</td>\n",
       "      <td>0</td>\n",
       "      <td>NaN</td>\n",
       "      <td>строительство недвижимости</td>\n",
       "    </tr>\n",
       "    <tr>\n",
       "      <th>21502</th>\n",
       "      <td>1</td>\n",
       "      <td>NaN</td>\n",
       "      <td>42</td>\n",
       "      <td>среднее</td>\n",
       "      <td>1</td>\n",
       "      <td>женат / замужем</td>\n",
       "      <td>0</td>\n",
       "      <td>F</td>\n",
       "      <td>сотрудник</td>\n",
       "      <td>0</td>\n",
       "      <td>NaN</td>\n",
       "      <td>строительство жилой недвижимости</td>\n",
       "    </tr>\n",
       "    <tr>\n",
       "      <th>21510</th>\n",
       "      <td>2</td>\n",
       "      <td>NaN</td>\n",
       "      <td>28</td>\n",
       "      <td>среднее</td>\n",
       "      <td>1</td>\n",
       "      <td>женат / замужем</td>\n",
       "      <td>0</td>\n",
       "      <td>F</td>\n",
       "      <td>сотрудник</td>\n",
       "      <td>0</td>\n",
       "      <td>NaN</td>\n",
       "      <td>приобретение автомобиля</td>\n",
       "    </tr>\n",
       "  </tbody>\n",
       "</table>\n",
       "</div>"
      ],
      "text/plain": [
       "       children  days_employed  dob_years education  education_id  \\\n",
       "21489         2            NaN         47   Среднее             1   \n",
       "21495         1            NaN         50   среднее             1   \n",
       "21497         0            NaN         48    ВЫСШЕЕ             0   \n",
       "21502         1            NaN         42   среднее             1   \n",
       "21510         2            NaN         28   среднее             1   \n",
       "\n",
       "          family_status  family_status_id gender income_type  debt  \\\n",
       "21489   женат / замужем                 0      M   компаньон     0   \n",
       "21495  гражданский брак                 1      F   сотрудник     0   \n",
       "21497   женат / замужем                 0      F   компаньон     0   \n",
       "21502   женат / замужем                 0      F   сотрудник     0   \n",
       "21510   женат / замужем                 0      F   сотрудник     0   \n",
       "\n",
       "       total_income                           purpose  \n",
       "21489           NaN              сделка с автомобилем  \n",
       "21495           NaN                           свадьба  \n",
       "21497           NaN        строительство недвижимости  \n",
       "21502           NaN  строительство жилой недвижимости  \n",
       "21510           NaN           приобретение автомобиля  "
      ]
     },
     "execution_count": 9,
     "metadata": {},
     "output_type": "execute_result"
    }
   ],
   "source": [
    "df.loc[df['days_employed'].isna()].tail()"
   ]
  },
  {
   "cell_type": "markdown",
   "id": "6428896e",
   "metadata": {},
   "source": [
    "Судя по выборке первых и последних строк с пропусками между строками нет ничего общего. Можно предположить, что данные вызваны технической ошибкой или ошибкой выгрузки данных. Либо эти люди никогда официально не работали и форма для заполнения данных о клиенте, позволяет оставить эти поля незаполненными. "
   ]
  },
  {
   "cell_type": "markdown",
   "id": "4cded7cb",
   "metadata": {},
   "source": [
    "В пропусках количественные данные. Пропуски заполним медианным значением, в таком случаем пропуски не исказят данные и исключат влияние аномальных значений, в отличие от способа заполнения пропусков средним."
   ]
  },
  {
   "cell_type": "code",
   "execution_count": 10,
   "id": "9bbf49a5",
   "metadata": {},
   "outputs": [],
   "source": [
    "#df['days_employed'] = df['days_employed'].fillna(df['days_employed'].median())\n",
    "#df['total_income'] = df['total_income'].fillna(df['total_income'].median())\n",
    "#df.info()"
   ]
  },
  {
   "cell_type": "markdown",
   "id": "0aef1698",
   "metadata": {},
   "source": [
    "Заполним пропуски в столбце с ежемесячным доходом медианным в категории людей с опредленным типом занятости."
   ]
  },
  {
   "cell_type": "code",
   "execution_count": 11,
   "id": "3b1eb09e",
   "metadata": {
    "scrolled": true
   },
   "outputs": [
    {
     "data": {
      "text/plain": [
       "income_type\n",
       "в декрете           53829.130729\n",
       "студент             98201.625314\n",
       "пенсионер          118514.486412\n",
       "безработный        131339.751676\n",
       "сотрудник          142594.396847\n",
       "госслужащий        150447.935283\n",
       "компаньон          172357.950966\n",
       "предприниматель    499163.144947\n",
       "Name: total_income, dtype: float64"
      ]
     },
     "metadata": {},
     "output_type": "display_data"
    }
   ],
   "source": [
    "#создадим список с медианными знаечниями для каждой категорий\n",
    "income_median_by_type = df.groupby('income_type')['total_income'].median().sort_values()\n",
    "display(income_median_by_type)"
   ]
  },
  {
   "cell_type": "code",
   "execution_count": 12,
   "id": "112d3bcd",
   "metadata": {},
   "outputs": [
    {
     "name": "stdout",
     "output_type": "stream",
     "text": [
      "Тип занятости -  в декрете , медианное знаечние дохода -  53829.13072905995\n",
      "Было пропусков: 0\n",
      "Стало пропусков: 0\n",
      "Тип занятости -  студент , медианное знаечние дохода -  98201.62531401133\n",
      "Было пропусков: 0\n",
      "Стало пропусков: 0\n",
      "Тип занятости -  пенсионер , медианное знаечние дохода -  118514.48641164352\n",
      "Было пропусков: 413\n",
      "Стало пропусков: 0\n",
      "Тип занятости -  безработный , медианное знаечние дохода -  131339.7516762103\n",
      "Было пропусков: 0\n",
      "Стало пропусков: 0\n",
      "Тип занятости -  сотрудник , медианное знаечние дохода -  142594.39684740017\n",
      "Было пропусков: 1105\n",
      "Стало пропусков: 0\n",
      "Тип занятости -  госслужащий , медианное знаечние дохода -  150447.9352830068\n",
      "Было пропусков: 147\n",
      "Стало пропусков: 0\n",
      "Тип занятости -  компаньон , медианное знаечние дохода -  172357.95096577113\n",
      "Было пропусков: 508\n",
      "Стало пропусков: 0\n",
      "Тип занятости -  предприниматель , медианное знаечние дохода -  499163.1449470857\n",
      "Было пропусков: 1\n",
      "Стало пропусков: 0\n"
     ]
    }
   ],
   "source": [
    "for category in income_median_by_type.index:\n",
    "    median = income_median_by_type[category]\n",
    "    print('Тип занятости - ', category, ', медианное знаечние дохода - ', median)\n",
    "    print('Было пропусков:', df[df['income_type'] == category]['total_income'].isnull().sum())\n",
    "    df.loc[df.loc[:, 'income_type']==category, 'total_income'] = df.loc[df.loc[:, 'income_type']==category, 'total_income'].fillna(median)\n",
    "    print('Стало пропусков:', df[df['income_type'] == category]['total_income'].isnull().sum())"
   ]
  },
  {
   "cell_type": "code",
   "execution_count": 13,
   "id": "bb7424c4",
   "metadata": {},
   "outputs": [
    {
     "data": {
      "text/plain": [
       "0"
      ]
     },
     "execution_count": 13,
     "metadata": {},
     "output_type": "execute_result"
    }
   ],
   "source": [
    "#проверим, остались ли пропуски в столбце с ежемесячным доходом\n",
    "df['total_income'].isnull().sum()"
   ]
  },
  {
   "cell_type": "raw",
   "id": "8d201517",
   "metadata": {},
   "source": [
    "Пропуски в столбце `total_income` заполнены. Пропуски в столбце `days_employed` заполним после исправления отрицательных значений."
   ]
  },
  {
   "cell_type": "markdown",
   "id": "d7060200",
   "metadata": {},
   "source": [
    "###  Проверка данных на аномалии и исправления."
   ]
  },
  {
   "cell_type": "markdown",
   "id": "93577219",
   "metadata": {},
   "source": [
    "####  Отрицательные значения в стаже"
   ]
  },
  {
   "cell_type": "markdown",
   "id": "ed6a0064",
   "metadata": {},
   "source": [
    "При первом изучении данных заметно, что значения в столбце `days_employed` отрицательные, это аномалия, стаж не может быть меньше 0."
   ]
  },
  {
   "cell_type": "code",
   "execution_count": 14,
   "id": "84594889",
   "metadata": {},
   "outputs": [
    {
     "data": {
      "text/plain": [
       "'В столбце со стажем days_employed всего 3445 значений больше нуля из 19351 строк'"
      ]
     },
     "execution_count": 14,
     "metadata": {},
     "output_type": "execute_result"
    }
   ],
   "source": [
    "negative_meaning = df[df['days_employed'] > 0]['days_employed'].count()\n",
    "total_count = df['days_employed'].count()\n",
    "f'В столбце со стажем days_employed всего {negative_meaning} значений больше нуля из {total_count} строк'"
   ]
  },
  {
   "cell_type": "markdown",
   "id": "9e007f2d",
   "metadata": {},
   "source": [
    "Возможно, причина ошибки в том, что при подготовке данных вычли из даты начала трудового стажа дату окончания.\n",
    "Устраним аномалию, взяв все значения в столбце по модулю."
   ]
  },
  {
   "cell_type": "code",
   "execution_count": 15,
   "id": "701f026b",
   "metadata": {
    "scrolled": false
   },
   "outputs": [
    {
     "data": {
      "text/plain": [
       "'Теперь в столбце со стажем days_employed  19351 значений больше нуля из 19351 строк'"
      ]
     },
     "execution_count": 15,
     "metadata": {},
     "output_type": "execute_result"
    }
   ],
   "source": [
    "df['days_employed'] = df['days_employed'].abs()\n",
    "\n",
    "negative_meaning = df[df['days_employed'] > 0]['days_employed'].count()\n",
    "total_count = df['days_employed'].count()\n",
    "f'Теперь в столбце со стажем days_employed  {negative_meaning} значений больше нуля из {total_count} строк'"
   ]
  },
  {
   "cell_type": "markdown",
   "id": "91c2fcc0",
   "metadata": {},
   "source": [
    "В пункте 0.2 выяснили, что в в столбце `days_employed` есть пропуски. В пропусках количественные данные. Пропуски заполним медианным значением, в таком случаем пропуски не исказят данные и исключат влияние аномальных значений, в отличие от способа заполнения пропусков средним."
   ]
  },
  {
   "cell_type": "code",
   "execution_count": 16,
   "id": "b66fa4d6",
   "metadata": {},
   "outputs": [
    {
     "name": "stdout",
     "output_type": "stream",
     "text": [
      "Медианное занчение стажа: 2194.220566878695\n",
      "\n",
      "<class 'pandas.core.frame.DataFrame'>\n",
      "RangeIndex: 21525 entries, 0 to 21524\n",
      "Data columns (total 12 columns):\n",
      " #   Column            Non-Null Count  Dtype  \n",
      "---  ------            --------------  -----  \n",
      " 0   children          21525 non-null  int64  \n",
      " 1   days_employed     21525 non-null  float64\n",
      " 2   dob_years         21525 non-null  int64  \n",
      " 3   education         21525 non-null  object \n",
      " 4   education_id      21525 non-null  int64  \n",
      " 5   family_status     21525 non-null  object \n",
      " 6   family_status_id  21525 non-null  int64  \n",
      " 7   gender            21525 non-null  object \n",
      " 8   income_type       21525 non-null  object \n",
      " 9   debt              21525 non-null  int64  \n",
      " 10  total_income      21525 non-null  float64\n",
      " 11  purpose           21525 non-null  object \n",
      "dtypes: float64(2), int64(5), object(5)\n",
      "memory usage: 2.0+ MB\n"
     ]
    }
   ],
   "source": [
    "print('Медианное занчение стажа:', df['days_employed'].median())\n",
    "print()\n",
    "df['days_employed'] = df['days_employed'].fillna(df['days_employed'].median())\n",
    "df.info()"
   ]
  },
  {
   "cell_type": "markdown",
   "id": "603e09ce",
   "metadata": {},
   "source": [
    "Проверим адекватность значений стажа клиентов. Он должен быть меньше возраста."
   ]
  },
  {
   "cell_type": "code",
   "execution_count": 17,
   "id": "49c65506",
   "metadata": {},
   "outputs": [
    {
     "data": {
      "text/html": [
       "<div>\n",
       "<style scoped>\n",
       "    .dataframe tbody tr th:only-of-type {\n",
       "        vertical-align: middle;\n",
       "    }\n",
       "\n",
       "    .dataframe tbody tr th {\n",
       "        vertical-align: top;\n",
       "    }\n",
       "\n",
       "    .dataframe thead th {\n",
       "        text-align: right;\n",
       "    }\n",
       "</style>\n",
       "<table border=\"1\" class=\"dataframe\">\n",
       "  <thead>\n",
       "    <tr style=\"text-align: right;\">\n",
       "      <th></th>\n",
       "      <th>children</th>\n",
       "      <th>days_employed</th>\n",
       "      <th>dob_years</th>\n",
       "      <th>education</th>\n",
       "      <th>education_id</th>\n",
       "      <th>family_status</th>\n",
       "      <th>family_status_id</th>\n",
       "      <th>gender</th>\n",
       "      <th>income_type</th>\n",
       "      <th>debt</th>\n",
       "      <th>total_income</th>\n",
       "      <th>purpose</th>\n",
       "    </tr>\n",
       "  </thead>\n",
       "  <tbody>\n",
       "    <tr>\n",
       "      <th>1242</th>\n",
       "      <td>0</td>\n",
       "      <td>334764.259831</td>\n",
       "      <td>22</td>\n",
       "      <td>Среднее</td>\n",
       "      <td>1</td>\n",
       "      <td>Не женат / не замужем</td>\n",
       "      <td>4</td>\n",
       "      <td>F</td>\n",
       "      <td>пенсионер</td>\n",
       "      <td>0</td>\n",
       "      <td>89368.600062</td>\n",
       "      <td>получение высшего образования</td>\n",
       "    </tr>\n",
       "    <tr>\n",
       "      <th>16166</th>\n",
       "      <td>0</td>\n",
       "      <td>364348.197352</td>\n",
       "      <td>26</td>\n",
       "      <td>среднее</td>\n",
       "      <td>1</td>\n",
       "      <td>гражданский брак</td>\n",
       "      <td>1</td>\n",
       "      <td>M</td>\n",
       "      <td>пенсионер</td>\n",
       "      <td>0</td>\n",
       "      <td>80044.196101</td>\n",
       "      <td>автомобиль</td>\n",
       "    </tr>\n",
       "    <tr>\n",
       "      <th>19439</th>\n",
       "      <td>0</td>\n",
       "      <td>389397.167577</td>\n",
       "      <td>26</td>\n",
       "      <td>высшее</td>\n",
       "      <td>0</td>\n",
       "      <td>женат / замужем</td>\n",
       "      <td>0</td>\n",
       "      <td>F</td>\n",
       "      <td>пенсионер</td>\n",
       "      <td>0</td>\n",
       "      <td>214963.301941</td>\n",
       "      <td>покупка недвижимости</td>\n",
       "    </tr>\n",
       "    <tr>\n",
       "      <th>12753</th>\n",
       "      <td>1</td>\n",
       "      <td>329781.704997</td>\n",
       "      <td>27</td>\n",
       "      <td>среднее</td>\n",
       "      <td>1</td>\n",
       "      <td>женат / замужем</td>\n",
       "      <td>0</td>\n",
       "      <td>F</td>\n",
       "      <td>пенсионер</td>\n",
       "      <td>0</td>\n",
       "      <td>65198.102341</td>\n",
       "      <td>получение образования</td>\n",
       "    </tr>\n",
       "    <tr>\n",
       "      <th>13953</th>\n",
       "      <td>0</td>\n",
       "      <td>376824.585817</td>\n",
       "      <td>27</td>\n",
       "      <td>среднее</td>\n",
       "      <td>1</td>\n",
       "      <td>в разводе</td>\n",
       "      <td>3</td>\n",
       "      <td>M</td>\n",
       "      <td>пенсионер</td>\n",
       "      <td>0</td>\n",
       "      <td>97961.993557</td>\n",
       "      <td>операции с жильем</td>\n",
       "    </tr>\n",
       "    <tr>\n",
       "      <th>...</th>\n",
       "      <td>...</td>\n",
       "      <td>...</td>\n",
       "      <td>...</td>\n",
       "      <td>...</td>\n",
       "      <td>...</td>\n",
       "      <td>...</td>\n",
       "      <td>...</td>\n",
       "      <td>...</td>\n",
       "      <td>...</td>\n",
       "      <td>...</td>\n",
       "      <td>...</td>\n",
       "      <td>...</td>\n",
       "    </tr>\n",
       "    <tr>\n",
       "      <th>1826</th>\n",
       "      <td>0</td>\n",
       "      <td>368375.048770</td>\n",
       "      <td>73</td>\n",
       "      <td>Среднее</td>\n",
       "      <td>1</td>\n",
       "      <td>вдовец / вдова</td>\n",
       "      <td>2</td>\n",
       "      <td>F</td>\n",
       "      <td>пенсионер</td>\n",
       "      <td>0</td>\n",
       "      <td>74284.473064</td>\n",
       "      <td>покупка жилой недвижимости</td>\n",
       "    </tr>\n",
       "    <tr>\n",
       "      <th>2557</th>\n",
       "      <td>0</td>\n",
       "      <td>372861.103965</td>\n",
       "      <td>74</td>\n",
       "      <td>среднее</td>\n",
       "      <td>1</td>\n",
       "      <td>женат / замужем</td>\n",
       "      <td>0</td>\n",
       "      <td>F</td>\n",
       "      <td>пенсионер</td>\n",
       "      <td>0</td>\n",
       "      <td>42927.300898</td>\n",
       "      <td>автомобили</td>\n",
       "    </tr>\n",
       "    <tr>\n",
       "      <th>3460</th>\n",
       "      <td>0</td>\n",
       "      <td>344623.836105</td>\n",
       "      <td>74</td>\n",
       "      <td>среднее</td>\n",
       "      <td>1</td>\n",
       "      <td>женат / замужем</td>\n",
       "      <td>0</td>\n",
       "      <td>M</td>\n",
       "      <td>пенсионер</td>\n",
       "      <td>0</td>\n",
       "      <td>54754.745517</td>\n",
       "      <td>операции со своей недвижимостью</td>\n",
       "    </tr>\n",
       "    <tr>\n",
       "      <th>4895</th>\n",
       "      <td>0</td>\n",
       "      <td>341528.126150</td>\n",
       "      <td>74</td>\n",
       "      <td>высшее</td>\n",
       "      <td>0</td>\n",
       "      <td>женат / замужем</td>\n",
       "      <td>0</td>\n",
       "      <td>F</td>\n",
       "      <td>пенсионер</td>\n",
       "      <td>0</td>\n",
       "      <td>134935.354225</td>\n",
       "      <td>покупка своего жилья</td>\n",
       "    </tr>\n",
       "    <tr>\n",
       "      <th>19642</th>\n",
       "      <td>0</td>\n",
       "      <td>380150.387046</td>\n",
       "      <td>74</td>\n",
       "      <td>среднее</td>\n",
       "      <td>1</td>\n",
       "      <td>вдовец / вдова</td>\n",
       "      <td>2</td>\n",
       "      <td>F</td>\n",
       "      <td>пенсионер</td>\n",
       "      <td>0</td>\n",
       "      <td>45089.546419</td>\n",
       "      <td>приобретение автомобиля</td>\n",
       "    </tr>\n",
       "  </tbody>\n",
       "</table>\n",
       "<p>3428 rows × 12 columns</p>\n",
       "</div>"
      ],
      "text/plain": [
       "       children  days_employed  dob_years education  education_id  \\\n",
       "1242          0  334764.259831         22   Среднее             1   \n",
       "16166         0  364348.197352         26   среднее             1   \n",
       "19439         0  389397.167577         26    высшее             0   \n",
       "12753         1  329781.704997         27   среднее             1   \n",
       "13953         0  376824.585817         27   среднее             1   \n",
       "...         ...            ...        ...       ...           ...   \n",
       "1826          0  368375.048770         73   Среднее             1   \n",
       "2557          0  372861.103965         74   среднее             1   \n",
       "3460          0  344623.836105         74   среднее             1   \n",
       "4895          0  341528.126150         74    высшее             0   \n",
       "19642         0  380150.387046         74   среднее             1   \n",
       "\n",
       "               family_status  family_status_id gender income_type  debt  \\\n",
       "1242   Не женат / не замужем                 4      F   пенсионер     0   \n",
       "16166       гражданский брак                 1      M   пенсионер     0   \n",
       "19439        женат / замужем                 0      F   пенсионер     0   \n",
       "12753        женат / замужем                 0      F   пенсионер     0   \n",
       "13953              в разводе                 3      M   пенсионер     0   \n",
       "...                      ...               ...    ...         ...   ...   \n",
       "1826          вдовец / вдова                 2      F   пенсионер     0   \n",
       "2557         женат / замужем                 0      F   пенсионер     0   \n",
       "3460         женат / замужем                 0      M   пенсионер     0   \n",
       "4895         женат / замужем                 0      F   пенсионер     0   \n",
       "19642         вдовец / вдова                 2      F   пенсионер     0   \n",
       "\n",
       "        total_income                          purpose  \n",
       "1242    89368.600062    получение высшего образования  \n",
       "16166   80044.196101                       автомобиль  \n",
       "19439  214963.301941             покупка недвижимости  \n",
       "12753   65198.102341            получение образования  \n",
       "13953   97961.993557                операции с жильем  \n",
       "...              ...                              ...  \n",
       "1826    74284.473064       покупка жилой недвижимости  \n",
       "2557    42927.300898                       автомобили  \n",
       "3460    54754.745517  операции со своей недвижимостью  \n",
       "4895   134935.354225             покупка своего жилья  \n",
       "19642   45089.546419          приобретение автомобиля  \n",
       "\n",
       "[3428 rows x 12 columns]"
      ]
     },
     "execution_count": 17,
     "metadata": {},
     "output_type": "execute_result"
    }
   ],
   "source": [
    "df.loc[((df['days_employed']/365)> df['dob_years']) & (df['dob_years'] != 0)].sort_values(by='dob_years')"
   ]
  },
  {
   "cell_type": "markdown",
   "id": "ee0a0fba",
   "metadata": {},
   "source": [
    "У 3428 клиентов стаж  превышает возраст. Для проверки гипотез стаж клиентов не требуется, поэтому исправлять аномальные значения не будем. Об этой аномалии необходимо будет сообщить владельцам процесса/разработчикам для поиска причины ошибки."
   ]
  },
  {
   "cell_type": "markdown",
   "id": "2c24e098",
   "metadata": {},
   "source": [
    "#### Аномальные значения в количестве детей"
   ]
  },
  {
   "cell_type": "markdown",
   "id": "fd7c21ba",
   "metadata": {},
   "source": [
    "Проверим, какие значения есть в колонке с количеством детей."
   ]
  },
  {
   "cell_type": "code",
   "execution_count": 18,
   "id": "303eb544",
   "metadata": {},
   "outputs": [
    {
     "data": {
      "text/plain": [
       "array([ 1,  0,  3,  2, -1,  4, 20,  5])"
      ]
     },
     "execution_count": 18,
     "metadata": {},
     "output_type": "execute_result"
    }
   ],
   "source": [
    "df['children'].unique()"
   ]
  },
  {
   "cell_type": "markdown",
   "id": "8bd0be08",
   "metadata": {},
   "source": [
    "Значение -1 будем считать опечаткой и заменим на 1."
   ]
  },
  {
   "cell_type": "code",
   "execution_count": 19,
   "id": "cbd69af0",
   "metadata": {},
   "outputs": [
    {
     "data": {
      "text/plain": [
       "array([ 1,  0,  3,  2,  4, 20,  5])"
      ]
     },
     "execution_count": 19,
     "metadata": {},
     "output_type": "execute_result"
    }
   ],
   "source": [
    "df['children'] = df['children'].replace(-1, 1)\n",
    "df['children'].unique()"
   ]
  },
  {
   "cell_type": "markdown",
   "id": "8428bf64",
   "metadata": {},
   "source": [
    "Проверим сколько клиентов с 20 детьми. "
   ]
  },
  {
   "cell_type": "code",
   "execution_count": 20,
   "id": "3c98b3d9",
   "metadata": {},
   "outputs": [
    {
     "data": {
      "text/plain": [
       "76"
      ]
     },
     "execution_count": 20,
     "metadata": {},
     "output_type": "execute_result"
    }
   ],
   "source": [
    "df[df['children'] == 20]['gender'].count()"
   ]
  },
  {
   "cell_type": "markdown",
   "id": "0b3d370e",
   "metadata": {},
   "source": [
    "Будем счиатать, что 20 - это опечатка, и заменим на 2. Т.к. семьи с 20-ю детьми - это большая редкость, и нет в выборке промежуточных значений между 5 и 20."
   ]
  },
  {
   "cell_type": "code",
   "execution_count": 21,
   "id": "e5780b97",
   "metadata": {},
   "outputs": [
    {
     "data": {
      "text/plain": [
       "array([1, 0, 3, 2, 4, 5])"
      ]
     },
     "execution_count": 21,
     "metadata": {},
     "output_type": "execute_result"
    }
   ],
   "source": [
    "df['children'] = df['children'].replace(20, 2)\n",
    "df['children'].unique()"
   ]
  },
  {
   "cell_type": "markdown",
   "id": "578f6656",
   "metadata": {},
   "source": [
    "#### Аномалии в значении  гендера"
   ]
  },
  {
   "cell_type": "markdown",
   "id": "01751b51",
   "metadata": {},
   "source": [
    "Проверим, какие значения встречаются в колонке `gender`."
   ]
  },
  {
   "cell_type": "code",
   "execution_count": 22,
   "id": "88712ae0",
   "metadata": {},
   "outputs": [
    {
     "data": {
      "text/plain": [
       "array(['F', 'M', 'XNA'], dtype=object)"
      ]
     },
     "execution_count": 22,
     "metadata": {},
     "output_type": "execute_result"
    }
   ],
   "source": [
    "df['gender'].unique()"
   ]
  },
  {
   "cell_type": "code",
   "execution_count": 23,
   "id": "5bd2ba05",
   "metadata": {},
   "outputs": [
    {
     "data": {
      "text/html": [
       "<div>\n",
       "<style scoped>\n",
       "    .dataframe tbody tr th:only-of-type {\n",
       "        vertical-align: middle;\n",
       "    }\n",
       "\n",
       "    .dataframe tbody tr th {\n",
       "        vertical-align: top;\n",
       "    }\n",
       "\n",
       "    .dataframe thead th {\n",
       "        text-align: right;\n",
       "    }\n",
       "</style>\n",
       "<table border=\"1\" class=\"dataframe\">\n",
       "  <thead>\n",
       "    <tr style=\"text-align: right;\">\n",
       "      <th></th>\n",
       "      <th>children</th>\n",
       "      <th>days_employed</th>\n",
       "      <th>dob_years</th>\n",
       "      <th>education</th>\n",
       "      <th>education_id</th>\n",
       "      <th>family_status</th>\n",
       "      <th>family_status_id</th>\n",
       "      <th>gender</th>\n",
       "      <th>income_type</th>\n",
       "      <th>debt</th>\n",
       "      <th>total_income</th>\n",
       "      <th>purpose</th>\n",
       "    </tr>\n",
       "  </thead>\n",
       "  <tbody>\n",
       "    <tr>\n",
       "      <th>10701</th>\n",
       "      <td>0</td>\n",
       "      <td>2358.600502</td>\n",
       "      <td>24</td>\n",
       "      <td>неоконченное высшее</td>\n",
       "      <td>2</td>\n",
       "      <td>гражданский брак</td>\n",
       "      <td>1</td>\n",
       "      <td>XNA</td>\n",
       "      <td>компаньон</td>\n",
       "      <td>0</td>\n",
       "      <td>203905.157261</td>\n",
       "      <td>покупка недвижимости</td>\n",
       "    </tr>\n",
       "  </tbody>\n",
       "</table>\n",
       "</div>"
      ],
      "text/plain": [
       "       children  days_employed  dob_years            education  education_id  \\\n",
       "10701         0    2358.600502         24  неоконченное высшее             2   \n",
       "\n",
       "          family_status  family_status_id gender income_type  debt  \\\n",
       "10701  гражданский брак                 1    XNA   компаньон     0   \n",
       "\n",
       "        total_income               purpose  \n",
       "10701  203905.157261  покупка недвижимости  "
      ]
     },
     "execution_count": 23,
     "metadata": {},
     "output_type": "execute_result"
    }
   ],
   "source": [
    "#Посмотрим на строки с гендером 'XNA'\n",
    "df[df['gender'] == 'XNA']"
   ]
  },
  {
   "cell_type": "markdown",
   "id": "50d8cbad",
   "metadata": {},
   "source": [
    "Для проверки гипотез пол клиента не требуется. Если бы гендер был важен для анализа, данную строку пришлось бы удалить. Т.к. случай ошибки единичный, то возможно он вызван каким-то сбое при заполнении формы/передачи данных."
   ]
  },
  {
   "cell_type": "markdown",
   "id": "346dd89f",
   "metadata": {},
   "source": [
    "#### Разный регистр букв в колонке с уровнем образования education"
   ]
  },
  {
   "cell_type": "code",
   "execution_count": 24,
   "id": "d7b3b290",
   "metadata": {},
   "outputs": [
    {
     "data": {
      "text/plain": [
       "array(['высшее', 'среднее', 'Среднее', 'СРЕДНЕЕ', 'ВЫСШЕЕ',\n",
       "       'неоконченное высшее', 'начальное', 'Высшее',\n",
       "       'НЕОКОНЧЕННОЕ ВЫСШЕЕ', 'Неоконченное высшее', 'НАЧАЛЬНОЕ',\n",
       "       'Начальное', 'Ученая степень', 'УЧЕНАЯ СТЕПЕНЬ', 'ученая степень'],\n",
       "      dtype=object)"
      ]
     },
     "execution_count": 24,
     "metadata": {},
     "output_type": "execute_result"
    }
   ],
   "source": [
    "#Проверим количество уникальных видов образования и соответсвующих им id\n",
    "df['education'].unique()"
   ]
  },
  {
   "cell_type": "code",
   "execution_count": 25,
   "id": "79c23425",
   "metadata": {},
   "outputs": [
    {
     "data": {
      "text/plain": [
       "array([0, 1, 2, 3, 4])"
      ]
     },
     "execution_count": 25,
     "metadata": {},
     "output_type": "execute_result"
    }
   ],
   "source": [
    "df['education_id'].unique()"
   ]
  },
  {
   "cell_type": "code",
   "execution_count": 26,
   "id": "ad2cb597",
   "metadata": {},
   "outputs": [
    {
     "data": {
      "text/plain": [
       "array(['высшее', 'среднее', 'неоконченное высшее', 'начальное',\n",
       "       'ученая степень'], dtype=object)"
      ]
     },
     "execution_count": 26,
     "metadata": {},
     "output_type": "execute_result"
    }
   ],
   "source": [
    "#приведем значения к одному регистру\n",
    "df['education'] = df['education'].str.lower()\n",
    "df['education'].unique()"
   ]
  },
  {
   "cell_type": "markdown",
   "id": "931fb1ee",
   "metadata": {},
   "source": [
    "Теперь количество уровней образования соответсвует количетсву индексов в `education_id`."
   ]
  },
  {
   "cell_type": "markdown",
   "id": "3a002eea",
   "metadata": {},
   "source": [
    "#### Изучение аномалии в возрасте клиентов (столбец `dob_years`)"
   ]
  },
  {
   "cell_type": "markdown",
   "id": "0fd516e1",
   "metadata": {},
   "source": [
    "В пункте 0.2 в резульате работы функции describe видно, что в колонке с возрастом клиентов `dob_years` минимальное значение  равно 0.\n",
    "Проверим, сколько таких строк."
   ]
  },
  {
   "cell_type": "code",
   "execution_count": 27,
   "id": "1853db56",
   "metadata": {},
   "outputs": [
    {
     "data": {
      "text/plain": [
       "101"
      ]
     },
     "execution_count": 27,
     "metadata": {},
     "output_type": "execute_result"
    }
   ],
   "source": [
    "df[df['dob_years'] == 0]['days_employed'].count()"
   ]
  },
  {
   "cell_type": "markdown",
   "id": "13b1f1ae",
   "metadata": {},
   "source": [
    "Для проверки гипотез возраст клиентов не требуется, поэтому исправлять аномальные значения не будем. Об этой аномалии необходимо будет сообщить владельцам процесса/разработчикам для поиска причины ошибки."
   ]
  },
  {
   "cell_type": "markdown",
   "id": "b1f1f4a0",
   "metadata": {},
   "source": [
    "#### Изменение типов данных. "
   ]
  },
  {
   "cell_type": "markdown",
   "id": "a8efa9b1",
   "metadata": {},
   "source": [
    "Ежемесячный доход `total_income` для удобства воприятия переведем в тип int (избавимся от знаков после запятой). В дальнейшем для проверки гипотез \"копейки\" в доходе не повляют на результат."
   ]
  },
  {
   "cell_type": "code",
   "execution_count": 28,
   "id": "66ebf066",
   "metadata": {},
   "outputs": [
    {
     "name": "stdout",
     "output_type": "stream",
     "text": [
      "<class 'pandas.core.frame.DataFrame'>\n",
      "RangeIndex: 21525 entries, 0 to 21524\n",
      "Data columns (total 12 columns):\n",
      " #   Column            Non-Null Count  Dtype  \n",
      "---  ------            --------------  -----  \n",
      " 0   children          21525 non-null  int64  \n",
      " 1   days_employed     21525 non-null  float64\n",
      " 2   dob_years         21525 non-null  int64  \n",
      " 3   education         21525 non-null  object \n",
      " 4   education_id      21525 non-null  int64  \n",
      " 5   family_status     21525 non-null  object \n",
      " 6   family_status_id  21525 non-null  int64  \n",
      " 7   gender            21525 non-null  object \n",
      " 8   income_type       21525 non-null  object \n",
      " 9   debt              21525 non-null  int64  \n",
      " 10  total_income      21525 non-null  int64  \n",
      " 11  purpose           21525 non-null  object \n",
      "dtypes: float64(1), int64(6), object(5)\n",
      "memory usage: 2.0+ MB\n"
     ]
    }
   ],
   "source": [
    "df['total_income'] = df['total_income'].astype(int)\n",
    "df.info()"
   ]
  },
  {
   "cell_type": "code",
   "execution_count": 29,
   "id": "beba5943",
   "metadata": {
    "scrolled": true
   },
   "outputs": [
    {
     "data": {
      "text/html": [
       "<div>\n",
       "<style scoped>\n",
       "    .dataframe tbody tr th:only-of-type {\n",
       "        vertical-align: middle;\n",
       "    }\n",
       "\n",
       "    .dataframe tbody tr th {\n",
       "        vertical-align: top;\n",
       "    }\n",
       "\n",
       "    .dataframe thead th {\n",
       "        text-align: right;\n",
       "    }\n",
       "</style>\n",
       "<table border=\"1\" class=\"dataframe\">\n",
       "  <thead>\n",
       "    <tr style=\"text-align: right;\">\n",
       "      <th></th>\n",
       "      <th>children</th>\n",
       "      <th>days_employed</th>\n",
       "      <th>dob_years</th>\n",
       "      <th>education</th>\n",
       "      <th>education_id</th>\n",
       "      <th>family_status</th>\n",
       "      <th>family_status_id</th>\n",
       "      <th>gender</th>\n",
       "      <th>income_type</th>\n",
       "      <th>debt</th>\n",
       "      <th>total_income</th>\n",
       "      <th>purpose</th>\n",
       "    </tr>\n",
       "  </thead>\n",
       "  <tbody>\n",
       "    <tr>\n",
       "      <th>0</th>\n",
       "      <td>1</td>\n",
       "      <td>8437.673028</td>\n",
       "      <td>42</td>\n",
       "      <td>высшее</td>\n",
       "      <td>0</td>\n",
       "      <td>женат / замужем</td>\n",
       "      <td>0</td>\n",
       "      <td>F</td>\n",
       "      <td>сотрудник</td>\n",
       "      <td>0</td>\n",
       "      <td>253875</td>\n",
       "      <td>покупка жилья</td>\n",
       "    </tr>\n",
       "    <tr>\n",
       "      <th>1</th>\n",
       "      <td>1</td>\n",
       "      <td>4024.803754</td>\n",
       "      <td>36</td>\n",
       "      <td>среднее</td>\n",
       "      <td>1</td>\n",
       "      <td>женат / замужем</td>\n",
       "      <td>0</td>\n",
       "      <td>F</td>\n",
       "      <td>сотрудник</td>\n",
       "      <td>0</td>\n",
       "      <td>112080</td>\n",
       "      <td>приобретение автомобиля</td>\n",
       "    </tr>\n",
       "    <tr>\n",
       "      <th>2</th>\n",
       "      <td>0</td>\n",
       "      <td>5623.422610</td>\n",
       "      <td>33</td>\n",
       "      <td>среднее</td>\n",
       "      <td>1</td>\n",
       "      <td>женат / замужем</td>\n",
       "      <td>0</td>\n",
       "      <td>M</td>\n",
       "      <td>сотрудник</td>\n",
       "      <td>0</td>\n",
       "      <td>145885</td>\n",
       "      <td>покупка жилья</td>\n",
       "    </tr>\n",
       "    <tr>\n",
       "      <th>3</th>\n",
       "      <td>3</td>\n",
       "      <td>4124.747207</td>\n",
       "      <td>32</td>\n",
       "      <td>среднее</td>\n",
       "      <td>1</td>\n",
       "      <td>женат / замужем</td>\n",
       "      <td>0</td>\n",
       "      <td>M</td>\n",
       "      <td>сотрудник</td>\n",
       "      <td>0</td>\n",
       "      <td>267628</td>\n",
       "      <td>дополнительное образование</td>\n",
       "    </tr>\n",
       "    <tr>\n",
       "      <th>4</th>\n",
       "      <td>0</td>\n",
       "      <td>340266.072047</td>\n",
       "      <td>53</td>\n",
       "      <td>среднее</td>\n",
       "      <td>1</td>\n",
       "      <td>гражданский брак</td>\n",
       "      <td>1</td>\n",
       "      <td>F</td>\n",
       "      <td>пенсионер</td>\n",
       "      <td>0</td>\n",
       "      <td>158616</td>\n",
       "      <td>сыграть свадьбу</td>\n",
       "    </tr>\n",
       "    <tr>\n",
       "      <th>5</th>\n",
       "      <td>0</td>\n",
       "      <td>926.185831</td>\n",
       "      <td>27</td>\n",
       "      <td>высшее</td>\n",
       "      <td>0</td>\n",
       "      <td>гражданский брак</td>\n",
       "      <td>1</td>\n",
       "      <td>M</td>\n",
       "      <td>компаньон</td>\n",
       "      <td>0</td>\n",
       "      <td>255763</td>\n",
       "      <td>покупка жилья</td>\n",
       "    </tr>\n",
       "    <tr>\n",
       "      <th>6</th>\n",
       "      <td>0</td>\n",
       "      <td>2879.202052</td>\n",
       "      <td>43</td>\n",
       "      <td>высшее</td>\n",
       "      <td>0</td>\n",
       "      <td>женат / замужем</td>\n",
       "      <td>0</td>\n",
       "      <td>F</td>\n",
       "      <td>компаньон</td>\n",
       "      <td>0</td>\n",
       "      <td>240525</td>\n",
       "      <td>операции с жильем</td>\n",
       "    </tr>\n",
       "    <tr>\n",
       "      <th>7</th>\n",
       "      <td>0</td>\n",
       "      <td>152.779569</td>\n",
       "      <td>50</td>\n",
       "      <td>среднее</td>\n",
       "      <td>1</td>\n",
       "      <td>женат / замужем</td>\n",
       "      <td>0</td>\n",
       "      <td>M</td>\n",
       "      <td>сотрудник</td>\n",
       "      <td>0</td>\n",
       "      <td>135823</td>\n",
       "      <td>образование</td>\n",
       "    </tr>\n",
       "    <tr>\n",
       "      <th>8</th>\n",
       "      <td>2</td>\n",
       "      <td>6929.865299</td>\n",
       "      <td>35</td>\n",
       "      <td>высшее</td>\n",
       "      <td>0</td>\n",
       "      <td>гражданский брак</td>\n",
       "      <td>1</td>\n",
       "      <td>F</td>\n",
       "      <td>сотрудник</td>\n",
       "      <td>0</td>\n",
       "      <td>95856</td>\n",
       "      <td>на проведение свадьбы</td>\n",
       "    </tr>\n",
       "    <tr>\n",
       "      <th>9</th>\n",
       "      <td>0</td>\n",
       "      <td>2188.756445</td>\n",
       "      <td>41</td>\n",
       "      <td>среднее</td>\n",
       "      <td>1</td>\n",
       "      <td>женат / замужем</td>\n",
       "      <td>0</td>\n",
       "      <td>M</td>\n",
       "      <td>сотрудник</td>\n",
       "      <td>0</td>\n",
       "      <td>144425</td>\n",
       "      <td>покупка жилья для семьи</td>\n",
       "    </tr>\n",
       "  </tbody>\n",
       "</table>\n",
       "</div>"
      ],
      "text/plain": [
       "   children  days_employed  dob_years education  education_id  \\\n",
       "0         1    8437.673028         42    высшее             0   \n",
       "1         1    4024.803754         36   среднее             1   \n",
       "2         0    5623.422610         33   среднее             1   \n",
       "3         3    4124.747207         32   среднее             1   \n",
       "4         0  340266.072047         53   среднее             1   \n",
       "5         0     926.185831         27    высшее             0   \n",
       "6         0    2879.202052         43    высшее             0   \n",
       "7         0     152.779569         50   среднее             1   \n",
       "8         2    6929.865299         35    высшее             0   \n",
       "9         0    2188.756445         41   среднее             1   \n",
       "\n",
       "      family_status  family_status_id gender income_type  debt  total_income  \\\n",
       "0   женат / замужем                 0      F   сотрудник     0        253875   \n",
       "1   женат / замужем                 0      F   сотрудник     0        112080   \n",
       "2   женат / замужем                 0      M   сотрудник     0        145885   \n",
       "3   женат / замужем                 0      M   сотрудник     0        267628   \n",
       "4  гражданский брак                 1      F   пенсионер     0        158616   \n",
       "5  гражданский брак                 1      M   компаньон     0        255763   \n",
       "6   женат / замужем                 0      F   компаньон     0        240525   \n",
       "7   женат / замужем                 0      M   сотрудник     0        135823   \n",
       "8  гражданский брак                 1      F   сотрудник     0         95856   \n",
       "9   женат / замужем                 0      M   сотрудник     0        144425   \n",
       "\n",
       "                      purpose  \n",
       "0               покупка жилья  \n",
       "1     приобретение автомобиля  \n",
       "2               покупка жилья  \n",
       "3  дополнительное образование  \n",
       "4             сыграть свадьбу  \n",
       "5               покупка жилья  \n",
       "6           операции с жильем  \n",
       "7                 образование  \n",
       "8       на проведение свадьбы  \n",
       "9     покупка жилья для семьи  "
      ]
     },
     "execution_count": 29,
     "metadata": {},
     "output_type": "execute_result"
    }
   ],
   "source": [
    "df.head(10)"
   ]
  },
  {
   "cell_type": "markdown",
   "id": "fa05e59c",
   "metadata": {},
   "source": [
    "### Удаление дубликатов"
   ]
  },
  {
   "cell_type": "markdown",
   "id": "372d3b0a",
   "metadata": {},
   "source": [
    "Проверим датасет на дубликаты."
   ]
  },
  {
   "cell_type": "code",
   "execution_count": 30,
   "id": "fb23336a",
   "metadata": {},
   "outputs": [
    {
     "data": {
      "text/plain": [
       "71"
      ]
     },
     "execution_count": 30,
     "metadata": {},
     "output_type": "execute_result"
    }
   ],
   "source": [
    "df.duplicated().sum()"
   ]
  },
  {
   "cell_type": "code",
   "execution_count": 31,
   "id": "66c249b0",
   "metadata": {},
   "outputs": [
    {
     "data": {
      "text/plain": [
       "0"
      ]
     },
     "execution_count": 31,
     "metadata": {},
     "output_type": "execute_result"
    }
   ],
   "source": [
    "#Удалим дубликаты и проверим результат работы функции\n",
    "df = df.drop_duplicates().reset_index(drop=True)\n",
    "df.duplicated().sum()"
   ]
  },
  {
   "cell_type": "markdown",
   "id": "df893560",
   "metadata": {},
   "source": [
    "Возможная причина возникновения дублей - отсутствует  проверка на уникальность при импорте данных в базу."
   ]
  },
  {
   "cell_type": "markdown",
   "id": "cd1cf2b5",
   "metadata": {},
   "source": [
    "### Формирование дополнительных датафреймов словарей, декомпозиция исходного датафрейма"
   ]
  },
  {
   "cell_type": "markdown",
   "id": "fd6ccfad",
   "metadata": {},
   "source": [
    "Для того чтобы визуально упростить таблицу, а также оптимизирвоать размер файла и время обработки данных, выделим из датафрейма словари: с уровнем образования и с семейным положением."
   ]
  },
  {
   "cell_type": "code",
   "execution_count": 32,
   "id": "bc70b48f",
   "metadata": {},
   "outputs": [
    {
     "data": {
      "text/html": [
       "<div>\n",
       "<style scoped>\n",
       "    .dataframe tbody tr th:only-of-type {\n",
       "        vertical-align: middle;\n",
       "    }\n",
       "\n",
       "    .dataframe tbody tr th {\n",
       "        vertical-align: top;\n",
       "    }\n",
       "\n",
       "    .dataframe thead th {\n",
       "        text-align: right;\n",
       "    }\n",
       "</style>\n",
       "<table border=\"1\" class=\"dataframe\">\n",
       "  <thead>\n",
       "    <tr style=\"text-align: right;\">\n",
       "      <th></th>\n",
       "      <th>education_id</th>\n",
       "      <th>education</th>\n",
       "    </tr>\n",
       "  </thead>\n",
       "  <tbody>\n",
       "    <tr>\n",
       "      <th>0</th>\n",
       "      <td>0</td>\n",
       "      <td>высшее</td>\n",
       "    </tr>\n",
       "    <tr>\n",
       "      <th>1</th>\n",
       "      <td>1</td>\n",
       "      <td>среднее</td>\n",
       "    </tr>\n",
       "    <tr>\n",
       "      <th>2</th>\n",
       "      <td>2</td>\n",
       "      <td>неоконченное высшее</td>\n",
       "    </tr>\n",
       "    <tr>\n",
       "      <th>3</th>\n",
       "      <td>3</td>\n",
       "      <td>начальное</td>\n",
       "    </tr>\n",
       "    <tr>\n",
       "      <th>4</th>\n",
       "      <td>4</td>\n",
       "      <td>ученая степень</td>\n",
       "    </tr>\n",
       "  </tbody>\n",
       "</table>\n",
       "</div>"
      ],
      "text/plain": [
       "   education_id            education\n",
       "0             0               высшее\n",
       "1             1              среднее\n",
       "2             2  неоконченное высшее\n",
       "3             3            начальное\n",
       "4             4       ученая степень"
      ]
     },
     "execution_count": 32,
     "metadata": {},
     "output_type": "execute_result"
    }
   ],
   "source": [
    "#Создадим датафрейм содержащий только id и соответсвующую id расшифровку вида образвания\n",
    "education_type = df[['education_id','education']]\n",
    "education_type = education_type.drop_duplicates().reset_index(drop=True)\n",
    "education_type"
   ]
  },
  {
   "cell_type": "code",
   "execution_count": 33,
   "id": "5a528d30",
   "metadata": {},
   "outputs": [
    {
     "data": {
      "text/html": [
       "<div>\n",
       "<style scoped>\n",
       "    .dataframe tbody tr th:only-of-type {\n",
       "        vertical-align: middle;\n",
       "    }\n",
       "\n",
       "    .dataframe tbody tr th {\n",
       "        vertical-align: top;\n",
       "    }\n",
       "\n",
       "    .dataframe thead th {\n",
       "        text-align: right;\n",
       "    }\n",
       "</style>\n",
       "<table border=\"1\" class=\"dataframe\">\n",
       "  <thead>\n",
       "    <tr style=\"text-align: right;\">\n",
       "      <th></th>\n",
       "      <th>family_status_id</th>\n",
       "      <th>family_status</th>\n",
       "    </tr>\n",
       "  </thead>\n",
       "  <tbody>\n",
       "    <tr>\n",
       "      <th>0</th>\n",
       "      <td>0</td>\n",
       "      <td>женат / замужем</td>\n",
       "    </tr>\n",
       "    <tr>\n",
       "      <th>1</th>\n",
       "      <td>1</td>\n",
       "      <td>гражданский брак</td>\n",
       "    </tr>\n",
       "    <tr>\n",
       "      <th>2</th>\n",
       "      <td>2</td>\n",
       "      <td>вдовец / вдова</td>\n",
       "    </tr>\n",
       "    <tr>\n",
       "      <th>3</th>\n",
       "      <td>3</td>\n",
       "      <td>в разводе</td>\n",
       "    </tr>\n",
       "    <tr>\n",
       "      <th>4</th>\n",
       "      <td>4</td>\n",
       "      <td>Не женат / не замужем</td>\n",
       "    </tr>\n",
       "  </tbody>\n",
       "</table>\n",
       "</div>"
      ],
      "text/plain": [
       "   family_status_id          family_status\n",
       "0                 0        женат / замужем\n",
       "1                 1       гражданский брак\n",
       "2                 2         вдовец / вдова\n",
       "3                 3              в разводе\n",
       "4                 4  Не женат / не замужем"
      ]
     },
     "execution_count": 33,
     "metadata": {},
     "output_type": "execute_result"
    }
   ],
   "source": [
    "#Создадим датафрейм содержащий только id и соответсвующую id расшифровку вида образвания\n",
    "family_status_type = df[['family_status_id','family_status']]\n",
    "family_status_type = family_status_type.drop_duplicates().reset_index(drop=True)\n",
    "family_status_type"
   ]
  },
  {
   "cell_type": "code",
   "execution_count": 34,
   "id": "789bef2c",
   "metadata": {},
   "outputs": [
    {
     "data": {
      "text/html": [
       "<div>\n",
       "<style scoped>\n",
       "    .dataframe tbody tr th:only-of-type {\n",
       "        vertical-align: middle;\n",
       "    }\n",
       "\n",
       "    .dataframe tbody tr th {\n",
       "        vertical-align: top;\n",
       "    }\n",
       "\n",
       "    .dataframe thead th {\n",
       "        text-align: right;\n",
       "    }\n",
       "</style>\n",
       "<table border=\"1\" class=\"dataframe\">\n",
       "  <thead>\n",
       "    <tr style=\"text-align: right;\">\n",
       "      <th></th>\n",
       "      <th>children</th>\n",
       "      <th>days_employed</th>\n",
       "      <th>dob_years</th>\n",
       "      <th>education_id</th>\n",
       "      <th>family_status_id</th>\n",
       "      <th>gender</th>\n",
       "      <th>income_type</th>\n",
       "      <th>debt</th>\n",
       "      <th>total_income</th>\n",
       "      <th>purpose</th>\n",
       "    </tr>\n",
       "  </thead>\n",
       "  <tbody>\n",
       "    <tr>\n",
       "      <th>0</th>\n",
       "      <td>1</td>\n",
       "      <td>8437.673028</td>\n",
       "      <td>42</td>\n",
       "      <td>0</td>\n",
       "      <td>0</td>\n",
       "      <td>F</td>\n",
       "      <td>сотрудник</td>\n",
       "      <td>0</td>\n",
       "      <td>253875</td>\n",
       "      <td>покупка жилья</td>\n",
       "    </tr>\n",
       "    <tr>\n",
       "      <th>1</th>\n",
       "      <td>1</td>\n",
       "      <td>4024.803754</td>\n",
       "      <td>36</td>\n",
       "      <td>1</td>\n",
       "      <td>0</td>\n",
       "      <td>F</td>\n",
       "      <td>сотрудник</td>\n",
       "      <td>0</td>\n",
       "      <td>112080</td>\n",
       "      <td>приобретение автомобиля</td>\n",
       "    </tr>\n",
       "    <tr>\n",
       "      <th>2</th>\n",
       "      <td>0</td>\n",
       "      <td>5623.422610</td>\n",
       "      <td>33</td>\n",
       "      <td>1</td>\n",
       "      <td>0</td>\n",
       "      <td>M</td>\n",
       "      <td>сотрудник</td>\n",
       "      <td>0</td>\n",
       "      <td>145885</td>\n",
       "      <td>покупка жилья</td>\n",
       "    </tr>\n",
       "    <tr>\n",
       "      <th>3</th>\n",
       "      <td>3</td>\n",
       "      <td>4124.747207</td>\n",
       "      <td>32</td>\n",
       "      <td>1</td>\n",
       "      <td>0</td>\n",
       "      <td>M</td>\n",
       "      <td>сотрудник</td>\n",
       "      <td>0</td>\n",
       "      <td>267628</td>\n",
       "      <td>дополнительное образование</td>\n",
       "    </tr>\n",
       "    <tr>\n",
       "      <th>4</th>\n",
       "      <td>0</td>\n",
       "      <td>340266.072047</td>\n",
       "      <td>53</td>\n",
       "      <td>1</td>\n",
       "      <td>1</td>\n",
       "      <td>F</td>\n",
       "      <td>пенсионер</td>\n",
       "      <td>0</td>\n",
       "      <td>158616</td>\n",
       "      <td>сыграть свадьбу</td>\n",
       "    </tr>\n",
       "  </tbody>\n",
       "</table>\n",
       "</div>"
      ],
      "text/plain": [
       "   children  days_employed  dob_years  education_id  family_status_id gender  \\\n",
       "0         1    8437.673028         42             0                 0      F   \n",
       "1         1    4024.803754         36             1                 0      F   \n",
       "2         0    5623.422610         33             1                 0      M   \n",
       "3         3    4124.747207         32             1                 0      M   \n",
       "4         0  340266.072047         53             1                 1      F   \n",
       "\n",
       "  income_type  debt  total_income                     purpose  \n",
       "0   сотрудник     0        253875               покупка жилья  \n",
       "1   сотрудник     0        112080     приобретение автомобиля  \n",
       "2   сотрудник     0        145885               покупка жилья  \n",
       "3   сотрудник     0        267628  дополнительное образование  \n",
       "4   пенсионер     0        158616             сыграть свадьбу  "
      ]
     },
     "execution_count": 34,
     "metadata": {},
     "output_type": "execute_result"
    }
   ],
   "source": [
    "# Удалим столбцы family_status и education\n",
    "df = df.drop(columns = ['family_status', 'education'], axis = 1) \n",
    "df.head()"
   ]
  },
  {
   "cell_type": "markdown",
   "id": "a887cc6e",
   "metadata": {},
   "source": [
    "### Категоризация дохода"
   ]
  },
  {
   "cell_type": "markdown",
   "id": "52a1b687",
   "metadata": {},
   "source": [
    "Разделим клиентов по уровню дохода на 5 категорий:\n",
    "- 0–30000 — `'E'`;\n",
    "- 30001–50000 — `'D'`;\n",
    "- 50001–200000 — `'C'`;\n",
    "- 200001–1000000 — `'B'`;\n",
    "- 1000001 и выше — `'A'`.\n",
    "    \n",
    "    Например, кредитополучателю с доходом 25000 нужно назначить категорию `'E'`, а клиенту, получающему 235000, — `'B'`."
   ]
  },
  {
   "cell_type": "code",
   "execution_count": 35,
   "id": "aa7952e7",
   "metadata": {},
   "outputs": [],
   "source": [
    "#для категоризации дохода создадим функцию\n",
    "def categorize_income (total_income):\n",
    "    if total_income <= 30000:\n",
    "        return 'E'\n",
    "    if total_income <= 50000:\n",
    "        return 'D'\n",
    "    if total_income <= 200000:\n",
    "        return 'C'\n",
    "    if total_income <= 1000000:\n",
    "        return 'B'\n",
    "    return 'A'"
   ]
  },
  {
   "cell_type": "code",
   "execution_count": 36,
   "id": "a76b8c2f",
   "metadata": {},
   "outputs": [
    {
     "data": {
      "text/html": [
       "<div>\n",
       "<style scoped>\n",
       "    .dataframe tbody tr th:only-of-type {\n",
       "        vertical-align: middle;\n",
       "    }\n",
       "\n",
       "    .dataframe tbody tr th {\n",
       "        vertical-align: top;\n",
       "    }\n",
       "\n",
       "    .dataframe thead th {\n",
       "        text-align: right;\n",
       "    }\n",
       "</style>\n",
       "<table border=\"1\" class=\"dataframe\">\n",
       "  <thead>\n",
       "    <tr style=\"text-align: right;\">\n",
       "      <th></th>\n",
       "      <th>children</th>\n",
       "      <th>days_employed</th>\n",
       "      <th>dob_years</th>\n",
       "      <th>education_id</th>\n",
       "      <th>family_status_id</th>\n",
       "      <th>gender</th>\n",
       "      <th>income_type</th>\n",
       "      <th>debt</th>\n",
       "      <th>total_income</th>\n",
       "      <th>purpose</th>\n",
       "      <th>total_income_category</th>\n",
       "    </tr>\n",
       "  </thead>\n",
       "  <tbody>\n",
       "    <tr>\n",
       "      <th>0</th>\n",
       "      <td>1</td>\n",
       "      <td>8437.673028</td>\n",
       "      <td>42</td>\n",
       "      <td>0</td>\n",
       "      <td>0</td>\n",
       "      <td>F</td>\n",
       "      <td>сотрудник</td>\n",
       "      <td>0</td>\n",
       "      <td>253875</td>\n",
       "      <td>покупка жилья</td>\n",
       "      <td>B</td>\n",
       "    </tr>\n",
       "    <tr>\n",
       "      <th>1</th>\n",
       "      <td>1</td>\n",
       "      <td>4024.803754</td>\n",
       "      <td>36</td>\n",
       "      <td>1</td>\n",
       "      <td>0</td>\n",
       "      <td>F</td>\n",
       "      <td>сотрудник</td>\n",
       "      <td>0</td>\n",
       "      <td>112080</td>\n",
       "      <td>приобретение автомобиля</td>\n",
       "      <td>C</td>\n",
       "    </tr>\n",
       "    <tr>\n",
       "      <th>2</th>\n",
       "      <td>0</td>\n",
       "      <td>5623.422610</td>\n",
       "      <td>33</td>\n",
       "      <td>1</td>\n",
       "      <td>0</td>\n",
       "      <td>M</td>\n",
       "      <td>сотрудник</td>\n",
       "      <td>0</td>\n",
       "      <td>145885</td>\n",
       "      <td>покупка жилья</td>\n",
       "      <td>C</td>\n",
       "    </tr>\n",
       "    <tr>\n",
       "      <th>3</th>\n",
       "      <td>3</td>\n",
       "      <td>4124.747207</td>\n",
       "      <td>32</td>\n",
       "      <td>1</td>\n",
       "      <td>0</td>\n",
       "      <td>M</td>\n",
       "      <td>сотрудник</td>\n",
       "      <td>0</td>\n",
       "      <td>267628</td>\n",
       "      <td>дополнительное образование</td>\n",
       "      <td>B</td>\n",
       "    </tr>\n",
       "    <tr>\n",
       "      <th>4</th>\n",
       "      <td>0</td>\n",
       "      <td>340266.072047</td>\n",
       "      <td>53</td>\n",
       "      <td>1</td>\n",
       "      <td>1</td>\n",
       "      <td>F</td>\n",
       "      <td>пенсионер</td>\n",
       "      <td>0</td>\n",
       "      <td>158616</td>\n",
       "      <td>сыграть свадьбу</td>\n",
       "      <td>C</td>\n",
       "    </tr>\n",
       "  </tbody>\n",
       "</table>\n",
       "</div>"
      ],
      "text/plain": [
       "   children  days_employed  dob_years  education_id  family_status_id gender  \\\n",
       "0         1    8437.673028         42             0                 0      F   \n",
       "1         1    4024.803754         36             1                 0      F   \n",
       "2         0    5623.422610         33             1                 0      M   \n",
       "3         3    4124.747207         32             1                 0      M   \n",
       "4         0  340266.072047         53             1                 1      F   \n",
       "\n",
       "  income_type  debt  total_income                     purpose  \\\n",
       "0   сотрудник     0        253875               покупка жилья   \n",
       "1   сотрудник     0        112080     приобретение автомобиля   \n",
       "2   сотрудник     0        145885               покупка жилья   \n",
       "3   сотрудник     0        267628  дополнительное образование   \n",
       "4   пенсионер     0        158616             сыграть свадьбу   \n",
       "\n",
       "  total_income_category  \n",
       "0                     B  \n",
       "1                     C  \n",
       "2                     C  \n",
       "3                     B  \n",
       "4                     C  "
      ]
     },
     "execution_count": 36,
     "metadata": {},
     "output_type": "execute_result"
    }
   ],
   "source": [
    "#категорию клиента по уровню дохода запишем в новый столбец - total_income_category\n",
    "df['total_income_category'] = df['total_income'].apply(categorize_income)\n",
    "df.head()"
   ]
  },
  {
   "cell_type": "markdown",
   "id": "15797a50",
   "metadata": {},
   "source": [
    "### Категоризация целей кредита"
   ]
  },
  {
   "cell_type": "code",
   "execution_count": 37,
   "id": "034a6030",
   "metadata": {},
   "outputs": [
    {
     "data": {
      "text/plain": [
       "array(['покупка жилья', 'приобретение автомобиля',\n",
       "       'дополнительное образование', 'сыграть свадьбу',\n",
       "       'операции с жильем', 'образование', 'на проведение свадьбы',\n",
       "       'покупка жилья для семьи', 'покупка недвижимости',\n",
       "       'покупка коммерческой недвижимости', 'покупка жилой недвижимости',\n",
       "       'строительство собственной недвижимости', 'недвижимость',\n",
       "       'строительство недвижимости', 'на покупку подержанного автомобиля',\n",
       "       'на покупку своего автомобиля',\n",
       "       'операции с коммерческой недвижимостью',\n",
       "       'строительство жилой недвижимости', 'жилье',\n",
       "       'операции со своей недвижимостью', 'автомобили',\n",
       "       'заняться образованием', 'сделка с подержанным автомобилем',\n",
       "       'получение образования', 'автомобиль', 'свадьба',\n",
       "       'получение дополнительного образования', 'покупка своего жилья',\n",
       "       'операции с недвижимостью', 'получение высшего образования',\n",
       "       'свой автомобиль', 'сделка с автомобилем',\n",
       "       'профильное образование', 'высшее образование',\n",
       "       'покупка жилья для сдачи', 'на покупку автомобиля', 'ремонт жилью',\n",
       "       'заняться высшим образованием'], dtype=object)"
      ]
     },
     "execution_count": 37,
     "metadata": {},
     "output_type": "execute_result"
    }
   ],
   "source": [
    "#Посмотрим, какие есть цели кредита\n",
    "df['purpose'].unique()"
   ]
  },
  {
   "cell_type": "markdown",
   "id": "17c4b1ff",
   "metadata": {},
   "source": [
    "Выделим следующие категории целей кредита:\n",
    "- операции с автомобилем,\n",
    "- операции с недвижимостью,\n",
    "- проведение свадьбы,\n",
    "- получение образования."
   ]
  },
  {
   "cell_type": "code",
   "execution_count": 38,
   "id": "ab65b3aa",
   "metadata": {},
   "outputs": [
    {
     "data": {
      "text/plain": [
       "0"
      ]
     },
     "execution_count": 38,
     "metadata": {},
     "output_type": "execute_result"
    }
   ],
   "source": [
    "#Выделим четыре категории кредита:\n",
    "estate = ['недвижим', 'жиль']\n",
    "wedding = ['свадьб']\n",
    "auto = ['автомоб']\n",
    "education = ['образова', 'учеб']\n",
    "#Категорию цели запищем в новый столбец\n",
    "df['purpose_category'] = 0\n",
    "#При помощи функции \n",
    "def categorize_purpose(list_of_words, category):\n",
    "    join = '|'.join(list_of_words)\n",
    "    index = df[df['purpose'].str.lower().str.contains(join)].index.to_list()\n",
    "    for i in index:\n",
    "        df.loc[i, 'purpose_category'] = category\n",
    "    return df\n",
    "\n",
    "\n",
    "categorize_purpose(wedding, 'проведение свадьбы')\n",
    "categorize_purpose(estate, 'операции с недвижимостью')\n",
    "categorize_purpose(auto, 'операции с автомобилем')\n",
    "categorize_purpose(education, 'получение образования')\n",
    "\n",
    "#проверим результат и убедимся, что значений None не осталось\n",
    "df['purpose_category'].isna().sum()\n"
   ]
  },
  {
   "cell_type": "code",
   "execution_count": 39,
   "id": "186b0864",
   "metadata": {
    "scrolled": true
   },
   "outputs": [
    {
     "data": {
      "text/html": [
       "<div>\n",
       "<style scoped>\n",
       "    .dataframe tbody tr th:only-of-type {\n",
       "        vertical-align: middle;\n",
       "    }\n",
       "\n",
       "    .dataframe tbody tr th {\n",
       "        vertical-align: top;\n",
       "    }\n",
       "\n",
       "    .dataframe thead th {\n",
       "        text-align: right;\n",
       "    }\n",
       "</style>\n",
       "<table border=\"1\" class=\"dataframe\">\n",
       "  <thead>\n",
       "    <tr style=\"text-align: right;\">\n",
       "      <th></th>\n",
       "      <th>children</th>\n",
       "      <th>days_employed</th>\n",
       "      <th>dob_years</th>\n",
       "      <th>education_id</th>\n",
       "      <th>family_status_id</th>\n",
       "      <th>gender</th>\n",
       "      <th>income_type</th>\n",
       "      <th>debt</th>\n",
       "      <th>total_income</th>\n",
       "      <th>purpose</th>\n",
       "      <th>total_income_category</th>\n",
       "      <th>purpose_category</th>\n",
       "    </tr>\n",
       "  </thead>\n",
       "  <tbody>\n",
       "    <tr>\n",
       "      <th>0</th>\n",
       "      <td>1</td>\n",
       "      <td>8437.673028</td>\n",
       "      <td>42</td>\n",
       "      <td>0</td>\n",
       "      <td>0</td>\n",
       "      <td>F</td>\n",
       "      <td>сотрудник</td>\n",
       "      <td>0</td>\n",
       "      <td>253875</td>\n",
       "      <td>покупка жилья</td>\n",
       "      <td>B</td>\n",
       "      <td>операции с недвижимостью</td>\n",
       "    </tr>\n",
       "    <tr>\n",
       "      <th>1</th>\n",
       "      <td>1</td>\n",
       "      <td>4024.803754</td>\n",
       "      <td>36</td>\n",
       "      <td>1</td>\n",
       "      <td>0</td>\n",
       "      <td>F</td>\n",
       "      <td>сотрудник</td>\n",
       "      <td>0</td>\n",
       "      <td>112080</td>\n",
       "      <td>приобретение автомобиля</td>\n",
       "      <td>C</td>\n",
       "      <td>операции с автомобилем</td>\n",
       "    </tr>\n",
       "    <tr>\n",
       "      <th>2</th>\n",
       "      <td>0</td>\n",
       "      <td>5623.422610</td>\n",
       "      <td>33</td>\n",
       "      <td>1</td>\n",
       "      <td>0</td>\n",
       "      <td>M</td>\n",
       "      <td>сотрудник</td>\n",
       "      <td>0</td>\n",
       "      <td>145885</td>\n",
       "      <td>покупка жилья</td>\n",
       "      <td>C</td>\n",
       "      <td>операции с недвижимостью</td>\n",
       "    </tr>\n",
       "    <tr>\n",
       "      <th>3</th>\n",
       "      <td>3</td>\n",
       "      <td>4124.747207</td>\n",
       "      <td>32</td>\n",
       "      <td>1</td>\n",
       "      <td>0</td>\n",
       "      <td>M</td>\n",
       "      <td>сотрудник</td>\n",
       "      <td>0</td>\n",
       "      <td>267628</td>\n",
       "      <td>дополнительное образование</td>\n",
       "      <td>B</td>\n",
       "      <td>получение образования</td>\n",
       "    </tr>\n",
       "    <tr>\n",
       "      <th>4</th>\n",
       "      <td>0</td>\n",
       "      <td>340266.072047</td>\n",
       "      <td>53</td>\n",
       "      <td>1</td>\n",
       "      <td>1</td>\n",
       "      <td>F</td>\n",
       "      <td>пенсионер</td>\n",
       "      <td>0</td>\n",
       "      <td>158616</td>\n",
       "      <td>сыграть свадьбу</td>\n",
       "      <td>C</td>\n",
       "      <td>проведение свадьбы</td>\n",
       "    </tr>\n",
       "    <tr>\n",
       "      <th>5</th>\n",
       "      <td>0</td>\n",
       "      <td>926.185831</td>\n",
       "      <td>27</td>\n",
       "      <td>0</td>\n",
       "      <td>1</td>\n",
       "      <td>M</td>\n",
       "      <td>компаньон</td>\n",
       "      <td>0</td>\n",
       "      <td>255763</td>\n",
       "      <td>покупка жилья</td>\n",
       "      <td>B</td>\n",
       "      <td>операции с недвижимостью</td>\n",
       "    </tr>\n",
       "    <tr>\n",
       "      <th>6</th>\n",
       "      <td>0</td>\n",
       "      <td>2879.202052</td>\n",
       "      <td>43</td>\n",
       "      <td>0</td>\n",
       "      <td>0</td>\n",
       "      <td>F</td>\n",
       "      <td>компаньон</td>\n",
       "      <td>0</td>\n",
       "      <td>240525</td>\n",
       "      <td>операции с жильем</td>\n",
       "      <td>B</td>\n",
       "      <td>операции с недвижимостью</td>\n",
       "    </tr>\n",
       "    <tr>\n",
       "      <th>7</th>\n",
       "      <td>0</td>\n",
       "      <td>152.779569</td>\n",
       "      <td>50</td>\n",
       "      <td>1</td>\n",
       "      <td>0</td>\n",
       "      <td>M</td>\n",
       "      <td>сотрудник</td>\n",
       "      <td>0</td>\n",
       "      <td>135823</td>\n",
       "      <td>образование</td>\n",
       "      <td>C</td>\n",
       "      <td>получение образования</td>\n",
       "    </tr>\n",
       "    <tr>\n",
       "      <th>8</th>\n",
       "      <td>2</td>\n",
       "      <td>6929.865299</td>\n",
       "      <td>35</td>\n",
       "      <td>0</td>\n",
       "      <td>1</td>\n",
       "      <td>F</td>\n",
       "      <td>сотрудник</td>\n",
       "      <td>0</td>\n",
       "      <td>95856</td>\n",
       "      <td>на проведение свадьбы</td>\n",
       "      <td>C</td>\n",
       "      <td>проведение свадьбы</td>\n",
       "    </tr>\n",
       "    <tr>\n",
       "      <th>9</th>\n",
       "      <td>0</td>\n",
       "      <td>2188.756445</td>\n",
       "      <td>41</td>\n",
       "      <td>1</td>\n",
       "      <td>0</td>\n",
       "      <td>M</td>\n",
       "      <td>сотрудник</td>\n",
       "      <td>0</td>\n",
       "      <td>144425</td>\n",
       "      <td>покупка жилья для семьи</td>\n",
       "      <td>C</td>\n",
       "      <td>операции с недвижимостью</td>\n",
       "    </tr>\n",
       "  </tbody>\n",
       "</table>\n",
       "</div>"
      ],
      "text/plain": [
       "   children  days_employed  dob_years  education_id  family_status_id gender  \\\n",
       "0         1    8437.673028         42             0                 0      F   \n",
       "1         1    4024.803754         36             1                 0      F   \n",
       "2         0    5623.422610         33             1                 0      M   \n",
       "3         3    4124.747207         32             1                 0      M   \n",
       "4         0  340266.072047         53             1                 1      F   \n",
       "5         0     926.185831         27             0                 1      M   \n",
       "6         0    2879.202052         43             0                 0      F   \n",
       "7         0     152.779569         50             1                 0      M   \n",
       "8         2    6929.865299         35             0                 1      F   \n",
       "9         0    2188.756445         41             1                 0      M   \n",
       "\n",
       "  income_type  debt  total_income                     purpose  \\\n",
       "0   сотрудник     0        253875               покупка жилья   \n",
       "1   сотрудник     0        112080     приобретение автомобиля   \n",
       "2   сотрудник     0        145885               покупка жилья   \n",
       "3   сотрудник     0        267628  дополнительное образование   \n",
       "4   пенсионер     0        158616             сыграть свадьбу   \n",
       "5   компаньон     0        255763               покупка жилья   \n",
       "6   компаньон     0        240525           операции с жильем   \n",
       "7   сотрудник     0        135823                 образование   \n",
       "8   сотрудник     0         95856       на проведение свадьбы   \n",
       "9   сотрудник     0        144425     покупка жилья для семьи   \n",
       "\n",
       "  total_income_category          purpose_category  \n",
       "0                     B  операции с недвижимостью  \n",
       "1                     C    операции с автомобилем  \n",
       "2                     C  операции с недвижимостью  \n",
       "3                     B     получение образования  \n",
       "4                     C        проведение свадьбы  \n",
       "5                     B  операции с недвижимостью  \n",
       "6                     B  операции с недвижимостью  \n",
       "7                     C     получение образования  \n",
       "8                     C        проведение свадьбы  \n",
       "9                     C  операции с недвижимостью  "
      ]
     },
     "execution_count": 39,
     "metadata": {},
     "output_type": "execute_result"
    }
   ],
   "source": [
    "df.head(10)"
   ]
  },
  {
   "cell_type": "markdown",
   "id": "ba030937",
   "metadata": {},
   "source": [
    "### Ответы на вопросы."
   ]
  },
  {
   "cell_type": "markdown",
   "id": "0ce7bc84",
   "metadata": {},
   "source": [
    "##### Вопрос 1: Существует зависимость между количеством детей и возвратом кредита в срок?"
   ]
  },
  {
   "cell_type": "code",
   "execution_count": 40,
   "id": "b06d0d5c",
   "metadata": {},
   "outputs": [],
   "source": [
    "children_pivot = df.pivot_table(index = ['children'], \n",
    "                                columns = ['debt'], \n",
    "                                values = 'gender', aggfunc='count')\n",
    "#в столбце ratio посчитаем какой процент клиентов категории имеет долг по кредиту\n",
    "#для этого разделим количество клиентов с долгом на общее число клиентов этой категории\n",
    "children_pivot['ratio'] = children_pivot[1] / (children_pivot[0] + children_pivot[1]) * 100"
   ]
  },
  {
   "cell_type": "code",
   "execution_count": 41,
   "id": "e95114ad",
   "metadata": {},
   "outputs": [
    {
     "data": {
      "text/html": [
       "<div>\n",
       "<style scoped>\n",
       "    .dataframe tbody tr th:only-of-type {\n",
       "        vertical-align: middle;\n",
       "    }\n",
       "\n",
       "    .dataframe tbody tr th {\n",
       "        vertical-align: top;\n",
       "    }\n",
       "\n",
       "    .dataframe thead th {\n",
       "        text-align: right;\n",
       "    }\n",
       "</style>\n",
       "<table border=\"1\" class=\"dataframe\">\n",
       "  <thead>\n",
       "    <tr style=\"text-align: right;\">\n",
       "      <th>debt</th>\n",
       "      <th>0</th>\n",
       "      <th>1</th>\n",
       "      <th>ratio</th>\n",
       "    </tr>\n",
       "    <tr>\n",
       "      <th>children</th>\n",
       "      <th></th>\n",
       "      <th></th>\n",
       "      <th></th>\n",
       "    </tr>\n",
       "  </thead>\n",
       "  <tbody>\n",
       "    <tr>\n",
       "      <th>0</th>\n",
       "      <td>13028.0</td>\n",
       "      <td>1063.0</td>\n",
       "      <td>7.543822</td>\n",
       "    </tr>\n",
       "    <tr>\n",
       "      <th>3</th>\n",
       "      <td>303.0</td>\n",
       "      <td>27.0</td>\n",
       "      <td>8.181818</td>\n",
       "    </tr>\n",
       "    <tr>\n",
       "      <th>1</th>\n",
       "      <td>4410.0</td>\n",
       "      <td>445.0</td>\n",
       "      <td>9.165808</td>\n",
       "    </tr>\n",
       "    <tr>\n",
       "      <th>2</th>\n",
       "      <td>1926.0</td>\n",
       "      <td>202.0</td>\n",
       "      <td>9.492481</td>\n",
       "    </tr>\n",
       "    <tr>\n",
       "      <th>4</th>\n",
       "      <td>37.0</td>\n",
       "      <td>4.0</td>\n",
       "      <td>9.756098</td>\n",
       "    </tr>\n",
       "    <tr>\n",
       "      <th>5</th>\n",
       "      <td>9.0</td>\n",
       "      <td>NaN</td>\n",
       "      <td>NaN</td>\n",
       "    </tr>\n",
       "  </tbody>\n",
       "</table>\n",
       "</div>"
      ],
      "text/plain": [
       "debt            0       1     ratio\n",
       "children                           \n",
       "0         13028.0  1063.0  7.543822\n",
       "3           303.0    27.0  8.181818\n",
       "1          4410.0   445.0  9.165808\n",
       "2          1926.0   202.0  9.492481\n",
       "4            37.0     4.0  9.756098\n",
       "5             9.0     NaN       NaN"
      ]
     },
     "execution_count": 41,
     "metadata": {},
     "output_type": "execute_result"
    }
   ],
   "source": [
    "children_pivot.sort_values(by = 'ratio')"
   ]
  },
  {
   "cell_type": "markdown",
   "id": "5603a3dc",
   "metadata": {},
   "source": [
    "##### Вывод 1:"
   ]
  },
  {
   "cell_type": "markdown",
   "id": "e9b0b19b",
   "metadata": {},
   "source": [
    "Однозначный вывод о наличии  зависимости между количеством детей и возвратом кредита в срок сделать не получится:\n",
    "\n",
    "с увеличением количества детей мы видим увеличение количества просроченных задолженностей, но люди с 3 детьми чаще платят в срок чем люди с 1 ребенком. \n",
    "\n",
    "Наблюдается зависимость от наличия детей: Бездетные реже просрачивают оплату по кредиту, чем люди с детьми."
   ]
  },
  {
   "cell_type": "markdown",
   "id": "c6d2091e",
   "metadata": {},
   "source": [
    "##### Вопрос 2: Существует зависимость между семейным положением и возвратом кредита в срок?"
   ]
  },
  {
   "cell_type": "code",
   "execution_count": 42,
   "id": "cfef7cfa",
   "metadata": {},
   "outputs": [],
   "source": [
    "family_status_pivot = df.pivot_table(index = ['family_status_id'], \n",
    "                                columns = ['debt'], \n",
    "                                values = 'gender', aggfunc='count')\n",
    "#в столбце ratio посчитаем какой процент клиентов категории имеет долг по кредиту\n",
    "#для этого разделим количество клиентов с долгом на общее число клиентов этой категории\n",
    "family_status_pivot['ratio'] = family_status_pivot[1] / (family_status_pivot[0] + family_status_pivot[1]) * 100"
   ]
  },
  {
   "cell_type": "code",
   "execution_count": 43,
   "id": "d7f4d50f",
   "metadata": {},
   "outputs": [],
   "source": [
    "family_status_pivot = family_status_pivot.merge(family_status_type, on='family_status_id', how='left')\n",
    "family_status_pivot = family_status_pivot.drop(columns = ['family_status_id']) "
   ]
  },
  {
   "cell_type": "code",
   "execution_count": 44,
   "id": "5613d9c2",
   "metadata": {
    "scrolled": true
   },
   "outputs": [
    {
     "data": {
      "text/html": [
       "<div>\n",
       "<style scoped>\n",
       "    .dataframe tbody tr th:only-of-type {\n",
       "        vertical-align: middle;\n",
       "    }\n",
       "\n",
       "    .dataframe tbody tr th {\n",
       "        vertical-align: top;\n",
       "    }\n",
       "\n",
       "    .dataframe thead th {\n",
       "        text-align: right;\n",
       "    }\n",
       "</style>\n",
       "<table border=\"1\" class=\"dataframe\">\n",
       "  <thead>\n",
       "    <tr style=\"text-align: right;\">\n",
       "      <th></th>\n",
       "      <th>0</th>\n",
       "      <th>1</th>\n",
       "      <th>ratio</th>\n",
       "      <th>family_status</th>\n",
       "    </tr>\n",
       "  </thead>\n",
       "  <tbody>\n",
       "    <tr>\n",
       "      <th>2</th>\n",
       "      <td>896</td>\n",
       "      <td>63</td>\n",
       "      <td>6.569343</td>\n",
       "      <td>вдовец / вдова</td>\n",
       "    </tr>\n",
       "    <tr>\n",
       "      <th>3</th>\n",
       "      <td>1110</td>\n",
       "      <td>85</td>\n",
       "      <td>7.112971</td>\n",
       "      <td>в разводе</td>\n",
       "    </tr>\n",
       "    <tr>\n",
       "      <th>0</th>\n",
       "      <td>11408</td>\n",
       "      <td>931</td>\n",
       "      <td>7.545182</td>\n",
       "      <td>женат / замужем</td>\n",
       "    </tr>\n",
       "    <tr>\n",
       "      <th>1</th>\n",
       "      <td>3763</td>\n",
       "      <td>388</td>\n",
       "      <td>9.347145</td>\n",
       "      <td>гражданский брак</td>\n",
       "    </tr>\n",
       "    <tr>\n",
       "      <th>4</th>\n",
       "      <td>2536</td>\n",
       "      <td>274</td>\n",
       "      <td>9.750890</td>\n",
       "      <td>Не женат / не замужем</td>\n",
       "    </tr>\n",
       "  </tbody>\n",
       "</table>\n",
       "</div>"
      ],
      "text/plain": [
       "       0    1     ratio          family_status\n",
       "2    896   63  6.569343         вдовец / вдова\n",
       "3   1110   85  7.112971              в разводе\n",
       "0  11408  931  7.545182        женат / замужем\n",
       "1   3763  388  9.347145       гражданский брак\n",
       "4   2536  274  9.750890  Не женат / не замужем"
      ]
     },
     "execution_count": 44,
     "metadata": {},
     "output_type": "execute_result"
    }
   ],
   "source": [
    "family_status_pivot.sort_values(by = 'ratio')"
   ]
  },
  {
   "cell_type": "markdown",
   "id": "f8a19ecd",
   "metadata": {},
   "source": [
    "##### Вывод 2:"
   ]
  },
  {
   "cell_type": "markdown",
   "id": "9c467d79",
   "metadata": {},
   "source": [
    "Да, cуществует зависимость между семейным положением и возвратом кредита в срок.  Люди никогда не бывшие в браке имеют больший процент невозвратов в срок. Но те, кто развелись или овдовели, чаще платят в срок, чем люди в браке."
   ]
  },
  {
   "cell_type": "markdown",
   "id": "f8410fe9",
   "metadata": {},
   "source": [
    "##### Вопрос 3: Существует зависимость между уровнем дохода и возвратом кредита в срок?"
   ]
  },
  {
   "cell_type": "code",
   "execution_count": 45,
   "id": "6b1b7fb9",
   "metadata": {},
   "outputs": [],
   "source": [
    "income_pivot = df.pivot_table(index = ['total_income_category'], \n",
    "                                columns = ['debt'], \n",
    "                                values = 'income_type', aggfunc='count')\n",
    "#в столбце ratio посчитаем какой процент клиентов категории имеет долг по кредиту\n",
    "#для этого разделим количество клиентов с долгом на общее число клиентов этой категории\n",
    "income_pivot['ratio'] = income_pivot[1] / (income_pivot[0] + income_pivot[1]) * 100"
   ]
  },
  {
   "cell_type": "code",
   "execution_count": 46,
   "id": "75224182",
   "metadata": {},
   "outputs": [
    {
     "data": {
      "text/html": [
       "<div>\n",
       "<style scoped>\n",
       "    .dataframe tbody tr th:only-of-type {\n",
       "        vertical-align: middle;\n",
       "    }\n",
       "\n",
       "    .dataframe tbody tr th {\n",
       "        vertical-align: top;\n",
       "    }\n",
       "\n",
       "    .dataframe thead th {\n",
       "        text-align: right;\n",
       "    }\n",
       "</style>\n",
       "<table border=\"1\" class=\"dataframe\">\n",
       "  <thead>\n",
       "    <tr style=\"text-align: right;\">\n",
       "      <th>debt</th>\n",
       "      <th>0</th>\n",
       "      <th>1</th>\n",
       "      <th>ratio</th>\n",
       "    </tr>\n",
       "    <tr>\n",
       "      <th>total_income_category</th>\n",
       "      <th></th>\n",
       "      <th></th>\n",
       "      <th></th>\n",
       "    </tr>\n",
       "  </thead>\n",
       "  <tbody>\n",
       "    <tr>\n",
       "      <th>D</th>\n",
       "      <td>329</td>\n",
       "      <td>21</td>\n",
       "      <td>6.000000</td>\n",
       "    </tr>\n",
       "    <tr>\n",
       "      <th>B</th>\n",
       "      <td>4686</td>\n",
       "      <td>356</td>\n",
       "      <td>7.060690</td>\n",
       "    </tr>\n",
       "    <tr>\n",
       "      <th>A</th>\n",
       "      <td>23</td>\n",
       "      <td>2</td>\n",
       "      <td>8.000000</td>\n",
       "    </tr>\n",
       "    <tr>\n",
       "      <th>C</th>\n",
       "      <td>14655</td>\n",
       "      <td>1360</td>\n",
       "      <td>8.492039</td>\n",
       "    </tr>\n",
       "    <tr>\n",
       "      <th>E</th>\n",
       "      <td>20</td>\n",
       "      <td>2</td>\n",
       "      <td>9.090909</td>\n",
       "    </tr>\n",
       "  </tbody>\n",
       "</table>\n",
       "</div>"
      ],
      "text/plain": [
       "debt                       0     1     ratio\n",
       "total_income_category                       \n",
       "D                        329    21  6.000000\n",
       "B                       4686   356  7.060690\n",
       "A                         23     2  8.000000\n",
       "C                      14655  1360  8.492039\n",
       "E                         20     2  9.090909"
      ]
     },
     "execution_count": 46,
     "metadata": {},
     "output_type": "execute_result"
    }
   ],
   "source": [
    "income_pivot.sort_values(by = 'ratio')"
   ]
  },
  {
   "cell_type": "markdown",
   "id": "caba3f4c",
   "metadata": {},
   "source": [
    "##### Вывод 3:"
   ]
  },
  {
   "cell_type": "markdown",
   "id": "ecb2d898",
   "metadata": {},
   "source": [
    "Зависимость между уровнем дохода и возвратом кредита в срок: реже имеют долги люди с доходом от 30 000 до 50 000, чаще имеют долги люди с дохдом ниже 30 000."
   ]
  },
  {
   "cell_type": "markdown",
   "id": "45724b15",
   "metadata": {},
   "source": [
    "##### Вопрос 4 : Как разные цели кредита влияют на его возврат в срок?"
   ]
  },
  {
   "cell_type": "code",
   "execution_count": 47,
   "id": "9429f1f3",
   "metadata": {},
   "outputs": [],
   "source": [
    "purpose_pivot = df.pivot_table(index = ['purpose_category'], \n",
    "                                columns = ['debt'], \n",
    "                                values = 'purpose', aggfunc='count')\n",
    "#в столбце ratio посчитаем какой процент клиентов категории имеет долг по кредиту\n",
    "#для этого разделим количество клиентов с долгом на общее число клиентов этой категории\n",
    "purpose_pivot['ratio'] = purpose_pivot[1] / (purpose_pivot[0] + purpose_pivot[1]) * 100"
   ]
  },
  {
   "cell_type": "code",
   "execution_count": 48,
   "id": "eabd7228",
   "metadata": {},
   "outputs": [
    {
     "data": {
      "text/html": [
       "<div>\n",
       "<style scoped>\n",
       "    .dataframe tbody tr th:only-of-type {\n",
       "        vertical-align: middle;\n",
       "    }\n",
       "\n",
       "    .dataframe tbody tr th {\n",
       "        vertical-align: top;\n",
       "    }\n",
       "\n",
       "    .dataframe thead th {\n",
       "        text-align: right;\n",
       "    }\n",
       "</style>\n",
       "<table border=\"1\" class=\"dataframe\">\n",
       "  <thead>\n",
       "    <tr style=\"text-align: right;\">\n",
       "      <th>debt</th>\n",
       "      <th>0</th>\n",
       "      <th>1</th>\n",
       "      <th>ratio</th>\n",
       "    </tr>\n",
       "    <tr>\n",
       "      <th>purpose_category</th>\n",
       "      <th></th>\n",
       "      <th></th>\n",
       "      <th></th>\n",
       "    </tr>\n",
       "  </thead>\n",
       "  <tbody>\n",
       "    <tr>\n",
       "      <th>операции с недвижимостью</th>\n",
       "      <td>10029</td>\n",
       "      <td>782</td>\n",
       "      <td>7.233373</td>\n",
       "    </tr>\n",
       "    <tr>\n",
       "      <th>проведение свадьбы</th>\n",
       "      <td>2138</td>\n",
       "      <td>186</td>\n",
       "      <td>8.003442</td>\n",
       "    </tr>\n",
       "    <tr>\n",
       "      <th>получение образования</th>\n",
       "      <td>3643</td>\n",
       "      <td>370</td>\n",
       "      <td>9.220035</td>\n",
       "    </tr>\n",
       "    <tr>\n",
       "      <th>операции с автомобилем</th>\n",
       "      <td>3903</td>\n",
       "      <td>403</td>\n",
       "      <td>9.359034</td>\n",
       "    </tr>\n",
       "  </tbody>\n",
       "</table>\n",
       "</div>"
      ],
      "text/plain": [
       "debt                          0    1     ratio\n",
       "purpose_category                              \n",
       "операции с недвижимостью  10029  782  7.233373\n",
       "проведение свадьбы         2138  186  8.003442\n",
       "получение образования      3643  370  9.220035\n",
       "операции с автомобилем     3903  403  9.359034"
      ]
     },
     "execution_count": 48,
     "metadata": {},
     "output_type": "execute_result"
    }
   ],
   "source": [
    "purpose_pivot.sort_values(by = 'ratio')"
   ]
  },
  {
   "cell_type": "markdown",
   "id": "30a67a97",
   "metadata": {},
   "source": [
    "##### Вывод 4:"
   ]
  },
  {
   "cell_type": "markdown",
   "id": "5aa4aa35",
   "metadata": {},
   "source": [
    "В случае, если цель кредита - приобретение недвиимости, то вероятность возникновения долга - меньше.\n",
    "\n",
    "Чаще имеют задолженность по кредиту, если цель кредита - `операции с автомобилем`."
   ]
  },
  {
   "cell_type": "markdown",
   "id": "da091628",
   "metadata": {},
   "source": [
    "## Общий вывод:"
   ]
  },
  {
   "cell_type": "markdown",
   "id": "0125ee7c",
   "metadata": {},
   "source": [
    "Для подготвоки ответа на поставленные вопросы провели пердобработку данных:\n",
    "1. удалили дубликаты (менее 1%);\n",
    "2. проанализирвоали имеющиеся аномалии в данных:\n",
    "  1. отрицательные значения стажа взяли по модулю, пропуски заполнили медианой;\n",
    "  2. исправили аналомалию в количестве детей;\n",
    "  3. заметили, но не исправляли аномалии в столбце с гендером, возрастом, стажем(больше возраста);\n",
    "  4. заполниили пропуски в столбце с ежемесячным доходом мединным знаечнием по типу занятости.\n",
    "3. Поменяли тип данных у ежемесячного дохода - для  наглядности и удобства.\n",
    "4. Сделали категоризацию для уровня дохода, целей криедита.\n",
    "5. Сформировали отдельные словари для уровня образования и семейног остатуса для уменьшения обема таблицы и удобства. \n",
    "6. После подготовки данных, сделали сводные таблицы (ипользовали функцию) и ответили на все 4 поставленных вопроса. Были выявили закономерности в просрочках по кредитам(где-то ярко выраженные, а где-то нет).\n",
    "\n",
    "Согласно результатам исследования реже имеют долги по кредитам следующие категории клиентов:</p>\n",
    " - Клиенты без детей;\n",
    " - Находящиеся или находивщиеся в официальных отношениях;\n",
    " -  С уровнем дохода: \n",
    "  - 30001–50000 — `'D'`;\n",
    "  - 50001–200000 — `'C'`;\n",
    "  - 200001–1000000 — `'B'`;\n",
    " - Клиенты, цель кредита которых - операции с недвижимостью.\n"
   ]
  },
  {
   "cell_type": "code",
   "execution_count": null,
   "id": "79062a1c",
   "metadata": {},
   "outputs": [],
   "source": []
  }
 ],
 "metadata": {
  "ExecuteTimeLog": [
   {
    "duration": 594,
    "start_time": "2022-02-23T14:31:34.768Z"
   },
   {
    "duration": 71,
    "start_time": "2022-02-23T14:31:36.593Z"
   },
   {
    "duration": 19,
    "start_time": "2022-02-23T14:32:15.062Z"
   },
   {
    "duration": 608,
    "start_time": "2022-02-26T17:11:50.346Z"
   },
   {
    "duration": 78,
    "start_time": "2022-02-26T17:11:50.956Z"
   },
   {
    "duration": 11,
    "start_time": "2022-02-26T17:11:51.036Z"
   },
   {
    "duration": 10,
    "start_time": "2022-02-26T17:19:04.798Z"
   },
   {
    "duration": 287,
    "start_time": "2022-03-03T16:10:43.818Z"
   },
   {
    "duration": 500,
    "start_time": "2022-03-03T16:10:55.646Z"
   },
   {
    "duration": 69,
    "start_time": "2022-03-03T16:10:56.148Z"
   },
   {
    "duration": 9,
    "start_time": "2022-03-03T16:10:56.219Z"
   },
   {
    "duration": 7,
    "start_time": "2022-03-03T16:10:56.229Z"
   },
   {
    "duration": 11,
    "start_time": "2022-03-03T16:10:56.238Z"
   },
   {
    "duration": 535,
    "start_time": "2022-03-03T16:14:01.270Z"
   },
   {
    "duration": 71,
    "start_time": "2022-03-03T16:14:01.807Z"
   },
   {
    "duration": 9,
    "start_time": "2022-03-03T16:14:01.879Z"
   },
   {
    "duration": 13,
    "start_time": "2022-03-03T16:14:01.889Z"
   },
   {
    "duration": 24,
    "start_time": "2022-03-03T16:14:01.903Z"
   },
   {
    "duration": 12,
    "start_time": "2022-03-03T16:14:01.928Z"
   },
   {
    "duration": 54,
    "start_time": "2022-03-03T16:16:06.204Z"
   },
   {
    "duration": 296,
    "start_time": "2022-03-03T16:16:11.113Z"
   },
   {
    "duration": 19,
    "start_time": "2022-03-03T16:16:35.463Z"
   },
   {
    "duration": 254,
    "start_time": "2022-03-03T16:18:32.425Z"
   },
   {
    "duration": 240,
    "start_time": "2022-03-03T16:19:04.985Z"
   },
   {
    "duration": 244,
    "start_time": "2022-03-03T16:19:08.727Z"
   },
   {
    "duration": 18,
    "start_time": "2022-03-03T16:20:53.149Z"
   },
   {
    "duration": 8,
    "start_time": "2022-03-03T16:21:07.537Z"
   },
   {
    "duration": 8,
    "start_time": "2022-03-03T16:23:40.618Z"
   },
   {
    "duration": 6,
    "start_time": "2022-03-03T16:25:33.110Z"
   },
   {
    "duration": 5916,
    "start_time": "2022-03-03T16:26:02.382Z"
   },
   {
    "duration": 7,
    "start_time": "2022-03-03T16:26:18.464Z"
   },
   {
    "duration": 8,
    "start_time": "2022-03-03T16:29:36.508Z"
   },
   {
    "duration": 8,
    "start_time": "2022-03-03T16:30:07.791Z"
   },
   {
    "duration": 8,
    "start_time": "2022-03-03T16:31:03.406Z"
   },
   {
    "duration": 6,
    "start_time": "2022-03-03T16:31:28.306Z"
   },
   {
    "duration": 6,
    "start_time": "2022-03-03T16:31:31.866Z"
   },
   {
    "duration": 6,
    "start_time": "2022-03-03T16:31:45.619Z"
   },
   {
    "duration": 6,
    "start_time": "2022-03-03T16:31:48.345Z"
   },
   {
    "duration": 10,
    "start_time": "2022-03-03T16:35:16.165Z"
   },
   {
    "duration": 532,
    "start_time": "2022-03-03T16:35:35.941Z"
   },
   {
    "duration": 70,
    "start_time": "2022-03-03T16:35:36.475Z"
   },
   {
    "duration": 9,
    "start_time": "2022-03-03T16:35:36.546Z"
   },
   {
    "duration": 9,
    "start_time": "2022-03-03T16:35:36.557Z"
   },
   {
    "duration": 6,
    "start_time": "2022-03-03T16:35:36.567Z"
   },
   {
    "duration": 5,
    "start_time": "2022-03-03T16:35:36.575Z"
   },
   {
    "duration": 28,
    "start_time": "2022-03-03T16:35:36.582Z"
   },
   {
    "duration": 7,
    "start_time": "2022-03-03T16:45:45.064Z"
   },
   {
    "duration": 5,
    "start_time": "2022-03-03T16:46:10.713Z"
   },
   {
    "duration": 533,
    "start_time": "2022-03-03T16:46:27.007Z"
   },
   {
    "duration": 70,
    "start_time": "2022-03-03T16:46:27.542Z"
   },
   {
    "duration": 9,
    "start_time": "2022-03-03T16:46:27.614Z"
   },
   {
    "duration": 8,
    "start_time": "2022-03-03T16:46:27.624Z"
   },
   {
    "duration": 6,
    "start_time": "2022-03-03T16:46:27.633Z"
   },
   {
    "duration": 4,
    "start_time": "2022-03-03T16:46:27.640Z"
   },
   {
    "duration": 5,
    "start_time": "2022-03-03T16:46:27.645Z"
   },
   {
    "duration": 10,
    "start_time": "2022-03-03T16:46:27.652Z"
   },
   {
    "duration": 4,
    "start_time": "2022-03-03T16:49:33.599Z"
   },
   {
    "duration": 500,
    "start_time": "2022-03-03T16:49:49.757Z"
   },
   {
    "duration": 61,
    "start_time": "2022-03-03T16:49:50.259Z"
   },
   {
    "duration": 10,
    "start_time": "2022-03-03T16:49:50.322Z"
   },
   {
    "duration": 9,
    "start_time": "2022-03-03T16:49:50.334Z"
   },
   {
    "duration": 6,
    "start_time": "2022-03-03T16:49:50.345Z"
   },
   {
    "duration": 3,
    "start_time": "2022-03-03T16:49:50.353Z"
   },
   {
    "duration": 7,
    "start_time": "2022-03-03T16:49:50.358Z"
   },
   {
    "duration": 46,
    "start_time": "2022-03-03T16:49:50.367Z"
   },
   {
    "duration": 566,
    "start_time": "2022-03-03T16:51:13.673Z"
   },
   {
    "duration": 63,
    "start_time": "2022-03-03T16:51:14.241Z"
   },
   {
    "duration": 10,
    "start_time": "2022-03-03T16:51:14.306Z"
   },
   {
    "duration": 8,
    "start_time": "2022-03-03T16:51:14.318Z"
   },
   {
    "duration": 9,
    "start_time": "2022-03-03T16:51:14.327Z"
   },
   {
    "duration": 3,
    "start_time": "2022-03-03T16:51:14.338Z"
   },
   {
    "duration": 7,
    "start_time": "2022-03-03T16:51:14.343Z"
   },
   {
    "duration": 4,
    "start_time": "2022-03-03T16:51:14.351Z"
   },
   {
    "duration": 89,
    "start_time": "2022-03-03T16:52:12.742Z"
   },
   {
    "duration": 296,
    "start_time": "2022-03-03T16:52:28.055Z"
   },
   {
    "duration": 18,
    "start_time": "2022-03-03T16:52:41.765Z"
   },
   {
    "duration": 13,
    "start_time": "2022-03-03T16:52:59.960Z"
   },
   {
    "duration": 13,
    "start_time": "2022-03-03T16:53:17.688Z"
   },
   {
    "duration": 11,
    "start_time": "2022-03-03T16:53:30.811Z"
   },
   {
    "duration": 12,
    "start_time": "2022-03-03T16:57:29.714Z"
   },
   {
    "duration": 5,
    "start_time": "2022-03-03T17:02:37.213Z"
   },
   {
    "duration": 5,
    "start_time": "2022-03-03T17:03:23.456Z"
   },
   {
    "duration": 98,
    "start_time": "2022-03-03T17:04:56.700Z"
   },
   {
    "duration": 4,
    "start_time": "2022-03-03T17:05:05.239Z"
   },
   {
    "duration": 12,
    "start_time": "2022-03-03T17:05:37.208Z"
   },
   {
    "duration": 8,
    "start_time": "2022-03-03T19:47:52.551Z"
   },
   {
    "duration": 6,
    "start_time": "2022-03-03T19:48:14.721Z"
   },
   {
    "duration": 133,
    "start_time": "2022-03-03T19:51:11.446Z"
   },
   {
    "duration": 74,
    "start_time": "2022-03-03T19:52:05.728Z"
   },
   {
    "duration": 83,
    "start_time": "2022-03-03T19:52:26.739Z"
   },
   {
    "duration": 6,
    "start_time": "2022-03-03T19:55:09.400Z"
   },
   {
    "duration": 9,
    "start_time": "2022-03-03T19:59:31.929Z"
   },
   {
    "duration": 7,
    "start_time": "2022-03-03T19:59:53.845Z"
   },
   {
    "duration": 8,
    "start_time": "2022-03-03T20:00:00.314Z"
   },
   {
    "duration": 241,
    "start_time": "2022-03-03T20:03:58.051Z"
   },
   {
    "duration": 7,
    "start_time": "2022-03-03T20:05:08.298Z"
   },
   {
    "duration": 15,
    "start_time": "2022-03-03T20:05:46.736Z"
   },
   {
    "duration": 16,
    "start_time": "2022-03-03T20:08:04.705Z"
   },
   {
    "duration": 16,
    "start_time": "2022-03-03T20:10:09.485Z"
   },
   {
    "duration": 19,
    "start_time": "2022-03-03T20:11:19.796Z"
   },
   {
    "duration": 19,
    "start_time": "2022-03-03T20:11:32.424Z"
   },
   {
    "duration": 86,
    "start_time": "2022-03-03T20:13:25.090Z"
   },
   {
    "duration": 16,
    "start_time": "2022-03-03T20:13:29.867Z"
   },
   {
    "duration": 391,
    "start_time": "2022-03-17T16:46:35.344Z"
   },
   {
    "duration": 89,
    "start_time": "2022-03-17T16:46:35.737Z"
   },
   {
    "duration": 16,
    "start_time": "2022-03-17T16:46:35.828Z"
   },
   {
    "duration": 10,
    "start_time": "2022-03-17T16:46:35.847Z"
   },
   {
    "duration": 7,
    "start_time": "2022-03-17T16:46:35.859Z"
   },
   {
    "duration": 4,
    "start_time": "2022-03-17T16:46:35.867Z"
   },
   {
    "duration": 45,
    "start_time": "2022-03-17T16:46:35.873Z"
   },
   {
    "duration": 15,
    "start_time": "2022-03-17T16:46:35.921Z"
   },
   {
    "duration": 18,
    "start_time": "2022-03-17T16:46:35.938Z"
   },
   {
    "duration": 7,
    "start_time": "2022-03-17T16:46:35.959Z"
   },
   {
    "duration": 42,
    "start_time": "2022-03-17T16:46:35.968Z"
   },
   {
    "duration": 74,
    "start_time": "2022-03-17T16:46:36.014Z"
   },
   {
    "duration": 0,
    "start_time": "2022-03-17T16:46:36.090Z"
   },
   {
    "duration": 10,
    "start_time": "2022-03-17T16:47:18.449Z"
   },
   {
    "duration": 21,
    "start_time": "2022-03-17T16:51:18.591Z"
   },
   {
    "duration": 514,
    "start_time": "2022-03-17T16:51:51.139Z"
   },
   {
    "duration": 392,
    "start_time": "2022-03-17T16:52:27.838Z"
   },
   {
    "duration": 87,
    "start_time": "2022-03-17T16:52:28.232Z"
   },
   {
    "duration": 18,
    "start_time": "2022-03-17T16:52:28.320Z"
   },
   {
    "duration": 11,
    "start_time": "2022-03-17T16:52:28.341Z"
   },
   {
    "duration": 7,
    "start_time": "2022-03-17T16:52:28.353Z"
   },
   {
    "duration": 5,
    "start_time": "2022-03-17T16:52:28.361Z"
   },
   {
    "duration": 52,
    "start_time": "2022-03-17T16:52:28.367Z"
   },
   {
    "duration": 15,
    "start_time": "2022-03-17T16:52:28.420Z"
   },
   {
    "duration": 21,
    "start_time": "2022-03-17T16:52:28.437Z"
   },
   {
    "duration": 8,
    "start_time": "2022-03-17T16:52:28.461Z"
   },
   {
    "duration": 39,
    "start_time": "2022-03-17T16:52:28.471Z"
   },
   {
    "duration": 483,
    "start_time": "2022-03-17T16:52:28.512Z"
   },
   {
    "duration": 0,
    "start_time": "2022-03-17T16:52:28.996Z"
   },
   {
    "duration": 429,
    "start_time": "2022-03-17T16:53:30.708Z"
   },
   {
    "duration": 460,
    "start_time": "2022-03-17T16:53:50.705Z"
   },
   {
    "duration": 551,
    "start_time": "2022-03-17T16:55:14.573Z"
   },
   {
    "duration": 719,
    "start_time": "2022-03-17T16:55:22.473Z"
   },
   {
    "duration": 22,
    "start_time": "2022-03-17T16:57:31.358Z"
   },
   {
    "duration": 20,
    "start_time": "2022-03-17T16:57:50.127Z"
   },
   {
    "duration": 14,
    "start_time": "2022-03-17T16:59:33.184Z"
   },
   {
    "duration": 3,
    "start_time": "2022-03-17T16:59:40.049Z"
   },
   {
    "duration": 24,
    "start_time": "2022-03-17T16:59:43.800Z"
   },
   {
    "duration": 3,
    "start_time": "2022-03-17T17:00:31.224Z"
   },
   {
    "duration": 18,
    "start_time": "2022-03-17T17:00:36.710Z"
   },
   {
    "duration": 14,
    "start_time": "2022-03-17T17:00:52.057Z"
   },
   {
    "duration": 4,
    "start_time": "2022-03-17T17:01:46.471Z"
   },
   {
    "duration": 14,
    "start_time": "2022-03-17T17:01:49.316Z"
   },
   {
    "duration": 23,
    "start_time": "2022-03-17T17:01:52.864Z"
   },
   {
    "duration": 4,
    "start_time": "2022-03-17T17:05:26.038Z"
   },
   {
    "duration": 25,
    "start_time": "2022-03-17T17:05:37.305Z"
   },
   {
    "duration": 17,
    "start_time": "2022-03-17T17:06:15.330Z"
   },
   {
    "duration": 18,
    "start_time": "2022-03-17T17:06:29.895Z"
   },
   {
    "duration": 4,
    "start_time": "2022-03-17T17:06:38.015Z"
   },
   {
    "duration": 21,
    "start_time": "2022-03-17T17:06:40.402Z"
   },
   {
    "duration": 12,
    "start_time": "2022-03-17T17:06:56.373Z"
   },
   {
    "duration": 25,
    "start_time": "2022-03-17T17:08:52.068Z"
   },
   {
    "duration": 13,
    "start_time": "2022-03-17T17:09:09.781Z"
   },
   {
    "duration": 21,
    "start_time": "2022-03-17T17:09:27.682Z"
   },
   {
    "duration": 22,
    "start_time": "2022-03-17T17:09:40.337Z"
   },
   {
    "duration": 6,
    "start_time": "2022-03-17T17:15:36.143Z"
   },
   {
    "duration": 13,
    "start_time": "2022-03-17T17:15:47.780Z"
   },
   {
    "duration": 5,
    "start_time": "2022-03-17T17:16:11.960Z"
   },
   {
    "duration": 11,
    "start_time": "2022-03-17T17:16:18.280Z"
   },
   {
    "duration": 12,
    "start_time": "2022-03-17T17:16:29.997Z"
   },
   {
    "duration": 18,
    "start_time": "2022-03-17T17:16:44.228Z"
   },
   {
    "duration": 10,
    "start_time": "2022-03-17T17:19:07.905Z"
   },
   {
    "duration": 20,
    "start_time": "2022-03-17T17:19:15.174Z"
   },
   {
    "duration": 5,
    "start_time": "2022-03-17T17:19:29.116Z"
   },
   {
    "duration": 4,
    "start_time": "2022-03-17T17:19:39.717Z"
   },
   {
    "duration": 4,
    "start_time": "2022-03-17T17:20:11.490Z"
   },
   {
    "duration": 8,
    "start_time": "2022-03-17T17:20:29.101Z"
   },
   {
    "duration": 13,
    "start_time": "2022-03-17T17:20:35.336Z"
   },
   {
    "duration": 6,
    "start_time": "2022-03-17T17:20:56.325Z"
   },
   {
    "duration": 11,
    "start_time": "2022-03-17T17:22:24.115Z"
   },
   {
    "duration": 6,
    "start_time": "2022-03-17T17:26:32.756Z"
   },
   {
    "duration": 6,
    "start_time": "2022-03-17T17:26:54.751Z"
   },
   {
    "duration": 23,
    "start_time": "2022-03-17T17:28:23.056Z"
   },
   {
    "duration": 22,
    "start_time": "2022-03-17T17:29:31.634Z"
   },
   {
    "duration": 9,
    "start_time": "2022-03-17T17:31:46.120Z"
   },
   {
    "duration": 5,
    "start_time": "2022-03-17T17:32:17.553Z"
   },
   {
    "duration": 14,
    "start_time": "2022-03-17T17:34:49.220Z"
   },
   {
    "duration": 5,
    "start_time": "2022-03-17T17:36:00.226Z"
   },
   {
    "duration": 5,
    "start_time": "2022-03-17T17:36:19.188Z"
   },
   {
    "duration": 5,
    "start_time": "2022-03-17T17:36:33.116Z"
   },
   {
    "duration": 76,
    "start_time": "2022-03-27T15:27:16.788Z"
   },
   {
    "duration": 451,
    "start_time": "2022-03-27T15:27:25.723Z"
   },
   {
    "duration": 96,
    "start_time": "2022-03-27T15:27:26.911Z"
   },
   {
    "duration": 23,
    "start_time": "2022-03-27T15:27:29.453Z"
   },
   {
    "duration": 44,
    "start_time": "2022-03-27T15:27:32.309Z"
   },
   {
    "duration": 490,
    "start_time": "2022-03-27T15:43:47.795Z"
   },
   {
    "duration": 102,
    "start_time": "2022-03-27T15:43:48.288Z"
   },
   {
    "duration": 22,
    "start_time": "2022-03-27T15:43:48.393Z"
   },
   {
    "duration": 83,
    "start_time": "2022-03-27T15:43:48.418Z"
   },
   {
    "duration": 21,
    "start_time": "2022-03-27T15:43:48.504Z"
   },
   {
    "duration": 10,
    "start_time": "2022-03-27T15:43:48.528Z"
   },
   {
    "duration": 6,
    "start_time": "2022-03-27T15:43:48.540Z"
   },
   {
    "duration": 22,
    "start_time": "2022-03-27T15:43:48.574Z"
   },
   {
    "duration": 21,
    "start_time": "2022-03-27T15:43:48.598Z"
   },
   {
    "duration": 68,
    "start_time": "2022-03-27T15:43:48.622Z"
   },
   {
    "duration": 12,
    "start_time": "2022-03-27T15:43:48.693Z"
   },
   {
    "duration": 17,
    "start_time": "2022-03-27T15:43:48.707Z"
   },
   {
    "duration": 68,
    "start_time": "2022-03-27T15:43:48.726Z"
   },
   {
    "duration": 124,
    "start_time": "2022-03-27T15:48:48.997Z"
   },
   {
    "duration": 2598,
    "start_time": "2022-03-27T15:52:30.351Z"
   },
   {
    "duration": 22,
    "start_time": "2022-03-27T15:52:53.336Z"
   },
   {
    "duration": 18,
    "start_time": "2022-03-27T15:53:06.070Z"
   },
   {
    "duration": 6,
    "start_time": "2022-03-27T15:58:28.793Z"
   },
   {
    "duration": 7,
    "start_time": "2022-03-27T16:00:07.823Z"
   },
   {
    "duration": 30,
    "start_time": "2022-03-27T16:01:45.009Z"
   },
   {
    "duration": 8,
    "start_time": "2022-03-27T16:04:46.646Z"
   },
   {
    "duration": 441,
    "start_time": "2022-03-27T16:57:06.566Z"
   },
   {
    "duration": 87,
    "start_time": "2022-03-27T16:57:07.009Z"
   },
   {
    "duration": 15,
    "start_time": "2022-03-27T16:57:07.098Z"
   },
   {
    "duration": 37,
    "start_time": "2022-03-27T16:57:07.116Z"
   },
   {
    "duration": 11,
    "start_time": "2022-03-27T16:57:07.155Z"
   },
   {
    "duration": 11,
    "start_time": "2022-03-27T16:57:07.168Z"
   },
   {
    "duration": 21,
    "start_time": "2022-03-27T16:57:07.181Z"
   },
   {
    "duration": 18,
    "start_time": "2022-03-27T16:57:07.204Z"
   },
   {
    "duration": 12,
    "start_time": "2022-03-27T16:57:07.224Z"
   },
   {
    "duration": 33,
    "start_time": "2022-03-27T16:57:07.238Z"
   },
   {
    "duration": 8,
    "start_time": "2022-03-27T16:57:07.273Z"
   },
   {
    "duration": 26,
    "start_time": "2022-03-27T16:57:07.283Z"
   },
   {
    "duration": 37,
    "start_time": "2022-03-27T16:57:07.310Z"
   },
   {
    "duration": 5,
    "start_time": "2022-03-27T16:57:07.348Z"
   },
   {
    "duration": 22,
    "start_time": "2022-03-27T16:57:07.355Z"
   },
   {
    "duration": 29,
    "start_time": "2022-03-27T16:57:07.379Z"
   },
   {
    "duration": 12,
    "start_time": "2022-03-27T16:57:07.411Z"
   },
   {
    "duration": 31,
    "start_time": "2022-03-27T16:57:07.425Z"
   },
   {
    "duration": 21,
    "start_time": "2022-03-27T16:57:07.459Z"
   },
   {
    "duration": 6,
    "start_time": "2022-03-27T16:59:14.884Z"
   },
   {
    "duration": 68,
    "start_time": "2022-03-27T17:00:17.151Z"
   },
   {
    "duration": 13,
    "start_time": "2022-03-27T17:00:41.092Z"
   },
   {
    "duration": 6,
    "start_time": "2022-03-27T17:23:58.363Z"
   },
   {
    "duration": 7,
    "start_time": "2022-03-27T17:24:00.386Z"
   },
   {
    "duration": 6,
    "start_time": "2022-03-27T17:24:13.515Z"
   },
   {
    "duration": 5,
    "start_time": "2022-03-27T17:24:19.384Z"
   },
   {
    "duration": 3,
    "start_time": "2022-03-27T17:24:50.088Z"
   },
   {
    "duration": 24,
    "start_time": "2022-03-27T17:25:19.618Z"
   },
   {
    "duration": 30,
    "start_time": "2022-03-27T17:28:56.602Z"
   },
   {
    "duration": 27,
    "start_time": "2022-03-27T17:29:13.633Z"
   },
   {
    "duration": 31,
    "start_time": "2022-03-27T17:29:31.891Z"
   },
   {
    "duration": 33,
    "start_time": "2022-03-27T17:30:38.656Z"
   },
   {
    "duration": 28,
    "start_time": "2022-03-27T17:30:56.719Z"
   },
   {
    "duration": 34,
    "start_time": "2022-03-27T17:31:10.442Z"
   },
   {
    "duration": 21,
    "start_time": "2022-03-27T17:32:07.658Z"
   },
   {
    "duration": 36,
    "start_time": "2022-03-27T17:33:02.374Z"
   },
   {
    "duration": 5,
    "start_time": "2022-03-27T17:40:04.465Z"
   },
   {
    "duration": 12,
    "start_time": "2022-03-27T18:09:49.979Z"
   },
   {
    "duration": 11,
    "start_time": "2022-03-27T18:09:53.323Z"
   },
   {
    "duration": 12,
    "start_time": "2022-03-27T18:10:17.448Z"
   },
   {
    "duration": 11,
    "start_time": "2022-03-27T18:12:28.311Z"
   },
   {
    "duration": 14,
    "start_time": "2022-03-27T18:17:21.821Z"
   },
   {
    "duration": 23,
    "start_time": "2022-03-27T18:17:34.758Z"
   },
   {
    "duration": 12,
    "start_time": "2022-03-27T18:17:55.385Z"
   },
   {
    "duration": 16,
    "start_time": "2022-03-27T18:18:38.421Z"
   },
   {
    "duration": 11,
    "start_time": "2022-03-27T18:18:44.034Z"
   },
   {
    "duration": 366,
    "start_time": "2022-04-03T08:48:48.885Z"
   },
   {
    "duration": 77,
    "start_time": "2022-04-03T08:48:49.253Z"
   },
   {
    "duration": 16,
    "start_time": "2022-04-03T08:48:49.331Z"
   },
   {
    "duration": 29,
    "start_time": "2022-04-03T08:48:49.349Z"
   },
   {
    "duration": 10,
    "start_time": "2022-04-03T08:48:49.380Z"
   },
   {
    "duration": 8,
    "start_time": "2022-04-03T08:48:49.391Z"
   },
   {
    "duration": 34,
    "start_time": "2022-04-03T08:48:49.400Z"
   },
   {
    "duration": 15,
    "start_time": "2022-04-03T08:48:49.435Z"
   },
   {
    "duration": 12,
    "start_time": "2022-04-03T08:48:49.451Z"
   },
   {
    "duration": 16,
    "start_time": "2022-04-03T08:48:49.466Z"
   },
   {
    "duration": 6,
    "start_time": "2022-04-03T08:48:49.484Z"
   },
   {
    "duration": 44,
    "start_time": "2022-04-03T08:48:49.491Z"
   },
   {
    "duration": 20,
    "start_time": "2022-04-03T08:48:49.537Z"
   },
   {
    "duration": 5,
    "start_time": "2022-04-03T08:48:49.559Z"
   },
   {
    "duration": 9,
    "start_time": "2022-04-03T08:48:49.565Z"
   },
   {
    "duration": 19,
    "start_time": "2022-04-03T08:48:49.575Z"
   },
   {
    "duration": 39,
    "start_time": "2022-04-03T08:48:49.596Z"
   },
   {
    "duration": 6,
    "start_time": "2022-04-03T08:48:49.637Z"
   },
   {
    "duration": 12,
    "start_time": "2022-04-03T08:48:49.645Z"
   },
   {
    "duration": 8,
    "start_time": "2022-04-03T08:48:49.659Z"
   },
   {
    "duration": 4,
    "start_time": "2022-04-03T08:48:49.670Z"
   },
   {
    "duration": 16,
    "start_time": "2022-04-03T08:48:49.676Z"
   },
   {
    "duration": 53,
    "start_time": "2022-04-03T08:48:49.693Z"
   },
   {
    "duration": 12,
    "start_time": "2022-04-03T08:48:49.748Z"
   },
   {
    "duration": 18,
    "start_time": "2022-04-03T08:48:49.762Z"
   },
   {
    "duration": 63,
    "start_time": "2022-04-03T08:48:49.782Z"
   },
   {
    "duration": 12,
    "start_time": "2022-04-03T08:48:49.848Z"
   },
   {
    "duration": 10,
    "start_time": "2022-04-03T08:48:49.864Z"
   },
   {
    "duration": 11,
    "start_time": "2022-04-03T08:48:49.876Z"
   },
   {
    "duration": 7657,
    "start_time": "2022-04-03T08:48:49.888Z"
   },
   {
    "duration": 88,
    "start_time": "2022-04-03T09:01:54.256Z"
   },
   {
    "duration": 4,
    "start_time": "2022-04-03T09:02:16.846Z"
   },
   {
    "duration": 16,
    "start_time": "2022-04-03T09:02:19.363Z"
   },
   {
    "duration": 18,
    "start_time": "2022-04-03T09:03:08.501Z"
   },
   {
    "duration": 0,
    "start_time": "2022-04-03T09:06:13.992Z"
   },
   {
    "duration": 6903,
    "start_time": "2022-04-03T09:06:28.142Z"
   },
   {
    "duration": 7488,
    "start_time": "2022-04-03T09:07:34.989Z"
   },
   {
    "duration": 8000,
    "start_time": "2022-04-03T09:07:55.775Z"
   },
   {
    "duration": 12,
    "start_time": "2022-04-03T09:08:14.606Z"
   },
   {
    "duration": 5,
    "start_time": "2022-04-03T09:10:18.006Z"
   },
   {
    "duration": 6,
    "start_time": "2022-04-03T09:10:29.705Z"
   },
   {
    "duration": 16,
    "start_time": "2022-04-03T09:22:37.757Z"
   },
   {
    "duration": 24,
    "start_time": "2022-04-03T09:22:49.975Z"
   },
   {
    "duration": 6929,
    "start_time": "2022-04-03T09:23:00.362Z"
   },
   {
    "duration": 12,
    "start_time": "2022-04-03T09:23:12.177Z"
   },
   {
    "duration": 410,
    "start_time": "2022-04-03T09:24:09.043Z"
   },
   {
    "duration": 74,
    "start_time": "2022-04-03T09:24:09.455Z"
   },
   {
    "duration": 16,
    "start_time": "2022-04-03T09:24:09.532Z"
   },
   {
    "duration": 30,
    "start_time": "2022-04-03T09:24:09.549Z"
   },
   {
    "duration": 10,
    "start_time": "2022-04-03T09:24:09.581Z"
   },
   {
    "duration": 9,
    "start_time": "2022-04-03T09:24:09.592Z"
   },
   {
    "duration": 32,
    "start_time": "2022-04-03T09:24:09.602Z"
   },
   {
    "duration": 50,
    "start_time": "2022-04-03T09:24:09.635Z"
   },
   {
    "duration": 17,
    "start_time": "2022-04-03T09:24:09.686Z"
   },
   {
    "duration": 20,
    "start_time": "2022-04-03T09:24:09.706Z"
   },
   {
    "duration": 7,
    "start_time": "2022-04-03T09:24:09.728Z"
   },
   {
    "duration": 14,
    "start_time": "2022-04-03T09:24:09.736Z"
   },
   {
    "duration": 24,
    "start_time": "2022-04-03T09:24:09.752Z"
   },
   {
    "duration": 4,
    "start_time": "2022-04-03T09:24:09.777Z"
   },
   {
    "duration": 7,
    "start_time": "2022-04-03T09:24:09.783Z"
   },
   {
    "duration": 49,
    "start_time": "2022-04-03T09:24:09.791Z"
   },
   {
    "duration": 4,
    "start_time": "2022-04-03T09:24:09.842Z"
   },
   {
    "duration": 5,
    "start_time": "2022-04-03T09:24:09.848Z"
   },
   {
    "duration": 12,
    "start_time": "2022-04-03T09:24:09.854Z"
   },
   {
    "duration": 6,
    "start_time": "2022-04-03T09:24:09.868Z"
   },
   {
    "duration": 4,
    "start_time": "2022-04-03T09:24:09.875Z"
   },
   {
    "duration": 16,
    "start_time": "2022-04-03T09:24:09.881Z"
   },
   {
    "duration": 17,
    "start_time": "2022-04-03T09:24:09.933Z"
   },
   {
    "duration": 12,
    "start_time": "2022-04-03T09:24:09.952Z"
   },
   {
    "duration": 20,
    "start_time": "2022-04-03T09:24:09.966Z"
   },
   {
    "duration": 63,
    "start_time": "2022-04-03T09:24:09.988Z"
   },
   {
    "duration": 12,
    "start_time": "2022-04-03T09:24:10.053Z"
   },
   {
    "duration": 12,
    "start_time": "2022-04-03T09:24:10.069Z"
   },
   {
    "duration": 14,
    "start_time": "2022-04-03T09:24:10.083Z"
   },
   {
    "duration": 37,
    "start_time": "2022-04-03T09:24:10.099Z"
   },
   {
    "duration": 18,
    "start_time": "2022-04-03T09:24:10.138Z"
   },
   {
    "duration": 6,
    "start_time": "2022-04-03T09:24:10.158Z"
   },
   {
    "duration": 7042,
    "start_time": "2022-04-03T09:24:10.166Z"
   },
   {
    "duration": 23,
    "start_time": "2022-04-03T09:24:17.210Z"
   },
   {
    "duration": 14,
    "start_time": "2022-04-03T09:56:50.164Z"
   },
   {
    "duration": 7,
    "start_time": "2022-04-03T09:57:06.916Z"
   },
   {
    "duration": 14,
    "start_time": "2022-04-03T09:57:44.977Z"
   },
   {
    "duration": 8,
    "start_time": "2022-04-03T09:57:46.868Z"
   },
   {
    "duration": 14,
    "start_time": "2022-04-03T09:58:45.752Z"
   },
   {
    "duration": 8,
    "start_time": "2022-04-03T09:58:47.501Z"
   },
   {
    "duration": 15,
    "start_time": "2022-04-03T10:01:04.408Z"
   },
   {
    "duration": 9,
    "start_time": "2022-04-03T10:01:07.075Z"
   },
   {
    "duration": 376,
    "start_time": "2022-04-03T10:02:07.974Z"
   },
   {
    "duration": 74,
    "start_time": "2022-04-03T10:02:08.352Z"
   },
   {
    "duration": 18,
    "start_time": "2022-04-03T10:02:08.427Z"
   },
   {
    "duration": 28,
    "start_time": "2022-04-03T10:02:08.447Z"
   },
   {
    "duration": 9,
    "start_time": "2022-04-03T10:02:08.477Z"
   },
   {
    "duration": 6,
    "start_time": "2022-04-03T10:02:08.488Z"
   },
   {
    "duration": 40,
    "start_time": "2022-04-03T10:02:08.495Z"
   },
   {
    "duration": 14,
    "start_time": "2022-04-03T10:02:08.537Z"
   },
   {
    "duration": 12,
    "start_time": "2022-04-03T10:02:08.552Z"
   },
   {
    "duration": 17,
    "start_time": "2022-04-03T10:02:08.566Z"
   },
   {
    "duration": 7,
    "start_time": "2022-04-03T10:02:08.584Z"
   },
   {
    "duration": 40,
    "start_time": "2022-04-03T10:02:08.592Z"
   },
   {
    "duration": 22,
    "start_time": "2022-04-03T10:02:08.634Z"
   },
   {
    "duration": 4,
    "start_time": "2022-04-03T10:02:08.657Z"
   },
   {
    "duration": 8,
    "start_time": "2022-04-03T10:02:08.662Z"
   },
   {
    "duration": 20,
    "start_time": "2022-04-03T10:02:08.671Z"
   },
   {
    "duration": 5,
    "start_time": "2022-04-03T10:02:08.692Z"
   },
   {
    "duration": 35,
    "start_time": "2022-04-03T10:02:08.699Z"
   },
   {
    "duration": 12,
    "start_time": "2022-04-03T10:02:08.735Z"
   },
   {
    "duration": 7,
    "start_time": "2022-04-03T10:02:08.749Z"
   },
   {
    "duration": 6,
    "start_time": "2022-04-03T10:02:08.758Z"
   },
   {
    "duration": 19,
    "start_time": "2022-04-03T10:02:08.765Z"
   },
   {
    "duration": 19,
    "start_time": "2022-04-03T10:02:08.786Z"
   },
   {
    "duration": 12,
    "start_time": "2022-04-03T10:02:08.833Z"
   },
   {
    "duration": 19,
    "start_time": "2022-04-03T10:02:08.847Z"
   },
   {
    "duration": 32,
    "start_time": "2022-04-03T10:02:08.867Z"
   },
   {
    "duration": 33,
    "start_time": "2022-04-03T10:02:08.901Z"
   },
   {
    "duration": 11,
    "start_time": "2022-04-03T10:02:08.937Z"
   },
   {
    "duration": 11,
    "start_time": "2022-04-03T10:02:08.950Z"
   },
   {
    "duration": 7,
    "start_time": "2022-04-03T10:02:08.962Z"
   },
   {
    "duration": 19,
    "start_time": "2022-04-03T10:02:08.971Z"
   },
   {
    "duration": 8,
    "start_time": "2022-04-03T10:02:08.991Z"
   },
   {
    "duration": 7113,
    "start_time": "2022-04-03T10:02:09.001Z"
   },
   {
    "duration": 18,
    "start_time": "2022-04-03T10:02:16.116Z"
   },
   {
    "duration": 15,
    "start_time": "2022-04-03T10:02:16.135Z"
   },
   {
    "duration": 14,
    "start_time": "2022-04-03T10:02:16.152Z"
   },
   {
    "duration": 8,
    "start_time": "2022-04-03T10:02:16.167Z"
   },
   {
    "duration": 8,
    "start_time": "2022-04-03T10:02:33.096Z"
   },
   {
    "duration": 5,
    "start_time": "2022-04-03T10:02:49.844Z"
   },
   {
    "duration": 63,
    "start_time": "2022-04-03T10:02:58.154Z"
   },
   {
    "duration": 9,
    "start_time": "2022-04-03T10:03:20.649Z"
   },
   {
    "duration": 6,
    "start_time": "2022-04-03T10:03:31.674Z"
   },
   {
    "duration": 415,
    "start_time": "2022-04-03T10:03:48.401Z"
   },
   {
    "duration": 74,
    "start_time": "2022-04-03T10:03:48.818Z"
   },
   {
    "duration": 16,
    "start_time": "2022-04-03T10:03:48.893Z"
   },
   {
    "duration": 44,
    "start_time": "2022-04-03T10:03:48.912Z"
   },
   {
    "duration": 13,
    "start_time": "2022-04-03T10:03:48.958Z"
   },
   {
    "duration": 10,
    "start_time": "2022-04-03T10:03:48.973Z"
   },
   {
    "duration": 5,
    "start_time": "2022-04-03T10:03:48.985Z"
   },
   {
    "duration": 49,
    "start_time": "2022-04-03T10:03:48.991Z"
   },
   {
    "duration": 13,
    "start_time": "2022-04-03T10:03:49.042Z"
   },
   {
    "duration": 17,
    "start_time": "2022-04-03T10:03:49.057Z"
   },
   {
    "duration": 7,
    "start_time": "2022-04-03T10:03:49.076Z"
   },
   {
    "duration": 8,
    "start_time": "2022-04-03T10:03:49.085Z"
   },
   {
    "duration": 59,
    "start_time": "2022-04-03T10:03:49.095Z"
   },
   {
    "duration": 4,
    "start_time": "2022-04-03T10:03:49.156Z"
   },
   {
    "duration": 6,
    "start_time": "2022-04-03T10:03:49.161Z"
   },
   {
    "duration": 5,
    "start_time": "2022-04-03T10:03:49.169Z"
   },
   {
    "duration": 8,
    "start_time": "2022-04-03T10:03:49.175Z"
   },
   {
    "duration": 5,
    "start_time": "2022-04-03T10:03:49.185Z"
   },
   {
    "duration": 54,
    "start_time": "2022-04-03T10:03:49.191Z"
   },
   {
    "duration": 12,
    "start_time": "2022-04-03T10:03:49.247Z"
   },
   {
    "duration": 5,
    "start_time": "2022-04-03T10:03:49.260Z"
   },
   {
    "duration": 18,
    "start_time": "2022-04-03T10:03:49.266Z"
   },
   {
    "duration": 47,
    "start_time": "2022-04-03T10:03:49.286Z"
   },
   {
    "duration": 13,
    "start_time": "2022-04-03T10:03:49.334Z"
   },
   {
    "duration": 20,
    "start_time": "2022-04-03T10:03:49.349Z"
   },
   {
    "duration": 63,
    "start_time": "2022-04-03T10:03:49.371Z"
   },
   {
    "duration": 16,
    "start_time": "2022-04-03T10:03:49.436Z"
   },
   {
    "duration": 15,
    "start_time": "2022-04-03T10:03:49.456Z"
   },
   {
    "duration": 13,
    "start_time": "2022-04-03T10:03:49.473Z"
   },
   {
    "duration": 7,
    "start_time": "2022-04-03T10:03:49.488Z"
   },
   {
    "duration": 46,
    "start_time": "2022-04-03T10:03:49.496Z"
   },
   {
    "duration": 5,
    "start_time": "2022-04-03T10:03:49.544Z"
   },
   {
    "duration": 7193,
    "start_time": "2022-04-03T10:03:49.551Z"
   },
   {
    "duration": 11,
    "start_time": "2022-04-03T10:03:56.746Z"
   },
   {
    "duration": 18,
    "start_time": "2022-04-03T10:03:56.759Z"
   },
   {
    "duration": 15,
    "start_time": "2022-04-03T10:03:56.778Z"
   },
   {
    "duration": 8,
    "start_time": "2022-04-03T10:03:56.794Z"
   },
   {
    "duration": 13,
    "start_time": "2022-04-03T10:07:51.509Z"
   },
   {
    "duration": 7,
    "start_time": "2022-04-03T10:07:54.055Z"
   },
   {
    "duration": 13,
    "start_time": "2022-04-03T10:08:05.977Z"
   },
   {
    "duration": 8,
    "start_time": "2022-04-03T10:08:08.411Z"
   },
   {
    "duration": 13,
    "start_time": "2022-04-03T10:09:17.975Z"
   },
   {
    "duration": 8,
    "start_time": "2022-04-03T10:09:19.502Z"
   },
   {
    "duration": 14,
    "start_time": "2022-04-03T10:17:18.734Z"
   },
   {
    "duration": 8,
    "start_time": "2022-04-03T10:17:20.711Z"
   },
   {
    "duration": 3,
    "start_time": "2022-04-03T10:26:20.893Z"
   },
   {
    "duration": 3,
    "start_time": "2022-04-03T10:26:23.259Z"
   },
   {
    "duration": 2,
    "start_time": "2022-04-03T10:26:27.463Z"
   },
   {
    "duration": 400,
    "start_time": "2022-04-03T10:40:25.896Z"
   },
   {
    "duration": 77,
    "start_time": "2022-04-03T10:40:26.298Z"
   },
   {
    "duration": 15,
    "start_time": "2022-04-03T10:40:26.376Z"
   },
   {
    "duration": 41,
    "start_time": "2022-04-03T10:40:26.393Z"
   },
   {
    "duration": 10,
    "start_time": "2022-04-03T10:40:26.437Z"
   },
   {
    "duration": 7,
    "start_time": "2022-04-03T10:40:26.448Z"
   },
   {
    "duration": 4,
    "start_time": "2022-04-03T10:40:26.457Z"
   },
   {
    "duration": 13,
    "start_time": "2022-04-03T10:40:26.462Z"
   },
   {
    "duration": 12,
    "start_time": "2022-04-03T10:40:26.477Z"
   },
   {
    "duration": 53,
    "start_time": "2022-04-03T10:40:26.491Z"
   },
   {
    "duration": 7,
    "start_time": "2022-04-03T10:40:26.546Z"
   },
   {
    "duration": 11,
    "start_time": "2022-04-03T10:40:26.554Z"
   },
   {
    "duration": 33,
    "start_time": "2022-04-03T10:40:26.567Z"
   },
   {
    "duration": 4,
    "start_time": "2022-04-03T10:40:26.603Z"
   },
   {
    "duration": 26,
    "start_time": "2022-04-03T10:40:26.609Z"
   },
   {
    "duration": 5,
    "start_time": "2022-04-03T10:40:26.637Z"
   },
   {
    "duration": 8,
    "start_time": "2022-04-03T10:40:26.644Z"
   },
   {
    "duration": 8,
    "start_time": "2022-04-03T10:40:26.653Z"
   },
   {
    "duration": 13,
    "start_time": "2022-04-03T10:40:26.663Z"
   },
   {
    "duration": 8,
    "start_time": "2022-04-03T10:40:26.678Z"
   },
   {
    "duration": 4,
    "start_time": "2022-04-03T10:40:26.688Z"
   },
   {
    "duration": 45,
    "start_time": "2022-04-03T10:40:26.693Z"
   },
   {
    "duration": 21,
    "start_time": "2022-04-03T10:40:26.740Z"
   },
   {
    "duration": 12,
    "start_time": "2022-04-03T10:40:26.763Z"
   },
   {
    "duration": 19,
    "start_time": "2022-04-03T10:40:26.776Z"
   },
   {
    "duration": 55,
    "start_time": "2022-04-03T10:40:26.797Z"
   },
   {
    "duration": 11,
    "start_time": "2022-04-03T10:40:26.854Z"
   },
   {
    "duration": 12,
    "start_time": "2022-04-03T10:40:26.867Z"
   },
   {
    "duration": 13,
    "start_time": "2022-04-03T10:40:26.880Z"
   },
   {
    "duration": 5,
    "start_time": "2022-04-03T10:40:26.894Z"
   },
   {
    "duration": 42,
    "start_time": "2022-04-03T10:40:26.900Z"
   },
   {
    "duration": 6,
    "start_time": "2022-04-03T10:40:26.943Z"
   },
   {
    "duration": 84,
    "start_time": "2022-04-03T10:40:26.951Z"
   },
   {
    "duration": 0,
    "start_time": "2022-04-03T10:40:27.037Z"
   },
   {
    "duration": 0,
    "start_time": "2022-04-03T10:40:27.038Z"
   },
   {
    "duration": 0,
    "start_time": "2022-04-03T10:40:27.039Z"
   },
   {
    "duration": 0,
    "start_time": "2022-04-03T10:40:27.040Z"
   },
   {
    "duration": 0,
    "start_time": "2022-04-03T10:40:27.041Z"
   },
   {
    "duration": 7075,
    "start_time": "2022-04-03T10:41:26.864Z"
   },
   {
    "duration": 13,
    "start_time": "2022-04-03T10:41:36.931Z"
   },
   {
    "duration": 2,
    "start_time": "2022-04-03T10:41:46.611Z"
   },
   {
    "duration": 14,
    "start_time": "2022-04-03T10:45:04.802Z"
   },
   {
    "duration": 3,
    "start_time": "2022-04-03T10:45:07.983Z"
   },
   {
    "duration": 15,
    "start_time": "2022-04-03T10:45:11.436Z"
   },
   {
    "duration": 8,
    "start_time": "2022-04-03T10:45:14.570Z"
   },
   {
    "duration": 16,
    "start_time": "2022-04-03T10:45:52.629Z"
   },
   {
    "duration": 8,
    "start_time": "2022-04-03T10:45:54.947Z"
   },
   {
    "duration": 15,
    "start_time": "2022-04-03T10:46:14.075Z"
   },
   {
    "duration": 7,
    "start_time": "2022-04-03T10:46:22.420Z"
   },
   {
    "duration": 64,
    "start_time": "2022-04-03T10:46:41.242Z"
   },
   {
    "duration": 9,
    "start_time": "2022-04-03T10:46:52.055Z"
   },
   {
    "duration": 7,
    "start_time": "2022-04-03T10:49:31.119Z"
   },
   {
    "duration": 9,
    "start_time": "2022-04-03T10:49:34.056Z"
   },
   {
    "duration": 7,
    "start_time": "2022-04-03T10:50:49.775Z"
   },
   {
    "duration": 10,
    "start_time": "2022-04-03T10:50:51.419Z"
   },
   {
    "duration": 14,
    "start_time": "2022-04-03T10:51:04.304Z"
   },
   {
    "duration": 535,
    "start_time": "2022-04-03T10:51:17.522Z"
   },
   {
    "duration": 79,
    "start_time": "2022-04-03T10:51:18.059Z"
   },
   {
    "duration": 16,
    "start_time": "2022-04-03T10:51:18.140Z"
   },
   {
    "duration": 29,
    "start_time": "2022-04-03T10:51:18.158Z"
   },
   {
    "duration": 9,
    "start_time": "2022-04-03T10:51:18.189Z"
   },
   {
    "duration": 36,
    "start_time": "2022-04-03T10:51:18.200Z"
   },
   {
    "duration": 6,
    "start_time": "2022-04-03T10:51:18.238Z"
   },
   {
    "duration": 16,
    "start_time": "2022-04-03T10:51:18.246Z"
   },
   {
    "duration": 12,
    "start_time": "2022-04-03T10:51:18.264Z"
   },
   {
    "duration": 17,
    "start_time": "2022-04-03T10:51:18.278Z"
   },
   {
    "duration": 42,
    "start_time": "2022-04-03T10:51:18.296Z"
   },
   {
    "duration": 9,
    "start_time": "2022-04-03T10:51:18.340Z"
   },
   {
    "duration": 22,
    "start_time": "2022-04-03T10:51:18.350Z"
   },
   {
    "duration": 4,
    "start_time": "2022-04-03T10:51:18.374Z"
   },
   {
    "duration": 11,
    "start_time": "2022-04-03T10:51:18.381Z"
   },
   {
    "duration": 6,
    "start_time": "2022-04-03T10:51:18.394Z"
   },
   {
    "duration": 5,
    "start_time": "2022-04-03T10:51:18.433Z"
   },
   {
    "duration": 5,
    "start_time": "2022-04-03T10:51:18.440Z"
   },
   {
    "duration": 13,
    "start_time": "2022-04-03T10:51:18.446Z"
   },
   {
    "duration": 12,
    "start_time": "2022-04-03T10:51:18.460Z"
   },
   {
    "duration": 8,
    "start_time": "2022-04-03T10:51:18.474Z"
   },
   {
    "duration": 20,
    "start_time": "2022-04-03T10:51:18.484Z"
   },
   {
    "duration": 37,
    "start_time": "2022-04-03T10:51:18.506Z"
   },
   {
    "duration": 12,
    "start_time": "2022-04-03T10:51:18.545Z"
   },
   {
    "duration": 24,
    "start_time": "2022-04-03T10:51:18.558Z"
   },
   {
    "duration": 59,
    "start_time": "2022-04-03T10:51:18.583Z"
   },
   {
    "duration": 12,
    "start_time": "2022-04-03T10:51:18.643Z"
   },
   {
    "duration": 11,
    "start_time": "2022-04-03T10:51:18.658Z"
   },
   {
    "duration": 12,
    "start_time": "2022-04-03T10:51:18.671Z"
   },
   {
    "duration": 6,
    "start_time": "2022-04-03T10:51:18.684Z"
   },
   {
    "duration": 52,
    "start_time": "2022-04-03T10:51:18.691Z"
   },
   {
    "duration": 6,
    "start_time": "2022-04-03T10:51:18.745Z"
   },
   {
    "duration": 7312,
    "start_time": "2022-04-03T10:51:18.753Z"
   },
   {
    "duration": 13,
    "start_time": "2022-04-03T10:51:26.067Z"
   },
   {
    "duration": 17,
    "start_time": "2022-04-03T10:51:26.082Z"
   },
   {
    "duration": 31,
    "start_time": "2022-04-03T10:51:26.101Z"
   },
   {
    "duration": 17,
    "start_time": "2022-04-03T10:51:26.134Z"
   },
   {
    "duration": 8,
    "start_time": "2022-04-03T10:51:26.153Z"
   },
   {
    "duration": 17,
    "start_time": "2022-04-03T10:51:26.163Z"
   },
   {
    "duration": 383,
    "start_time": "2022-04-03T10:55:02.970Z"
   },
   {
    "duration": 81,
    "start_time": "2022-04-03T10:55:03.355Z"
   },
   {
    "duration": 15,
    "start_time": "2022-04-03T10:55:03.437Z"
   },
   {
    "duration": 30,
    "start_time": "2022-04-03T10:55:03.454Z"
   },
   {
    "duration": 10,
    "start_time": "2022-04-03T10:55:03.486Z"
   },
   {
    "duration": 7,
    "start_time": "2022-04-03T10:55:03.498Z"
   },
   {
    "duration": 4,
    "start_time": "2022-04-03T10:55:03.534Z"
   },
   {
    "duration": 14,
    "start_time": "2022-04-03T10:55:03.540Z"
   },
   {
    "duration": 15,
    "start_time": "2022-04-03T10:55:03.556Z"
   },
   {
    "duration": 18,
    "start_time": "2022-04-03T10:55:03.572Z"
   },
   {
    "duration": 42,
    "start_time": "2022-04-03T10:55:03.592Z"
   },
   {
    "duration": 9,
    "start_time": "2022-04-03T10:55:03.636Z"
   },
   {
    "duration": 22,
    "start_time": "2022-04-03T10:55:03.647Z"
   },
   {
    "duration": 4,
    "start_time": "2022-04-03T10:55:03.673Z"
   },
   {
    "duration": 12,
    "start_time": "2022-04-03T10:55:03.679Z"
   },
   {
    "duration": 42,
    "start_time": "2022-04-03T10:55:03.693Z"
   },
   {
    "duration": 10,
    "start_time": "2022-04-03T10:55:03.737Z"
   },
   {
    "duration": 6,
    "start_time": "2022-04-03T10:55:03.748Z"
   },
   {
    "duration": 15,
    "start_time": "2022-04-03T10:55:03.755Z"
   },
   {
    "duration": 8,
    "start_time": "2022-04-03T10:55:03.772Z"
   },
   {
    "duration": 5,
    "start_time": "2022-04-03T10:55:03.782Z"
   },
   {
    "duration": 18,
    "start_time": "2022-04-03T10:55:03.788Z"
   },
   {
    "duration": 17,
    "start_time": "2022-04-03T10:55:03.833Z"
   },
   {
    "duration": 12,
    "start_time": "2022-04-03T10:55:03.852Z"
   },
   {
    "duration": 21,
    "start_time": "2022-04-03T10:55:03.865Z"
   },
   {
    "duration": 61,
    "start_time": "2022-04-03T10:55:03.888Z"
   },
   {
    "duration": 12,
    "start_time": "2022-04-03T10:55:03.951Z"
   },
   {
    "duration": 11,
    "start_time": "2022-04-03T10:55:03.964Z"
   },
   {
    "duration": 12,
    "start_time": "2022-04-03T10:55:03.977Z"
   },
   {
    "duration": 4,
    "start_time": "2022-04-03T10:55:03.991Z"
   },
   {
    "duration": 47,
    "start_time": "2022-04-03T10:55:03.997Z"
   },
   {
    "duration": 8,
    "start_time": "2022-04-03T10:55:04.046Z"
   },
   {
    "duration": 8803,
    "start_time": "2022-04-03T10:55:04.056Z"
   },
   {
    "duration": 13,
    "start_time": "2022-04-03T10:55:12.861Z"
   },
   {
    "duration": 16,
    "start_time": "2022-04-03T10:55:12.876Z"
   },
   {
    "duration": 8,
    "start_time": "2022-04-03T10:55:12.894Z"
   },
   {
    "duration": 45,
    "start_time": "2022-04-03T10:55:12.904Z"
   },
   {
    "duration": 7,
    "start_time": "2022-04-03T10:55:12.951Z"
   },
   {
    "duration": 9,
    "start_time": "2022-04-03T10:55:12.960Z"
   },
   {
    "duration": 15,
    "start_time": "2022-04-03T10:58:37.015Z"
   },
   {
    "duration": 67,
    "start_time": "2022-04-03T10:58:39.729Z"
   },
   {
    "duration": 7,
    "start_time": "2022-04-03T10:58:51.969Z"
   },
   {
    "duration": 10,
    "start_time": "2022-04-03T10:59:00.541Z"
   },
   {
    "duration": 9,
    "start_time": "2022-04-03T10:59:10.400Z"
   },
   {
    "duration": 16,
    "start_time": "2022-04-03T11:02:26.297Z"
   },
   {
    "duration": 8,
    "start_time": "2022-04-03T11:02:28.287Z"
   },
   {
    "duration": 17,
    "start_time": "2022-04-03T11:06:45.292Z"
   },
   {
    "duration": 8,
    "start_time": "2022-04-03T11:06:47.564Z"
   },
   {
    "duration": 16,
    "start_time": "2022-04-03T11:11:18.496Z"
   },
   {
    "duration": 18,
    "start_time": "2022-04-03T11:11:34.928Z"
   },
   {
    "duration": 8,
    "start_time": "2022-04-03T11:11:47.810Z"
   },
   {
    "duration": 9,
    "start_time": "2022-04-03T11:20:52.196Z"
   },
   {
    "duration": 371,
    "start_time": "2022-04-03T11:21:38.273Z"
   },
   {
    "duration": 73,
    "start_time": "2022-04-03T11:21:38.646Z"
   },
   {
    "duration": 20,
    "start_time": "2022-04-03T11:21:38.721Z"
   },
   {
    "duration": 29,
    "start_time": "2022-04-03T11:21:38.743Z"
   },
   {
    "duration": 10,
    "start_time": "2022-04-03T11:21:38.774Z"
   },
   {
    "duration": 7,
    "start_time": "2022-04-03T11:21:38.785Z"
   },
   {
    "duration": 8,
    "start_time": "2022-04-03T11:21:38.793Z"
   },
   {
    "duration": 41,
    "start_time": "2022-04-03T11:21:38.802Z"
   },
   {
    "duration": 12,
    "start_time": "2022-04-03T11:21:38.844Z"
   },
   {
    "duration": 16,
    "start_time": "2022-04-03T11:21:38.858Z"
   },
   {
    "duration": 7,
    "start_time": "2022-04-03T11:21:38.876Z"
   },
   {
    "duration": 8,
    "start_time": "2022-04-03T11:21:38.885Z"
   },
   {
    "duration": 55,
    "start_time": "2022-04-03T11:21:38.895Z"
   },
   {
    "duration": 5,
    "start_time": "2022-04-03T11:21:38.953Z"
   },
   {
    "duration": 6,
    "start_time": "2022-04-03T11:21:38.960Z"
   },
   {
    "duration": 6,
    "start_time": "2022-04-03T11:21:38.968Z"
   },
   {
    "duration": 6,
    "start_time": "2022-04-03T11:21:38.976Z"
   },
   {
    "duration": 50,
    "start_time": "2022-04-03T11:21:38.984Z"
   },
   {
    "duration": 13,
    "start_time": "2022-04-03T11:21:39.035Z"
   },
   {
    "duration": 23,
    "start_time": "2022-04-03T11:21:39.049Z"
   },
   {
    "duration": 7,
    "start_time": "2022-04-03T11:21:39.073Z"
   },
   {
    "duration": 18,
    "start_time": "2022-04-03T11:21:39.081Z"
   },
   {
    "duration": 17,
    "start_time": "2022-04-03T11:21:39.100Z"
   },
   {
    "duration": 25,
    "start_time": "2022-04-03T11:21:39.119Z"
   },
   {
    "duration": 25,
    "start_time": "2022-04-03T11:21:39.146Z"
   },
   {
    "duration": 35,
    "start_time": "2022-04-03T11:21:39.173Z"
   },
   {
    "duration": 29,
    "start_time": "2022-04-03T11:21:39.209Z"
   },
   {
    "duration": 13,
    "start_time": "2022-04-03T11:21:39.240Z"
   },
   {
    "duration": 13,
    "start_time": "2022-04-03T11:21:39.255Z"
   },
   {
    "duration": 5,
    "start_time": "2022-04-03T11:21:39.270Z"
   },
   {
    "duration": 21,
    "start_time": "2022-04-03T11:21:39.277Z"
   },
   {
    "duration": 7,
    "start_time": "2022-04-03T11:21:39.332Z"
   },
   {
    "duration": 7161,
    "start_time": "2022-04-03T11:21:39.342Z"
   },
   {
    "duration": 14,
    "start_time": "2022-04-03T11:21:46.505Z"
   },
   {
    "duration": 37,
    "start_time": "2022-04-03T11:21:46.521Z"
   },
   {
    "duration": 13,
    "start_time": "2022-04-03T11:21:46.560Z"
   },
   {
    "duration": 24,
    "start_time": "2022-04-03T11:21:46.575Z"
   },
   {
    "duration": 34,
    "start_time": "2022-04-03T11:21:46.602Z"
   },
   {
    "duration": 11,
    "start_time": "2022-04-03T11:21:46.639Z"
   },
   {
    "duration": 22,
    "start_time": "2022-04-03T11:21:46.652Z"
   },
   {
    "duration": 10,
    "start_time": "2022-04-03T11:21:46.679Z"
   },
   {
    "duration": 48,
    "start_time": "2022-04-03T11:21:46.691Z"
   },
   {
    "duration": 9,
    "start_time": "2022-04-03T11:21:46.741Z"
   },
   {
    "duration": 418,
    "start_time": "2022-04-13T15:59:44.444Z"
   },
   {
    "duration": 107,
    "start_time": "2022-04-13T15:59:44.866Z"
   },
   {
    "duration": 16,
    "start_time": "2022-04-13T15:59:44.974Z"
   },
   {
    "duration": 48,
    "start_time": "2022-04-13T15:59:44.992Z"
   },
   {
    "duration": 23,
    "start_time": "2022-04-13T15:59:45.044Z"
   },
   {
    "duration": 6,
    "start_time": "2022-04-13T15:59:45.069Z"
   },
   {
    "duration": 5,
    "start_time": "2022-04-13T15:59:45.076Z"
   },
   {
    "duration": 13,
    "start_time": "2022-04-13T15:59:45.083Z"
   },
   {
    "duration": 36,
    "start_time": "2022-04-13T15:59:45.097Z"
   },
   {
    "duration": 33,
    "start_time": "2022-04-13T15:59:45.138Z"
   },
   {
    "duration": 8,
    "start_time": "2022-04-13T15:59:45.173Z"
   },
   {
    "duration": 8,
    "start_time": "2022-04-13T15:59:45.183Z"
   },
   {
    "duration": 21,
    "start_time": "2022-04-13T15:59:45.193Z"
   },
   {
    "duration": 13,
    "start_time": "2022-04-13T15:59:45.224Z"
   },
   {
    "duration": 12,
    "start_time": "2022-04-13T15:59:45.242Z"
   },
   {
    "duration": 6,
    "start_time": "2022-04-13T15:59:45.258Z"
   },
   {
    "duration": 8,
    "start_time": "2022-04-13T15:59:45.265Z"
   },
   {
    "duration": 8,
    "start_time": "2022-04-13T15:59:45.274Z"
   },
   {
    "duration": 18,
    "start_time": "2022-04-13T15:59:45.284Z"
   },
   {
    "duration": 8,
    "start_time": "2022-04-13T15:59:45.304Z"
   },
   {
    "duration": 24,
    "start_time": "2022-04-13T15:59:45.313Z"
   },
   {
    "duration": 29,
    "start_time": "2022-04-13T15:59:45.340Z"
   },
   {
    "duration": 16,
    "start_time": "2022-04-13T15:59:45.370Z"
   },
   {
    "duration": 12,
    "start_time": "2022-04-13T15:59:45.387Z"
   },
   {
    "duration": 33,
    "start_time": "2022-04-13T15:59:45.401Z"
   },
   {
    "duration": 43,
    "start_time": "2022-04-13T15:59:45.436Z"
   },
   {
    "duration": 12,
    "start_time": "2022-04-13T15:59:45.480Z"
   },
   {
    "duration": 32,
    "start_time": "2022-04-13T15:59:45.494Z"
   },
   {
    "duration": 17,
    "start_time": "2022-04-13T15:59:45.528Z"
   },
   {
    "duration": 3,
    "start_time": "2022-04-13T15:59:45.549Z"
   },
   {
    "duration": 24,
    "start_time": "2022-04-13T15:59:45.553Z"
   },
   {
    "duration": 5,
    "start_time": "2022-04-13T15:59:45.579Z"
   },
   {
    "duration": 8049,
    "start_time": "2022-04-13T15:59:45.586Z"
   },
   {
    "duration": 19,
    "start_time": "2022-04-13T15:59:53.638Z"
   },
   {
    "duration": 20,
    "start_time": "2022-04-13T15:59:53.659Z"
   },
   {
    "duration": 16,
    "start_time": "2022-04-13T15:59:53.680Z"
   },
   {
    "duration": 36,
    "start_time": "2022-04-13T15:59:53.698Z"
   },
   {
    "duration": 22,
    "start_time": "2022-04-13T15:59:53.740Z"
   },
   {
    "duration": 19,
    "start_time": "2022-04-13T15:59:53.764Z"
   },
   {
    "duration": 27,
    "start_time": "2022-04-13T15:59:53.784Z"
   },
   {
    "duration": 7,
    "start_time": "2022-04-13T15:59:53.814Z"
   },
   {
    "duration": 31,
    "start_time": "2022-04-13T15:59:53.833Z"
   },
   {
    "duration": 13,
    "start_time": "2022-04-13T15:59:53.865Z"
   },
   {
    "duration": 469,
    "start_time": "2022-04-13T16:05:05.127Z"
   },
   {
    "duration": 115,
    "start_time": "2022-04-13T16:05:05.599Z"
   },
   {
    "duration": 25,
    "start_time": "2022-04-13T16:05:05.716Z"
   },
   {
    "duration": 35,
    "start_time": "2022-04-13T16:05:05.745Z"
   },
   {
    "duration": 11,
    "start_time": "2022-04-13T16:05:05.783Z"
   },
   {
    "duration": 6,
    "start_time": "2022-04-13T16:05:05.796Z"
   },
   {
    "duration": 24,
    "start_time": "2022-04-13T16:05:05.804Z"
   },
   {
    "duration": 24,
    "start_time": "2022-04-13T16:05:05.829Z"
   },
   {
    "duration": 17,
    "start_time": "2022-04-13T16:05:05.861Z"
   },
   {
    "duration": 23,
    "start_time": "2022-04-13T16:05:05.880Z"
   },
   {
    "duration": 8,
    "start_time": "2022-04-13T16:05:05.905Z"
   },
   {
    "duration": 21,
    "start_time": "2022-04-13T16:05:05.922Z"
   },
   {
    "duration": 26,
    "start_time": "2022-04-13T16:05:05.945Z"
   },
   {
    "duration": 5,
    "start_time": "2022-04-13T16:05:05.974Z"
   },
   {
    "duration": 5,
    "start_time": "2022-04-13T16:05:05.980Z"
   },
   {
    "duration": 9,
    "start_time": "2022-04-13T16:05:05.986Z"
   },
   {
    "duration": 9,
    "start_time": "2022-04-13T16:05:05.997Z"
   },
   {
    "duration": 21,
    "start_time": "2022-04-13T16:05:06.008Z"
   },
   {
    "duration": 24,
    "start_time": "2022-04-13T16:05:06.031Z"
   },
   {
    "duration": 21,
    "start_time": "2022-04-13T16:05:06.056Z"
   },
   {
    "duration": 6,
    "start_time": "2022-04-13T16:05:06.079Z"
   },
   {
    "duration": 20,
    "start_time": "2022-04-13T16:05:06.087Z"
   },
   {
    "duration": 47,
    "start_time": "2022-04-13T16:05:06.108Z"
   },
   {
    "duration": 15,
    "start_time": "2022-04-13T16:05:06.156Z"
   },
   {
    "duration": 17,
    "start_time": "2022-04-13T16:05:06.173Z"
   },
   {
    "duration": 47,
    "start_time": "2022-04-13T16:05:06.192Z"
   },
   {
    "duration": 23,
    "start_time": "2022-04-13T16:05:06.240Z"
   },
   {
    "duration": 13,
    "start_time": "2022-04-13T16:05:06.265Z"
   },
   {
    "duration": 12,
    "start_time": "2022-04-13T16:05:06.280Z"
   },
   {
    "duration": 3,
    "start_time": "2022-04-13T16:05:06.294Z"
   },
   {
    "duration": 45,
    "start_time": "2022-04-13T16:05:06.299Z"
   },
   {
    "duration": 13,
    "start_time": "2022-04-13T16:05:06.345Z"
   },
   {
    "duration": 8667,
    "start_time": "2022-04-13T16:05:06.360Z"
   },
   {
    "duration": 23,
    "start_time": "2022-04-13T16:05:15.029Z"
   },
   {
    "duration": 28,
    "start_time": "2022-04-13T16:05:15.053Z"
   },
   {
    "duration": 9,
    "start_time": "2022-04-13T16:05:15.082Z"
   },
   {
    "duration": 17,
    "start_time": "2022-04-13T16:05:15.093Z"
   },
   {
    "duration": 23,
    "start_time": "2022-04-13T16:05:15.112Z"
   },
   {
    "duration": 15,
    "start_time": "2022-04-13T16:05:15.140Z"
   },
   {
    "duration": 22,
    "start_time": "2022-04-13T16:05:15.157Z"
   },
   {
    "duration": 8,
    "start_time": "2022-04-13T16:05:15.183Z"
   },
   {
    "duration": 39,
    "start_time": "2022-04-13T16:05:15.192Z"
   },
   {
    "duration": 13,
    "start_time": "2022-04-13T16:05:15.232Z"
   },
   {
    "duration": 389,
    "start_time": "2022-04-13T20:37:19.758Z"
   },
   {
    "duration": 102,
    "start_time": "2022-04-13T20:37:20.947Z"
   },
   {
    "duration": 16,
    "start_time": "2022-04-13T20:37:24.258Z"
   },
   {
    "duration": 27,
    "start_time": "2022-04-13T20:37:26.570Z"
   },
   {
    "duration": 10,
    "start_time": "2022-04-13T20:37:28.632Z"
   },
   {
    "duration": 6,
    "start_time": "2022-04-13T20:37:31.235Z"
   },
   {
    "duration": 4,
    "start_time": "2022-04-13T20:37:32.481Z"
   },
   {
    "duration": 12,
    "start_time": "2022-04-13T20:37:38.964Z"
   },
   {
    "duration": 12,
    "start_time": "2022-04-13T20:37:40.682Z"
   },
   {
    "duration": 16,
    "start_time": "2022-04-13T20:37:42.547Z"
   },
   {
    "duration": 13,
    "start_time": "2022-04-13T20:37:52.499Z"
   },
   {
    "duration": 9,
    "start_time": "2022-04-13T20:37:57.767Z"
   },
   {
    "duration": 417,
    "start_time": "2022-04-13T20:38:55.517Z"
   },
   {
    "duration": 75,
    "start_time": "2022-04-13T20:38:55.947Z"
   },
   {
    "duration": 15,
    "start_time": "2022-04-13T20:38:56.023Z"
   },
   {
    "duration": 31,
    "start_time": "2022-04-13T20:38:56.047Z"
   },
   {
    "duration": 10,
    "start_time": "2022-04-13T20:38:56.080Z"
   },
   {
    "duration": 7,
    "start_time": "2022-04-13T20:38:56.092Z"
   },
   {
    "duration": 4,
    "start_time": "2022-04-13T20:38:56.100Z"
   },
   {
    "duration": 46,
    "start_time": "2022-04-13T20:38:56.106Z"
   },
   {
    "duration": 13,
    "start_time": "2022-04-13T20:38:56.153Z"
   },
   {
    "duration": 2,
    "start_time": "2022-04-13T20:38:56.167Z"
   },
   {
    "duration": 15,
    "start_time": "2022-04-13T20:38:56.171Z"
   },
   {
    "duration": 6,
    "start_time": "2022-04-13T20:38:56.187Z"
   },
   {
    "duration": 10,
    "start_time": "2022-04-13T20:38:56.194Z"
   },
   {
    "duration": 53,
    "start_time": "2022-04-13T20:38:56.207Z"
   },
   {
    "duration": 4,
    "start_time": "2022-04-13T20:38:56.262Z"
   },
   {
    "duration": 7,
    "start_time": "2022-04-13T20:38:56.267Z"
   },
   {
    "duration": 5,
    "start_time": "2022-04-13T20:38:56.275Z"
   },
   {
    "duration": 6,
    "start_time": "2022-04-13T20:38:56.282Z"
   },
   {
    "duration": 6,
    "start_time": "2022-04-13T20:38:56.289Z"
   },
   {
    "duration": 12,
    "start_time": "2022-04-13T20:38:56.296Z"
   },
   {
    "duration": 39,
    "start_time": "2022-04-13T20:38:56.310Z"
   },
   {
    "duration": 5,
    "start_time": "2022-04-13T20:38:56.350Z"
   },
   {
    "duration": 16,
    "start_time": "2022-04-13T20:38:56.356Z"
   },
   {
    "duration": 86,
    "start_time": "2022-04-13T20:38:56.373Z"
   },
   {
    "duration": 0,
    "start_time": "2022-04-13T20:38:56.462Z"
   },
   {
    "duration": 0,
    "start_time": "2022-04-13T20:38:56.463Z"
   },
   {
    "duration": 1,
    "start_time": "2022-04-13T20:38:56.463Z"
   },
   {
    "duration": 0,
    "start_time": "2022-04-13T20:38:56.464Z"
   },
   {
    "duration": 0,
    "start_time": "2022-04-13T20:38:56.465Z"
   },
   {
    "duration": 0,
    "start_time": "2022-04-13T20:38:56.466Z"
   },
   {
    "duration": 0,
    "start_time": "2022-04-13T20:38:56.467Z"
   },
   {
    "duration": 0,
    "start_time": "2022-04-13T20:38:56.468Z"
   },
   {
    "duration": 0,
    "start_time": "2022-04-13T20:38:56.469Z"
   },
   {
    "duration": 0,
    "start_time": "2022-04-13T20:38:56.470Z"
   },
   {
    "duration": 0,
    "start_time": "2022-04-13T20:38:56.471Z"
   },
   {
    "duration": 0,
    "start_time": "2022-04-13T20:38:56.471Z"
   },
   {
    "duration": 0,
    "start_time": "2022-04-13T20:38:56.473Z"
   },
   {
    "duration": 0,
    "start_time": "2022-04-13T20:38:56.474Z"
   },
   {
    "duration": 0,
    "start_time": "2022-04-13T20:38:56.474Z"
   },
   {
    "duration": 0,
    "start_time": "2022-04-13T20:38:56.475Z"
   },
   {
    "duration": 0,
    "start_time": "2022-04-13T20:38:56.476Z"
   },
   {
    "duration": 0,
    "start_time": "2022-04-13T20:38:56.477Z"
   },
   {
    "duration": 0,
    "start_time": "2022-04-13T20:38:56.478Z"
   },
   {
    "duration": 0,
    "start_time": "2022-04-13T20:38:56.479Z"
   },
   {
    "duration": 50,
    "start_time": "2022-04-14T18:23:11.633Z"
   },
   {
    "duration": 429,
    "start_time": "2022-04-14T18:23:22.728Z"
   },
   {
    "duration": 83,
    "start_time": "2022-04-14T18:23:23.919Z"
   },
   {
    "duration": 17,
    "start_time": "2022-04-14T18:23:26.205Z"
   },
   {
    "duration": 34,
    "start_time": "2022-04-14T18:23:28.642Z"
   },
   {
    "duration": 11,
    "start_time": "2022-04-14T18:23:31.149Z"
   },
   {
    "duration": 9,
    "start_time": "2022-04-14T18:23:32.610Z"
   },
   {
    "duration": 5,
    "start_time": "2022-04-14T18:23:33.532Z"
   },
   {
    "duration": 14,
    "start_time": "2022-04-14T18:23:35.082Z"
   },
   {
    "duration": 6,
    "start_time": "2022-04-14T18:23:38.291Z"
   },
   {
    "duration": 9,
    "start_time": "2022-04-14T18:23:53.177Z"
   },
   {
    "duration": 9,
    "start_time": "2022-04-14T18:24:09.409Z"
   },
   {
    "duration": 8,
    "start_time": "2022-04-14T18:24:24.668Z"
   },
   {
    "duration": 152,
    "start_time": "2022-04-14T18:31:26.111Z"
   },
   {
    "duration": 2,
    "start_time": "2022-04-14T18:32:55.594Z"
   },
   {
    "duration": 80,
    "start_time": "2022-04-14T18:32:56.507Z"
   },
   {
    "duration": 75,
    "start_time": "2022-04-14T18:33:15.584Z"
   },
   {
    "duration": 8,
    "start_time": "2022-04-14T18:33:30.644Z"
   },
   {
    "duration": 8,
    "start_time": "2022-04-14T18:33:40.888Z"
   },
   {
    "duration": 411,
    "start_time": "2022-04-14T18:33:49.944Z"
   },
   {
    "duration": 82,
    "start_time": "2022-04-14T18:33:50.357Z"
   },
   {
    "duration": 19,
    "start_time": "2022-04-14T18:33:50.441Z"
   },
   {
    "duration": 37,
    "start_time": "2022-04-14T18:33:50.463Z"
   },
   {
    "duration": 39,
    "start_time": "2022-04-14T18:33:50.502Z"
   },
   {
    "duration": 7,
    "start_time": "2022-04-14T18:33:50.543Z"
   },
   {
    "duration": 5,
    "start_time": "2022-04-14T18:33:50.553Z"
   },
   {
    "duration": 18,
    "start_time": "2022-04-14T18:33:50.560Z"
   },
   {
    "duration": 15,
    "start_time": "2022-04-14T18:33:50.579Z"
   },
   {
    "duration": 37,
    "start_time": "2022-04-14T18:33:50.597Z"
   },
   {
    "duration": 9,
    "start_time": "2022-04-14T18:33:50.636Z"
   },
   {
    "duration": 94,
    "start_time": "2022-04-14T18:33:50.647Z"
   },
   {
    "duration": 7,
    "start_time": "2022-04-14T18:33:50.743Z"
   },
   {
    "duration": 8,
    "start_time": "2022-04-14T18:33:50.752Z"
   },
   {
    "duration": 23,
    "start_time": "2022-04-14T18:33:50.761Z"
   },
   {
    "duration": 5,
    "start_time": "2022-04-14T18:33:50.785Z"
   },
   {
    "duration": 50,
    "start_time": "2022-04-14T18:33:50.791Z"
   },
   {
    "duration": 7,
    "start_time": "2022-04-14T18:33:50.842Z"
   },
   {
    "duration": 6,
    "start_time": "2022-04-14T18:33:50.851Z"
   },
   {
    "duration": 7,
    "start_time": "2022-04-14T18:33:50.858Z"
   },
   {
    "duration": 16,
    "start_time": "2022-04-14T18:33:50.866Z"
   },
   {
    "duration": 9,
    "start_time": "2022-04-14T18:33:50.884Z"
   },
   {
    "duration": 9,
    "start_time": "2022-04-14T18:33:50.894Z"
   },
   {
    "duration": 39,
    "start_time": "2022-04-14T18:33:50.905Z"
   },
   {
    "duration": 71,
    "start_time": "2022-04-14T18:33:50.946Z"
   },
   {
    "duration": 0,
    "start_time": "2022-04-14T18:33:51.020Z"
   },
   {
    "duration": 0,
    "start_time": "2022-04-14T18:33:51.034Z"
   },
   {
    "duration": 0,
    "start_time": "2022-04-14T18:33:51.035Z"
   },
   {
    "duration": 0,
    "start_time": "2022-04-14T18:33:51.036Z"
   },
   {
    "duration": 0,
    "start_time": "2022-04-14T18:33:51.037Z"
   },
   {
    "duration": 0,
    "start_time": "2022-04-14T18:33:51.038Z"
   },
   {
    "duration": 0,
    "start_time": "2022-04-14T18:33:51.040Z"
   },
   {
    "duration": 0,
    "start_time": "2022-04-14T18:33:51.041Z"
   },
   {
    "duration": 0,
    "start_time": "2022-04-14T18:33:51.042Z"
   },
   {
    "duration": 0,
    "start_time": "2022-04-14T18:33:51.043Z"
   },
   {
    "duration": 0,
    "start_time": "2022-04-14T18:33:51.044Z"
   },
   {
    "duration": 0,
    "start_time": "2022-04-14T18:33:51.045Z"
   },
   {
    "duration": 0,
    "start_time": "2022-04-14T18:33:51.046Z"
   },
   {
    "duration": 0,
    "start_time": "2022-04-14T18:33:51.047Z"
   },
   {
    "duration": 0,
    "start_time": "2022-04-14T18:33:51.048Z"
   },
   {
    "duration": 0,
    "start_time": "2022-04-14T18:33:51.049Z"
   },
   {
    "duration": 0,
    "start_time": "2022-04-14T18:33:51.050Z"
   },
   {
    "duration": 0,
    "start_time": "2022-04-14T18:33:51.051Z"
   },
   {
    "duration": 0,
    "start_time": "2022-04-14T18:33:51.052Z"
   },
   {
    "duration": 0,
    "start_time": "2022-04-14T18:33:51.053Z"
   },
   {
    "duration": 73,
    "start_time": "2022-04-14T18:34:43.564Z"
   },
   {
    "duration": 74,
    "start_time": "2022-04-14T18:35:39.761Z"
   },
   {
    "duration": 77,
    "start_time": "2022-04-14T18:36:31.077Z"
   },
   {
    "duration": 75,
    "start_time": "2022-04-14T18:36:37.152Z"
   },
   {
    "duration": 7,
    "start_time": "2022-04-14T18:37:40.554Z"
   },
   {
    "duration": 82,
    "start_time": "2022-04-14T18:37:41.912Z"
   },
   {
    "duration": 79,
    "start_time": "2022-04-14T18:38:25.330Z"
   },
   {
    "duration": 67,
    "start_time": "2022-04-14T18:39:35.656Z"
   },
   {
    "duration": 6,
    "start_time": "2022-04-14T18:41:26.541Z"
   },
   {
    "duration": 75,
    "start_time": "2022-04-14T18:41:54.512Z"
   },
   {
    "duration": 5,
    "start_time": "2022-04-14T18:42:01.421Z"
   },
   {
    "duration": 413,
    "start_time": "2022-04-14T18:42:11.753Z"
   },
   {
    "duration": 84,
    "start_time": "2022-04-14T18:42:12.168Z"
   },
   {
    "duration": 19,
    "start_time": "2022-04-14T18:42:12.254Z"
   },
   {
    "duration": 37,
    "start_time": "2022-04-14T18:42:12.275Z"
   },
   {
    "duration": 24,
    "start_time": "2022-04-14T18:42:12.314Z"
   },
   {
    "duration": 9,
    "start_time": "2022-04-14T18:42:12.339Z"
   },
   {
    "duration": 5,
    "start_time": "2022-04-14T18:42:12.349Z"
   },
   {
    "duration": 21,
    "start_time": "2022-04-14T18:42:12.356Z"
   },
   {
    "duration": 13,
    "start_time": "2022-04-14T18:42:12.379Z"
   },
   {
    "duration": 4,
    "start_time": "2022-04-14T18:42:12.395Z"
   },
   {
    "duration": 38,
    "start_time": "2022-04-14T18:42:12.401Z"
   },
   {
    "duration": 99,
    "start_time": "2022-04-14T18:42:12.441Z"
   },
   {
    "duration": 4,
    "start_time": "2022-04-14T18:42:12.542Z"
   },
   {
    "duration": 10,
    "start_time": "2022-04-14T18:42:12.548Z"
   },
   {
    "duration": 8,
    "start_time": "2022-04-14T18:42:12.560Z"
   },
   {
    "duration": 23,
    "start_time": "2022-04-14T18:42:12.569Z"
   },
   {
    "duration": 4,
    "start_time": "2022-04-14T18:42:12.594Z"
   },
   {
    "duration": 34,
    "start_time": "2022-04-14T18:42:12.600Z"
   },
   {
    "duration": 5,
    "start_time": "2022-04-14T18:42:12.636Z"
   },
   {
    "duration": 11,
    "start_time": "2022-04-14T18:42:12.643Z"
   },
   {
    "duration": 6,
    "start_time": "2022-04-14T18:42:12.655Z"
   },
   {
    "duration": 15,
    "start_time": "2022-04-14T18:42:12.663Z"
   },
   {
    "duration": 9,
    "start_time": "2022-04-14T18:42:12.679Z"
   },
   {
    "duration": 5,
    "start_time": "2022-04-14T18:42:12.690Z"
   },
   {
    "duration": 50,
    "start_time": "2022-04-14T18:42:12.697Z"
   },
   {
    "duration": 18,
    "start_time": "2022-04-14T18:42:12.749Z"
   },
   {
    "duration": 13,
    "start_time": "2022-04-14T18:42:12.768Z"
   },
   {
    "duration": 19,
    "start_time": "2022-04-14T18:42:12.785Z"
   },
   {
    "duration": 66,
    "start_time": "2022-04-14T18:42:12.805Z"
   },
   {
    "duration": 14,
    "start_time": "2022-04-14T18:42:12.872Z"
   },
   {
    "duration": 13,
    "start_time": "2022-04-14T18:42:12.888Z"
   },
   {
    "duration": 44,
    "start_time": "2022-04-14T18:42:12.903Z"
   },
   {
    "duration": 5,
    "start_time": "2022-04-14T18:42:12.948Z"
   },
   {
    "duration": 20,
    "start_time": "2022-04-14T18:42:12.955Z"
   },
   {
    "duration": 6,
    "start_time": "2022-04-14T18:42:12.976Z"
   },
   {
    "duration": 8480,
    "start_time": "2022-04-14T18:42:12.983Z"
   },
   {
    "duration": 13,
    "start_time": "2022-04-14T18:42:21.465Z"
   },
   {
    "duration": 22,
    "start_time": "2022-04-14T18:42:21.480Z"
   },
   {
    "duration": 9,
    "start_time": "2022-04-14T18:42:21.504Z"
   },
   {
    "duration": 31,
    "start_time": "2022-04-14T18:42:21.514Z"
   },
   {
    "duration": 8,
    "start_time": "2022-04-14T18:42:21.546Z"
   },
   {
    "duration": 20,
    "start_time": "2022-04-14T18:42:21.556Z"
   },
   {
    "duration": 19,
    "start_time": "2022-04-14T18:42:21.578Z"
   },
   {
    "duration": 7,
    "start_time": "2022-04-14T18:42:21.599Z"
   },
   {
    "duration": 29,
    "start_time": "2022-04-14T18:42:21.608Z"
   },
   {
    "duration": 8,
    "start_time": "2022-04-14T18:42:21.638Z"
   },
   {
    "duration": 76,
    "start_time": "2022-04-14T18:44:20.443Z"
   },
   {
    "duration": 5,
    "start_time": "2022-04-14T18:44:26.222Z"
   },
   {
    "duration": 74,
    "start_time": "2022-04-14T18:45:15.192Z"
   },
   {
    "duration": 5,
    "start_time": "2022-04-14T18:45:18.653Z"
   },
   {
    "duration": 4,
    "start_time": "2022-04-14T18:45:23.347Z"
   },
   {
    "duration": 3,
    "start_time": "2022-04-14T18:46:06.157Z"
   },
   {
    "duration": 78,
    "start_time": "2022-04-14T18:46:07.842Z"
   },
   {
    "duration": 32,
    "start_time": "2022-04-14T18:46:13.299Z"
   },
   {
    "duration": 12,
    "start_time": "2022-04-14T18:46:16.549Z"
   },
   {
    "duration": 8,
    "start_time": "2022-04-14T18:46:18.976Z"
   },
   {
    "duration": 5,
    "start_time": "2022-04-14T18:46:22.333Z"
   },
   {
    "duration": 21,
    "start_time": "2022-04-14T18:46:24.956Z"
   },
   {
    "duration": 16,
    "start_time": "2022-04-14T18:46:27.186Z"
   },
   {
    "duration": 9,
    "start_time": "2022-04-14T18:46:30.388Z"
   },
   {
    "duration": 79,
    "start_time": "2022-04-14T18:46:33.242Z"
   },
   {
    "duration": 5,
    "start_time": "2022-04-14T18:46:41.465Z"
   },
   {
    "duration": 5,
    "start_time": "2022-04-14T18:52:33.668Z"
   },
   {
    "duration": 3,
    "start_time": "2022-04-14T18:53:19.365Z"
   },
   {
    "duration": 75,
    "start_time": "2022-04-14T18:53:19.370Z"
   },
   {
    "duration": 16,
    "start_time": "2022-04-14T18:53:19.447Z"
   },
   {
    "duration": 35,
    "start_time": "2022-04-14T18:53:19.465Z"
   },
   {
    "duration": 32,
    "start_time": "2022-04-14T18:53:19.502Z"
   },
   {
    "duration": 7,
    "start_time": "2022-04-14T18:53:19.537Z"
   },
   {
    "duration": 7,
    "start_time": "2022-04-14T18:53:19.546Z"
   },
   {
    "duration": 17,
    "start_time": "2022-04-14T18:53:19.555Z"
   },
   {
    "duration": 15,
    "start_time": "2022-04-14T18:53:19.574Z"
   },
   {
    "duration": 11,
    "start_time": "2022-04-14T18:53:19.591Z"
   },
   {
    "duration": 3,
    "start_time": "2022-04-14T18:53:19.633Z"
   },
   {
    "duration": 15,
    "start_time": "2022-04-14T18:53:19.639Z"
   },
   {
    "duration": 130,
    "start_time": "2022-04-14T18:53:19.657Z"
   },
   {
    "duration": 2,
    "start_time": "2022-04-14T18:55:24.400Z"
   },
   {
    "duration": 73,
    "start_time": "2022-04-14T18:55:24.406Z"
   },
   {
    "duration": 15,
    "start_time": "2022-04-14T18:55:24.481Z"
   },
   {
    "duration": 46,
    "start_time": "2022-04-14T18:55:24.497Z"
   },
   {
    "duration": 10,
    "start_time": "2022-04-14T18:55:24.545Z"
   },
   {
    "duration": 8,
    "start_time": "2022-04-14T18:55:24.557Z"
   },
   {
    "duration": 8,
    "start_time": "2022-04-14T18:55:24.566Z"
   },
   {
    "duration": 16,
    "start_time": "2022-04-14T18:55:24.576Z"
   },
   {
    "duration": 13,
    "start_time": "2022-04-14T18:55:24.593Z"
   },
   {
    "duration": 5,
    "start_time": "2022-04-14T18:55:24.634Z"
   },
   {
    "duration": 7,
    "start_time": "2022-04-14T18:55:24.642Z"
   },
   {
    "duration": 14,
    "start_time": "2022-04-14T18:55:29.122Z"
   },
   {
    "duration": 8,
    "start_time": "2022-04-14T18:57:06.617Z"
   },
   {
    "duration": 76,
    "start_time": "2022-04-14T18:57:09.063Z"
   },
   {
    "duration": 5,
    "start_time": "2022-04-14T18:57:11.801Z"
   },
   {
    "duration": 3,
    "start_time": "2022-04-14T18:58:36.730Z"
   },
   {
    "duration": 82,
    "start_time": "2022-04-14T18:58:36.735Z"
   },
   {
    "duration": 15,
    "start_time": "2022-04-14T18:58:36.819Z"
   },
   {
    "duration": 32,
    "start_time": "2022-04-14T18:58:36.836Z"
   },
   {
    "duration": 10,
    "start_time": "2022-04-14T18:58:36.871Z"
   },
   {
    "duration": 7,
    "start_time": "2022-04-14T18:58:36.883Z"
   },
   {
    "duration": 5,
    "start_time": "2022-04-14T18:58:36.891Z"
   },
   {
    "duration": 44,
    "start_time": "2022-04-14T18:58:36.897Z"
   },
   {
    "duration": 17,
    "start_time": "2022-04-14T18:58:36.943Z"
   },
   {
    "duration": 2,
    "start_time": "2022-04-14T18:58:36.962Z"
   },
   {
    "duration": 13,
    "start_time": "2022-04-14T18:58:36.966Z"
   },
   {
    "duration": 99,
    "start_time": "2022-04-14T18:58:36.980Z"
   },
   {
    "duration": 5,
    "start_time": "2022-04-14T18:58:37.081Z"
   },
   {
    "duration": 6,
    "start_time": "2022-04-14T19:03:05.715Z"
   },
   {
    "duration": 7,
    "start_time": "2022-04-14T19:03:08.730Z"
   },
   {
    "duration": 9,
    "start_time": "2022-04-14T19:03:18.265Z"
   },
   {
    "duration": 128,
    "start_time": "2022-04-14T19:46:35.278Z"
   },
   {
    "duration": 19,
    "start_time": "2022-04-14T19:46:48.817Z"
   },
   {
    "duration": 21,
    "start_time": "2022-04-14T19:46:58.111Z"
   },
   {
    "duration": 2,
    "start_time": "2022-04-14T19:47:14.490Z"
   },
   {
    "duration": 83,
    "start_time": "2022-04-14T19:47:14.494Z"
   },
   {
    "duration": 15,
    "start_time": "2022-04-14T19:47:14.579Z"
   },
   {
    "duration": 49,
    "start_time": "2022-04-14T19:47:14.596Z"
   },
   {
    "duration": 10,
    "start_time": "2022-04-14T19:47:14.647Z"
   },
   {
    "duration": 7,
    "start_time": "2022-04-14T19:47:14.658Z"
   },
   {
    "duration": 7,
    "start_time": "2022-04-14T19:47:14.666Z"
   },
   {
    "duration": 14,
    "start_time": "2022-04-14T19:47:14.675Z"
   },
   {
    "duration": 46,
    "start_time": "2022-04-14T19:47:14.692Z"
   },
   {
    "duration": 3,
    "start_time": "2022-04-14T19:47:14.740Z"
   },
   {
    "duration": 13,
    "start_time": "2022-04-14T19:47:14.744Z"
   },
   {
    "duration": 102,
    "start_time": "2022-04-14T19:47:14.759Z"
   },
   {
    "duration": 5,
    "start_time": "2022-04-14T19:47:14.862Z"
   },
   {
    "duration": 8,
    "start_time": "2022-04-14T19:47:14.868Z"
   },
   {
    "duration": 9,
    "start_time": "2022-04-14T19:47:14.878Z"
   },
   {
    "duration": 46,
    "start_time": "2022-04-14T19:47:14.888Z"
   },
   {
    "duration": 22,
    "start_time": "2022-04-14T19:47:36.156Z"
   },
   {
    "duration": 5,
    "start_time": "2022-04-14T19:50:40.440Z"
   },
   {
    "duration": 71,
    "start_time": "2022-04-14T19:54:43.027Z"
   },
   {
    "duration": 6,
    "start_time": "2022-04-14T19:54:48.065Z"
   },
   {
    "duration": 6,
    "start_time": "2022-04-14T19:54:56.724Z"
   },
   {
    "duration": 7,
    "start_time": "2022-04-14T19:55:01.528Z"
   },
   {
    "duration": 8,
    "start_time": "2022-04-14T19:55:15.740Z"
   },
   {
    "duration": 9,
    "start_time": "2022-04-14T19:55:23.166Z"
   },
   {
    "duration": 6,
    "start_time": "2022-04-14T19:55:31.768Z"
   },
   {
    "duration": 17,
    "start_time": "2022-04-14T19:57:14.882Z"
   },
   {
    "duration": 471,
    "start_time": "2022-04-14T20:02:35.313Z"
   },
   {
    "duration": 84,
    "start_time": "2022-04-14T20:02:35.786Z"
   },
   {
    "duration": 16,
    "start_time": "2022-04-14T20:02:35.872Z"
   },
   {
    "duration": 45,
    "start_time": "2022-04-14T20:02:35.890Z"
   },
   {
    "duration": 11,
    "start_time": "2022-04-14T20:02:35.937Z"
   },
   {
    "duration": 9,
    "start_time": "2022-04-14T20:02:35.950Z"
   },
   {
    "duration": 4,
    "start_time": "2022-04-14T20:02:35.961Z"
   },
   {
    "duration": 16,
    "start_time": "2022-04-14T20:02:35.967Z"
   },
   {
    "duration": 53,
    "start_time": "2022-04-14T20:02:35.985Z"
   },
   {
    "duration": 2,
    "start_time": "2022-04-14T20:02:36.042Z"
   },
   {
    "duration": 18,
    "start_time": "2022-04-14T20:02:36.046Z"
   },
   {
    "duration": 104,
    "start_time": "2022-04-14T20:02:36.066Z"
   },
   {
    "duration": 4,
    "start_time": "2022-04-14T20:02:36.172Z"
   },
   {
    "duration": 10,
    "start_time": "2022-04-14T20:02:36.178Z"
   },
   {
    "duration": 8,
    "start_time": "2022-04-14T20:02:36.190Z"
   },
   {
    "duration": 44,
    "start_time": "2022-04-14T20:02:36.200Z"
   },
   {
    "duration": 24,
    "start_time": "2022-04-14T20:02:36.246Z"
   },
   {
    "duration": 5,
    "start_time": "2022-04-14T20:02:36.271Z"
   },
   {
    "duration": 10,
    "start_time": "2022-04-14T20:02:36.277Z"
   },
   {
    "duration": 5,
    "start_time": "2022-04-14T20:02:36.289Z"
   },
   {
    "duration": 40,
    "start_time": "2022-04-14T20:02:36.296Z"
   },
   {
    "duration": 6,
    "start_time": "2022-04-14T20:02:36.338Z"
   },
   {
    "duration": 19,
    "start_time": "2022-04-14T20:02:36.347Z"
   },
   {
    "duration": 13,
    "start_time": "2022-04-14T20:02:36.368Z"
   },
   {
    "duration": 6,
    "start_time": "2022-04-14T20:02:36.383Z"
   },
   {
    "duration": 23,
    "start_time": "2022-04-14T20:02:36.391Z"
   },
   {
    "duration": 7,
    "start_time": "2022-04-14T20:02:36.434Z"
   },
   {
    "duration": 30,
    "start_time": "2022-04-14T20:02:36.445Z"
   },
   {
    "duration": 16,
    "start_time": "2022-04-14T20:02:36.477Z"
   },
   {
    "duration": 22,
    "start_time": "2022-04-14T20:02:36.495Z"
   },
   {
    "duration": 50,
    "start_time": "2022-04-14T20:02:36.519Z"
   },
   {
    "duration": 14,
    "start_time": "2022-04-14T20:02:36.570Z"
   },
   {
    "duration": 14,
    "start_time": "2022-04-14T20:02:36.586Z"
   },
   {
    "duration": 44,
    "start_time": "2022-04-14T20:02:36.602Z"
   },
   {
    "duration": 5,
    "start_time": "2022-04-14T20:02:36.648Z"
   },
   {
    "duration": 24,
    "start_time": "2022-04-14T20:02:36.654Z"
   },
   {
    "duration": 7,
    "start_time": "2022-04-14T20:02:36.681Z"
   },
   {
    "duration": 8025,
    "start_time": "2022-04-14T20:02:36.691Z"
   },
   {
    "duration": 19,
    "start_time": "2022-04-14T20:02:44.717Z"
   },
   {
    "duration": 19,
    "start_time": "2022-04-14T20:02:44.737Z"
   },
   {
    "duration": 9,
    "start_time": "2022-04-14T20:02:44.758Z"
   },
   {
    "duration": 20,
    "start_time": "2022-04-14T20:02:44.769Z"
   },
   {
    "duration": 8,
    "start_time": "2022-04-14T20:02:44.790Z"
   },
   {
    "duration": 36,
    "start_time": "2022-04-14T20:02:44.799Z"
   },
   {
    "duration": 26,
    "start_time": "2022-04-14T20:02:44.837Z"
   },
   {
    "duration": 9,
    "start_time": "2022-04-14T20:02:44.865Z"
   },
   {
    "duration": 21,
    "start_time": "2022-04-14T20:02:44.875Z"
   },
   {
    "duration": 8,
    "start_time": "2022-04-14T20:02:44.898Z"
   },
   {
    "duration": 18,
    "start_time": "2022-04-14T20:11:13.389Z"
   },
   {
    "duration": 17,
    "start_time": "2022-04-14T20:11:20.981Z"
   },
   {
    "duration": 2,
    "start_time": "2022-04-14T20:11:29.240Z"
   },
   {
    "duration": 83,
    "start_time": "2022-04-14T20:11:29.244Z"
   },
   {
    "duration": 15,
    "start_time": "2022-04-14T20:11:29.329Z"
   },
   {
    "duration": 34,
    "start_time": "2022-04-14T20:11:29.345Z"
   },
   {
    "duration": 11,
    "start_time": "2022-04-14T20:11:29.381Z"
   },
   {
    "duration": 6,
    "start_time": "2022-04-14T20:11:29.394Z"
   },
   {
    "duration": 5,
    "start_time": "2022-04-14T20:11:29.433Z"
   },
   {
    "duration": 22,
    "start_time": "2022-04-14T20:11:29.439Z"
   },
   {
    "duration": 14,
    "start_time": "2022-04-14T20:11:29.463Z"
   },
   {
    "duration": 8,
    "start_time": "2022-04-14T20:11:29.478Z"
   },
   {
    "duration": 11,
    "start_time": "2022-04-14T20:11:29.488Z"
   },
   {
    "duration": 101,
    "start_time": "2022-04-14T20:11:29.500Z"
   },
   {
    "duration": 4,
    "start_time": "2022-04-14T20:11:29.603Z"
   },
   {
    "duration": 26,
    "start_time": "2022-04-14T20:11:29.609Z"
   },
   {
    "duration": 11,
    "start_time": "2022-04-14T20:11:29.636Z"
   },
   {
    "duration": 19,
    "start_time": "2022-04-14T20:11:29.648Z"
   },
   {
    "duration": 23,
    "start_time": "2022-04-14T20:11:29.668Z"
   },
   {
    "duration": 4,
    "start_time": "2022-04-14T20:11:29.693Z"
   },
   {
    "duration": 40,
    "start_time": "2022-04-14T20:11:29.698Z"
   },
   {
    "duration": 7,
    "start_time": "2022-04-14T20:11:29.739Z"
   },
   {
    "duration": 7,
    "start_time": "2022-04-14T20:11:29.748Z"
   },
   {
    "duration": 7,
    "start_time": "2022-04-14T20:11:29.757Z"
   },
   {
    "duration": 14,
    "start_time": "2022-04-14T20:11:29.766Z"
   },
   {
    "duration": 8,
    "start_time": "2022-04-14T20:11:29.782Z"
   },
   {
    "duration": 5,
    "start_time": "2022-04-14T20:11:29.791Z"
   },
   {
    "duration": 51,
    "start_time": "2022-04-14T20:11:29.797Z"
   },
   {
    "duration": 6,
    "start_time": "2022-04-14T20:11:29.850Z"
   },
   {
    "duration": 18,
    "start_time": "2022-04-14T20:11:29.858Z"
   },
   {
    "duration": 13,
    "start_time": "2022-04-14T20:11:29.879Z"
   },
   {
    "duration": 19,
    "start_time": "2022-04-14T20:11:32.526Z"
   },
   {
    "duration": 18,
    "start_time": "2022-04-14T20:11:39.077Z"
   },
   {
    "duration": 19,
    "start_time": "2022-04-14T20:11:52.403Z"
   },
   {
    "duration": 18,
    "start_time": "2022-04-14T20:11:58.052Z"
   },
   {
    "duration": 132,
    "start_time": "2022-04-14T20:15:32.676Z"
   },
   {
    "duration": 19,
    "start_time": "2022-04-14T20:15:42.800Z"
   },
   {
    "duration": 87,
    "start_time": "2022-04-14T20:16:21.015Z"
   },
   {
    "duration": 32,
    "start_time": "2022-04-14T20:16:29.629Z"
   },
   {
    "duration": 136,
    "start_time": "2022-04-14T20:17:12.786Z"
   },
   {
    "duration": 32,
    "start_time": "2022-04-14T20:17:25.552Z"
   },
   {
    "duration": 17,
    "start_time": "2022-04-14T20:17:58.303Z"
   },
   {
    "duration": 398,
    "start_time": "2022-04-14T20:31:22.456Z"
   },
   {
    "duration": 93,
    "start_time": "2022-04-14T20:31:22.856Z"
   },
   {
    "duration": 15,
    "start_time": "2022-04-14T20:31:22.950Z"
   },
   {
    "duration": 34,
    "start_time": "2022-04-14T20:31:22.968Z"
   },
   {
    "duration": 11,
    "start_time": "2022-04-14T20:31:23.003Z"
   },
   {
    "duration": 7,
    "start_time": "2022-04-14T20:31:23.034Z"
   },
   {
    "duration": 6,
    "start_time": "2022-04-14T20:31:23.043Z"
   },
   {
    "duration": 17,
    "start_time": "2022-04-14T20:31:23.050Z"
   },
   {
    "duration": 14,
    "start_time": "2022-04-14T20:31:23.068Z"
   },
   {
    "duration": 13,
    "start_time": "2022-04-14T20:31:23.085Z"
   },
   {
    "duration": 35,
    "start_time": "2022-04-14T20:31:23.100Z"
   },
   {
    "duration": 78,
    "start_time": "2022-04-14T20:31:23.137Z"
   },
   {
    "duration": 5,
    "start_time": "2022-04-14T20:31:23.234Z"
   },
   {
    "duration": 9,
    "start_time": "2022-04-14T20:31:23.241Z"
   },
   {
    "duration": 9,
    "start_time": "2022-04-14T20:31:23.252Z"
   },
   {
    "duration": 18,
    "start_time": "2022-04-14T20:31:23.262Z"
   },
   {
    "duration": 51,
    "start_time": "2022-04-14T20:31:23.282Z"
   },
   {
    "duration": 5,
    "start_time": "2022-04-14T20:31:23.335Z"
   },
   {
    "duration": 8,
    "start_time": "2022-04-14T20:31:23.341Z"
   },
   {
    "duration": 7,
    "start_time": "2022-04-14T20:31:23.351Z"
   },
   {
    "duration": 8,
    "start_time": "2022-04-14T20:31:23.360Z"
   },
   {
    "duration": 5,
    "start_time": "2022-04-14T20:31:23.370Z"
   },
   {
    "duration": 15,
    "start_time": "2022-04-14T20:31:23.376Z"
   },
   {
    "duration": 7,
    "start_time": "2022-04-14T20:31:23.393Z"
   },
   {
    "duration": 4,
    "start_time": "2022-04-14T20:31:23.434Z"
   },
   {
    "duration": 18,
    "start_time": "2022-04-14T20:31:23.440Z"
   },
   {
    "duration": 5,
    "start_time": "2022-04-14T20:31:23.459Z"
   },
   {
    "duration": 17,
    "start_time": "2022-04-14T20:31:23.468Z"
   },
   {
    "duration": 12,
    "start_time": "2022-04-14T20:31:23.486Z"
   },
   {
    "duration": 50,
    "start_time": "2022-04-14T20:31:23.500Z"
   },
   {
    "duration": 36,
    "start_time": "2022-04-14T20:31:23.552Z"
   },
   {
    "duration": 12,
    "start_time": "2022-04-14T20:31:23.590Z"
   },
   {
    "duration": 39,
    "start_time": "2022-04-14T20:31:23.604Z"
   },
   {
    "duration": 13,
    "start_time": "2022-04-14T20:31:23.645Z"
   },
   {
    "duration": 7,
    "start_time": "2022-04-14T20:31:23.660Z"
   },
   {
    "duration": 23,
    "start_time": "2022-04-14T20:31:23.668Z"
   },
   {
    "duration": 10,
    "start_time": "2022-04-14T20:31:23.692Z"
   },
   {
    "duration": 7737,
    "start_time": "2022-04-14T20:31:23.703Z"
   },
   {
    "duration": 14,
    "start_time": "2022-04-14T20:31:31.442Z"
   },
   {
    "duration": 65,
    "start_time": "2022-04-14T20:31:31.458Z"
   },
   {
    "duration": 10,
    "start_time": "2022-04-14T20:31:31.525Z"
   },
   {
    "duration": 25,
    "start_time": "2022-04-14T20:31:31.536Z"
   },
   {
    "duration": 8,
    "start_time": "2022-04-14T20:31:31.563Z"
   },
   {
    "duration": 14,
    "start_time": "2022-04-14T20:31:31.573Z"
   },
   {
    "duration": 26,
    "start_time": "2022-04-14T20:31:31.589Z"
   },
   {
    "duration": 8,
    "start_time": "2022-04-14T20:31:31.617Z"
   },
   {
    "duration": 29,
    "start_time": "2022-04-14T20:31:31.626Z"
   },
   {
    "duration": 9,
    "start_time": "2022-04-14T20:31:31.657Z"
   },
   {
    "duration": 365,
    "start_time": "2022-04-15T06:46:21.179Z"
   },
   {
    "duration": 63,
    "start_time": "2022-04-15T06:46:21.546Z"
   },
   {
    "duration": 17,
    "start_time": "2022-04-15T06:46:21.611Z"
   },
   {
    "duration": 27,
    "start_time": "2022-04-15T06:46:21.630Z"
   },
   {
    "duration": 8,
    "start_time": "2022-04-15T06:46:21.659Z"
   },
   {
    "duration": 8,
    "start_time": "2022-04-15T06:46:21.669Z"
   },
   {
    "duration": 3,
    "start_time": "2022-04-15T06:46:21.679Z"
   },
   {
    "duration": 40,
    "start_time": "2022-04-15T06:46:21.684Z"
   },
   {
    "duration": 12,
    "start_time": "2022-04-15T06:46:21.725Z"
   },
   {
    "duration": 3,
    "start_time": "2022-04-15T06:46:21.739Z"
   },
   {
    "duration": 9,
    "start_time": "2022-04-15T06:46:21.744Z"
   },
   {
    "duration": 75,
    "start_time": "2022-04-15T06:46:21.755Z"
   },
   {
    "duration": 3,
    "start_time": "2022-04-15T06:46:21.832Z"
   },
   {
    "duration": 8,
    "start_time": "2022-04-15T06:46:21.837Z"
   },
   {
    "duration": 6,
    "start_time": "2022-04-15T06:46:21.847Z"
   },
   {
    "duration": 15,
    "start_time": "2022-04-15T06:46:21.855Z"
   },
   {
    "duration": 52,
    "start_time": "2022-04-15T06:46:21.872Z"
   },
   {
    "duration": 4,
    "start_time": "2022-04-15T06:46:21.926Z"
   },
   {
    "duration": 6,
    "start_time": "2022-04-15T06:46:21.932Z"
   },
   {
    "duration": 6,
    "start_time": "2022-04-15T06:46:21.939Z"
   },
   {
    "duration": 6,
    "start_time": "2022-04-15T06:46:21.947Z"
   },
   {
    "duration": 5,
    "start_time": "2022-04-15T06:46:21.955Z"
   },
   {
    "duration": 11,
    "start_time": "2022-04-15T06:46:21.961Z"
   },
   {
    "duration": 6,
    "start_time": "2022-04-15T06:46:21.974Z"
   },
   {
    "duration": 42,
    "start_time": "2022-04-15T06:46:21.982Z"
   },
   {
    "duration": 16,
    "start_time": "2022-04-15T06:46:22.026Z"
   },
   {
    "duration": 7,
    "start_time": "2022-04-15T06:46:22.044Z"
   },
   {
    "duration": 14,
    "start_time": "2022-04-15T06:46:22.054Z"
   },
   {
    "duration": 10,
    "start_time": "2022-04-15T06:46:22.070Z"
   },
   {
    "duration": 43,
    "start_time": "2022-04-15T06:46:22.081Z"
   },
   {
    "duration": 31,
    "start_time": "2022-04-15T06:46:22.126Z"
   },
   {
    "duration": 10,
    "start_time": "2022-04-15T06:46:22.158Z"
   },
   {
    "duration": 9,
    "start_time": "2022-04-15T06:46:22.170Z"
   },
   {
    "duration": 11,
    "start_time": "2022-04-15T06:46:22.180Z"
   },
   {
    "duration": 3,
    "start_time": "2022-04-15T06:46:22.224Z"
   },
   {
    "duration": 20,
    "start_time": "2022-04-15T06:46:22.228Z"
   },
   {
    "duration": 16,
    "start_time": "2022-04-15T06:46:22.249Z"
   },
   {
    "duration": 7820,
    "start_time": "2022-04-15T06:46:22.267Z"
   },
   {
    "duration": 11,
    "start_time": "2022-04-15T06:46:30.089Z"
   },
   {
    "duration": 34,
    "start_time": "2022-04-15T06:46:30.101Z"
   },
   {
    "duration": 15,
    "start_time": "2022-04-15T06:46:30.137Z"
   },
   {
    "duration": 30,
    "start_time": "2022-04-15T06:46:30.154Z"
   },
   {
    "duration": 19,
    "start_time": "2022-04-15T06:46:30.185Z"
   },
   {
    "duration": 31,
    "start_time": "2022-04-15T06:46:30.206Z"
   },
   {
    "duration": 17,
    "start_time": "2022-04-15T06:46:30.239Z"
   },
   {
    "duration": 11,
    "start_time": "2022-04-15T06:46:30.257Z"
   },
   {
    "duration": 18,
    "start_time": "2022-04-15T06:46:30.269Z"
   },
   {
    "duration": 8,
    "start_time": "2022-04-15T06:46:30.289Z"
   }
  ],
  "kernelspec": {
   "display_name": "Python 3 (ipykernel)",
   "language": "python",
   "name": "python3"
  },
  "language_info": {
   "codemirror_mode": {
    "name": "ipython",
    "version": 3
   },
   "file_extension": ".py",
   "mimetype": "text/x-python",
   "name": "python",
   "nbconvert_exporter": "python",
   "pygments_lexer": "ipython3",
   "version": "3.10.1"
  },
  "toc": {
   "base_numbering": 1,
   "nav_menu": {},
   "number_sections": true,
   "sideBar": true,
   "skip_h1_title": true,
   "title_cell": "Table of Contents",
   "title_sidebar": "Contents",
   "toc_cell": false,
   "toc_position": {
    "height": "calc(100% - 180px)",
    "left": "10px",
    "top": "150px",
    "width": "196px"
   },
   "toc_section_display": true,
   "toc_window_display": true
  }
 },
 "nbformat": 4,
 "nbformat_minor": 5
}
