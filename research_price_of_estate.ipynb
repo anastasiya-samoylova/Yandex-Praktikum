{
 "cells": [
  {
   "cell_type": "markdown",
   "metadata": {
    "toc": true
   },
   "source": [
    "<h1>Содержание<span class=\"tocSkip\"></span></h1>\n",
    "<div class=\"toc\"><ul class=\"toc-item\"><li><span><a href=\"#Описание-данных\" data-toc-modified-id=\"Описание-данных-1\"><span class=\"toc-item-num\">1&nbsp;&nbsp;</span>Описание данных</a></span></li><li><span><a href=\"#Изучение-данных-из-файла\" data-toc-modified-id=\"Изучение-данных-из-файла-2\"><span class=\"toc-item-num\">2&nbsp;&nbsp;</span>Изучение данных из файла</a></span><ul class=\"toc-item\"><li><span><a href=\"#Вывод\" data-toc-modified-id=\"Вывод-2.1\"><span class=\"toc-item-num\">2.1&nbsp;&nbsp;</span>Вывод</a></span></li></ul></li><li><span><a href=\"#Предобработка-данных\" data-toc-modified-id=\"Предобработка-данных-3\"><span class=\"toc-item-num\">3&nbsp;&nbsp;</span>Предобработка данных</a></span><ul class=\"toc-item\"><li><span><a href=\"#Вывод\" data-toc-modified-id=\"Вывод-3.1\"><span class=\"toc-item-num\">3.1&nbsp;&nbsp;</span>Вывод</a></span></li></ul></li><li><span><a href=\"#Расчёты-и-добавление-результатов-в-таблицу\" data-toc-modified-id=\"Расчёты-и-добавление-результатов-в-таблицу-4\"><span class=\"toc-item-num\">4&nbsp;&nbsp;</span>Расчёты и добавление результатов в таблицу</a></span><ul class=\"toc-item\"><li><span><a href=\"#Вывод\" data-toc-modified-id=\"Вывод-4.1\"><span class=\"toc-item-num\">4.1&nbsp;&nbsp;</span>Вывод</a></span></li></ul></li><li><span><a href=\"#Исследовательский-анализ-данных\" data-toc-modified-id=\"Исследовательский-анализ-данных-5\"><span class=\"toc-item-num\">5&nbsp;&nbsp;</span>Исследовательский анализ данных</a></span><ul class=\"toc-item\"><li><span><a href=\"#Изучение-параметров\" data-toc-modified-id=\"Изучение-параметров-5.1\"><span class=\"toc-item-num\">5.1&nbsp;&nbsp;</span>Изучение параметров</a></span><ul class=\"toc-item\"><li><span><a href=\"#Площадь\" data-toc-modified-id=\"Площадь-5.1.1\"><span class=\"toc-item-num\">5.1.1&nbsp;&nbsp;</span>Площадь</a></span></li><li><span><a href=\"#Цена\" data-toc-modified-id=\"Цена-5.1.2\"><span class=\"toc-item-num\">5.1.2&nbsp;&nbsp;</span>Цена</a></span></li><li><span><a href=\"#Число-комнат\" data-toc-modified-id=\"Число-комнат-5.1.3\"><span class=\"toc-item-num\">5.1.3&nbsp;&nbsp;</span>Число комнат</a></span></li><li><span><a href=\"#Высота-потолков\" data-toc-modified-id=\"Высота-потолков-5.1.4\"><span class=\"toc-item-num\">5.1.4&nbsp;&nbsp;</span>Высота потолков</a></span></li><li><span><a href=\"#Вывод\" data-toc-modified-id=\"Вывод-5.1.5\"><span class=\"toc-item-num\">5.1.5&nbsp;&nbsp;</span>Вывод</a></span></li></ul></li><li><span><a href=\"#Время-продажи-квартир\" data-toc-modified-id=\"Время-продажи-квартир-5.2\"><span class=\"toc-item-num\">5.2&nbsp;&nbsp;</span>Время продажи квартир</a></span><ul class=\"toc-item\"><li><span><a href=\"#Вывод\" data-toc-modified-id=\"Вывод-5.2.1\"><span class=\"toc-item-num\">5.2.1&nbsp;&nbsp;</span>Вывод</a></span></li></ul></li><li><span><a href=\"#Факторы-влияющие-на-стоимость-квартиры\" data-toc-modified-id=\"Факторы-влияющие-на-стоимость-квартиры-5.3\"><span class=\"toc-item-num\">5.3&nbsp;&nbsp;</span>Факторы влияющие на стоимость квартиры</a></span><ul class=\"toc-item\"><li><span><a href=\"#Изучим-зависимость-цены-квадратного-метра-от-общей-площади-квартиры\" data-toc-modified-id=\"Изучим-зависимость-цены-квадратного-метра-от-общей-площади-квартиры-5.3.1\"><span class=\"toc-item-num\">5.3.1&nbsp;&nbsp;</span>Изучим зависимость цены квадратного метра от общей площади квартиры</a></span></li><li><span><a href=\"#Изучим-зависимость-цены-квадратного-метра-от-числа-комнат\" data-toc-modified-id=\"Изучим-зависимость-цены-квадратного-метра-от-числа-комнат-5.3.2\"><span class=\"toc-item-num\">5.3.2&nbsp;&nbsp;</span>Изучим зависимость цены квадратного метра от числа комнат</a></span></li><li><span><a href=\"#Изучим-зависимость-цены-квадратного-метра-от-этажа\" data-toc-modified-id=\"Изучим-зависимость-цены-квадратного-метра-от-этажа-5.3.3\"><span class=\"toc-item-num\">5.3.3&nbsp;&nbsp;</span>Изучим зависимость цены квадратного метра от этажа</a></span></li><li><span><a href=\"#Изучим-зависимость-цены-квадратного-метра-от-удалённости-от-центра\" data-toc-modified-id=\"Изучим-зависимость-цены-квадратного-метра-от-удалённости-от-центра-5.3.4\"><span class=\"toc-item-num\">5.3.4&nbsp;&nbsp;</span>Изучим зависимость цены квадратного метра от удалённости от центра</a></span></li><li><span><a href=\"#Изучим-зависимость-цены-квадратного-метра-от-даты-размещения:-день-недели\" data-toc-modified-id=\"Изучим-зависимость-цены-квадратного-метра-от-даты-размещения:-день-недели-5.3.5\"><span class=\"toc-item-num\">5.3.5&nbsp;&nbsp;</span>Изучим зависимость цены квадратного метра от даты размещения: день недели</a></span></li><li><span><a href=\"#Изучим-зависимость-цены-квадратного-метра-от-даты-размещения:-месяц\" data-toc-modified-id=\"Изучим-зависимость-цены-квадратного-метра-от-даты-размещения:-месяц-5.3.6\"><span class=\"toc-item-num\">5.3.6&nbsp;&nbsp;</span>Изучим зависимость цены квадратного метра от даты размещения: месяц</a></span></li><li><span><a href=\"#Изучим-зависимость-цены-квадратного-метра-от-даты-размещения:-год\" data-toc-modified-id=\"Изучим-зависимость-цены-квадратного-метра-от-даты-размещения:-год-5.3.7\"><span class=\"toc-item-num\">5.3.7&nbsp;&nbsp;</span>Изучим зависимость цены квадратного метра от даты размещения: год</a></span></li></ul></li></ul></li><li><span><a href=\"#10-населённых-пунктов-с-наибольшим-числом-объявлений\" data-toc-modified-id=\"10-населённых-пунктов-с-наибольшим-числом-объявлений-6\"><span class=\"toc-item-num\">6&nbsp;&nbsp;</span>10 населённых пунктов с наибольшим числом объявлений</a></span></li><li><span><a href=\"#Выделение-центра-Санкт-Петербурга\" data-toc-modified-id=\"Выделение-центра-Санкт-Петербурга-7\"><span class=\"toc-item-num\">7&nbsp;&nbsp;</span>Выделение центра Санкт-Петербурга</a></span></li><li><span><a href=\"#Анализ-квартир-в-центре\" data-toc-modified-id=\"Анализ-квартир-в-центре-8\"><span class=\"toc-item-num\">8&nbsp;&nbsp;</span>Анализ квартир в центре</a></span><ul class=\"toc-item\"><li><span><a href=\"#Зависимость-стоимости-квадратного-метра-от-площади.\" data-toc-modified-id=\"Зависимость-стоимости-квадратного-метра-от-площади.-8.1\"><span class=\"toc-item-num\">8.1&nbsp;&nbsp;</span>Зависимость стоимости квадратного метра от площади.</a></span></li><li><span><a href=\"#Зависимость-стоимости-квадратного-метра-от-количества-комнат.\" data-toc-modified-id=\"Зависимость-стоимости-квадратного-метра-от-количества-комнат.-8.2\"><span class=\"toc-item-num\">8.2&nbsp;&nbsp;</span>Зависимость стоимости квадратного метра от количества комнат.</a></span></li><li><span><a href=\"#Зависимость-стоимости-квадратного-метра-от-этажа.\" data-toc-modified-id=\"Зависимость-стоимости-квадратного-метра-от-этажа.-8.3\"><span class=\"toc-item-num\">8.3&nbsp;&nbsp;</span>Зависимость стоимости квадратного метра от этажа.</a></span></li><li><span><a href=\"#Зависимость-стоимости-квадратного-метра-от-удаленности-от-центра.\" data-toc-modified-id=\"Зависимость-стоимости-квадратного-метра-от-удаленности-от-центра.-8.4\"><span class=\"toc-item-num\">8.4&nbsp;&nbsp;</span>Зависимость стоимости квадратного метра от удаленности от центра.</a></span></li><li><span><a href=\"#Зависимость-стоимости-квадратного-метра-от-дня-недели-размещения-объявления.\" data-toc-modified-id=\"Зависимость-стоимости-квадратного-метра-от-дня-недели-размещения-объявления.-8.5\"><span class=\"toc-item-num\">8.5&nbsp;&nbsp;</span>Зависимость стоимости квадратного метра от дня недели размещения объявления.</a></span></li><li><span><a href=\"#Зависимость-стоимости-квадратного-метра-от-месяца-размещения-объявления.\" data-toc-modified-id=\"Зависимость-стоимости-квадратного-метра-от-месяца-размещения-объявления.-8.6\"><span class=\"toc-item-num\">8.6&nbsp;&nbsp;</span>Зависимость стоимости квадратного метра от месяца размещения объявления.</a></span></li><li><span><a href=\"#Зависимость-стоимости-квадратного-метра-от-года-размещения-объявления.\" data-toc-modified-id=\"Зависимость-стоимости-квадратного-метра-от-года-размещения-объявления.-8.7\"><span class=\"toc-item-num\">8.7&nbsp;&nbsp;</span>Зависимость стоимости квадратного метра от года размещения объявления.</a></span></li></ul></li><li><span><a href=\"#Общий-вывод\" data-toc-modified-id=\"Общий-вывод-9\"><span class=\"toc-item-num\">9&nbsp;&nbsp;</span>Общий вывод</a></span></li></ul></div>"
   ]
  },
  {
   "cell_type": "markdown",
   "metadata": {},
   "source": [
    "# Исследование объявлений о продаже квартир\n",
    "\n",
    "В нашем распоряжении данные сервиса Яндекc Недвижимость — архив объявлений о продаже квартир в Санкт-Петербурге и соседних населённых пунктах за несколько лет. Нужно научиться определять рыночную стоимость объектов недвижимости. Наша задача — установить параметры. Это позволит построить автоматизированную систему: она отследит аномалии и мошенническую деятельность. \n",
    "\n",
    "По каждой квартире на продажу доступны два вида данных. Первые вписаны пользователем, вторые получены автоматически на основе картографических данных. Например, расстояние до центра, аэропорта, ближайшего парка и водоёма. "
   ]
  },
  {
   "cell_type": "markdown",
   "metadata": {},
   "source": [
    "## Описание данных\n",
    "\n",
    "- `airports_nearest` — расстояние до ближайшего аэропорта в метрах (м)\n",
    "- `balcony` — число балконов\n",
    "- `ceiling_height` — высота потолков (м)\n",
    "- `cityCenters_nearest` — расстояние до центра города (м)\n",
    "- `days_exposition` — сколько дней было размещено объявление (от публикации до снятия)\n",
    "- `first_day_exposition` — дата публикации\n",
    "- `floor` — этаж\n",
    "- `floors_total` — всего этажей в доме\n",
    "- `is_apartment` — апартаменты (булев тип)\n",
    "- `kitchen_area` — площадь кухни в квадратных метрах (м²)\n",
    "- `last_price` — цена на момент снятия с публикации\n",
    "- `living_area` — жилая площадь в квадратных метрах (м²)\n",
    "- `locality_name` — название населённого пункта\n",
    "- `open_plan` — свободная планировка (булев тип)\n",
    "- `parks_around3000` — число парков в радиусе 3 км\n",
    "- `parks_nearest` — расстояние до ближайшего парка (м)\n",
    "- `ponds_around3000` — число водоёмов в радиусе 3 км\n",
    "- `ponds_nearest` — расстояние до ближайшего водоёма (м)\n",
    "- `rooms` — число комнат\n",
    "- `studio` — квартира-студия (булев тип)\n",
    "- `total_area` — площадь квартиры в квадратных метрах (м²)\n",
    "- `total_images` — число фотографий квартиры в объявлении"
   ]
  },
  {
   "cell_type": "markdown",
   "metadata": {},
   "source": [
    "## Изучение данных из файла"
   ]
  },
  {
   "cell_type": "code",
   "execution_count": 1,
   "metadata": {},
   "outputs": [],
   "source": [
    "import pandas as pd\n",
    "import matplotlib.pyplot as plt \n",
    "import seaborn as sns\n",
    "df = pd.read_csv('/---/---.csv', sep='\\t')\n",
    "pd.set_option('display.max_rows', None)\n",
    "pd.set_option('display.max_columns', None)\n",
    "pd.set_option('display.max_colwidth', None)"
   ]
  },
  {
   "cell_type": "code",
   "execution_count": 2,
   "metadata": {},
   "outputs": [
    {
     "data": {
      "text/html": [
       "<div>\n",
       "<style scoped>\n",
       "    .dataframe tbody tr th:only-of-type {\n",
       "        vertical-align: middle;\n",
       "    }\n",
       "\n",
       "    .dataframe tbody tr th {\n",
       "        vertical-align: top;\n",
       "    }\n",
       "\n",
       "    .dataframe thead th {\n",
       "        text-align: right;\n",
       "    }\n",
       "</style>\n",
       "<table border=\"1\" class=\"dataframe\">\n",
       "  <thead>\n",
       "    <tr style=\"text-align: right;\">\n",
       "      <th></th>\n",
       "      <th>total_images</th>\n",
       "      <th>last_price</th>\n",
       "      <th>total_area</th>\n",
       "      <th>first_day_exposition</th>\n",
       "      <th>rooms</th>\n",
       "      <th>ceiling_height</th>\n",
       "      <th>floors_total</th>\n",
       "      <th>living_area</th>\n",
       "      <th>floor</th>\n",
       "      <th>is_apartment</th>\n",
       "      <th>studio</th>\n",
       "      <th>open_plan</th>\n",
       "      <th>kitchen_area</th>\n",
       "      <th>balcony</th>\n",
       "      <th>locality_name</th>\n",
       "      <th>airports_nearest</th>\n",
       "      <th>cityCenters_nearest</th>\n",
       "      <th>parks_around3000</th>\n",
       "      <th>parks_nearest</th>\n",
       "      <th>ponds_around3000</th>\n",
       "      <th>ponds_nearest</th>\n",
       "      <th>days_exposition</th>\n",
       "    </tr>\n",
       "  </thead>\n",
       "  <tbody>\n",
       "    <tr>\n",
       "      <th>0</th>\n",
       "      <td>20</td>\n",
       "      <td>13000000.0</td>\n",
       "      <td>108.00</td>\n",
       "      <td>2019-03-07T00:00:00</td>\n",
       "      <td>3</td>\n",
       "      <td>2.70</td>\n",
       "      <td>16.0</td>\n",
       "      <td>51.00</td>\n",
       "      <td>8</td>\n",
       "      <td>NaN</td>\n",
       "      <td>False</td>\n",
       "      <td>False</td>\n",
       "      <td>25.00</td>\n",
       "      <td>NaN</td>\n",
       "      <td>Санкт-Петербург</td>\n",
       "      <td>18863.0</td>\n",
       "      <td>16028.0</td>\n",
       "      <td>1.0</td>\n",
       "      <td>482.0</td>\n",
       "      <td>2.0</td>\n",
       "      <td>755.0</td>\n",
       "      <td>NaN</td>\n",
       "    </tr>\n",
       "    <tr>\n",
       "      <th>1</th>\n",
       "      <td>7</td>\n",
       "      <td>3350000.0</td>\n",
       "      <td>40.40</td>\n",
       "      <td>2018-12-04T00:00:00</td>\n",
       "      <td>1</td>\n",
       "      <td>NaN</td>\n",
       "      <td>11.0</td>\n",
       "      <td>18.60</td>\n",
       "      <td>1</td>\n",
       "      <td>NaN</td>\n",
       "      <td>False</td>\n",
       "      <td>False</td>\n",
       "      <td>11.00</td>\n",
       "      <td>2.0</td>\n",
       "      <td>посёлок Шушары</td>\n",
       "      <td>12817.0</td>\n",
       "      <td>18603.0</td>\n",
       "      <td>0.0</td>\n",
       "      <td>NaN</td>\n",
       "      <td>0.0</td>\n",
       "      <td>NaN</td>\n",
       "      <td>81.0</td>\n",
       "    </tr>\n",
       "    <tr>\n",
       "      <th>2</th>\n",
       "      <td>10</td>\n",
       "      <td>5196000.0</td>\n",
       "      <td>56.00</td>\n",
       "      <td>2015-08-20T00:00:00</td>\n",
       "      <td>2</td>\n",
       "      <td>NaN</td>\n",
       "      <td>5.0</td>\n",
       "      <td>34.30</td>\n",
       "      <td>4</td>\n",
       "      <td>NaN</td>\n",
       "      <td>False</td>\n",
       "      <td>False</td>\n",
       "      <td>8.30</td>\n",
       "      <td>0.0</td>\n",
       "      <td>Санкт-Петербург</td>\n",
       "      <td>21741.0</td>\n",
       "      <td>13933.0</td>\n",
       "      <td>1.0</td>\n",
       "      <td>90.0</td>\n",
       "      <td>2.0</td>\n",
       "      <td>574.0</td>\n",
       "      <td>558.0</td>\n",
       "    </tr>\n",
       "    <tr>\n",
       "      <th>3</th>\n",
       "      <td>0</td>\n",
       "      <td>64900000.0</td>\n",
       "      <td>159.00</td>\n",
       "      <td>2015-07-24T00:00:00</td>\n",
       "      <td>3</td>\n",
       "      <td>NaN</td>\n",
       "      <td>14.0</td>\n",
       "      <td>NaN</td>\n",
       "      <td>9</td>\n",
       "      <td>NaN</td>\n",
       "      <td>False</td>\n",
       "      <td>False</td>\n",
       "      <td>NaN</td>\n",
       "      <td>0.0</td>\n",
       "      <td>Санкт-Петербург</td>\n",
       "      <td>28098.0</td>\n",
       "      <td>6800.0</td>\n",
       "      <td>2.0</td>\n",
       "      <td>84.0</td>\n",
       "      <td>3.0</td>\n",
       "      <td>234.0</td>\n",
       "      <td>424.0</td>\n",
       "    </tr>\n",
       "    <tr>\n",
       "      <th>4</th>\n",
       "      <td>2</td>\n",
       "      <td>10000000.0</td>\n",
       "      <td>100.00</td>\n",
       "      <td>2018-06-19T00:00:00</td>\n",
       "      <td>2</td>\n",
       "      <td>3.03</td>\n",
       "      <td>14.0</td>\n",
       "      <td>32.00</td>\n",
       "      <td>13</td>\n",
       "      <td>NaN</td>\n",
       "      <td>False</td>\n",
       "      <td>False</td>\n",
       "      <td>41.00</td>\n",
       "      <td>NaN</td>\n",
       "      <td>Санкт-Петербург</td>\n",
       "      <td>31856.0</td>\n",
       "      <td>8098.0</td>\n",
       "      <td>2.0</td>\n",
       "      <td>112.0</td>\n",
       "      <td>1.0</td>\n",
       "      <td>48.0</td>\n",
       "      <td>121.0</td>\n",
       "    </tr>\n",
       "    <tr>\n",
       "      <th>5</th>\n",
       "      <td>10</td>\n",
       "      <td>2890000.0</td>\n",
       "      <td>30.40</td>\n",
       "      <td>2018-09-10T00:00:00</td>\n",
       "      <td>1</td>\n",
       "      <td>NaN</td>\n",
       "      <td>12.0</td>\n",
       "      <td>14.40</td>\n",
       "      <td>5</td>\n",
       "      <td>NaN</td>\n",
       "      <td>False</td>\n",
       "      <td>False</td>\n",
       "      <td>9.10</td>\n",
       "      <td>NaN</td>\n",
       "      <td>городской посёлок Янино-1</td>\n",
       "      <td>NaN</td>\n",
       "      <td>NaN</td>\n",
       "      <td>NaN</td>\n",
       "      <td>NaN</td>\n",
       "      <td>NaN</td>\n",
       "      <td>NaN</td>\n",
       "      <td>55.0</td>\n",
       "    </tr>\n",
       "    <tr>\n",
       "      <th>6</th>\n",
       "      <td>6</td>\n",
       "      <td>3700000.0</td>\n",
       "      <td>37.30</td>\n",
       "      <td>2017-11-02T00:00:00</td>\n",
       "      <td>1</td>\n",
       "      <td>NaN</td>\n",
       "      <td>26.0</td>\n",
       "      <td>10.60</td>\n",
       "      <td>6</td>\n",
       "      <td>NaN</td>\n",
       "      <td>False</td>\n",
       "      <td>False</td>\n",
       "      <td>14.40</td>\n",
       "      <td>1.0</td>\n",
       "      <td>посёлок Парголово</td>\n",
       "      <td>52996.0</td>\n",
       "      <td>19143.0</td>\n",
       "      <td>0.0</td>\n",
       "      <td>NaN</td>\n",
       "      <td>0.0</td>\n",
       "      <td>NaN</td>\n",
       "      <td>155.0</td>\n",
       "    </tr>\n",
       "    <tr>\n",
       "      <th>7</th>\n",
       "      <td>5</td>\n",
       "      <td>7915000.0</td>\n",
       "      <td>71.60</td>\n",
       "      <td>2019-04-18T00:00:00</td>\n",
       "      <td>2</td>\n",
       "      <td>NaN</td>\n",
       "      <td>24.0</td>\n",
       "      <td>NaN</td>\n",
       "      <td>22</td>\n",
       "      <td>NaN</td>\n",
       "      <td>False</td>\n",
       "      <td>False</td>\n",
       "      <td>18.90</td>\n",
       "      <td>2.0</td>\n",
       "      <td>Санкт-Петербург</td>\n",
       "      <td>23982.0</td>\n",
       "      <td>11634.0</td>\n",
       "      <td>0.0</td>\n",
       "      <td>NaN</td>\n",
       "      <td>0.0</td>\n",
       "      <td>NaN</td>\n",
       "      <td>NaN</td>\n",
       "    </tr>\n",
       "    <tr>\n",
       "      <th>8</th>\n",
       "      <td>20</td>\n",
       "      <td>2900000.0</td>\n",
       "      <td>33.16</td>\n",
       "      <td>2018-05-23T00:00:00</td>\n",
       "      <td>1</td>\n",
       "      <td>NaN</td>\n",
       "      <td>27.0</td>\n",
       "      <td>15.43</td>\n",
       "      <td>26</td>\n",
       "      <td>NaN</td>\n",
       "      <td>False</td>\n",
       "      <td>False</td>\n",
       "      <td>8.81</td>\n",
       "      <td>NaN</td>\n",
       "      <td>посёлок Мурино</td>\n",
       "      <td>NaN</td>\n",
       "      <td>NaN</td>\n",
       "      <td>NaN</td>\n",
       "      <td>NaN</td>\n",
       "      <td>NaN</td>\n",
       "      <td>NaN</td>\n",
       "      <td>189.0</td>\n",
       "    </tr>\n",
       "    <tr>\n",
       "      <th>9</th>\n",
       "      <td>18</td>\n",
       "      <td>5400000.0</td>\n",
       "      <td>61.00</td>\n",
       "      <td>2017-02-26T00:00:00</td>\n",
       "      <td>3</td>\n",
       "      <td>2.50</td>\n",
       "      <td>9.0</td>\n",
       "      <td>43.60</td>\n",
       "      <td>7</td>\n",
       "      <td>NaN</td>\n",
       "      <td>False</td>\n",
       "      <td>False</td>\n",
       "      <td>6.50</td>\n",
       "      <td>2.0</td>\n",
       "      <td>Санкт-Петербург</td>\n",
       "      <td>50898.0</td>\n",
       "      <td>15008.0</td>\n",
       "      <td>0.0</td>\n",
       "      <td>NaN</td>\n",
       "      <td>0.0</td>\n",
       "      <td>NaN</td>\n",
       "      <td>289.0</td>\n",
       "    </tr>\n",
       "  </tbody>\n",
       "</table>\n",
       "</div>"
      ],
      "text/plain": [
       "   total_images  last_price  total_area first_day_exposition  rooms  \\\n",
       "0            20  13000000.0      108.00  2019-03-07T00:00:00      3   \n",
       "1             7   3350000.0       40.40  2018-12-04T00:00:00      1   \n",
       "2            10   5196000.0       56.00  2015-08-20T00:00:00      2   \n",
       "3             0  64900000.0      159.00  2015-07-24T00:00:00      3   \n",
       "4             2  10000000.0      100.00  2018-06-19T00:00:00      2   \n",
       "5            10   2890000.0       30.40  2018-09-10T00:00:00      1   \n",
       "6             6   3700000.0       37.30  2017-11-02T00:00:00      1   \n",
       "7             5   7915000.0       71.60  2019-04-18T00:00:00      2   \n",
       "8            20   2900000.0       33.16  2018-05-23T00:00:00      1   \n",
       "9            18   5400000.0       61.00  2017-02-26T00:00:00      3   \n",
       "\n",
       "   ceiling_height  floors_total  living_area  floor is_apartment  studio  \\\n",
       "0            2.70          16.0        51.00      8          NaN   False   \n",
       "1             NaN          11.0        18.60      1          NaN   False   \n",
       "2             NaN           5.0        34.30      4          NaN   False   \n",
       "3             NaN          14.0          NaN      9          NaN   False   \n",
       "4            3.03          14.0        32.00     13          NaN   False   \n",
       "5             NaN          12.0        14.40      5          NaN   False   \n",
       "6             NaN          26.0        10.60      6          NaN   False   \n",
       "7             NaN          24.0          NaN     22          NaN   False   \n",
       "8             NaN          27.0        15.43     26          NaN   False   \n",
       "9            2.50           9.0        43.60      7          NaN   False   \n",
       "\n",
       "   open_plan  kitchen_area  balcony              locality_name  \\\n",
       "0      False         25.00      NaN            Санкт-Петербург   \n",
       "1      False         11.00      2.0             посёлок Шушары   \n",
       "2      False          8.30      0.0            Санкт-Петербург   \n",
       "3      False           NaN      0.0            Санкт-Петербург   \n",
       "4      False         41.00      NaN            Санкт-Петербург   \n",
       "5      False          9.10      NaN  городской посёлок Янино-1   \n",
       "6      False         14.40      1.0          посёлок Парголово   \n",
       "7      False         18.90      2.0            Санкт-Петербург   \n",
       "8      False          8.81      NaN             посёлок Мурино   \n",
       "9      False          6.50      2.0            Санкт-Петербург   \n",
       "\n",
       "   airports_nearest  cityCenters_nearest  parks_around3000  parks_nearest  \\\n",
       "0           18863.0              16028.0               1.0          482.0   \n",
       "1           12817.0              18603.0               0.0            NaN   \n",
       "2           21741.0              13933.0               1.0           90.0   \n",
       "3           28098.0               6800.0               2.0           84.0   \n",
       "4           31856.0               8098.0               2.0          112.0   \n",
       "5               NaN                  NaN               NaN            NaN   \n",
       "6           52996.0              19143.0               0.0            NaN   \n",
       "7           23982.0              11634.0               0.0            NaN   \n",
       "8               NaN                  NaN               NaN            NaN   \n",
       "9           50898.0              15008.0               0.0            NaN   \n",
       "\n",
       "   ponds_around3000  ponds_nearest  days_exposition  \n",
       "0               2.0          755.0              NaN  \n",
       "1               0.0            NaN             81.0  \n",
       "2               2.0          574.0            558.0  \n",
       "3               3.0          234.0            424.0  \n",
       "4               1.0           48.0            121.0  \n",
       "5               NaN            NaN             55.0  \n",
       "6               0.0            NaN            155.0  \n",
       "7               0.0            NaN              NaN  \n",
       "8               NaN            NaN            189.0  \n",
       "9               0.0            NaN            289.0  "
      ]
     },
     "execution_count": 2,
     "metadata": {},
     "output_type": "execute_result"
    }
   ],
   "source": [
    "df.head(10)"
   ]
  },
  {
   "cell_type": "code",
   "execution_count": 3,
   "metadata": {},
   "outputs": [
    {
     "name": "stdout",
     "output_type": "stream",
     "text": [
      "<class 'pandas.core.frame.DataFrame'>\n",
      "RangeIndex: 23699 entries, 0 to 23698\n",
      "Data columns (total 22 columns):\n",
      " #   Column                Non-Null Count  Dtype  \n",
      "---  ------                --------------  -----  \n",
      " 0   total_images          23699 non-null  int64  \n",
      " 1   last_price            23699 non-null  float64\n",
      " 2   total_area            23699 non-null  float64\n",
      " 3   first_day_exposition  23699 non-null  object \n",
      " 4   rooms                 23699 non-null  int64  \n",
      " 5   ceiling_height        14504 non-null  float64\n",
      " 6   floors_total          23613 non-null  float64\n",
      " 7   living_area           21796 non-null  float64\n",
      " 8   floor                 23699 non-null  int64  \n",
      " 9   is_apartment          2775 non-null   object \n",
      " 10  studio                23699 non-null  bool   \n",
      " 11  open_plan             23699 non-null  bool   \n",
      " 12  kitchen_area          21421 non-null  float64\n",
      " 13  balcony               12180 non-null  float64\n",
      " 14  locality_name         23650 non-null  object \n",
      " 15  airports_nearest      18157 non-null  float64\n",
      " 16  cityCenters_nearest   18180 non-null  float64\n",
      " 17  parks_around3000      18181 non-null  float64\n",
      " 18  parks_nearest         8079 non-null   float64\n",
      " 19  ponds_around3000      18181 non-null  float64\n",
      " 20  ponds_nearest         9110 non-null   float64\n",
      " 21  days_exposition       20518 non-null  float64\n",
      "dtypes: bool(2), float64(14), int64(3), object(3)\n",
      "memory usage: 3.7+ MB\n"
     ]
    }
   ],
   "source": [
    "df.info()"
   ]
  },
  {
   "cell_type": "code",
   "execution_count": 4,
   "metadata": {
    "scrolled": true
   },
   "outputs": [
    {
     "data": {
      "text/html": [
       "<div>\n",
       "<style scoped>\n",
       "    .dataframe tbody tr th:only-of-type {\n",
       "        vertical-align: middle;\n",
       "    }\n",
       "\n",
       "    .dataframe tbody tr th {\n",
       "        vertical-align: top;\n",
       "    }\n",
       "\n",
       "    .dataframe thead th {\n",
       "        text-align: right;\n",
       "    }\n",
       "</style>\n",
       "<table border=\"1\" class=\"dataframe\">\n",
       "  <thead>\n",
       "    <tr style=\"text-align: right;\">\n",
       "      <th></th>\n",
       "      <th>total_images</th>\n",
       "      <th>last_price</th>\n",
       "      <th>total_area</th>\n",
       "      <th>rooms</th>\n",
       "      <th>ceiling_height</th>\n",
       "      <th>floors_total</th>\n",
       "      <th>living_area</th>\n",
       "      <th>floor</th>\n",
       "      <th>kitchen_area</th>\n",
       "      <th>balcony</th>\n",
       "      <th>airports_nearest</th>\n",
       "      <th>cityCenters_nearest</th>\n",
       "      <th>parks_around3000</th>\n",
       "      <th>parks_nearest</th>\n",
       "      <th>ponds_around3000</th>\n",
       "      <th>ponds_nearest</th>\n",
       "      <th>days_exposition</th>\n",
       "    </tr>\n",
       "  </thead>\n",
       "  <tbody>\n",
       "    <tr>\n",
       "      <th>count</th>\n",
       "      <td>23699.000000</td>\n",
       "      <td>2.369900e+04</td>\n",
       "      <td>23699.000000</td>\n",
       "      <td>23699.000000</td>\n",
       "      <td>14504.000000</td>\n",
       "      <td>23613.000000</td>\n",
       "      <td>21796.000000</td>\n",
       "      <td>23699.000000</td>\n",
       "      <td>21421.000000</td>\n",
       "      <td>12180.000000</td>\n",
       "      <td>18157.000000</td>\n",
       "      <td>18180.000000</td>\n",
       "      <td>18181.000000</td>\n",
       "      <td>8079.000000</td>\n",
       "      <td>18181.000000</td>\n",
       "      <td>9110.000000</td>\n",
       "      <td>20518.000000</td>\n",
       "    </tr>\n",
       "    <tr>\n",
       "      <th>mean</th>\n",
       "      <td>9.858475</td>\n",
       "      <td>6.541549e+06</td>\n",
       "      <td>60.348651</td>\n",
       "      <td>2.070636</td>\n",
       "      <td>2.771499</td>\n",
       "      <td>10.673824</td>\n",
       "      <td>34.457852</td>\n",
       "      <td>5.892358</td>\n",
       "      <td>10.569807</td>\n",
       "      <td>1.150082</td>\n",
       "      <td>28793.672193</td>\n",
       "      <td>14191.277833</td>\n",
       "      <td>0.611408</td>\n",
       "      <td>490.804555</td>\n",
       "      <td>0.770255</td>\n",
       "      <td>517.980900</td>\n",
       "      <td>180.888634</td>\n",
       "    </tr>\n",
       "    <tr>\n",
       "      <th>std</th>\n",
       "      <td>5.682529</td>\n",
       "      <td>1.088701e+07</td>\n",
       "      <td>35.654083</td>\n",
       "      <td>1.078405</td>\n",
       "      <td>1.261056</td>\n",
       "      <td>6.597173</td>\n",
       "      <td>22.030445</td>\n",
       "      <td>4.885249</td>\n",
       "      <td>5.905438</td>\n",
       "      <td>1.071300</td>\n",
       "      <td>12630.880622</td>\n",
       "      <td>8608.386210</td>\n",
       "      <td>0.802074</td>\n",
       "      <td>342.317995</td>\n",
       "      <td>0.938346</td>\n",
       "      <td>277.720643</td>\n",
       "      <td>219.727988</td>\n",
       "    </tr>\n",
       "    <tr>\n",
       "      <th>min</th>\n",
       "      <td>0.000000</td>\n",
       "      <td>1.219000e+04</td>\n",
       "      <td>12.000000</td>\n",
       "      <td>0.000000</td>\n",
       "      <td>1.000000</td>\n",
       "      <td>1.000000</td>\n",
       "      <td>2.000000</td>\n",
       "      <td>1.000000</td>\n",
       "      <td>1.300000</td>\n",
       "      <td>0.000000</td>\n",
       "      <td>0.000000</td>\n",
       "      <td>181.000000</td>\n",
       "      <td>0.000000</td>\n",
       "      <td>1.000000</td>\n",
       "      <td>0.000000</td>\n",
       "      <td>13.000000</td>\n",
       "      <td>1.000000</td>\n",
       "    </tr>\n",
       "    <tr>\n",
       "      <th>25%</th>\n",
       "      <td>6.000000</td>\n",
       "      <td>3.400000e+06</td>\n",
       "      <td>40.000000</td>\n",
       "      <td>1.000000</td>\n",
       "      <td>2.520000</td>\n",
       "      <td>5.000000</td>\n",
       "      <td>18.600000</td>\n",
       "      <td>2.000000</td>\n",
       "      <td>7.000000</td>\n",
       "      <td>0.000000</td>\n",
       "      <td>18585.000000</td>\n",
       "      <td>9238.000000</td>\n",
       "      <td>0.000000</td>\n",
       "      <td>288.000000</td>\n",
       "      <td>0.000000</td>\n",
       "      <td>294.000000</td>\n",
       "      <td>45.000000</td>\n",
       "    </tr>\n",
       "    <tr>\n",
       "      <th>50%</th>\n",
       "      <td>9.000000</td>\n",
       "      <td>4.650000e+06</td>\n",
       "      <td>52.000000</td>\n",
       "      <td>2.000000</td>\n",
       "      <td>2.650000</td>\n",
       "      <td>9.000000</td>\n",
       "      <td>30.000000</td>\n",
       "      <td>4.000000</td>\n",
       "      <td>9.100000</td>\n",
       "      <td>1.000000</td>\n",
       "      <td>26726.000000</td>\n",
       "      <td>13098.500000</td>\n",
       "      <td>0.000000</td>\n",
       "      <td>455.000000</td>\n",
       "      <td>1.000000</td>\n",
       "      <td>502.000000</td>\n",
       "      <td>95.000000</td>\n",
       "    </tr>\n",
       "    <tr>\n",
       "      <th>75%</th>\n",
       "      <td>14.000000</td>\n",
       "      <td>6.800000e+06</td>\n",
       "      <td>69.900000</td>\n",
       "      <td>3.000000</td>\n",
       "      <td>2.800000</td>\n",
       "      <td>16.000000</td>\n",
       "      <td>42.300000</td>\n",
       "      <td>8.000000</td>\n",
       "      <td>12.000000</td>\n",
       "      <td>2.000000</td>\n",
       "      <td>37273.000000</td>\n",
       "      <td>16293.000000</td>\n",
       "      <td>1.000000</td>\n",
       "      <td>612.000000</td>\n",
       "      <td>1.000000</td>\n",
       "      <td>729.000000</td>\n",
       "      <td>232.000000</td>\n",
       "    </tr>\n",
       "    <tr>\n",
       "      <th>max</th>\n",
       "      <td>50.000000</td>\n",
       "      <td>7.630000e+08</td>\n",
       "      <td>900.000000</td>\n",
       "      <td>19.000000</td>\n",
       "      <td>100.000000</td>\n",
       "      <td>60.000000</td>\n",
       "      <td>409.700000</td>\n",
       "      <td>33.000000</td>\n",
       "      <td>112.000000</td>\n",
       "      <td>5.000000</td>\n",
       "      <td>84869.000000</td>\n",
       "      <td>65968.000000</td>\n",
       "      <td>3.000000</td>\n",
       "      <td>3190.000000</td>\n",
       "      <td>3.000000</td>\n",
       "      <td>1344.000000</td>\n",
       "      <td>1580.000000</td>\n",
       "    </tr>\n",
       "  </tbody>\n",
       "</table>\n",
       "</div>"
      ],
      "text/plain": [
       "       total_images    last_price    total_area         rooms  ceiling_height  \\\n",
       "count  23699.000000  2.369900e+04  23699.000000  23699.000000    14504.000000   \n",
       "mean       9.858475  6.541549e+06     60.348651      2.070636        2.771499   \n",
       "std        5.682529  1.088701e+07     35.654083      1.078405        1.261056   \n",
       "min        0.000000  1.219000e+04     12.000000      0.000000        1.000000   \n",
       "25%        6.000000  3.400000e+06     40.000000      1.000000        2.520000   \n",
       "50%        9.000000  4.650000e+06     52.000000      2.000000        2.650000   \n",
       "75%       14.000000  6.800000e+06     69.900000      3.000000        2.800000   \n",
       "max       50.000000  7.630000e+08    900.000000     19.000000      100.000000   \n",
       "\n",
       "       floors_total   living_area         floor  kitchen_area       balcony  \\\n",
       "count  23613.000000  21796.000000  23699.000000  21421.000000  12180.000000   \n",
       "mean      10.673824     34.457852      5.892358     10.569807      1.150082   \n",
       "std        6.597173     22.030445      4.885249      5.905438      1.071300   \n",
       "min        1.000000      2.000000      1.000000      1.300000      0.000000   \n",
       "25%        5.000000     18.600000      2.000000      7.000000      0.000000   \n",
       "50%        9.000000     30.000000      4.000000      9.100000      1.000000   \n",
       "75%       16.000000     42.300000      8.000000     12.000000      2.000000   \n",
       "max       60.000000    409.700000     33.000000    112.000000      5.000000   \n",
       "\n",
       "       airports_nearest  cityCenters_nearest  parks_around3000  parks_nearest  \\\n",
       "count      18157.000000         18180.000000      18181.000000    8079.000000   \n",
       "mean       28793.672193         14191.277833          0.611408     490.804555   \n",
       "std        12630.880622          8608.386210          0.802074     342.317995   \n",
       "min            0.000000           181.000000          0.000000       1.000000   \n",
       "25%        18585.000000          9238.000000          0.000000     288.000000   \n",
       "50%        26726.000000         13098.500000          0.000000     455.000000   \n",
       "75%        37273.000000         16293.000000          1.000000     612.000000   \n",
       "max        84869.000000         65968.000000          3.000000    3190.000000   \n",
       "\n",
       "       ponds_around3000  ponds_nearest  days_exposition  \n",
       "count      18181.000000    9110.000000     20518.000000  \n",
       "mean           0.770255     517.980900       180.888634  \n",
       "std            0.938346     277.720643       219.727988  \n",
       "min            0.000000      13.000000         1.000000  \n",
       "25%            0.000000     294.000000        45.000000  \n",
       "50%            1.000000     502.000000        95.000000  \n",
       "75%            1.000000     729.000000       232.000000  \n",
       "max            3.000000    1344.000000      1580.000000  "
      ]
     },
     "execution_count": 4,
     "metadata": {},
     "output_type": "execute_result"
    }
   ],
   "source": [
    "df.describe()"
   ]
  },
  {
   "cell_type": "markdown",
   "metadata": {},
   "source": [
    "### Вывод"
   ]
  },
  {
   "cell_type": "markdown",
   "metadata": {},
   "source": [
    "В предоставленном датафрейме 23699 строки, имеются пропуски данных, аномальные значения данных, необходимо изменить типы данных некоторых столбцов на числовые, целочисленные или булевые:\n",
    "1. `first_day_exposition` - дата публикации - неверный тип данных, должна быть дата без времени;\n",
    "2. `ceiling_height` - высота потолков - максимум 100 м, аномальное значение, есть пропуски в значениях;\n",
    "3. `floors_total` - всего этажей в доме - неверный тип данных, должен быть целочисленный (int), есть пропуски в значениях;\n",
    "4. `living_area` - жилая площадь в квадратных метрах (м²) - есть пропуски в значениях;\n",
    "5. `is_apartment` - апартаменты - неверный тип данных, должен bool;\n",
    "6. `kitchen_area` - площадь кухни в квадратных метрах - есть пропуски в значениях;\n",
    "7. `balcony` - число балконов - есть пропуски в значениях, неверный тип данных, должен быть целочисленный (int);\n",
    "8. `locality_name` - название населённого пункта - есть пропуски в значениях;\n",
    "9. `airports_nearest` -  расстояние до ближайшего аэропорта в метрах - есть пропуски в значениях, минимальное знаечние указано как 0;\n",
    "10. `cityCenters_nearest` - расстояние до центра города (м) - есть пропуски в значениях, минимальное знаечние указано как 0;\n",
    "11. `parks_around3000` — число парков в радиусе 3 км, неверный тип данных, должен быть целочисленный (int), eсть пропуски в значениях;\n",
    "12. `parks_nearest` — расстояние до ближайшего парка (м) - есть пропуски в значениях;\n",
    "13. `ponds_around3000` — число водоёмов в радиусе 3 км - неверный тип данных, должен быть целочисленный (int), есть пропуски в значениях;\n",
    "14. `ponds_nearest` — расстояние до ближайшего водоёма (м) - есть пропуски в значениях;\n",
    "15. `days_exposition` — сколько дней было размещено объявление (от публикации до снятия) - неверный тип данных, должен быть целочисленный (int), есть пропуски в значениях."
   ]
  },
  {
   "cell_type": "markdown",
   "metadata": {},
   "source": [
    "## Предобработка данных"
   ]
  },
  {
   "cell_type": "code",
   "execution_count": 5,
   "metadata": {},
   "outputs": [
    {
     "name": "stdout",
     "output_type": "stream",
     "text": [
      "0\n"
     ]
    }
   ],
   "source": [
    "#проверим, есть ли в таблице дубликаты, которые необходимо удалить\n",
    "print(df.duplicated().sum())"
   ]
  },
  {
   "cell_type": "code",
   "execution_count": 6,
   "metadata": {},
   "outputs": [
    {
     "data": {
      "text/plain": [
       "array(['Бокситогорск', 'Волосово', 'Волхов', 'Всеволожск', 'Выборг',\n",
       "       'Высоцк', 'Гатчина', 'Зеленогорск', 'Ивангород', 'Каменногорск',\n",
       "       'Кингисепп', 'Кириши', 'Кировск', 'Колпино', 'Коммунар',\n",
       "       'Красное Село', 'Кронштадт', 'Кудрово', 'Лодейное Поле',\n",
       "       'Ломоносов', 'Луга', 'Любань', 'Мурино', 'Никольское',\n",
       "       'Новая Ладога', 'Отрадное', 'Павловск', 'Петергоф', 'Пикалёво',\n",
       "       'Подпорожье', 'Приморск', 'Приозерск', 'Пушкин', 'Санкт-Петербург',\n",
       "       'Светогорск', 'Сертолово', 'Сестрорецк', 'Сланцы', 'Сосновый Бор',\n",
       "       'Сясьстрой', 'Тихвин', 'Тосно', 'Шлиссельбург',\n",
       "       'городской поселок Большая Ижора', 'городской поселок Янино-1',\n",
       "       'городской посёлок Будогощь', 'городской посёлок Виллози',\n",
       "       'городской посёлок Лесогорский', 'городской посёлок Мга',\n",
       "       'городской посёлок Назия', 'городской посёлок Новоселье',\n",
       "       'городской посёлок Павлово', 'городской посёлок Рощино',\n",
       "       'городской посёлок Свирьстрой', 'городской посёлок Советский',\n",
       "       'городской посёлок Фёдоровское', 'городской посёлок Янино-1',\n",
       "       'деревня Агалатово', 'деревня Аро', 'деревня Батово',\n",
       "       'деревня Бегуницы', 'деревня Белогорка', 'деревня Большая Вруда',\n",
       "       'деревня Большая Пустомержа', 'деревня Большие Колпаны',\n",
       "       'деревня Большое Рейзино', 'деревня Большой Сабск', 'деревня Бор',\n",
       "       'деревня Борисова Грива', 'деревня Ваганово', 'деревня Вартемяги',\n",
       "       'деревня Вахнова Кара', 'деревня Выскатка', 'деревня Гарболово',\n",
       "       'деревня Глинка', 'деревня Горбунки', 'деревня Гостилицы',\n",
       "       'деревня Заклинье', 'деревня Заневка', 'деревня Зимитицы',\n",
       "       'деревня Извара', 'деревня Иссад', 'деревня Калитино',\n",
       "       'деревня Кальтино', 'деревня Камышовка', 'деревня Каськово',\n",
       "       'деревня Келози', 'деревня Кипень', 'деревня Кисельня',\n",
       "       'деревня Колтуши', 'деревня Коркино', 'деревня Котлы',\n",
       "       'деревня Кривко', 'деревня Кудрово', 'деревня Кузьмолово',\n",
       "       'деревня Курковицы', 'деревня Куровицы', 'деревня Куттузи',\n",
       "       'деревня Лаврики', 'деревня Лаголово', 'деревня Лампово',\n",
       "       'деревня Лесколово', 'деревня Лопухинка', 'деревня Лупполово',\n",
       "       'деревня Малая Романовка', 'деревня Малое Верево',\n",
       "       'деревня Малое Карлино', 'деревня Малые Колпаны',\n",
       "       'деревня Мануйлово', 'деревня Меньково', 'деревня Мины',\n",
       "       'деревня Мистолово', 'деревня Ненимяки', 'деревня Нижние Осельки',\n",
       "       'деревня Нижняя', 'деревня Низино', 'деревня Новое Девяткино',\n",
       "       'деревня Новолисино', 'деревня Нурма', 'деревня Оржицы',\n",
       "       'деревня Парицы', 'деревня Пельгора', 'деревня Пеники',\n",
       "       'деревня Пижма', 'деревня Пикколово', 'деревня Пудомяги',\n",
       "       'деревня Пустынка', 'деревня Пчева', 'деревня Рабитицы',\n",
       "       'деревня Разбегаево', 'деревня Раздолье', 'деревня Разметелево',\n",
       "       'деревня Рапполово', 'деревня Реброво', 'деревня Русско',\n",
       "       'деревня Сижно', 'деревня Снегирёвка', 'деревня Старая',\n",
       "       'деревня Старая Пустошь', 'деревня Старое Хинколово',\n",
       "       'деревня Старополье', 'деревня Старосиверская',\n",
       "       'деревня Старые Бегуницы', 'деревня Суоранда',\n",
       "       'деревня Сяськелево', 'деревня Тарасово', 'деревня Терпилицы',\n",
       "       'деревня Тихковицы', 'деревня Тойворово', 'деревня Торосово',\n",
       "       'деревня Торошковичи', 'деревня Трубников Бор',\n",
       "       'деревня Фалилеево', 'деревня Фёдоровское', 'деревня Хапо-Ое',\n",
       "       'деревня Хязельки', 'деревня Чудской Бор', 'деревня Шпаньково',\n",
       "       'деревня Щеглово', 'деревня Юкки', 'деревня Ялгино',\n",
       "       'деревня Яльгелево', 'деревня Ям-Тесово',\n",
       "       'коттеджный поселок Кивеннапа Север', 'коттеджный поселок Счастье',\n",
       "       'коттеджный посёлок Лесное', 'поселок Аннино', 'поселок Барышево',\n",
       "       'поселок Бугры', 'поселок Возрождение', 'поселок Войсковицы',\n",
       "       'поселок Володарское', 'поселок Гаврилово', 'поселок Гарболово',\n",
       "       'поселок Гладкое', 'поселок Глажево', 'поселок Глебычево',\n",
       "       'поселок Гончарово', 'поселок Громово', 'поселок Дружноселье',\n",
       "       'поселок Елизаветино', 'поселок Жилгородок', 'поселок Жилпосёлок',\n",
       "       'поселок Житково', 'поселок Заводской', 'поселок Запорожское',\n",
       "       'поселок Зимитицы', 'поселок Ильичёво', 'поселок Калитино',\n",
       "       'поселок Каложицы', 'поселок Кингисеппский', 'поселок Кирпичное',\n",
       "       'поселок Кобралово', 'поселок Кобринское', 'поселок Коммунары',\n",
       "       'поселок Коробицыно', 'поселок Котельский',\n",
       "       'поселок Красная Долина', 'поселок Красносельское',\n",
       "       'поселок Лесное', 'поселок Лисий Нос', 'поселок Лукаши',\n",
       "       'поселок Любань', 'поселок Мельниково', 'поселок Мичуринское',\n",
       "       'поселок Молодцово', 'поселок Мурино', 'поселок Новый Свет',\n",
       "       'поселок Новый Учхоз', 'поселок Оредеж',\n",
       "       'поселок Пансионат Зелёный Бор', 'поселок Первомайское',\n",
       "       'поселок Перово', 'поселок Петровское', 'поселок Победа',\n",
       "       'поселок Поляны', 'поселок Почап', 'поселок Починок',\n",
       "       'поселок Пушное', 'поселок Пчевжа', 'поселок Рабитицы',\n",
       "       'поселок Романовка', 'поселок Ромашки', 'поселок Рябово',\n",
       "       'поселок Севастьяново', 'поселок Селезнёво', 'поселок Сельцо',\n",
       "       'поселок Семиозерье', 'поселок Семрино', 'поселок Серебрянский',\n",
       "       'поселок Совхозный', 'поселок Старая Малукса',\n",
       "       'поселок Стеклянный', 'поселок Сумино', 'поселок Суходолье',\n",
       "       'поселок Тельмана', 'поселок Терволово', 'поселок Торковичи',\n",
       "       'поселок Тёсово-4', 'поселок Углово', 'поселок Усть-Луга',\n",
       "       'поселок Ушаки', 'поселок Цвелодубово', 'поселок Цвылёво',\n",
       "       'поселок городского типа Большая Ижора',\n",
       "       'поселок городского типа Вырица',\n",
       "       'поселок городского типа Дружная Горка',\n",
       "       'поселок городского типа Дубровка',\n",
       "       'поселок городского типа Ефимовский',\n",
       "       'поселок городского типа Кондратьево',\n",
       "       'поселок городского типа Красный Бор',\n",
       "       'поселок городского типа Кузьмоловский',\n",
       "       'поселок городского типа Лебяжье',\n",
       "       'поселок городского типа Лесогорский',\n",
       "       'поселок городского типа Назия',\n",
       "       'поселок городского типа Никольский',\n",
       "       'поселок городского типа Приладожский',\n",
       "       'поселок городского типа Рахья', 'поселок городского типа Рощино',\n",
       "       'поселок городского типа Рябово',\n",
       "       'поселок городского типа Синявино',\n",
       "       'поселок городского типа Советский',\n",
       "       'поселок городского типа Токсово',\n",
       "       'поселок городского типа Форносово',\n",
       "       'поселок городского типа имени Свердлова',\n",
       "       'поселок станции Вещево', 'поселок станции Корнево',\n",
       "       'поселок станции Лужайка', 'поселок станции Приветнинское',\n",
       "       'посёлок Александровская', 'посёлок Алексеевка', 'посёлок Аннино',\n",
       "       'посёлок Белоостров', 'посёлок Бугры', 'посёлок Возрождение',\n",
       "       'посёлок Войскорово', 'посёлок Высокоключевой',\n",
       "       'посёлок Гаврилово', 'посёлок Дзержинского', 'посёлок Жилгородок',\n",
       "       'посёлок Ильичёво', 'посёлок Кикерино', 'посёлок Кобралово',\n",
       "       'посёлок Коробицыно', 'посёлок Левашово', 'посёлок Ленинское',\n",
       "       'посёлок Лисий Нос', 'посёлок Мельниково', 'посёлок Металлострой',\n",
       "       'посёлок Мичуринское', 'посёлок Молодёжное', 'посёлок Мурино',\n",
       "       'посёлок Мыза-Ивановка', 'посёлок Новогорелово',\n",
       "       'посёлок Новый Свет', 'посёлок Пансионат Зелёный Бор',\n",
       "       'посёлок Парголово', 'посёлок Перово', 'посёлок Песочный',\n",
       "       'посёлок Петро-Славянка', 'посёлок Петровское',\n",
       "       'посёлок Платформа 69-й километр', 'посёлок Плодовое',\n",
       "       'посёлок Плоское', 'посёлок Победа', 'посёлок Поляны',\n",
       "       'посёлок Понтонный', 'посёлок Пригородный', 'посёлок Пудость',\n",
       "       'посёлок Репино', 'посёлок Ропша', 'посёлок Сапёрное',\n",
       "       'посёлок Сапёрный', 'посёлок Сосново', 'посёлок Старая Малукса',\n",
       "       'посёлок Стеклянный', 'посёлок Стрельна', 'посёлок Суйда',\n",
       "       'посёлок Сумино', 'посёлок Тельмана', 'посёлок Терволово',\n",
       "       'посёлок Торфяное', 'посёлок Усть-Ижора', 'посёлок Усть-Луга',\n",
       "       'посёлок Форт Красная Горка', 'посёлок Шугозеро', 'посёлок Шушары',\n",
       "       'посёлок Щеглово', 'посёлок городского типа Важины',\n",
       "       'посёлок городского типа Вознесенье',\n",
       "       'посёлок городского типа Вырица',\n",
       "       'посёлок городского типа Красный Бор',\n",
       "       'посёлок городского типа Кузнечное',\n",
       "       'посёлок городского типа Кузьмоловский',\n",
       "       'посёлок городского типа Лебяжье', 'посёлок городского типа Мга',\n",
       "       'посёлок городского типа Павлово',\n",
       "       'посёлок городского типа Рощино', 'посёлок городского типа Рябово',\n",
       "       'посёлок городского типа Сиверский',\n",
       "       'посёлок городского типа Тайцы', 'посёлок городского типа Токсово',\n",
       "       'посёлок городского типа Ульяновка',\n",
       "       'посёлок городского типа Форносово',\n",
       "       'посёлок городского типа имени Морозова',\n",
       "       'посёлок городского типа имени Свердлова',\n",
       "       'посёлок при железнодорожной станции Вещево',\n",
       "       'посёлок при железнодорожной станции Приветнинское',\n",
       "       'посёлок станции Громово', 'посёлок станции Свирь',\n",
       "       'садоводческое некоммерческое товарищество Лесная Поляна',\n",
       "       'садовое товарищество Новая Ропша',\n",
       "       'садовое товарищество Приладожский', 'садовое товарищество Рахья',\n",
       "       'садовое товарищество Садко', 'село Копорье', 'село Никольское',\n",
       "       'село Павлово', 'село Паша', 'село Путилово', 'село Рождествено',\n",
       "       'село Русско-Высоцкое', 'село Старая Ладога', 'село Шум', nan],\n",
       "      dtype=object)"
      ]
     },
     "metadata": {},
     "output_type": "display_data"
    },
    {
     "data": {
      "text/plain": [
       "365"
      ]
     },
     "execution_count": 6,
     "metadata": {},
     "output_type": "execute_result"
    }
   ],
   "source": [
    "display(df['locality_name'].sort_values().unique())\n",
    "len(df['locality_name'].sort_values().unique())"
   ]
  },
  {
   "cell_type": "code",
   "execution_count": 7,
   "metadata": {},
   "outputs": [
    {
     "data": {
      "text/plain": [
       "331"
      ]
     },
     "execution_count": 7,
     "metadata": {},
     "output_type": "execute_result"
    }
   ],
   "source": [
    "#приведем наименования населенных пунктов к единому виду: посЁлки заменим на посЕлки\n",
    "df['locality_name'] = df['locality_name'].str.replace('ё', 'е')\n",
    "len(df['locality_name'].sort_values().unique())"
   ]
  },
  {
   "cell_type": "code",
   "execution_count": 8,
   "metadata": {},
   "outputs": [
    {
     "data": {
      "text/plain": [
       "0"
      ]
     },
     "execution_count": 8,
     "metadata": {},
     "output_type": "execute_result"
    }
   ],
   "source": [
    "#В столбце апартаменты все пропущенные значения заменим на False \n",
    "df['is_apartment'] = df['is_apartment'].fillna(False)\n",
    "df['is_apartment'].isna().sum()"
   ]
  },
  {
   "cell_type": "code",
   "execution_count": 9,
   "metadata": {},
   "outputs": [
    {
     "name": "stdout",
     "output_type": "stream",
     "text": [
      "0\n"
     ]
    }
   ],
   "source": [
    "# В стоблце с количеством балконов пропуски заполним 0. \n",
    "#Будем считать, что если количество балконов не указано, значит их нет.\n",
    "df['balcony'] = df['balcony'].fillna(0)\n",
    "print(df['balcony'].isna().sum())\n",
    "#изменим тип данных на int\n",
    "df['balcony'] = df['balcony'].astype('int')"
   ]
  },
  {
   "cell_type": "code",
   "execution_count": 10,
   "metadata": {},
   "outputs": [],
   "source": [
    "# Приводим в целочисленный тип количество парков. Заменяем пропущенные значения на 0\n",
    "df['parks_around3000'] = df['parks_around3000'].fillna(value=0).astype(int)\n",
    "# Приводим в целочисленный тип количество прудов. Заменяем пропущенные значения на 0\n",
    "df['ponds_around3000'] = df['ponds_around3000'].fillna(value=0).astype(int)"
   ]
  },
  {
   "cell_type": "markdown",
   "metadata": {},
   "source": [
    "Отсутвие данных в  `floors_total` и `locality_name` может быть вызвано технчисекой  ошибкой при экспорте данных, т.к. без указания населенного пункта вряд ли возможно создание обявления. Об ошибке необходимо сообщить разработчикам/ владельцам данных.\n",
    "\n",
    "Удалим строки, где не указан населенный пункт или общее количество этажей. Т.к. эти параметры потребуюстя в дальнейшем для анализа."
   ]
  },
  {
   "cell_type": "code",
   "execution_count": 11,
   "metadata": {},
   "outputs": [],
   "source": [
    "df.dropna(subset=['locality_name'], inplace=True)\n",
    "df.dropna(subset=['floors_total'], inplace=True)"
   ]
  },
  {
   "cell_type": "markdown",
   "metadata": {},
   "source": [
    "Пропуски в столбцах `floors_total`, `locality_name`, `airports_nearest` ,  `parks_nearest`,  `ponds_nearest`, `days_exposition` на основании имеющихся данных заполнить не получится. Эти параметры пусты возможно из-за того, что должны быть указаны пользователем, но не обязательны. \n",
    "\n",
    "\n",
    "Значения в пропусках в стобце `cityCenters_nearest` заполним медианным значением для данного населенного пункта."
   ]
  },
  {
   "cell_type": "code",
   "execution_count": 12,
   "metadata": {},
   "outputs": [
    {
     "data": {
      "text/plain": [
       "locality_name\n",
       "Санкт-Петербург            12242.0\n",
       "поселок Парголово          19311.0\n",
       "поселок Стрельна           23506.0\n",
       "поселок Шушары             24212.0\n",
       "поселок Левашово           25727.0\n",
       "поселок Песочный           26099.5\n",
       "поселок Петро-Славянка     27165.0\n",
       "поселок Александровская    27468.0\n",
       "поселок Металлострой       27602.0\n",
       "Пушкин                     27930.5\n",
       "поселок Усть-Ижора         28222.5\n",
       "поселок Лисий Нос          28226.0\n",
       "Красное Село               29148.5\n",
       "Колпино                    32018.0\n",
       "поселок Понтонный          32354.0\n",
       "Павловск                   32683.0\n",
       "Петергоф                   33771.0\n",
       "Сестрорецк                 34821.0\n",
       "поселок Саперный           35859.5\n",
       "поселок Белоостров         38868.0\n",
       "поселок Репино             42896.5\n",
       "Кронштадт                  49575.0\n",
       "Ломоносов                  51677.0\n",
       "Зеленогорск                53381.0\n",
       "поселок Молодежное         65764.0\n",
       "Name: cityCenters_nearest, dtype: float64"
      ]
     },
     "execution_count": 12,
     "metadata": {},
     "output_type": "execute_result"
    }
   ],
   "source": [
    "#создадим список с медианными расстояниями до центра, в зависимости от населенного пункта\n",
    "cityсenters_nearest_group = df[df.cityCenters_nearest.notnull()].groupby('locality_name')['cityCenters_nearest'].median().sort_values()\n",
    "\n",
    "cityсenters_nearest_group"
   ]
  },
  {
   "cell_type": "code",
   "execution_count": 13,
   "metadata": {},
   "outputs": [
    {
     "name": "stdout",
     "output_type": "stream",
     "text": [
      "Локация: Санкт-Петербург медиана 12242.0\n",
      "Было пропусков: 60\n",
      "Стало пропусков: 0\n",
      "Локация: поселок Парголово медиана 19311.0\n",
      "Было пропусков: 0\n",
      "Стало пропусков: 0\n",
      "Локация: поселок Стрельна медиана 23506.0\n",
      "Было пропусков: 0\n",
      "Стало пропусков: 0\n",
      "Локация: поселок Шушары медиана 24212.0\n",
      "Было пропусков: 3\n",
      "Стало пропусков: 0\n",
      "Локация: поселок Левашово медиана 25727.0\n",
      "Было пропусков: 0\n",
      "Стало пропусков: 0\n",
      "Локация: поселок Песочный медиана 26099.5\n",
      "Было пропусков: 0\n",
      "Стало пропусков: 0\n",
      "Локация: поселок Петро-Славянка медиана 27165.0\n",
      "Было пропусков: 0\n",
      "Стало пропусков: 0\n",
      "Локация: поселок Александровская медиана 27468.0\n",
      "Было пропусков: 0\n",
      "Стало пропусков: 0\n",
      "Локация: поселок Металлострой медиана 27602.0\n",
      "Было пропусков: 0\n",
      "Стало пропусков: 0\n",
      "Локация: Пушкин медиана 27930.5\n",
      "Было пропусков: 1\n",
      "Стало пропусков: 0\n",
      "Локация: поселок Усть-Ижора медиана 28222.5\n",
      "Было пропусков: 0\n",
      "Стало пропусков: 0\n",
      "Локация: поселок Лисий Нос медиана 28226.0\n",
      "Было пропусков: 0\n",
      "Стало пропусков: 0\n",
      "Локация: Красное Село медиана 29148.5\n",
      "Было пропусков: 2\n",
      "Стало пропусков: 0\n",
      "Локация: Колпино медиана 32018.0\n",
      "Было пропусков: 1\n",
      "Стало пропусков: 0\n",
      "Локация: поселок Понтонный медиана 32354.0\n",
      "Было пропусков: 0\n",
      "Стало пропусков: 0\n",
      "Локация: Павловск медиана 32683.0\n",
      "Было пропусков: 0\n",
      "Стало пропусков: 0\n",
      "Локация: Петергоф медиана 33771.0\n",
      "Было пропусков: 0\n",
      "Стало пропусков: 0\n",
      "Локация: Сестрорецк медиана 34821.0\n",
      "Было пропусков: 0\n",
      "Стало пропусков: 0\n",
      "Локация: поселок Саперный медиана 35859.5\n",
      "Было пропусков: 0\n",
      "Стало пропусков: 0\n",
      "Локация: поселок Белоостров медиана 38868.0\n",
      "Было пропусков: 0\n",
      "Стало пропусков: 0\n",
      "Локация: поселок Репино медиана 42896.5\n",
      "Было пропусков: 0\n",
      "Стало пропусков: 0\n",
      "Локация: Кронштадт медиана 49575.0\n",
      "Было пропусков: 1\n",
      "Стало пропусков: 0\n",
      "Локация: Ломоносов медиана 51677.0\n",
      "Было пропусков: 1\n",
      "Стало пропусков: 0\n",
      "Локация: Зеленогорск медиана 53381.0\n",
      "Было пропусков: 0\n",
      "Стало пропусков: 0\n",
      "Локация: поселок Молодежное медиана 65764.0\n",
      "Было пропусков: 0\n",
      "Стало пропусков: 0\n",
      "В датафрейме осталось 5432 пропусков в столбце с расстоянием до центра города\n"
     ]
    }
   ],
   "source": [
    "#Для строк, населенный пункт которых есть в спсике выше, можем заполнить расстояние до центра \n",
    "for locality in cityсenters_nearest_group.index:\n",
    "    median = cityсenters_nearest_group[locality]\n",
    "    print('Локация:', locality, 'медиана', median)\n",
    "    print('Было пропусков:', df[df['locality_name'] == locality]['cityCenters_nearest'].isnull().sum())\n",
    "    df.loc[df.loc[:, 'locality_name']==locality, 'cityCenters_nearest'] = (\n",
    "        df.loc[df.loc[:, 'locality_name']==locality, 'cityCenters_nearest'].fillna(median))\n",
    "    print('Стало пропусков:', df[df['locality_name'] == locality]['cityCenters_nearest'].isnull().sum())\n",
    "    \n",
    "print('В датафрейме осталось', df['cityCenters_nearest'].isna().sum(),  'пропусков в столбце с расстоянием до центра города')    "
   ]
  },
  {
   "cell_type": "code",
   "execution_count": 14,
   "metadata": {},
   "outputs": [
    {
     "data": {
      "text/plain": [
       "count    14481.000000\n",
       "mean         2.771283\n",
       "std          1.261983\n",
       "min          1.000000\n",
       "25%          2.510000\n",
       "50%          2.650000\n",
       "75%          2.800000\n",
       "max        100.000000\n",
       "Name: ceiling_height, dtype: float64"
      ]
     },
     "execution_count": 14,
     "metadata": {},
     "output_type": "execute_result"
    },
    {
     "data": {
      "image/png": "[encoded data removed]",
      "text/plain": [
       "<Figure size 432x288 with 1 Axes>"
      ]
     },
     "metadata": {
      "needs_background": "light"
     },
     "output_type": "display_data"
    }
   ],
   "source": [
    "#посмотрим параметр ceiling_height, видим что есть необоснованно большие значения но пока оставим их как есть,\n",
    "#медиана от среднего отличается не сильно из-за этих выбросов во всей выборке\n",
    "df['ceiling_height'].sort_values().plot(y = 'ceiling_height', kind = 'hist', bins = 30, range=(2,5))\n",
    "df['ceiling_height'].describe()"
   ]
  },
  {
   "cell_type": "code",
   "execution_count": 15,
   "metadata": {},
   "outputs": [
    {
     "name": "stdout",
     "output_type": "stream",
     "text": [
      "2.65\n"
     ]
    },
    {
     "data": {
      "text/plain": [
       "False    23565\n",
       "Name: ceiling_height, dtype: int64"
      ]
     },
     "execution_count": 15,
     "metadata": {},
     "output_type": "execute_result"
    }
   ],
   "source": [
    "height_median = df['ceiling_height'].median()\n",
    "print(height_median)\n",
    "df['ceiling_height'] = df['ceiling_height'].fillna(height_median)\n",
    "df['ceiling_height'].isna().value_counts()"
   ]
  },
  {
   "cell_type": "code",
   "execution_count": 16,
   "metadata": {},
   "outputs": [
    {
     "data": {
      "text/plain": [
       "0   2019-03-07\n",
       "1   2018-12-04\n",
       "2   2015-08-20\n",
       "3   2015-07-24\n",
       "4   2018-06-19\n",
       "Name: first_day_exposition, dtype: datetime64[ns]"
      ]
     },
     "execution_count": 16,
     "metadata": {},
     "output_type": "execute_result"
    }
   ],
   "source": [
    "#переведем столбец с датой в формат даты без времени, т.к. время не указано\n",
    "df['first_day_exposition'] = pd.to_datetime(df['first_day_exposition'],\n",
    "                                            format='%Y-%m-%dT%H:%M:%S')\n",
    "df['first_day_exposition'].head() "
   ]
  },
  {
   "cell_type": "code",
   "execution_count": 17,
   "metadata": {
    "scrolled": true
   },
   "outputs": [
    {
     "data": {
      "text/plain": [
       "0    13000000\n",
       "1     3350000\n",
       "2     5196000\n",
       "3    64900000\n",
       "4    10000000\n",
       "Name: last_price, dtype: int64"
      ]
     },
     "execution_count": 17,
     "metadata": {},
     "output_type": "execute_result"
    }
   ],
   "source": [
    "#изменим цену на тип int для удобства просмотра\n",
    "df['last_price'] = df['last_price'].astype('int')\n",
    "df['last_price'].head()"
   ]
  },
  {
   "cell_type": "code",
   "execution_count": 18,
   "metadata": {
    "scrolled": true
   },
   "outputs": [
    {
     "name": "stdout",
     "output_type": "stream",
     "text": [
      "<class 'pandas.core.frame.DataFrame'>\n",
      "Int64Index: 23565 entries, 0 to 23698\n",
      "Data columns (total 22 columns):\n",
      " #   Column                Non-Null Count  Dtype         \n",
      "---  ------                --------------  -----         \n",
      " 0   total_images          23565 non-null  int64         \n",
      " 1   last_price            23565 non-null  int64         \n",
      " 2   total_area            23565 non-null  float64       \n",
      " 3   first_day_exposition  23565 non-null  datetime64[ns]\n",
      " 4   rooms                 23565 non-null  int64         \n",
      " 5   ceiling_height        23565 non-null  float64       \n",
      " 6   floors_total          23565 non-null  float64       \n",
      " 7   living_area           21700 non-null  float64       \n",
      " 8   floor                 23565 non-null  int64         \n",
      " 9   is_apartment          23565 non-null  bool          \n",
      " 10  studio                23565 non-null  bool          \n",
      " 11  open_plan             23565 non-null  bool          \n",
      " 12  kitchen_area          21343 non-null  float64       \n",
      " 13  balcony               23565 non-null  int64         \n",
      " 14  locality_name         23565 non-null  object        \n",
      " 15  airports_nearest      18041 non-null  float64       \n",
      " 16  cityCenters_nearest   18133 non-null  float64       \n",
      " 17  parks_around3000      23565 non-null  int64         \n",
      " 18  parks_nearest         8030 non-null   float64       \n",
      " 19  ponds_around3000      23565 non-null  int64         \n",
      " 20  ponds_nearest         9036 non-null   float64       \n",
      " 21  days_exposition       20394 non-null  float64       \n",
      "dtypes: bool(3), datetime64[ns](1), float64(10), int64(7), object(1)\n",
      "memory usage: 3.7+ MB\n"
     ]
    }
   ],
   "source": [
    "df.info()"
   ]
  },
  {
   "cell_type": "markdown",
   "metadata": {},
   "source": [
    "### Вывод"
   ]
  },
  {
   "cell_type": "markdown",
   "metadata": {},
   "source": [
    "- Удалили из датафрейма 134 строки, в которых отсутствовало указание на населенный пункт или этажность дома, т.к. эти столбцы нужны для дальнейшего анализа, пустые значения заполнить нечем.\n",
    "- Заполнили 0 пустые строки в столбцах: с количеством балконов, количеством близжайших прудов, количеством близжайших парков.\n",
    "- Поменяли тип на целочисленный для удобства дальнейшей работы и восприятия данных в столбце с количеством балконов, с ценой на момент снятия с публикации.\n",
    "- Столбец с Датой публикации привели к виду гггг-мм-дд\n",
    "- пропуски в столбце с признак \"Апартаменты\" заполнили значением `false`"
   ]
  },
  {
   "cell_type": "markdown",
   "metadata": {},
   "source": [
    "## Расчёты и добавление результатов в таблицу"
   ]
  },
  {
   "cell_type": "markdown",
   "metadata": {},
   "source": [
    "Посчитаем и добавим в таблицу\n",
    "- цену квадратного метра;\n",
    "- день недели, месяц и год публикации объявления;\n",
    "- этаж квартиры; варианты — первый, последний, другой;\n",
    "- соотношение жилой и общей площади, а также отношение площади кухни к общей."
   ]
  },
  {
   "cell_type": "code",
   "execution_count": 19,
   "metadata": {},
   "outputs": [
    {
     "data": {
      "text/html": [
       "<div>\n",
       "<style scoped>\n",
       "    .dataframe tbody tr th:only-of-type {\n",
       "        vertical-align: middle;\n",
       "    }\n",
       "\n",
       "    .dataframe tbody tr th {\n",
       "        vertical-align: top;\n",
       "    }\n",
       "\n",
       "    .dataframe thead th {\n",
       "        text-align: right;\n",
       "    }\n",
       "</style>\n",
       "<table border=\"1\" class=\"dataframe\">\n",
       "  <thead>\n",
       "    <tr style=\"text-align: right;\">\n",
       "      <th></th>\n",
       "      <th>total_images</th>\n",
       "      <th>last_price</th>\n",
       "      <th>total_area</th>\n",
       "      <th>first_day_exposition</th>\n",
       "      <th>rooms</th>\n",
       "      <th>ceiling_height</th>\n",
       "      <th>floors_total</th>\n",
       "      <th>living_area</th>\n",
       "      <th>floor</th>\n",
       "      <th>is_apartment</th>\n",
       "      <th>studio</th>\n",
       "      <th>open_plan</th>\n",
       "      <th>kitchen_area</th>\n",
       "      <th>balcony</th>\n",
       "      <th>locality_name</th>\n",
       "      <th>airports_nearest</th>\n",
       "      <th>cityCenters_nearest</th>\n",
       "      <th>parks_around3000</th>\n",
       "      <th>parks_nearest</th>\n",
       "      <th>ponds_around3000</th>\n",
       "      <th>ponds_nearest</th>\n",
       "      <th>days_exposition</th>\n",
       "      <th>price_of_square_meter</th>\n",
       "    </tr>\n",
       "  </thead>\n",
       "  <tbody>\n",
       "    <tr>\n",
       "      <th>0</th>\n",
       "      <td>20</td>\n",
       "      <td>13000000</td>\n",
       "      <td>108.0</td>\n",
       "      <td>2019-03-07</td>\n",
       "      <td>3</td>\n",
       "      <td>2.70</td>\n",
       "      <td>16.0</td>\n",
       "      <td>51.0</td>\n",
       "      <td>8</td>\n",
       "      <td>False</td>\n",
       "      <td>False</td>\n",
       "      <td>False</td>\n",
       "      <td>25.0</td>\n",
       "      <td>0</td>\n",
       "      <td>Санкт-Петербург</td>\n",
       "      <td>18863.0</td>\n",
       "      <td>16028.0</td>\n",
       "      <td>1</td>\n",
       "      <td>482.0</td>\n",
       "      <td>2</td>\n",
       "      <td>755.0</td>\n",
       "      <td>NaN</td>\n",
       "      <td>120370</td>\n",
       "    </tr>\n",
       "    <tr>\n",
       "      <th>1</th>\n",
       "      <td>7</td>\n",
       "      <td>3350000</td>\n",
       "      <td>40.4</td>\n",
       "      <td>2018-12-04</td>\n",
       "      <td>1</td>\n",
       "      <td>2.65</td>\n",
       "      <td>11.0</td>\n",
       "      <td>18.6</td>\n",
       "      <td>1</td>\n",
       "      <td>False</td>\n",
       "      <td>False</td>\n",
       "      <td>False</td>\n",
       "      <td>11.0</td>\n",
       "      <td>2</td>\n",
       "      <td>поселок Шушары</td>\n",
       "      <td>12817.0</td>\n",
       "      <td>18603.0</td>\n",
       "      <td>0</td>\n",
       "      <td>NaN</td>\n",
       "      <td>0</td>\n",
       "      <td>NaN</td>\n",
       "      <td>81.0</td>\n",
       "      <td>82920</td>\n",
       "    </tr>\n",
       "    <tr>\n",
       "      <th>2</th>\n",
       "      <td>10</td>\n",
       "      <td>5196000</td>\n",
       "      <td>56.0</td>\n",
       "      <td>2015-08-20</td>\n",
       "      <td>2</td>\n",
       "      <td>2.65</td>\n",
       "      <td>5.0</td>\n",
       "      <td>34.3</td>\n",
       "      <td>4</td>\n",
       "      <td>False</td>\n",
       "      <td>False</td>\n",
       "      <td>False</td>\n",
       "      <td>8.3</td>\n",
       "      <td>0</td>\n",
       "      <td>Санкт-Петербург</td>\n",
       "      <td>21741.0</td>\n",
       "      <td>13933.0</td>\n",
       "      <td>1</td>\n",
       "      <td>90.0</td>\n",
       "      <td>2</td>\n",
       "      <td>574.0</td>\n",
       "      <td>558.0</td>\n",
       "      <td>92785</td>\n",
       "    </tr>\n",
       "    <tr>\n",
       "      <th>3</th>\n",
       "      <td>0</td>\n",
       "      <td>64900000</td>\n",
       "      <td>159.0</td>\n",
       "      <td>2015-07-24</td>\n",
       "      <td>3</td>\n",
       "      <td>2.65</td>\n",
       "      <td>14.0</td>\n",
       "      <td>NaN</td>\n",
       "      <td>9</td>\n",
       "      <td>False</td>\n",
       "      <td>False</td>\n",
       "      <td>False</td>\n",
       "      <td>NaN</td>\n",
       "      <td>0</td>\n",
       "      <td>Санкт-Петербург</td>\n",
       "      <td>28098.0</td>\n",
       "      <td>6800.0</td>\n",
       "      <td>2</td>\n",
       "      <td>84.0</td>\n",
       "      <td>3</td>\n",
       "      <td>234.0</td>\n",
       "      <td>424.0</td>\n",
       "      <td>408176</td>\n",
       "    </tr>\n",
       "    <tr>\n",
       "      <th>4</th>\n",
       "      <td>2</td>\n",
       "      <td>10000000</td>\n",
       "      <td>100.0</td>\n",
       "      <td>2018-06-19</td>\n",
       "      <td>2</td>\n",
       "      <td>3.03</td>\n",
       "      <td>14.0</td>\n",
       "      <td>32.0</td>\n",
       "      <td>13</td>\n",
       "      <td>False</td>\n",
       "      <td>False</td>\n",
       "      <td>False</td>\n",
       "      <td>41.0</td>\n",
       "      <td>0</td>\n",
       "      <td>Санкт-Петербург</td>\n",
       "      <td>31856.0</td>\n",
       "      <td>8098.0</td>\n",
       "      <td>2</td>\n",
       "      <td>112.0</td>\n",
       "      <td>1</td>\n",
       "      <td>48.0</td>\n",
       "      <td>121.0</td>\n",
       "      <td>100000</td>\n",
       "    </tr>\n",
       "  </tbody>\n",
       "</table>\n",
       "</div>"
      ],
      "text/plain": [
       "   total_images  last_price  total_area first_day_exposition  rooms  \\\n",
       "0            20    13000000       108.0           2019-03-07      3   \n",
       "1             7     3350000        40.4           2018-12-04      1   \n",
       "2            10     5196000        56.0           2015-08-20      2   \n",
       "3             0    64900000       159.0           2015-07-24      3   \n",
       "4             2    10000000       100.0           2018-06-19      2   \n",
       "\n",
       "   ceiling_height  floors_total  living_area  floor  is_apartment  studio  \\\n",
       "0            2.70          16.0         51.0      8         False   False   \n",
       "1            2.65          11.0         18.6      1         False   False   \n",
       "2            2.65           5.0         34.3      4         False   False   \n",
       "3            2.65          14.0          NaN      9         False   False   \n",
       "4            3.03          14.0         32.0     13         False   False   \n",
       "\n",
       "   open_plan  kitchen_area  balcony    locality_name  airports_nearest  \\\n",
       "0      False          25.0        0  Санкт-Петербург           18863.0   \n",
       "1      False          11.0        2   поселок Шушары           12817.0   \n",
       "2      False           8.3        0  Санкт-Петербург           21741.0   \n",
       "3      False           NaN        0  Санкт-Петербург           28098.0   \n",
       "4      False          41.0        0  Санкт-Петербург           31856.0   \n",
       "\n",
       "   cityCenters_nearest  parks_around3000  parks_nearest  ponds_around3000  \\\n",
       "0              16028.0                 1          482.0                 2   \n",
       "1              18603.0                 0            NaN                 0   \n",
       "2              13933.0                 1           90.0                 2   \n",
       "3               6800.0                 2           84.0                 3   \n",
       "4               8098.0                 2          112.0                 1   \n",
       "\n",
       "   ponds_nearest  days_exposition  price_of_square_meter  \n",
       "0          755.0              NaN                 120370  \n",
       "1            NaN             81.0                  82920  \n",
       "2          574.0            558.0                  92785  \n",
       "3          234.0            424.0                 408176  \n",
       "4           48.0            121.0                 100000  "
      ]
     },
     "execution_count": 19,
     "metadata": {},
     "output_type": "execute_result"
    }
   ],
   "source": [
    "#посчитаем цену квадратного метра\n",
    "df['price_of_square_meter'] = df['last_price'] / df['total_area']\n",
    "\n",
    "#для удобства просмотра приведем к типу int\n",
    "df['price_of_square_meter'] = df['price_of_square_meter'].astype('int')\n",
    "df.head()"
   ]
  },
  {
   "cell_type": "code",
   "execution_count": 20,
   "metadata": {},
   "outputs": [
    {
     "data": {
      "text/html": [
       "<div>\n",
       "<style scoped>\n",
       "    .dataframe tbody tr th:only-of-type {\n",
       "        vertical-align: middle;\n",
       "    }\n",
       "\n",
       "    .dataframe tbody tr th {\n",
       "        vertical-align: top;\n",
       "    }\n",
       "\n",
       "    .dataframe thead th {\n",
       "        text-align: right;\n",
       "    }\n",
       "</style>\n",
       "<table border=\"1\" class=\"dataframe\">\n",
       "  <thead>\n",
       "    <tr style=\"text-align: right;\">\n",
       "      <th></th>\n",
       "      <th>total_images</th>\n",
       "      <th>last_price</th>\n",
       "      <th>total_area</th>\n",
       "      <th>first_day_exposition</th>\n",
       "      <th>rooms</th>\n",
       "      <th>ceiling_height</th>\n",
       "      <th>floors_total</th>\n",
       "      <th>living_area</th>\n",
       "      <th>floor</th>\n",
       "      <th>is_apartment</th>\n",
       "      <th>studio</th>\n",
       "      <th>open_plan</th>\n",
       "      <th>kitchen_area</th>\n",
       "      <th>balcony</th>\n",
       "      <th>locality_name</th>\n",
       "      <th>airports_nearest</th>\n",
       "      <th>cityCenters_nearest</th>\n",
       "      <th>parks_around3000</th>\n",
       "      <th>parks_nearest</th>\n",
       "      <th>ponds_around3000</th>\n",
       "      <th>ponds_nearest</th>\n",
       "      <th>days_exposition</th>\n",
       "      <th>price_of_square_meter</th>\n",
       "      <th>year_exposition</th>\n",
       "      <th>month_exposition</th>\n",
       "      <th>weekday_exposition</th>\n",
       "    </tr>\n",
       "  </thead>\n",
       "  <tbody>\n",
       "    <tr>\n",
       "      <th>0</th>\n",
       "      <td>20</td>\n",
       "      <td>13000000</td>\n",
       "      <td>108.0</td>\n",
       "      <td>2019-03-07</td>\n",
       "      <td>3</td>\n",
       "      <td>2.70</td>\n",
       "      <td>16.0</td>\n",
       "      <td>51.0</td>\n",
       "      <td>8</td>\n",
       "      <td>False</td>\n",
       "      <td>False</td>\n",
       "      <td>False</td>\n",
       "      <td>25.0</td>\n",
       "      <td>0</td>\n",
       "      <td>Санкт-Петербург</td>\n",
       "      <td>18863.0</td>\n",
       "      <td>16028.0</td>\n",
       "      <td>1</td>\n",
       "      <td>482.0</td>\n",
       "      <td>2</td>\n",
       "      <td>755.0</td>\n",
       "      <td>NaN</td>\n",
       "      <td>120370</td>\n",
       "      <td>2019</td>\n",
       "      <td>3</td>\n",
       "      <td>3</td>\n",
       "    </tr>\n",
       "    <tr>\n",
       "      <th>1</th>\n",
       "      <td>7</td>\n",
       "      <td>3350000</td>\n",
       "      <td>40.4</td>\n",
       "      <td>2018-12-04</td>\n",
       "      <td>1</td>\n",
       "      <td>2.65</td>\n",
       "      <td>11.0</td>\n",
       "      <td>18.6</td>\n",
       "      <td>1</td>\n",
       "      <td>False</td>\n",
       "      <td>False</td>\n",
       "      <td>False</td>\n",
       "      <td>11.0</td>\n",
       "      <td>2</td>\n",
       "      <td>поселок Шушары</td>\n",
       "      <td>12817.0</td>\n",
       "      <td>18603.0</td>\n",
       "      <td>0</td>\n",
       "      <td>NaN</td>\n",
       "      <td>0</td>\n",
       "      <td>NaN</td>\n",
       "      <td>81.0</td>\n",
       "      <td>82920</td>\n",
       "      <td>2018</td>\n",
       "      <td>12</td>\n",
       "      <td>1</td>\n",
       "    </tr>\n",
       "    <tr>\n",
       "      <th>2</th>\n",
       "      <td>10</td>\n",
       "      <td>5196000</td>\n",
       "      <td>56.0</td>\n",
       "      <td>2015-08-20</td>\n",
       "      <td>2</td>\n",
       "      <td>2.65</td>\n",
       "      <td>5.0</td>\n",
       "      <td>34.3</td>\n",
       "      <td>4</td>\n",
       "      <td>False</td>\n",
       "      <td>False</td>\n",
       "      <td>False</td>\n",
       "      <td>8.3</td>\n",
       "      <td>0</td>\n",
       "      <td>Санкт-Петербург</td>\n",
       "      <td>21741.0</td>\n",
       "      <td>13933.0</td>\n",
       "      <td>1</td>\n",
       "      <td>90.0</td>\n",
       "      <td>2</td>\n",
       "      <td>574.0</td>\n",
       "      <td>558.0</td>\n",
       "      <td>92785</td>\n",
       "      <td>2015</td>\n",
       "      <td>8</td>\n",
       "      <td>3</td>\n",
       "    </tr>\n",
       "    <tr>\n",
       "      <th>3</th>\n",
       "      <td>0</td>\n",
       "      <td>64900000</td>\n",
       "      <td>159.0</td>\n",
       "      <td>2015-07-24</td>\n",
       "      <td>3</td>\n",
       "      <td>2.65</td>\n",
       "      <td>14.0</td>\n",
       "      <td>NaN</td>\n",
       "      <td>9</td>\n",
       "      <td>False</td>\n",
       "      <td>False</td>\n",
       "      <td>False</td>\n",
       "      <td>NaN</td>\n",
       "      <td>0</td>\n",
       "      <td>Санкт-Петербург</td>\n",
       "      <td>28098.0</td>\n",
       "      <td>6800.0</td>\n",
       "      <td>2</td>\n",
       "      <td>84.0</td>\n",
       "      <td>3</td>\n",
       "      <td>234.0</td>\n",
       "      <td>424.0</td>\n",
       "      <td>408176</td>\n",
       "      <td>2015</td>\n",
       "      <td>7</td>\n",
       "      <td>4</td>\n",
       "    </tr>\n",
       "    <tr>\n",
       "      <th>4</th>\n",
       "      <td>2</td>\n",
       "      <td>10000000</td>\n",
       "      <td>100.0</td>\n",
       "      <td>2018-06-19</td>\n",
       "      <td>2</td>\n",
       "      <td>3.03</td>\n",
       "      <td>14.0</td>\n",
       "      <td>32.0</td>\n",
       "      <td>13</td>\n",
       "      <td>False</td>\n",
       "      <td>False</td>\n",
       "      <td>False</td>\n",
       "      <td>41.0</td>\n",
       "      <td>0</td>\n",
       "      <td>Санкт-Петербург</td>\n",
       "      <td>31856.0</td>\n",
       "      <td>8098.0</td>\n",
       "      <td>2</td>\n",
       "      <td>112.0</td>\n",
       "      <td>1</td>\n",
       "      <td>48.0</td>\n",
       "      <td>121.0</td>\n",
       "      <td>100000</td>\n",
       "      <td>2018</td>\n",
       "      <td>6</td>\n",
       "      <td>1</td>\n",
       "    </tr>\n",
       "  </tbody>\n",
       "</table>\n",
       "</div>"
      ],
      "text/plain": [
       "   total_images  last_price  total_area first_day_exposition  rooms  \\\n",
       "0            20    13000000       108.0           2019-03-07      3   \n",
       "1             7     3350000        40.4           2018-12-04      1   \n",
       "2            10     5196000        56.0           2015-08-20      2   \n",
       "3             0    64900000       159.0           2015-07-24      3   \n",
       "4             2    10000000       100.0           2018-06-19      2   \n",
       "\n",
       "   ceiling_height  floors_total  living_area  floor  is_apartment  studio  \\\n",
       "0            2.70          16.0         51.0      8         False   False   \n",
       "1            2.65          11.0         18.6      1         False   False   \n",
       "2            2.65           5.0         34.3      4         False   False   \n",
       "3            2.65          14.0          NaN      9         False   False   \n",
       "4            3.03          14.0         32.0     13         False   False   \n",
       "\n",
       "   open_plan  kitchen_area  balcony    locality_name  airports_nearest  \\\n",
       "0      False          25.0        0  Санкт-Петербург           18863.0   \n",
       "1      False          11.0        2   поселок Шушары           12817.0   \n",
       "2      False           8.3        0  Санкт-Петербург           21741.0   \n",
       "3      False           NaN        0  Санкт-Петербург           28098.0   \n",
       "4      False          41.0        0  Санкт-Петербург           31856.0   \n",
       "\n",
       "   cityCenters_nearest  parks_around3000  parks_nearest  ponds_around3000  \\\n",
       "0              16028.0                 1          482.0                 2   \n",
       "1              18603.0                 0            NaN                 0   \n",
       "2              13933.0                 1           90.0                 2   \n",
       "3               6800.0                 2           84.0                 3   \n",
       "4               8098.0                 2          112.0                 1   \n",
       "\n",
       "   ponds_nearest  days_exposition  price_of_square_meter  year_exposition  \\\n",
       "0          755.0              NaN                 120370             2019   \n",
       "1            NaN             81.0                  82920             2018   \n",
       "2          574.0            558.0                  92785             2015   \n",
       "3          234.0            424.0                 408176             2015   \n",
       "4           48.0            121.0                 100000             2018   \n",
       "\n",
       "   month_exposition  weekday_exposition  \n",
       "0                 3                   3  \n",
       "1                12                   1  \n",
       "2                 8                   3  \n",
       "3                 7                   4  \n",
       "4                 6                   1  "
      ]
     },
     "execution_count": 20,
     "metadata": {},
     "output_type": "execute_result"
    }
   ],
   "source": [
    "#добавим столбцы с годом, месяцем и днем недели публикации объявления\n",
    "df['year_exposition'] = pd.DatetimeIndex(df['first_day_exposition']).year\n",
    "df['month_exposition'] = pd.DatetimeIndex(df['first_day_exposition']).month\n",
    "df['weekday_exposition'] = pd.DatetimeIndex(df['first_day_exposition']).weekday\n",
    "df.head()"
   ]
  },
  {
   "cell_type": "code",
   "execution_count": 21,
   "metadata": {
    "scrolled": true
   },
   "outputs": [
    {
     "data": {
      "text/html": [
       "<div>\n",
       "<style scoped>\n",
       "    .dataframe tbody tr th:only-of-type {\n",
       "        vertical-align: middle;\n",
       "    }\n",
       "\n",
       "    .dataframe tbody tr th {\n",
       "        vertical-align: top;\n",
       "    }\n",
       "\n",
       "    .dataframe thead th {\n",
       "        text-align: right;\n",
       "    }\n",
       "</style>\n",
       "<table border=\"1\" class=\"dataframe\">\n",
       "  <thead>\n",
       "    <tr style=\"text-align: right;\">\n",
       "      <th></th>\n",
       "      <th>total_images</th>\n",
       "      <th>last_price</th>\n",
       "      <th>total_area</th>\n",
       "      <th>first_day_exposition</th>\n",
       "      <th>rooms</th>\n",
       "      <th>ceiling_height</th>\n",
       "      <th>floors_total</th>\n",
       "      <th>living_area</th>\n",
       "      <th>floor</th>\n",
       "      <th>is_apartment</th>\n",
       "      <th>studio</th>\n",
       "      <th>open_plan</th>\n",
       "      <th>kitchen_area</th>\n",
       "      <th>balcony</th>\n",
       "      <th>locality_name</th>\n",
       "      <th>airports_nearest</th>\n",
       "      <th>cityCenters_nearest</th>\n",
       "      <th>parks_around3000</th>\n",
       "      <th>parks_nearest</th>\n",
       "      <th>ponds_around3000</th>\n",
       "      <th>ponds_nearest</th>\n",
       "      <th>days_exposition</th>\n",
       "      <th>price_of_square_meter</th>\n",
       "      <th>year_exposition</th>\n",
       "      <th>month_exposition</th>\n",
       "      <th>weekday_exposition</th>\n",
       "      <th>floor_type</th>\n",
       "    </tr>\n",
       "  </thead>\n",
       "  <tbody>\n",
       "    <tr>\n",
       "      <th>23694</th>\n",
       "      <td>9</td>\n",
       "      <td>9700000</td>\n",
       "      <td>133.81</td>\n",
       "      <td>2017-03-21</td>\n",
       "      <td>3</td>\n",
       "      <td>3.70</td>\n",
       "      <td>5.0</td>\n",
       "      <td>73.3</td>\n",
       "      <td>3</td>\n",
       "      <td>False</td>\n",
       "      <td>False</td>\n",
       "      <td>False</td>\n",
       "      <td>13.83</td>\n",
       "      <td>0</td>\n",
       "      <td>Санкт-Петербург</td>\n",
       "      <td>24665.0</td>\n",
       "      <td>4232.0</td>\n",
       "      <td>1</td>\n",
       "      <td>796.0</td>\n",
       "      <td>3</td>\n",
       "      <td>381.0</td>\n",
       "      <td>NaN</td>\n",
       "      <td>72490</td>\n",
       "      <td>2017</td>\n",
       "      <td>3</td>\n",
       "      <td>1</td>\n",
       "      <td>другой</td>\n",
       "    </tr>\n",
       "    <tr>\n",
       "      <th>23695</th>\n",
       "      <td>14</td>\n",
       "      <td>3100000</td>\n",
       "      <td>59.00</td>\n",
       "      <td>2018-01-15</td>\n",
       "      <td>3</td>\n",
       "      <td>2.65</td>\n",
       "      <td>5.0</td>\n",
       "      <td>38.0</td>\n",
       "      <td>4</td>\n",
       "      <td>False</td>\n",
       "      <td>False</td>\n",
       "      <td>False</td>\n",
       "      <td>8.50</td>\n",
       "      <td>0</td>\n",
       "      <td>Тосно</td>\n",
       "      <td>NaN</td>\n",
       "      <td>NaN</td>\n",
       "      <td>0</td>\n",
       "      <td>NaN</td>\n",
       "      <td>0</td>\n",
       "      <td>NaN</td>\n",
       "      <td>45.0</td>\n",
       "      <td>52542</td>\n",
       "      <td>2018</td>\n",
       "      <td>1</td>\n",
       "      <td>0</td>\n",
       "      <td>другой</td>\n",
       "    </tr>\n",
       "    <tr>\n",
       "      <th>23696</th>\n",
       "      <td>18</td>\n",
       "      <td>2500000</td>\n",
       "      <td>56.70</td>\n",
       "      <td>2018-02-11</td>\n",
       "      <td>2</td>\n",
       "      <td>2.65</td>\n",
       "      <td>3.0</td>\n",
       "      <td>29.7</td>\n",
       "      <td>1</td>\n",
       "      <td>False</td>\n",
       "      <td>False</td>\n",
       "      <td>False</td>\n",
       "      <td>NaN</td>\n",
       "      <td>0</td>\n",
       "      <td>село Рождествено</td>\n",
       "      <td>NaN</td>\n",
       "      <td>NaN</td>\n",
       "      <td>0</td>\n",
       "      <td>NaN</td>\n",
       "      <td>0</td>\n",
       "      <td>NaN</td>\n",
       "      <td>NaN</td>\n",
       "      <td>44091</td>\n",
       "      <td>2018</td>\n",
       "      <td>2</td>\n",
       "      <td>6</td>\n",
       "      <td>первый</td>\n",
       "    </tr>\n",
       "    <tr>\n",
       "      <th>23697</th>\n",
       "      <td>13</td>\n",
       "      <td>11475000</td>\n",
       "      <td>76.75</td>\n",
       "      <td>2017-03-28</td>\n",
       "      <td>2</td>\n",
       "      <td>3.00</td>\n",
       "      <td>17.0</td>\n",
       "      <td>NaN</td>\n",
       "      <td>12</td>\n",
       "      <td>False</td>\n",
       "      <td>False</td>\n",
       "      <td>False</td>\n",
       "      <td>23.30</td>\n",
       "      <td>2</td>\n",
       "      <td>Санкт-Петербург</td>\n",
       "      <td>39140.0</td>\n",
       "      <td>10364.0</td>\n",
       "      <td>2</td>\n",
       "      <td>173.0</td>\n",
       "      <td>3</td>\n",
       "      <td>196.0</td>\n",
       "      <td>602.0</td>\n",
       "      <td>149511</td>\n",
       "      <td>2017</td>\n",
       "      <td>3</td>\n",
       "      <td>1</td>\n",
       "      <td>другой</td>\n",
       "    </tr>\n",
       "    <tr>\n",
       "      <th>23698</th>\n",
       "      <td>4</td>\n",
       "      <td>1350000</td>\n",
       "      <td>32.30</td>\n",
       "      <td>2017-07-21</td>\n",
       "      <td>1</td>\n",
       "      <td>2.50</td>\n",
       "      <td>5.0</td>\n",
       "      <td>12.3</td>\n",
       "      <td>1</td>\n",
       "      <td>False</td>\n",
       "      <td>False</td>\n",
       "      <td>False</td>\n",
       "      <td>9.00</td>\n",
       "      <td>0</td>\n",
       "      <td>поселок Новый Учхоз</td>\n",
       "      <td>NaN</td>\n",
       "      <td>NaN</td>\n",
       "      <td>0</td>\n",
       "      <td>NaN</td>\n",
       "      <td>0</td>\n",
       "      <td>NaN</td>\n",
       "      <td>NaN</td>\n",
       "      <td>41795</td>\n",
       "      <td>2017</td>\n",
       "      <td>7</td>\n",
       "      <td>4</td>\n",
       "      <td>первый</td>\n",
       "    </tr>\n",
       "  </tbody>\n",
       "</table>\n",
       "</div>"
      ],
      "text/plain": [
       "       total_images  last_price  total_area first_day_exposition  rooms  \\\n",
       "23694             9     9700000      133.81           2017-03-21      3   \n",
       "23695            14     3100000       59.00           2018-01-15      3   \n",
       "23696            18     2500000       56.70           2018-02-11      2   \n",
       "23697            13    11475000       76.75           2017-03-28      2   \n",
       "23698             4     1350000       32.30           2017-07-21      1   \n",
       "\n",
       "       ceiling_height  floors_total  living_area  floor  is_apartment  studio  \\\n",
       "23694            3.70           5.0         73.3      3         False   False   \n",
       "23695            2.65           5.0         38.0      4         False   False   \n",
       "23696            2.65           3.0         29.7      1         False   False   \n",
       "23697            3.00          17.0          NaN     12         False   False   \n",
       "23698            2.50           5.0         12.3      1         False   False   \n",
       "\n",
       "       open_plan  kitchen_area  balcony        locality_name  \\\n",
       "23694      False         13.83        0      Санкт-Петербург   \n",
       "23695      False          8.50        0                Тосно   \n",
       "23696      False           NaN        0     село Рождествено   \n",
       "23697      False         23.30        2      Санкт-Петербург   \n",
       "23698      False          9.00        0  поселок Новый Учхоз   \n",
       "\n",
       "       airports_nearest  cityCenters_nearest  parks_around3000  parks_nearest  \\\n",
       "23694           24665.0               4232.0                 1          796.0   \n",
       "23695               NaN                  NaN                 0            NaN   \n",
       "23696               NaN                  NaN                 0            NaN   \n",
       "23697           39140.0              10364.0                 2          173.0   \n",
       "23698               NaN                  NaN                 0            NaN   \n",
       "\n",
       "       ponds_around3000  ponds_nearest  days_exposition  \\\n",
       "23694                 3          381.0              NaN   \n",
       "23695                 0            NaN             45.0   \n",
       "23696                 0            NaN              NaN   \n",
       "23697                 3          196.0            602.0   \n",
       "23698                 0            NaN              NaN   \n",
       "\n",
       "       price_of_square_meter  year_exposition  month_exposition  \\\n",
       "23694                  72490             2017                 3   \n",
       "23695                  52542             2018                 1   \n",
       "23696                  44091             2018                 2   \n",
       "23697                 149511             2017                 3   \n",
       "23698                  41795             2017                 7   \n",
       "\n",
       "       weekday_exposition floor_type  \n",
       "23694                   1     другой  \n",
       "23695                   0     другой  \n",
       "23696                   6     первый  \n",
       "23697                   1     другой  \n",
       "23698                   4     первый  "
      ]
     },
     "execution_count": 21,
     "metadata": {},
     "output_type": "execute_result"
    }
   ],
   "source": [
    "#создадим функцию для категоризации этажей\n",
    "def floor_group(row):\n",
    "    if row['floor'] == 1:\n",
    "        return 'первый'\n",
    "    elif row['floor'] == row['floors_total']:\n",
    "        return 'последний'\n",
    "    else:\n",
    "        return 'другой'\n",
    "\n",
    "df['floor_type'] = df.apply(floor_group, axis=1)\n",
    "df.tail()"
   ]
  },
  {
   "cell_type": "code",
   "execution_count": 22,
   "metadata": {
    "scrolled": true
   },
   "outputs": [
    {
     "data": {
      "text/html": [
       "<div>\n",
       "<style scoped>\n",
       "    .dataframe tbody tr th:only-of-type {\n",
       "        vertical-align: middle;\n",
       "    }\n",
       "\n",
       "    .dataframe tbody tr th {\n",
       "        vertical-align: top;\n",
       "    }\n",
       "\n",
       "    .dataframe thead th {\n",
       "        text-align: right;\n",
       "    }\n",
       "</style>\n",
       "<table border=\"1\" class=\"dataframe\">\n",
       "  <thead>\n",
       "    <tr style=\"text-align: right;\">\n",
       "      <th></th>\n",
       "      <th>total_images</th>\n",
       "      <th>last_price</th>\n",
       "      <th>total_area</th>\n",
       "      <th>first_day_exposition</th>\n",
       "      <th>rooms</th>\n",
       "      <th>ceiling_height</th>\n",
       "      <th>floors_total</th>\n",
       "      <th>living_area</th>\n",
       "      <th>floor</th>\n",
       "      <th>is_apartment</th>\n",
       "      <th>studio</th>\n",
       "      <th>open_plan</th>\n",
       "      <th>kitchen_area</th>\n",
       "      <th>balcony</th>\n",
       "      <th>locality_name</th>\n",
       "      <th>airports_nearest</th>\n",
       "      <th>cityCenters_nearest</th>\n",
       "      <th>parks_around3000</th>\n",
       "      <th>parks_nearest</th>\n",
       "      <th>ponds_around3000</th>\n",
       "      <th>ponds_nearest</th>\n",
       "      <th>days_exposition</th>\n",
       "      <th>price_of_square_meter</th>\n",
       "      <th>year_exposition</th>\n",
       "      <th>month_exposition</th>\n",
       "      <th>weekday_exposition</th>\n",
       "      <th>floor_type</th>\n",
       "      <th>useful_area_ratio</th>\n",
       "      <th>kitchen_area_ratio</th>\n",
       "    </tr>\n",
       "  </thead>\n",
       "  <tbody>\n",
       "    <tr>\n",
       "      <th>0</th>\n",
       "      <td>20</td>\n",
       "      <td>13000000</td>\n",
       "      <td>108.0</td>\n",
       "      <td>2019-03-07</td>\n",
       "      <td>3</td>\n",
       "      <td>2.70</td>\n",
       "      <td>16.0</td>\n",
       "      <td>51.0</td>\n",
       "      <td>8</td>\n",
       "      <td>False</td>\n",
       "      <td>False</td>\n",
       "      <td>False</td>\n",
       "      <td>25.0</td>\n",
       "      <td>0</td>\n",
       "      <td>Санкт-Петербург</td>\n",
       "      <td>18863.0</td>\n",
       "      <td>16028.0</td>\n",
       "      <td>1</td>\n",
       "      <td>482.0</td>\n",
       "      <td>2</td>\n",
       "      <td>755.0</td>\n",
       "      <td>NaN</td>\n",
       "      <td>120370</td>\n",
       "      <td>2019</td>\n",
       "      <td>3</td>\n",
       "      <td>3</td>\n",
       "      <td>другой</td>\n",
       "      <td>0.472222</td>\n",
       "      <td>0.231481</td>\n",
       "    </tr>\n",
       "    <tr>\n",
       "      <th>1</th>\n",
       "      <td>7</td>\n",
       "      <td>3350000</td>\n",
       "      <td>40.4</td>\n",
       "      <td>2018-12-04</td>\n",
       "      <td>1</td>\n",
       "      <td>2.65</td>\n",
       "      <td>11.0</td>\n",
       "      <td>18.6</td>\n",
       "      <td>1</td>\n",
       "      <td>False</td>\n",
       "      <td>False</td>\n",
       "      <td>False</td>\n",
       "      <td>11.0</td>\n",
       "      <td>2</td>\n",
       "      <td>поселок Шушары</td>\n",
       "      <td>12817.0</td>\n",
       "      <td>18603.0</td>\n",
       "      <td>0</td>\n",
       "      <td>NaN</td>\n",
       "      <td>0</td>\n",
       "      <td>NaN</td>\n",
       "      <td>81.0</td>\n",
       "      <td>82920</td>\n",
       "      <td>2018</td>\n",
       "      <td>12</td>\n",
       "      <td>1</td>\n",
       "      <td>первый</td>\n",
       "      <td>0.460396</td>\n",
       "      <td>0.272277</td>\n",
       "    </tr>\n",
       "    <tr>\n",
       "      <th>2</th>\n",
       "      <td>10</td>\n",
       "      <td>5196000</td>\n",
       "      <td>56.0</td>\n",
       "      <td>2015-08-20</td>\n",
       "      <td>2</td>\n",
       "      <td>2.65</td>\n",
       "      <td>5.0</td>\n",
       "      <td>34.3</td>\n",
       "      <td>4</td>\n",
       "      <td>False</td>\n",
       "      <td>False</td>\n",
       "      <td>False</td>\n",
       "      <td>8.3</td>\n",
       "      <td>0</td>\n",
       "      <td>Санкт-Петербург</td>\n",
       "      <td>21741.0</td>\n",
       "      <td>13933.0</td>\n",
       "      <td>1</td>\n",
       "      <td>90.0</td>\n",
       "      <td>2</td>\n",
       "      <td>574.0</td>\n",
       "      <td>558.0</td>\n",
       "      <td>92785</td>\n",
       "      <td>2015</td>\n",
       "      <td>8</td>\n",
       "      <td>3</td>\n",
       "      <td>другой</td>\n",
       "      <td>0.612500</td>\n",
       "      <td>0.148214</td>\n",
       "    </tr>\n",
       "    <tr>\n",
       "      <th>3</th>\n",
       "      <td>0</td>\n",
       "      <td>64900000</td>\n",
       "      <td>159.0</td>\n",
       "      <td>2015-07-24</td>\n",
       "      <td>3</td>\n",
       "      <td>2.65</td>\n",
       "      <td>14.0</td>\n",
       "      <td>NaN</td>\n",
       "      <td>9</td>\n",
       "      <td>False</td>\n",
       "      <td>False</td>\n",
       "      <td>False</td>\n",
       "      <td>NaN</td>\n",
       "      <td>0</td>\n",
       "      <td>Санкт-Петербург</td>\n",
       "      <td>28098.0</td>\n",
       "      <td>6800.0</td>\n",
       "      <td>2</td>\n",
       "      <td>84.0</td>\n",
       "      <td>3</td>\n",
       "      <td>234.0</td>\n",
       "      <td>424.0</td>\n",
       "      <td>408176</td>\n",
       "      <td>2015</td>\n",
       "      <td>7</td>\n",
       "      <td>4</td>\n",
       "      <td>другой</td>\n",
       "      <td>NaN</td>\n",
       "      <td>NaN</td>\n",
       "    </tr>\n",
       "    <tr>\n",
       "      <th>4</th>\n",
       "      <td>2</td>\n",
       "      <td>10000000</td>\n",
       "      <td>100.0</td>\n",
       "      <td>2018-06-19</td>\n",
       "      <td>2</td>\n",
       "      <td>3.03</td>\n",
       "      <td>14.0</td>\n",
       "      <td>32.0</td>\n",
       "      <td>13</td>\n",
       "      <td>False</td>\n",
       "      <td>False</td>\n",
       "      <td>False</td>\n",
       "      <td>41.0</td>\n",
       "      <td>0</td>\n",
       "      <td>Санкт-Петербург</td>\n",
       "      <td>31856.0</td>\n",
       "      <td>8098.0</td>\n",
       "      <td>2</td>\n",
       "      <td>112.0</td>\n",
       "      <td>1</td>\n",
       "      <td>48.0</td>\n",
       "      <td>121.0</td>\n",
       "      <td>100000</td>\n",
       "      <td>2018</td>\n",
       "      <td>6</td>\n",
       "      <td>1</td>\n",
       "      <td>другой</td>\n",
       "      <td>0.320000</td>\n",
       "      <td>0.410000</td>\n",
       "    </tr>\n",
       "  </tbody>\n",
       "</table>\n",
       "</div>"
      ],
      "text/plain": [
       "   total_images  last_price  total_area first_day_exposition  rooms  \\\n",
       "0            20    13000000       108.0           2019-03-07      3   \n",
       "1             7     3350000        40.4           2018-12-04      1   \n",
       "2            10     5196000        56.0           2015-08-20      2   \n",
       "3             0    64900000       159.0           2015-07-24      3   \n",
       "4             2    10000000       100.0           2018-06-19      2   \n",
       "\n",
       "   ceiling_height  floors_total  living_area  floor  is_apartment  studio  \\\n",
       "0            2.70          16.0         51.0      8         False   False   \n",
       "1            2.65          11.0         18.6      1         False   False   \n",
       "2            2.65           5.0         34.3      4         False   False   \n",
       "3            2.65          14.0          NaN      9         False   False   \n",
       "4            3.03          14.0         32.0     13         False   False   \n",
       "\n",
       "   open_plan  kitchen_area  balcony    locality_name  airports_nearest  \\\n",
       "0      False          25.0        0  Санкт-Петербург           18863.0   \n",
       "1      False          11.0        2   поселок Шушары           12817.0   \n",
       "2      False           8.3        0  Санкт-Петербург           21741.0   \n",
       "3      False           NaN        0  Санкт-Петербург           28098.0   \n",
       "4      False          41.0        0  Санкт-Петербург           31856.0   \n",
       "\n",
       "   cityCenters_nearest  parks_around3000  parks_nearest  ponds_around3000  \\\n",
       "0              16028.0                 1          482.0                 2   \n",
       "1              18603.0                 0            NaN                 0   \n",
       "2              13933.0                 1           90.0                 2   \n",
       "3               6800.0                 2           84.0                 3   \n",
       "4               8098.0                 2          112.0                 1   \n",
       "\n",
       "   ponds_nearest  days_exposition  price_of_square_meter  year_exposition  \\\n",
       "0          755.0              NaN                 120370             2019   \n",
       "1            NaN             81.0                  82920             2018   \n",
       "2          574.0            558.0                  92785             2015   \n",
       "3          234.0            424.0                 408176             2015   \n",
       "4           48.0            121.0                 100000             2018   \n",
       "\n",
       "   month_exposition  weekday_exposition floor_type  useful_area_ratio  \\\n",
       "0                 3                   3     другой           0.472222   \n",
       "1                12                   1     первый           0.460396   \n",
       "2                 8                   3     другой           0.612500   \n",
       "3                 7                   4     другой                NaN   \n",
       "4                 6                   1     другой           0.320000   \n",
       "\n",
       "   kitchen_area_ratio  \n",
       "0            0.231481  \n",
       "1            0.272277  \n",
       "2            0.148214  \n",
       "3                 NaN  \n",
       "4            0.410000  "
      ]
     },
     "execution_count": 22,
     "metadata": {},
     "output_type": "execute_result"
    }
   ],
   "source": [
    "#создадим столбец с соотношением жилой площади к общей\n",
    "df['useful_area_ratio'] = df['living_area'] / df['total_area']\n",
    "\n",
    "#создадим столбец с соотношением площади кухни к общей\n",
    "df['kitchen_area_ratio'] = df['kitchen_area'] / df['total_area']\n",
    "\n",
    "df.head()"
   ]
  },
  {
   "cell_type": "markdown",
   "metadata": {},
   "source": [
    "### Вывод\n",
    "Добавили столбцы с \n",
    "- ценой квадратного метра;\n",
    "- днем недели, месяцем и годом публикации объявления;\n",
    "- с категорией этажей;\n",
    "- с соотношением жилой и общей площади, а также с соотношением площади кухни к общей."
   ]
  },
  {
   "cell_type": "markdown",
   "metadata": {},
   "source": [
    "## Исследовательский анализ данных"
   ]
  },
  {
   "cell_type": "markdown",
   "metadata": {},
   "source": [
    "### Изучение параметров\n",
    "Изучите следующие параметры: площадь, цена, число комнат, высота потолков. Постройте гистограммы для каждого параметра."
   ]
  },
  {
   "cell_type": "markdown",
   "metadata": {},
   "source": [
    "#### Площадь"
   ]
  },
  {
   "cell_type": "code",
   "execution_count": 23,
   "metadata": {},
   "outputs": [
    {
     "name": "stdout",
     "output_type": "stream",
     "text": [
      "Наибольшие по площади варианты:\n",
      "19540    900.0\n",
      "12859    631.2\n",
      "3117     631.0\n",
      "15651    618.0\n",
      "5358     590.0\n",
      "4237     517.0\n",
      "8018     507.0\n",
      "15016    500.0\n",
      "5893     500.0\n",
      "12401    495.0\n",
      "Name: total_area, dtype: float64\n"
     ]
    },
    {
     "data": {
      "text/plain": [
       "count    23565.000000\n",
       "mean        60.322824\n",
       "std         35.657060\n",
       "min         12.000000\n",
       "25%         40.000000\n",
       "50%         52.000000\n",
       "75%         69.700000\n",
       "max        900.000000\n",
       "Name: total_area, dtype: float64"
      ]
     },
     "execution_count": 23,
     "metadata": {},
     "output_type": "execute_result"
    },
    {
     "data": {
      "image/png": "[encoded data removed]",
      "text/plain": [
       "<Figure size 360x216 with 1 Axes>"
      ]
     },
     "metadata": {
      "needs_background": "light"
     },
     "output_type": "display_data"
    }
   ],
   "source": [
    "df.plot(y = 'total_area', \n",
    "        kind = 'hist', \n",
    "        bins = 100, \n",
    "        grid=True, \n",
    "        figsize = (5,3), \n",
    "        range = (0,300), \n",
    "        legend = False)\n",
    "plt.title('Площадь квартир')\n",
    "plt.xlabel('Квадратные метры')\n",
    "plt.ylabel('Количество квартир')\n",
    "\n",
    "print('Наибольшие по площади варианты:')\n",
    "print(df['total_area'].sort_values(ascending=False).head(10))\n",
    "#распределение данных нормальное, есть выбросы но они не сильно влияют на данные. \n",
    "#с помошью describe получим общее представление о распределении\n",
    "df['total_area'].describe()"
   ]
  },
  {
   "cell_type": "markdown",
   "metadata": {},
   "source": [
    "Больше всего продается квартир площадью 45-49 кв. м."
   ]
  },
  {
   "cell_type": "code",
   "execution_count": 24,
   "metadata": {},
   "outputs": [
    {
     "data": {
      "text/plain": [
       "(0.0, 500.0)"
      ]
     },
     "execution_count": 24,
     "metadata": {},
     "output_type": "execute_result"
    },
    {
     "data": {
      "image/png": "[encoded data removed]",
      "text/plain": [
       "<Figure size 432x288 with 1 Axes>"
      ]
     },
     "metadata": {
      "needs_background": "light"
     },
     "output_type": "display_data"
    }
   ],
   "source": [
    "sns.boxplot(data=df['total_area'], orient=\"h\")\n",
    "plt.title(\"Распределение по площади\")\n",
    "plt.xlabel(\"Площадь\")\n",
    "plt.xlim(0, 500)"
   ]
  },
  {
   "cell_type": "code",
   "execution_count": 25,
   "metadata": {},
   "outputs": [],
   "source": [
    "#напишем функцию для определения границ размаха, \n",
    "#чтобы  в дальнейшем исключить аномальные данные из датафрейма\n",
    "def span_charts(column):\n",
    "    stat = column.describe()\n",
    "    quantile = stat[6] - stat[4]     \n",
    "    left_mustache = round(stat[4] - 1.5 * quantile, 2)\n",
    "    right_mustache = round(stat[6] + 1.5 * quantile, 2)\n",
    "    if left_mustache < stat[3]:\n",
    "        left_mustache = stat[3] \n",
    "    if right_mustache > stat[7]:\n",
    "        right_mustache = stat[7]\n",
    "        \n",
    "    return [left_mustache, right_mustache]"
   ]
  },
  {
   "cell_type": "code",
   "execution_count": 26,
   "metadata": {},
   "outputs": [
    {
     "data": {
      "text/plain": [
       "[12.0, 114.25]"
      ]
     },
     "execution_count": 26,
     "metadata": {},
     "output_type": "execute_result"
    }
   ],
   "source": [
    "span_charts(df['total_area'])"
   ]
  },
  {
   "cell_type": "code",
   "execution_count": 27,
   "metadata": {},
   "outputs": [
    {
     "data": {
      "text/plain": [
       "0.9974114152344579"
      ]
     },
     "execution_count": 27,
     "metadata": {},
     "output_type": "execute_result"
    }
   ],
   "source": [
    "#отсечем аномальные данные\n",
    "#data_good = df.query('12.0 <= total_area <= 114.25')\n",
    "data_good = df.query('total_area <= 300')\n",
    "data_good.shape[0]/df.shape[0]"
   ]
  },
  {
   "cell_type": "markdown",
   "metadata": {},
   "source": [
    "#### Цена"
   ]
  },
  {
   "cell_type": "code",
   "execution_count": 28,
   "metadata": {},
   "outputs": [
    {
     "name": "stdout",
     "output_type": "stream",
     "text": [
      "Наибольшие по цене варианты::\n",
      "12971    763000000\n",
      "19540    420000000\n",
      "14706    401300000\n",
      "1436     330000000\n",
      "15651    300000000\n",
      "22831    289238400\n",
      "16461    245000000\n",
      "13749    240000000\n",
      "5893     230000000\n",
      "8900     190870000\n",
      "Name: last_price, dtype: int64\n"
     ]
    },
    {
     "data": {
      "text/plain": [
       "count    2.356500e+04\n",
       "mean     6.540058e+06\n",
       "std      1.091093e+07\n",
       "min      1.219000e+04\n",
       "25%      3.400000e+06\n",
       "50%      4.646000e+06\n",
       "75%      6.790000e+06\n",
       "max      7.630000e+08\n",
       "Name: last_price, dtype: float64"
      ]
     },
     "execution_count": 28,
     "metadata": {},
     "output_type": "execute_result"
    },
    {
     "data": {
      "image/png": "[encoded data removed]",
      "text/plain": [
       "<Figure size 360x216 with 1 Axes>"
      ]
     },
     "metadata": {
      "needs_background": "light"
     },
     "output_type": "display_data"
    }
   ],
   "source": [
    "df.plot(y = 'last_price', \n",
    "        kind = 'hist', \n",
    "        bins = 100, \n",
    "        grid=True, \n",
    "        figsize = (5,3), \n",
    "        range =(0,15000000),\n",
    "        legend = False)\n",
    "plt.title('Распределение квартир по цене')\n",
    "plt.xlabel('Цена квартиры')\n",
    "plt.ylabel('Количество квартир')\n",
    "\n",
    "print('Наибольшие по цене варианты::')\n",
    "print(df['last_price'].sort_values(ascending=False).head(10))\n",
    "#распределение данных нормальное, есть выбросы но они не сильно влияют на данные. \n",
    "#с помошью describe получим общее представление о распределении\n",
    "df['last_price'].describe()"
   ]
  },
  {
   "cell_type": "markdown",
   "metadata": {},
   "source": [
    "Из гистораммы видно, что больше всего квартир продается за 3-4 млн. руб."
   ]
  },
  {
   "cell_type": "code",
   "execution_count": 29,
   "metadata": {},
   "outputs": [
    {
     "data": {
      "text/plain": [
       "[12190.0, 11875000.0]"
      ]
     },
     "execution_count": 29,
     "metadata": {},
     "output_type": "execute_result"
    }
   ],
   "source": [
    "span_charts(df['last_price'])"
   ]
  },
  {
   "cell_type": "code",
   "execution_count": 30,
   "metadata": {},
   "outputs": [
    {
     "data": {
      "text/plain": [
       "0.9131763208147676"
      ]
     },
     "execution_count": 30,
     "metadata": {},
     "output_type": "execute_result"
    }
   ],
   "source": [
    "data_good = data_good.query('12190.0 <= last_price <= 11875000.0')\n",
    "data_good.shape[0]/df.shape[0]"
   ]
  },
  {
   "cell_type": "markdown",
   "metadata": {},
   "source": [
    "#### Число комнат"
   ]
  },
  {
   "cell_type": "code",
   "execution_count": 31,
   "metadata": {},
   "outputs": [
    {
     "data": {
      "text/plain": [
       "count    23565.000000\n",
       "mean         2.070656\n",
       "std          1.078591\n",
       "min          0.000000\n",
       "25%          1.000000\n",
       "50%          2.000000\n",
       "75%          3.000000\n",
       "max         19.000000\n",
       "Name: rooms, dtype: float64"
      ]
     },
     "execution_count": 31,
     "metadata": {},
     "output_type": "execute_result"
    },
    {
     "data": {
      "image/png": "[encoded data removed]",
      "text/plain": [
       "<Figure size 360x216 with 1 Axes>"
      ]
     },
     "metadata": {
      "needs_background": "light"
     },
     "output_type": "display_data"
    }
   ],
   "source": [
    "df.plot(y = 'rooms', \n",
    "          kind = 'hist', \n",
    "          bins = 30, \n",
    "          grid=True, \n",
    "          figsize = (5,3),\n",
    "          range =(0,15))\n",
    "plt.title('Распределение по количеству комнат')\n",
    "plt.xlabel('Количество комнат')\n",
    "plt.ylabel('Количество квартир')\n",
    "\n",
    "df['rooms'].describe()"
   ]
  },
  {
   "cell_type": "markdown",
   "metadata": {},
   "source": [
    "Больше всего продается 1,2 комнатных квартир."
   ]
  },
  {
   "cell_type": "code",
   "execution_count": 32,
   "metadata": {},
   "outputs": [
    {
     "data": {
      "text/plain": [
       "[0.0, 6.0]"
      ]
     },
     "execution_count": 32,
     "metadata": {},
     "output_type": "execute_result"
    }
   ],
   "source": [
    "span_charts(df['rooms'])"
   ]
  },
  {
   "cell_type": "code",
   "execution_count": 33,
   "metadata": {},
   "outputs": [
    {
     "data": {
      "text/plain": [
       "0.9131338849989391"
      ]
     },
     "execution_count": 33,
     "metadata": {},
     "output_type": "execute_result"
    }
   ],
   "source": [
    "data_good = data_good.query('rooms <= 6')\n",
    "data_good.shape[0]/df.shape[0]"
   ]
  },
  {
   "cell_type": "markdown",
   "metadata": {},
   "source": [
    "#### Высота потолков"
   ]
  },
  {
   "cell_type": "code",
   "execution_count": 34,
   "metadata": {
    "scrolled": true
   },
   "outputs": [
    {
     "data": {
      "text/plain": [
       "count    23565.000000\n",
       "mean         2.724530\n",
       "std          0.991026\n",
       "min          1.000000\n",
       "25%          2.600000\n",
       "50%          2.650000\n",
       "75%          2.700000\n",
       "max        100.000000\n",
       "Name: ceiling_height, dtype: float64"
      ]
     },
     "execution_count": 34,
     "metadata": {},
     "output_type": "execute_result"
    },
    {
     "data": {
      "image/png": "[encoded data removed]",
      "text/plain": [
       "<Figure size 360x216 with 1 Axes>"
      ]
     },
     "metadata": {
      "needs_background": "light"
     },
     "output_type": "display_data"
    }
   ],
   "source": [
    "df.plot(y = 'ceiling_height', \n",
    "          kind = 'hist', \n",
    "          bins = 30, \n",
    "          range = (2,10), \n",
    "          grid=True, \n",
    "          figsize = (5,3))\n",
    "plt.title('Распределение по высоте потолков')\n",
    "plt.ylabel('Количество')\n",
    "plt.xlabel('Высота')\n",
    "df['ceiling_height'].describe()"
   ]
  },
  {
   "cell_type": "code",
   "execution_count": 35,
   "metadata": {},
   "outputs": [
    {
     "data": {
      "text/plain": [
       "[2.45, 2.85]"
      ]
     },
     "execution_count": 35,
     "metadata": {},
     "output_type": "execute_result"
    }
   ],
   "source": [
    "span_charts(df['ceiling_height'])"
   ]
  },
  {
   "cell_type": "code",
   "execution_count": 36,
   "metadata": {},
   "outputs": [
    {
     "data": {
      "text/plain": [
       "0.9102906853384256"
      ]
     },
     "execution_count": 36,
     "metadata": {},
     "output_type": "execute_result"
    }
   ],
   "source": [
    "#data_good = data_good.query('2.07 <= ceiling_height <= 3.24')\n",
    "data_good = data_good.query('2.45 <= ceiling_height <= 10 ')\n",
    "data_good.shape[0]/df.shape[0]\n",
    "#data_good.info()"
   ]
  },
  {
   "cell_type": "markdown",
   "metadata": {},
   "source": [
    "#### Вывод\n",
    "\n",
    "Общая площадь в нашей выборке колеблется от 12 до 900 м2, среднее значение 60 кв.м., а медиана 52 кв.м. Распределение данных Гаусса.\n",
    "\n",
    "Цены на недвижимость имеют среднее значение в 6,5 млн руб., медиана 4,6 млн руб. Распределение данных Гаусса.\n",
    "\n",
    "Количество комнат колеблется от 1 до 19. Больше всего однокомнатных квартир.\n",
    "\n",
    "Высота потолков в среднем составляет 2,72 м, медиана 2,65 м.\n",
    "\n",
    "Во всех данных есть неадекватные значения, мы их удалили и создали датафрейм без аномальных значений: data_good. Было удалено 9% строк."
   ]
  },
  {
   "cell_type": "markdown",
   "metadata": {},
   "source": [
    "### Время продажи квартир"
   ]
  },
  {
   "cell_type": "code",
   "execution_count": 37,
   "metadata": {},
   "outputs": [
    {
     "data": {
      "text/plain": [
       "count    20394.000000\n",
       "mean       180.741395\n",
       "std        219.732782\n",
       "min          1.000000\n",
       "25%         45.000000\n",
       "50%         95.000000\n",
       "75%        231.000000\n",
       "max       1580.000000\n",
       "Name: days_exposition, dtype: float64"
      ]
     },
     "execution_count": 37,
     "metadata": {},
     "output_type": "execute_result"
    }
   ],
   "source": [
    "df['days_exposition'].describe()"
   ]
  },
  {
   "cell_type": "code",
   "execution_count": 38,
   "metadata": {},
   "outputs": [
    {
     "data": {
      "text/plain": [
       "(0.0, 1580.0)"
      ]
     },
     "execution_count": 38,
     "metadata": {},
     "output_type": "execute_result"
    },
    {
     "data": {
      "image/png": "[encoded data removed]",
      "text/plain": [
       "<Figure size 432x288 with 1 Axes>"
      ]
     },
     "metadata": {
      "needs_background": "light"
     },
     "output_type": "display_data"
    }
   ],
   "source": [
    "sns.boxplot(data = df['days_exposition'])\n",
    "plt.ylim(0,1580)"
   ]
  },
  {
   "cell_type": "markdown",
   "metadata": {},
   "source": [
    "Исследуя гистограмму продаж и диаграмму размаха можно видеть, что среднее время продажи квартиры 95 дней. Большая часть значений лежит за диапазоном 510 дней (1.5 межквартального размаха, добавленного к третьему квартилю). Это выглядит правдоподобным. Самыми быстрыми продажами можно назвать продажу в один день. Самой долгой продажей (если не брать во внимание выбросы, которые лежат за 1.5 межквартального размаха, добавленного в третьей квартилии)-510 дней."
   ]
  },
  {
   "cell_type": "code",
   "execution_count": 39,
   "metadata": {
    "scrolled": false
   },
   "outputs": [
    {
     "data": {
      "text/plain": [
       "<AxesSubplot:>"
      ]
     },
     "execution_count": 39,
     "metadata": {},
     "output_type": "execute_result"
    },
    {
     "data": {
      "image/png": "[encoded data removed]",
      "text/plain": [
       "<Figure size 432x288 with 1 Axes>"
      ]
     },
     "metadata": {
      "needs_background": "light"
     },
     "output_type": "display_data"
    }
   ],
   "source": [
    "#Уберем выбросы находящиеся за 1.5 межквартальным интервалом, добавленного к Q3\n",
    "current_days_exposition_date=df.query('days_exposition<510')\n",
    "current_days_exposition_date['days_exposition'].hist(bins=100,range=(0,510))"
   ]
  },
  {
   "cell_type": "markdown",
   "metadata": {},
   "source": [
    "Всего наблюдается 4 пика: 95 дней, 60 дней, 45 дней и 7 дней. "
   ]
  },
  {
   "cell_type": "markdown",
   "metadata": {},
   "source": [
    "#### Вывод\n",
    "Самыми быстрыми продажами можно назвать продажу в один день. Самой долгой продажей (если не брать во внимание выбросы, которые лежат за 1.5 межквартального размаха, добавленного в третьей квартилии)-510 дней.\n",
    "Есть пики снятия объявляений:  95 дней, 60 дней, 45 дней и 7 дней. Возможно это связано с автоматическим закрытием объявлений через определенный срок."
   ]
  },
  {
   "cell_type": "markdown",
   "metadata": {},
   "source": [
    "### Факторы влияющие на стоимость квартиры"
   ]
  },
  {
   "cell_type": "markdown",
   "metadata": {},
   "source": [
    "Какие факторы больше всего влияют на стоимость квартиры? Изучите, зависит ли цена от площади, числа комнат, удалённости от центра. Изучите зависимость цены от того, на каком этаже расположена квартира: первом, последнем или другом. Также изучите зависимость от даты размещения: дня недели, месяца и года."
   ]
  },
  {
   "cell_type": "markdown",
   "metadata": {},
   "source": [
    "#### Изучим зависимость цены квадратного метра от общей площади квартиры"
   ]
  },
  {
   "cell_type": "code",
   "execution_count": 40,
   "metadata": {},
   "outputs": [
    {
     "data": {
      "text/plain": [
       "-0.09602535281986296"
      ]
     },
     "execution_count": 40,
     "metadata": {},
     "output_type": "execute_result"
    },
    {
     "data": {
      "image/png": "[encoded data removed]",
      "text/plain": [
       "<Figure size 432x288 with 1 Axes>"
      ]
     },
     "metadata": {
      "needs_background": "light"
     },
     "output_type": "display_data"
    }
   ],
   "source": [
    "pivot_table_total_area = data_good.pivot_table(index = 'total_area', values = 'price_of_square_meter', aggfunc = ['mean', 'count', 'median'])\n",
    "pivot_table_total_area.columns = ['mean', 'count', 'median']\n",
    "pivot_table_total_area.plot(y = 'median', style = 'o')\n",
    "\n",
    "pivot_table_total_area.sort_values('median', ascending = False)\n",
    "\n",
    "data_good['total_area'].corr(data_good['price_of_square_meter'])"
   ]
  },
  {
   "cell_type": "markdown",
   "metadata": {},
   "source": [
    "**Вывод:** Коэффициента корреляции Пирсона получился отрицательный и близок к нулю. Т.е. корреляция слабая, но чем больше площадь, тем меньше цена за квадратный метр."
   ]
  },
  {
   "cell_type": "markdown",
   "metadata": {},
   "source": [
    "#### Изучим зависимость цены квадратного метра от числа комнат"
   ]
  },
  {
   "cell_type": "code",
   "execution_count": 41,
   "metadata": {},
   "outputs": [
    {
     "data": {
      "text/plain": [
       "-0.23593066664900292"
      ]
     },
     "execution_count": 41,
     "metadata": {},
     "output_type": "execute_result"
    },
    {
     "data": {
      "image/png": "[encoded data removed]",
      "text/plain": [
       "<Figure size 432x288 with 1 Axes>"
      ]
     },
     "metadata": {
      "needs_background": "light"
     },
     "output_type": "display_data"
    }
   ],
   "source": [
    "pivot_table_rooms = data_good.pivot_table(index = 'rooms', values = 'price_of_square_meter', aggfunc = ['mean', 'count', 'median'])\n",
    "pivot_table_rooms.columns = ['mean', 'count', 'median']\n",
    "pivot_table_rooms.query('count > 50').plot(y = 'median')\n",
    "\n",
    "pivot_table_rooms.query('count > 50').sort_values('median', ascending = False)\n",
    "\n",
    "data_good['rooms'].corr(data_good['price_of_square_meter'])"
   ]
  },
  {
   "cell_type": "markdown",
   "metadata": {},
   "source": [
    "**Вывод:** чем ближе количество комнат к 5 тем ниже стоимость квадратного метра."
   ]
  },
  {
   "cell_type": "markdown",
   "metadata": {},
   "source": [
    "#### Изучим зависимость цены квадратного метра от этажа"
   ]
  },
  {
   "cell_type": "code",
   "execution_count": 42,
   "metadata": {},
   "outputs": [
    {
     "data": {
      "text/html": [
       "<div>\n",
       "<style scoped>\n",
       "    .dataframe tbody tr th:only-of-type {\n",
       "        vertical-align: middle;\n",
       "    }\n",
       "\n",
       "    .dataframe tbody tr th {\n",
       "        vertical-align: top;\n",
       "    }\n",
       "\n",
       "    .dataframe thead th {\n",
       "        text-align: right;\n",
       "    }\n",
       "</style>\n",
       "<table border=\"1\" class=\"dataframe\">\n",
       "  <thead>\n",
       "    <tr style=\"text-align: right;\">\n",
       "      <th></th>\n",
       "      <th>mean</th>\n",
       "      <th>count</th>\n",
       "      <th>median</th>\n",
       "    </tr>\n",
       "    <tr>\n",
       "      <th>floor_type</th>\n",
       "      <th></th>\n",
       "      <th></th>\n",
       "      <th></th>\n",
       "    </tr>\n",
       "  </thead>\n",
       "  <tbody>\n",
       "    <tr>\n",
       "      <th>другой</th>\n",
       "      <td>95962.040413</td>\n",
       "      <td>15688</td>\n",
       "      <td>95873.0</td>\n",
       "    </tr>\n",
       "    <tr>\n",
       "      <th>первый</th>\n",
       "      <td>78553.547901</td>\n",
       "      <td>2787</td>\n",
       "      <td>80160.0</td>\n",
       "    </tr>\n",
       "    <tr>\n",
       "      <th>последний</th>\n",
       "      <td>83095.320901</td>\n",
       "      <td>2976</td>\n",
       "      <td>84428.5</td>\n",
       "    </tr>\n",
       "  </tbody>\n",
       "</table>\n",
       "</div>"
      ],
      "text/plain": [
       "                    mean  count   median\n",
       "floor_type                              \n",
       "другой      95962.040413  15688  95873.0\n",
       "первый      78553.547901   2787  80160.0\n",
       "последний   83095.320901   2976  84428.5"
      ]
     },
     "execution_count": 42,
     "metadata": {},
     "output_type": "execute_result"
    },
    {
     "data": {
      "image/png": "[encoded data removed]",
      "text/plain": [
       "<Figure size 432x288 with 1 Axes>"
      ]
     },
     "metadata": {
      "needs_background": "light"
     },
     "output_type": "display_data"
    }
   ],
   "source": [
    "pivot_table_floor_category = data_good.sort_values(\n",
    "                                        by='last_price', \n",
    "                                        ascending=True).pivot_table(\n",
    "                                                        index = 'floor_type', \n",
    "                                                        values = 'price_of_square_meter', \n",
    "                                                        aggfunc = ['mean', 'count', 'median'])\n",
    "pivot_table_floor_category.columns = ['mean', 'count', 'median']\n",
    "pivot_table_floor_category.plot(y = 'median')\n",
    "pivot_table_floor_category"
   ]
  },
  {
   "cell_type": "code",
   "execution_count": 43,
   "metadata": {},
   "outputs": [
    {
     "data": {
      "image/png": "[encoded data removed]",
      "text/plain": [
       "<Figure size 504x504 with 1 Axes>"
      ]
     },
     "metadata": {},
     "output_type": "display_data"
    }
   ],
   "source": [
    "data_good.pivot_table(index='floor_type',\n",
    "                      values='last_price',\n",
    "                      aggfunc='count').plot.pie(y='last_price', \n",
    "                                                figsize=(7,7), \n",
    "                                                label='')\n",
    "plt.show()"
   ]
  },
  {
   "cell_type": "markdown",
   "metadata": {},
   "source": [
    "**Вывод:** квартиры на первом этаже дешевле квартир на последнем этаже и любом другом."
   ]
  },
  {
   "cell_type": "markdown",
   "metadata": {},
   "source": [
    "#### Изучим зависимость цены квадратного метра от удалённости от центра"
   ]
  },
  {
   "cell_type": "code",
   "execution_count": 44,
   "metadata": {},
   "outputs": [
    {
     "data": {
      "text/plain": [
       "-0.38721317814495393"
      ]
     },
     "execution_count": 44,
     "metadata": {},
     "output_type": "execute_result"
    },
    {
     "data": {
      "image/png": "[encoded data removed]",
      "text/plain": [
       "<Figure size 432x288 with 1 Axes>"
      ]
     },
     "metadata": {
      "needs_background": "light"
     },
     "output_type": "display_data"
    }
   ],
   "source": [
    "data_good.plot(kind = 'scatter', \n",
    "               y = 'price_of_square_meter', \n",
    "               x = 'cityCenters_nearest', \n",
    "               alpha = 0.3)\n",
    "\n",
    "data_good['cityCenters_nearest'].corr(data_good['price_of_square_meter'])"
   ]
  },
  {
   "cell_type": "markdown",
   "metadata": {},
   "source": [
    "**Вывод:** Чем ближе к центру, тем выше стоимость."
   ]
  },
  {
   "cell_type": "markdown",
   "metadata": {},
   "source": [
    "#### Изучим зависимость цены квадратного метра от даты размещения: день недели"
   ]
  },
  {
   "cell_type": "code",
   "execution_count": 45,
   "metadata": {},
   "outputs": [
    {
     "data": {
      "text/html": [
       "<div>\n",
       "<style scoped>\n",
       "    .dataframe tbody tr th:only-of-type {\n",
       "        vertical-align: middle;\n",
       "    }\n",
       "\n",
       "    .dataframe tbody tr th {\n",
       "        vertical-align: top;\n",
       "    }\n",
       "\n",
       "    .dataframe thead th {\n",
       "        text-align: right;\n",
       "    }\n",
       "</style>\n",
       "<table border=\"1\" class=\"dataframe\">\n",
       "  <thead>\n",
       "    <tr style=\"text-align: right;\">\n",
       "      <th></th>\n",
       "      <th>mean</th>\n",
       "      <th>count</th>\n",
       "      <th>median</th>\n",
       "    </tr>\n",
       "    <tr>\n",
       "      <th>weekday_exposition</th>\n",
       "      <th></th>\n",
       "      <th></th>\n",
       "      <th></th>\n",
       "    </tr>\n",
       "  </thead>\n",
       "  <tbody>\n",
       "    <tr>\n",
       "      <th>2</th>\n",
       "      <td>92376.149162</td>\n",
       "      <td>3580</td>\n",
       "      <td>93222.5</td>\n",
       "    </tr>\n",
       "    <tr>\n",
       "      <th>1</th>\n",
       "      <td>92459.132299</td>\n",
       "      <td>3802</td>\n",
       "      <td>93181.0</td>\n",
       "    </tr>\n",
       "    <tr>\n",
       "      <th>3</th>\n",
       "      <td>91702.582292</td>\n",
       "      <td>3840</td>\n",
       "      <td>92592.0</td>\n",
       "    </tr>\n",
       "    <tr>\n",
       "      <th>0</th>\n",
       "      <td>91881.800551</td>\n",
       "      <td>3264</td>\n",
       "      <td>92316.5</td>\n",
       "    </tr>\n",
       "    <tr>\n",
       "      <th>4</th>\n",
       "      <td>91933.717534</td>\n",
       "      <td>3650</td>\n",
       "      <td>92302.0</td>\n",
       "    </tr>\n",
       "    <tr>\n",
       "      <th>6</th>\n",
       "      <td>91618.788114</td>\n",
       "      <td>1548</td>\n",
       "      <td>92281.5</td>\n",
       "    </tr>\n",
       "    <tr>\n",
       "      <th>5</th>\n",
       "      <td>90556.084890</td>\n",
       "      <td>1767</td>\n",
       "      <td>91128.0</td>\n",
       "    </tr>\n",
       "  </tbody>\n",
       "</table>\n",
       "</div>"
      ],
      "text/plain": [
       "                            mean  count   median\n",
       "weekday_exposition                              \n",
       "2                   92376.149162   3580  93222.5\n",
       "1                   92459.132299   3802  93181.0\n",
       "3                   91702.582292   3840  92592.0\n",
       "0                   91881.800551   3264  92316.5\n",
       "4                   91933.717534   3650  92302.0\n",
       "6                   91618.788114   1548  92281.5\n",
       "5                   90556.084890   1767  91128.0"
      ]
     },
     "execution_count": 45,
     "metadata": {},
     "output_type": "execute_result"
    },
    {
     "data": {
      "image/png": "[encoded data removed]",
      "text/plain": [
       "<Figure size 432x288 with 1 Axes>"
      ]
     },
     "metadata": {
      "needs_background": "light"
     },
     "output_type": "display_data"
    }
   ],
   "source": [
    "pivot_table_weekday_exposition = data_good.pivot_table(index = 'weekday_exposition', \n",
    "                                                       values = 'price_of_square_meter', \n",
    "                                                       aggfunc = ['mean', 'count', 'median'])\n",
    "pivot_table_weekday_exposition.columns = ['mean', 'count', 'median']\n",
    "pivot_table_weekday_exposition.plot(y = 'median')\n",
    "\n",
    "pivot_table_weekday_exposition.sort_values('median', ascending = False)"
   ]
  },
  {
   "cell_type": "markdown",
   "metadata": {},
   "source": [
    "**Вывод:** Цена от дня недели зависит незначительно, но объявления размещенные во втроник в среднем имеют большую цену за кв.м., в субботу наименьшую стоимость за кв.м."
   ]
  },
  {
   "cell_type": "markdown",
   "metadata": {},
   "source": [
    "#### Изучим зависимость цены квадратного метра от даты размещения: месяц"
   ]
  },
  {
   "cell_type": "code",
   "execution_count": 46,
   "metadata": {},
   "outputs": [
    {
     "data": {
      "text/html": [
       "<div>\n",
       "<style scoped>\n",
       "    .dataframe tbody tr th:only-of-type {\n",
       "        vertical-align: middle;\n",
       "    }\n",
       "\n",
       "    .dataframe tbody tr th {\n",
       "        vertical-align: top;\n",
       "    }\n",
       "\n",
       "    .dataframe thead th {\n",
       "        text-align: right;\n",
       "    }\n",
       "</style>\n",
       "<table border=\"1\" class=\"dataframe\">\n",
       "  <thead>\n",
       "    <tr style=\"text-align: right;\">\n",
       "      <th></th>\n",
       "      <th>mean</th>\n",
       "      <th>count</th>\n",
       "      <th>median</th>\n",
       "    </tr>\n",
       "    <tr>\n",
       "      <th>month_exposition</th>\n",
       "      <th></th>\n",
       "      <th></th>\n",
       "      <th></th>\n",
       "    </tr>\n",
       "  </thead>\n",
       "  <tbody>\n",
       "    <tr>\n",
       "      <th>4</th>\n",
       "      <td>93554.151417</td>\n",
       "      <td>2153</td>\n",
       "      <td>94111.0</td>\n",
       "    </tr>\n",
       "    <tr>\n",
       "      <th>8</th>\n",
       "      <td>92918.836169</td>\n",
       "      <td>1587</td>\n",
       "      <td>94009.0</td>\n",
       "    </tr>\n",
       "    <tr>\n",
       "      <th>9</th>\n",
       "      <td>92980.844905</td>\n",
       "      <td>1786</td>\n",
       "      <td>93183.5</td>\n",
       "    </tr>\n",
       "    <tr>\n",
       "      <th>2</th>\n",
       "      <td>91389.660848</td>\n",
       "      <td>2406</td>\n",
       "      <td>92842.0</td>\n",
       "    </tr>\n",
       "    <tr>\n",
       "      <th>11</th>\n",
       "      <td>91959.645131</td>\n",
       "      <td>2136</td>\n",
       "      <td>92786.0</td>\n",
       "    </tr>\n",
       "    <tr>\n",
       "      <th>1</th>\n",
       "      <td>91685.524981</td>\n",
       "      <td>1341</td>\n",
       "      <td>92666.0</td>\n",
       "    </tr>\n",
       "    <tr>\n",
       "      <th>3</th>\n",
       "      <td>92073.459932</td>\n",
       "      <td>2346</td>\n",
       "      <td>92652.5</td>\n",
       "    </tr>\n",
       "    <tr>\n",
       "      <th>7</th>\n",
       "      <td>91930.428385</td>\n",
       "      <td>1529</td>\n",
       "      <td>92629.0</td>\n",
       "    </tr>\n",
       "    <tr>\n",
       "      <th>10</th>\n",
       "      <td>91572.868462</td>\n",
       "      <td>1931</td>\n",
       "      <td>92307.0</td>\n",
       "    </tr>\n",
       "    <tr>\n",
       "      <th>12</th>\n",
       "      <td>91107.768145</td>\n",
       "      <td>1488</td>\n",
       "      <td>91111.0</td>\n",
       "    </tr>\n",
       "    <tr>\n",
       "      <th>5</th>\n",
       "      <td>91898.453275</td>\n",
       "      <td>1145</td>\n",
       "      <td>90816.0</td>\n",
       "    </tr>\n",
       "    <tr>\n",
       "      <th>6</th>\n",
       "      <td>89382.382408</td>\n",
       "      <td>1603</td>\n",
       "      <td>90293.0</td>\n",
       "    </tr>\n",
       "  </tbody>\n",
       "</table>\n",
       "</div>"
      ],
      "text/plain": [
       "                          mean  count   median\n",
       "month_exposition                              \n",
       "4                 93554.151417   2153  94111.0\n",
       "8                 92918.836169   1587  94009.0\n",
       "9                 92980.844905   1786  93183.5\n",
       "2                 91389.660848   2406  92842.0\n",
       "11                91959.645131   2136  92786.0\n",
       "1                 91685.524981   1341  92666.0\n",
       "3                 92073.459932   2346  92652.5\n",
       "7                 91930.428385   1529  92629.0\n",
       "10                91572.868462   1931  92307.0\n",
       "12                91107.768145   1488  91111.0\n",
       "5                 91898.453275   1145  90816.0\n",
       "6                 89382.382408   1603  90293.0"
      ]
     },
     "execution_count": 46,
     "metadata": {},
     "output_type": "execute_result"
    },
    {
     "data": {
      "image/png": "[encoded data removed]",
      "text/plain": [
       "<Figure size 432x288 with 1 Axes>"
      ]
     },
     "metadata": {
      "needs_background": "light"
     },
     "output_type": "display_data"
    }
   ],
   "source": [
    "pivot_table_month_exposition = data_good.pivot_table(index = 'month_exposition', \n",
    "                                                     values = 'price_of_square_meter', \n",
    "                                                     aggfunc = ['mean', 'count', 'median'])\n",
    "pivot_table_month_exposition.columns = ['mean', 'count', 'median']\n",
    "pivot_table_month_exposition.plot(y = 'median')\n",
    "\n",
    "pivot_table_month_exposition.sort_values('median', ascending = False)"
   ]
  },
  {
   "cell_type": "markdown",
   "metadata": {},
   "source": [
    "**Вывод:** самая высокая стоимость метра в апреле, самая низкая стоимость в мае и июне. На рынке недвижимости, как и во многих других сферах присутствует сезонность - в начале лета мы видим наименьшее предложение как по количеству, так и по стоимости недвижимости. Наверное, это связано с отпусками."
   ]
  },
  {
   "cell_type": "markdown",
   "metadata": {},
   "source": [
    "#### Изучим зависимость цены квадратного метра от даты размещения: год"
   ]
  },
  {
   "cell_type": "code",
   "execution_count": 47,
   "metadata": {},
   "outputs": [
    {
     "data": {
      "text/html": [
       "<div>\n",
       "<style scoped>\n",
       "    .dataframe tbody tr th:only-of-type {\n",
       "        vertical-align: middle;\n",
       "    }\n",
       "\n",
       "    .dataframe tbody tr th {\n",
       "        vertical-align: top;\n",
       "    }\n",
       "\n",
       "    .dataframe thead th {\n",
       "        text-align: right;\n",
       "    }\n",
       "</style>\n",
       "<table border=\"1\" class=\"dataframe\">\n",
       "  <thead>\n",
       "    <tr style=\"text-align: right;\">\n",
       "      <th></th>\n",
       "      <th>mean</th>\n",
       "      <th>count</th>\n",
       "      <th>median</th>\n",
       "    </tr>\n",
       "    <tr>\n",
       "      <th>year_exposition</th>\n",
       "      <th></th>\n",
       "      <th></th>\n",
       "      <th></th>\n",
       "    </tr>\n",
       "  </thead>\n",
       "  <tbody>\n",
       "    <tr>\n",
       "      <th>2019</th>\n",
       "      <td>98911.597147</td>\n",
       "      <td>2594</td>\n",
       "      <td>101040.5</td>\n",
       "    </tr>\n",
       "    <tr>\n",
       "      <th>2014</th>\n",
       "      <td>94664.719101</td>\n",
       "      <td>89</td>\n",
       "      <td>94666.0</td>\n",
       "    </tr>\n",
       "    <tr>\n",
       "      <th>2018</th>\n",
       "      <td>92277.805117</td>\n",
       "      <td>7856</td>\n",
       "      <td>93867.0</td>\n",
       "    </tr>\n",
       "    <tr>\n",
       "      <th>2017</th>\n",
       "      <td>90134.628863</td>\n",
       "      <td>7442</td>\n",
       "      <td>90009.5</td>\n",
       "    </tr>\n",
       "    <tr>\n",
       "      <th>2015</th>\n",
       "      <td>90655.291037</td>\n",
       "      <td>993</td>\n",
       "      <td>89590.0</td>\n",
       "    </tr>\n",
       "    <tr>\n",
       "      <th>2016</th>\n",
       "      <td>89194.190957</td>\n",
       "      <td>2477</td>\n",
       "      <td>89062.0</td>\n",
       "    </tr>\n",
       "  </tbody>\n",
       "</table>\n",
       "</div>"
      ],
      "text/plain": [
       "                         mean  count    median\n",
       "year_exposition                               \n",
       "2019             98911.597147   2594  101040.5\n",
       "2014             94664.719101     89   94666.0\n",
       "2018             92277.805117   7856   93867.0\n",
       "2017             90134.628863   7442   90009.5\n",
       "2015             90655.291037    993   89590.0\n",
       "2016             89194.190957   2477   89062.0"
      ]
     },
     "execution_count": 47,
     "metadata": {},
     "output_type": "execute_result"
    },
    {
     "data": {
      "image/png": "[encoded data removed]",
      "text/plain": [
       "<Figure size 720x360 with 1 Axes>"
      ]
     },
     "metadata": {
      "needs_background": "light"
     },
     "output_type": "display_data"
    }
   ],
   "source": [
    "pivot_table_year_exposition = data_good.pivot_table(index = 'year_exposition', \n",
    "                                                    values = 'price_of_square_meter', \n",
    "                                                    aggfunc = ['mean', 'count', 'median'] )\n",
    "pivot_table_year_exposition.columns = ['mean', 'count', 'median']\n",
    "pivot_table_year_exposition.plot(y = 'median', figsize=(10,5), grid=True)\n",
    "\n",
    "pivot_table_year_exposition.sort_values('median', ascending = False)"
   ]
  },
  {
   "cell_type": "markdown",
   "metadata": {},
   "source": [
    "**Вывод:** По годовой тенденции наблюдается падение в стоимости жилья в 2014 году и резкий взлёт стоимости начиная с 2018 года, что вызвано скорей всего большим спросом на рынке недвижимости."
   ]
  },
  {
   "cell_type": "markdown",
   "metadata": {},
   "source": [
    "## 10 населённых пунктов с наибольшим числом объявлений"
   ]
  },
  {
   "cell_type": "markdown",
   "metadata": {},
   "source": [
    "Выберите 10 населённых пунктов с наибольшим числом объявлений. Посчитайте среднюю цену квадратного метра в этих населённых пунктах. Выделите населённые пункты с самой высокой и низкой стоимостью жилья. Эти данные можно найти по имени в столбце locality_name."
   ]
  },
  {
   "cell_type": "code",
   "execution_count": 48,
   "metadata": {},
   "outputs": [
    {
     "data": {
      "text/html": [
       "<div>\n",
       "<style scoped>\n",
       "    .dataframe tbody tr th:only-of-type {\n",
       "        vertical-align: middle;\n",
       "    }\n",
       "\n",
       "    .dataframe tbody tr th {\n",
       "        vertical-align: top;\n",
       "    }\n",
       "\n",
       "    .dataframe thead th {\n",
       "        text-align: right;\n",
       "    }\n",
       "</style>\n",
       "<table border=\"1\" class=\"dataframe\">\n",
       "  <thead>\n",
       "    <tr style=\"text-align: right;\">\n",
       "      <th></th>\n",
       "      <th>price_of_square_meter</th>\n",
       "    </tr>\n",
       "    <tr>\n",
       "      <th>locality_name</th>\n",
       "      <th></th>\n",
       "    </tr>\n",
       "  </thead>\n",
       "  <tbody>\n",
       "    <tr>\n",
       "      <th>Санкт-Петербург</th>\n",
       "      <td>105431</td>\n",
       "    </tr>\n",
       "    <tr>\n",
       "      <th>Пушкин</th>\n",
       "      <td>100288</td>\n",
       "    </tr>\n",
       "    <tr>\n",
       "      <th>деревня Кудрово</th>\n",
       "      <td>92409</td>\n",
       "    </tr>\n",
       "    <tr>\n",
       "      <th>поселок Парголово</th>\n",
       "      <td>90331</td>\n",
       "    </tr>\n",
       "    <tr>\n",
       "      <th>поселок Мурино</th>\n",
       "      <td>85603</td>\n",
       "    </tr>\n",
       "    <tr>\n",
       "      <th>поселок Шушары</th>\n",
       "      <td>78550</td>\n",
       "    </tr>\n",
       "    <tr>\n",
       "      <th>Колпино</th>\n",
       "      <td>75203</td>\n",
       "    </tr>\n",
       "    <tr>\n",
       "      <th>Гатчина</th>\n",
       "      <td>68431</td>\n",
       "    </tr>\n",
       "    <tr>\n",
       "      <th>Всеволожск</th>\n",
       "      <td>67275</td>\n",
       "    </tr>\n",
       "    <tr>\n",
       "      <th>Выборг</th>\n",
       "      <td>58027</td>\n",
       "    </tr>\n",
       "  </tbody>\n",
       "</table>\n",
       "</div>"
      ],
      "text/plain": [
       "                   price_of_square_meter\n",
       "locality_name                           \n",
       "Санкт-Петербург                   105431\n",
       "Пушкин                            100288\n",
       "деревня Кудрово                    92409\n",
       "поселок Парголово                  90331\n",
       "поселок Мурино                     85603\n",
       "поселок Шушары                     78550\n",
       "Колпино                            75203\n",
       "Гатчина                            68431\n",
       "Всеволожск                         67275\n",
       "Выборг                             58027"
      ]
     },
     "execution_count": 48,
     "metadata": {},
     "output_type": "execute_result"
    }
   ],
   "source": [
    "city_ten = data_good['locality_name'].value_counts().head(10)\n",
    "city_price_of_square_meter = data_good.query('locality_name in (@city_ten.index)').pivot_table(values='price_of_square_meter', index='locality_name')\n",
    "city_price_of_square_meter = city_price_of_square_meter.astype(int)\n",
    "city_price_of_square_meter.sort_values('price_of_square_meter', ascending=False)"
   ]
  },
  {
   "cell_type": "markdown",
   "metadata": {},
   "source": [
    "**Вывод:** Наибольшая средняя стоимость квадратного метра,  в Санкт-Петербурге. \n",
    "\n",
    "Затем идёт Пушкин, что, вероятно, вызвано хорошей застройкой и большим количеством парков. Затем идут районы, фактически являющиеся Санкт-Петербургом и непосредственно к нему примыкают.\n",
    "\n",
    "Из топ-10 наименьшая стоимость в Всеволжске и Выборге, из которых далеко ехать до Санкт-Петербурга."
   ]
  },
  {
   "cell_type": "markdown",
   "metadata": {},
   "source": [
    "## Выделение центра Санкт-Петербурга"
   ]
  },
  {
   "cell_type": "markdown",
   "metadata": {},
   "source": [
    "Изучите предложения квартир: для каждой квартиры есть информация о расстоянии до центра. Выделите квартиры в Санкт-Петербурге (locality_name). Ваша задача — выяснить, какая область входит в центр. Создайте столбец с расстоянием до центра в километрах: округлите до целых значений. После этого посчитайте среднюю цену для каждого километра. Постройте график: он должен показывать, как цена зависит от удалённости от центра. Определите границу, где график сильно меняется, — это и будет центральная зона."
   ]
  },
  {
   "cell_type": "code",
   "execution_count": 49,
   "metadata": {},
   "outputs": [
    {
     "data": {
      "text/plain": [
       "<AxesSubplot:xlabel='cityCenters_nearest_km'>"
      ]
     },
     "execution_count": 49,
     "metadata": {},
     "output_type": "execute_result"
    },
    {
     "data": {
      "image/png": "[encoded data removed]",
      "text/plain": [
       "<Figure size 720x360 with 1 Axes>"
      ]
     },
     "metadata": {
      "needs_background": "light"
     },
     "output_type": "display_data"
    }
   ],
   "source": [
    "data_good['cityCenters_nearest_km'] = (data_good['cityCenters_nearest'] / 1000).round()\n",
    "spb = data_good.query('locality_name == \"Санкт-Петербург\" and cityCenters_nearest.notna()')\n",
    "spb.reset_index(drop=True, inplace=True)\n",
    "\n",
    "spb_centre_square_price = spb.pivot_table(index='cityCenters_nearest_km', \n",
    "                                          values='last_price', \n",
    "                                          aggfunc='median')\n",
    "spb_centre_square_price.plot(style='o',\n",
    "                            figsize=(10,5))"
   ]
  },
  {
   "cell_type": "markdown",
   "metadata": {},
   "source": [
    "**Вывод:** Резкая разница цены в 1 млн. между 8 и 9 км. Будем считать, что центр имеет радиус 8 км."
   ]
  },
  {
   "cell_type": "markdown",
   "metadata": {},
   "source": [
    "## Анализ квартир в центре"
   ]
  },
  {
   "cell_type": "markdown",
   "metadata": {},
   "source": [
    "Выделите сегмент квартир в центре. Проанализируйте эту территорию и изучите следующие параметры: площадь, цена, число комнат, высота потолков. Также выделите факторы, которые влияют на стоимость квартиры (число комнат, этаж, удалённость от центра, дата размещения объявления). Сделайте выводы. Отличаются ли они от общих выводов по всей базе?"
   ]
  },
  {
   "cell_type": "code",
   "execution_count": 50,
   "metadata": {},
   "outputs": [],
   "source": [
    "spb_centre = data_good.query('(locality_name == \"Санкт-Петербург\") & (cityCenters_nearest_km <= 8)')"
   ]
  },
  {
   "cell_type": "markdown",
   "metadata": {},
   "source": [
    "### Зависимость стоимости квадратного метра от площади."
   ]
  },
  {
   "cell_type": "code",
   "execution_count": 51,
   "metadata": {
    "scrolled": true
   },
   "outputs": [
    {
     "data": {
      "text/plain": [
       "-0.5014820157149374"
      ]
     },
     "execution_count": 51,
     "metadata": {},
     "output_type": "execute_result"
    },
    {
     "data": {
      "image/png": "[encoded data removed]",
      "text/plain": [
       "<Figure size 432x288 with 1 Axes>"
      ]
     },
     "metadata": {
      "needs_background": "light"
     },
     "output_type": "display_data"
    }
   ],
   "source": [
    "spb_centre_area = spb_centre.pivot_table(index = 'total_area', \n",
    "                                          values = 'price_of_square_meter', \n",
    "                                          aggfunc = ['mean', 'count', 'median'])\n",
    "spb_centre_area.columns = ['mean', 'count', 'median']\n",
    "\n",
    "spb_centre_area.plot(y = 'median',style = 'o')\n",
    "spb_centre_area.sort_values('median', ascending = False)\n",
    "\n",
    "spb_centre['total_area'].corr(spb_centre['price_of_square_meter'])"
   ]
  },
  {
   "cell_type": "markdown",
   "metadata": {},
   "source": [
    "**Вывод:** Коэффициента корреляции Пирсона получился отрицательный. Т.е. корреляция сильнее, чем по общей базе,  чем больше площадь, тем меньше цена за квадратный метр."
   ]
  },
  {
   "cell_type": "markdown",
   "metadata": {},
   "source": [
    "### Зависимость стоимости квадратного метра от количества комнат."
   ]
  },
  {
   "cell_type": "code",
   "execution_count": 52,
   "metadata": {
    "scrolled": true
   },
   "outputs": [
    {
     "data": {
      "text/plain": [
       "-0.5335958859607786"
      ]
     },
     "execution_count": 52,
     "metadata": {},
     "output_type": "execute_result"
    },
    {
     "data": {
      "image/png": "[encoded data removed]",
      "text/plain": [
       "<Figure size 432x288 with 1 Axes>"
      ]
     },
     "metadata": {
      "needs_background": "light"
     },
     "output_type": "display_data"
    }
   ],
   "source": [
    "spb_centre_rooms = spb_centre.pivot_table(index = 'rooms', \n",
    "                                          values = 'price_of_square_meter', \n",
    "                                          aggfunc = ['mean', 'count', 'median'])\n",
    "spb_centre_rooms.columns = ['mean', 'count', 'median']\n",
    "spb_centre_rooms.query('count > 50').plot(y = 'median')\n",
    "\n",
    "spb_centre_rooms.query('count > 50').sort_values('median', ascending = False)\n",
    "\n",
    "spb_centre['rooms'].corr(spb_centre['price_of_square_meter'])"
   ]
  },
  {
   "cell_type": "markdown",
   "metadata": {},
   "source": [
    "**Вывод:** чем ближе количество комнат к 5 тем ниже стоимость квадратного метра. Зависимость такая же, как по общей базе."
   ]
  },
  {
   "cell_type": "markdown",
   "metadata": {},
   "source": [
    "### Зависимость стоимости квадратного метра от этажа."
   ]
  },
  {
   "cell_type": "code",
   "execution_count": 53,
   "metadata": {},
   "outputs": [
    {
     "data": {
      "text/html": [
       "<div>\n",
       "<style scoped>\n",
       "    .dataframe tbody tr th:only-of-type {\n",
       "        vertical-align: middle;\n",
       "    }\n",
       "\n",
       "    .dataframe tbody tr th {\n",
       "        vertical-align: top;\n",
       "    }\n",
       "\n",
       "    .dataframe thead th {\n",
       "        text-align: right;\n",
       "    }\n",
       "</style>\n",
       "<table border=\"1\" class=\"dataframe\">\n",
       "  <thead>\n",
       "    <tr style=\"text-align: right;\">\n",
       "      <th></th>\n",
       "      <th>mean</th>\n",
       "      <th>count</th>\n",
       "      <th>median</th>\n",
       "    </tr>\n",
       "    <tr>\n",
       "      <th>floor_type</th>\n",
       "      <th></th>\n",
       "      <th></th>\n",
       "      <th></th>\n",
       "    </tr>\n",
       "  </thead>\n",
       "  <tbody>\n",
       "    <tr>\n",
       "      <th>другой</th>\n",
       "      <td>119652.151813</td>\n",
       "      <td>1930</td>\n",
       "      <td>116452.0</td>\n",
       "    </tr>\n",
       "    <tr>\n",
       "      <th>последний</th>\n",
       "      <td>110679.971366</td>\n",
       "      <td>454</td>\n",
       "      <td>106080.5</td>\n",
       "    </tr>\n",
       "    <tr>\n",
       "      <th>первый</th>\n",
       "      <td>107921.542005</td>\n",
       "      <td>369</td>\n",
       "      <td>102500.0</td>\n",
       "    </tr>\n",
       "  </tbody>\n",
       "</table>\n",
       "</div>"
      ],
      "text/plain": [
       "                     mean  count    median\n",
       "floor_type                                \n",
       "другой      119652.151813   1930  116452.0\n",
       "последний   110679.971366    454  106080.5\n",
       "первый      107921.542005    369  102500.0"
      ]
     },
     "execution_count": 53,
     "metadata": {},
     "output_type": "execute_result"
    },
    {
     "data": {
      "image/png": "[encoded data removed]",
      "text/plain": [
       "<Figure size 432x288 with 1 Axes>"
      ]
     },
     "metadata": {
      "needs_background": "light"
     },
     "output_type": "display_data"
    }
   ],
   "source": [
    "spb_centre_floor = spb_centre.pivot_table(index = 'floor_type', \n",
    "                                          values = 'price_of_square_meter', \n",
    "                                          aggfunc = ['mean', 'count', 'median'])\n",
    "spb_centre_floor.columns = ['mean', 'count', 'median']\n",
    "spb_centre_floor.plot(y = 'median')\n",
    "\n",
    "spb_centre_floor.sort_values('median', ascending = False)\n"
   ]
  },
  {
   "cell_type": "markdown",
   "metadata": {},
   "source": [
    "**Вывод:**  квартиры на первом этаже дешевле квартир на последнем этаже и любом другом. Зависимость такая же, как по общей базе."
   ]
  },
  {
   "cell_type": "markdown",
   "metadata": {},
   "source": [
    "### Зависимость стоимости квадратного метра от удаленности от центра."
   ]
  },
  {
   "cell_type": "code",
   "execution_count": 54,
   "metadata": {},
   "outputs": [
    {
     "data": {
      "text/plain": [
       "0.04295203963753328"
      ]
     },
     "execution_count": 54,
     "metadata": {},
     "output_type": "execute_result"
    },
    {
     "data": {
      "image/png": "[encoded data removed]",
      "text/plain": [
       "<Figure size 432x288 with 1 Axes>"
      ]
     },
     "metadata": {
      "needs_background": "light"
     },
     "output_type": "display_data"
    }
   ],
   "source": [
    "spb_centre.plot(kind = 'scatter', \n",
    "                y = 'price_of_square_meter', \n",
    "                x = 'cityCenters_nearest', \n",
    "                alpha = 0.3)\n",
    "\n",
    "spb_centre['cityCenters_nearest'].corr(spb_centre['price_of_square_meter'])"
   ]
  },
  {
   "cell_type": "markdown",
   "metadata": {},
   "source": [
    "**Вывод:** четкой зависимости нет, так как у нас уже сделана выборка по центру города."
   ]
  },
  {
   "cell_type": "markdown",
   "metadata": {},
   "source": [
    "### Зависимость стоимости квадратного метра от дня недели размещения объявления."
   ]
  },
  {
   "cell_type": "code",
   "execution_count": 55,
   "metadata": {},
   "outputs": [
    {
     "data": {
      "text/html": [
       "<div>\n",
       "<style scoped>\n",
       "    .dataframe tbody tr th:only-of-type {\n",
       "        vertical-align: middle;\n",
       "    }\n",
       "\n",
       "    .dataframe tbody tr th {\n",
       "        vertical-align: top;\n",
       "    }\n",
       "\n",
       "    .dataframe thead th {\n",
       "        text-align: right;\n",
       "    }\n",
       "</style>\n",
       "<table border=\"1\" class=\"dataframe\">\n",
       "  <thead>\n",
       "    <tr style=\"text-align: right;\">\n",
       "      <th></th>\n",
       "      <th>mean</th>\n",
       "      <th>count</th>\n",
       "      <th>median</th>\n",
       "    </tr>\n",
       "    <tr>\n",
       "      <th>weekday_exposition</th>\n",
       "      <th></th>\n",
       "      <th></th>\n",
       "      <th></th>\n",
       "    </tr>\n",
       "  </thead>\n",
       "  <tbody>\n",
       "    <tr>\n",
       "      <th>5</th>\n",
       "      <td>120997.216981</td>\n",
       "      <td>212</td>\n",
       "      <td>117778.0</td>\n",
       "    </tr>\n",
       "    <tr>\n",
       "      <th>6</th>\n",
       "      <td>119592.779141</td>\n",
       "      <td>163</td>\n",
       "      <td>113888.0</td>\n",
       "    </tr>\n",
       "    <tr>\n",
       "      <th>4</th>\n",
       "      <td>115625.713693</td>\n",
       "      <td>482</td>\n",
       "      <td>112153.5</td>\n",
       "    </tr>\n",
       "    <tr>\n",
       "      <th>3</th>\n",
       "      <td>115449.683453</td>\n",
       "      <td>556</td>\n",
       "      <td>112022.0</td>\n",
       "    </tr>\n",
       "    <tr>\n",
       "      <th>0</th>\n",
       "      <td>116169.987277</td>\n",
       "      <td>393</td>\n",
       "      <td>112000.0</td>\n",
       "    </tr>\n",
       "    <tr>\n",
       "      <th>1</th>\n",
       "      <td>115387.404167</td>\n",
       "      <td>480</td>\n",
       "      <td>111934.0</td>\n",
       "    </tr>\n",
       "    <tr>\n",
       "      <th>2</th>\n",
       "      <td>117543.895075</td>\n",
       "      <td>467</td>\n",
       "      <td>111450.0</td>\n",
       "    </tr>\n",
       "  </tbody>\n",
       "</table>\n",
       "</div>"
      ],
      "text/plain": [
       "                             mean  count    median\n",
       "weekday_exposition                                \n",
       "5                   120997.216981    212  117778.0\n",
       "6                   119592.779141    163  113888.0\n",
       "4                   115625.713693    482  112153.5\n",
       "3                   115449.683453    556  112022.0\n",
       "0                   116169.987277    393  112000.0\n",
       "1                   115387.404167    480  111934.0\n",
       "2                   117543.895075    467  111450.0"
      ]
     },
     "execution_count": 55,
     "metadata": {},
     "output_type": "execute_result"
    },
    {
     "data": {
      "image/png": "[encoded data removed]",
      "text/plain": [
       "<Figure size 432x288 with 1 Axes>"
      ]
     },
     "metadata": {
      "needs_background": "light"
     },
     "output_type": "display_data"
    }
   ],
   "source": [
    "spb_centre_weekday_exposition = spb_centre.pivot_table(index = 'weekday_exposition', \n",
    "                                                       values = 'price_of_square_meter', \n",
    "                                                       aggfunc = ['mean', 'count', 'median'])\n",
    "spb_centre_weekday_exposition.columns = ['mean', 'count', 'median']\n",
    "spb_centre_weekday_exposition.plot(y = 'median')\n",
    "\n",
    "spb_centre_weekday_exposition.sort_values('median', ascending = False)\n"
   ]
  },
  {
   "cell_type": "markdown",
   "metadata": {},
   "source": [
    "**Вывод:** Есть отличие от общей базы: наибольшие цена за квадратный метр в конце недели (в сб), наименьшая во ср."
   ]
  },
  {
   "cell_type": "markdown",
   "metadata": {},
   "source": [
    "### Зависимость стоимости квадратного метра от месяца размещения объявления."
   ]
  },
  {
   "cell_type": "code",
   "execution_count": 56,
   "metadata": {},
   "outputs": [
    {
     "data": {
      "text/html": [
       "<div>\n",
       "<style scoped>\n",
       "    .dataframe tbody tr th:only-of-type {\n",
       "        vertical-align: middle;\n",
       "    }\n",
       "\n",
       "    .dataframe tbody tr th {\n",
       "        vertical-align: top;\n",
       "    }\n",
       "\n",
       "    .dataframe thead th {\n",
       "        text-align: right;\n",
       "    }\n",
       "</style>\n",
       "<table border=\"1\" class=\"dataframe\">\n",
       "  <thead>\n",
       "    <tr style=\"text-align: right;\">\n",
       "      <th></th>\n",
       "      <th>mean</th>\n",
       "      <th>count</th>\n",
       "      <th>median</th>\n",
       "    </tr>\n",
       "    <tr>\n",
       "      <th>month_exposition</th>\n",
       "      <th></th>\n",
       "      <th></th>\n",
       "      <th></th>\n",
       "    </tr>\n",
       "  </thead>\n",
       "  <tbody>\n",
       "    <tr>\n",
       "      <th>3</th>\n",
       "      <td>121318.866667</td>\n",
       "      <td>285</td>\n",
       "      <td>122516.0</td>\n",
       "    </tr>\n",
       "    <tr>\n",
       "      <th>4</th>\n",
       "      <td>118052.249042</td>\n",
       "      <td>261</td>\n",
       "      <td>115178.0</td>\n",
       "    </tr>\n",
       "    <tr>\n",
       "      <th>8</th>\n",
       "      <td>117821.932039</td>\n",
       "      <td>206</td>\n",
       "      <td>113767.0</td>\n",
       "    </tr>\n",
       "    <tr>\n",
       "      <th>5</th>\n",
       "      <td>118476.915152</td>\n",
       "      <td>165</td>\n",
       "      <td>113333.0</td>\n",
       "    </tr>\n",
       "    <tr>\n",
       "      <th>10</th>\n",
       "      <td>115025.333333</td>\n",
       "      <td>240</td>\n",
       "      <td>112862.5</td>\n",
       "    </tr>\n",
       "    <tr>\n",
       "      <th>9</th>\n",
       "      <td>117715.945312</td>\n",
       "      <td>256</td>\n",
       "      <td>112805.5</td>\n",
       "    </tr>\n",
       "    <tr>\n",
       "      <th>12</th>\n",
       "      <td>115710.321429</td>\n",
       "      <td>196</td>\n",
       "      <td>112356.0</td>\n",
       "    </tr>\n",
       "    <tr>\n",
       "      <th>7</th>\n",
       "      <td>116713.857143</td>\n",
       "      <td>217</td>\n",
       "      <td>112195.0</td>\n",
       "    </tr>\n",
       "    <tr>\n",
       "      <th>2</th>\n",
       "      <td>115191.903114</td>\n",
       "      <td>289</td>\n",
       "      <td>110925.0</td>\n",
       "    </tr>\n",
       "    <tr>\n",
       "      <th>1</th>\n",
       "      <td>117026.110429</td>\n",
       "      <td>163</td>\n",
       "      <td>110714.0</td>\n",
       "    </tr>\n",
       "    <tr>\n",
       "      <th>6</th>\n",
       "      <td>111888.258065</td>\n",
       "      <td>217</td>\n",
       "      <td>108064.0</td>\n",
       "    </tr>\n",
       "    <tr>\n",
       "      <th>11</th>\n",
       "      <td>113953.201550</td>\n",
       "      <td>258</td>\n",
       "      <td>105773.5</td>\n",
       "    </tr>\n",
       "  </tbody>\n",
       "</table>\n",
       "</div>"
      ],
      "text/plain": [
       "                           mean  count    median\n",
       "month_exposition                                \n",
       "3                 121318.866667    285  122516.0\n",
       "4                 118052.249042    261  115178.0\n",
       "8                 117821.932039    206  113767.0\n",
       "5                 118476.915152    165  113333.0\n",
       "10                115025.333333    240  112862.5\n",
       "9                 117715.945312    256  112805.5\n",
       "12                115710.321429    196  112356.0\n",
       "7                 116713.857143    217  112195.0\n",
       "2                 115191.903114    289  110925.0\n",
       "1                 117026.110429    163  110714.0\n",
       "6                 111888.258065    217  108064.0\n",
       "11                113953.201550    258  105773.5"
      ]
     },
     "execution_count": 56,
     "metadata": {},
     "output_type": "execute_result"
    },
    {
     "data": {
      "image/png": "[encoded data removed]",
      "text/plain": [
       "<Figure size 432x288 with 1 Axes>"
      ]
     },
     "metadata": {
      "needs_background": "light"
     },
     "output_type": "display_data"
    }
   ],
   "source": [
    "spb_centre_month_exposition = spb_centre.pivot_table(index = 'month_exposition', \n",
    "                                                       values = 'price_of_square_meter', \n",
    "                                                       aggfunc = ['mean', 'count', 'median'])\n",
    "spb_centre_month_exposition.columns = ['mean', 'count', 'median']\n",
    "spb_centre_month_exposition.plot(y = 'median')\n",
    "\n",
    "spb_centre_month_exposition.sort_values('median', ascending = False)"
   ]
  },
  {
   "cell_type": "markdown",
   "metadata": {},
   "source": [
    "**Вывод:** так же, как по общей базе - спад в летний период. Самая высокая стоимость метра в марте. Самая низкая стоимость июне и ноябре."
   ]
  },
  {
   "cell_type": "markdown",
   "metadata": {},
   "source": [
    "### Зависимость стоимости квадратного метра от года размещения объявления."
   ]
  },
  {
   "cell_type": "code",
   "execution_count": 57,
   "metadata": {},
   "outputs": [
    {
     "data": {
      "text/html": [
       "<div>\n",
       "<style scoped>\n",
       "    .dataframe tbody tr th:only-of-type {\n",
       "        vertical-align: middle;\n",
       "    }\n",
       "\n",
       "    .dataframe tbody tr th {\n",
       "        vertical-align: top;\n",
       "    }\n",
       "\n",
       "    .dataframe thead th {\n",
       "        text-align: right;\n",
       "    }\n",
       "</style>\n",
       "<table border=\"1\" class=\"dataframe\">\n",
       "  <thead>\n",
       "    <tr style=\"text-align: right;\">\n",
       "      <th></th>\n",
       "      <th>mean</th>\n",
       "      <th>count</th>\n",
       "      <th>median</th>\n",
       "    </tr>\n",
       "    <tr>\n",
       "      <th>year_exposition</th>\n",
       "      <th></th>\n",
       "      <th></th>\n",
       "      <th></th>\n",
       "    </tr>\n",
       "  </thead>\n",
       "  <tbody>\n",
       "    <tr>\n",
       "      <th>2019</th>\n",
       "      <td>124794.381625</td>\n",
       "      <td>283</td>\n",
       "      <td>123728.0</td>\n",
       "    </tr>\n",
       "    <tr>\n",
       "      <th>2018</th>\n",
       "      <td>119507.218962</td>\n",
       "      <td>886</td>\n",
       "      <td>115323.5</td>\n",
       "    </tr>\n",
       "    <tr>\n",
       "      <th>2014</th>\n",
       "      <td>112650.363636</td>\n",
       "      <td>11</td>\n",
       "      <td>113750.0</td>\n",
       "    </tr>\n",
       "    <tr>\n",
       "      <th>2017</th>\n",
       "      <td>114678.795732</td>\n",
       "      <td>984</td>\n",
       "      <td>109640.5</td>\n",
       "    </tr>\n",
       "    <tr>\n",
       "      <th>2016</th>\n",
       "      <td>111929.404891</td>\n",
       "      <td>368</td>\n",
       "      <td>108248.0</td>\n",
       "    </tr>\n",
       "    <tr>\n",
       "      <th>2015</th>\n",
       "      <td>110982.321267</td>\n",
       "      <td>221</td>\n",
       "      <td>106500.0</td>\n",
       "    </tr>\n",
       "  </tbody>\n",
       "</table>\n",
       "</div>"
      ],
      "text/plain": [
       "                          mean  count    median\n",
       "year_exposition                                \n",
       "2019             124794.381625    283  123728.0\n",
       "2018             119507.218962    886  115323.5\n",
       "2014             112650.363636     11  113750.0\n",
       "2017             114678.795732    984  109640.5\n",
       "2016             111929.404891    368  108248.0\n",
       "2015             110982.321267    221  106500.0"
      ]
     },
     "execution_count": 57,
     "metadata": {},
     "output_type": "execute_result"
    },
    {
     "data": {
      "image/png": "[encoded data removed]",
      "text/plain": [
       "<Figure size 432x288 with 1 Axes>"
      ]
     },
     "metadata": {
      "needs_background": "light"
     },
     "output_type": "display_data"
    }
   ],
   "source": [
    "spb_centre_year_exposition = spb_centre.pivot_table(index = 'year_exposition', \n",
    "                                                       values = 'price_of_square_meter', \n",
    "                                                       aggfunc = ['mean', 'count', 'median'])\n",
    "spb_centre_year_exposition.columns = ['mean', 'count', 'median']\n",
    "spb_centre_year_exposition.plot(y = 'median')\n",
    "\n",
    "spb_centre_year_exposition.sort_values('median', ascending = False)"
   ]
  },
  {
   "cell_type": "markdown",
   "metadata": {},
   "source": [
    "**Вывод:** По годовой тенденции наблюдается падение в стоимости жилья в 2014 и резкий взлёт стоимости начиная с 2018 года, что вызвано скорей всего большим спросом на рынке недвижимости.\n",
    "Полностью совпадает с зависимостью по общей базе."
   ]
  },
  {
   "cell_type": "markdown",
   "metadata": {},
   "source": [
    "- Зависимость цены квартиры от числа комнат в центре такая же, как и в целом по городу\n",
    "- В центре верхний этаж стоит практически столько же, сколько и другие этажи, кроме первого\n",
    "- В центре есть очень дорогие однокомнатные квартиры\n",
    "- В центральной зоне почти нет зависимости от удалённости от центра города.\n",
    "- В центре значительно выше стоимость квартир, опубликованных в субботу и в марте.\n",
    "- Стоимость квартир в центре снизилась к 2017 году. "
   ]
  },
  {
   "cell_type": "markdown",
   "metadata": {},
   "source": [
    "## Общий вывод"
   ]
  },
  {
   "cell_type": "markdown",
   "metadata": {},
   "source": [
    "При подготовке данных к анализу мы столкнулись с большим количеством пропусков в колонках, которые могут влиять как на среднюю цену предлодения квартир на рынке, так и на анализ выделенных групп в частности. Тем не менее какие-то данные мы заполнили медианным значением дабы не терять основной массив статистичесих данны, а некоторые данные оставили без изменений с пропущенными значениями. По результату проделанной работы по обработке и анализу недостающих и \"битых\" данных, несомненно надо обратить внимание коллег по подготовке и сбору данных на заполняемость ячеек, либо на корректность выгрузки данных из программы. \n",
    "\n",
    "После избавления нашей базы от выбивающихся значений мы выполнили такие операции как подсчёт средней стоимости квадратного метра жилья, стоимость каждого километра удаления от центра, выделили сегмент квартир расположенных в центре и проанализировали их параметры, а так же вывели статистику по скорости продажи объявления с даты его размещения, факторы влияющие на это и проанализировали статистику продаж в зависимости от периода размещения объявления.\n",
    "\n",
    "Получилось, что цена зависит от: \n",
    "1. площади - чем больше площадь, тем ниже цена за кв.м.,\n",
    "2. количества комнат - чем больне комнат, тем ниже цена за кв.м.,\n",
    "3. удаленности от центра - за пределами радиуса в 8 км, чем дальше от центра, тем ниже стоимость,\n",
    "4. этажа - у первых и поледних этажей цена за метр всегда ниже,\n",
    "5. месяца размещения - наименьшая цена в \"летний сезон\".\n",
    "\n"
   ]
  }
 ],
 "metadata": {
  "ExecuteTimeLog": [
   {
    "duration": 757,
    "start_time": "2022-04-17T08:53:28.474Z"
   },
   {
    "duration": 21,
    "start_time": "2022-04-17T08:53:43.441Z"
   },
   {
    "duration": 119,
    "start_time": "2022-04-17T08:58:18.447Z"
   },
   {
    "duration": 48,
    "start_time": "2022-04-17T08:58:19.996Z"
   },
   {
    "duration": 23,
    "start_time": "2022-04-17T08:58:41.760Z"
   },
   {
    "duration": 82,
    "start_time": "2022-04-17T08:58:54.686Z"
   },
   {
    "duration": 20,
    "start_time": "2022-04-17T08:58:56.827Z"
   },
   {
    "duration": 96,
    "start_time": "2022-04-17T08:59:08.088Z"
   },
   {
    "duration": 43,
    "start_time": "2022-04-17T08:59:09.572Z"
   },
   {
    "duration": 19,
    "start_time": "2022-04-17T08:59:11.326Z"
   },
   {
    "duration": 97,
    "start_time": "2022-04-17T09:02:19.616Z"
   },
   {
    "duration": 48,
    "start_time": "2022-04-17T09:02:21.165Z"
   },
   {
    "duration": 20,
    "start_time": "2022-04-17T09:02:25.654Z"
   },
   {
    "duration": 91,
    "start_time": "2022-04-17T09:04:33.724Z"
   },
   {
    "duration": 37,
    "start_time": "2022-04-17T09:04:35.519Z"
   },
   {
    "duration": 21,
    "start_time": "2022-04-17T09:04:44.253Z"
   },
   {
    "duration": 19,
    "start_time": "2022-04-17T09:09:52.944Z"
   },
   {
    "duration": 20,
    "start_time": "2022-04-17T09:09:56.205Z"
   },
   {
    "duration": 19,
    "start_time": "2022-04-17T09:10:06.653Z"
   },
   {
    "duration": 20,
    "start_time": "2022-04-17T09:10:15.056Z"
   },
   {
    "duration": 101,
    "start_time": "2022-04-17T09:10:43.565Z"
   },
   {
    "duration": 348,
    "start_time": "2022-04-17T09:59:46.606Z"
   },
   {
    "duration": 56,
    "start_time": "2022-04-17T09:59:59.316Z"
   },
   {
    "duration": 28,
    "start_time": "2022-04-17T10:00:41.676Z"
   },
   {
    "duration": 104,
    "start_time": "2022-04-17T10:05:09.533Z"
   },
   {
    "duration": 49,
    "start_time": "2022-04-17T14:41:22.184Z"
   },
   {
    "duration": 68,
    "start_time": "2022-04-17T14:41:34.267Z"
   },
   {
    "duration": 81,
    "start_time": "2022-04-17T14:41:50.899Z"
   },
   {
    "duration": 27,
    "start_time": "2022-04-17T14:42:07.759Z"
   },
   {
    "duration": 7,
    "start_time": "2022-04-17T14:43:22.588Z"
   },
   {
    "duration": 11,
    "start_time": "2022-04-17T14:54:26.047Z"
   },
   {
    "duration": 10,
    "start_time": "2022-04-17T14:56:24.603Z"
   },
   {
    "duration": 334,
    "start_time": "2022-04-17T14:57:26.817Z"
   },
   {
    "duration": 8,
    "start_time": "2022-04-17T14:57:32.075Z"
   },
   {
    "duration": 8,
    "start_time": "2022-04-17T14:59:02.104Z"
   },
   {
    "duration": 11,
    "start_time": "2022-04-17T15:22:49.515Z"
   },
   {
    "duration": 16,
    "start_time": "2022-04-17T15:23:07.522Z"
   },
   {
    "duration": 24,
    "start_time": "2022-04-17T15:26:24.681Z"
   },
   {
    "duration": 22,
    "start_time": "2022-04-17T15:26:55.764Z"
   },
   {
    "duration": 49,
    "start_time": "2022-04-17T15:28:41.483Z"
   },
   {
    "duration": 52,
    "start_time": "2022-04-17T15:29:11.652Z"
   },
   {
    "duration": 195,
    "start_time": "2022-04-17T15:35:56.117Z"
   },
   {
    "duration": 138,
    "start_time": "2022-04-17T15:36:16.703Z"
   },
   {
    "duration": 50,
    "start_time": "2022-04-17T15:36:57.146Z"
   },
   {
    "duration": 546,
    "start_time": "2022-04-17T15:44:48.841Z"
   },
   {
    "duration": 627,
    "start_time": "2022-04-17T15:45:30.173Z"
   },
   {
    "duration": 668,
    "start_time": "2022-04-17T15:45:47.475Z"
   },
   {
    "duration": 546,
    "start_time": "2022-04-17T15:45:58.416Z"
   },
   {
    "duration": 627,
    "start_time": "2022-04-17T15:46:13.353Z"
   },
   {
    "duration": 50,
    "start_time": "2022-04-17T15:46:13.983Z"
   },
   {
    "duration": 46,
    "start_time": "2022-04-17T15:46:14.036Z"
   },
   {
    "duration": 113,
    "start_time": "2022-04-17T15:46:14.086Z"
   },
   {
    "duration": 34,
    "start_time": "2022-04-17T15:46:14.202Z"
   },
   {
    "duration": 11,
    "start_time": "2022-04-17T15:46:14.239Z"
   },
   {
    "duration": 8,
    "start_time": "2022-04-17T15:46:14.282Z"
   },
   {
    "duration": 121,
    "start_time": "2022-04-17T15:46:14.292Z"
   },
   {
    "duration": 0,
    "start_time": "2022-04-17T15:46:14.416Z"
   },
   {
    "duration": 0,
    "start_time": "2022-04-17T15:46:14.417Z"
   },
   {
    "duration": 0,
    "start_time": "2022-04-17T15:46:14.419Z"
   },
   {
    "duration": 0,
    "start_time": "2022-04-17T15:46:14.420Z"
   },
   {
    "duration": 25,
    "start_time": "2022-04-17T15:46:31.748Z"
   },
   {
    "duration": 2233,
    "start_time": "2022-04-17T15:52:46.351Z"
   },
   {
    "duration": 2466,
    "start_time": "2022-04-17T15:54:13.975Z"
   },
   {
    "duration": 2378,
    "start_time": "2022-04-17T15:55:33.450Z"
   },
   {
    "duration": 4185,
    "start_time": "2022-04-17T15:55:47.839Z"
   },
   {
    "duration": 12,
    "start_time": "2022-04-17T15:56:26.965Z"
   },
   {
    "duration": 38,
    "start_time": "2022-04-17T15:56:36.850Z"
   },
   {
    "duration": 2200,
    "start_time": "2022-04-17T15:56:41.192Z"
   },
   {
    "duration": 2174,
    "start_time": "2022-04-17T15:58:04.262Z"
   },
   {
    "duration": 26,
    "start_time": "2022-04-17T16:00:00.887Z"
   },
   {
    "duration": 24,
    "start_time": "2022-04-17T16:00:05.781Z"
   },
   {
    "duration": 4497,
    "start_time": "2022-04-17T16:00:09.510Z"
   },
   {
    "duration": 2190,
    "start_time": "2022-04-17T16:00:51.524Z"
   },
   {
    "duration": 2629,
    "start_time": "2022-04-17T16:01:39.605Z"
   },
   {
    "duration": 2791,
    "start_time": "2022-04-17T16:03:19.545Z"
   },
   {
    "duration": 2548,
    "start_time": "2022-04-17T16:23:15.245Z"
   },
   {
    "duration": 140,
    "start_time": "2022-04-17T16:25:52.758Z"
   },
   {
    "duration": 21,
    "start_time": "2022-04-17T16:26:02.333Z"
   },
   {
    "duration": 22,
    "start_time": "2022-04-17T16:26:14.154Z"
   },
   {
    "duration": 594,
    "start_time": "2022-04-17T16:26:27.808Z"
   },
   {
    "duration": 52,
    "start_time": "2022-04-17T16:26:28.405Z"
   },
   {
    "duration": 37,
    "start_time": "2022-04-17T16:26:28.459Z"
   },
   {
    "duration": 118,
    "start_time": "2022-04-17T16:26:28.499Z"
   },
   {
    "duration": 32,
    "start_time": "2022-04-17T16:26:28.619Z"
   },
   {
    "duration": 10,
    "start_time": "2022-04-17T16:26:28.653Z"
   },
   {
    "duration": 8,
    "start_time": "2022-04-17T16:26:28.682Z"
   },
   {
    "duration": 129,
    "start_time": "2022-04-17T16:26:28.692Z"
   },
   {
    "duration": 0,
    "start_time": "2022-04-17T16:26:28.824Z"
   },
   {
    "duration": 0,
    "start_time": "2022-04-17T16:26:28.826Z"
   },
   {
    "duration": 0,
    "start_time": "2022-04-17T16:26:28.827Z"
   },
   {
    "duration": 0,
    "start_time": "2022-04-17T16:26:28.828Z"
   },
   {
    "duration": 0,
    "start_time": "2022-04-17T16:26:28.830Z"
   },
   {
    "duration": 24,
    "start_time": "2022-04-17T16:27:07.966Z"
   },
   {
    "duration": 2782,
    "start_time": "2022-04-17T16:27:21.625Z"
   },
   {
    "duration": 18,
    "start_time": "2022-04-17T16:29:39.626Z"
   },
   {
    "duration": 163,
    "start_time": "2022-04-17T16:29:53.139Z"
   },
   {
    "duration": 4734,
    "start_time": "2022-04-17T16:30:39.795Z"
   },
   {
    "duration": 27,
    "start_time": "2022-04-17T16:31:36.314Z"
   },
   {
    "duration": 11,
    "start_time": "2022-04-17T16:36:21.880Z"
   },
   {
    "duration": 17,
    "start_time": "2022-04-17T16:36:37.295Z"
   },
   {
    "duration": 376,
    "start_time": "2022-04-17T16:37:01.866Z"
   },
   {
    "duration": 17,
    "start_time": "2022-04-17T16:37:42.740Z"
   },
   {
    "duration": 375,
    "start_time": "2022-04-17T16:38:02.825Z"
   },
   {
    "duration": 625,
    "start_time": "2022-04-17T16:39:03.865Z"
   },
   {
    "duration": 51,
    "start_time": "2022-04-17T16:39:04.492Z"
   },
   {
    "duration": 38,
    "start_time": "2022-04-17T16:39:04.546Z"
   },
   {
    "duration": 113,
    "start_time": "2022-04-17T16:39:04.587Z"
   },
   {
    "duration": 33,
    "start_time": "2022-04-17T16:39:04.703Z"
   },
   {
    "duration": 12,
    "start_time": "2022-04-17T16:39:04.739Z"
   },
   {
    "duration": 34,
    "start_time": "2022-04-17T16:39:04.753Z"
   },
   {
    "duration": 18,
    "start_time": "2022-04-17T16:39:04.790Z"
   },
   {
    "duration": 418,
    "start_time": "2022-04-17T16:39:04.810Z"
   },
   {
    "duration": 114,
    "start_time": "2022-04-17T16:39:05.232Z"
   },
   {
    "duration": 0,
    "start_time": "2022-04-17T16:39:05.348Z"
   },
   {
    "duration": 0,
    "start_time": "2022-04-17T16:39:05.350Z"
   },
   {
    "duration": 0,
    "start_time": "2022-04-17T16:39:05.351Z"
   },
   {
    "duration": 206,
    "start_time": "2022-04-17T16:41:49.625Z"
   },
   {
    "duration": 215,
    "start_time": "2022-04-17T16:41:54.555Z"
   },
   {
    "duration": 384,
    "start_time": "2022-04-17T16:42:03.710Z"
   },
   {
    "duration": 24,
    "start_time": "2022-04-17T16:43:15.627Z"
   },
   {
    "duration": 16,
    "start_time": "2022-04-17T16:43:33.260Z"
   },
   {
    "duration": 16,
    "start_time": "2022-04-17T16:43:35.456Z"
   },
   {
    "duration": 15,
    "start_time": "2022-04-17T16:44:08.605Z"
   },
   {
    "duration": 15,
    "start_time": "2022-04-17T16:44:17.094Z"
   },
   {
    "duration": 14,
    "start_time": "2022-04-17T16:44:28.642Z"
   },
   {
    "duration": 16,
    "start_time": "2022-04-17T16:44:35.633Z"
   },
   {
    "duration": 6,
    "start_time": "2022-04-18T16:04:02.533Z"
   },
   {
    "duration": 153,
    "start_time": "2022-04-18T16:06:06.106Z"
   },
   {
    "duration": 148,
    "start_time": "2022-04-18T16:07:13.790Z"
   },
   {
    "duration": 624,
    "start_time": "2022-04-18T16:07:36.757Z"
   },
   {
    "duration": 51,
    "start_time": "2022-04-18T16:07:37.383Z"
   },
   {
    "duration": 20,
    "start_time": "2022-04-18T16:07:37.436Z"
   },
   {
    "duration": 124,
    "start_time": "2022-04-18T16:07:37.460Z"
   },
   {
    "duration": 32,
    "start_time": "2022-04-18T16:07:37.587Z"
   },
   {
    "duration": 11,
    "start_time": "2022-04-18T16:07:37.621Z"
   },
   {
    "duration": 7,
    "start_time": "2022-04-18T16:07:37.634Z"
   },
   {
    "duration": 46,
    "start_time": "2022-04-18T16:07:37.643Z"
   },
   {
    "duration": 17,
    "start_time": "2022-04-18T16:07:37.691Z"
   },
   {
    "duration": 131,
    "start_time": "2022-04-18T16:07:37.712Z"
   },
   {
    "duration": 0,
    "start_time": "2022-04-18T16:07:37.845Z"
   },
   {
    "duration": 0,
    "start_time": "2022-04-18T16:07:37.848Z"
   },
   {
    "duration": 0,
    "start_time": "2022-04-18T16:07:37.849Z"
   },
   {
    "duration": 0,
    "start_time": "2022-04-18T16:07:37.851Z"
   },
   {
    "duration": 0,
    "start_time": "2022-04-18T16:07:37.852Z"
   },
   {
    "duration": 402,
    "start_time": "2022-04-18T16:08:26.883Z"
   },
   {
    "duration": 96,
    "start_time": "2022-04-18T16:26:32.771Z"
   },
   {
    "duration": 893,
    "start_time": "2022-04-18T16:26:42.952Z"
   },
   {
    "duration": 966,
    "start_time": "2022-04-18T16:32:46.548Z"
   },
   {
    "duration": 1233,
    "start_time": "2022-04-18T16:32:59.617Z"
   },
   {
    "duration": 945,
    "start_time": "2022-04-18T16:33:20.015Z"
   },
   {
    "duration": 5,
    "start_time": "2022-04-18T16:35:32.341Z"
   },
   {
    "duration": 44,
    "start_time": "2022-04-18T16:35:38.275Z"
   },
   {
    "duration": 4,
    "start_time": "2022-04-18T16:35:51.954Z"
   },
   {
    "duration": 26,
    "start_time": "2022-04-18T16:35:54.213Z"
   },
   {
    "duration": 5,
    "start_time": "2022-04-18T16:36:05.917Z"
   },
   {
    "duration": 41,
    "start_time": "2022-04-18T16:36:08.682Z"
   },
   {
    "duration": 4,
    "start_time": "2022-04-18T16:36:44.168Z"
   },
   {
    "duration": 23,
    "start_time": "2022-04-18T16:36:45.990Z"
   },
   {
    "duration": 5,
    "start_time": "2022-04-18T16:36:53.902Z"
   },
   {
    "duration": 36,
    "start_time": "2022-04-18T16:36:55.868Z"
   },
   {
    "duration": 13,
    "start_time": "2022-04-18T16:38:01.136Z"
   },
   {
    "duration": 121,
    "start_time": "2022-04-18T16:38:18.457Z"
   },
   {
    "duration": 20,
    "start_time": "2022-04-18T16:38:26.722Z"
   },
   {
    "duration": 18,
    "start_time": "2022-04-18T16:41:27.833Z"
   },
   {
    "duration": 16,
    "start_time": "2022-04-18T16:41:42.129Z"
   },
   {
    "duration": 181,
    "start_time": "2022-04-18T16:41:56.284Z"
   },
   {
    "duration": 17,
    "start_time": "2022-04-18T16:42:11.601Z"
   },
   {
    "duration": 15,
    "start_time": "2022-04-18T16:42:20.731Z"
   },
   {
    "duration": 29,
    "start_time": "2022-04-18T16:42:28.281Z"
   },
   {
    "duration": 16,
    "start_time": "2022-04-18T16:42:54.321Z"
   },
   {
    "duration": 9,
    "start_time": "2022-04-18T16:43:32.327Z"
   },
   {
    "duration": 28,
    "start_time": "2022-04-18T16:43:38.790Z"
   },
   {
    "duration": 13,
    "start_time": "2022-04-18T16:44:02.536Z"
   },
   {
    "duration": 843,
    "start_time": "2022-04-18T16:46:38.534Z"
   },
   {
    "duration": 72,
    "start_time": "2022-04-18T16:46:39.380Z"
   },
   {
    "duration": 47,
    "start_time": "2022-04-18T16:46:39.454Z"
   },
   {
    "duration": 159,
    "start_time": "2022-04-18T16:46:39.505Z"
   },
   {
    "duration": 42,
    "start_time": "2022-04-18T16:46:39.666Z"
   },
   {
    "duration": 12,
    "start_time": "2022-04-18T16:46:39.711Z"
   },
   {
    "duration": 11,
    "start_time": "2022-04-18T16:46:39.725Z"
   },
   {
    "duration": 53,
    "start_time": "2022-04-18T16:46:39.739Z"
   },
   {
    "duration": 531,
    "start_time": "2022-04-18T16:46:39.794Z"
   },
   {
    "duration": 754,
    "start_time": "2022-04-18T16:46:40.329Z"
   },
   {
    "duration": 15,
    "start_time": "2022-04-18T16:46:41.086Z"
   },
   {
    "duration": 107,
    "start_time": "2022-04-18T16:48:06.008Z"
   },
   {
    "duration": 213,
    "start_time": "2022-04-18T16:48:13.054Z"
   },
   {
    "duration": 8,
    "start_time": "2022-04-18T16:48:19.963Z"
   },
   {
    "duration": 13,
    "start_time": "2022-04-18T16:53:26.209Z"
   },
   {
    "duration": 11,
    "start_time": "2022-04-18T16:53:35.540Z"
   },
   {
    "duration": 27,
    "start_time": "2022-04-18T17:07:16.023Z"
   },
   {
    "duration": 27,
    "start_time": "2022-04-18T17:11:03.116Z"
   },
   {
    "duration": 30,
    "start_time": "2022-04-18T17:11:14.234Z"
   },
   {
    "duration": 29,
    "start_time": "2022-04-18T17:11:19.216Z"
   },
   {
    "duration": 49,
    "start_time": "2022-04-18T17:11:41.011Z"
   },
   {
    "duration": 13,
    "start_time": "2022-04-18T17:12:00.789Z"
   },
   {
    "duration": 11,
    "start_time": "2022-04-18T17:12:05.909Z"
   },
   {
    "duration": 12,
    "start_time": "2022-04-18T17:12:17.358Z"
   },
   {
    "duration": 8,
    "start_time": "2022-04-18T17:12:36.625Z"
   },
   {
    "duration": 45,
    "start_time": "2022-04-18T17:12:45.729Z"
   },
   {
    "duration": 40,
    "start_time": "2022-04-18T17:12:48.574Z"
   },
   {
    "duration": 13,
    "start_time": "2022-04-18T17:13:08.235Z"
   },
   {
    "duration": 16,
    "start_time": "2022-04-18T17:13:32.016Z"
   },
   {
    "duration": 25,
    "start_time": "2022-04-18T17:13:37.487Z"
   },
   {
    "duration": 44,
    "start_time": "2022-04-18T17:14:50.206Z"
   },
   {
    "duration": 46,
    "start_time": "2022-04-18T17:15:00.404Z"
   },
   {
    "duration": 41,
    "start_time": "2022-04-18T17:15:18.436Z"
   },
   {
    "duration": 49,
    "start_time": "2022-04-18T17:15:33.951Z"
   },
   {
    "duration": 614,
    "start_time": "2022-04-18T17:15:51.108Z"
   },
   {
    "duration": 49,
    "start_time": "2022-04-18T17:15:51.724Z"
   },
   {
    "duration": 22,
    "start_time": "2022-04-18T17:15:51.781Z"
   },
   {
    "duration": 114,
    "start_time": "2022-04-18T17:15:51.806Z"
   },
   {
    "duration": 31,
    "start_time": "2022-04-18T17:15:51.923Z"
   },
   {
    "duration": 60,
    "start_time": "2022-04-18T17:15:51.956Z"
   },
   {
    "duration": 70,
    "start_time": "2022-04-18T17:15:52.018Z"
   },
   {
    "duration": 11,
    "start_time": "2022-04-18T17:15:52.090Z"
   },
   {
    "duration": 21,
    "start_time": "2022-04-18T17:15:52.103Z"
   },
   {
    "duration": 40,
    "start_time": "2022-04-18T17:15:52.128Z"
   },
   {
    "duration": 375,
    "start_time": "2022-04-18T17:15:52.182Z"
   },
   {
    "duration": 713,
    "start_time": "2022-04-18T17:15:52.560Z"
   },
   {
    "duration": 15,
    "start_time": "2022-04-18T17:15:53.281Z"
   },
   {
    "duration": 19,
    "start_time": "2022-04-18T17:15:53.298Z"
   },
   {
    "duration": 8,
    "start_time": "2022-04-18T17:15:53.319Z"
   },
   {
    "duration": 29,
    "start_time": "2022-04-18T17:15:53.329Z"
   },
   {
    "duration": 626,
    "start_time": "2022-04-18T17:17:43.377Z"
   },
   {
    "duration": 49,
    "start_time": "2022-04-18T17:17:44.006Z"
   },
   {
    "duration": 43,
    "start_time": "2022-04-18T17:17:44.058Z"
   },
   {
    "duration": 118,
    "start_time": "2022-04-18T17:17:44.104Z"
   },
   {
    "duration": 32,
    "start_time": "2022-04-18T17:17:44.224Z"
   },
   {
    "duration": 59,
    "start_time": "2022-04-18T17:17:44.258Z"
   },
   {
    "duration": 64,
    "start_time": "2022-04-18T17:17:44.319Z"
   },
   {
    "duration": 10,
    "start_time": "2022-04-18T17:17:44.385Z"
   },
   {
    "duration": 15,
    "start_time": "2022-04-18T17:17:44.397Z"
   },
   {
    "duration": 19,
    "start_time": "2022-04-18T17:17:44.415Z"
   },
   {
    "duration": 427,
    "start_time": "2022-04-18T17:17:44.436Z"
   },
   {
    "duration": 609,
    "start_time": "2022-04-18T17:17:44.866Z"
   },
   {
    "duration": 17,
    "start_time": "2022-04-18T17:17:45.481Z"
   },
   {
    "duration": 24,
    "start_time": "2022-04-18T17:17:45.500Z"
   },
   {
    "duration": 11,
    "start_time": "2022-04-18T17:17:45.526Z"
   },
   {
    "duration": 55,
    "start_time": "2022-04-18T17:17:45.539Z"
   },
   {
    "duration": 108,
    "start_time": "2022-04-18T17:20:06.425Z"
   },
   {
    "duration": 6,
    "start_time": "2022-04-18T17:20:13.233Z"
   },
   {
    "duration": 78,
    "start_time": "2022-04-18T17:22:17.718Z"
   },
   {
    "duration": 249,
    "start_time": "2022-04-18T17:23:10.598Z"
   },
   {
    "duration": 246,
    "start_time": "2022-04-18T17:23:37.615Z"
   },
   {
    "duration": 26,
    "start_time": "2022-04-18T17:24:34.146Z"
   },
   {
    "duration": 5,
    "start_time": "2022-04-18T17:27:56.976Z"
   },
   {
    "duration": 38,
    "start_time": "2022-04-18T17:37:08.952Z"
   },
   {
    "duration": 44,
    "start_time": "2022-04-18T17:40:10.031Z"
   },
   {
    "duration": 58,
    "start_time": "2022-04-18T17:40:56.822Z"
   },
   {
    "duration": 52,
    "start_time": "2022-04-18T17:41:04.073Z"
   },
   {
    "duration": 791,
    "start_time": "2022-04-18T17:42:56.018Z"
   },
   {
    "duration": 587,
    "start_time": "2022-04-18T17:43:08.701Z"
   },
   {
    "duration": 49,
    "start_time": "2022-04-18T17:47:05.402Z"
   },
   {
    "duration": 591,
    "start_time": "2022-04-18T17:54:10.357Z"
   },
   {
    "duration": 873,
    "start_time": "2022-04-18T17:55:52.047Z"
   },
   {
    "duration": 1716,
    "start_time": "2022-04-18T17:56:01.852Z"
   },
   {
    "duration": 53,
    "start_time": "2022-04-18T17:56:03.571Z"
   },
   {
    "duration": 21,
    "start_time": "2022-04-18T17:56:03.627Z"
   },
   {
    "duration": 125,
    "start_time": "2022-04-18T17:56:03.652Z"
   },
   {
    "duration": 34,
    "start_time": "2022-04-18T17:56:03.784Z"
   },
   {
    "duration": 71,
    "start_time": "2022-04-18T17:56:03.821Z"
   },
   {
    "duration": 44,
    "start_time": "2022-04-18T17:56:03.898Z"
   },
   {
    "duration": 40,
    "start_time": "2022-04-18T17:56:03.944Z"
   },
   {
    "duration": 12,
    "start_time": "2022-04-18T17:56:03.991Z"
   },
   {
    "duration": 16,
    "start_time": "2022-04-18T17:56:04.009Z"
   },
   {
    "duration": 46,
    "start_time": "2022-04-18T17:56:04.028Z"
   },
   {
    "duration": 39,
    "start_time": "2022-04-18T17:56:04.076Z"
   },
   {
    "duration": 430,
    "start_time": "2022-04-18T17:56:04.118Z"
   },
   {
    "duration": 307,
    "start_time": "2022-04-18T17:56:04.551Z"
   },
   {
    "duration": 25,
    "start_time": "2022-04-18T17:56:04.861Z"
   },
   {
    "duration": 29,
    "start_time": "2022-04-18T17:56:04.888Z"
   },
   {
    "duration": 22,
    "start_time": "2022-04-18T17:56:04.919Z"
   },
   {
    "duration": 64,
    "start_time": "2022-04-18T17:56:04.943Z"
   },
   {
    "duration": 80,
    "start_time": "2022-04-18T17:56:05.010Z"
   },
   {
    "duration": 864,
    "start_time": "2022-04-18T17:56:05.092Z"
   },
   {
    "duration": 58,
    "start_time": "2022-04-18T17:56:05.959Z"
   },
   {
    "duration": 617,
    "start_time": "2022-04-18T17:56:06.020Z"
   },
   {
    "duration": 584,
    "start_time": "2022-04-18T18:00:03.103Z"
   },
   {
    "duration": 495,
    "start_time": "2022-04-18T18:00:29.689Z"
   },
   {
    "duration": 405,
    "start_time": "2022-04-18T18:01:47.957Z"
   },
   {
    "duration": 3692,
    "start_time": "2022-04-19T09:23:31.513Z"
   },
   {
    "duration": 85,
    "start_time": "2022-04-19T09:23:35.212Z"
   },
   {
    "duration": 37,
    "start_time": "2022-04-19T09:23:35.301Z"
   },
   {
    "duration": 155,
    "start_time": "2022-04-19T09:23:35.341Z"
   },
   {
    "duration": 39,
    "start_time": "2022-04-19T09:23:35.498Z"
   },
   {
    "duration": 81,
    "start_time": "2022-04-19T09:23:35.540Z"
   },
   {
    "duration": 75,
    "start_time": "2022-04-19T09:23:35.624Z"
   },
   {
    "duration": 18,
    "start_time": "2022-04-19T09:23:35.704Z"
   },
   {
    "duration": 9,
    "start_time": "2022-04-19T09:23:35.725Z"
   },
   {
    "duration": 71,
    "start_time": "2022-04-19T09:23:35.738Z"
   },
   {
    "duration": 30,
    "start_time": "2022-04-19T09:23:35.812Z"
   },
   {
    "duration": 20,
    "start_time": "2022-04-19T09:23:35.845Z"
   },
   {
    "duration": 434,
    "start_time": "2022-04-19T09:23:35.868Z"
   },
   {
    "duration": 346,
    "start_time": "2022-04-19T09:23:36.305Z"
   },
   {
    "duration": 31,
    "start_time": "2022-04-19T09:23:36.653Z"
   },
   {
    "duration": 47,
    "start_time": "2022-04-19T09:23:36.687Z"
   },
   {
    "duration": 20,
    "start_time": "2022-04-19T09:23:36.736Z"
   },
   {
    "duration": 53,
    "start_time": "2022-04-19T09:23:36.758Z"
   },
   {
    "duration": 45,
    "start_time": "2022-04-19T09:23:36.817Z"
   },
   {
    "duration": 938,
    "start_time": "2022-04-19T09:23:36.864Z"
   },
   {
    "duration": 58,
    "start_time": "2022-04-19T09:23:37.806Z"
   },
   {
    "duration": 498,
    "start_time": "2022-04-19T09:23:37.867Z"
   },
   {
    "duration": 461,
    "start_time": "2022-04-19T09:23:38.385Z"
   },
   {
    "duration": 774,
    "start_time": "2022-04-19T09:24:11.817Z"
   },
   {
    "duration": 593,
    "start_time": "2022-04-19T09:25:02.075Z"
   },
   {
    "duration": 188,
    "start_time": "2022-04-19T09:30:23.761Z"
   },
   {
    "duration": 483,
    "start_time": "2022-04-19T09:30:37.746Z"
   },
   {
    "duration": 451,
    "start_time": "2022-04-19T09:31:38.805Z"
   },
   {
    "duration": 426,
    "start_time": "2022-04-19T16:06:54.371Z"
   },
   {
    "duration": 528,
    "start_time": "2022-04-19T16:07:03.365Z"
   },
   {
    "duration": 311,
    "start_time": "2022-04-19T16:10:03.623Z"
   },
   {
    "duration": 490,
    "start_time": "2022-04-19T16:10:25.375Z"
   },
   {
    "duration": 494,
    "start_time": "2022-04-19T16:11:04.370Z"
   },
   {
    "duration": 491,
    "start_time": "2022-04-19T16:11:17.584Z"
   },
   {
    "duration": 318,
    "start_time": "2022-04-19T16:11:22.819Z"
   },
   {
    "duration": 1667,
    "start_time": "2022-04-19T16:14:06.097Z"
   },
   {
    "duration": 49,
    "start_time": "2022-04-19T16:14:07.767Z"
   },
   {
    "duration": 21,
    "start_time": "2022-04-19T16:14:07.818Z"
   },
   {
    "duration": 129,
    "start_time": "2022-04-19T16:14:07.842Z"
   },
   {
    "duration": 39,
    "start_time": "2022-04-19T16:14:07.973Z"
   },
   {
    "duration": 45,
    "start_time": "2022-04-19T16:14:08.014Z"
   },
   {
    "duration": 41,
    "start_time": "2022-04-19T16:14:08.083Z"
   },
   {
    "duration": 10,
    "start_time": "2022-04-19T16:14:08.127Z"
   },
   {
    "duration": 12,
    "start_time": "2022-04-19T16:14:08.140Z"
   },
   {
    "duration": 12,
    "start_time": "2022-04-19T16:14:08.185Z"
   },
   {
    "duration": 31,
    "start_time": "2022-04-19T16:14:08.201Z"
   },
   {
    "duration": 48,
    "start_time": "2022-04-19T16:14:08.236Z"
   },
   {
    "duration": 514,
    "start_time": "2022-04-19T16:14:08.293Z"
   },
   {
    "duration": 489,
    "start_time": "2022-04-19T16:14:08.810Z"
   },
   {
    "duration": 18,
    "start_time": "2022-04-19T16:14:09.301Z"
   },
   {
    "duration": 10,
    "start_time": "2022-04-19T16:14:09.321Z"
   },
   {
    "duration": 54,
    "start_time": "2022-04-19T16:14:09.334Z"
   },
   {
    "duration": 36,
    "start_time": "2022-04-19T16:14:09.390Z"
   },
   {
    "duration": 76,
    "start_time": "2022-04-19T16:14:09.428Z"
   },
   {
    "duration": 1511,
    "start_time": "2022-04-19T16:14:09.507Z"
   },
   {
    "duration": 91,
    "start_time": "2022-04-19T16:14:11.019Z"
   },
   {
    "duration": 890,
    "start_time": "2022-04-19T16:14:11.112Z"
   },
   {
    "duration": 902,
    "start_time": "2022-04-19T16:14:12.004Z"
   },
   {
    "duration": 831,
    "start_time": "2022-04-19T16:14:12.909Z"
   },
   {
    "duration": 551,
    "start_time": "2022-04-19T16:14:13.743Z"
   },
   {
    "duration": 157,
    "start_time": "2022-04-19T16:20:31.257Z"
   },
   {
    "duration": 12,
    "start_time": "2022-04-19T16:20:35.765Z"
   },
   {
    "duration": 214,
    "start_time": "2022-04-19T16:21:14.547Z"
   },
   {
    "duration": 170,
    "start_time": "2022-04-19T16:21:29.759Z"
   },
   {
    "duration": 17,
    "start_time": "2022-04-19T16:23:50.371Z"
   },
   {
    "duration": 164,
    "start_time": "2022-04-19T16:24:05.505Z"
   },
   {
    "duration": 136,
    "start_time": "2022-04-19T16:24:43.406Z"
   },
   {
    "duration": 12,
    "start_time": "2022-04-19T16:26:24.723Z"
   },
   {
    "duration": 11,
    "start_time": "2022-04-19T16:27:24.740Z"
   },
   {
    "duration": 137,
    "start_time": "2022-04-19T16:27:32.306Z"
   },
   {
    "duration": 140,
    "start_time": "2022-04-19T16:27:45.715Z"
   },
   {
    "duration": 163,
    "start_time": "2022-04-19T16:30:31.818Z"
   },
   {
    "duration": 158,
    "start_time": "2022-04-19T16:31:14.190Z"
   },
   {
    "duration": 6,
    "start_time": "2022-04-19T16:32:58.689Z"
   },
   {
    "duration": 6,
    "start_time": "2022-04-19T16:33:14.278Z"
   },
   {
    "duration": 5,
    "start_time": "2022-04-19T16:33:20.082Z"
   },
   {
    "duration": 6,
    "start_time": "2022-04-19T16:33:27.167Z"
   },
   {
    "duration": 18,
    "start_time": "2022-04-19T16:35:17.122Z"
   },
   {
    "duration": 483,
    "start_time": "2022-04-19T16:35:33.459Z"
   },
   {
    "duration": 471,
    "start_time": "2022-04-19T16:37:51.974Z"
   },
   {
    "duration": 385,
    "start_time": "2022-04-19T16:39:24.908Z"
   },
   {
    "duration": 48,
    "start_time": "2022-04-19T16:46:32.916Z"
   },
   {
    "duration": 124,
    "start_time": "2022-04-19T16:46:53.271Z"
   },
   {
    "duration": 40,
    "start_time": "2022-04-19T16:46:53.398Z"
   },
   {
    "duration": 20,
    "start_time": "2022-04-19T16:46:53.440Z"
   },
   {
    "duration": 114,
    "start_time": "2022-04-19T16:46:53.487Z"
   },
   {
    "duration": 32,
    "start_time": "2022-04-19T16:46:53.604Z"
   },
   {
    "duration": 77,
    "start_time": "2022-04-19T16:46:53.638Z"
   },
   {
    "duration": 38,
    "start_time": "2022-04-19T16:46:53.717Z"
   },
   {
    "duration": 32,
    "start_time": "2022-04-19T16:46:53.757Z"
   },
   {
    "duration": 24,
    "start_time": "2022-04-19T16:46:53.791Z"
   },
   {
    "duration": 13,
    "start_time": "2022-04-19T16:46:53.819Z"
   },
   {
    "duration": 19,
    "start_time": "2022-04-19T16:46:53.835Z"
   },
   {
    "duration": 36,
    "start_time": "2022-04-19T16:46:53.857Z"
   },
   {
    "duration": 394,
    "start_time": "2022-04-19T16:46:53.895Z"
   },
   {
    "duration": 273,
    "start_time": "2022-04-19T16:46:54.292Z"
   },
   {
    "duration": 21,
    "start_time": "2022-04-19T16:46:54.567Z"
   },
   {
    "duration": 14,
    "start_time": "2022-04-19T16:46:54.592Z"
   },
   {
    "duration": 19,
    "start_time": "2022-04-19T16:46:54.608Z"
   },
   {
    "duration": 67,
    "start_time": "2022-04-19T16:46:54.629Z"
   },
   {
    "duration": 56,
    "start_time": "2022-04-19T16:46:54.698Z"
   },
   {
    "duration": 622,
    "start_time": "2022-04-19T16:46:54.756Z"
   },
   {
    "duration": 42,
    "start_time": "2022-04-19T16:46:55.383Z"
   },
   {
    "duration": 437,
    "start_time": "2022-04-19T16:46:55.428Z"
   },
   {
    "duration": 525,
    "start_time": "2022-04-19T16:46:55.867Z"
   },
   {
    "duration": 324,
    "start_time": "2022-04-19T16:46:56.395Z"
   },
   {
    "duration": 330,
    "start_time": "2022-04-19T16:46:56.722Z"
   },
   {
    "duration": 31,
    "start_time": "2022-04-19T16:46:57.054Z"
   },
   {
    "duration": 171,
    "start_time": "2022-04-19T16:46:57.088Z"
   },
   {
    "duration": 398,
    "start_time": "2022-04-19T16:46:57.264Z"
   },
   {
    "duration": 86,
    "start_time": "2022-04-19T16:48:16.761Z"
   },
   {
    "duration": 129,
    "start_time": "2022-04-19T16:50:35.748Z"
   },
   {
    "duration": 108,
    "start_time": "2022-04-19T16:50:49.297Z"
   },
   {
    "duration": 40,
    "start_time": "2022-04-19T16:50:49.407Z"
   },
   {
    "duration": 43,
    "start_time": "2022-04-19T16:50:49.449Z"
   },
   {
    "duration": 116,
    "start_time": "2022-04-19T16:50:49.494Z"
   },
   {
    "duration": 33,
    "start_time": "2022-04-19T16:50:49.615Z"
   },
   {
    "duration": 66,
    "start_time": "2022-04-19T16:50:49.651Z"
   },
   {
    "duration": 37,
    "start_time": "2022-04-19T16:50:49.719Z"
   },
   {
    "duration": 38,
    "start_time": "2022-04-19T16:50:49.758Z"
   },
   {
    "duration": 9,
    "start_time": "2022-04-19T16:50:49.799Z"
   },
   {
    "duration": 12,
    "start_time": "2022-04-19T16:50:49.811Z"
   },
   {
    "duration": 19,
    "start_time": "2022-04-19T16:50:49.826Z"
   },
   {
    "duration": 49,
    "start_time": "2022-04-19T16:50:49.848Z"
   },
   {
    "duration": 395,
    "start_time": "2022-04-19T16:50:49.900Z"
   },
   {
    "duration": 268,
    "start_time": "2022-04-19T16:50:50.300Z"
   },
   {
    "duration": 32,
    "start_time": "2022-04-19T16:50:50.570Z"
   },
   {
    "duration": 9,
    "start_time": "2022-04-19T16:50:50.605Z"
   },
   {
    "duration": 18,
    "start_time": "2022-04-19T16:50:50.616Z"
   },
   {
    "duration": 68,
    "start_time": "2022-04-19T16:50:50.637Z"
   },
   {
    "duration": 46,
    "start_time": "2022-04-19T16:50:50.707Z"
   },
   {
    "duration": 624,
    "start_time": "2022-04-19T16:50:50.755Z"
   },
   {
    "duration": 42,
    "start_time": "2022-04-19T16:50:51.381Z"
   },
   {
    "duration": 537,
    "start_time": "2022-04-19T16:50:51.426Z"
   },
   {
    "duration": 432,
    "start_time": "2022-04-19T16:50:51.966Z"
   },
   {
    "duration": 329,
    "start_time": "2022-04-19T16:50:52.401Z"
   },
   {
    "duration": 324,
    "start_time": "2022-04-19T16:50:52.732Z"
   },
   {
    "duration": 12,
    "start_time": "2022-04-19T16:50:53.058Z"
   },
   {
    "duration": 168,
    "start_time": "2022-04-19T16:50:53.091Z"
   },
   {
    "duration": 415,
    "start_time": "2022-04-19T16:50:53.262Z"
   },
   {
    "duration": 126,
    "start_time": "2022-04-19T16:50:55.905Z"
   },
   {
    "duration": 175,
    "start_time": "2022-04-19T17:01:07.378Z"
   },
   {
    "duration": 107,
    "start_time": "2022-04-19T17:01:38.947Z"
   },
   {
    "duration": 48,
    "start_time": "2022-04-19T17:01:39.056Z"
   },
   {
    "duration": 20,
    "start_time": "2022-04-19T17:01:39.106Z"
   },
   {
    "duration": 128,
    "start_time": "2022-04-19T17:01:39.129Z"
   },
   {
    "duration": 41,
    "start_time": "2022-04-19T17:01:39.259Z"
   },
   {
    "duration": 48,
    "start_time": "2022-04-19T17:01:39.305Z"
   },
   {
    "duration": 67,
    "start_time": "2022-04-19T17:01:39.356Z"
   },
   {
    "duration": 11,
    "start_time": "2022-04-19T17:01:39.426Z"
   },
   {
    "duration": 9,
    "start_time": "2022-04-19T17:01:39.439Z"
   },
   {
    "duration": 9,
    "start_time": "2022-04-19T17:01:39.483Z"
   },
   {
    "duration": 22,
    "start_time": "2022-04-19T17:01:39.495Z"
   },
   {
    "duration": 17,
    "start_time": "2022-04-19T17:01:39.519Z"
   },
   {
    "duration": 398,
    "start_time": "2022-04-19T17:01:39.539Z"
   },
   {
    "duration": 282,
    "start_time": "2022-04-19T17:01:39.940Z"
   },
   {
    "duration": 17,
    "start_time": "2022-04-19T17:01:40.225Z"
   },
   {
    "duration": 10,
    "start_time": "2022-04-19T17:01:40.245Z"
   },
   {
    "duration": 45,
    "start_time": "2022-04-19T17:01:40.257Z"
   },
   {
    "duration": 34,
    "start_time": "2022-04-19T17:01:40.305Z"
   },
   {
    "duration": 84,
    "start_time": "2022-04-19T17:01:40.341Z"
   },
   {
    "duration": 738,
    "start_time": "2022-04-19T17:01:40.428Z"
   },
   {
    "duration": 52,
    "start_time": "2022-04-19T17:01:41.169Z"
   },
   {
    "duration": 428,
    "start_time": "2022-04-19T17:01:41.223Z"
   },
   {
    "duration": 184,
    "start_time": "2022-04-19T17:01:45.017Z"
   },
   {
    "duration": 14,
    "start_time": "2022-04-19T17:06:03.096Z"
   },
   {
    "duration": 134,
    "start_time": "2022-04-19T17:06:41.512Z"
   },
   {
    "duration": 14,
    "start_time": "2022-04-19T17:06:53.609Z"
   },
   {
    "duration": 5,
    "start_time": "2022-04-19T17:07:07.147Z"
   },
   {
    "duration": 12,
    "start_time": "2022-04-19T17:07:11.464Z"
   },
   {
    "duration": 16,
    "start_time": "2022-04-19T17:07:17.225Z"
   },
   {
    "duration": 5,
    "start_time": "2022-04-19T17:07:23.257Z"
   },
   {
    "duration": 10,
    "start_time": "2022-04-19T17:07:25.954Z"
   },
   {
    "duration": 49,
    "start_time": "2022-04-19T17:07:29.187Z"
   },
   {
    "duration": 13,
    "start_time": "2022-04-19T17:07:59.656Z"
   },
   {
    "duration": 12,
    "start_time": "2022-04-19T17:08:28.522Z"
   },
   {
    "duration": 15,
    "start_time": "2022-04-19T17:08:58.753Z"
   },
   {
    "duration": 11,
    "start_time": "2022-04-19T17:09:41.998Z"
   },
   {
    "duration": 12,
    "start_time": "2022-04-19T17:10:58.714Z"
   },
   {
    "duration": 122,
    "start_time": "2022-04-19T17:12:59.968Z"
   },
   {
    "duration": 40,
    "start_time": "2022-04-19T17:13:00.093Z"
   },
   {
    "duration": 34,
    "start_time": "2022-04-19T17:13:00.135Z"
   },
   {
    "duration": 106,
    "start_time": "2022-04-19T17:13:00.182Z"
   },
   {
    "duration": 33,
    "start_time": "2022-04-19T17:13:00.291Z"
   },
   {
    "duration": 73,
    "start_time": "2022-04-19T17:13:00.327Z"
   },
   {
    "duration": 38,
    "start_time": "2022-04-19T17:13:00.403Z"
   },
   {
    "duration": 39,
    "start_time": "2022-04-19T17:13:00.443Z"
   },
   {
    "duration": 21,
    "start_time": "2022-04-19T17:13:00.484Z"
   },
   {
    "duration": 8,
    "start_time": "2022-04-19T17:13:00.510Z"
   },
   {
    "duration": 32,
    "start_time": "2022-04-19T17:13:00.520Z"
   },
   {
    "duration": 29,
    "start_time": "2022-04-19T17:13:00.554Z"
   },
   {
    "duration": 370,
    "start_time": "2022-04-19T17:13:00.586Z"
   },
   {
    "duration": 292,
    "start_time": "2022-04-19T17:13:00.959Z"
   },
   {
    "duration": 16,
    "start_time": "2022-04-19T17:13:01.253Z"
   },
   {
    "duration": 27,
    "start_time": "2022-04-19T17:13:01.283Z"
   },
   {
    "duration": 31,
    "start_time": "2022-04-19T17:13:01.312Z"
   },
   {
    "duration": 47,
    "start_time": "2022-04-19T17:13:01.346Z"
   },
   {
    "duration": 72,
    "start_time": "2022-04-19T17:13:01.395Z"
   },
   {
    "duration": 989,
    "start_time": "2022-04-19T17:13:01.470Z"
   },
   {
    "duration": 68,
    "start_time": "2022-04-19T17:13:02.462Z"
   },
   {
    "duration": 594,
    "start_time": "2022-04-19T17:13:02.533Z"
   },
   {
    "duration": 181,
    "start_time": "2022-04-19T17:13:03.129Z"
   },
   {
    "duration": 6,
    "start_time": "2022-04-19T17:13:03.312Z"
   },
   {
    "duration": 17,
    "start_time": "2022-04-19T17:13:03.320Z"
   },
   {
    "duration": 20,
    "start_time": "2022-04-19T17:13:03.339Z"
   },
   {
    "duration": 448,
    "start_time": "2022-04-19T17:13:03.361Z"
   },
   {
    "duration": 10,
    "start_time": "2022-04-19T17:13:03.814Z"
   },
   {
    "duration": 16,
    "start_time": "2022-04-19T17:13:03.826Z"
   },
   {
    "duration": 341,
    "start_time": "2022-04-19T17:13:03.845Z"
   },
   {
    "duration": 12,
    "start_time": "2022-04-19T17:13:04.189Z"
   },
   {
    "duration": 13,
    "start_time": "2022-04-19T17:13:04.203Z"
   },
   {
    "duration": 436,
    "start_time": "2022-04-19T17:13:04.219Z"
   },
   {
    "duration": 29,
    "start_time": "2022-04-19T17:13:04.657Z"
   },
   {
    "duration": 26,
    "start_time": "2022-04-19T17:13:04.688Z"
   },
   {
    "duration": 14,
    "start_time": "2022-04-19T17:19:13.521Z"
   },
   {
    "duration": 258,
    "start_time": "2022-04-19T17:20:02.577Z"
   },
   {
    "duration": 258,
    "start_time": "2022-04-19T17:58:31.088Z"
   },
   {
    "duration": 236,
    "start_time": "2022-04-19T18:01:28.422Z"
   },
   {
    "duration": 130,
    "start_time": "2022-04-19T18:03:24.746Z"
   },
   {
    "duration": 13,
    "start_time": "2022-04-19T18:03:45.532Z"
   },
   {
    "duration": 287,
    "start_time": "2022-04-19T18:04:02.967Z"
   },
   {
    "duration": 404,
    "start_time": "2022-04-19T18:08:00.532Z"
   },
   {
    "duration": 4347,
    "start_time": "2022-04-19T18:09:33.651Z"
   },
   {
    "duration": 375,
    "start_time": "2022-04-19T18:09:47.830Z"
   },
   {
    "duration": 266,
    "start_time": "2022-04-19T18:12:21.776Z"
   },
   {
    "duration": 277,
    "start_time": "2022-04-19T18:19:51.695Z"
   },
   {
    "duration": 259,
    "start_time": "2022-04-19T18:22:03.041Z"
   },
   {
    "duration": 14,
    "start_time": "2022-04-19T18:23:56.457Z"
   },
   {
    "duration": 13,
    "start_time": "2022-04-19T18:24:05.360Z"
   },
   {
    "duration": 291,
    "start_time": "2022-04-19T18:24:23.421Z"
   },
   {
    "duration": 282,
    "start_time": "2022-04-19T18:24:33.440Z"
   },
   {
    "duration": 21,
    "start_time": "2022-04-19T18:28:34.077Z"
   },
   {
    "duration": 31,
    "start_time": "2022-04-19T18:28:41.677Z"
   },
   {
    "duration": 32,
    "start_time": "2022-04-19T18:29:56.502Z"
   },
   {
    "duration": 32,
    "start_time": "2022-04-19T18:31:33.597Z"
   },
   {
    "duration": 23,
    "start_time": "2022-04-19T18:36:03.275Z"
   },
   {
    "duration": 26,
    "start_time": "2022-04-19T18:37:31.329Z"
   },
   {
    "duration": 20,
    "start_time": "2022-04-19T18:37:37.960Z"
   },
   {
    "duration": 28,
    "start_time": "2022-04-19T18:38:06.278Z"
   },
   {
    "duration": 31,
    "start_time": "2022-04-19T18:38:26.839Z"
   },
   {
    "duration": 27,
    "start_time": "2022-04-19T18:39:06.095Z"
   },
   {
    "duration": 26,
    "start_time": "2022-04-19T18:39:49.908Z"
   },
   {
    "duration": 26,
    "start_time": "2022-04-19T18:40:09.829Z"
   },
   {
    "duration": 42,
    "start_time": "2022-04-19T18:41:08.195Z"
   },
   {
    "duration": 28,
    "start_time": "2022-04-19T18:41:18.860Z"
   },
   {
    "duration": 31,
    "start_time": "2022-04-19T18:41:39.370Z"
   },
   {
    "duration": 25,
    "start_time": "2022-04-19T18:42:11.031Z"
   },
   {
    "duration": 30,
    "start_time": "2022-04-19T18:42:40.089Z"
   },
   {
    "duration": 33,
    "start_time": "2022-04-19T18:44:11.704Z"
   },
   {
    "duration": 34,
    "start_time": "2022-04-19T18:44:57.079Z"
   },
   {
    "duration": 197,
    "start_time": "2022-04-19T18:45:02.146Z"
   },
   {
    "duration": 195,
    "start_time": "2022-04-19T18:45:35.675Z"
   },
   {
    "duration": 181,
    "start_time": "2022-04-19T18:45:56.732Z"
   },
   {
    "duration": 200,
    "start_time": "2022-04-19T18:46:04.966Z"
   },
   {
    "duration": 188,
    "start_time": "2022-04-19T18:46:29.436Z"
   },
   {
    "duration": 25,
    "start_time": "2022-04-19T18:47:43.633Z"
   },
   {
    "duration": 182,
    "start_time": "2022-04-19T18:48:10.101Z"
   },
   {
    "duration": 188,
    "start_time": "2022-04-19T18:48:41.982Z"
   },
   {
    "duration": 188,
    "start_time": "2022-04-19T18:48:53.209Z"
   },
   {
    "duration": 177,
    "start_time": "2022-04-19T18:50:20.471Z"
   },
   {
    "duration": 400,
    "start_time": "2022-04-19T18:50:57.601Z"
   },
   {
    "duration": 401,
    "start_time": "2022-04-19T18:51:22.461Z"
   },
   {
    "duration": 520,
    "start_time": "2022-04-19T18:51:30.050Z"
   },
   {
    "duration": 246,
    "start_time": "2022-04-19T19:25:32.843Z"
   },
   {
    "duration": 23,
    "start_time": "2022-04-19T19:25:44.493Z"
   },
   {
    "duration": 197,
    "start_time": "2022-04-19T19:25:50.274Z"
   },
   {
    "duration": 11,
    "start_time": "2022-04-19T19:26:54.732Z"
   },
   {
    "duration": 242,
    "start_time": "2022-04-19T19:28:05.464Z"
   },
   {
    "duration": 267,
    "start_time": "2022-04-19T19:43:49.488Z"
   },
   {
    "duration": 406,
    "start_time": "2022-04-19T19:46:47.321Z"
   },
   {
    "duration": 283,
    "start_time": "2022-04-19T19:49:17.680Z"
   },
   {
    "duration": 546,
    "start_time": "2022-04-19T19:52:14.907Z"
   },
   {
    "duration": 272,
    "start_time": "2022-04-19T19:55:56.353Z"
   },
   {
    "duration": 1697,
    "start_time": "2022-04-19T20:00:30.680Z"
   },
   {
    "duration": 48,
    "start_time": "2022-04-19T20:00:32.380Z"
   },
   {
    "duration": 22,
    "start_time": "2022-04-19T20:00:32.430Z"
   },
   {
    "duration": 145,
    "start_time": "2022-04-19T20:00:32.455Z"
   },
   {
    "duration": 32,
    "start_time": "2022-04-19T20:00:32.603Z"
   },
   {
    "duration": 69,
    "start_time": "2022-04-19T20:00:32.637Z"
   },
   {
    "duration": 39,
    "start_time": "2022-04-19T20:00:32.708Z"
   },
   {
    "duration": 12,
    "start_time": "2022-04-19T20:00:32.749Z"
   },
   {
    "duration": 30,
    "start_time": "2022-04-19T20:00:32.763Z"
   },
   {
    "duration": 10,
    "start_time": "2022-04-19T20:00:32.798Z"
   },
   {
    "duration": 34,
    "start_time": "2022-04-19T20:00:32.810Z"
   },
   {
    "duration": 47,
    "start_time": "2022-04-19T20:00:32.846Z"
   },
   {
    "duration": 363,
    "start_time": "2022-04-19T20:00:32.898Z"
   },
   {
    "duration": 306,
    "start_time": "2022-04-19T20:00:33.263Z"
   },
   {
    "duration": 24,
    "start_time": "2022-04-19T20:00:33.571Z"
   },
   {
    "duration": 14,
    "start_time": "2022-04-19T20:00:33.598Z"
   },
   {
    "duration": 20,
    "start_time": "2022-04-19T20:00:33.614Z"
   },
   {
    "duration": 67,
    "start_time": "2022-04-19T20:00:33.636Z"
   },
   {
    "duration": 47,
    "start_time": "2022-04-19T20:00:33.706Z"
   },
   {
    "duration": 651,
    "start_time": "2022-04-19T20:00:33.756Z"
   },
   {
    "duration": 38,
    "start_time": "2022-04-19T20:00:34.410Z"
   },
   {
    "duration": 469,
    "start_time": "2022-04-19T20:00:34.451Z"
   },
   {
    "duration": 195,
    "start_time": "2022-04-19T20:00:34.923Z"
   },
   {
    "duration": 6,
    "start_time": "2022-04-19T20:00:35.120Z"
   },
   {
    "duration": 12,
    "start_time": "2022-04-19T20:00:35.129Z"
   },
   {
    "duration": 49,
    "start_time": "2022-04-19T20:00:35.144Z"
   },
   {
    "duration": 536,
    "start_time": "2022-04-19T20:00:35.196Z"
   },
   {
    "duration": 12,
    "start_time": "2022-04-19T20:00:35.737Z"
   },
   {
    "duration": 44,
    "start_time": "2022-04-19T20:00:35.751Z"
   },
   {
    "duration": 334,
    "start_time": "2022-04-19T20:00:35.798Z"
   },
   {
    "duration": 9,
    "start_time": "2022-04-19T20:00:36.135Z"
   },
   {
    "duration": 18,
    "start_time": "2022-04-19T20:00:36.146Z"
   },
   {
    "duration": 395,
    "start_time": "2022-04-19T20:00:36.166Z"
   },
   {
    "duration": 22,
    "start_time": "2022-04-19T20:00:36.563Z"
   },
   {
    "duration": 31,
    "start_time": "2022-04-19T20:00:36.587Z"
   },
   {
    "duration": 12,
    "start_time": "2022-04-19T20:00:36.620Z"
   },
   {
    "duration": 202,
    "start_time": "2022-04-19T20:00:36.634Z"
   },
   {
    "duration": 407,
    "start_time": "2022-04-19T20:00:36.838Z"
   },
   {
    "duration": 274,
    "start_time": "2022-04-19T20:00:37.247Z"
   },
   {
    "duration": 275,
    "start_time": "2022-04-19T20:00:37.523Z"
   },
   {
    "duration": 282,
    "start_time": "2022-04-19T20:00:37.800Z"
   },
   {
    "duration": 253,
    "start_time": "2022-04-19T20:00:38.085Z"
   },
   {
    "duration": 275,
    "start_time": "2022-04-19T20:00:38.340Z"
   },
   {
    "duration": 396,
    "start_time": "2022-04-19T20:00:38.617Z"
   },
   {
    "duration": 260,
    "start_time": "2022-04-19T20:00:39.016Z"
   },
   {
    "duration": 310,
    "start_time": "2022-04-19T20:00:39.282Z"
   },
   {
    "duration": 34,
    "start_time": "2022-04-19T20:00:39.602Z"
   },
   {
    "duration": 425,
    "start_time": "2022-04-19T20:00:39.638Z"
   },
   {
    "duration": 19,
    "start_time": "2022-04-19T20:00:40.065Z"
   },
   {
    "duration": 255,
    "start_time": "2022-04-19T20:00:40.087Z"
   },
   {
    "duration": 283,
    "start_time": "2022-04-19T20:00:40.344Z"
   },
   {
    "duration": 306,
    "start_time": "2022-04-19T20:00:40.629Z"
   },
   {
    "duration": 260,
    "start_time": "2022-04-19T20:00:40.937Z"
   },
   {
    "duration": 270,
    "start_time": "2022-04-19T20:00:41.200Z"
   },
   {
    "duration": 288,
    "start_time": "2022-04-19T20:00:41.472Z"
   },
   {
    "duration": 36,
    "start_time": "2022-04-19T20:16:22.953Z"
   },
   {
    "duration": 35,
    "start_time": "2022-04-19T20:16:31.825Z"
   },
   {
    "duration": 277,
    "start_time": "2022-04-19T20:16:59.875Z"
   },
   {
    "duration": 257,
    "start_time": "2022-04-19T20:17:25.013Z"
   },
   {
    "duration": 358,
    "start_time": "2022-04-19T20:18:04.969Z"
   },
   {
    "duration": 1548,
    "start_time": "2022-05-15T15:16:43.840Z"
   },
   {
    "duration": 33,
    "start_time": "2022-05-15T15:16:45.390Z"
   },
   {
    "duration": 23,
    "start_time": "2022-05-15T15:16:45.425Z"
   },
   {
    "duration": 85,
    "start_time": "2022-05-15T15:16:45.451Z"
   },
   {
    "duration": 37,
    "start_time": "2022-05-15T15:16:45.538Z"
   },
   {
    "duration": 67,
    "start_time": "2022-05-15T15:16:45.577Z"
   },
   {
    "duration": 43,
    "start_time": "2022-05-15T15:16:45.647Z"
   },
   {
    "duration": 31,
    "start_time": "2022-05-15T15:16:45.693Z"
   },
   {
    "duration": 8,
    "start_time": "2022-05-15T15:16:45.727Z"
   },
   {
    "duration": 18,
    "start_time": "2022-05-15T15:16:45.740Z"
   },
   {
    "duration": 26,
    "start_time": "2022-05-15T15:16:45.760Z"
   },
   {
    "duration": 24,
    "start_time": "2022-05-15T15:16:45.788Z"
   },
   {
    "duration": 284,
    "start_time": "2022-05-15T15:16:45.813Z"
   },
   {
    "duration": 199,
    "start_time": "2022-05-15T15:16:46.098Z"
   },
   {
    "duration": 12,
    "start_time": "2022-05-15T15:16:46.298Z"
   },
   {
    "duration": 26,
    "start_time": "2022-05-15T15:16:46.312Z"
   },
   {
    "duration": 44,
    "start_time": "2022-05-15T15:16:46.340Z"
   },
   {
    "duration": 22,
    "start_time": "2022-05-15T15:16:46.386Z"
   },
   {
    "duration": 34,
    "start_time": "2022-05-15T15:16:46.409Z"
   },
   {
    "duration": 351,
    "start_time": "2022-05-15T15:16:46.444Z"
   },
   {
    "duration": 38,
    "start_time": "2022-05-15T15:16:46.797Z"
   },
   {
    "duration": 309,
    "start_time": "2022-05-15T15:16:46.838Z"
   },
   {
    "duration": 172,
    "start_time": "2022-05-15T15:16:47.149Z"
   },
   {
    "duration": 5,
    "start_time": "2022-05-15T15:16:47.323Z"
   },
   {
    "duration": 14,
    "start_time": "2022-05-15T15:16:47.330Z"
   },
   {
    "duration": 10,
    "start_time": "2022-05-15T15:16:47.346Z"
   },
   {
    "duration": 107,
    "start_time": "2022-05-15T15:19:06.305Z"
   },
   {
    "duration": 45,
    "start_time": "2022-05-15T15:19:10.628Z"
   },
   {
    "duration": 39,
    "start_time": "2022-05-15T15:23:58.015Z"
   },
   {
    "duration": 83,
    "start_time": "2022-05-15T15:29:02.712Z"
   },
   {
    "duration": 40,
    "start_time": "2022-05-15T15:29:02.797Z"
   },
   {
    "duration": 16,
    "start_time": "2022-05-15T15:29:02.839Z"
   },
   {
    "duration": 94,
    "start_time": "2022-05-15T15:29:02.858Z"
   },
   {
    "duration": 22,
    "start_time": "2022-05-15T15:29:02.955Z"
   },
   {
    "duration": 55,
    "start_time": "2022-05-15T15:29:02.979Z"
   },
   {
    "duration": 29,
    "start_time": "2022-05-15T15:29:03.035Z"
   },
   {
    "duration": 15,
    "start_time": "2022-05-15T15:29:03.065Z"
   },
   {
    "duration": 35,
    "start_time": "2022-05-15T15:29:03.081Z"
   },
   {
    "duration": 8,
    "start_time": "2022-05-15T15:29:03.119Z"
   },
   {
    "duration": 18,
    "start_time": "2022-05-15T15:29:03.129Z"
   },
   {
    "duration": 14,
    "start_time": "2022-05-15T15:29:03.149Z"
   },
   {
    "duration": 264,
    "start_time": "2022-05-15T15:29:03.164Z"
   },
   {
    "duration": 158,
    "start_time": "2022-05-15T15:29:03.430Z"
   },
   {
    "duration": 11,
    "start_time": "2022-05-15T15:29:03.590Z"
   },
   {
    "duration": 20,
    "start_time": "2022-05-15T15:29:03.603Z"
   },
   {
    "duration": 12,
    "start_time": "2022-05-15T15:29:03.625Z"
   },
   {
    "duration": 20,
    "start_time": "2022-05-15T15:29:03.639Z"
   },
   {
    "duration": 29,
    "start_time": "2022-05-15T15:29:03.660Z"
   },
   {
    "duration": 420,
    "start_time": "2022-05-15T15:29:03.690Z"
   },
   {
    "duration": 32,
    "start_time": "2022-05-15T15:29:04.112Z"
   },
   {
    "duration": 249,
    "start_time": "2022-05-15T15:29:04.146Z"
   },
   {
    "duration": 110,
    "start_time": "2022-05-15T15:29:04.396Z"
   },
   {
    "duration": 4,
    "start_time": "2022-05-15T15:29:04.508Z"
   },
   {
    "duration": 8,
    "start_time": "2022-05-15T15:29:04.523Z"
   },
   {
    "duration": 32,
    "start_time": "2022-05-15T15:29:04.533Z"
   },
   {
    "duration": 57,
    "start_time": "2022-05-15T15:29:04.567Z"
   },
   {
    "duration": 265,
    "start_time": "2022-05-15T15:29:04.628Z"
   },
   {
    "duration": 3,
    "start_time": "2022-05-15T15:29:04.895Z"
   },
   {
    "duration": 5,
    "start_time": "2022-05-15T15:29:04.900Z"
   },
   {
    "duration": 211,
    "start_time": "2022-05-15T15:29:04.907Z"
   },
   {
    "duration": 8,
    "start_time": "2022-05-15T15:29:05.120Z"
   },
   {
    "duration": 9,
    "start_time": "2022-05-15T15:29:05.130Z"
   },
   {
    "duration": 204,
    "start_time": "2022-05-15T15:29:05.141Z"
   },
   {
    "duration": 9,
    "start_time": "2022-05-15T15:29:05.347Z"
   },
   {
    "duration": 19,
    "start_time": "2022-05-15T15:29:09.167Z"
   },
   {
    "duration": 2,
    "start_time": "2022-05-15T15:29:49.631Z"
   },
   {
    "duration": 91,
    "start_time": "2022-05-15T15:31:05.478Z"
   },
   {
    "duration": 26,
    "start_time": "2022-05-15T15:31:05.571Z"
   },
   {
    "duration": 34,
    "start_time": "2022-05-15T15:31:05.599Z"
   },
   {
    "duration": 68,
    "start_time": "2022-05-15T15:31:05.635Z"
   },
   {
    "duration": 22,
    "start_time": "2022-05-15T15:31:05.722Z"
   },
   {
    "duration": 36,
    "start_time": "2022-05-15T15:31:05.746Z"
   },
   {
    "duration": 52,
    "start_time": "2022-05-15T15:31:05.784Z"
   },
   {
    "duration": 8,
    "start_time": "2022-05-15T15:31:05.838Z"
   },
   {
    "duration": 9,
    "start_time": "2022-05-15T15:31:05.849Z"
   },
   {
    "duration": 7,
    "start_time": "2022-05-15T15:31:05.863Z"
   },
   {
    "duration": 14,
    "start_time": "2022-05-15T15:31:05.872Z"
   },
   {
    "duration": 45,
    "start_time": "2022-05-15T15:31:05.888Z"
   },
   {
    "duration": 260,
    "start_time": "2022-05-15T15:31:05.935Z"
   },
   {
    "duration": 171,
    "start_time": "2022-05-15T15:31:06.197Z"
   },
   {
    "duration": 11,
    "start_time": "2022-05-15T15:31:06.370Z"
   },
   {
    "duration": 34,
    "start_time": "2022-05-15T15:31:06.383Z"
   },
   {
    "duration": 22,
    "start_time": "2022-05-15T15:31:06.419Z"
   },
   {
    "duration": 23,
    "start_time": "2022-05-15T15:31:06.443Z"
   },
   {
    "duration": 29,
    "start_time": "2022-05-15T15:31:06.468Z"
   },
   {
    "duration": 419,
    "start_time": "2022-05-15T15:31:06.499Z"
   },
   {
    "duration": 25,
    "start_time": "2022-05-15T15:31:06.919Z"
   },
   {
    "duration": 251,
    "start_time": "2022-05-15T15:31:06.946Z"
   },
   {
    "duration": 112,
    "start_time": "2022-05-15T15:31:07.199Z"
   },
   {
    "duration": 13,
    "start_time": "2022-05-15T15:31:07.312Z"
   },
   {
    "duration": 9,
    "start_time": "2022-05-15T15:31:07.327Z"
   },
   {
    "duration": 3,
    "start_time": "2022-05-15T15:31:07.338Z"
   },
   {
    "duration": 33,
    "start_time": "2022-05-15T15:31:07.342Z"
   },
   {
    "duration": 273,
    "start_time": "2022-05-15T15:31:07.379Z"
   },
   {
    "duration": 3,
    "start_time": "2022-05-15T15:31:07.653Z"
   },
   {
    "duration": 5,
    "start_time": "2022-05-15T15:31:07.657Z"
   },
   {
    "duration": 180,
    "start_time": "2022-05-15T15:31:12.339Z"
   },
   {
    "duration": 192,
    "start_time": "2022-05-15T15:32:52.105Z"
   },
   {
    "duration": 659,
    "start_time": "2022-05-15T15:33:05.188Z"
   },
   {
    "duration": 298,
    "start_time": "2022-05-15T15:33:14.501Z"
   },
   {
    "duration": 171,
    "start_time": "2022-05-15T15:33:27.413Z"
   },
   {
    "duration": 204,
    "start_time": "2022-05-15T15:33:36.116Z"
   },
   {
    "duration": 177,
    "start_time": "2022-05-15T15:33:45.874Z"
   },
   {
    "duration": 192,
    "start_time": "2022-05-15T15:34:37.036Z"
   },
   {
    "duration": 28,
    "start_time": "2022-05-15T15:35:07.873Z"
   },
   {
    "duration": 81,
    "start_time": "2022-05-15T15:35:26.552Z"
   },
   {
    "duration": 27,
    "start_time": "2022-05-15T15:35:26.635Z"
   },
   {
    "duration": 14,
    "start_time": "2022-05-15T15:35:26.664Z"
   },
   {
    "duration": 94,
    "start_time": "2022-05-15T15:35:26.680Z"
   },
   {
    "duration": 20,
    "start_time": "2022-05-15T15:35:26.776Z"
   },
   {
    "duration": 52,
    "start_time": "2022-05-15T15:35:26.797Z"
   },
   {
    "duration": 27,
    "start_time": "2022-05-15T15:35:26.851Z"
   },
   {
    "duration": 7,
    "start_time": "2022-05-15T15:35:26.880Z"
   },
   {
    "duration": 7,
    "start_time": "2022-05-15T15:35:26.889Z"
   },
   {
    "duration": 29,
    "start_time": "2022-05-15T15:35:26.898Z"
   },
   {
    "duration": 13,
    "start_time": "2022-05-15T15:35:26.929Z"
   },
   {
    "duration": 13,
    "start_time": "2022-05-15T15:35:26.943Z"
   },
   {
    "duration": 274,
    "start_time": "2022-05-15T15:35:26.958Z"
   },
   {
    "duration": 169,
    "start_time": "2022-05-15T15:35:27.233Z"
   },
   {
    "duration": 19,
    "start_time": "2022-05-15T15:35:27.404Z"
   },
   {
    "duration": 8,
    "start_time": "2022-05-15T15:35:27.425Z"
   },
   {
    "duration": 15,
    "start_time": "2022-05-15T15:35:27.434Z"
   },
   {
    "duration": 23,
    "start_time": "2022-05-15T15:35:27.451Z"
   },
   {
    "duration": 58,
    "start_time": "2022-05-15T15:35:27.476Z"
   },
   {
    "duration": 510,
    "start_time": "2022-05-15T15:35:27.536Z"
   },
   {
    "duration": 77,
    "start_time": "2022-05-15T15:35:28.055Z"
   },
   {
    "duration": 292,
    "start_time": "2022-05-15T15:35:28.137Z"
   },
   {
    "duration": 126,
    "start_time": "2022-05-15T15:35:28.431Z"
   },
   {
    "duration": 4,
    "start_time": "2022-05-15T15:35:28.559Z"
   },
   {
    "duration": 28,
    "start_time": "2022-05-15T15:35:28.566Z"
   },
   {
    "duration": 3,
    "start_time": "2022-05-15T15:35:28.597Z"
   },
   {
    "duration": 79,
    "start_time": "2022-05-15T15:35:28.603Z"
   },
   {
    "duration": 278,
    "start_time": "2022-05-15T15:35:28.688Z"
   },
   {
    "duration": 2,
    "start_time": "2022-05-15T15:35:28.968Z"
   },
   {
    "duration": 70,
    "start_time": "2022-05-15T15:35:28.972Z"
   },
   {
    "duration": 198,
    "start_time": "2022-05-15T15:35:29.045Z"
   },
   {
    "duration": 2,
    "start_time": "2022-05-15T15:35:29.244Z"
   },
   {
    "duration": 20,
    "start_time": "2022-05-15T15:35:29.248Z"
   },
   {
    "duration": 208,
    "start_time": "2022-05-15T15:35:29.270Z"
   },
   {
    "duration": 3,
    "start_time": "2022-05-15T15:35:29.480Z"
   },
   {
    "duration": 29,
    "start_time": "2022-05-15T15:35:31.971Z"
   },
   {
    "duration": 27,
    "start_time": "2022-05-15T15:35:35.070Z"
   },
   {
    "duration": 1245,
    "start_time": "2022-05-15T15:38:28.652Z"
   },
   {
    "duration": 29,
    "start_time": "2022-05-15T15:38:29.899Z"
   },
   {
    "duration": 15,
    "start_time": "2022-05-15T15:38:29.930Z"
   },
   {
    "duration": 80,
    "start_time": "2022-05-15T15:38:29.947Z"
   },
   {
    "duration": 22,
    "start_time": "2022-05-15T15:38:30.028Z"
   },
   {
    "duration": 33,
    "start_time": "2022-05-15T15:38:30.051Z"
   },
   {
    "duration": 47,
    "start_time": "2022-05-15T15:38:30.085Z"
   },
   {
    "duration": 14,
    "start_time": "2022-05-15T15:38:30.133Z"
   },
   {
    "duration": 11,
    "start_time": "2022-05-15T15:38:30.149Z"
   },
   {
    "duration": 7,
    "start_time": "2022-05-15T15:38:30.163Z"
   },
   {
    "duration": 21,
    "start_time": "2022-05-15T15:38:30.171Z"
   },
   {
    "duration": 29,
    "start_time": "2022-05-15T15:38:30.194Z"
   },
   {
    "duration": 248,
    "start_time": "2022-05-15T15:38:30.225Z"
   },
   {
    "duration": 180,
    "start_time": "2022-05-15T15:38:30.475Z"
   },
   {
    "duration": 10,
    "start_time": "2022-05-15T15:38:30.657Z"
   },
   {
    "duration": 17,
    "start_time": "2022-05-15T15:38:30.669Z"
   },
   {
    "duration": 20,
    "start_time": "2022-05-15T15:38:30.688Z"
   },
   {
    "duration": 33,
    "start_time": "2022-05-15T15:38:30.710Z"
   },
   {
    "duration": 30,
    "start_time": "2022-05-15T15:38:30.744Z"
   },
   {
    "duration": 369,
    "start_time": "2022-05-15T15:38:30.776Z"
   },
   {
    "duration": 26,
    "start_time": "2022-05-15T15:38:31.146Z"
   },
   {
    "duration": 323,
    "start_time": "2022-05-15T15:38:31.174Z"
   },
   {
    "duration": 159,
    "start_time": "2022-05-15T15:38:31.499Z"
   },
   {
    "duration": 5,
    "start_time": "2022-05-15T15:38:31.660Z"
   },
   {
    "duration": 8,
    "start_time": "2022-05-15T15:38:31.668Z"
   },
   {
    "duration": 3,
    "start_time": "2022-05-15T15:38:31.678Z"
   },
   {
    "duration": 67,
    "start_time": "2022-05-15T15:38:31.683Z"
   },
   {
    "duration": 447,
    "start_time": "2022-05-15T15:38:31.754Z"
   },
   {
    "duration": 2,
    "start_time": "2022-05-15T15:38:32.203Z"
   },
   {
    "duration": 7,
    "start_time": "2022-05-15T15:38:32.207Z"
   },
   {
    "duration": 271,
    "start_time": "2022-05-15T15:38:32.215Z"
   },
   {
    "duration": 3,
    "start_time": "2022-05-15T15:38:32.488Z"
   },
   {
    "duration": 167,
    "start_time": "2022-05-15T15:38:32.493Z"
   },
   {
    "duration": 0,
    "start_time": "2022-05-15T15:38:32.662Z"
   },
   {
    "duration": 0,
    "start_time": "2022-05-15T15:38:32.664Z"
   },
   {
    "duration": 0,
    "start_time": "2022-05-15T15:38:32.665Z"
   },
   {
    "duration": 0,
    "start_time": "2022-05-15T15:38:32.666Z"
   },
   {
    "duration": 0,
    "start_time": "2022-05-15T15:38:32.668Z"
   },
   {
    "duration": 0,
    "start_time": "2022-05-15T15:38:32.669Z"
   },
   {
    "duration": 0,
    "start_time": "2022-05-15T15:38:32.671Z"
   },
   {
    "duration": 0,
    "start_time": "2022-05-15T15:38:32.672Z"
   },
   {
    "duration": 0,
    "start_time": "2022-05-15T15:38:32.674Z"
   },
   {
    "duration": 0,
    "start_time": "2022-05-15T15:38:32.675Z"
   },
   {
    "duration": 0,
    "start_time": "2022-05-15T15:38:32.676Z"
   },
   {
    "duration": 0,
    "start_time": "2022-05-15T15:38:32.677Z"
   },
   {
    "duration": 0,
    "start_time": "2022-05-15T15:38:32.678Z"
   },
   {
    "duration": 0,
    "start_time": "2022-05-15T15:38:32.680Z"
   },
   {
    "duration": 0,
    "start_time": "2022-05-15T15:38:32.681Z"
   },
   {
    "duration": 0,
    "start_time": "2022-05-15T15:38:32.682Z"
   },
   {
    "duration": 0,
    "start_time": "2022-05-15T15:38:32.722Z"
   },
   {
    "duration": 0,
    "start_time": "2022-05-15T15:38:32.724Z"
   },
   {
    "duration": 0,
    "start_time": "2022-05-15T15:38:32.724Z"
   },
   {
    "duration": 0,
    "start_time": "2022-05-15T15:38:32.726Z"
   },
   {
    "duration": 0,
    "start_time": "2022-05-15T15:38:32.727Z"
   },
   {
    "duration": 0,
    "start_time": "2022-05-15T15:38:32.728Z"
   },
   {
    "duration": 0,
    "start_time": "2022-05-15T15:38:32.729Z"
   },
   {
    "duration": 0,
    "start_time": "2022-05-15T15:38:32.730Z"
   },
   {
    "duration": 1668,
    "start_time": "2022-05-15T15:39:16.020Z"
   },
   {
    "duration": 42,
    "start_time": "2022-05-15T15:39:17.691Z"
   },
   {
    "duration": 22,
    "start_time": "2022-05-15T15:39:17.735Z"
   },
   {
    "duration": 117,
    "start_time": "2022-05-15T15:39:17.760Z"
   },
   {
    "duration": 23,
    "start_time": "2022-05-15T15:39:17.879Z"
   },
   {
    "duration": 49,
    "start_time": "2022-05-15T15:39:17.904Z"
   },
   {
    "duration": 29,
    "start_time": "2022-05-15T15:39:17.955Z"
   },
   {
    "duration": 8,
    "start_time": "2022-05-15T15:39:17.986Z"
   },
   {
    "duration": 30,
    "start_time": "2022-05-15T15:39:17.996Z"
   },
   {
    "duration": 8,
    "start_time": "2022-05-15T15:39:18.029Z"
   },
   {
    "duration": 18,
    "start_time": "2022-05-15T15:39:18.038Z"
   },
   {
    "duration": 12,
    "start_time": "2022-05-15T15:39:18.058Z"
   },
   {
    "duration": 283,
    "start_time": "2022-05-15T15:39:18.072Z"
   },
   {
    "duration": 195,
    "start_time": "2022-05-15T15:39:18.357Z"
   },
   {
    "duration": 13,
    "start_time": "2022-05-15T15:39:18.554Z"
   },
   {
    "duration": 17,
    "start_time": "2022-05-15T15:39:18.569Z"
   },
   {
    "duration": 18,
    "start_time": "2022-05-15T15:39:18.589Z"
   },
   {
    "duration": 34,
    "start_time": "2022-05-15T15:39:18.609Z"
   },
   {
    "duration": 33,
    "start_time": "2022-05-15T15:39:18.645Z"
   },
   {
    "duration": 388,
    "start_time": "2022-05-15T15:39:18.680Z"
   },
   {
    "duration": 36,
    "start_time": "2022-05-15T15:39:19.071Z"
   },
   {
    "duration": 394,
    "start_time": "2022-05-15T15:39:19.123Z"
   },
   {
    "duration": 137,
    "start_time": "2022-05-15T15:39:19.522Z"
   },
   {
    "duration": 4,
    "start_time": "2022-05-15T15:39:19.662Z"
   },
   {
    "duration": 11,
    "start_time": "2022-05-15T15:39:19.668Z"
   },
   {
    "duration": 3,
    "start_time": "2022-05-15T15:39:19.681Z"
   },
   {
    "duration": 56,
    "start_time": "2022-05-15T15:39:19.685Z"
   },
   {
    "duration": 351,
    "start_time": "2022-05-15T15:39:19.746Z"
   },
   {
    "duration": 4,
    "start_time": "2022-05-15T15:39:20.099Z"
   },
   {
    "duration": 17,
    "start_time": "2022-05-15T15:39:20.105Z"
   },
   {
    "duration": 282,
    "start_time": "2022-05-15T15:39:20.124Z"
   },
   {
    "duration": 4,
    "start_time": "2022-05-15T15:39:20.408Z"
   },
   {
    "duration": 164,
    "start_time": "2022-05-15T15:39:20.414Z"
   },
   {
    "duration": 0,
    "start_time": "2022-05-15T15:39:20.580Z"
   },
   {
    "duration": 0,
    "start_time": "2022-05-15T15:39:20.582Z"
   },
   {
    "duration": 0,
    "start_time": "2022-05-15T15:39:20.584Z"
   },
   {
    "duration": 0,
    "start_time": "2022-05-15T15:39:20.585Z"
   },
   {
    "duration": 0,
    "start_time": "2022-05-15T15:39:20.586Z"
   },
   {
    "duration": 0,
    "start_time": "2022-05-15T15:39:20.587Z"
   },
   {
    "duration": 0,
    "start_time": "2022-05-15T15:39:20.589Z"
   },
   {
    "duration": 0,
    "start_time": "2022-05-15T15:39:20.590Z"
   },
   {
    "duration": 0,
    "start_time": "2022-05-15T15:39:20.591Z"
   },
   {
    "duration": 0,
    "start_time": "2022-05-15T15:39:20.593Z"
   },
   {
    "duration": 0,
    "start_time": "2022-05-15T15:39:20.594Z"
   },
   {
    "duration": 0,
    "start_time": "2022-05-15T15:39:20.622Z"
   },
   {
    "duration": 0,
    "start_time": "2022-05-15T15:39:20.624Z"
   },
   {
    "duration": 0,
    "start_time": "2022-05-15T15:39:20.626Z"
   },
   {
    "duration": 0,
    "start_time": "2022-05-15T15:39:20.627Z"
   },
   {
    "duration": 0,
    "start_time": "2022-05-15T15:39:20.628Z"
   },
   {
    "duration": 0,
    "start_time": "2022-05-15T15:39:20.629Z"
   },
   {
    "duration": 0,
    "start_time": "2022-05-15T15:39:20.631Z"
   },
   {
    "duration": 0,
    "start_time": "2022-05-15T15:39:20.632Z"
   },
   {
    "duration": 0,
    "start_time": "2022-05-15T15:39:20.633Z"
   },
   {
    "duration": 0,
    "start_time": "2022-05-15T15:39:20.634Z"
   },
   {
    "duration": 0,
    "start_time": "2022-05-15T15:39:20.635Z"
   },
   {
    "duration": 0,
    "start_time": "2022-05-15T15:39:20.636Z"
   },
   {
    "duration": 0,
    "start_time": "2022-05-15T15:39:20.637Z"
   },
   {
    "duration": 1428,
    "start_time": "2022-05-15T15:40:29.780Z"
   },
   {
    "duration": 29,
    "start_time": "2022-05-15T15:40:31.211Z"
   },
   {
    "duration": 30,
    "start_time": "2022-05-15T15:40:31.242Z"
   },
   {
    "duration": 74,
    "start_time": "2022-05-15T15:40:31.274Z"
   },
   {
    "duration": 25,
    "start_time": "2022-05-15T15:40:31.351Z"
   },
   {
    "duration": 55,
    "start_time": "2022-05-15T15:40:31.378Z"
   },
   {
    "duration": 26,
    "start_time": "2022-05-15T15:40:31.435Z"
   },
   {
    "duration": 8,
    "start_time": "2022-05-15T15:40:31.463Z"
   },
   {
    "duration": 9,
    "start_time": "2022-05-15T15:40:31.472Z"
   },
   {
    "duration": 10,
    "start_time": "2022-05-15T15:40:31.482Z"
   },
   {
    "duration": 41,
    "start_time": "2022-05-15T15:40:31.494Z"
   },
   {
    "duration": 12,
    "start_time": "2022-05-15T15:40:31.537Z"
   },
   {
    "duration": 253,
    "start_time": "2022-05-15T15:40:31.551Z"
   },
   {
    "duration": 177,
    "start_time": "2022-05-15T15:40:31.822Z"
   },
   {
    "duration": 11,
    "start_time": "2022-05-15T15:40:32.001Z"
   },
   {
    "duration": 9,
    "start_time": "2022-05-15T15:40:32.022Z"
   },
   {
    "duration": 15,
    "start_time": "2022-05-15T15:40:32.032Z"
   },
   {
    "duration": 21,
    "start_time": "2022-05-15T15:40:32.048Z"
   },
   {
    "duration": 53,
    "start_time": "2022-05-15T15:40:32.071Z"
   },
   {
    "duration": 334,
    "start_time": "2022-05-15T15:40:32.125Z"
   },
   {
    "duration": 23,
    "start_time": "2022-05-15T15:40:32.460Z"
   },
   {
    "duration": 263,
    "start_time": "2022-05-15T15:40:32.484Z"
   },
   {
    "duration": 121,
    "start_time": "2022-05-15T15:40:32.749Z"
   },
   {
    "duration": 4,
    "start_time": "2022-05-15T15:40:32.871Z"
   },
   {
    "duration": 9,
    "start_time": "2022-05-15T15:40:32.877Z"
   },
   {
    "duration": 2,
    "start_time": "2022-05-15T15:40:32.888Z"
   },
   {
    "duration": 58,
    "start_time": "2022-05-15T15:40:32.892Z"
   },
   {
    "duration": 326,
    "start_time": "2022-05-15T15:40:32.952Z"
   },
   {
    "duration": 3,
    "start_time": "2022-05-15T15:40:33.280Z"
   },
   {
    "duration": 4,
    "start_time": "2022-05-15T15:40:33.285Z"
   },
   {
    "duration": 200,
    "start_time": "2022-05-15T15:40:33.290Z"
   },
   {
    "duration": 2,
    "start_time": "2022-05-15T15:40:33.492Z"
   },
   {
    "duration": 10,
    "start_time": "2022-05-15T15:40:33.496Z"
   },
   {
    "duration": 214,
    "start_time": "2022-05-15T15:40:33.523Z"
   },
   {
    "duration": 2,
    "start_time": "2022-05-15T15:40:33.739Z"
   },
   {
    "duration": 38,
    "start_time": "2022-05-15T15:40:33.743Z"
   },
   {
    "duration": 10,
    "start_time": "2022-05-15T15:40:33.782Z"
   },
   {
    "duration": 116,
    "start_time": "2022-05-15T15:40:33.793Z"
   },
   {
    "duration": 230,
    "start_time": "2022-05-15T15:40:33.922Z"
   },
   {
    "duration": 178,
    "start_time": "2022-05-15T15:40:34.153Z"
   },
   {
    "duration": 166,
    "start_time": "2022-05-15T15:40:34.336Z"
   },
   {
    "duration": 160,
    "start_time": "2022-05-15T15:40:34.504Z"
   },
   {
    "duration": 148,
    "start_time": "2022-05-15T15:40:34.666Z"
   },
   {
    "duration": 180,
    "start_time": "2022-05-15T15:40:34.816Z"
   },
   {
    "duration": 257,
    "start_time": "2022-05-15T15:40:34.998Z"
   },
   {
    "duration": 149,
    "start_time": "2022-05-15T15:40:35.257Z"
   },
   {
    "duration": 183,
    "start_time": "2022-05-15T15:40:35.409Z"
   },
   {
    "duration": 36,
    "start_time": "2022-05-15T15:40:35.594Z"
   },
   {
    "duration": 258,
    "start_time": "2022-05-15T15:40:35.632Z"
   },
   {
    "duration": 9,
    "start_time": "2022-05-15T15:40:35.892Z"
   },
   {
    "duration": 179,
    "start_time": "2022-05-15T15:40:35.904Z"
   },
   {
    "duration": 170,
    "start_time": "2022-05-15T15:40:36.084Z"
   },
   {
    "duration": 179,
    "start_time": "2022-05-15T15:40:36.255Z"
   },
   {
    "duration": 145,
    "start_time": "2022-05-15T15:40:36.436Z"
   },
   {
    "duration": 160,
    "start_time": "2022-05-15T15:40:36.583Z"
   },
   {
    "duration": 163,
    "start_time": "2022-05-15T15:40:36.745Z"
   },
   {
    "duration": 161,
    "start_time": "2022-05-15T15:40:36.910Z"
   },
   {
    "duration": 1254,
    "start_time": "2022-05-15T15:52:30.664Z"
   },
   {
    "duration": 28,
    "start_time": "2022-05-15T15:52:31.920Z"
   },
   {
    "duration": 17,
    "start_time": "2022-05-15T15:52:31.949Z"
   },
   {
    "duration": 74,
    "start_time": "2022-05-15T15:52:31.967Z"
   },
   {
    "duration": 25,
    "start_time": "2022-05-15T15:52:32.043Z"
   },
   {
    "duration": 53,
    "start_time": "2022-05-15T15:52:32.069Z"
   },
   {
    "duration": 26,
    "start_time": "2022-05-15T15:52:32.124Z"
   },
   {
    "duration": 8,
    "start_time": "2022-05-15T15:52:32.152Z"
   },
   {
    "duration": 10,
    "start_time": "2022-05-15T15:52:32.162Z"
   },
   {
    "duration": 8,
    "start_time": "2022-05-15T15:52:32.174Z"
   },
   {
    "duration": 16,
    "start_time": "2022-05-15T15:52:32.184Z"
   },
   {
    "duration": 30,
    "start_time": "2022-05-15T15:52:32.202Z"
   },
   {
    "duration": 239,
    "start_time": "2022-05-15T15:52:32.234Z"
   },
   {
    "duration": 186,
    "start_time": "2022-05-15T15:52:32.476Z"
   },
   {
    "duration": 13,
    "start_time": "2022-05-15T15:52:32.664Z"
   },
   {
    "duration": 23,
    "start_time": "2022-05-15T15:52:32.679Z"
   },
   {
    "duration": 21,
    "start_time": "2022-05-15T15:52:32.704Z"
   },
   {
    "duration": 38,
    "start_time": "2022-05-15T15:52:32.727Z"
   },
   {
    "duration": 31,
    "start_time": "2022-05-15T15:52:32.767Z"
   },
   {
    "duration": 389,
    "start_time": "2022-05-15T15:52:32.800Z"
   },
   {
    "duration": 34,
    "start_time": "2022-05-15T15:52:33.191Z"
   },
   {
    "duration": 271,
    "start_time": "2022-05-15T15:52:33.227Z"
   },
   {
    "duration": 134,
    "start_time": "2022-05-15T15:52:33.500Z"
   },
   {
    "duration": 4,
    "start_time": "2022-05-15T15:52:33.636Z"
   },
   {
    "duration": 17,
    "start_time": "2022-05-15T15:52:33.642Z"
   },
   {
    "duration": 2,
    "start_time": "2022-05-15T15:52:33.661Z"
   },
   {
    "duration": 59,
    "start_time": "2022-05-15T15:52:33.665Z"
   },
   {
    "duration": 330,
    "start_time": "2022-05-15T15:52:33.725Z"
   },
   {
    "duration": 8,
    "start_time": "2022-05-15T15:52:34.056Z"
   },
   {
    "duration": 5,
    "start_time": "2022-05-15T15:52:34.066Z"
   },
   {
    "duration": 206,
    "start_time": "2022-05-15T15:52:34.073Z"
   },
   {
    "duration": 8,
    "start_time": "2022-05-15T15:52:34.281Z"
   },
   {
    "duration": 8,
    "start_time": "2022-05-15T15:52:34.290Z"
   },
   {
    "duration": 217,
    "start_time": "2022-05-15T15:52:34.300Z"
   },
   {
    "duration": 8,
    "start_time": "2022-05-15T15:52:34.522Z"
   },
   {
    "duration": 111,
    "start_time": "2022-05-15T15:52:34.532Z"
   },
   {
    "duration": 0,
    "start_time": "2022-05-15T15:52:34.645Z"
   },
   {
    "duration": 0,
    "start_time": "2022-05-15T15:52:34.647Z"
   },
   {
    "duration": 0,
    "start_time": "2022-05-15T15:52:34.648Z"
   },
   {
    "duration": 0,
    "start_time": "2022-05-15T15:52:34.649Z"
   },
   {
    "duration": 0,
    "start_time": "2022-05-15T15:52:34.650Z"
   },
   {
    "duration": 0,
    "start_time": "2022-05-15T15:52:34.652Z"
   },
   {
    "duration": 0,
    "start_time": "2022-05-15T15:52:34.653Z"
   },
   {
    "duration": 0,
    "start_time": "2022-05-15T15:52:34.654Z"
   },
   {
    "duration": 0,
    "start_time": "2022-05-15T15:52:34.655Z"
   },
   {
    "duration": 0,
    "start_time": "2022-05-15T15:52:34.656Z"
   },
   {
    "duration": 0,
    "start_time": "2022-05-15T15:52:34.657Z"
   },
   {
    "duration": 0,
    "start_time": "2022-05-15T15:52:34.658Z"
   },
   {
    "duration": 0,
    "start_time": "2022-05-15T15:52:34.659Z"
   },
   {
    "duration": 0,
    "start_time": "2022-05-15T15:52:34.660Z"
   },
   {
    "duration": 0,
    "start_time": "2022-05-15T15:52:34.661Z"
   },
   {
    "duration": 0,
    "start_time": "2022-05-15T15:52:34.662Z"
   },
   {
    "duration": 0,
    "start_time": "2022-05-15T15:52:34.663Z"
   },
   {
    "duration": 0,
    "start_time": "2022-05-15T15:52:34.664Z"
   },
   {
    "duration": 0,
    "start_time": "2022-05-15T15:52:34.665Z"
   },
   {
    "duration": 0,
    "start_time": "2022-05-15T15:52:34.665Z"
   },
   {
    "duration": 0,
    "start_time": "2022-05-15T15:52:34.666Z"
   },
   {
    "duration": 1296,
    "start_time": "2022-05-15T15:53:23.024Z"
   },
   {
    "duration": 30,
    "start_time": "2022-05-15T15:53:24.322Z"
   },
   {
    "duration": 17,
    "start_time": "2022-05-15T15:53:24.354Z"
   },
   {
    "duration": 94,
    "start_time": "2022-05-15T15:53:24.373Z"
   },
   {
    "duration": 24,
    "start_time": "2022-05-15T15:53:24.469Z"
   },
   {
    "duration": 48,
    "start_time": "2022-05-15T15:53:24.495Z"
   },
   {
    "duration": 28,
    "start_time": "2022-05-15T15:53:24.545Z"
   },
   {
    "duration": 8,
    "start_time": "2022-05-15T15:53:24.575Z"
   },
   {
    "duration": 17,
    "start_time": "2022-05-15T15:53:24.585Z"
   },
   {
    "duration": 7,
    "start_time": "2022-05-15T15:53:24.624Z"
   },
   {
    "duration": 23,
    "start_time": "2022-05-15T15:53:24.633Z"
   },
   {
    "duration": 22,
    "start_time": "2022-05-15T15:53:24.658Z"
   },
   {
    "duration": 242,
    "start_time": "2022-05-15T15:53:24.682Z"
   },
   {
    "duration": 170,
    "start_time": "2022-05-15T15:53:24.928Z"
   },
   {
    "duration": 11,
    "start_time": "2022-05-15T15:53:25.100Z"
   },
   {
    "duration": 17,
    "start_time": "2022-05-15T15:53:25.113Z"
   },
   {
    "duration": 25,
    "start_time": "2022-05-15T15:53:25.131Z"
   },
   {
    "duration": 27,
    "start_time": "2022-05-15T15:53:25.158Z"
   },
   {
    "duration": 28,
    "start_time": "2022-05-15T15:53:25.187Z"
   },
   {
    "duration": 334,
    "start_time": "2022-05-15T15:53:25.222Z"
   },
   {
    "duration": 25,
    "start_time": "2022-05-15T15:53:25.557Z"
   },
   {
    "duration": 256,
    "start_time": "2022-05-15T15:53:25.583Z"
   },
   {
    "duration": 114,
    "start_time": "2022-05-15T15:53:25.841Z"
   },
   {
    "duration": 5,
    "start_time": "2022-05-15T15:53:25.957Z"
   },
   {
    "duration": 18,
    "start_time": "2022-05-15T15:53:25.963Z"
   },
   {
    "duration": 12,
    "start_time": "2022-05-15T15:53:25.982Z"
   },
   {
    "duration": 39,
    "start_time": "2022-05-15T15:53:25.996Z"
   },
   {
    "duration": 342,
    "start_time": "2022-05-15T15:53:26.037Z"
   },
   {
    "duration": 8,
    "start_time": "2022-05-15T15:53:26.381Z"
   },
   {
    "duration": 6,
    "start_time": "2022-05-15T15:53:26.390Z"
   },
   {
    "duration": 196,
    "start_time": "2022-05-15T15:53:26.398Z"
   },
   {
    "duration": 8,
    "start_time": "2022-05-15T15:53:26.596Z"
   },
   {
    "duration": 3,
    "start_time": "2022-05-15T15:53:26.605Z"
   },
   {
    "duration": 216,
    "start_time": "2022-05-15T15:53:26.610Z"
   },
   {
    "duration": 8,
    "start_time": "2022-05-15T15:53:26.828Z"
   },
   {
    "duration": 27,
    "start_time": "2022-05-15T15:53:26.838Z"
   },
   {
    "duration": 21,
    "start_time": "2022-05-15T15:53:26.866Z"
   },
   {
    "duration": 102,
    "start_time": "2022-05-15T15:53:26.888Z"
   },
   {
    "duration": 223,
    "start_time": "2022-05-15T15:53:26.991Z"
   },
   {
    "duration": 153,
    "start_time": "2022-05-15T15:53:27.216Z"
   },
   {
    "duration": 165,
    "start_time": "2022-05-15T15:53:27.373Z"
   },
   {
    "duration": 160,
    "start_time": "2022-05-15T15:53:27.540Z"
   },
   {
    "duration": 139,
    "start_time": "2022-05-15T15:53:27.702Z"
   },
   {
    "duration": 186,
    "start_time": "2022-05-15T15:53:27.843Z"
   },
   {
    "duration": 243,
    "start_time": "2022-05-15T15:53:28.031Z"
   },
   {
    "duration": 161,
    "start_time": "2022-05-15T15:53:28.276Z"
   },
   {
    "duration": 173,
    "start_time": "2022-05-15T15:53:28.438Z"
   },
   {
    "duration": 29,
    "start_time": "2022-05-15T15:53:28.613Z"
   },
   {
    "duration": 338,
    "start_time": "2022-05-15T15:53:28.643Z"
   },
   {
    "duration": 10,
    "start_time": "2022-05-15T15:53:28.983Z"
   },
   {
    "duration": 170,
    "start_time": "2022-05-15T15:53:28.994Z"
   },
   {
    "duration": 171,
    "start_time": "2022-05-15T15:53:29.167Z"
   },
   {
    "duration": 168,
    "start_time": "2022-05-15T15:53:29.341Z"
   },
   {
    "duration": 162,
    "start_time": "2022-05-15T15:53:29.511Z"
   },
   {
    "duration": 176,
    "start_time": "2022-05-15T15:53:29.675Z"
   },
   {
    "duration": 184,
    "start_time": "2022-05-15T15:53:29.853Z"
   },
   {
    "duration": 164,
    "start_time": "2022-05-15T15:53:30.039Z"
   },
   {
    "duration": 515,
    "start_time": "2022-05-15T16:23:35.363Z"
   },
   {
    "duration": 230,
    "start_time": "2022-05-15T16:24:26.749Z"
   },
   {
    "duration": 88,
    "start_time": "2022-05-15T17:03:22.687Z"
   },
   {
    "duration": 26,
    "start_time": "2022-05-15T17:03:22.777Z"
   },
   {
    "duration": 37,
    "start_time": "2022-05-15T17:03:22.805Z"
   },
   {
    "duration": 86,
    "start_time": "2022-05-15T17:03:22.845Z"
   },
   {
    "duration": 25,
    "start_time": "2022-05-15T17:03:22.934Z"
   },
   {
    "duration": 35,
    "start_time": "2022-05-15T17:03:22.961Z"
   },
   {
    "duration": 58,
    "start_time": "2022-05-15T17:03:22.998Z"
   },
   {
    "duration": 8,
    "start_time": "2022-05-15T17:03:23.058Z"
   },
   {
    "duration": 19,
    "start_time": "2022-05-15T17:03:23.068Z"
   },
   {
    "duration": 10,
    "start_time": "2022-05-15T17:03:23.090Z"
   },
   {
    "duration": 38,
    "start_time": "2022-05-15T17:03:23.102Z"
   },
   {
    "duration": 12,
    "start_time": "2022-05-15T17:03:23.142Z"
   },
   {
    "duration": 289,
    "start_time": "2022-05-15T17:03:23.155Z"
   },
   {
    "duration": 199,
    "start_time": "2022-05-15T17:03:23.445Z"
   },
   {
    "duration": 18,
    "start_time": "2022-05-15T17:03:23.646Z"
   },
   {
    "duration": 21,
    "start_time": "2022-05-15T17:03:23.666Z"
   },
   {
    "duration": 18,
    "start_time": "2022-05-15T17:03:23.688Z"
   },
   {
    "duration": 38,
    "start_time": "2022-05-15T17:03:23.707Z"
   },
   {
    "duration": 32,
    "start_time": "2022-05-15T17:03:23.746Z"
   },
   {
    "duration": 398,
    "start_time": "2022-05-15T17:03:23.780Z"
   },
   {
    "duration": 27,
    "start_time": "2022-05-15T17:03:24.180Z"
   },
   {
    "duration": 281,
    "start_time": "2022-05-15T17:03:24.222Z"
   },
   {
    "duration": 138,
    "start_time": "2022-05-15T17:03:24.505Z"
   },
   {
    "duration": 5,
    "start_time": "2022-05-15T17:03:24.645Z"
   },
   {
    "duration": 10,
    "start_time": "2022-05-15T17:03:24.652Z"
   },
   {
    "duration": 8,
    "start_time": "2022-05-15T17:03:27.347Z"
   },
   {
    "duration": 22,
    "start_time": "2022-05-15T17:04:06.148Z"
   },
   {
    "duration": 1269,
    "start_time": "2022-05-15T17:04:21.559Z"
   },
   {
    "duration": 30,
    "start_time": "2022-05-15T17:04:22.831Z"
   },
   {
    "duration": 16,
    "start_time": "2022-05-15T17:04:22.862Z"
   },
   {
    "duration": 86,
    "start_time": "2022-05-15T17:04:22.880Z"
   },
   {
    "duration": 24,
    "start_time": "2022-05-15T17:04:22.969Z"
   },
   {
    "duration": 52,
    "start_time": "2022-05-15T17:04:22.995Z"
   },
   {
    "duration": 28,
    "start_time": "2022-05-15T17:04:23.048Z"
   },
   {
    "duration": 8,
    "start_time": "2022-05-15T17:04:23.078Z"
   },
   {
    "duration": 7,
    "start_time": "2022-05-15T17:04:23.088Z"
   },
   {
    "duration": 8,
    "start_time": "2022-05-15T17:04:23.123Z"
   },
   {
    "duration": 18,
    "start_time": "2022-05-15T17:04:23.133Z"
   },
   {
    "duration": 12,
    "start_time": "2022-05-15T17:04:23.152Z"
   },
   {
    "duration": 264,
    "start_time": "2022-05-15T17:04:23.166Z"
   },
   {
    "duration": 174,
    "start_time": "2022-05-15T17:04:23.434Z"
   },
   {
    "duration": 17,
    "start_time": "2022-05-15T17:04:23.610Z"
   },
   {
    "duration": 11,
    "start_time": "2022-05-15T17:04:23.628Z"
   },
   {
    "duration": 16,
    "start_time": "2022-05-15T17:04:23.641Z"
   },
   {
    "duration": 21,
    "start_time": "2022-05-15T17:04:23.658Z"
   },
   {
    "duration": 49,
    "start_time": "2022-05-15T17:04:23.681Z"
   },
   {
    "duration": 354,
    "start_time": "2022-05-15T17:04:23.732Z"
   },
   {
    "duration": 24,
    "start_time": "2022-05-15T17:04:24.087Z"
   },
   {
    "duration": 255,
    "start_time": "2022-05-15T17:04:24.122Z"
   },
   {
    "duration": 114,
    "start_time": "2022-05-15T17:04:24.379Z"
   },
   {
    "duration": 5,
    "start_time": "2022-05-15T17:04:24.494Z"
   },
   {
    "duration": 22,
    "start_time": "2022-05-15T17:04:24.501Z"
   },
   {
    "duration": 26,
    "start_time": "2022-05-15T17:04:24.525Z"
   },
   {
    "duration": 33,
    "start_time": "2022-05-15T17:04:24.552Z"
   },
   {
    "duration": 361,
    "start_time": "2022-05-15T17:04:24.587Z"
   },
   {
    "duration": 7,
    "start_time": "2022-05-15T17:04:24.950Z"
   },
   {
    "duration": 3,
    "start_time": "2022-05-15T17:04:24.959Z"
   },
   {
    "duration": 217,
    "start_time": "2022-05-15T17:04:24.964Z"
   },
   {
    "duration": 8,
    "start_time": "2022-05-15T17:04:25.182Z"
   },
   {
    "duration": 3,
    "start_time": "2022-05-15T17:04:25.191Z"
   },
   {
    "duration": 235,
    "start_time": "2022-05-15T17:04:25.195Z"
   },
   {
    "duration": 9,
    "start_time": "2022-05-15T17:04:25.431Z"
   },
   {
    "duration": 17,
    "start_time": "2022-05-15T17:04:25.442Z"
   },
   {
    "duration": 10,
    "start_time": "2022-05-15T17:04:25.461Z"
   },
   {
    "duration": 134,
    "start_time": "2022-05-15T17:04:25.473Z"
   },
   {
    "duration": 247,
    "start_time": "2022-05-15T17:04:25.609Z"
   },
   {
    "duration": 164,
    "start_time": "2022-05-15T17:04:25.858Z"
   },
   {
    "duration": 174,
    "start_time": "2022-05-15T17:04:26.027Z"
   },
   {
    "duration": 196,
    "start_time": "2022-05-15T17:04:26.203Z"
   },
   {
    "duration": 151,
    "start_time": "2022-05-15T17:04:26.401Z"
   },
   {
    "duration": 193,
    "start_time": "2022-05-15T17:04:26.554Z"
   },
   {
    "duration": 251,
    "start_time": "2022-05-15T17:04:26.749Z"
   },
   {
    "duration": 168,
    "start_time": "2022-05-15T17:04:27.002Z"
   },
   {
    "duration": 181,
    "start_time": "2022-05-15T17:04:27.172Z"
   },
   {
    "duration": 24,
    "start_time": "2022-05-15T17:04:27.355Z"
   },
   {
    "duration": 332,
    "start_time": "2022-05-15T17:04:27.381Z"
   },
   {
    "duration": 13,
    "start_time": "2022-05-15T17:04:27.715Z"
   },
   {
    "duration": 148,
    "start_time": "2022-05-15T17:04:27.730Z"
   },
   {
    "duration": 166,
    "start_time": "2022-05-15T17:04:27.880Z"
   },
   {
    "duration": 176,
    "start_time": "2022-05-15T17:04:28.049Z"
   },
   {
    "duration": 158,
    "start_time": "2022-05-15T17:04:28.227Z"
   },
   {
    "duration": 180,
    "start_time": "2022-05-15T17:04:28.387Z"
   },
   {
    "duration": 165,
    "start_time": "2022-05-15T17:04:28.570Z"
   },
   {
    "duration": 158,
    "start_time": "2022-05-15T17:04:28.737Z"
   },
   {
    "duration": 98,
    "start_time": "2022-05-15T17:05:42.013Z"
   },
   {
    "duration": 117,
    "start_time": "2022-05-15T17:06:07.044Z"
   },
   {
    "duration": 17,
    "start_time": "2022-05-15T17:06:32.888Z"
   },
   {
    "duration": 15,
    "start_time": "2022-05-15T17:06:37.530Z"
   },
   {
    "duration": 13,
    "start_time": "2022-05-15T17:12:19.419Z"
   },
   {
    "duration": 15,
    "start_time": "2022-05-15T17:12:29.356Z"
   },
   {
    "duration": 14,
    "start_time": "2022-05-15T17:12:38.530Z"
   },
   {
    "duration": 12,
    "start_time": "2022-05-15T17:12:59.208Z"
   },
   {
    "duration": 10,
    "start_time": "2022-05-15T17:13:28.265Z"
   },
   {
    "duration": 12,
    "start_time": "2022-05-15T17:13:47.738Z"
   },
   {
    "duration": 96,
    "start_time": "2022-05-15T17:17:07.141Z"
   },
   {
    "duration": 25,
    "start_time": "2022-05-15T17:17:07.240Z"
   },
   {
    "duration": 20,
    "start_time": "2022-05-15T17:17:07.267Z"
   },
   {
    "duration": 184,
    "start_time": "2022-05-15T17:17:07.288Z"
   },
   {
    "duration": 21,
    "start_time": "2022-05-15T17:17:07.475Z"
   },
   {
    "duration": 48,
    "start_time": "2022-05-15T17:17:07.498Z"
   },
   {
    "duration": 30,
    "start_time": "2022-05-15T17:17:07.548Z"
   },
   {
    "duration": 8,
    "start_time": "2022-05-15T17:17:07.580Z"
   },
   {
    "duration": 33,
    "start_time": "2022-05-15T17:17:07.590Z"
   },
   {
    "duration": 6,
    "start_time": "2022-05-15T17:17:07.625Z"
   },
   {
    "duration": 14,
    "start_time": "2022-05-15T17:17:07.633Z"
   },
   {
    "duration": 13,
    "start_time": "2022-05-15T17:17:07.648Z"
   },
   {
    "duration": 285,
    "start_time": "2022-05-15T17:17:07.663Z"
   },
   {
    "duration": 181,
    "start_time": "2022-05-15T17:17:07.951Z"
   },
   {
    "duration": 11,
    "start_time": "2022-05-15T17:17:08.133Z"
   },
   {
    "duration": 7,
    "start_time": "2022-05-15T17:17:08.146Z"
   },
   {
    "duration": 13,
    "start_time": "2022-05-15T17:17:08.155Z"
   },
   {
    "duration": 22,
    "start_time": "2022-05-15T17:17:08.170Z"
   },
   {
    "duration": 31,
    "start_time": "2022-05-15T17:17:08.222Z"
   },
   {
    "duration": 369,
    "start_time": "2022-05-15T17:17:08.255Z"
   },
   {
    "duration": 26,
    "start_time": "2022-05-15T17:17:08.626Z"
   },
   {
    "duration": 270,
    "start_time": "2022-05-15T17:17:08.654Z"
   },
   {
    "duration": 111,
    "start_time": "2022-05-15T17:17:08.926Z"
   },
   {
    "duration": 4,
    "start_time": "2022-05-15T17:17:09.039Z"
   },
   {
    "duration": 24,
    "start_time": "2022-05-15T17:17:09.045Z"
   },
   {
    "duration": 14,
    "start_time": "2022-05-15T17:17:09.071Z"
   },
   {
    "duration": 371,
    "start_time": "2022-05-15T17:17:09.087Z"
   },
   {
    "duration": 8,
    "start_time": "2022-05-15T17:17:27.713Z"
   },
   {
    "duration": 22,
    "start_time": "2022-05-15T17:19:07.021Z"
   },
   {
    "duration": 24,
    "start_time": "2022-05-15T17:19:19.856Z"
   },
   {
    "duration": 6,
    "start_time": "2022-05-15T17:20:26.847Z"
   },
   {
    "duration": 21,
    "start_time": "2022-05-15T17:20:32.571Z"
   },
   {
    "duration": 15,
    "start_time": "2022-05-15T17:20:44.172Z"
   },
   {
    "duration": 18,
    "start_time": "2022-05-15T17:20:57.036Z"
   },
   {
    "duration": 174,
    "start_time": "2022-05-15T17:21:27.875Z"
   },
   {
    "duration": 14,
    "start_time": "2022-05-15T17:21:32.228Z"
   },
   {
    "duration": 10,
    "start_time": "2022-05-15T17:21:35.877Z"
   },
   {
    "duration": 109,
    "start_time": "2022-05-15T17:21:48.069Z"
   },
   {
    "duration": 23,
    "start_time": "2022-05-15T17:21:48.180Z"
   },
   {
    "duration": 46,
    "start_time": "2022-05-15T17:21:48.205Z"
   },
   {
    "duration": 71,
    "start_time": "2022-05-15T17:21:48.254Z"
   },
   {
    "duration": 34,
    "start_time": "2022-05-15T17:21:48.328Z"
   },
   {
    "duration": 61,
    "start_time": "2022-05-15T17:21:48.364Z"
   },
   {
    "duration": 40,
    "start_time": "2022-05-15T17:21:48.428Z"
   },
   {
    "duration": 9,
    "start_time": "2022-05-15T17:21:48.470Z"
   },
   {
    "duration": 18,
    "start_time": "2022-05-15T17:21:48.481Z"
   },
   {
    "duration": 27,
    "start_time": "2022-05-15T17:21:48.503Z"
   },
   {
    "duration": 18,
    "start_time": "2022-05-15T17:21:48.532Z"
   },
   {
    "duration": 20,
    "start_time": "2022-05-15T17:21:48.553Z"
   },
   {
    "duration": 323,
    "start_time": "2022-05-15T17:21:48.575Z"
   },
   {
    "duration": 250,
    "start_time": "2022-05-15T17:21:48.900Z"
   },
   {
    "duration": 12,
    "start_time": "2022-05-15T17:21:49.153Z"
   },
   {
    "duration": 21,
    "start_time": "2022-05-15T17:21:49.170Z"
   },
   {
    "duration": 20,
    "start_time": "2022-05-15T17:21:49.193Z"
   },
   {
    "duration": 28,
    "start_time": "2022-05-15T17:21:49.226Z"
   },
   {
    "duration": 29,
    "start_time": "2022-05-15T17:21:49.256Z"
   },
   {
    "duration": 498,
    "start_time": "2022-05-15T17:21:49.287Z"
   },
   {
    "duration": 25,
    "start_time": "2022-05-15T17:21:49.787Z"
   },
   {
    "duration": 281,
    "start_time": "2022-05-15T17:21:49.823Z"
   },
   {
    "duration": 110,
    "start_time": "2022-05-15T17:21:50.106Z"
   },
   {
    "duration": 5,
    "start_time": "2022-05-15T17:21:50.218Z"
   },
   {
    "duration": 14,
    "start_time": "2022-05-15T17:21:50.224Z"
   },
   {
    "duration": 17,
    "start_time": "2022-05-15T17:21:50.240Z"
   },
   {
    "duration": 368,
    "start_time": "2022-05-15T17:21:50.259Z"
   },
   {
    "duration": 9,
    "start_time": "2022-05-15T17:21:50.631Z"
   },
   {
    "duration": 11,
    "start_time": "2022-05-15T17:21:54.211Z"
   },
   {
    "duration": 14,
    "start_time": "2022-05-15T17:22:19.549Z"
   },
   {
    "duration": 11,
    "start_time": "2022-05-15T17:22:32.609Z"
   },
   {
    "duration": 12,
    "start_time": "2022-05-15T17:22:37.766Z"
   },
   {
    "duration": 12,
    "start_time": "2022-05-15T17:23:15.551Z"
   },
   {
    "duration": 11,
    "start_time": "2022-05-15T17:23:53.475Z"
   },
   {
    "duration": 90,
    "start_time": "2022-05-15T17:24:19.448Z"
   },
   {
    "duration": 209,
    "start_time": "2022-05-15T17:24:31.626Z"
   },
   {
    "duration": 199,
    "start_time": "2022-05-15T17:25:12.415Z"
   },
   {
    "duration": 269,
    "start_time": "2022-05-15T17:25:52.302Z"
   },
   {
    "duration": 12,
    "start_time": "2022-05-15T17:28:12.383Z"
   },
   {
    "duration": 82,
    "start_time": "2022-05-15T17:28:31.726Z"
   },
   {
    "duration": 38,
    "start_time": "2022-05-15T17:28:31.811Z"
   },
   {
    "duration": 15,
    "start_time": "2022-05-15T17:28:31.851Z"
   },
   {
    "duration": 94,
    "start_time": "2022-05-15T17:28:31.868Z"
   },
   {
    "duration": 20,
    "start_time": "2022-05-15T17:28:31.965Z"
   },
   {
    "duration": 54,
    "start_time": "2022-05-15T17:28:31.987Z"
   },
   {
    "duration": 28,
    "start_time": "2022-05-15T17:28:32.043Z"
   },
   {
    "duration": 8,
    "start_time": "2022-05-15T17:28:32.073Z"
   },
   {
    "duration": 7,
    "start_time": "2022-05-15T17:28:32.083Z"
   },
   {
    "duration": 10,
    "start_time": "2022-05-15T17:28:32.122Z"
   },
   {
    "duration": 15,
    "start_time": "2022-05-15T17:28:32.135Z"
   },
   {
    "duration": 15,
    "start_time": "2022-05-15T17:28:32.152Z"
   },
   {
    "duration": 269,
    "start_time": "2022-05-15T17:28:32.169Z"
   },
   {
    "duration": 153,
    "start_time": "2022-05-15T17:28:32.442Z"
   },
   {
    "duration": 11,
    "start_time": "2022-05-15T17:28:32.597Z"
   },
   {
    "duration": 21,
    "start_time": "2022-05-15T17:28:32.609Z"
   },
   {
    "duration": 17,
    "start_time": "2022-05-15T17:28:32.632Z"
   },
   {
    "duration": 20,
    "start_time": "2022-05-15T17:28:32.651Z"
   },
   {
    "duration": 52,
    "start_time": "2022-05-15T17:28:32.673Z"
   },
   {
    "duration": 451,
    "start_time": "2022-05-15T17:28:32.727Z"
   },
   {
    "duration": 23,
    "start_time": "2022-05-15T17:28:33.180Z"
   },
   {
    "duration": 270,
    "start_time": "2022-05-15T17:28:33.205Z"
   },
   {
    "duration": 104,
    "start_time": "2022-05-15T17:28:33.476Z"
   },
   {
    "duration": 4,
    "start_time": "2022-05-15T17:28:33.582Z"
   },
   {
    "duration": 9,
    "start_time": "2022-05-15T17:28:33.587Z"
   },
   {
    "duration": 36,
    "start_time": "2022-05-15T17:28:33.597Z"
   },
   {
    "duration": 253,
    "start_time": "2022-05-15T17:28:33.636Z"
   },
   {
    "duration": 8,
    "start_time": "2022-05-15T17:28:33.891Z"
   },
   {
    "duration": 28,
    "start_time": "2022-05-15T17:28:33.901Z"
   },
   {
    "duration": 198,
    "start_time": "2022-05-15T17:28:33.931Z"
   },
   {
    "duration": 8,
    "start_time": "2022-05-15T17:28:34.132Z"
   },
   {
    "duration": 11,
    "start_time": "2022-05-15T17:28:36.829Z"
   },
   {
    "duration": 86,
    "start_time": "2022-05-15T17:28:56.980Z"
   },
   {
    "duration": 11,
    "start_time": "2022-05-15T17:29:13.427Z"
   },
   {
    "duration": 13,
    "start_time": "2022-05-15T17:29:19.760Z"
   },
   {
    "duration": 692,
    "start_time": "2022-05-15T17:30:08.810Z"
   },
   {
    "duration": 642,
    "start_time": "2022-05-15T17:30:26.867Z"
   },
   {
    "duration": 11,
    "start_time": "2022-05-15T17:35:35.034Z"
   },
   {
    "duration": 93,
    "start_time": "2022-05-15T17:42:21.618Z"
   },
   {
    "duration": 34,
    "start_time": "2022-05-15T17:42:21.713Z"
   },
   {
    "duration": 27,
    "start_time": "2022-05-15T17:42:21.748Z"
   },
   {
    "duration": 87,
    "start_time": "2022-05-15T17:42:21.777Z"
   },
   {
    "duration": 21,
    "start_time": "2022-05-15T17:42:21.866Z"
   },
   {
    "duration": 47,
    "start_time": "2022-05-15T17:42:21.889Z"
   },
   {
    "duration": 28,
    "start_time": "2022-05-15T17:42:21.939Z"
   },
   {
    "duration": 15,
    "start_time": "2022-05-15T17:42:21.969Z"
   },
   {
    "duration": 19,
    "start_time": "2022-05-15T17:42:21.985Z"
   },
   {
    "duration": 20,
    "start_time": "2022-05-15T17:42:22.007Z"
   },
   {
    "duration": 29,
    "start_time": "2022-05-15T17:42:22.029Z"
   },
   {
    "duration": 15,
    "start_time": "2022-05-15T17:42:22.059Z"
   },
   {
    "duration": 291,
    "start_time": "2022-05-15T17:42:22.076Z"
   },
   {
    "duration": 267,
    "start_time": "2022-05-15T17:42:22.370Z"
   },
   {
    "duration": 17,
    "start_time": "2022-05-15T17:42:22.639Z"
   },
   {
    "duration": 30,
    "start_time": "2022-05-15T17:42:22.658Z"
   },
   {
    "duration": 26,
    "start_time": "2022-05-15T17:42:22.689Z"
   },
   {
    "duration": 34,
    "start_time": "2022-05-15T17:42:22.716Z"
   },
   {
    "duration": 30,
    "start_time": "2022-05-15T17:42:22.752Z"
   },
   {
    "duration": 463,
    "start_time": "2022-05-15T17:42:22.784Z"
   },
   {
    "duration": 26,
    "start_time": "2022-05-15T17:42:23.249Z"
   },
   {
    "duration": 288,
    "start_time": "2022-05-15T17:42:23.277Z"
   },
   {
    "duration": 118,
    "start_time": "2022-05-15T17:42:23.567Z"
   },
   {
    "duration": 6,
    "start_time": "2022-05-15T17:42:23.687Z"
   },
   {
    "duration": 11,
    "start_time": "2022-05-15T17:42:23.695Z"
   },
   {
    "duration": 16,
    "start_time": "2022-05-15T17:42:23.723Z"
   },
   {
    "duration": 421,
    "start_time": "2022-05-15T17:42:23.741Z"
   },
   {
    "duration": 10,
    "start_time": "2022-05-15T17:42:24.164Z"
   },
   {
    "duration": 14,
    "start_time": "2022-05-15T17:42:24.176Z"
   },
   {
    "duration": 218,
    "start_time": "2022-05-15T17:42:24.192Z"
   },
   {
    "duration": 15,
    "start_time": "2022-05-15T17:42:24.412Z"
   },
   {
    "duration": 11,
    "start_time": "2022-05-15T17:42:24.430Z"
   },
   {
    "duration": 283,
    "start_time": "2022-05-15T17:42:24.443Z"
   },
   {
    "duration": 11,
    "start_time": "2022-05-15T17:42:24.728Z"
   },
   {
    "duration": 15,
    "start_time": "2022-05-15T17:42:31.975Z"
   },
   {
    "duration": 86,
    "start_time": "2022-05-15T17:42:48.732Z"
   },
   {
    "duration": 25,
    "start_time": "2022-05-15T17:42:48.820Z"
   },
   {
    "duration": 16,
    "start_time": "2022-05-15T17:42:48.847Z"
   },
   {
    "duration": 89,
    "start_time": "2022-05-15T17:42:48.865Z"
   },
   {
    "duration": 21,
    "start_time": "2022-05-15T17:42:48.955Z"
   },
   {
    "duration": 54,
    "start_time": "2022-05-15T17:42:48.978Z"
   },
   {
    "duration": 27,
    "start_time": "2022-05-15T17:42:49.033Z"
   },
   {
    "duration": 7,
    "start_time": "2022-05-15T17:42:49.062Z"
   },
   {
    "duration": 9,
    "start_time": "2022-05-15T17:42:49.071Z"
   },
   {
    "duration": 7,
    "start_time": "2022-05-15T17:42:49.083Z"
   },
   {
    "duration": 41,
    "start_time": "2022-05-15T17:42:49.092Z"
   },
   {
    "duration": 12,
    "start_time": "2022-05-15T17:42:49.134Z"
   },
   {
    "duration": 253,
    "start_time": "2022-05-15T17:42:49.147Z"
   },
   {
    "duration": 180,
    "start_time": "2022-05-15T17:42:49.401Z"
   },
   {
    "duration": 12,
    "start_time": "2022-05-15T17:42:49.583Z"
   },
   {
    "duration": 8,
    "start_time": "2022-05-15T17:42:49.597Z"
   },
   {
    "duration": 29,
    "start_time": "2022-05-15T17:42:49.606Z"
   },
   {
    "duration": 26,
    "start_time": "2022-05-15T17:42:49.637Z"
   },
   {
    "duration": 32,
    "start_time": "2022-05-15T17:42:49.665Z"
   },
   {
    "duration": 443,
    "start_time": "2022-05-15T17:42:49.724Z"
   },
   {
    "duration": 26,
    "start_time": "2022-05-15T17:42:50.168Z"
   },
   {
    "duration": 271,
    "start_time": "2022-05-15T17:42:50.196Z"
   },
   {
    "duration": 116,
    "start_time": "2022-05-15T17:42:50.469Z"
   },
   {
    "duration": 4,
    "start_time": "2022-05-15T17:42:50.586Z"
   },
   {
    "duration": 10,
    "start_time": "2022-05-15T17:42:50.592Z"
   },
   {
    "duration": 26,
    "start_time": "2022-05-15T17:42:50.604Z"
   },
   {
    "duration": 281,
    "start_time": "2022-05-15T17:42:50.631Z"
   },
   {
    "duration": 12,
    "start_time": "2022-05-15T17:42:50.915Z"
   },
   {
    "duration": 12,
    "start_time": "2022-05-15T17:42:50.929Z"
   },
   {
    "duration": 306,
    "start_time": "2022-05-15T17:42:50.943Z"
   },
   {
    "duration": 8,
    "start_time": "2022-05-15T17:42:51.250Z"
   },
   {
    "duration": 10,
    "start_time": "2022-05-15T17:42:51.260Z"
   },
   {
    "duration": 223,
    "start_time": "2022-05-15T17:42:51.272Z"
   },
   {
    "duration": 9,
    "start_time": "2022-05-15T17:42:51.496Z"
   },
   {
    "duration": 10,
    "start_time": "2022-05-15T17:42:54.481Z"
   },
   {
    "duration": 1365,
    "start_time": "2022-05-15T17:43:28.761Z"
   },
   {
    "duration": 29,
    "start_time": "2022-05-15T17:43:30.129Z"
   },
   {
    "duration": 16,
    "start_time": "2022-05-15T17:43:30.160Z"
   },
   {
    "duration": 86,
    "start_time": "2022-05-15T17:43:30.178Z"
   },
   {
    "duration": 24,
    "start_time": "2022-05-15T17:43:30.266Z"
   },
   {
    "duration": 53,
    "start_time": "2022-05-15T17:43:30.292Z"
   },
   {
    "duration": 30,
    "start_time": "2022-05-15T17:43:30.347Z"
   },
   {
    "duration": 11,
    "start_time": "2022-05-15T17:43:30.379Z"
   },
   {
    "duration": 35,
    "start_time": "2022-05-15T17:43:30.392Z"
   },
   {
    "duration": 25,
    "start_time": "2022-05-15T17:43:30.430Z"
   },
   {
    "duration": 30,
    "start_time": "2022-05-15T17:43:30.457Z"
   },
   {
    "duration": 20,
    "start_time": "2022-05-15T17:43:30.489Z"
   },
   {
    "duration": 237,
    "start_time": "2022-05-15T17:43:30.511Z"
   },
   {
    "duration": 184,
    "start_time": "2022-05-15T17:43:30.750Z"
   },
   {
    "duration": 12,
    "start_time": "2022-05-15T17:43:30.936Z"
   },
   {
    "duration": 14,
    "start_time": "2022-05-15T17:43:30.950Z"
   },
   {
    "duration": 26,
    "start_time": "2022-05-15T17:43:30.967Z"
   },
   {
    "duration": 27,
    "start_time": "2022-05-15T17:43:30.996Z"
   },
   {
    "duration": 30,
    "start_time": "2022-05-15T17:43:31.026Z"
   },
   {
    "duration": 365,
    "start_time": "2022-05-15T17:43:31.058Z"
   },
   {
    "duration": 25,
    "start_time": "2022-05-15T17:43:31.425Z"
   },
   {
    "duration": 242,
    "start_time": "2022-05-15T17:43:31.451Z"
   },
   {
    "duration": 106,
    "start_time": "2022-05-15T17:43:31.696Z"
   },
   {
    "duration": 4,
    "start_time": "2022-05-15T17:43:31.804Z"
   },
   {
    "duration": 18,
    "start_time": "2022-05-15T17:43:31.810Z"
   },
   {
    "duration": 14,
    "start_time": "2022-05-15T17:43:31.830Z"
   },
   {
    "duration": 337,
    "start_time": "2022-05-15T17:43:31.846Z"
   },
   {
    "duration": 8,
    "start_time": "2022-05-15T17:43:32.187Z"
   },
   {
    "duration": 29,
    "start_time": "2022-05-15T17:43:32.196Z"
   },
   {
    "duration": 202,
    "start_time": "2022-05-15T17:43:32.226Z"
   },
   {
    "duration": 8,
    "start_time": "2022-05-15T17:43:32.430Z"
   },
   {
    "duration": 14,
    "start_time": "2022-05-15T17:43:32.439Z"
   },
   {
    "duration": 229,
    "start_time": "2022-05-15T17:43:32.455Z"
   },
   {
    "duration": 9,
    "start_time": "2022-05-15T17:43:32.686Z"
   },
   {
    "duration": 26,
    "start_time": "2022-05-15T17:43:32.697Z"
   },
   {
    "duration": 10,
    "start_time": "2022-05-15T17:43:32.725Z"
   },
   {
    "duration": 116,
    "start_time": "2022-05-15T17:43:32.736Z"
   },
   {
    "duration": 235,
    "start_time": "2022-05-15T17:43:32.854Z"
   },
   {
    "duration": 154,
    "start_time": "2022-05-15T17:43:33.091Z"
   },
   {
    "duration": 178,
    "start_time": "2022-05-15T17:43:33.247Z"
   },
   {
    "duration": 177,
    "start_time": "2022-05-15T17:43:33.428Z"
   },
   {
    "duration": 217,
    "start_time": "2022-05-15T17:43:33.608Z"
   },
   {
    "duration": 264,
    "start_time": "2022-05-15T17:43:33.826Z"
   },
   {
    "duration": 407,
    "start_time": "2022-05-15T17:43:34.092Z"
   },
   {
    "duration": 184,
    "start_time": "2022-05-15T17:43:34.500Z"
   },
   {
    "duration": 188,
    "start_time": "2022-05-15T17:43:34.686Z"
   },
   {
    "duration": 25,
    "start_time": "2022-05-15T17:43:34.875Z"
   },
   {
    "duration": 327,
    "start_time": "2022-05-15T17:43:34.902Z"
   },
   {
    "duration": 13,
    "start_time": "2022-05-15T17:43:35.232Z"
   },
   {
    "duration": 165,
    "start_time": "2022-05-15T17:43:35.248Z"
   },
   {
    "duration": 164,
    "start_time": "2022-05-15T17:43:35.422Z"
   },
   {
    "duration": 175,
    "start_time": "2022-05-15T17:43:35.588Z"
   },
   {
    "duration": 158,
    "start_time": "2022-05-15T17:43:35.764Z"
   },
   {
    "duration": 176,
    "start_time": "2022-05-15T17:43:35.925Z"
   },
   {
    "duration": 169,
    "start_time": "2022-05-15T17:43:36.103Z"
   },
   {
    "duration": 185,
    "start_time": "2022-05-15T17:43:36.274Z"
   },
   {
    "duration": 16,
    "start_time": "2022-05-15T17:44:10.278Z"
   },
   {
    "duration": 19,
    "start_time": "2022-05-15T17:44:17.807Z"
   },
   {
    "duration": 67,
    "start_time": "2022-05-15T17:44:21.845Z"
   },
   {
    "duration": 303,
    "start_time": "2022-05-15T17:44:55.219Z"
   },
   {
    "duration": 117,
    "start_time": "2022-05-15T17:45:17.521Z"
   },
   {
    "duration": 9,
    "start_time": "2022-05-15T17:46:00.239Z"
   },
   {
    "duration": 1422,
    "start_time": "2022-05-15T17:46:21.810Z"
   },
   {
    "duration": 31,
    "start_time": "2022-05-15T17:46:23.234Z"
   },
   {
    "duration": 18,
    "start_time": "2022-05-15T17:46:23.266Z"
   },
   {
    "duration": 86,
    "start_time": "2022-05-15T17:46:23.287Z"
   },
   {
    "duration": 33,
    "start_time": "2022-05-15T17:46:23.375Z"
   },
   {
    "duration": 37,
    "start_time": "2022-05-15T17:46:23.422Z"
   },
   {
    "duration": 30,
    "start_time": "2022-05-15T17:46:23.461Z"
   },
   {
    "duration": 32,
    "start_time": "2022-05-15T17:46:23.493Z"
   },
   {
    "duration": 9,
    "start_time": "2022-05-15T17:46:23.527Z"
   },
   {
    "duration": 8,
    "start_time": "2022-05-15T17:46:23.540Z"
   },
   {
    "duration": 18,
    "start_time": "2022-05-15T17:46:23.550Z"
   },
   {
    "duration": 55,
    "start_time": "2022-05-15T17:46:23.570Z"
   },
   {
    "duration": 277,
    "start_time": "2022-05-15T17:46:23.627Z"
   },
   {
    "duration": 197,
    "start_time": "2022-05-15T17:46:23.922Z"
   },
   {
    "duration": 20,
    "start_time": "2022-05-15T17:46:24.121Z"
   },
   {
    "duration": 7,
    "start_time": "2022-05-15T17:46:24.142Z"
   },
   {
    "duration": 15,
    "start_time": "2022-05-15T17:46:24.151Z"
   },
   {
    "duration": 62,
    "start_time": "2022-05-15T17:46:24.168Z"
   },
   {
    "duration": 34,
    "start_time": "2022-05-15T17:46:24.232Z"
   },
   {
    "duration": 415,
    "start_time": "2022-05-15T17:46:24.268Z"
   },
   {
    "duration": 26,
    "start_time": "2022-05-15T17:46:24.685Z"
   },
   {
    "duration": 293,
    "start_time": "2022-05-15T17:46:24.723Z"
   },
   {
    "duration": 124,
    "start_time": "2022-05-15T17:46:25.018Z"
   },
   {
    "duration": 16,
    "start_time": "2022-05-15T17:46:25.143Z"
   },
   {
    "duration": 10,
    "start_time": "2022-05-15T17:46:25.161Z"
   },
   {
    "duration": 15,
    "start_time": "2022-05-15T17:46:25.173Z"
   },
   {
    "duration": 428,
    "start_time": "2022-05-15T17:46:25.189Z"
   },
   {
    "duration": 10,
    "start_time": "2022-05-15T17:46:25.622Z"
   },
   {
    "duration": 25,
    "start_time": "2022-05-15T17:46:25.634Z"
   },
   {
    "duration": 230,
    "start_time": "2022-05-15T17:46:25.661Z"
   },
   {
    "duration": 8,
    "start_time": "2022-05-15T17:46:25.893Z"
   },
   {
    "duration": 32,
    "start_time": "2022-05-15T17:46:25.903Z"
   },
   {
    "duration": 323,
    "start_time": "2022-05-15T17:46:25.938Z"
   },
   {
    "duration": 10,
    "start_time": "2022-05-15T17:46:26.262Z"
   },
   {
    "duration": 16,
    "start_time": "2022-05-15T17:46:26.274Z"
   },
   {
    "duration": 17,
    "start_time": "2022-05-15T17:46:26.291Z"
   },
   {
    "duration": 123,
    "start_time": "2022-05-15T17:46:26.324Z"
   },
   {
    "duration": 253,
    "start_time": "2022-05-15T17:46:26.451Z"
   },
   {
    "duration": 171,
    "start_time": "2022-05-15T17:46:26.705Z"
   },
   {
    "duration": 190,
    "start_time": "2022-05-15T17:46:26.877Z"
   },
   {
    "duration": 186,
    "start_time": "2022-05-15T17:46:27.069Z"
   },
   {
    "duration": 148,
    "start_time": "2022-05-15T17:46:27.260Z"
   },
   {
    "duration": 221,
    "start_time": "2022-05-15T17:46:27.410Z"
   },
   {
    "duration": 295,
    "start_time": "2022-05-15T17:46:27.633Z"
   },
   {
    "duration": 264,
    "start_time": "2022-05-15T17:46:27.930Z"
   },
   {
    "duration": 200,
    "start_time": "2022-05-15T17:46:28.196Z"
   },
   {
    "duration": 30,
    "start_time": "2022-05-15T17:46:28.398Z"
   },
   {
    "duration": 348,
    "start_time": "2022-05-15T17:46:28.431Z"
   },
   {
    "duration": 10,
    "start_time": "2022-05-15T17:46:28.781Z"
   },
   {
    "duration": 168,
    "start_time": "2022-05-15T17:46:28.793Z"
   },
   {
    "duration": 172,
    "start_time": "2022-05-15T17:46:28.963Z"
   },
   {
    "duration": 171,
    "start_time": "2022-05-15T17:46:29.137Z"
   },
   {
    "duration": 166,
    "start_time": "2022-05-15T17:46:29.310Z"
   },
   {
    "duration": 195,
    "start_time": "2022-05-15T17:46:29.478Z"
   },
   {
    "duration": 158,
    "start_time": "2022-05-15T17:46:29.675Z"
   },
   {
    "duration": 159,
    "start_time": "2022-05-15T17:46:29.835Z"
   },
   {
    "duration": 20,
    "start_time": "2022-05-15T17:46:55.248Z"
   },
   {
    "duration": 10,
    "start_time": "2022-05-15T17:47:21.633Z"
   },
   {
    "duration": 1370,
    "start_time": "2022-05-15T17:48:22.441Z"
   },
   {
    "duration": 30,
    "start_time": "2022-05-15T17:48:23.813Z"
   },
   {
    "duration": 19,
    "start_time": "2022-05-15T17:48:23.846Z"
   },
   {
    "duration": 91,
    "start_time": "2022-05-15T17:48:23.867Z"
   },
   {
    "duration": 22,
    "start_time": "2022-05-15T17:48:23.960Z"
   },
   {
    "duration": 49,
    "start_time": "2022-05-15T17:48:23.984Z"
   },
   {
    "duration": 32,
    "start_time": "2022-05-15T17:48:24.035Z"
   },
   {
    "duration": 8,
    "start_time": "2022-05-15T17:48:24.069Z"
   },
   {
    "duration": 9,
    "start_time": "2022-05-15T17:48:24.078Z"
   },
   {
    "duration": 7,
    "start_time": "2022-05-15T17:48:24.089Z"
   },
   {
    "duration": 21,
    "start_time": "2022-05-15T17:48:24.122Z"
   },
   {
    "duration": 13,
    "start_time": "2022-05-15T17:48:24.145Z"
   },
   {
    "duration": 298,
    "start_time": "2022-05-15T17:48:24.159Z"
   },
   {
    "duration": 188,
    "start_time": "2022-05-15T17:48:24.459Z"
   },
   {
    "duration": 10,
    "start_time": "2022-05-15T17:48:24.649Z"
   },
   {
    "duration": 10,
    "start_time": "2022-05-15T17:48:24.661Z"
   },
   {
    "duration": 13,
    "start_time": "2022-05-15T17:48:24.672Z"
   },
   {
    "duration": 42,
    "start_time": "2022-05-15T17:48:24.686Z"
   },
   {
    "duration": 35,
    "start_time": "2022-05-15T17:48:24.730Z"
   },
   {
    "duration": 384,
    "start_time": "2022-05-15T17:48:24.766Z"
   },
   {
    "duration": 25,
    "start_time": "2022-05-15T17:48:25.152Z"
   },
   {
    "duration": 284,
    "start_time": "2022-05-15T17:48:25.179Z"
   },
   {
    "duration": 104,
    "start_time": "2022-05-15T17:48:25.465Z"
   },
   {
    "duration": 4,
    "start_time": "2022-05-15T17:48:25.571Z"
   },
   {
    "duration": 10,
    "start_time": "2022-05-15T17:48:25.576Z"
   },
   {
    "duration": 14,
    "start_time": "2022-05-15T17:48:25.588Z"
   },
   {
    "duration": 378,
    "start_time": "2022-05-15T17:48:25.604Z"
   },
   {
    "duration": 7,
    "start_time": "2022-05-15T17:48:25.986Z"
   },
   {
    "duration": 11,
    "start_time": "2022-05-15T17:48:25.995Z"
   },
   {
    "duration": 211,
    "start_time": "2022-05-15T17:48:26.024Z"
   },
   {
    "duration": 8,
    "start_time": "2022-05-15T17:48:26.237Z"
   },
   {
    "duration": 10,
    "start_time": "2022-05-15T17:48:26.246Z"
   },
   {
    "duration": 240,
    "start_time": "2022-05-15T17:48:26.258Z"
   },
   {
    "duration": 8,
    "start_time": "2022-05-15T17:48:26.501Z"
   },
   {
    "duration": 23,
    "start_time": "2022-05-15T17:48:26.511Z"
   },
   {
    "duration": 10,
    "start_time": "2022-05-15T17:48:26.536Z"
   },
   {
    "duration": 126,
    "start_time": "2022-05-15T17:48:26.547Z"
   },
   {
    "duration": 226,
    "start_time": "2022-05-15T17:48:26.675Z"
   },
   {
    "duration": 155,
    "start_time": "2022-05-15T17:48:26.902Z"
   },
   {
    "duration": 167,
    "start_time": "2022-05-15T17:48:27.058Z"
   },
   {
    "duration": 170,
    "start_time": "2022-05-15T17:48:27.226Z"
   },
   {
    "duration": 153,
    "start_time": "2022-05-15T17:48:27.398Z"
   },
   {
    "duration": 198,
    "start_time": "2022-05-15T17:48:27.553Z"
   },
   {
    "duration": 377,
    "start_time": "2022-05-15T17:48:27.753Z"
   },
   {
    "duration": 160,
    "start_time": "2022-05-15T17:48:28.132Z"
   },
   {
    "duration": 191,
    "start_time": "2022-05-15T17:48:28.294Z"
   },
   {
    "duration": 26,
    "start_time": "2022-05-15T17:48:28.487Z"
   },
   {
    "duration": 343,
    "start_time": "2022-05-15T17:48:28.514Z"
   },
   {
    "duration": 10,
    "start_time": "2022-05-15T17:48:28.859Z"
   },
   {
    "duration": 162,
    "start_time": "2022-05-15T17:48:28.871Z"
   },
   {
    "duration": 175,
    "start_time": "2022-05-15T17:48:29.035Z"
   },
   {
    "duration": 238,
    "start_time": "2022-05-15T17:48:29.212Z"
   },
   {
    "duration": 370,
    "start_time": "2022-05-15T17:48:29.452Z"
   },
   {
    "duration": 319,
    "start_time": "2022-05-15T17:48:29.824Z"
   },
   {
    "duration": 298,
    "start_time": "2022-05-15T17:48:30.145Z"
   },
   {
    "duration": 303,
    "start_time": "2022-05-15T17:48:30.445Z"
   },
   {
    "duration": 1352,
    "start_time": "2022-05-15T17:49:26.538Z"
   },
   {
    "duration": 32,
    "start_time": "2022-05-15T17:49:27.892Z"
   },
   {
    "duration": 22,
    "start_time": "2022-05-15T17:49:27.926Z"
   },
   {
    "duration": 94,
    "start_time": "2022-05-15T17:49:27.950Z"
   },
   {
    "duration": 25,
    "start_time": "2022-05-15T17:49:28.045Z"
   },
   {
    "duration": 58,
    "start_time": "2022-05-15T17:49:28.071Z"
   },
   {
    "duration": 37,
    "start_time": "2022-05-15T17:49:28.131Z"
   },
   {
    "duration": 9,
    "start_time": "2022-05-15T17:49:28.171Z"
   },
   {
    "duration": 8,
    "start_time": "2022-05-15T17:49:28.182Z"
   },
   {
    "duration": 12,
    "start_time": "2022-05-15T17:49:28.223Z"
   },
   {
    "duration": 17,
    "start_time": "2022-05-15T17:49:28.238Z"
   },
   {
    "duration": 12,
    "start_time": "2022-05-15T17:49:28.257Z"
   },
   {
    "duration": 298,
    "start_time": "2022-05-15T17:49:28.271Z"
   },
   {
    "duration": 201,
    "start_time": "2022-05-15T17:49:28.570Z"
   },
   {
    "duration": 13,
    "start_time": "2022-05-15T17:49:28.772Z"
   },
   {
    "duration": 10,
    "start_time": "2022-05-15T17:49:28.786Z"
   },
   {
    "duration": 36,
    "start_time": "2022-05-15T17:49:28.797Z"
   },
   {
    "duration": 28,
    "start_time": "2022-05-15T17:49:28.835Z"
   },
   {
    "duration": 30,
    "start_time": "2022-05-15T17:49:28.865Z"
   },
   {
    "duration": 410,
    "start_time": "2022-05-15T17:49:28.897Z"
   },
   {
    "duration": 39,
    "start_time": "2022-05-15T17:49:29.310Z"
   },
   {
    "duration": 281,
    "start_time": "2022-05-15T17:49:29.351Z"
   },
   {
    "duration": 125,
    "start_time": "2022-05-15T17:49:29.636Z"
   },
   {
    "duration": 4,
    "start_time": "2022-05-15T17:49:29.763Z"
   },
   {
    "duration": 9,
    "start_time": "2022-05-15T17:49:29.769Z"
   },
   {
    "duration": 16,
    "start_time": "2022-05-15T17:49:29.780Z"
   },
   {
    "duration": 387,
    "start_time": "2022-05-15T17:49:29.797Z"
   },
   {
    "duration": 8,
    "start_time": "2022-05-15T17:49:30.188Z"
   },
   {
    "duration": 45,
    "start_time": "2022-05-15T17:49:30.198Z"
   },
   {
    "duration": 246,
    "start_time": "2022-05-15T17:49:30.245Z"
   },
   {
    "duration": 8,
    "start_time": "2022-05-15T17:49:30.493Z"
   },
   {
    "duration": 32,
    "start_time": "2022-05-15T17:49:30.503Z"
   },
   {
    "duration": 300,
    "start_time": "2022-05-15T17:49:30.537Z"
   },
   {
    "duration": 10,
    "start_time": "2022-05-15T17:49:30.839Z"
   },
   {
    "duration": 21,
    "start_time": "2022-05-15T17:49:30.851Z"
   },
   {
    "duration": 13,
    "start_time": "2022-05-15T17:49:30.874Z"
   },
   {
    "duration": 136,
    "start_time": "2022-05-15T17:49:30.889Z"
   },
   {
    "duration": 253,
    "start_time": "2022-05-15T17:49:31.026Z"
   },
   {
    "duration": 164,
    "start_time": "2022-05-15T17:49:31.281Z"
   },
   {
    "duration": 181,
    "start_time": "2022-05-15T17:49:31.447Z"
   },
   {
    "duration": 176,
    "start_time": "2022-05-15T17:49:31.630Z"
   },
   {
    "duration": 169,
    "start_time": "2022-05-15T17:49:31.808Z"
   },
   {
    "duration": 206,
    "start_time": "2022-05-15T17:49:31.979Z"
   },
   {
    "duration": 266,
    "start_time": "2022-05-15T17:49:32.187Z"
   },
   {
    "duration": 177,
    "start_time": "2022-05-15T17:49:32.455Z"
   },
   {
    "duration": 198,
    "start_time": "2022-05-15T17:49:32.634Z"
   },
   {
    "duration": 26,
    "start_time": "2022-05-15T17:49:32.834Z"
   },
   {
    "duration": 358,
    "start_time": "2022-05-15T17:49:32.862Z"
   },
   {
    "duration": 11,
    "start_time": "2022-05-15T17:49:33.222Z"
   },
   {
    "duration": 162,
    "start_time": "2022-05-15T17:49:33.236Z"
   },
   {
    "duration": 173,
    "start_time": "2022-05-15T17:49:33.399Z"
   },
   {
    "duration": 188,
    "start_time": "2022-05-15T17:49:33.574Z"
   },
   {
    "duration": 168,
    "start_time": "2022-05-15T17:49:33.764Z"
   },
   {
    "duration": 172,
    "start_time": "2022-05-15T17:49:33.934Z"
   },
   {
    "duration": 171,
    "start_time": "2022-05-15T17:49:34.108Z"
   },
   {
    "duration": 178,
    "start_time": "2022-05-15T17:49:34.281Z"
   },
   {
    "duration": 89,
    "start_time": "2022-05-15T17:50:05.637Z"
   },
   {
    "duration": 27,
    "start_time": "2022-05-15T17:50:05.729Z"
   },
   {
    "duration": 20,
    "start_time": "2022-05-15T17:50:05.758Z"
   },
   {
    "duration": 99,
    "start_time": "2022-05-15T17:50:05.780Z"
   },
   {
    "duration": 22,
    "start_time": "2022-05-15T17:50:05.882Z"
   },
   {
    "duration": 48,
    "start_time": "2022-05-15T17:50:05.907Z"
   },
   {
    "duration": 30,
    "start_time": "2022-05-15T17:50:05.956Z"
   },
   {
    "duration": 36,
    "start_time": "2022-05-15T17:50:05.988Z"
   },
   {
    "duration": 13,
    "start_time": "2022-05-15T17:50:06.026Z"
   },
   {
    "duration": 7,
    "start_time": "2022-05-15T17:50:06.041Z"
   },
   {
    "duration": 14,
    "start_time": "2022-05-15T17:50:06.049Z"
   },
   {
    "duration": 14,
    "start_time": "2022-05-15T17:50:06.065Z"
   },
   {
    "duration": 395,
    "start_time": "2022-05-15T17:50:06.081Z"
   },
   {
    "duration": 187,
    "start_time": "2022-05-15T17:50:06.480Z"
   },
   {
    "duration": 16,
    "start_time": "2022-05-15T17:50:06.669Z"
   },
   {
    "duration": 11,
    "start_time": "2022-05-15T17:50:06.687Z"
   },
   {
    "duration": 38,
    "start_time": "2022-05-15T17:50:06.700Z"
   },
   {
    "duration": 24,
    "start_time": "2022-05-15T17:50:06.740Z"
   },
   {
    "duration": 31,
    "start_time": "2022-05-15T17:50:06.766Z"
   },
   {
    "duration": 490,
    "start_time": "2022-05-15T17:50:06.822Z"
   },
   {
    "duration": 32,
    "start_time": "2022-05-15T17:50:07.322Z"
   },
   {
    "duration": 284,
    "start_time": "2022-05-15T17:50:07.356Z"
   },
   {
    "duration": 120,
    "start_time": "2022-05-15T17:50:07.642Z"
   },
   {
    "duration": 5,
    "start_time": "2022-05-15T17:50:07.764Z"
   },
   {
    "duration": 10,
    "start_time": "2022-05-15T17:50:07.771Z"
   },
   {
    "duration": 12,
    "start_time": "2022-05-15T17:50:07.783Z"
   },
   {
    "duration": 302,
    "start_time": "2022-05-15T17:50:07.796Z"
   },
   {
    "duration": 8,
    "start_time": "2022-05-15T17:50:08.100Z"
   },
   {
    "duration": 28,
    "start_time": "2022-05-15T17:50:08.109Z"
   },
   {
    "duration": 224,
    "start_time": "2022-05-15T17:50:08.140Z"
   },
   {
    "duration": 8,
    "start_time": "2022-05-15T17:50:08.366Z"
   },
   {
    "duration": 10,
    "start_time": "2022-05-15T17:50:08.376Z"
   },
   {
    "duration": 234,
    "start_time": "2022-05-15T17:50:08.388Z"
   },
   {
    "duration": 13,
    "start_time": "2022-05-15T17:50:08.625Z"
   },
   {
    "duration": 143,
    "start_time": "2022-05-15T17:50:11.018Z"
   },
   {
    "duration": 15,
    "start_time": "2022-05-15T17:50:15.469Z"
   },
   {
    "duration": 1530,
    "start_time": "2022-05-15T17:50:56.545Z"
   },
   {
    "duration": 33,
    "start_time": "2022-05-15T17:50:58.078Z"
   },
   {
    "duration": 31,
    "start_time": "2022-05-15T17:50:58.112Z"
   },
   {
    "duration": 89,
    "start_time": "2022-05-15T17:50:58.145Z"
   },
   {
    "duration": 29,
    "start_time": "2022-05-15T17:50:58.237Z"
   },
   {
    "duration": 74,
    "start_time": "2022-05-15T17:50:58.268Z"
   },
   {
    "duration": 39,
    "start_time": "2022-05-15T17:50:58.344Z"
   },
   {
    "duration": 8,
    "start_time": "2022-05-15T17:50:58.385Z"
   },
   {
    "duration": 30,
    "start_time": "2022-05-15T17:50:58.395Z"
   },
   {
    "duration": 10,
    "start_time": "2022-05-15T17:50:58.433Z"
   },
   {
    "duration": 22,
    "start_time": "2022-05-15T17:50:58.445Z"
   },
   {
    "duration": 15,
    "start_time": "2022-05-15T17:50:58.469Z"
   },
   {
    "duration": 403,
    "start_time": "2022-05-15T17:50:58.486Z"
   },
   {
    "duration": 244,
    "start_time": "2022-05-15T17:50:58.891Z"
   },
   {
    "duration": 13,
    "start_time": "2022-05-15T17:50:59.137Z"
   },
   {
    "duration": 8,
    "start_time": "2022-05-15T17:50:59.152Z"
   },
   {
    "duration": 14,
    "start_time": "2022-05-15T17:50:59.162Z"
   },
   {
    "duration": 58,
    "start_time": "2022-05-15T17:50:59.178Z"
   },
   {
    "duration": 34,
    "start_time": "2022-05-15T17:50:59.238Z"
   },
   {
    "duration": 404,
    "start_time": "2022-05-15T17:50:59.274Z"
   },
   {
    "duration": 30,
    "start_time": "2022-05-15T17:50:59.680Z"
   },
   {
    "duration": 287,
    "start_time": "2022-05-15T17:50:59.723Z"
   },
   {
    "duration": 128,
    "start_time": "2022-05-15T17:51:00.012Z"
   },
   {
    "duration": 6,
    "start_time": "2022-05-15T17:51:00.142Z"
   },
   {
    "duration": 22,
    "start_time": "2022-05-15T17:51:00.150Z"
   },
   {
    "duration": 17,
    "start_time": "2022-05-15T17:51:00.174Z"
   },
   {
    "duration": 461,
    "start_time": "2022-05-15T17:51:00.193Z"
   },
   {
    "duration": 8,
    "start_time": "2022-05-15T17:51:00.660Z"
   },
   {
    "duration": 22,
    "start_time": "2022-05-15T17:51:00.669Z"
   },
   {
    "duration": 229,
    "start_time": "2022-05-15T17:51:00.693Z"
   },
   {
    "duration": 10,
    "start_time": "2022-05-15T17:51:00.924Z"
   },
   {
    "duration": 24,
    "start_time": "2022-05-15T17:51:00.936Z"
   },
   {
    "duration": 261,
    "start_time": "2022-05-15T17:51:00.962Z"
   },
   {
    "duration": 13,
    "start_time": "2022-05-15T17:51:01.225Z"
   },
   {
    "duration": 25,
    "start_time": "2022-05-15T17:51:01.240Z"
   },
   {
    "duration": 11,
    "start_time": "2022-05-15T17:51:01.267Z"
   },
   {
    "duration": 166,
    "start_time": "2022-05-15T17:51:01.279Z"
   },
   {
    "duration": 331,
    "start_time": "2022-05-15T17:51:01.447Z"
   },
   {
    "duration": 215,
    "start_time": "2022-05-15T17:51:01.780Z"
   },
   {
    "duration": 246,
    "start_time": "2022-05-15T17:51:01.997Z"
   },
   {
    "duration": 239,
    "start_time": "2022-05-15T17:51:02.245Z"
   },
   {
    "duration": 166,
    "start_time": "2022-05-15T17:51:02.486Z"
   },
   {
    "duration": 588,
    "start_time": "2022-05-15T17:51:02.654Z"
   },
   {
    "duration": 720,
    "start_time": "2022-05-15T17:51:03.243Z"
   },
   {
    "duration": 516,
    "start_time": "2022-05-15T17:51:03.966Z"
   },
   {
    "duration": 308,
    "start_time": "2022-05-15T17:51:04.485Z"
   },
   {
    "duration": 48,
    "start_time": "2022-05-15T17:51:04.795Z"
   },
   {
    "duration": 410,
    "start_time": "2022-05-15T17:51:04.846Z"
   },
   {
    "duration": 10,
    "start_time": "2022-05-15T17:51:05.258Z"
   },
   {
    "duration": 177,
    "start_time": "2022-05-15T17:51:05.270Z"
   },
   {
    "duration": 190,
    "start_time": "2022-05-15T17:51:05.450Z"
   },
   {
    "duration": 181,
    "start_time": "2022-05-15T17:51:05.641Z"
   },
   {
    "duration": 168,
    "start_time": "2022-05-15T17:51:05.824Z"
   },
   {
    "duration": 192,
    "start_time": "2022-05-15T17:51:05.995Z"
   },
   {
    "duration": 188,
    "start_time": "2022-05-15T17:51:06.189Z"
   },
   {
    "duration": 162,
    "start_time": "2022-05-15T17:51:06.379Z"
   },
   {
    "duration": 108,
    "start_time": "2022-05-15T17:51:15.085Z"
   },
   {
    "duration": 44,
    "start_time": "2022-05-15T17:51:15.196Z"
   },
   {
    "duration": 21,
    "start_time": "2022-05-15T17:51:15.243Z"
   },
   {
    "duration": 100,
    "start_time": "2022-05-15T17:51:15.267Z"
   },
   {
    "duration": 31,
    "start_time": "2022-05-15T17:51:15.369Z"
   },
   {
    "duration": 77,
    "start_time": "2022-05-15T17:51:15.402Z"
   },
   {
    "duration": 56,
    "start_time": "2022-05-15T17:51:15.481Z"
   },
   {
    "duration": 11,
    "start_time": "2022-05-15T17:51:15.539Z"
   },
   {
    "duration": 24,
    "start_time": "2022-05-15T17:51:15.552Z"
   },
   {
    "duration": 14,
    "start_time": "2022-05-15T17:51:15.580Z"
   },
   {
    "duration": 26,
    "start_time": "2022-05-15T17:51:15.596Z"
   },
   {
    "duration": 17,
    "start_time": "2022-05-15T17:51:15.631Z"
   },
   {
    "duration": 396,
    "start_time": "2022-05-15T17:51:15.651Z"
   },
   {
    "duration": 242,
    "start_time": "2022-05-15T17:51:16.049Z"
   },
   {
    "duration": 12,
    "start_time": "2022-05-15T17:51:16.293Z"
   },
   {
    "duration": 21,
    "start_time": "2022-05-15T17:51:16.308Z"
   },
   {
    "duration": 18,
    "start_time": "2022-05-15T17:51:16.331Z"
   },
   {
    "duration": 23,
    "start_time": "2022-05-15T17:51:16.351Z"
   },
   {
    "duration": 60,
    "start_time": "2022-05-15T17:51:16.375Z"
   },
   {
    "duration": 598,
    "start_time": "2022-05-15T17:51:16.437Z"
   },
   {
    "duration": 26,
    "start_time": "2022-05-15T17:51:17.037Z"
   },
   {
    "duration": 292,
    "start_time": "2022-05-15T17:51:17.065Z"
   },
   {
    "duration": 121,
    "start_time": "2022-05-15T17:51:17.359Z"
   },
   {
    "duration": 5,
    "start_time": "2022-05-15T17:51:17.483Z"
   },
   {
    "duration": 10,
    "start_time": "2022-05-15T17:51:17.490Z"
   },
   {
    "duration": 39,
    "start_time": "2022-05-15T17:51:17.502Z"
   },
   {
    "duration": 382,
    "start_time": "2022-05-15T17:51:17.543Z"
   },
   {
    "duration": 11,
    "start_time": "2022-05-15T17:51:17.930Z"
   },
   {
    "duration": 15,
    "start_time": "2022-05-15T17:51:17.943Z"
   },
   {
    "duration": 298,
    "start_time": "2022-05-15T17:51:17.960Z"
   },
   {
    "duration": 8,
    "start_time": "2022-05-15T17:51:18.260Z"
   },
   {
    "duration": 13,
    "start_time": "2022-05-15T17:51:18.270Z"
   },
   {
    "duration": 253,
    "start_time": "2022-05-15T17:51:18.285Z"
   },
   {
    "duration": 11,
    "start_time": "2022-05-15T17:51:18.541Z"
   },
   {
    "duration": 20,
    "start_time": "2022-05-15T17:51:21.241Z"
   },
   {
    "duration": 1664,
    "start_time": "2022-05-15T17:51:56.850Z"
   },
   {
    "duration": 43,
    "start_time": "2022-05-15T17:51:58.517Z"
   },
   {
    "duration": 17,
    "start_time": "2022-05-15T17:51:58.562Z"
   },
   {
    "duration": 123,
    "start_time": "2022-05-15T17:51:58.581Z"
   },
   {
    "duration": 43,
    "start_time": "2022-05-15T17:51:58.708Z"
   },
   {
    "duration": 45,
    "start_time": "2022-05-15T17:51:58.754Z"
   },
   {
    "duration": 68,
    "start_time": "2022-05-15T17:51:58.800Z"
   },
   {
    "duration": 11,
    "start_time": "2022-05-15T17:51:58.870Z"
   },
   {
    "duration": 6,
    "start_time": "2022-05-15T17:51:58.883Z"
   },
   {
    "duration": 33,
    "start_time": "2022-05-15T17:51:58.891Z"
   },
   {
    "duration": 20,
    "start_time": "2022-05-15T17:51:58.926Z"
   },
   {
    "duration": 17,
    "start_time": "2022-05-15T17:51:58.949Z"
   },
   {
    "duration": 372,
    "start_time": "2022-05-15T17:51:58.968Z"
   },
   {
    "duration": 225,
    "start_time": "2022-05-15T17:51:59.345Z"
   },
   {
    "duration": 17,
    "start_time": "2022-05-15T17:51:59.572Z"
   },
   {
    "duration": 12,
    "start_time": "2022-05-15T17:51:59.591Z"
   },
   {
    "duration": 38,
    "start_time": "2022-05-15T17:51:59.605Z"
   },
   {
    "duration": 25,
    "start_time": "2022-05-15T17:51:59.645Z"
   },
   {
    "duration": 72,
    "start_time": "2022-05-15T17:51:59.671Z"
   },
   {
    "duration": 440,
    "start_time": "2022-05-15T17:51:59.744Z"
   },
   {
    "duration": 25,
    "start_time": "2022-05-15T17:52:00.186Z"
   },
   {
    "duration": 302,
    "start_time": "2022-05-15T17:52:00.223Z"
   },
   {
    "duration": 138,
    "start_time": "2022-05-15T17:52:00.527Z"
   },
   {
    "duration": 6,
    "start_time": "2022-05-15T17:52:00.668Z"
   },
   {
    "duration": 10,
    "start_time": "2022-05-15T17:52:00.676Z"
   },
   {
    "duration": 25,
    "start_time": "2022-05-15T17:52:00.688Z"
   },
   {
    "duration": 382,
    "start_time": "2022-05-15T17:52:00.715Z"
   },
   {
    "duration": 8,
    "start_time": "2022-05-15T17:52:01.098Z"
   },
   {
    "duration": 34,
    "start_time": "2022-05-15T17:52:01.108Z"
   },
   {
    "duration": 229,
    "start_time": "2022-05-15T17:52:01.144Z"
   },
   {
    "duration": 9,
    "start_time": "2022-05-15T17:52:01.374Z"
   },
   {
    "duration": 15,
    "start_time": "2022-05-15T17:52:01.384Z"
   },
   {
    "duration": 247,
    "start_time": "2022-05-15T17:52:01.401Z"
   },
   {
    "duration": 10,
    "start_time": "2022-05-15T17:52:01.651Z"
   },
   {
    "duration": 19,
    "start_time": "2022-05-15T17:52:01.663Z"
   },
   {
    "duration": 11,
    "start_time": "2022-05-15T17:52:01.684Z"
   },
   {
    "duration": 133,
    "start_time": "2022-05-15T17:52:01.726Z"
   },
   {
    "duration": 265,
    "start_time": "2022-05-15T17:52:01.861Z"
   },
   {
    "duration": 177,
    "start_time": "2022-05-15T17:52:02.128Z"
   },
   {
    "duration": 204,
    "start_time": "2022-05-15T17:52:02.307Z"
   },
   {
    "duration": 202,
    "start_time": "2022-05-15T17:52:02.515Z"
   },
   {
    "duration": 177,
    "start_time": "2022-05-15T17:52:02.719Z"
   },
   {
    "duration": 218,
    "start_time": "2022-05-15T17:52:02.898Z"
   },
   {
    "duration": 307,
    "start_time": "2022-05-15T17:52:03.118Z"
   },
   {
    "duration": 202,
    "start_time": "2022-05-15T17:52:03.428Z"
   },
   {
    "duration": 231,
    "start_time": "2022-05-15T17:52:03.633Z"
   },
   {
    "duration": 26,
    "start_time": "2022-05-15T17:52:03.866Z"
   },
   {
    "duration": 476,
    "start_time": "2022-05-15T17:52:03.894Z"
   },
   {
    "duration": 10,
    "start_time": "2022-05-15T17:52:04.372Z"
   },
   {
    "duration": 194,
    "start_time": "2022-05-15T17:52:04.384Z"
   },
   {
    "duration": 247,
    "start_time": "2022-05-15T17:52:04.580Z"
   },
   {
    "duration": 236,
    "start_time": "2022-05-15T17:52:04.829Z"
   },
   {
    "duration": 219,
    "start_time": "2022-05-15T17:52:05.067Z"
   },
   {
    "duration": 372,
    "start_time": "2022-05-15T17:52:05.288Z"
   },
   {
    "duration": 390,
    "start_time": "2022-05-15T17:52:05.662Z"
   },
   {
    "duration": 488,
    "start_time": "2022-05-15T17:52:06.055Z"
   },
   {
    "duration": 1452,
    "start_time": "2022-05-15T17:52:33.196Z"
   },
   {
    "duration": 29,
    "start_time": "2022-05-15T17:52:34.650Z"
   },
   {
    "duration": 15,
    "start_time": "2022-05-15T17:52:34.680Z"
   },
   {
    "duration": 98,
    "start_time": "2022-05-15T17:52:34.697Z"
   },
   {
    "duration": 26,
    "start_time": "2022-05-15T17:52:34.797Z"
   },
   {
    "duration": 44,
    "start_time": "2022-05-15T17:52:34.825Z"
   },
   {
    "duration": 54,
    "start_time": "2022-05-15T17:52:34.871Z"
   },
   {
    "duration": 14,
    "start_time": "2022-05-15T17:52:34.927Z"
   },
   {
    "duration": 8,
    "start_time": "2022-05-15T17:52:34.944Z"
   },
   {
    "duration": 8,
    "start_time": "2022-05-15T17:52:34.955Z"
   },
   {
    "duration": 16,
    "start_time": "2022-05-15T17:52:34.964Z"
   },
   {
    "duration": 54,
    "start_time": "2022-05-15T17:52:34.981Z"
   },
   {
    "duration": 266,
    "start_time": "2022-05-15T17:52:35.036Z"
   },
   {
    "duration": 206,
    "start_time": "2022-05-15T17:52:35.304Z"
   },
   {
    "duration": 11,
    "start_time": "2022-05-15T17:52:35.512Z"
   },
   {
    "duration": 15,
    "start_time": "2022-05-15T17:52:35.525Z"
   },
   {
    "duration": 13,
    "start_time": "2022-05-15T17:52:35.543Z"
   },
   {
    "duration": 32,
    "start_time": "2022-05-15T17:52:35.558Z"
   },
   {
    "duration": 66,
    "start_time": "2022-05-15T17:52:35.592Z"
   },
   {
    "duration": 408,
    "start_time": "2022-05-15T17:52:35.659Z"
   },
   {
    "duration": 25,
    "start_time": "2022-05-15T17:52:36.069Z"
   },
   {
    "duration": 292,
    "start_time": "2022-05-15T17:52:36.096Z"
   },
   {
    "duration": 112,
    "start_time": "2022-05-15T17:52:36.391Z"
   },
   {
    "duration": 5,
    "start_time": "2022-05-15T17:52:36.505Z"
   },
   {
    "duration": 12,
    "start_time": "2022-05-15T17:52:36.523Z"
   },
   {
    "duration": 18,
    "start_time": "2022-05-15T17:52:36.538Z"
   },
   {
    "duration": 513,
    "start_time": "2022-05-15T17:52:36.558Z"
   },
   {
    "duration": 9,
    "start_time": "2022-05-15T17:52:37.077Z"
   },
   {
    "duration": 14,
    "start_time": "2022-05-15T17:52:37.088Z"
   },
   {
    "duration": 295,
    "start_time": "2022-05-15T17:52:37.123Z"
   },
   {
    "duration": 9,
    "start_time": "2022-05-15T17:52:37.422Z"
   },
   {
    "duration": 30,
    "start_time": "2022-05-15T17:52:37.434Z"
   },
   {
    "duration": 298,
    "start_time": "2022-05-15T17:52:37.466Z"
   },
   {
    "duration": 12,
    "start_time": "2022-05-15T17:52:37.766Z"
   },
   {
    "duration": 21,
    "start_time": "2022-05-15T17:52:37.780Z"
   },
   {
    "duration": 24,
    "start_time": "2022-05-15T17:52:37.824Z"
   },
   {
    "duration": 11,
    "start_time": "2022-05-15T17:52:37.851Z"
   },
   {
    "duration": 176,
    "start_time": "2022-05-15T17:52:37.865Z"
   },
   {
    "duration": 343,
    "start_time": "2022-05-15T17:52:38.044Z"
   },
   {
    "duration": 189,
    "start_time": "2022-05-15T17:52:38.389Z"
   },
   {
    "duration": 193,
    "start_time": "2022-05-15T17:52:38.580Z"
   },
   {
    "duration": 189,
    "start_time": "2022-05-15T17:52:38.775Z"
   },
   {
    "duration": 158,
    "start_time": "2022-05-15T17:52:38.966Z"
   },
   {
    "duration": 324,
    "start_time": "2022-05-15T17:52:39.126Z"
   },
   {
    "duration": 287,
    "start_time": "2022-05-15T17:52:39.452Z"
   },
   {
    "duration": 194,
    "start_time": "2022-05-15T17:52:39.742Z"
   },
   {
    "duration": 198,
    "start_time": "2022-05-15T17:52:39.938Z"
   },
   {
    "duration": 31,
    "start_time": "2022-05-15T17:52:40.138Z"
   },
   {
    "duration": 393,
    "start_time": "2022-05-15T17:52:40.172Z"
   },
   {
    "duration": 10,
    "start_time": "2022-05-15T17:52:40.567Z"
   },
   {
    "duration": 179,
    "start_time": "2022-05-15T17:52:40.579Z"
   },
   {
    "duration": 183,
    "start_time": "2022-05-15T17:52:40.760Z"
   },
   {
    "duration": 199,
    "start_time": "2022-05-15T17:52:40.945Z"
   },
   {
    "duration": 202,
    "start_time": "2022-05-15T17:52:41.146Z"
   },
   {
    "duration": 184,
    "start_time": "2022-05-15T17:52:41.350Z"
   },
   {
    "duration": 183,
    "start_time": "2022-05-15T17:52:41.536Z"
   },
   {
    "duration": 175,
    "start_time": "2022-05-15T17:52:41.722Z"
   },
   {
    "duration": 168,
    "start_time": "2022-05-15T17:57:17.196Z"
   },
   {
    "duration": 12,
    "start_time": "2022-05-15T17:57:30.200Z"
   },
   {
    "duration": 10,
    "start_time": "2022-05-15T17:57:36.400Z"
   },
   {
    "duration": 1565,
    "start_time": "2022-05-15T17:58:01.597Z"
   },
   {
    "duration": 31,
    "start_time": "2022-05-15T17:58:03.165Z"
   },
   {
    "duration": 33,
    "start_time": "2022-05-15T17:58:03.198Z"
   },
   {
    "duration": 70,
    "start_time": "2022-05-15T17:58:03.234Z"
   },
   {
    "duration": 35,
    "start_time": "2022-05-15T17:58:03.306Z"
   },
   {
    "duration": 37,
    "start_time": "2022-05-15T17:58:03.343Z"
   },
   {
    "duration": 62,
    "start_time": "2022-05-15T17:58:03.382Z"
   },
   {
    "duration": 9,
    "start_time": "2022-05-15T17:58:03.446Z"
   },
   {
    "duration": 7,
    "start_time": "2022-05-15T17:58:03.457Z"
   },
   {
    "duration": 10,
    "start_time": "2022-05-15T17:58:03.468Z"
   },
   {
    "duration": 51,
    "start_time": "2022-05-15T17:58:03.480Z"
   },
   {
    "duration": 13,
    "start_time": "2022-05-15T17:58:03.533Z"
   },
   {
    "duration": 260,
    "start_time": "2022-05-15T17:58:03.547Z"
   },
   {
    "duration": 182,
    "start_time": "2022-05-15T17:58:03.808Z"
   },
   {
    "duration": 11,
    "start_time": "2022-05-15T17:58:03.992Z"
   },
   {
    "duration": 25,
    "start_time": "2022-05-15T17:58:04.005Z"
   },
   {
    "duration": 10,
    "start_time": "2022-05-15T17:58:04.032Z"
   },
   {
    "duration": 19,
    "start_time": "2022-05-15T17:58:04.044Z"
   },
   {
    "duration": 57,
    "start_time": "2022-05-15T17:58:04.065Z"
   },
   {
    "duration": 41,
    "start_time": "2022-05-15T17:58:04.125Z"
   },
   {
    "duration": 587,
    "start_time": "2022-05-15T17:58:04.169Z"
   },
   {
    "duration": 27,
    "start_time": "2022-05-15T17:58:04.759Z"
   },
   {
    "duration": 271,
    "start_time": "2022-05-15T17:58:04.788Z"
   },
   {
    "duration": 109,
    "start_time": "2022-05-15T17:58:05.061Z"
   },
   {
    "duration": 5,
    "start_time": "2022-05-15T17:58:05.172Z"
   },
   {
    "duration": 36,
    "start_time": "2022-05-15T17:58:05.178Z"
   },
   {
    "duration": 41,
    "start_time": "2022-05-15T17:58:05.215Z"
   },
   {
    "duration": 622,
    "start_time": "2022-05-15T17:58:05.260Z"
   },
   {
    "duration": 9,
    "start_time": "2022-05-15T17:58:05.884Z"
   },
   {
    "duration": 17,
    "start_time": "2022-05-15T17:58:05.895Z"
   },
   {
    "duration": 255,
    "start_time": "2022-05-15T17:58:05.922Z"
   },
   {
    "duration": 8,
    "start_time": "2022-05-15T17:58:06.179Z"
   },
   {
    "duration": 15,
    "start_time": "2022-05-15T17:58:06.188Z"
   },
   {
    "duration": 260,
    "start_time": "2022-05-15T17:58:06.205Z"
   },
   {
    "duration": 9,
    "start_time": "2022-05-15T17:58:06.467Z"
   },
   {
    "duration": 36,
    "start_time": "2022-05-15T17:58:06.478Z"
   },
   {
    "duration": 14,
    "start_time": "2022-05-15T17:58:06.522Z"
   },
   {
    "duration": 140,
    "start_time": "2022-05-15T17:58:06.538Z"
   },
   {
    "duration": 274,
    "start_time": "2022-05-15T17:58:06.679Z"
   },
   {
    "duration": 166,
    "start_time": "2022-05-15T17:58:06.956Z"
   },
   {
    "duration": 190,
    "start_time": "2022-05-15T17:58:07.125Z"
   },
   {
    "duration": 184,
    "start_time": "2022-05-15T17:58:07.322Z"
   },
   {
    "duration": 170,
    "start_time": "2022-05-15T17:58:07.508Z"
   },
   {
    "duration": 222,
    "start_time": "2022-05-15T17:58:07.680Z"
   },
   {
    "duration": 287,
    "start_time": "2022-05-15T17:58:07.904Z"
   },
   {
    "duration": 181,
    "start_time": "2022-05-15T17:58:08.193Z"
   },
   {
    "duration": 204,
    "start_time": "2022-05-15T17:58:08.375Z"
   },
   {
    "duration": 25,
    "start_time": "2022-05-15T17:58:08.581Z"
   },
   {
    "duration": 369,
    "start_time": "2022-05-15T17:58:08.608Z"
   },
   {
    "duration": 11,
    "start_time": "2022-05-15T17:58:08.978Z"
   },
   {
    "duration": 189,
    "start_time": "2022-05-15T17:58:08.990Z"
   },
   {
    "duration": 187,
    "start_time": "2022-05-15T17:58:09.182Z"
   },
   {
    "duration": 193,
    "start_time": "2022-05-15T17:58:09.371Z"
   },
   {
    "duration": 174,
    "start_time": "2022-05-15T17:58:09.567Z"
   },
   {
    "duration": 194,
    "start_time": "2022-05-15T17:58:09.743Z"
   },
   {
    "duration": 181,
    "start_time": "2022-05-15T17:58:09.939Z"
   },
   {
    "duration": 183,
    "start_time": "2022-05-15T17:58:10.122Z"
   },
   {
    "duration": 21,
    "start_time": "2022-05-15T17:58:57.068Z"
   },
   {
    "duration": 10,
    "start_time": "2022-05-15T17:59:06.656Z"
   },
   {
    "duration": 120,
    "start_time": "2022-05-15T18:03:55.707Z"
   },
   {
    "duration": 32,
    "start_time": "2022-05-15T18:03:55.830Z"
   },
   {
    "duration": 16,
    "start_time": "2022-05-15T18:03:55.865Z"
   },
   {
    "duration": 111,
    "start_time": "2022-05-15T18:03:55.883Z"
   },
   {
    "duration": 28,
    "start_time": "2022-05-15T18:03:55.996Z"
   },
   {
    "duration": 43,
    "start_time": "2022-05-15T18:03:56.026Z"
   },
   {
    "duration": 53,
    "start_time": "2022-05-15T18:03:56.071Z"
   },
   {
    "duration": 12,
    "start_time": "2022-05-15T18:03:56.126Z"
   },
   {
    "duration": 11,
    "start_time": "2022-05-15T18:03:56.140Z"
   },
   {
    "duration": 9,
    "start_time": "2022-05-15T18:03:56.154Z"
   },
   {
    "duration": 19,
    "start_time": "2022-05-15T18:03:56.166Z"
   },
   {
    "duration": 51,
    "start_time": "2022-05-15T18:03:56.187Z"
   },
   {
    "duration": 340,
    "start_time": "2022-05-15T18:03:56.240Z"
   },
   {
    "duration": 203,
    "start_time": "2022-05-15T18:03:56.583Z"
   },
   {
    "duration": 123,
    "start_time": "2022-05-15T18:04:02.549Z"
   },
   {
    "duration": 11,
    "start_time": "2022-05-15T18:04:13.368Z"
   },
   {
    "duration": 98,
    "start_time": "2022-05-15T18:04:33.716Z"
   },
   {
    "duration": 40,
    "start_time": "2022-05-15T18:04:33.816Z"
   },
   {
    "duration": 28,
    "start_time": "2022-05-15T18:04:33.858Z"
   },
   {
    "duration": 207,
    "start_time": "2022-05-15T18:04:33.889Z"
   },
   {
    "duration": 40,
    "start_time": "2022-05-15T18:04:34.098Z"
   },
   {
    "duration": 42,
    "start_time": "2022-05-15T18:04:34.141Z"
   },
   {
    "duration": 51,
    "start_time": "2022-05-15T18:04:34.185Z"
   },
   {
    "duration": 12,
    "start_time": "2022-05-15T18:04:34.239Z"
   },
   {
    "duration": 35,
    "start_time": "2022-05-15T18:04:34.254Z"
   },
   {
    "duration": 32,
    "start_time": "2022-05-15T18:04:34.292Z"
   },
   {
    "duration": 33,
    "start_time": "2022-05-15T18:04:34.326Z"
   },
   {
    "duration": 45,
    "start_time": "2022-05-15T18:04:34.361Z"
   },
   {
    "duration": 308,
    "start_time": "2022-05-15T18:04:34.409Z"
   },
   {
    "duration": 189,
    "start_time": "2022-05-15T18:04:34.719Z"
   },
   {
    "duration": 6,
    "start_time": "2022-05-15T18:04:38.135Z"
   },
   {
    "duration": 9,
    "start_time": "2022-05-15T18:05:53.576Z"
   },
   {
    "duration": 1684,
    "start_time": "2022-05-15T18:07:54.507Z"
   },
   {
    "duration": 45,
    "start_time": "2022-05-15T18:07:56.194Z"
   },
   {
    "duration": 23,
    "start_time": "2022-05-15T18:07:56.241Z"
   },
   {
    "duration": 100,
    "start_time": "2022-05-15T18:07:56.265Z"
   },
   {
    "duration": 24,
    "start_time": "2022-05-15T18:07:56.368Z"
   },
   {
    "duration": 60,
    "start_time": "2022-05-15T18:07:56.395Z"
   },
   {
    "duration": 30,
    "start_time": "2022-05-15T18:07:56.457Z"
   },
   {
    "duration": 17,
    "start_time": "2022-05-15T18:07:56.490Z"
   },
   {
    "duration": 21,
    "start_time": "2022-05-15T18:07:56.510Z"
   },
   {
    "duration": 18,
    "start_time": "2022-05-15T18:07:56.536Z"
   },
   {
    "duration": 31,
    "start_time": "2022-05-15T18:07:56.556Z"
   },
   {
    "duration": 15,
    "start_time": "2022-05-15T18:07:56.589Z"
   },
   {
    "duration": 285,
    "start_time": "2022-05-15T18:07:56.606Z"
   },
   {
    "duration": 200,
    "start_time": "2022-05-15T18:07:56.894Z"
   },
   {
    "duration": 14,
    "start_time": "2022-05-15T18:07:57.096Z"
   },
   {
    "duration": 27,
    "start_time": "2022-05-15T18:07:57.112Z"
   },
   {
    "duration": 16,
    "start_time": "2022-05-15T18:07:57.142Z"
   },
   {
    "duration": 19,
    "start_time": "2022-05-15T18:07:57.160Z"
   },
   {
    "duration": 54,
    "start_time": "2022-05-15T18:07:57.181Z"
   },
   {
    "duration": 46,
    "start_time": "2022-05-15T18:07:57.237Z"
   },
   {
    "duration": 440,
    "start_time": "2022-05-15T18:07:57.285Z"
   },
   {
    "duration": 34,
    "start_time": "2022-05-15T18:07:57.727Z"
   },
   {
    "duration": 310,
    "start_time": "2022-05-15T18:07:57.763Z"
   },
   {
    "duration": 113,
    "start_time": "2022-05-15T18:07:58.075Z"
   },
   {
    "duration": 4,
    "start_time": "2022-05-15T18:07:58.190Z"
   },
   {
    "duration": 34,
    "start_time": "2022-05-15T18:07:58.196Z"
   },
   {
    "duration": 20,
    "start_time": "2022-05-15T18:07:58.232Z"
   },
   {
    "duration": 399,
    "start_time": "2022-05-15T18:07:58.254Z"
   },
   {
    "duration": 10,
    "start_time": "2022-05-15T18:07:58.655Z"
   },
   {
    "duration": 16,
    "start_time": "2022-05-15T18:07:58.667Z"
   },
   {
    "duration": 308,
    "start_time": "2022-05-15T18:07:58.686Z"
   },
   {
    "duration": 9,
    "start_time": "2022-05-15T18:07:58.996Z"
   },
   {
    "duration": 23,
    "start_time": "2022-05-15T18:07:59.024Z"
   },
   {
    "duration": 390,
    "start_time": "2022-05-15T18:07:59.049Z"
   },
   {
    "duration": 12,
    "start_time": "2022-05-15T18:07:59.441Z"
   },
   {
    "duration": 12,
    "start_time": "2022-05-15T18:07:59.456Z"
   },
   {
    "duration": 10,
    "start_time": "2022-05-15T18:07:59.470Z"
   },
   {
    "duration": 189,
    "start_time": "2022-05-15T18:07:59.483Z"
   },
   {
    "duration": 498,
    "start_time": "2022-05-15T18:07:59.674Z"
   },
   {
    "duration": 193,
    "start_time": "2022-05-15T18:08:00.175Z"
   },
   {
    "duration": 207,
    "start_time": "2022-05-15T18:08:00.372Z"
   },
   {
    "duration": 197,
    "start_time": "2022-05-15T18:08:00.581Z"
   },
   {
    "duration": 175,
    "start_time": "2022-05-15T18:08:00.780Z"
   },
   {
    "duration": 226,
    "start_time": "2022-05-15T18:08:00.957Z"
   },
   {
    "duration": 306,
    "start_time": "2022-05-15T18:08:01.185Z"
   },
   {
    "duration": 198,
    "start_time": "2022-05-15T18:08:01.493Z"
   },
   {
    "duration": 196,
    "start_time": "2022-05-15T18:08:01.693Z"
   },
   {
    "duration": 55,
    "start_time": "2022-05-15T18:08:01.892Z"
   },
   {
    "duration": 476,
    "start_time": "2022-05-15T18:08:01.950Z"
   },
   {
    "duration": 17,
    "start_time": "2022-05-15T18:08:02.428Z"
   },
   {
    "duration": 201,
    "start_time": "2022-05-15T18:08:02.447Z"
   },
   {
    "duration": 216,
    "start_time": "2022-05-15T18:08:02.651Z"
   },
   {
    "duration": 288,
    "start_time": "2022-05-15T18:08:02.869Z"
   },
   {
    "duration": 665,
    "start_time": "2022-05-15T18:08:03.159Z"
   },
   {
    "duration": 414,
    "start_time": "2022-05-15T18:08:03.827Z"
   },
   {
    "duration": 392,
    "start_time": "2022-05-15T18:08:04.244Z"
   },
   {
    "duration": 389,
    "start_time": "2022-05-15T18:08:04.639Z"
   },
   {
    "duration": 89,
    "start_time": "2022-05-15T18:11:07.048Z"
   },
   {
    "duration": 26,
    "start_time": "2022-05-15T18:11:07.139Z"
   },
   {
    "duration": 21,
    "start_time": "2022-05-15T18:11:07.167Z"
   },
   {
    "duration": 97,
    "start_time": "2022-05-15T18:11:07.191Z"
   },
   {
    "duration": 35,
    "start_time": "2022-05-15T18:11:07.290Z"
   },
   {
    "duration": 38,
    "start_time": "2022-05-15T18:11:07.327Z"
   },
   {
    "duration": 55,
    "start_time": "2022-05-15T18:11:07.368Z"
   },
   {
    "duration": 9,
    "start_time": "2022-05-15T18:11:07.426Z"
   },
   {
    "duration": 8,
    "start_time": "2022-05-15T18:11:07.437Z"
   },
   {
    "duration": 6,
    "start_time": "2022-05-15T18:11:07.448Z"
   },
   {
    "duration": 14,
    "start_time": "2022-05-15T18:11:07.456Z"
   },
   {
    "duration": 52,
    "start_time": "2022-05-15T18:11:07.472Z"
   },
   {
    "duration": 278,
    "start_time": "2022-05-15T18:11:07.526Z"
   },
   {
    "duration": 248,
    "start_time": "2022-05-15T18:11:07.806Z"
   },
   {
    "duration": 12,
    "start_time": "2022-05-15T18:11:08.056Z"
   },
   {
    "duration": 17,
    "start_time": "2022-05-15T18:11:08.070Z"
   },
   {
    "duration": 38,
    "start_time": "2022-05-15T18:11:08.088Z"
   },
   {
    "duration": 13,
    "start_time": "2022-05-15T18:11:08.128Z"
   },
   {
    "duration": 23,
    "start_time": "2022-05-15T18:11:08.144Z"
   },
   {
    "duration": 70,
    "start_time": "2022-05-15T18:11:08.169Z"
   },
   {
    "duration": 484,
    "start_time": "2022-05-15T18:11:08.241Z"
   },
   {
    "duration": 25,
    "start_time": "2022-05-15T18:11:08.727Z"
   },
   {
    "duration": 292,
    "start_time": "2022-05-15T18:11:08.754Z"
   },
   {
    "duration": 120,
    "start_time": "2022-05-15T18:11:09.048Z"
   },
   {
    "duration": 5,
    "start_time": "2022-05-15T18:11:09.170Z"
   },
   {
    "duration": 20,
    "start_time": "2022-05-15T18:11:09.176Z"
   },
   {
    "duration": 32,
    "start_time": "2022-05-15T18:11:09.199Z"
   },
   {
    "duration": 275,
    "start_time": "2022-05-15T18:11:09.234Z"
   },
   {
    "duration": 13,
    "start_time": "2022-05-15T18:11:09.511Z"
   },
   {
    "duration": 18,
    "start_time": "2022-05-15T18:11:09.526Z"
   },
   {
    "duration": 226,
    "start_time": "2022-05-15T18:11:09.546Z"
   },
   {
    "duration": 10,
    "start_time": "2022-05-15T18:11:09.774Z"
   },
   {
    "duration": 30,
    "start_time": "2022-05-15T18:11:09.786Z"
   },
   {
    "duration": 353,
    "start_time": "2022-05-15T18:11:09.823Z"
   },
   {
    "duration": 10,
    "start_time": "2022-05-15T18:11:10.178Z"
   },
   {
    "duration": 14,
    "start_time": "2022-05-15T18:11:15.600Z"
   },
   {
    "duration": 1434,
    "start_time": "2022-05-15T18:12:30.800Z"
   },
   {
    "duration": 30,
    "start_time": "2022-05-15T18:12:32.240Z"
   },
   {
    "duration": 15,
    "start_time": "2022-05-15T18:12:32.272Z"
   },
   {
    "duration": 104,
    "start_time": "2022-05-15T18:12:32.290Z"
   },
   {
    "duration": 22,
    "start_time": "2022-05-15T18:12:32.395Z"
   },
   {
    "duration": 46,
    "start_time": "2022-05-15T18:12:32.422Z"
   },
   {
    "duration": 28,
    "start_time": "2022-05-15T18:12:32.469Z"
   },
   {
    "duration": 32,
    "start_time": "2022-05-15T18:12:32.499Z"
   },
   {
    "duration": 12,
    "start_time": "2022-05-15T18:12:32.533Z"
   },
   {
    "duration": 8,
    "start_time": "2022-05-15T18:12:32.548Z"
   },
   {
    "duration": 18,
    "start_time": "2022-05-15T18:12:32.558Z"
   },
   {
    "duration": 46,
    "start_time": "2022-05-15T18:12:32.578Z"
   },
   {
    "duration": 298,
    "start_time": "2022-05-15T18:12:32.627Z"
   },
   {
    "duration": 190,
    "start_time": "2022-05-15T18:12:32.930Z"
   },
   {
    "duration": 14,
    "start_time": "2022-05-15T18:12:33.126Z"
   },
   {
    "duration": 12,
    "start_time": "2022-05-15T18:12:33.143Z"
   },
   {
    "duration": 6,
    "start_time": "2022-05-15T18:12:33.156Z"
   },
   {
    "duration": 20,
    "start_time": "2022-05-15T18:12:33.164Z"
   },
   {
    "duration": 64,
    "start_time": "2022-05-15T18:12:33.186Z"
   },
   {
    "duration": 31,
    "start_time": "2022-05-15T18:12:33.252Z"
   },
   {
    "duration": 415,
    "start_time": "2022-05-15T18:12:33.285Z"
   },
   {
    "duration": 37,
    "start_time": "2022-05-15T18:12:33.701Z"
   },
   {
    "duration": 275,
    "start_time": "2022-05-15T18:12:33.740Z"
   },
   {
    "duration": 128,
    "start_time": "2022-05-15T18:12:34.017Z"
   },
   {
    "duration": 4,
    "start_time": "2022-05-15T18:12:34.147Z"
   },
   {
    "duration": 22,
    "start_time": "2022-05-15T18:12:34.153Z"
   },
   {
    "duration": 22,
    "start_time": "2022-05-15T18:12:34.177Z"
   },
   {
    "duration": 378,
    "start_time": "2022-05-15T18:12:34.204Z"
   },
   {
    "duration": 8,
    "start_time": "2022-05-15T18:12:34.584Z"
   },
   {
    "duration": 30,
    "start_time": "2022-05-15T18:12:34.594Z"
   },
   {
    "duration": 241,
    "start_time": "2022-05-15T18:12:34.626Z"
   },
   {
    "duration": 9,
    "start_time": "2022-05-15T18:12:34.868Z"
   },
   {
    "duration": 18,
    "start_time": "2022-05-15T18:12:34.879Z"
   },
   {
    "duration": 307,
    "start_time": "2022-05-15T18:12:34.899Z"
   },
   {
    "duration": 20,
    "start_time": "2022-05-15T18:12:35.208Z"
   },
   {
    "duration": 14,
    "start_time": "2022-05-15T18:12:35.230Z"
   },
   {
    "duration": 17,
    "start_time": "2022-05-15T18:12:35.246Z"
   },
   {
    "duration": 128,
    "start_time": "2022-05-15T18:12:35.264Z"
   },
   {
    "duration": 259,
    "start_time": "2022-05-15T18:12:35.393Z"
   },
   {
    "duration": 171,
    "start_time": "2022-05-15T18:12:35.654Z"
   },
   {
    "duration": 186,
    "start_time": "2022-05-15T18:12:35.828Z"
   },
   {
    "duration": 196,
    "start_time": "2022-05-15T18:12:36.015Z"
   },
   {
    "duration": 165,
    "start_time": "2022-05-15T18:12:36.212Z"
   },
   {
    "duration": 281,
    "start_time": "2022-05-15T18:12:36.379Z"
   },
   {
    "duration": 351,
    "start_time": "2022-05-15T18:12:36.662Z"
   },
   {
    "duration": 227,
    "start_time": "2022-05-15T18:12:37.022Z"
   },
   {
    "duration": 389,
    "start_time": "2022-05-15T18:12:37.251Z"
   },
   {
    "duration": 83,
    "start_time": "2022-05-15T18:12:37.642Z"
   },
   {
    "duration": 1000,
    "start_time": "2022-05-15T18:12:37.727Z"
   },
   {
    "duration": 13,
    "start_time": "2022-05-15T18:12:38.731Z"
   },
   {
    "duration": 378,
    "start_time": "2022-05-15T18:12:38.751Z"
   },
   {
    "duration": 417,
    "start_time": "2022-05-15T18:12:39.131Z"
   },
   {
    "duration": 414,
    "start_time": "2022-05-15T18:12:39.551Z"
   },
   {
    "duration": 190,
    "start_time": "2022-05-15T18:12:39.967Z"
   },
   {
    "duration": 198,
    "start_time": "2022-05-15T18:12:40.158Z"
   },
   {
    "duration": 192,
    "start_time": "2022-05-15T18:12:40.358Z"
   },
   {
    "duration": 167,
    "start_time": "2022-05-15T18:12:40.551Z"
   },
   {
    "duration": 131,
    "start_time": "2022-05-15T18:14:23.781Z"
   },
   {
    "duration": 46,
    "start_time": "2022-05-15T18:14:23.915Z"
   },
   {
    "duration": 23,
    "start_time": "2022-05-15T18:14:23.963Z"
   },
   {
    "duration": 131,
    "start_time": "2022-05-15T18:14:23.989Z"
   },
   {
    "duration": 36,
    "start_time": "2022-05-15T18:14:24.123Z"
   },
   {
    "duration": 38,
    "start_time": "2022-05-15T18:14:24.161Z"
   },
   {
    "duration": 62,
    "start_time": "2022-05-15T18:14:24.201Z"
   },
   {
    "duration": 8,
    "start_time": "2022-05-15T18:14:24.265Z"
   },
   {
    "duration": 22,
    "start_time": "2022-05-15T18:14:24.275Z"
   },
   {
    "duration": 24,
    "start_time": "2022-05-15T18:14:24.300Z"
   },
   {
    "duration": 22,
    "start_time": "2022-05-15T18:14:24.327Z"
   },
   {
    "duration": 14,
    "start_time": "2022-05-15T18:14:24.352Z"
   },
   {
    "duration": 406,
    "start_time": "2022-05-15T18:14:24.368Z"
   },
   {
    "duration": 246,
    "start_time": "2022-05-15T18:14:24.777Z"
   },
   {
    "duration": 12,
    "start_time": "2022-05-15T18:14:25.026Z"
   },
   {
    "duration": 17,
    "start_time": "2022-05-15T18:14:25.041Z"
   },
   {
    "duration": 17,
    "start_time": "2022-05-15T18:14:25.061Z"
   },
   {
    "duration": 44,
    "start_time": "2022-05-15T18:14:25.080Z"
   },
   {
    "duration": 37,
    "start_time": "2022-05-15T18:14:25.127Z"
   },
   {
    "duration": 62,
    "start_time": "2022-05-15T18:14:25.166Z"
   },
   {
    "duration": 523,
    "start_time": "2022-05-15T18:14:25.230Z"
   },
   {
    "duration": 40,
    "start_time": "2022-05-15T18:14:25.756Z"
   },
   {
    "duration": 362,
    "start_time": "2022-05-15T18:14:25.798Z"
   },
   {
    "duration": 132,
    "start_time": "2022-05-15T18:14:26.162Z"
   },
   {
    "duration": 6,
    "start_time": "2022-05-15T18:14:26.296Z"
   },
   {
    "duration": 11,
    "start_time": "2022-05-15T18:14:26.304Z"
   },
   {
    "duration": 46,
    "start_time": "2022-05-15T18:14:26.324Z"
   },
   {
    "duration": 297,
    "start_time": "2022-05-15T18:14:26.375Z"
   },
   {
    "duration": 9,
    "start_time": "2022-05-15T18:14:26.674Z"
   },
   {
    "duration": 14,
    "start_time": "2022-05-15T18:14:26.686Z"
   },
   {
    "duration": 236,
    "start_time": "2022-05-15T18:14:26.723Z"
   },
   {
    "duration": 10,
    "start_time": "2022-05-15T18:14:26.961Z"
   },
   {
    "duration": 12,
    "start_time": "2022-05-15T18:14:26.972Z"
   },
   {
    "duration": 270,
    "start_time": "2022-05-15T18:14:26.986Z"
   },
   {
    "duration": 9,
    "start_time": "2022-05-15T18:14:27.259Z"
   },
   {
    "duration": 11,
    "start_time": "2022-05-15T18:14:30.847Z"
   },
   {
    "duration": 153,
    "start_time": "2022-05-15T18:15:09.432Z"
   },
   {
    "duration": 63,
    "start_time": "2022-05-15T18:15:09.588Z"
   },
   {
    "duration": 23,
    "start_time": "2022-05-15T18:15:09.655Z"
   },
   {
    "duration": 126,
    "start_time": "2022-05-15T18:15:09.681Z"
   },
   {
    "duration": 33,
    "start_time": "2022-05-15T18:15:09.809Z"
   },
   {
    "duration": 85,
    "start_time": "2022-05-15T18:15:09.845Z"
   },
   {
    "duration": 37,
    "start_time": "2022-05-15T18:15:09.933Z"
   },
   {
    "duration": 10,
    "start_time": "2022-05-15T18:15:09.972Z"
   },
   {
    "duration": 8,
    "start_time": "2022-05-15T18:15:09.984Z"
   },
   {
    "duration": 11,
    "start_time": "2022-05-15T18:15:10.040Z"
   },
   {
    "duration": 18,
    "start_time": "2022-05-15T18:15:10.053Z"
   },
   {
    "duration": 17,
    "start_time": "2022-05-15T18:15:10.074Z"
   },
   {
    "duration": 355,
    "start_time": "2022-05-15T18:15:10.093Z"
   },
   {
    "duration": 240,
    "start_time": "2022-05-15T18:15:10.450Z"
   },
   {
    "duration": 15,
    "start_time": "2022-05-15T18:15:10.692Z"
   },
   {
    "duration": 23,
    "start_time": "2022-05-15T18:15:10.709Z"
   },
   {
    "duration": 11,
    "start_time": "2022-05-15T18:15:10.735Z"
   },
   {
    "duration": 21,
    "start_time": "2022-05-15T18:15:10.748Z"
   },
   {
    "duration": 67,
    "start_time": "2022-05-15T18:15:10.771Z"
   },
   {
    "duration": 46,
    "start_time": "2022-05-15T18:15:10.840Z"
   },
   {
    "duration": 738,
    "start_time": "2022-05-15T18:15:10.888Z"
   },
   {
    "duration": 37,
    "start_time": "2022-05-15T18:15:11.629Z"
   },
   {
    "duration": 384,
    "start_time": "2022-05-15T18:15:11.668Z"
   },
   {
    "duration": 132,
    "start_time": "2022-05-15T18:15:12.054Z"
   },
   {
    "duration": 5,
    "start_time": "2022-05-15T18:15:12.188Z"
   },
   {
    "duration": 27,
    "start_time": "2022-05-15T18:15:12.195Z"
   },
   {
    "duration": 23,
    "start_time": "2022-05-15T18:15:12.226Z"
   },
   {
    "duration": 411,
    "start_time": "2022-05-15T18:15:12.256Z"
   },
   {
    "duration": 10,
    "start_time": "2022-05-15T18:15:12.669Z"
   },
   {
    "duration": 27,
    "start_time": "2022-05-15T18:15:12.681Z"
   },
   {
    "duration": 291,
    "start_time": "2022-05-15T18:15:12.710Z"
   },
   {
    "duration": 24,
    "start_time": "2022-05-15T18:15:13.003Z"
   },
   {
    "duration": 18,
    "start_time": "2022-05-15T18:15:13.029Z"
   },
   {
    "duration": 364,
    "start_time": "2022-05-15T18:15:13.050Z"
   },
   {
    "duration": 20,
    "start_time": "2022-05-15T18:15:13.416Z"
   },
   {
    "duration": 17,
    "start_time": "2022-05-15T18:15:13.440Z"
   },
   {
    "duration": 193,
    "start_time": "2022-05-15T18:17:27.816Z"
   },
   {
    "duration": 431,
    "start_time": "2022-05-15T18:19:11.064Z"
   },
   {
    "duration": 113,
    "start_time": "2022-05-15T18:19:35.874Z"
   },
   {
    "duration": 54,
    "start_time": "2022-05-15T18:19:35.990Z"
   },
   {
    "duration": 16,
    "start_time": "2022-05-15T18:19:36.047Z"
   },
   {
    "duration": 113,
    "start_time": "2022-05-15T18:19:36.066Z"
   },
   {
    "duration": 23,
    "start_time": "2022-05-15T18:19:36.181Z"
   },
   {
    "duration": 56,
    "start_time": "2022-05-15T18:19:36.206Z"
   },
   {
    "duration": 31,
    "start_time": "2022-05-15T18:19:36.264Z"
   },
   {
    "duration": 31,
    "start_time": "2022-05-15T18:19:36.297Z"
   },
   {
    "duration": 9,
    "start_time": "2022-05-15T18:19:36.331Z"
   },
   {
    "duration": 10,
    "start_time": "2022-05-15T18:19:36.344Z"
   },
   {
    "duration": 19,
    "start_time": "2022-05-15T18:19:36.356Z"
   },
   {
    "duration": 59,
    "start_time": "2022-05-15T18:19:36.377Z"
   },
   {
    "duration": 353,
    "start_time": "2022-05-15T18:19:36.439Z"
   },
   {
    "duration": 251,
    "start_time": "2022-05-15T18:19:36.795Z"
   },
   {
    "duration": 11,
    "start_time": "2022-05-15T18:19:37.049Z"
   },
   {
    "duration": 16,
    "start_time": "2022-05-15T18:19:37.063Z"
   },
   {
    "duration": 10,
    "start_time": "2022-05-15T18:19:37.081Z"
   },
   {
    "duration": 52,
    "start_time": "2022-05-15T18:19:37.093Z"
   },
   {
    "duration": 24,
    "start_time": "2022-05-15T18:19:37.148Z"
   },
   {
    "duration": 60,
    "start_time": "2022-05-15T18:19:37.174Z"
   },
   {
    "duration": 598,
    "start_time": "2022-05-15T18:19:37.236Z"
   },
   {
    "duration": 38,
    "start_time": "2022-05-15T18:19:37.837Z"
   },
   {
    "duration": 405,
    "start_time": "2022-05-15T18:19:37.877Z"
   },
   {
    "duration": 150,
    "start_time": "2022-05-15T18:19:38.284Z"
   },
   {
    "duration": 5,
    "start_time": "2022-05-15T18:19:38.436Z"
   },
   {
    "duration": 11,
    "start_time": "2022-05-15T18:19:38.443Z"
   },
   {
    "duration": 16,
    "start_time": "2022-05-15T18:19:38.456Z"
   },
   {
    "duration": 354,
    "start_time": "2022-05-15T18:19:38.476Z"
   },
   {
    "duration": 12,
    "start_time": "2022-05-15T18:19:38.833Z"
   },
   {
    "duration": 15,
    "start_time": "2022-05-15T18:19:38.847Z"
   },
   {
    "duration": 362,
    "start_time": "2022-05-15T18:19:38.864Z"
   },
   {
    "duration": 13,
    "start_time": "2022-05-15T18:19:39.228Z"
   },
   {
    "duration": 13,
    "start_time": "2022-05-15T18:19:39.243Z"
   },
   {
    "duration": 252,
    "start_time": "2022-05-15T18:19:39.258Z"
   },
   {
    "duration": 16,
    "start_time": "2022-05-15T18:19:39.512Z"
   },
   {
    "duration": 17,
    "start_time": "2022-05-15T18:19:39.530Z"
   },
   {
    "duration": 18,
    "start_time": "2022-05-15T18:19:42.127Z"
   },
   {
    "duration": 3009,
    "start_time": "2022-05-15T18:19:46.363Z"
   },
   {
    "duration": 144,
    "start_time": "2022-05-15T18:20:28.433Z"
   },
   {
    "duration": 13,
    "start_time": "2022-05-15T18:20:36.478Z"
   },
   {
    "duration": 334,
    "start_time": "2022-05-15T18:20:42.496Z"
   },
   {
    "duration": 187,
    "start_time": "2022-05-15T18:20:52.347Z"
   },
   {
    "duration": 198,
    "start_time": "2022-05-15T18:21:13.964Z"
   },
   {
    "duration": 190,
    "start_time": "2022-05-15T18:22:05.632Z"
   },
   {
    "duration": 185,
    "start_time": "2022-05-15T18:22:14.386Z"
   },
   {
    "duration": 225,
    "start_time": "2022-05-15T18:22:23.688Z"
   },
   {
    "duration": 174,
    "start_time": "2022-05-15T18:22:44.681Z"
   },
   {
    "duration": 342,
    "start_time": "2022-05-15T18:23:15.267Z"
   },
   {
    "duration": 273,
    "start_time": "2022-05-15T18:24:05.746Z"
   },
   {
    "duration": 29,
    "start_time": "2022-05-15T18:24:34.766Z"
   },
   {
    "duration": 448,
    "start_time": "2022-05-15T18:26:13.854Z"
   },
   {
    "duration": 10,
    "start_time": "2022-05-15T18:26:26.090Z"
   },
   {
    "duration": 154,
    "start_time": "2022-05-15T18:26:29.775Z"
   },
   {
    "duration": 11,
    "start_time": "2022-05-15T18:26:31.749Z"
   },
   {
    "duration": 194,
    "start_time": "2022-05-15T18:26:33.053Z"
   },
   {
    "duration": 254,
    "start_time": "2022-05-15T18:26:49.220Z"
   },
   {
    "duration": 203,
    "start_time": "2022-05-15T18:27:13.705Z"
   },
   {
    "duration": 176,
    "start_time": "2022-05-15T18:27:19.735Z"
   },
   {
    "duration": 242,
    "start_time": "2022-05-15T18:27:39.155Z"
   },
   {
    "duration": 226,
    "start_time": "2022-05-15T18:27:58.377Z"
   },
   {
    "duration": 227,
    "start_time": "2022-05-15T18:28:21.283Z"
   },
   {
    "duration": 1544,
    "start_time": "2022-05-15T18:29:33.236Z"
   },
   {
    "duration": 40,
    "start_time": "2022-05-15T18:29:34.782Z"
   },
   {
    "duration": 19,
    "start_time": "2022-05-15T18:29:34.824Z"
   },
   {
    "duration": 105,
    "start_time": "2022-05-15T18:29:34.846Z"
   },
   {
    "duration": 25,
    "start_time": "2022-05-15T18:29:34.953Z"
   },
   {
    "duration": 68,
    "start_time": "2022-05-15T18:29:34.980Z"
   },
   {
    "duration": 32,
    "start_time": "2022-05-15T18:29:35.049Z"
   },
   {
    "duration": 11,
    "start_time": "2022-05-15T18:29:35.083Z"
   },
   {
    "duration": 9,
    "start_time": "2022-05-15T18:29:35.124Z"
   },
   {
    "duration": 13,
    "start_time": "2022-05-15T18:29:35.135Z"
   },
   {
    "duration": 27,
    "start_time": "2022-05-15T18:29:35.150Z"
   },
   {
    "duration": 42,
    "start_time": "2022-05-15T18:29:35.179Z"
   },
   {
    "duration": 340,
    "start_time": "2022-05-15T18:29:35.224Z"
   },
   {
    "duration": 331,
    "start_time": "2022-05-15T18:29:35.568Z"
   },
   {
    "duration": 23,
    "start_time": "2022-05-15T18:29:35.902Z"
   },
   {
    "duration": 18,
    "start_time": "2022-05-15T18:29:35.928Z"
   },
   {
    "duration": 9,
    "start_time": "2022-05-15T18:29:35.948Z"
   },
   {
    "duration": 16,
    "start_time": "2022-05-15T18:29:35.959Z"
   },
   {
    "duration": 64,
    "start_time": "2022-05-15T18:29:35.977Z"
   },
   {
    "duration": 31,
    "start_time": "2022-05-15T18:29:36.043Z"
   },
   {
    "duration": 486,
    "start_time": "2022-05-15T18:29:36.077Z"
   },
   {
    "duration": 38,
    "start_time": "2022-05-15T18:29:36.565Z"
   },
   {
    "duration": 422,
    "start_time": "2022-05-15T18:29:36.605Z"
   },
   {
    "duration": 157,
    "start_time": "2022-05-15T18:29:37.030Z"
   },
   {
    "duration": 5,
    "start_time": "2022-05-15T18:29:37.190Z"
   },
   {
    "duration": 25,
    "start_time": "2022-05-15T18:29:37.197Z"
   },
   {
    "duration": 17,
    "start_time": "2022-05-15T18:29:37.224Z"
   },
   {
    "duration": 383,
    "start_time": "2022-05-15T18:29:37.243Z"
   },
   {
    "duration": 12,
    "start_time": "2022-05-15T18:29:37.628Z"
   },
   {
    "duration": 12,
    "start_time": "2022-05-15T18:29:37.642Z"
   },
   {
    "duration": 242,
    "start_time": "2022-05-15T18:29:37.655Z"
   },
   {
    "duration": 8,
    "start_time": "2022-05-15T18:29:37.899Z"
   },
   {
    "duration": 33,
    "start_time": "2022-05-15T18:29:37.909Z"
   },
   {
    "duration": 328,
    "start_time": "2022-05-15T18:29:37.945Z"
   },
   {
    "duration": 10,
    "start_time": "2022-05-15T18:29:38.276Z"
   },
   {
    "duration": 27,
    "start_time": "2022-05-15T18:29:38.288Z"
   },
   {
    "duration": 36,
    "start_time": "2022-05-15T18:29:38.317Z"
   },
   {
    "duration": 141,
    "start_time": "2022-05-15T18:29:38.356Z"
   },
   {
    "duration": 262,
    "start_time": "2022-05-15T18:29:38.499Z"
   },
   {
    "duration": 238,
    "start_time": "2022-05-15T18:29:38.763Z"
   },
   {
    "duration": 230,
    "start_time": "2022-05-15T18:29:39.007Z"
   },
   {
    "duration": 238,
    "start_time": "2022-05-15T18:29:39.239Z"
   },
   {
    "duration": 236,
    "start_time": "2022-05-15T18:29:39.479Z"
   },
   {
    "duration": 257,
    "start_time": "2022-05-15T18:29:39.718Z"
   },
   {
    "duration": 270,
    "start_time": "2022-05-15T18:29:39.977Z"
   },
   {
    "duration": 189,
    "start_time": "2022-05-15T18:29:40.249Z"
   },
   {
    "duration": 286,
    "start_time": "2022-05-15T18:29:40.441Z"
   },
   {
    "duration": 32,
    "start_time": "2022-05-15T18:29:40.729Z"
   },
   {
    "duration": 336,
    "start_time": "2022-05-15T18:29:40.763Z"
   },
   {
    "duration": 9,
    "start_time": "2022-05-15T18:29:41.101Z"
   },
   {
    "duration": 181,
    "start_time": "2022-05-15T18:29:41.112Z"
   },
   {
    "duration": 179,
    "start_time": "2022-05-15T18:29:41.295Z"
   },
   {
    "duration": 183,
    "start_time": "2022-05-15T18:29:41.476Z"
   },
   {
    "duration": 182,
    "start_time": "2022-05-15T18:29:41.661Z"
   },
   {
    "duration": 162,
    "start_time": "2022-05-15T18:29:41.846Z"
   },
   {
    "duration": 171,
    "start_time": "2022-05-15T18:29:42.010Z"
   },
   {
    "duration": 170,
    "start_time": "2022-05-15T18:29:42.183Z"
   },
   {
    "duration": 1770,
    "start_time": "2022-05-15T18:44:05.264Z"
   },
   {
    "duration": 46,
    "start_time": "2022-05-15T18:44:07.037Z"
   },
   {
    "duration": 45,
    "start_time": "2022-05-15T18:44:07.084Z"
   },
   {
    "duration": 72,
    "start_time": "2022-05-15T18:44:07.132Z"
   },
   {
    "duration": 39,
    "start_time": "2022-05-15T18:44:07.206Z"
   },
   {
    "duration": 76,
    "start_time": "2022-05-15T18:44:07.247Z"
   },
   {
    "duration": 43,
    "start_time": "2022-05-15T18:44:07.325Z"
   },
   {
    "duration": 12,
    "start_time": "2022-05-15T18:44:07.370Z"
   },
   {
    "duration": 9,
    "start_time": "2022-05-15T18:44:07.384Z"
   },
   {
    "duration": 9,
    "start_time": "2022-05-15T18:44:07.424Z"
   },
   {
    "duration": 21,
    "start_time": "2022-05-15T18:44:07.435Z"
   },
   {
    "duration": 18,
    "start_time": "2022-05-15T18:44:07.458Z"
   },
   {
    "duration": 446,
    "start_time": "2022-05-15T18:44:07.478Z"
   },
   {
    "duration": 275,
    "start_time": "2022-05-15T18:44:07.926Z"
   },
   {
    "duration": 10,
    "start_time": "2022-05-15T18:44:08.203Z"
   },
   {
    "duration": 13,
    "start_time": "2022-05-15T18:44:08.223Z"
   },
   {
    "duration": 17,
    "start_time": "2022-05-15T18:44:08.238Z"
   },
   {
    "duration": 21,
    "start_time": "2022-05-15T18:44:08.257Z"
   },
   {
    "duration": 58,
    "start_time": "2022-05-15T18:44:08.281Z"
   },
   {
    "duration": 32,
    "start_time": "2022-05-15T18:44:08.341Z"
   },
   {
    "duration": 516,
    "start_time": "2022-05-15T18:44:08.375Z"
   },
   {
    "duration": 34,
    "start_time": "2022-05-15T18:44:08.893Z"
   },
   {
    "duration": 271,
    "start_time": "2022-05-15T18:44:08.929Z"
   },
   {
    "duration": 122,
    "start_time": "2022-05-15T18:44:09.202Z"
   },
   {
    "duration": 8,
    "start_time": "2022-05-15T18:44:09.326Z"
   },
   {
    "duration": 13,
    "start_time": "2022-05-15T18:44:09.336Z"
   },
   {
    "duration": 16,
    "start_time": "2022-05-15T18:44:09.351Z"
   },
   {
    "duration": 481,
    "start_time": "2022-05-15T18:44:09.371Z"
   },
   {
    "duration": 10,
    "start_time": "2022-05-15T18:44:09.855Z"
   },
   {
    "duration": 26,
    "start_time": "2022-05-15T18:44:09.867Z"
   },
   {
    "duration": 331,
    "start_time": "2022-05-15T18:44:09.896Z"
   },
   {
    "duration": 12,
    "start_time": "2022-05-15T18:44:10.230Z"
   },
   {
    "duration": 11,
    "start_time": "2022-05-15T18:44:10.244Z"
   },
   {
    "duration": 248,
    "start_time": "2022-05-15T18:44:10.257Z"
   },
   {
    "duration": 18,
    "start_time": "2022-05-15T18:44:10.507Z"
   },
   {
    "duration": 15,
    "start_time": "2022-05-15T18:44:10.528Z"
   },
   {
    "duration": 10,
    "start_time": "2022-05-15T18:44:10.546Z"
   },
   {
    "duration": 142,
    "start_time": "2022-05-15T18:44:10.558Z"
   },
   {
    "duration": 266,
    "start_time": "2022-05-15T18:44:10.702Z"
   },
   {
    "duration": 194,
    "start_time": "2022-05-15T18:44:10.970Z"
   },
   {
    "duration": 191,
    "start_time": "2022-05-15T18:44:11.166Z"
   },
   {
    "duration": 198,
    "start_time": "2022-05-15T18:44:11.360Z"
   },
   {
    "duration": 234,
    "start_time": "2022-05-15T18:44:11.560Z"
   },
   {
    "duration": 224,
    "start_time": "2022-05-15T18:44:11.796Z"
   },
   {
    "duration": 278,
    "start_time": "2022-05-15T18:44:12.023Z"
   },
   {
    "duration": 207,
    "start_time": "2022-05-15T18:44:12.303Z"
   },
   {
    "duration": 202,
    "start_time": "2022-05-15T18:44:12.512Z"
   },
   {
    "duration": 39,
    "start_time": "2022-05-15T18:44:12.716Z"
   },
   {
    "duration": 471,
    "start_time": "2022-05-15T18:44:12.756Z"
   },
   {
    "duration": 16,
    "start_time": "2022-05-15T18:44:13.230Z"
   },
   {
    "duration": 225,
    "start_time": "2022-05-15T18:44:13.248Z"
   },
   {
    "duration": 206,
    "start_time": "2022-05-15T18:44:13.476Z"
   },
   {
    "duration": 192,
    "start_time": "2022-05-15T18:44:13.684Z"
   },
   {
    "duration": 213,
    "start_time": "2022-05-15T18:44:13.878Z"
   },
   {
    "duration": 180,
    "start_time": "2022-05-15T18:44:14.094Z"
   },
   {
    "duration": 202,
    "start_time": "2022-05-15T18:44:14.276Z"
   },
   {
    "duration": 246,
    "start_time": "2022-05-15T18:44:14.480Z"
   }
  ],
  "kernelspec": {
   "display_name": "Python 3 (ipykernel)",
   "language": "python",
   "name": "python3"
  },
  "language_info": {
   "codemirror_mode": {
    "name": "ipython",
    "version": 3
   },
   "file_extension": ".py",
   "mimetype": "text/x-python",
   "name": "python",
   "nbconvert_exporter": "python",
   "pygments_lexer": "ipython3",
   "version": "3.10.1"
  },
  "toc": {
   "base_numbering": 1,
   "nav_menu": {
    "height": "218px",
    "width": "240px"
   },
   "number_sections": true,
   "sideBar": true,
   "skip_h1_title": true,
   "title_cell": "Содержание",
   "title_sidebar": "Contents",
   "toc_cell": true,
   "toc_position": {
    "height": "calc(100% - 180px)",
    "left": "10px",
    "top": "150px",
    "width": "336px"
   },
   "toc_section_display": true,
   "toc_window_display": true
  }
 },
 "nbformat": 4,
 "nbformat_minor": 4
}
