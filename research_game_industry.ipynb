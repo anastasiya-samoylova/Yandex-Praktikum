{
 "cells": [
  {
   "cell_type": "markdown",
   "metadata": {},
   "source": [
    "# Исследование продаж компьютерных игр"
   ]
  },
  {
   "cell_type": "markdown",
   "metadata": {},
   "source": [
    "Описание проекта:\n",
    "Из открытых источников доступны исторические данные о продажах игр, оценки пользователей и экспертов, жанры и платформы (например, Xbox или PlayStation). Необходимо выявить определяющие успешность игры закономерности. Это позволит сделать ставку на потенциально популярный продукт и спланировать рекламные кампании.Перед нами данные до 2016 года. Нужно отработать принцип работы с данными.\n",
    "\n",
    "В данном иследование я проверю данные на ошибки и исправлю их при необходимости, затем проведу статистические исследования и выявлю характерные признаки поведения пользователей, в завершающей части проверю несколько гипотез о равенстве признаков."
   ]
  },
  {
   "cell_type": "markdown",
   "metadata": {},
   "source": [
    "## Изучение исходных данных"
   ]
  },
  {
   "cell_type": "code",
   "execution_count": 1,
   "metadata": {},
   "outputs": [],
   "source": [
    "#Импортируем необходимые для проекта библиотеки\n",
    "import pandas as pd\n",
    "import numpy as np\n",
    "import matplotlib.pyplot as plt\n",
    "import seaborn as sns\n",
    "from scipy.stats import ttest_ind"
   ]
  },
  {
   "cell_type": "code",
   "execution_count": 2,
   "metadata": {},
   "outputs": [],
   "source": [
    "#Установим по умолчанию следующий стиль графиков:\n",
    "plt.style.use ('seaborn-bright')"
   ]
  },
  {
   "cell_type": "code",
   "execution_count": 3,
   "metadata": {},
   "outputs": [
    {
     "data": {
      "text/html": [
       "<div>\n",
       "<style scoped>\n",
       "    .dataframe tbody tr th:only-of-type {\n",
       "        vertical-align: middle;\n",
       "    }\n",
       "\n",
       "    .dataframe tbody tr th {\n",
       "        vertical-align: top;\n",
       "    }\n",
       "\n",
       "    .dataframe thead th {\n",
       "        text-align: right;\n",
       "    }\n",
       "</style>\n",
       "<table border=\"1\" class=\"dataframe\">\n",
       "  <thead>\n",
       "    <tr style=\"text-align: right;\">\n",
       "      <th></th>\n",
       "      <th>Name</th>\n",
       "      <th>Platform</th>\n",
       "      <th>Year_of_Release</th>\n",
       "      <th>Genre</th>\n",
       "      <th>NA_sales</th>\n",
       "      <th>EU_sales</th>\n",
       "      <th>JP_sales</th>\n",
       "      <th>Other_sales</th>\n",
       "      <th>Critic_Score</th>\n",
       "      <th>User_Score</th>\n",
       "      <th>Rating</th>\n",
       "    </tr>\n",
       "  </thead>\n",
       "  <tbody>\n",
       "    <tr>\n",
       "      <th>0</th>\n",
       "      <td>Wii Sports</td>\n",
       "      <td>Wii</td>\n",
       "      <td>2006.0</td>\n",
       "      <td>Sports</td>\n",
       "      <td>41.36</td>\n",
       "      <td>28.96</td>\n",
       "      <td>3.77</td>\n",
       "      <td>8.45</td>\n",
       "      <td>76.0</td>\n",
       "      <td>8</td>\n",
       "      <td>E</td>\n",
       "    </tr>\n",
       "    <tr>\n",
       "      <th>1</th>\n",
       "      <td>Super Mario Bros.</td>\n",
       "      <td>NES</td>\n",
       "      <td>1985.0</td>\n",
       "      <td>Platform</td>\n",
       "      <td>29.08</td>\n",
       "      <td>3.58</td>\n",
       "      <td>6.81</td>\n",
       "      <td>0.77</td>\n",
       "      <td>NaN</td>\n",
       "      <td>NaN</td>\n",
       "      <td>NaN</td>\n",
       "    </tr>\n",
       "    <tr>\n",
       "      <th>2</th>\n",
       "      <td>Mario Kart Wii</td>\n",
       "      <td>Wii</td>\n",
       "      <td>2008.0</td>\n",
       "      <td>Racing</td>\n",
       "      <td>15.68</td>\n",
       "      <td>12.76</td>\n",
       "      <td>3.79</td>\n",
       "      <td>3.29</td>\n",
       "      <td>82.0</td>\n",
       "      <td>8.3</td>\n",
       "      <td>E</td>\n",
       "    </tr>\n",
       "    <tr>\n",
       "      <th>3</th>\n",
       "      <td>Wii Sports Resort</td>\n",
       "      <td>Wii</td>\n",
       "      <td>2009.0</td>\n",
       "      <td>Sports</td>\n",
       "      <td>15.61</td>\n",
       "      <td>10.93</td>\n",
       "      <td>3.28</td>\n",
       "      <td>2.95</td>\n",
       "      <td>80.0</td>\n",
       "      <td>8</td>\n",
       "      <td>E</td>\n",
       "    </tr>\n",
       "    <tr>\n",
       "      <th>4</th>\n",
       "      <td>Pokemon Red/Pokemon Blue</td>\n",
       "      <td>GB</td>\n",
       "      <td>1996.0</td>\n",
       "      <td>Role-Playing</td>\n",
       "      <td>11.27</td>\n",
       "      <td>8.89</td>\n",
       "      <td>10.22</td>\n",
       "      <td>1.00</td>\n",
       "      <td>NaN</td>\n",
       "      <td>NaN</td>\n",
       "      <td>NaN</td>\n",
       "    </tr>\n",
       "    <tr>\n",
       "      <th>5</th>\n",
       "      <td>Tetris</td>\n",
       "      <td>GB</td>\n",
       "      <td>1989.0</td>\n",
       "      <td>Puzzle</td>\n",
       "      <td>23.20</td>\n",
       "      <td>2.26</td>\n",
       "      <td>4.22</td>\n",
       "      <td>0.58</td>\n",
       "      <td>NaN</td>\n",
       "      <td>NaN</td>\n",
       "      <td>NaN</td>\n",
       "    </tr>\n",
       "    <tr>\n",
       "      <th>6</th>\n",
       "      <td>New Super Mario Bros.</td>\n",
       "      <td>DS</td>\n",
       "      <td>2006.0</td>\n",
       "      <td>Platform</td>\n",
       "      <td>11.28</td>\n",
       "      <td>9.14</td>\n",
       "      <td>6.50</td>\n",
       "      <td>2.88</td>\n",
       "      <td>89.0</td>\n",
       "      <td>8.5</td>\n",
       "      <td>E</td>\n",
       "    </tr>\n",
       "    <tr>\n",
       "      <th>7</th>\n",
       "      <td>Wii Play</td>\n",
       "      <td>Wii</td>\n",
       "      <td>2006.0</td>\n",
       "      <td>Misc</td>\n",
       "      <td>13.96</td>\n",
       "      <td>9.18</td>\n",
       "      <td>2.93</td>\n",
       "      <td>2.84</td>\n",
       "      <td>58.0</td>\n",
       "      <td>6.6</td>\n",
       "      <td>E</td>\n",
       "    </tr>\n",
       "    <tr>\n",
       "      <th>8</th>\n",
       "      <td>New Super Mario Bros. Wii</td>\n",
       "      <td>Wii</td>\n",
       "      <td>2009.0</td>\n",
       "      <td>Platform</td>\n",
       "      <td>14.44</td>\n",
       "      <td>6.94</td>\n",
       "      <td>4.70</td>\n",
       "      <td>2.24</td>\n",
       "      <td>87.0</td>\n",
       "      <td>8.4</td>\n",
       "      <td>E</td>\n",
       "    </tr>\n",
       "    <tr>\n",
       "      <th>9</th>\n",
       "      <td>Duck Hunt</td>\n",
       "      <td>NES</td>\n",
       "      <td>1984.0</td>\n",
       "      <td>Shooter</td>\n",
       "      <td>26.93</td>\n",
       "      <td>0.63</td>\n",
       "      <td>0.28</td>\n",
       "      <td>0.47</td>\n",
       "      <td>NaN</td>\n",
       "      <td>NaN</td>\n",
       "      <td>NaN</td>\n",
       "    </tr>\n",
       "  </tbody>\n",
       "</table>\n",
       "</div>"
      ],
      "text/plain": [
       "                        Name Platform  Year_of_Release         Genre  \\\n",
       "0                 Wii Sports      Wii           2006.0        Sports   \n",
       "1          Super Mario Bros.      NES           1985.0      Platform   \n",
       "2             Mario Kart Wii      Wii           2008.0        Racing   \n",
       "3          Wii Sports Resort      Wii           2009.0        Sports   \n",
       "4   Pokemon Red/Pokemon Blue       GB           1996.0  Role-Playing   \n",
       "5                     Tetris       GB           1989.0        Puzzle   \n",
       "6      New Super Mario Bros.       DS           2006.0      Platform   \n",
       "7                   Wii Play      Wii           2006.0          Misc   \n",
       "8  New Super Mario Bros. Wii      Wii           2009.0      Platform   \n",
       "9                  Duck Hunt      NES           1984.0       Shooter   \n",
       "\n",
       "   NA_sales  EU_sales  JP_sales  Other_sales  Critic_Score User_Score Rating  \n",
       "0     41.36     28.96      3.77         8.45          76.0          8      E  \n",
       "1     29.08      3.58      6.81         0.77           NaN        NaN    NaN  \n",
       "2     15.68     12.76      3.79         3.29          82.0        8.3      E  \n",
       "3     15.61     10.93      3.28         2.95          80.0          8      E  \n",
       "4     11.27      8.89     10.22         1.00           NaN        NaN    NaN  \n",
       "5     23.20      2.26      4.22         0.58           NaN        NaN    NaN  \n",
       "6     11.28      9.14      6.50         2.88          89.0        8.5      E  \n",
       "7     13.96      9.18      2.93         2.84          58.0        6.6      E  \n",
       "8     14.44      6.94      4.70         2.24          87.0        8.4      E  \n",
       "9     26.93      0.63      0.28         0.47           NaN        NaN    NaN  "
      ]
     },
     "execution_count": 3,
     "metadata": {},
     "output_type": "execute_result"
    }
   ],
   "source": [
    "#Извлечем из источника таблицу с данными, и сохраним в переменную df\n",
    "df = pd.read_csv('/datasets/games.csv')\n",
    "df.head(10)"
   ]
  },
  {
   "cell_type": "code",
   "execution_count": 4,
   "metadata": {},
   "outputs": [
    {
     "name": "stdout",
     "output_type": "stream",
     "text": [
      "<class 'pandas.core.frame.DataFrame'>\n",
      "RangeIndex: 16715 entries, 0 to 16714\n",
      "Data columns (total 11 columns):\n",
      " #   Column           Non-Null Count  Dtype  \n",
      "---  ------           --------------  -----  \n",
      " 0   Name             16713 non-null  object \n",
      " 1   Platform         16715 non-null  object \n",
      " 2   Year_of_Release  16446 non-null  float64\n",
      " 3   Genre            16713 non-null  object \n",
      " 4   NA_sales         16715 non-null  float64\n",
      " 5   EU_sales         16715 non-null  float64\n",
      " 6   JP_sales         16715 non-null  float64\n",
      " 7   Other_sales      16715 non-null  float64\n",
      " 8   Critic_Score     8137 non-null   float64\n",
      " 9   User_Score       10014 non-null  object \n",
      " 10  Rating           9949 non-null   object \n",
      "dtypes: float64(6), object(5)\n",
      "memory usage: 1.4+ MB\n"
     ]
    }
   ],
   "source": [
    "# общая информация о данных в таблице df\n",
    "df.info()"
   ]
  },
  {
   "cell_type": "code",
   "execution_count": 5,
   "metadata": {},
   "outputs": [
    {
     "data": {
      "text/html": [
       "<div>\n",
       "<style scoped>\n",
       "    .dataframe tbody tr th:only-of-type {\n",
       "        vertical-align: middle;\n",
       "    }\n",
       "\n",
       "    .dataframe tbody tr th {\n",
       "        vertical-align: top;\n",
       "    }\n",
       "\n",
       "    .dataframe thead th {\n",
       "        text-align: right;\n",
       "    }\n",
       "</style>\n",
       "<table border=\"1\" class=\"dataframe\">\n",
       "  <thead>\n",
       "    <tr style=\"text-align: right;\">\n",
       "      <th></th>\n",
       "      <th>Year_of_Release</th>\n",
       "      <th>NA_sales</th>\n",
       "      <th>EU_sales</th>\n",
       "      <th>JP_sales</th>\n",
       "      <th>Other_sales</th>\n",
       "      <th>Critic_Score</th>\n",
       "    </tr>\n",
       "  </thead>\n",
       "  <tbody>\n",
       "    <tr>\n",
       "      <th>count</th>\n",
       "      <td>16446.000000</td>\n",
       "      <td>16715.000000</td>\n",
       "      <td>16715.000000</td>\n",
       "      <td>16715.000000</td>\n",
       "      <td>16715.000000</td>\n",
       "      <td>8137.000000</td>\n",
       "    </tr>\n",
       "    <tr>\n",
       "      <th>mean</th>\n",
       "      <td>2006.484616</td>\n",
       "      <td>0.263377</td>\n",
       "      <td>0.145060</td>\n",
       "      <td>0.077617</td>\n",
       "      <td>0.047342</td>\n",
       "      <td>68.967679</td>\n",
       "    </tr>\n",
       "    <tr>\n",
       "      <th>std</th>\n",
       "      <td>5.877050</td>\n",
       "      <td>0.813604</td>\n",
       "      <td>0.503339</td>\n",
       "      <td>0.308853</td>\n",
       "      <td>0.186731</td>\n",
       "      <td>13.938165</td>\n",
       "    </tr>\n",
       "    <tr>\n",
       "      <th>min</th>\n",
       "      <td>1980.000000</td>\n",
       "      <td>0.000000</td>\n",
       "      <td>0.000000</td>\n",
       "      <td>0.000000</td>\n",
       "      <td>0.000000</td>\n",
       "      <td>13.000000</td>\n",
       "    </tr>\n",
       "    <tr>\n",
       "      <th>25%</th>\n",
       "      <td>2003.000000</td>\n",
       "      <td>0.000000</td>\n",
       "      <td>0.000000</td>\n",
       "      <td>0.000000</td>\n",
       "      <td>0.000000</td>\n",
       "      <td>60.000000</td>\n",
       "    </tr>\n",
       "    <tr>\n",
       "      <th>50%</th>\n",
       "      <td>2007.000000</td>\n",
       "      <td>0.080000</td>\n",
       "      <td>0.020000</td>\n",
       "      <td>0.000000</td>\n",
       "      <td>0.010000</td>\n",
       "      <td>71.000000</td>\n",
       "    </tr>\n",
       "    <tr>\n",
       "      <th>75%</th>\n",
       "      <td>2010.000000</td>\n",
       "      <td>0.240000</td>\n",
       "      <td>0.110000</td>\n",
       "      <td>0.040000</td>\n",
       "      <td>0.030000</td>\n",
       "      <td>79.000000</td>\n",
       "    </tr>\n",
       "    <tr>\n",
       "      <th>max</th>\n",
       "      <td>2016.000000</td>\n",
       "      <td>41.360000</td>\n",
       "      <td>28.960000</td>\n",
       "      <td>10.220000</td>\n",
       "      <td>10.570000</td>\n",
       "      <td>98.000000</td>\n",
       "    </tr>\n",
       "  </tbody>\n",
       "</table>\n",
       "</div>"
      ],
      "text/plain": [
       "       Year_of_Release      NA_sales      EU_sales      JP_sales  \\\n",
       "count     16446.000000  16715.000000  16715.000000  16715.000000   \n",
       "mean       2006.484616      0.263377      0.145060      0.077617   \n",
       "std           5.877050      0.813604      0.503339      0.308853   \n",
       "min        1980.000000      0.000000      0.000000      0.000000   \n",
       "25%        2003.000000      0.000000      0.000000      0.000000   \n",
       "50%        2007.000000      0.080000      0.020000      0.000000   \n",
       "75%        2010.000000      0.240000      0.110000      0.040000   \n",
       "max        2016.000000     41.360000     28.960000     10.220000   \n",
       "\n",
       "        Other_sales  Critic_Score  \n",
       "count  16715.000000   8137.000000  \n",
       "mean       0.047342     68.967679  \n",
       "std        0.186731     13.938165  \n",
       "min        0.000000     13.000000  \n",
       "25%        0.000000     60.000000  \n",
       "50%        0.010000     71.000000  \n",
       "75%        0.030000     79.000000  \n",
       "max       10.570000     98.000000  "
      ]
     },
     "execution_count": 5,
     "metadata": {},
     "output_type": "execute_result"
    }
   ],
   "source": [
    "df.describe()"
   ]
  },
  {
   "cell_type": "markdown",
   "metadata": {},
   "source": [
    "В таблице 11 столбцов. Согласно документации к данным:\n",
    "- `Name` — название игры\n",
    "- `Platform` — платформа\n",
    "- `Year_of_Release` — год выпуска\n",
    "- `Genre` — жанр игры\n",
    "- `NA_sales —` продажи в Северной Америке (миллионы проданных копий)\n",
    "- `EU_sales` — продажи в Европе (миллионы проданных копий)\n",
    "- `JP_sales` — продажи в Японии (миллионы проданных копий)\n",
    "- `Other_sales —` продажи в других странах (миллионы проданных копий)\n",
    "- `Critic_Score` — оценка критиков (максимум 100)\n",
    "- `User_Score` — оценка пользователей (максимум 10)\n",
    "- `Rating` — рейтинг от организации `ESRB` (англ. `Entertainment Software Rating Board`).Эта ассоциация определяет рейтинг компьютерных игр и присваивает им подходящую возрастную категорию."
   ]
  },
  {
   "cell_type": "markdown",
   "metadata": {},
   "source": [
    "### Вывод"
   ]
  },
  {
   "cell_type": "markdown",
   "metadata": {},
   "source": [
    "1. В датасете есть пропуски в столбцах:\n",
    "- `Name`;\n",
    "- `Year_of_Release`;\n",
    "- `Critic_Score`;\n",
    "- `User_Score `;\n",
    "- `Rating`;\n",
    "2. Наименования столбцов не соответсвуют \"змениному регистру\", необходимо привести к нижнему регистру.\n",
    "3. Неверный тип данных у года релиза `Year_of_Release` должен быть`int`.\n",
    "4. Неверный тип данных у оценки пользователей  `User_Score` должен быть`float64`.\n"
   ]
  },
  {
   "cell_type": "markdown",
   "metadata": {},
   "source": [
    "## Предобработка данных"
   ]
  },
  {
   "cell_type": "markdown",
   "metadata": {},
   "source": [
    "### Стиль заголовков"
   ]
  },
  {
   "cell_type": "code",
   "execution_count": 6,
   "metadata": {},
   "outputs": [
    {
     "data": {
      "text/plain": [
       "Index(['name', 'platform', 'year_of_release', 'genre', 'na_sales', 'eu_sales',\n",
       "       'jp_sales', 'other_sales', 'critic_score', 'user_score', 'rating'],\n",
       "      dtype='object')"
      ]
     },
     "execution_count": 6,
     "metadata": {},
     "output_type": "execute_result"
    }
   ],
   "source": [
    "df.columns = df.columns.str.lower() # приведем все названия столбцов к нижнему регистру\n",
    "df.columns"
   ]
  },
  {
   "cell_type": "markdown",
   "metadata": {},
   "source": [
    "### Типы данных"
   ]
  },
  {
   "cell_type": "markdown",
   "metadata": {},
   "source": [
    "#### `year_of_releas` "
   ]
  },
  {
   "cell_type": "markdown",
   "metadata": {},
   "source": [
    "Для изменения типа данных у у года релиза `year_of_releas` необходимо сначал заполнить пропуски в этом столбце или удалить строки с пропусками."
   ]
  },
  {
   "cell_type": "code",
   "execution_count": 7,
   "metadata": {},
   "outputs": [
    {
     "data": {
      "text/plain": [
       "name                0.011965\n",
       "platform            0.000000\n",
       "year_of_release     1.609333\n",
       "genre               0.011965\n",
       "na_sales            0.000000\n",
       "eu_sales            0.000000\n",
       "jp_sales            0.000000\n",
       "other_sales         0.000000\n",
       "critic_score       51.319174\n",
       "user_score         40.089740\n",
       "rating             40.478612\n",
       "dtype: float64"
      ]
     },
     "execution_count": 7,
     "metadata": {},
     "output_type": "execute_result"
    }
   ],
   "source": [
    "#посмотрим сколько всего пропусков в каждом столбце в %\n",
    "(df.isna().sum()/df.shape[0])*100"
   ]
  },
  {
   "cell_type": "code",
   "execution_count": 8,
   "metadata": {},
   "outputs": [],
   "source": [
    "#df.dropna(subset = ['year_of_release'], inplace = True)\n",
    "#df['year_of_release'] = df['year_of_release'].astype('int')\n",
    "#df.info()"
   ]
  },
  {
   "cell_type": "code",
   "execution_count": 9,
   "metadata": {},
   "outputs": [
    {
     "data": {
      "text/html": [
       "<div>\n",
       "<style scoped>\n",
       "    .dataframe tbody tr th:only-of-type {\n",
       "        vertical-align: middle;\n",
       "    }\n",
       "\n",
       "    .dataframe tbody tr th {\n",
       "        vertical-align: top;\n",
       "    }\n",
       "\n",
       "    .dataframe thead th {\n",
       "        text-align: right;\n",
       "    }\n",
       "</style>\n",
       "<table border=\"1\" class=\"dataframe\">\n",
       "  <thead>\n",
       "    <tr style=\"text-align: right;\">\n",
       "      <th></th>\n",
       "      <th>name</th>\n",
       "      <th>platform</th>\n",
       "      <th>year_of_release</th>\n",
       "      <th>genre</th>\n",
       "      <th>na_sales</th>\n",
       "      <th>eu_sales</th>\n",
       "      <th>jp_sales</th>\n",
       "      <th>other_sales</th>\n",
       "      <th>critic_score</th>\n",
       "      <th>user_score</th>\n",
       "      <th>rating</th>\n",
       "    </tr>\n",
       "  </thead>\n",
       "  <tbody>\n",
       "    <tr>\n",
       "      <th>183</th>\n",
       "      <td>Madden NFL 2004</td>\n",
       "      <td>PS2</td>\n",
       "      <td>NaN</td>\n",
       "      <td>Sports</td>\n",
       "      <td>4.26</td>\n",
       "      <td>0.26</td>\n",
       "      <td>0.01</td>\n",
       "      <td>0.71</td>\n",
       "      <td>94.0</td>\n",
       "      <td>8.5</td>\n",
       "      <td>E</td>\n",
       "    </tr>\n",
       "    <tr>\n",
       "      <th>377</th>\n",
       "      <td>FIFA Soccer 2004</td>\n",
       "      <td>PS2</td>\n",
       "      <td>NaN</td>\n",
       "      <td>Sports</td>\n",
       "      <td>0.59</td>\n",
       "      <td>2.36</td>\n",
       "      <td>0.04</td>\n",
       "      <td>0.51</td>\n",
       "      <td>84.0</td>\n",
       "      <td>6.4</td>\n",
       "      <td>E</td>\n",
       "    </tr>\n",
       "    <tr>\n",
       "      <th>456</th>\n",
       "      <td>LEGO Batman: The Videogame</td>\n",
       "      <td>Wii</td>\n",
       "      <td>NaN</td>\n",
       "      <td>Action</td>\n",
       "      <td>1.80</td>\n",
       "      <td>0.97</td>\n",
       "      <td>0.00</td>\n",
       "      <td>0.29</td>\n",
       "      <td>74.0</td>\n",
       "      <td>7.9</td>\n",
       "      <td>E10+</td>\n",
       "    </tr>\n",
       "    <tr>\n",
       "      <th>475</th>\n",
       "      <td>wwe Smackdown vs. Raw 2006</td>\n",
       "      <td>PS2</td>\n",
       "      <td>NaN</td>\n",
       "      <td>Fighting</td>\n",
       "      <td>1.57</td>\n",
       "      <td>1.02</td>\n",
       "      <td>0.00</td>\n",
       "      <td>0.41</td>\n",
       "      <td>NaN</td>\n",
       "      <td>NaN</td>\n",
       "      <td>NaN</td>\n",
       "    </tr>\n",
       "    <tr>\n",
       "      <th>609</th>\n",
       "      <td>Space Invaders</td>\n",
       "      <td>2600</td>\n",
       "      <td>NaN</td>\n",
       "      <td>Shooter</td>\n",
       "      <td>2.36</td>\n",
       "      <td>0.14</td>\n",
       "      <td>0.00</td>\n",
       "      <td>0.03</td>\n",
       "      <td>NaN</td>\n",
       "      <td>NaN</td>\n",
       "      <td>NaN</td>\n",
       "    </tr>\n",
       "    <tr>\n",
       "      <th>627</th>\n",
       "      <td>Rock Band</td>\n",
       "      <td>X360</td>\n",
       "      <td>NaN</td>\n",
       "      <td>Misc</td>\n",
       "      <td>1.93</td>\n",
       "      <td>0.33</td>\n",
       "      <td>0.00</td>\n",
       "      <td>0.21</td>\n",
       "      <td>92.0</td>\n",
       "      <td>8.2</td>\n",
       "      <td>T</td>\n",
       "    </tr>\n",
       "    <tr>\n",
       "      <th>657</th>\n",
       "      <td>Frogger's Adventures: Temple of the Frog</td>\n",
       "      <td>GBA</td>\n",
       "      <td>NaN</td>\n",
       "      <td>Adventure</td>\n",
       "      <td>2.15</td>\n",
       "      <td>0.18</td>\n",
       "      <td>0.00</td>\n",
       "      <td>0.07</td>\n",
       "      <td>73.0</td>\n",
       "      <td>tbd</td>\n",
       "      <td>E</td>\n",
       "    </tr>\n",
       "    <tr>\n",
       "      <th>678</th>\n",
       "      <td>LEGO Indiana Jones: The Original Adventures</td>\n",
       "      <td>Wii</td>\n",
       "      <td>NaN</td>\n",
       "      <td>Action</td>\n",
       "      <td>1.51</td>\n",
       "      <td>0.61</td>\n",
       "      <td>0.00</td>\n",
       "      <td>0.21</td>\n",
       "      <td>78.0</td>\n",
       "      <td>6.6</td>\n",
       "      <td>E10+</td>\n",
       "    </tr>\n",
       "    <tr>\n",
       "      <th>719</th>\n",
       "      <td>Call of Duty 3</td>\n",
       "      <td>Wii</td>\n",
       "      <td>NaN</td>\n",
       "      <td>Shooter</td>\n",
       "      <td>1.17</td>\n",
       "      <td>0.84</td>\n",
       "      <td>0.00</td>\n",
       "      <td>0.23</td>\n",
       "      <td>69.0</td>\n",
       "      <td>6.7</td>\n",
       "      <td>T</td>\n",
       "    </tr>\n",
       "    <tr>\n",
       "      <th>805</th>\n",
       "      <td>Rock Band</td>\n",
       "      <td>Wii</td>\n",
       "      <td>NaN</td>\n",
       "      <td>Misc</td>\n",
       "      <td>1.33</td>\n",
       "      <td>0.56</td>\n",
       "      <td>0.00</td>\n",
       "      <td>0.20</td>\n",
       "      <td>80.0</td>\n",
       "      <td>6.3</td>\n",
       "      <td>T</td>\n",
       "    </tr>\n",
       "  </tbody>\n",
       "</table>\n",
       "</div>"
      ],
      "text/plain": [
       "                                            name platform  year_of_release  \\\n",
       "183                              Madden NFL 2004      PS2              NaN   \n",
       "377                             FIFA Soccer 2004      PS2              NaN   \n",
       "456                   LEGO Batman: The Videogame      Wii              NaN   \n",
       "475                   wwe Smackdown vs. Raw 2006      PS2              NaN   \n",
       "609                               Space Invaders     2600              NaN   \n",
       "627                                    Rock Band     X360              NaN   \n",
       "657     Frogger's Adventures: Temple of the Frog      GBA              NaN   \n",
       "678  LEGO Indiana Jones: The Original Adventures      Wii              NaN   \n",
       "719                               Call of Duty 3      Wii              NaN   \n",
       "805                                    Rock Band      Wii              NaN   \n",
       "\n",
       "         genre  na_sales  eu_sales  jp_sales  other_sales  critic_score  \\\n",
       "183     Sports      4.26      0.26      0.01         0.71          94.0   \n",
       "377     Sports      0.59      2.36      0.04         0.51          84.0   \n",
       "456     Action      1.80      0.97      0.00         0.29          74.0   \n",
       "475   Fighting      1.57      1.02      0.00         0.41           NaN   \n",
       "609    Shooter      2.36      0.14      0.00         0.03           NaN   \n",
       "627       Misc      1.93      0.33      0.00         0.21          92.0   \n",
       "657  Adventure      2.15      0.18      0.00         0.07          73.0   \n",
       "678     Action      1.51      0.61      0.00         0.21          78.0   \n",
       "719    Shooter      1.17      0.84      0.00         0.23          69.0   \n",
       "805       Misc      1.33      0.56      0.00         0.20          80.0   \n",
       "\n",
       "    user_score rating  \n",
       "183        8.5      E  \n",
       "377        6.4      E  \n",
       "456        7.9   E10+  \n",
       "475        NaN    NaN  \n",
       "609        NaN    NaN  \n",
       "627        8.2      T  \n",
       "657        tbd      E  \n",
       "678        6.6   E10+  \n",
       "719        6.7      T  \n",
       "805        6.3      T  "
      ]
     },
     "execution_count": 9,
     "metadata": {},
     "output_type": "execute_result"
    }
   ],
   "source": [
    "#Изучим строки с играми без даты релиза\n",
    "df[df['year_of_release'].isna()].head(10)"
   ]
  },
  {
   "cell_type": "markdown",
   "metadata": {},
   "source": [
    "Строк с пропуском информации о годе выпуска игр  - 1,6%. \n",
    "Визуально у некоторых игр есть в наименовании год, но по результатам поиска в интернете нескольких таких игр, выяснила что год релиза не совпадает с этой цифрой.\n",
    "Например, игры \"Madden NFL 2004\" и \"FIFA Soccer 2004\" вышли в 2003 году.\n",
    "\n",
    "Т.к. процент пропуска мал - удалим эти строки."
   ]
  },
  {
   "cell_type": "code",
   "execution_count": 10,
   "metadata": {},
   "outputs": [
    {
     "data": {
      "text/plain": [
       "'Количество строк до удаления строк с пропусками даты релиза: 16715'"
      ]
     },
     "execution_count": 10,
     "metadata": {},
     "output_type": "execute_result"
    }
   ],
   "source": [
    "f'Количество строк до удаления строк с пропусками даты релиза: {df.shape[0]}'"
   ]
  },
  {
   "cell_type": "code",
   "execution_count": 11,
   "metadata": {},
   "outputs": [
    {
     "data": {
      "text/plain": [
       "'Количество строк после удаления строк с пропусками даты релиза: 16446'"
      ]
     },
     "execution_count": 11,
     "metadata": {},
     "output_type": "execute_result"
    }
   ],
   "source": [
    "df.dropna(subset = ['year_of_release'], inplace = True)\n",
    "f'Количество строк после удаления строк с пропусками даты релиза: {df.shape[0]}'"
   ]
  },
  {
   "cell_type": "markdown",
   "metadata": {},
   "source": [
    "#### `user_score` "
   ]
  },
  {
   "cell_type": "code",
   "execution_count": 12,
   "metadata": {},
   "outputs": [
    {
     "data": {
      "text/plain": [
       "array(['8', nan, '8.3', '8.5', '6.6', '8.4', '8.6', '7.7', '6.3', '7.4',\n",
       "       '8.2', '9', '7.9', '8.1', '8.7', '7.1', '3.4', '5.3', '4.8', '3.2',\n",
       "       '8.9', '6.4', '7.8', '7.5', '2.6', '7.2', '9.2', '7', '7.3', '4.3',\n",
       "       '7.6', '5.7', '5', '9.1', '6.5', 'tbd', '8.8', '6.9', '9.4', '6.8',\n",
       "       '6.1', '6.7', '5.4', '4', '4.9', '4.5', '9.3', '6.2', '4.2', '6',\n",
       "       '3.7', '4.1', '5.8', '5.6', '5.5', '4.4', '4.6', '5.9', '3.9',\n",
       "       '3.1', '2.9', '5.2', '3.3', '4.7', '5.1', '3.5', '2.5', '1.9', '3',\n",
       "       '2.7', '2.2', '2', '9.5', '2.1', '3.6', '2.8', '1.8', '3.8', '0',\n",
       "       '1.6', '9.6', '2.4', '1.7', '1.1', '0.3', '1.5', '0.7', '1.2',\n",
       "       '2.3', '0.5', '1.3', '0.2', '0.6', '1.4', '0.9', '1', '9.7'],\n",
       "      dtype=object)"
      ]
     },
     "execution_count": 12,
     "metadata": {},
     "output_type": "execute_result"
    }
   ],
   "source": [
    "df['user_score'].unique()"
   ]
  },
  {
   "cell_type": "markdown",
   "metadata": {},
   "source": [
    "У данного столбца тип - object, т.к. встречается значение `tbd`. Это означает  'To Be Determined' или 'Будет определено'. Для игр с такой отметкой пользовательская оценка еще не посчитана. Заменим на Nan. "
   ]
  },
  {
   "cell_type": "code",
   "execution_count": 13,
   "metadata": {},
   "outputs": [],
   "source": [
    "df.loc[df['user_score'] == 'tbd','user_score'] = np.nan"
   ]
  },
  {
   "cell_type": "code",
   "execution_count": 14,
   "metadata": {},
   "outputs": [
    {
     "name": "stdout",
     "output_type": "stream",
     "text": [
      "<class 'pandas.core.frame.DataFrame'>\n",
      "Int64Index: 16446 entries, 0 to 16714\n",
      "Data columns (total 11 columns):\n",
      " #   Column           Non-Null Count  Dtype  \n",
      "---  ------           --------------  -----  \n",
      " 0   name             16444 non-null  object \n",
      " 1   platform         16446 non-null  object \n",
      " 2   year_of_release  16446 non-null  float64\n",
      " 3   genre            16444 non-null  object \n",
      " 4   na_sales         16446 non-null  float64\n",
      " 5   eu_sales         16446 non-null  float64\n",
      " 6   jp_sales         16446 non-null  float64\n",
      " 7   other_sales      16446 non-null  float64\n",
      " 8   critic_score     7983 non-null   float64\n",
      " 9   user_score       7463 non-null   float64\n",
      " 10  rating           9768 non-null   object \n",
      "dtypes: float64(7), object(4)\n",
      "memory usage: 1.5+ MB\n"
     ]
    }
   ],
   "source": [
    "#Теперь можно изменить тип данных\n",
    "df['user_score'] = df['user_score'].astype('float')\n",
    "df.info()"
   ]
  },
  {
   "cell_type": "markdown",
   "metadata": {},
   "source": [
    "### Пропуски значений"
   ]
  },
  {
   "cell_type": "markdown",
   "metadata": {},
   "source": [
    "#### `name`"
   ]
  },
  {
   "cell_type": "markdown",
   "metadata": {},
   "source": [
    "Посмотрим на строки с пропуском названий игр. Причиной пропуска может быть проблема с кодировкой названия."
   ]
  },
  {
   "cell_type": "code",
   "execution_count": 15,
   "metadata": {},
   "outputs": [
    {
     "data": {
      "text/html": [
       "<div>\n",
       "<style scoped>\n",
       "    .dataframe tbody tr th:only-of-type {\n",
       "        vertical-align: middle;\n",
       "    }\n",
       "\n",
       "    .dataframe tbody tr th {\n",
       "        vertical-align: top;\n",
       "    }\n",
       "\n",
       "    .dataframe thead th {\n",
       "        text-align: right;\n",
       "    }\n",
       "</style>\n",
       "<table border=\"1\" class=\"dataframe\">\n",
       "  <thead>\n",
       "    <tr style=\"text-align: right;\">\n",
       "      <th></th>\n",
       "      <th>name</th>\n",
       "      <th>platform</th>\n",
       "      <th>year_of_release</th>\n",
       "      <th>genre</th>\n",
       "      <th>na_sales</th>\n",
       "      <th>eu_sales</th>\n",
       "      <th>jp_sales</th>\n",
       "      <th>other_sales</th>\n",
       "      <th>critic_score</th>\n",
       "      <th>user_score</th>\n",
       "      <th>rating</th>\n",
       "    </tr>\n",
       "  </thead>\n",
       "  <tbody>\n",
       "    <tr>\n",
       "      <th>659</th>\n",
       "      <td>NaN</td>\n",
       "      <td>GEN</td>\n",
       "      <td>1993.0</td>\n",
       "      <td>NaN</td>\n",
       "      <td>1.78</td>\n",
       "      <td>0.53</td>\n",
       "      <td>0.00</td>\n",
       "      <td>0.08</td>\n",
       "      <td>NaN</td>\n",
       "      <td>NaN</td>\n",
       "      <td>NaN</td>\n",
       "    </tr>\n",
       "    <tr>\n",
       "      <th>14244</th>\n",
       "      <td>NaN</td>\n",
       "      <td>GEN</td>\n",
       "      <td>1993.0</td>\n",
       "      <td>NaN</td>\n",
       "      <td>0.00</td>\n",
       "      <td>0.00</td>\n",
       "      <td>0.03</td>\n",
       "      <td>0.00</td>\n",
       "      <td>NaN</td>\n",
       "      <td>NaN</td>\n",
       "      <td>NaN</td>\n",
       "    </tr>\n",
       "  </tbody>\n",
       "</table>\n",
       "</div>"
      ],
      "text/plain": [
       "      name platform  year_of_release genre  na_sales  eu_sales  jp_sales  \\\n",
       "659    NaN      GEN           1993.0   NaN      1.78      0.53      0.00   \n",
       "14244  NaN      GEN           1993.0   NaN      0.00      0.00      0.03   \n",
       "\n",
       "       other_sales  critic_score  user_score rating  \n",
       "659           0.08           NaN         NaN    NaN  \n",
       "14244         0.00           NaN         NaN    NaN  "
      ]
     },
     "execution_count": 15,
     "metadata": {},
     "output_type": "execute_result"
    }
   ],
   "source": [
    "df[df['name'].isna()]"
   ]
  },
  {
   "cell_type": "markdown",
   "metadata": {},
   "source": [
    "У данных строк также неизвестен жанр игры. Удалим эти строки."
   ]
  },
  {
   "cell_type": "code",
   "execution_count": 16,
   "metadata": {},
   "outputs": [
    {
     "data": {
      "text/plain": [
       "'Количество строк в датафрейме до удаления строк с пропусками наименования игр: 16446'"
      ]
     },
     "execution_count": 16,
     "metadata": {},
     "output_type": "execute_result"
    }
   ],
   "source": [
    "f'Количество строк в датафрейме до удаления строк с пропусками наименования игр: {df.shape[0]}'"
   ]
  },
  {
   "cell_type": "code",
   "execution_count": 17,
   "metadata": {},
   "outputs": [
    {
     "data": {
      "text/plain": [
       "0"
      ]
     },
     "execution_count": 17,
     "metadata": {},
     "output_type": "execute_result"
    }
   ],
   "source": [
    "df.dropna(subset = ['name'], inplace = True)\n",
    "df['genre'].isna().sum()"
   ]
  },
  {
   "cell_type": "code",
   "execution_count": 18,
   "metadata": {},
   "outputs": [
    {
     "data": {
      "text/plain": [
       "'Количество строк в датафрейме после удаления строк с пропусками наименования игр: 16444'"
      ]
     },
     "execution_count": 18,
     "metadata": {},
     "output_type": "execute_result"
    }
   ],
   "source": [
    "f'Количество строк в датафрейме после удаления строк с пропусками наименования игр: {df.shape[0]}'"
   ]
  },
  {
   "cell_type": "markdown",
   "metadata": {},
   "source": [
    "#### `critic_score`"
   ]
  },
  {
   "cell_type": "markdown",
   "metadata": {},
   "source": [
    "Как мы вяснили в п. 2.2.1 - в столбце `critic_score` пропущено 51% значений. Удаление половины датасета исказит данные. Оценку критиков не будем заполнять медианным значением, т.к. на основании этих данных не удастся сделать верные выводы о популярности игр.\n",
    "\n",
    "Оставим в колонке значения Nan.\n",
    "\n",
    "Предположим, что причина отсутсвия оценки критиков - старые игры не оценивали критики, не было для этого инструментов."
   ]
  },
  {
   "cell_type": "code",
   "execution_count": 19,
   "metadata": {},
   "outputs": [
    {
     "data": {
      "image/png": "[encoded data removed]",
      "text/plain": [
       "<Figure size 432x288 with 1 Axes>"
      ]
     },
     "metadata": {
      "needs_background": "light"
     },
     "output_type": "display_data"
    }
   ],
   "source": [
    "no_critic_score = df[df['critic_score'].isna()]\n",
    "no_critic_score['year_of_release'].hist(bins=100, alpha=0.5)\n",
    "df['year_of_release'].hist(bins=100,  alpha=0.5)\n",
    "plt.show()"
   ]
  },
  {
   "cell_type": "markdown",
   "metadata": {},
   "source": [
    "Предположение неверное, наибольшее количество игр без оценки в те года, когда в принципе больше игр.\n",
    "Возможно, не все игры оцениваю критики."
   ]
  },
  {
   "cell_type": "markdown",
   "metadata": {},
   "source": [
    "#### `rating`"
   ]
  },
  {
   "cell_type": "markdown",
   "metadata": {},
   "source": [
    "Как мы вяснили в п. 2.2.1 - в столбце `rating` пропущено 40% значений. Удаление такого количества строк дадасета исказит данные. Рейтинг `ESRB` - категоральное значение, заполнить медианным значением не получится.\n",
    "\n",
    "Оставим в колонке значения Nan."
   ]
  },
  {
   "cell_type": "code",
   "execution_count": 20,
   "metadata": {},
   "outputs": [
    {
     "data": {
      "text/plain": [
       "array(['E', nan, 'M', 'T', 'E10+', 'K-A', 'AO', 'EC', 'RP'], dtype=object)"
      ]
     },
     "execution_count": 20,
     "metadata": {},
     "output_type": "execute_result"
    }
   ],
   "source": [
    "df['rating'].unique()"
   ]
  },
  {
   "cell_type": "markdown",
   "metadata": {},
   "source": [
    "### Cуммарные продажи во всех регионах"
   ]
  },
  {
   "cell_type": "markdown",
   "metadata": {},
   "source": [
    "Для каждой игры найдем суммарные продажи во всех регионах, результат запишем в новый столбей `total_sales`. Значение в миллионах копий."
   ]
  },
  {
   "cell_type": "code",
   "execution_count": 21,
   "metadata": {},
   "outputs": [
    {
     "data": {
      "text/html": [
       "<div>\n",
       "<style scoped>\n",
       "    .dataframe tbody tr th:only-of-type {\n",
       "        vertical-align: middle;\n",
       "    }\n",
       "\n",
       "    .dataframe tbody tr th {\n",
       "        vertical-align: top;\n",
       "    }\n",
       "\n",
       "    .dataframe thead th {\n",
       "        text-align: right;\n",
       "    }\n",
       "</style>\n",
       "<table border=\"1\" class=\"dataframe\">\n",
       "  <thead>\n",
       "    <tr style=\"text-align: right;\">\n",
       "      <th></th>\n",
       "      <th>name</th>\n",
       "      <th>platform</th>\n",
       "      <th>year_of_release</th>\n",
       "      <th>genre</th>\n",
       "      <th>na_sales</th>\n",
       "      <th>eu_sales</th>\n",
       "      <th>jp_sales</th>\n",
       "      <th>other_sales</th>\n",
       "      <th>critic_score</th>\n",
       "      <th>user_score</th>\n",
       "      <th>rating</th>\n",
       "      <th>total_sales</th>\n",
       "    </tr>\n",
       "  </thead>\n",
       "  <tbody>\n",
       "    <tr>\n",
       "      <th>0</th>\n",
       "      <td>Wii Sports</td>\n",
       "      <td>Wii</td>\n",
       "      <td>2006.0</td>\n",
       "      <td>Sports</td>\n",
       "      <td>41.36</td>\n",
       "      <td>28.96</td>\n",
       "      <td>3.77</td>\n",
       "      <td>8.45</td>\n",
       "      <td>76.0</td>\n",
       "      <td>8.0</td>\n",
       "      <td>E</td>\n",
       "      <td>82.54</td>\n",
       "    </tr>\n",
       "    <tr>\n",
       "      <th>1</th>\n",
       "      <td>Super Mario Bros.</td>\n",
       "      <td>NES</td>\n",
       "      <td>1985.0</td>\n",
       "      <td>Platform</td>\n",
       "      <td>29.08</td>\n",
       "      <td>3.58</td>\n",
       "      <td>6.81</td>\n",
       "      <td>0.77</td>\n",
       "      <td>NaN</td>\n",
       "      <td>NaN</td>\n",
       "      <td>NaN</td>\n",
       "      <td>40.24</td>\n",
       "    </tr>\n",
       "    <tr>\n",
       "      <th>2</th>\n",
       "      <td>Mario Kart Wii</td>\n",
       "      <td>Wii</td>\n",
       "      <td>2008.0</td>\n",
       "      <td>Racing</td>\n",
       "      <td>15.68</td>\n",
       "      <td>12.76</td>\n",
       "      <td>3.79</td>\n",
       "      <td>3.29</td>\n",
       "      <td>82.0</td>\n",
       "      <td>8.3</td>\n",
       "      <td>E</td>\n",
       "      <td>35.52</td>\n",
       "    </tr>\n",
       "    <tr>\n",
       "      <th>3</th>\n",
       "      <td>Wii Sports Resort</td>\n",
       "      <td>Wii</td>\n",
       "      <td>2009.0</td>\n",
       "      <td>Sports</td>\n",
       "      <td>15.61</td>\n",
       "      <td>10.93</td>\n",
       "      <td>3.28</td>\n",
       "      <td>2.95</td>\n",
       "      <td>80.0</td>\n",
       "      <td>8.0</td>\n",
       "      <td>E</td>\n",
       "      <td>32.77</td>\n",
       "    </tr>\n",
       "    <tr>\n",
       "      <th>4</th>\n",
       "      <td>Pokemon Red/Pokemon Blue</td>\n",
       "      <td>GB</td>\n",
       "      <td>1996.0</td>\n",
       "      <td>Role-Playing</td>\n",
       "      <td>11.27</td>\n",
       "      <td>8.89</td>\n",
       "      <td>10.22</td>\n",
       "      <td>1.00</td>\n",
       "      <td>NaN</td>\n",
       "      <td>NaN</td>\n",
       "      <td>NaN</td>\n",
       "      <td>31.38</td>\n",
       "    </tr>\n",
       "  </tbody>\n",
       "</table>\n",
       "</div>"
      ],
      "text/plain": [
       "                       name platform  year_of_release         genre  na_sales  \\\n",
       "0                Wii Sports      Wii           2006.0        Sports     41.36   \n",
       "1         Super Mario Bros.      NES           1985.0      Platform     29.08   \n",
       "2            Mario Kart Wii      Wii           2008.0        Racing     15.68   \n",
       "3         Wii Sports Resort      Wii           2009.0        Sports     15.61   \n",
       "4  Pokemon Red/Pokemon Blue       GB           1996.0  Role-Playing     11.27   \n",
       "\n",
       "   eu_sales  jp_sales  other_sales  critic_score  user_score rating  \\\n",
       "0     28.96      3.77         8.45          76.0         8.0      E   \n",
       "1      3.58      6.81         0.77           NaN         NaN    NaN   \n",
       "2     12.76      3.79         3.29          82.0         8.3      E   \n",
       "3     10.93      3.28         2.95          80.0         8.0      E   \n",
       "4      8.89     10.22         1.00           NaN         NaN    NaN   \n",
       "\n",
       "   total_sales  \n",
       "0        82.54  \n",
       "1        40.24  \n",
       "2        35.52  \n",
       "3        32.77  \n",
       "4        31.38  "
      ]
     },
     "execution_count": 21,
     "metadata": {},
     "output_type": "execute_result"
    }
   ],
   "source": [
    "df['total_sales'] = df['na_sales'] + df['eu_sales'] + df['jp_sales'] + df['other_sales']\n",
    "df.head()"
   ]
  },
  {
   "cell_type": "markdown",
   "metadata": {},
   "source": [
    "### Поиск и анализ дубликатов"
   ]
  },
  {
   "cell_type": "markdown",
   "metadata": {},
   "source": [
    "#### Явные дубликаты"
   ]
  },
  {
   "cell_type": "code",
   "execution_count": 22,
   "metadata": {},
   "outputs": [
    {
     "data": {
      "text/html": [
       "<div>\n",
       "<style scoped>\n",
       "    .dataframe tbody tr th:only-of-type {\n",
       "        vertical-align: middle;\n",
       "    }\n",
       "\n",
       "    .dataframe tbody tr th {\n",
       "        vertical-align: top;\n",
       "    }\n",
       "\n",
       "    .dataframe thead th {\n",
       "        text-align: right;\n",
       "    }\n",
       "</style>\n",
       "<table border=\"1\" class=\"dataframe\">\n",
       "  <thead>\n",
       "    <tr style=\"text-align: right;\">\n",
       "      <th></th>\n",
       "      <th>name</th>\n",
       "      <th>platform</th>\n",
       "      <th>year_of_release</th>\n",
       "      <th>genre</th>\n",
       "      <th>na_sales</th>\n",
       "      <th>eu_sales</th>\n",
       "      <th>jp_sales</th>\n",
       "      <th>other_sales</th>\n",
       "      <th>critic_score</th>\n",
       "      <th>user_score</th>\n",
       "      <th>rating</th>\n",
       "      <th>total_sales</th>\n",
       "    </tr>\n",
       "  </thead>\n",
       "  <tbody>\n",
       "    <tr>\n",
       "      <th>0</th>\n",
       "      <td>wii sports</td>\n",
       "      <td>wii</td>\n",
       "      <td>2006.0</td>\n",
       "      <td>Sports</td>\n",
       "      <td>41.36</td>\n",
       "      <td>28.96</td>\n",
       "      <td>3.77</td>\n",
       "      <td>8.45</td>\n",
       "      <td>76.0</td>\n",
       "      <td>8.0</td>\n",
       "      <td>E</td>\n",
       "      <td>82.54</td>\n",
       "    </tr>\n",
       "    <tr>\n",
       "      <th>1</th>\n",
       "      <td>super mario bros.</td>\n",
       "      <td>nes</td>\n",
       "      <td>1985.0</td>\n",
       "      <td>Platform</td>\n",
       "      <td>29.08</td>\n",
       "      <td>3.58</td>\n",
       "      <td>6.81</td>\n",
       "      <td>0.77</td>\n",
       "      <td>NaN</td>\n",
       "      <td>NaN</td>\n",
       "      <td>NaN</td>\n",
       "      <td>40.24</td>\n",
       "    </tr>\n",
       "    <tr>\n",
       "      <th>2</th>\n",
       "      <td>mario kart wii</td>\n",
       "      <td>wii</td>\n",
       "      <td>2008.0</td>\n",
       "      <td>Racing</td>\n",
       "      <td>15.68</td>\n",
       "      <td>12.76</td>\n",
       "      <td>3.79</td>\n",
       "      <td>3.29</td>\n",
       "      <td>82.0</td>\n",
       "      <td>8.3</td>\n",
       "      <td>E</td>\n",
       "      <td>35.52</td>\n",
       "    </tr>\n",
       "    <tr>\n",
       "      <th>3</th>\n",
       "      <td>wii sports resort</td>\n",
       "      <td>wii</td>\n",
       "      <td>2009.0</td>\n",
       "      <td>Sports</td>\n",
       "      <td>15.61</td>\n",
       "      <td>10.93</td>\n",
       "      <td>3.28</td>\n",
       "      <td>2.95</td>\n",
       "      <td>80.0</td>\n",
       "      <td>8.0</td>\n",
       "      <td>E</td>\n",
       "      <td>32.77</td>\n",
       "    </tr>\n",
       "    <tr>\n",
       "      <th>4</th>\n",
       "      <td>pokemon red/pokemon blue</td>\n",
       "      <td>gb</td>\n",
       "      <td>1996.0</td>\n",
       "      <td>Role-Playing</td>\n",
       "      <td>11.27</td>\n",
       "      <td>8.89</td>\n",
       "      <td>10.22</td>\n",
       "      <td>1.00</td>\n",
       "      <td>NaN</td>\n",
       "      <td>NaN</td>\n",
       "      <td>NaN</td>\n",
       "      <td>31.38</td>\n",
       "    </tr>\n",
       "    <tr>\n",
       "      <th>5</th>\n",
       "      <td>tetris</td>\n",
       "      <td>gb</td>\n",
       "      <td>1989.0</td>\n",
       "      <td>Puzzle</td>\n",
       "      <td>23.20</td>\n",
       "      <td>2.26</td>\n",
       "      <td>4.22</td>\n",
       "      <td>0.58</td>\n",
       "      <td>NaN</td>\n",
       "      <td>NaN</td>\n",
       "      <td>NaN</td>\n",
       "      <td>30.26</td>\n",
       "    </tr>\n",
       "    <tr>\n",
       "      <th>6</th>\n",
       "      <td>new super mario bros.</td>\n",
       "      <td>ds</td>\n",
       "      <td>2006.0</td>\n",
       "      <td>Platform</td>\n",
       "      <td>11.28</td>\n",
       "      <td>9.14</td>\n",
       "      <td>6.50</td>\n",
       "      <td>2.88</td>\n",
       "      <td>89.0</td>\n",
       "      <td>8.5</td>\n",
       "      <td>E</td>\n",
       "      <td>29.80</td>\n",
       "    </tr>\n",
       "    <tr>\n",
       "      <th>7</th>\n",
       "      <td>wii play</td>\n",
       "      <td>wii</td>\n",
       "      <td>2006.0</td>\n",
       "      <td>Misc</td>\n",
       "      <td>13.96</td>\n",
       "      <td>9.18</td>\n",
       "      <td>2.93</td>\n",
       "      <td>2.84</td>\n",
       "      <td>58.0</td>\n",
       "      <td>6.6</td>\n",
       "      <td>E</td>\n",
       "      <td>28.91</td>\n",
       "    </tr>\n",
       "    <tr>\n",
       "      <th>8</th>\n",
       "      <td>new super mario bros. wii</td>\n",
       "      <td>wii</td>\n",
       "      <td>2009.0</td>\n",
       "      <td>Platform</td>\n",
       "      <td>14.44</td>\n",
       "      <td>6.94</td>\n",
       "      <td>4.70</td>\n",
       "      <td>2.24</td>\n",
       "      <td>87.0</td>\n",
       "      <td>8.4</td>\n",
       "      <td>E</td>\n",
       "      <td>28.32</td>\n",
       "    </tr>\n",
       "    <tr>\n",
       "      <th>9</th>\n",
       "      <td>duck hunt</td>\n",
       "      <td>nes</td>\n",
       "      <td>1984.0</td>\n",
       "      <td>Shooter</td>\n",
       "      <td>26.93</td>\n",
       "      <td>0.63</td>\n",
       "      <td>0.28</td>\n",
       "      <td>0.47</td>\n",
       "      <td>NaN</td>\n",
       "      <td>NaN</td>\n",
       "      <td>NaN</td>\n",
       "      <td>28.31</td>\n",
       "    </tr>\n",
       "  </tbody>\n",
       "</table>\n",
       "</div>"
      ],
      "text/plain": [
       "                        name platform  year_of_release         genre  \\\n",
       "0                 wii sports      wii           2006.0        Sports   \n",
       "1          super mario bros.      nes           1985.0      Platform   \n",
       "2             mario kart wii      wii           2008.0        Racing   \n",
       "3          wii sports resort      wii           2009.0        Sports   \n",
       "4   pokemon red/pokemon blue       gb           1996.0  Role-Playing   \n",
       "5                     tetris       gb           1989.0        Puzzle   \n",
       "6      new super mario bros.       ds           2006.0      Platform   \n",
       "7                   wii play      wii           2006.0          Misc   \n",
       "8  new super mario bros. wii      wii           2009.0      Platform   \n",
       "9                  duck hunt      nes           1984.0       Shooter   \n",
       "\n",
       "   na_sales  eu_sales  jp_sales  other_sales  critic_score  user_score rating  \\\n",
       "0     41.36     28.96      3.77         8.45          76.0         8.0      E   \n",
       "1     29.08      3.58      6.81         0.77           NaN         NaN    NaN   \n",
       "2     15.68     12.76      3.79         3.29          82.0         8.3      E   \n",
       "3     15.61     10.93      3.28         2.95          80.0         8.0      E   \n",
       "4     11.27      8.89     10.22         1.00           NaN         NaN    NaN   \n",
       "5     23.20      2.26      4.22         0.58           NaN         NaN    NaN   \n",
       "6     11.28      9.14      6.50         2.88          89.0         8.5      E   \n",
       "7     13.96      9.18      2.93         2.84          58.0         6.6      E   \n",
       "8     14.44      6.94      4.70         2.24          87.0         8.4      E   \n",
       "9     26.93      0.63      0.28         0.47           NaN         NaN    NaN   \n",
       "\n",
       "   total_sales  \n",
       "0        82.54  \n",
       "1        40.24  \n",
       "2        35.52  \n",
       "3        32.77  \n",
       "4        31.38  \n",
       "5        30.26  \n",
       "6        29.80  \n",
       "7        28.91  \n",
       "8        28.32  \n",
       "9        28.31  "
      ]
     },
     "execution_count": 22,
     "metadata": {},
     "output_type": "execute_result"
    }
   ],
   "source": [
    "#Для поиска дубликатов по нименованию переведу названия игр и платфторм в нижний регистр\n",
    "df['name'] = df['name'].str.lower()\n",
    "df['platform'] = df['platform'].str.lower()\n",
    "df.head(10)"
   ]
  },
  {
   "cell_type": "code",
   "execution_count": 23,
   "metadata": {},
   "outputs": [
    {
     "data": {
      "text/plain": [
       "0"
      ]
     },
     "execution_count": 23,
     "metadata": {},
     "output_type": "execute_result"
    }
   ],
   "source": [
    "#Поищем явные полные дубликаты\n",
    "df.duplicated().sum()"
   ]
  },
  {
   "cell_type": "markdown",
   "metadata": {},
   "source": [
    "Явных дубликатов нет. \n",
    "\n",
    "Поищем дубликаты по наименованию игры + наименование платформы."
   ]
  },
  {
   "cell_type": "markdown",
   "metadata": {},
   "source": [
    "#### Неявные дубликаты"
   ]
  },
  {
   "cell_type": "code",
   "execution_count": 24,
   "metadata": {},
   "outputs": [
    {
     "data": {
      "text/html": [
       "<div>\n",
       "<style scoped>\n",
       "    .dataframe tbody tr th:only-of-type {\n",
       "        vertical-align: middle;\n",
       "    }\n",
       "\n",
       "    .dataframe tbody tr th {\n",
       "        vertical-align: top;\n",
       "    }\n",
       "\n",
       "    .dataframe thead th {\n",
       "        text-align: right;\n",
       "    }\n",
       "</style>\n",
       "<table border=\"1\" class=\"dataframe\">\n",
       "  <thead>\n",
       "    <tr style=\"text-align: right;\">\n",
       "      <th></th>\n",
       "      <th>name</th>\n",
       "      <th>platform</th>\n",
       "      <th>year_of_release</th>\n",
       "      <th>genre</th>\n",
       "      <th>na_sales</th>\n",
       "      <th>eu_sales</th>\n",
       "      <th>jp_sales</th>\n",
       "      <th>other_sales</th>\n",
       "      <th>critic_score</th>\n",
       "      <th>user_score</th>\n",
       "      <th>rating</th>\n",
       "      <th>total_sales</th>\n",
       "      <th>name_and_platform</th>\n",
       "    </tr>\n",
       "  </thead>\n",
       "  <tbody>\n",
       "    <tr>\n",
       "      <th>0</th>\n",
       "      <td>wii sports</td>\n",
       "      <td>wii</td>\n",
       "      <td>2006.0</td>\n",
       "      <td>Sports</td>\n",
       "      <td>41.36</td>\n",
       "      <td>28.96</td>\n",
       "      <td>3.77</td>\n",
       "      <td>8.45</td>\n",
       "      <td>76.0</td>\n",
       "      <td>8.0</td>\n",
       "      <td>E</td>\n",
       "      <td>82.54</td>\n",
       "      <td>wii sports wii</td>\n",
       "    </tr>\n",
       "    <tr>\n",
       "      <th>1</th>\n",
       "      <td>super mario bros.</td>\n",
       "      <td>nes</td>\n",
       "      <td>1985.0</td>\n",
       "      <td>Platform</td>\n",
       "      <td>29.08</td>\n",
       "      <td>3.58</td>\n",
       "      <td>6.81</td>\n",
       "      <td>0.77</td>\n",
       "      <td>NaN</td>\n",
       "      <td>NaN</td>\n",
       "      <td>NaN</td>\n",
       "      <td>40.24</td>\n",
       "      <td>super mario bros. nes</td>\n",
       "    </tr>\n",
       "    <tr>\n",
       "      <th>2</th>\n",
       "      <td>mario kart wii</td>\n",
       "      <td>wii</td>\n",
       "      <td>2008.0</td>\n",
       "      <td>Racing</td>\n",
       "      <td>15.68</td>\n",
       "      <td>12.76</td>\n",
       "      <td>3.79</td>\n",
       "      <td>3.29</td>\n",
       "      <td>82.0</td>\n",
       "      <td>8.3</td>\n",
       "      <td>E</td>\n",
       "      <td>35.52</td>\n",
       "      <td>mario kart wii wii</td>\n",
       "    </tr>\n",
       "    <tr>\n",
       "      <th>3</th>\n",
       "      <td>wii sports resort</td>\n",
       "      <td>wii</td>\n",
       "      <td>2009.0</td>\n",
       "      <td>Sports</td>\n",
       "      <td>15.61</td>\n",
       "      <td>10.93</td>\n",
       "      <td>3.28</td>\n",
       "      <td>2.95</td>\n",
       "      <td>80.0</td>\n",
       "      <td>8.0</td>\n",
       "      <td>E</td>\n",
       "      <td>32.77</td>\n",
       "      <td>wii sports resort wii</td>\n",
       "    </tr>\n",
       "    <tr>\n",
       "      <th>4</th>\n",
       "      <td>pokemon red/pokemon blue</td>\n",
       "      <td>gb</td>\n",
       "      <td>1996.0</td>\n",
       "      <td>Role-Playing</td>\n",
       "      <td>11.27</td>\n",
       "      <td>8.89</td>\n",
       "      <td>10.22</td>\n",
       "      <td>1.00</td>\n",
       "      <td>NaN</td>\n",
       "      <td>NaN</td>\n",
       "      <td>NaN</td>\n",
       "      <td>31.38</td>\n",
       "      <td>pokemon red/pokemon blue gb</td>\n",
       "    </tr>\n",
       "    <tr>\n",
       "      <th>5</th>\n",
       "      <td>tetris</td>\n",
       "      <td>gb</td>\n",
       "      <td>1989.0</td>\n",
       "      <td>Puzzle</td>\n",
       "      <td>23.20</td>\n",
       "      <td>2.26</td>\n",
       "      <td>4.22</td>\n",
       "      <td>0.58</td>\n",
       "      <td>NaN</td>\n",
       "      <td>NaN</td>\n",
       "      <td>NaN</td>\n",
       "      <td>30.26</td>\n",
       "      <td>tetris gb</td>\n",
       "    </tr>\n",
       "    <tr>\n",
       "      <th>6</th>\n",
       "      <td>new super mario bros.</td>\n",
       "      <td>ds</td>\n",
       "      <td>2006.0</td>\n",
       "      <td>Platform</td>\n",
       "      <td>11.28</td>\n",
       "      <td>9.14</td>\n",
       "      <td>6.50</td>\n",
       "      <td>2.88</td>\n",
       "      <td>89.0</td>\n",
       "      <td>8.5</td>\n",
       "      <td>E</td>\n",
       "      <td>29.80</td>\n",
       "      <td>new super mario bros. ds</td>\n",
       "    </tr>\n",
       "    <tr>\n",
       "      <th>7</th>\n",
       "      <td>wii play</td>\n",
       "      <td>wii</td>\n",
       "      <td>2006.0</td>\n",
       "      <td>Misc</td>\n",
       "      <td>13.96</td>\n",
       "      <td>9.18</td>\n",
       "      <td>2.93</td>\n",
       "      <td>2.84</td>\n",
       "      <td>58.0</td>\n",
       "      <td>6.6</td>\n",
       "      <td>E</td>\n",
       "      <td>28.91</td>\n",
       "      <td>wii play wii</td>\n",
       "    </tr>\n",
       "    <tr>\n",
       "      <th>8</th>\n",
       "      <td>new super mario bros. wii</td>\n",
       "      <td>wii</td>\n",
       "      <td>2009.0</td>\n",
       "      <td>Platform</td>\n",
       "      <td>14.44</td>\n",
       "      <td>6.94</td>\n",
       "      <td>4.70</td>\n",
       "      <td>2.24</td>\n",
       "      <td>87.0</td>\n",
       "      <td>8.4</td>\n",
       "      <td>E</td>\n",
       "      <td>28.32</td>\n",
       "      <td>new super mario bros. wii wii</td>\n",
       "    </tr>\n",
       "    <tr>\n",
       "      <th>9</th>\n",
       "      <td>duck hunt</td>\n",
       "      <td>nes</td>\n",
       "      <td>1984.0</td>\n",
       "      <td>Shooter</td>\n",
       "      <td>26.93</td>\n",
       "      <td>0.63</td>\n",
       "      <td>0.28</td>\n",
       "      <td>0.47</td>\n",
       "      <td>NaN</td>\n",
       "      <td>NaN</td>\n",
       "      <td>NaN</td>\n",
       "      <td>28.31</td>\n",
       "      <td>duck hunt nes</td>\n",
       "    </tr>\n",
       "  </tbody>\n",
       "</table>\n",
       "</div>"
      ],
      "text/plain": [
       "                        name platform  year_of_release         genre  \\\n",
       "0                 wii sports      wii           2006.0        Sports   \n",
       "1          super mario bros.      nes           1985.0      Platform   \n",
       "2             mario kart wii      wii           2008.0        Racing   \n",
       "3          wii sports resort      wii           2009.0        Sports   \n",
       "4   pokemon red/pokemon blue       gb           1996.0  Role-Playing   \n",
       "5                     tetris       gb           1989.0        Puzzle   \n",
       "6      new super mario bros.       ds           2006.0      Platform   \n",
       "7                   wii play      wii           2006.0          Misc   \n",
       "8  new super mario bros. wii      wii           2009.0      Platform   \n",
       "9                  duck hunt      nes           1984.0       Shooter   \n",
       "\n",
       "   na_sales  eu_sales  jp_sales  other_sales  critic_score  user_score rating  \\\n",
       "0     41.36     28.96      3.77         8.45          76.0         8.0      E   \n",
       "1     29.08      3.58      6.81         0.77           NaN         NaN    NaN   \n",
       "2     15.68     12.76      3.79         3.29          82.0         8.3      E   \n",
       "3     15.61     10.93      3.28         2.95          80.0         8.0      E   \n",
       "4     11.27      8.89     10.22         1.00           NaN         NaN    NaN   \n",
       "5     23.20      2.26      4.22         0.58           NaN         NaN    NaN   \n",
       "6     11.28      9.14      6.50         2.88          89.0         8.5      E   \n",
       "7     13.96      9.18      2.93         2.84          58.0         6.6      E   \n",
       "8     14.44      6.94      4.70         2.24          87.0         8.4      E   \n",
       "9     26.93      0.63      0.28         0.47           NaN         NaN    NaN   \n",
       "\n",
       "   total_sales              name_and_platform  \n",
       "0        82.54                 wii sports wii  \n",
       "1        40.24          super mario bros. nes  \n",
       "2        35.52             mario kart wii wii  \n",
       "3        32.77          wii sports resort wii  \n",
       "4        31.38    pokemon red/pokemon blue gb  \n",
       "5        30.26                      tetris gb  \n",
       "6        29.80       new super mario bros. ds  \n",
       "7        28.91                   wii play wii  \n",
       "8        28.32  new super mario bros. wii wii  \n",
       "9        28.31                  duck hunt nes  "
      ]
     },
     "execution_count": 24,
     "metadata": {},
     "output_type": "execute_result"
    }
   ],
   "source": [
    "#Создадим столбец с парой название игры + наименование платформы\n",
    "df['name_and_platform'] = df['name'] + ' ' + df['platform']\n",
    "df.head(10)"
   ]
  },
  {
   "cell_type": "code",
   "execution_count": 25,
   "metadata": {},
   "outputs": [
    {
     "data": {
      "text/html": [
       "<div>\n",
       "<style scoped>\n",
       "    .dataframe tbody tr th:only-of-type {\n",
       "        vertical-align: middle;\n",
       "    }\n",
       "\n",
       "    .dataframe tbody tr th {\n",
       "        vertical-align: top;\n",
       "    }\n",
       "\n",
       "    .dataframe thead th {\n",
       "        text-align: right;\n",
       "    }\n",
       "</style>\n",
       "<table border=\"1\" class=\"dataframe\">\n",
       "  <thead>\n",
       "    <tr style=\"text-align: right;\">\n",
       "      <th></th>\n",
       "      <th>name_and_platform</th>\n",
       "      <th>duplicates</th>\n",
       "    </tr>\n",
       "  </thead>\n",
       "  <tbody>\n",
       "    <tr>\n",
       "      <th>0</th>\n",
       "      <td>need for speed: most wanted pc</td>\n",
       "      <td>2</td>\n",
       "    </tr>\n",
       "    <tr>\n",
       "      <th>1</th>\n",
       "      <td>madden nfl 13 ps3</td>\n",
       "      <td>2</td>\n",
       "    </tr>\n",
       "    <tr>\n",
       "      <th>2</th>\n",
       "      <td>need for speed: most wanted x360</td>\n",
       "      <td>2</td>\n",
       "    </tr>\n",
       "    <tr>\n",
       "      <th>3</th>\n",
       "      <td>sing party wiiu</td>\n",
       "      <td>1</td>\n",
       "    </tr>\n",
       "    <tr>\n",
       "      <th>4</th>\n",
       "      <td>farming simulator 2013 x360</td>\n",
       "      <td>1</td>\n",
       "    </tr>\n",
       "    <tr>\n",
       "      <th>...</th>\n",
       "      <td>...</td>\n",
       "      <td>...</td>\n",
       "    </tr>\n",
       "    <tr>\n",
       "      <th>16436</th>\n",
       "      <td>dragon ball z: budokai tenkaichi 2 ps2</td>\n",
       "      <td>1</td>\n",
       "    </tr>\n",
       "    <tr>\n",
       "      <th>16437</th>\n",
       "      <td>lunar: silver star harmony psp</td>\n",
       "      <td>1</td>\n",
       "    </tr>\n",
       "    <tr>\n",
       "      <th>16438</th>\n",
       "      <td>fable iii pc</td>\n",
       "      <td>1</td>\n",
       "    </tr>\n",
       "    <tr>\n",
       "      <th>16439</th>\n",
       "      <td>scrabble ds</td>\n",
       "      <td>1</td>\n",
       "    </tr>\n",
       "    <tr>\n",
       "      <th>16440</th>\n",
       "      <td>rush 2: extreme racing usa n64</td>\n",
       "      <td>1</td>\n",
       "    </tr>\n",
       "  </tbody>\n",
       "</table>\n",
       "<p>16441 rows × 2 columns</p>\n",
       "</div>"
      ],
      "text/plain": [
       "                            name_and_platform  duplicates\n",
       "0              need for speed: most wanted pc           2\n",
       "1                           madden nfl 13 ps3           2\n",
       "2            need for speed: most wanted x360           2\n",
       "3                             sing party wiiu           1\n",
       "4                 farming simulator 2013 x360           1\n",
       "...                                       ...         ...\n",
       "16436  dragon ball z: budokai tenkaichi 2 ps2           1\n",
       "16437          lunar: silver star harmony psp           1\n",
       "16438                            fable iii pc           1\n",
       "16439                             scrabble ds           1\n",
       "16440          rush 2: extreme racing usa n64           1\n",
       "\n",
       "[16441 rows x 2 columns]"
      ]
     },
     "execution_count": 25,
     "metadata": {},
     "output_type": "execute_result"
    }
   ],
   "source": [
    "# Найдем дубликаты по новому столбцу 'name_and_platform'\n",
    "list_of_duplicated_games = df['name_and_platform'].value_counts()\n",
    "df_of_duplicated_games = pd.DataFrame({'name_and_platform':list_of_duplicated_games.index, \n",
    "                       'duplicates':list_of_duplicated_games.values})\n",
    "df_of_duplicated_games "
   ]
  },
  {
   "cell_type": "code",
   "execution_count": 26,
   "metadata": {},
   "outputs": [
    {
     "data": {
      "text/html": [
       "<div>\n",
       "<style scoped>\n",
       "    .dataframe tbody tr th:only-of-type {\n",
       "        vertical-align: middle;\n",
       "    }\n",
       "\n",
       "    .dataframe tbody tr th {\n",
       "        vertical-align: top;\n",
       "    }\n",
       "\n",
       "    .dataframe thead th {\n",
       "        text-align: right;\n",
       "    }\n",
       "</style>\n",
       "<table border=\"1\" class=\"dataframe\">\n",
       "  <thead>\n",
       "    <tr style=\"text-align: right;\">\n",
       "      <th></th>\n",
       "      <th>name_and_platform</th>\n",
       "      <th>duplicates</th>\n",
       "    </tr>\n",
       "  </thead>\n",
       "  <tbody>\n",
       "    <tr>\n",
       "      <th>0</th>\n",
       "      <td>need for speed: most wanted pc</td>\n",
       "      <td>2</td>\n",
       "    </tr>\n",
       "    <tr>\n",
       "      <th>1</th>\n",
       "      <td>madden nfl 13 ps3</td>\n",
       "      <td>2</td>\n",
       "    </tr>\n",
       "    <tr>\n",
       "      <th>2</th>\n",
       "      <td>need for speed: most wanted x360</td>\n",
       "      <td>2</td>\n",
       "    </tr>\n",
       "  </tbody>\n",
       "</table>\n",
       "</div>"
      ],
      "text/plain": [
       "                  name_and_platform  duplicates\n",
       "0    need for speed: most wanted pc           2\n",
       "1                 madden nfl 13 ps3           2\n",
       "2  need for speed: most wanted x360           2"
      ]
     },
     "execution_count": 26,
     "metadata": {},
     "output_type": "execute_result"
    }
   ],
   "source": [
    "#Оставим в списке df_of_duplicated_game только дубликаты\n",
    "df_of_duplicated_games = df_of_duplicated_games [df_of_duplicated_games['duplicates']==2]\n",
    "df_of_duplicated_games"
   ]
  },
  {
   "cell_type": "code",
   "execution_count": 27,
   "metadata": {},
   "outputs": [
    {
     "data": {
      "text/html": [
       "<div>\n",
       "<style scoped>\n",
       "    .dataframe tbody tr th:only-of-type {\n",
       "        vertical-align: middle;\n",
       "    }\n",
       "\n",
       "    .dataframe tbody tr th {\n",
       "        vertical-align: top;\n",
       "    }\n",
       "\n",
       "    .dataframe thead th {\n",
       "        text-align: right;\n",
       "    }\n",
       "</style>\n",
       "<table border=\"1\" class=\"dataframe\">\n",
       "  <thead>\n",
       "    <tr style=\"text-align: right;\">\n",
       "      <th></th>\n",
       "      <th>name</th>\n",
       "      <th>platform</th>\n",
       "      <th>year_of_release</th>\n",
       "      <th>genre</th>\n",
       "      <th>na_sales</th>\n",
       "      <th>eu_sales</th>\n",
       "      <th>jp_sales</th>\n",
       "      <th>other_sales</th>\n",
       "      <th>critic_score</th>\n",
       "      <th>user_score</th>\n",
       "      <th>rating</th>\n",
       "      <th>total_sales</th>\n",
       "      <th>name_and_platform</th>\n",
       "    </tr>\n",
       "  </thead>\n",
       "  <tbody>\n",
       "    <tr>\n",
       "      <th>604</th>\n",
       "      <td>madden nfl 13</td>\n",
       "      <td>ps3</td>\n",
       "      <td>2012.0</td>\n",
       "      <td>Sports</td>\n",
       "      <td>2.11</td>\n",
       "      <td>0.22</td>\n",
       "      <td>0.00</td>\n",
       "      <td>0.23</td>\n",
       "      <td>83.0</td>\n",
       "      <td>5.5</td>\n",
       "      <td>E</td>\n",
       "      <td>2.56</td>\n",
       "      <td>madden nfl 13 ps3</td>\n",
       "    </tr>\n",
       "    <tr>\n",
       "      <th>1190</th>\n",
       "      <td>need for speed: most wanted</td>\n",
       "      <td>x360</td>\n",
       "      <td>2012.0</td>\n",
       "      <td>Racing</td>\n",
       "      <td>0.62</td>\n",
       "      <td>0.78</td>\n",
       "      <td>0.01</td>\n",
       "      <td>0.15</td>\n",
       "      <td>83.0</td>\n",
       "      <td>8.5</td>\n",
       "      <td>T</td>\n",
       "      <td>1.56</td>\n",
       "      <td>need for speed: most wanted x360</td>\n",
       "    </tr>\n",
       "    <tr>\n",
       "      <th>1591</th>\n",
       "      <td>need for speed: most wanted</td>\n",
       "      <td>x360</td>\n",
       "      <td>2005.0</td>\n",
       "      <td>Racing</td>\n",
       "      <td>1.00</td>\n",
       "      <td>0.13</td>\n",
       "      <td>0.02</td>\n",
       "      <td>0.10</td>\n",
       "      <td>83.0</td>\n",
       "      <td>8.5</td>\n",
       "      <td>T</td>\n",
       "      <td>1.25</td>\n",
       "      <td>need for speed: most wanted x360</td>\n",
       "    </tr>\n",
       "    <tr>\n",
       "      <th>5972</th>\n",
       "      <td>need for speed: most wanted</td>\n",
       "      <td>pc</td>\n",
       "      <td>2005.0</td>\n",
       "      <td>Racing</td>\n",
       "      <td>0.02</td>\n",
       "      <td>0.23</td>\n",
       "      <td>0.00</td>\n",
       "      <td>0.04</td>\n",
       "      <td>82.0</td>\n",
       "      <td>8.5</td>\n",
       "      <td>T</td>\n",
       "      <td>0.29</td>\n",
       "      <td>need for speed: most wanted pc</td>\n",
       "    </tr>\n",
       "    <tr>\n",
       "      <th>11715</th>\n",
       "      <td>need for speed: most wanted</td>\n",
       "      <td>pc</td>\n",
       "      <td>2012.0</td>\n",
       "      <td>Racing</td>\n",
       "      <td>0.00</td>\n",
       "      <td>0.06</td>\n",
       "      <td>0.00</td>\n",
       "      <td>0.02</td>\n",
       "      <td>82.0</td>\n",
       "      <td>8.5</td>\n",
       "      <td>T</td>\n",
       "      <td>0.08</td>\n",
       "      <td>need for speed: most wanted pc</td>\n",
       "    </tr>\n",
       "    <tr>\n",
       "      <th>16230</th>\n",
       "      <td>madden nfl 13</td>\n",
       "      <td>ps3</td>\n",
       "      <td>2012.0</td>\n",
       "      <td>Sports</td>\n",
       "      <td>0.00</td>\n",
       "      <td>0.01</td>\n",
       "      <td>0.00</td>\n",
       "      <td>0.00</td>\n",
       "      <td>83.0</td>\n",
       "      <td>5.5</td>\n",
       "      <td>E</td>\n",
       "      <td>0.01</td>\n",
       "      <td>madden nfl 13 ps3</td>\n",
       "    </tr>\n",
       "  </tbody>\n",
       "</table>\n",
       "</div>"
      ],
      "text/plain": [
       "                              name platform  year_of_release   genre  \\\n",
       "604                  madden nfl 13      ps3           2012.0  Sports   \n",
       "1190   need for speed: most wanted     x360           2012.0  Racing   \n",
       "1591   need for speed: most wanted     x360           2005.0  Racing   \n",
       "5972   need for speed: most wanted       pc           2005.0  Racing   \n",
       "11715  need for speed: most wanted       pc           2012.0  Racing   \n",
       "16230                madden nfl 13      ps3           2012.0  Sports   \n",
       "\n",
       "       na_sales  eu_sales  jp_sales  other_sales  critic_score  user_score  \\\n",
       "604        2.11      0.22      0.00         0.23          83.0         5.5   \n",
       "1190       0.62      0.78      0.01         0.15          83.0         8.5   \n",
       "1591       1.00      0.13      0.02         0.10          83.0         8.5   \n",
       "5972       0.02      0.23      0.00         0.04          82.0         8.5   \n",
       "11715      0.00      0.06      0.00         0.02          82.0         8.5   \n",
       "16230      0.00      0.01      0.00         0.00          83.0         5.5   \n",
       "\n",
       "      rating  total_sales                 name_and_platform  \n",
       "604        E         2.56                 madden nfl 13 ps3  \n",
       "1190       T         1.56  need for speed: most wanted x360  \n",
       "1591       T         1.25  need for speed: most wanted x360  \n",
       "5972       T         0.29    need for speed: most wanted pc  \n",
       "11715      T         0.08    need for speed: most wanted pc  \n",
       "16230      E         0.01                 madden nfl 13 ps3  "
      ]
     },
     "execution_count": 27,
     "metadata": {},
     "output_type": "execute_result"
    }
   ],
   "source": [
    "df.query('name_and_platform in @df_of_duplicated_games.name_and_platform')"
   ]
  },
  {
   "cell_type": "markdown",
   "metadata": {},
   "source": [
    "Игра  \"Need for speed: most wanted\" 2005 и \"Need for speed: most wanted\" 2012 на платформах X360 и PC не являются дубликатами, это перезаупски игры. Удалять не буду.\n",
    "\n",
    "Игра \"madden nfl 13\" имеет дубликат, удалю строку с пустыми продажами в Серевной Америке и Японии."
   ]
  },
  {
   "cell_type": "code",
   "execution_count": 28,
   "metadata": {},
   "outputs": [
    {
     "data": {
      "text/plain": [
       "'Количество строк в датафрейме до удаления дубликатов: 16444'"
      ]
     },
     "execution_count": 28,
     "metadata": {},
     "output_type": "execute_result"
    }
   ],
   "source": [
    "f'Количество строк в датафрейме до удаления дубликатов: {df.shape[0]}'"
   ]
  },
  {
   "cell_type": "code",
   "execution_count": 29,
   "metadata": {},
   "outputs": [
    {
     "data": {
      "text/plain": [
       "'Количество строк в датафрейме после удаления дубликатов: 16443'"
      ]
     },
     "execution_count": 29,
     "metadata": {},
     "output_type": "execute_result"
    }
   ],
   "source": [
    "df = df.drop_duplicates(subset={'name', 'platform', 'year_of_release'}).reset_index(drop=True)\n",
    "f'Количество строк в датафрейме после удаления дубликатов: {df.shape[0]}'"
   ]
  },
  {
   "cell_type": "markdown",
   "metadata": {},
   "source": [
    "#### Вывод\n",
    "\n",
    " - В датасете отсутсвуют явные дубликаты;\n",
    " - На дубликаты похожи пеерзапуски игр, но у них разный год выпуска, поэтому оставляю их как отдельные записи;\n",
    " - Удалили один дубликат. У игры \"madden nfl 13\" на PS3 две строки, одна из которых не пустыми или гораздо меньшими продажами по регионам. Считаю это ошибкой в базе."
   ]
  },
  {
   "cell_type": "markdown",
   "metadata": {},
   "source": [
    "## Исследовательский анализ данных\n",
    "\n",
    "\n",
    "Требованя к анализу, вопросы:\n",
    "- Посмотрите, сколько игр выпускалось в разные годы. Важны ли данные за все периоды?\n",
    "- Посмотрите, как менялись продажи по платформам. Выберите платформы с наибольшими суммарными продажами и постройте распределение по годам. За какой характерный срок появляются новые и исчезают старые платформы?\n",
    "- Возьмите данные за соответствующий **актуальный период.** Актуальный период определите самостоятельно в результате исследования предыдущих вопросов. Основной фактор — эти данные помогут построить прогноз на 2017 год.\n",
    "- Не учитывайте в работе данные за **предыдущие годы**.\n",
    "- Какие платформы лидируют по продажам, растут или падают? Выберите несколько потенциально прибыльных платформ.\n",
    "- Постройте график «ящик с усами» по глобальным продажам игр в разбивке по платформам. Опишите результат.\n",
    "- Посмотрите, как влияют на продажи внутри одной популярной платформы отзывы пользователей и критиков. Постройте диаграмму рассеяния и посчитайте корреляцию между отзывами и продажами. Сформулируйте выводы.\n",
    "- Соотнесите выводы с продажами игр на других платформах.\n",
    "- Посмотрите на общее распределение игр по жанрам. Что можно сказать о самых прибыльных жанрах? Выделяются ли жанры с высокими и низкими продажами?"
   ]
  },
  {
   "cell_type": "markdown",
   "metadata": {},
   "source": [
    "### Количество выпущенных игр по годам"
   ]
  },
  {
   "cell_type": "markdown",
   "metadata": {},
   "source": [
    "Сколько игр выпускалось в разные годы. Важны ли данные за все периоды?"
   ]
  },
  {
   "cell_type": "code",
   "execution_count": 30,
   "metadata": {},
   "outputs": [
    {
     "data": {
      "image/png": "[encoded data removed]",
      "text/plain": [
       "<Figure size 1080x360 with 1 Axes>"
      ]
     },
     "metadata": {
      "needs_background": "light"
     },
     "output_type": "display_data"
    }
   ],
   "source": [
    "df['year_of_release'].plot(kind='hist', \n",
    "                           figsize = (15, 5), \n",
    "                           grid=True, \n",
    "                           bins=36, \n",
    "                           title='Количество выпущенных игр по годам', \n",
    "                           ec='black');\n",
    "plt.xlabel('Год выпуска'), plt.ylabel('Количество')\n",
    "plt.show()"
   ]
  },
  {
   "cell_type": "markdown",
   "metadata": {},
   "source": [
    "До 1994 года новых игр практически не было. Резкий скачок по количеству игр - в 2002 году. Пик - 2008-2009 года. После этого начался спад, возможно связанный с ростом популярности мобильных телефонов."
   ]
  },
  {
   "cell_type": "markdown",
   "metadata": {},
   "source": [
    "### Исследование продаж по платформам"
   ]
  },
  {
   "cell_type": "markdown",
   "metadata": {},
   "source": [
    "#### Как менялись продажи по платформам. Выберием платформы с наибольшими суммарными продажами и построим распределение по годам. За какой характерный срок появляются новые и исчезают старые платформы?"
   ]
  },
  {
   "cell_type": "code",
   "execution_count": 31,
   "metadata": {},
   "outputs": [
    {
     "data": {
      "text/plain": [
       "<AxesSubplot:ylabel='platform'>"
      ]
     },
     "execution_count": 31,
     "metadata": {},
     "output_type": "execute_result"
    },
    {
     "data": {
      "image/png": "[encoded data removed]",
      "text/plain": [
       "<Figure size 1080x720 with 1 Axes>"
      ]
     },
     "metadata": {
      "needs_background": "light"
     },
     "output_type": "display_data"
    }
   ],
   "source": [
    "platform_group_by_sales = df.groupby('platform')['total_sales'].sum().sort_values(ascending = True)\n",
    "platform_group_by_sales.plot(kind='barh', \n",
    "                             y='total_sales', \n",
    "                             figsize=(15,10), \n",
    "                             ec='black')"
   ]
  },
  {
   "cell_type": "markdown",
   "metadata": {},
   "source": [
    "Визуально лидреами являются первые шесть платформ. Посторим дя них график распределения суммарных продаж по годам."
   ]
  },
  {
   "cell_type": "code",
   "execution_count": 32,
   "metadata": {},
   "outputs": [
    {
     "data": {
      "image/png": "[encoded data removed]",
      "text/plain": [
       "<Figure size 1080x360 with 1 Axes>"
      ]
     },
     "metadata": {
      "needs_background": "light"
     },
     "output_type": "display_data"
    }
   ],
   "source": [
    "best_platforms = df.groupby('platform')['total_sales'].sum().sort_values(ascending = False).reset_index().head(6)\n",
    "best_platforms_names = best_platforms['platform'].unique()\n",
    "top_platforms = df[df['platform'].isin(best_platforms_names)]\n",
    "\n",
    "fig, ax = plt.subplots(figsize=(15,5))\n",
    "pd.pivot_table(top_platforms, \n",
    "               index = 'year_of_release', \n",
    "               columns='platform', \n",
    "               values='total_sales', \n",
    "               aggfunc='sum').plot(ax=ax);\n",
    "plt.xlabel('Год выпуска')\n",
    "plt.ylabel('Суммарные продажи игр платформы')\n",
    "plt.title('Распределение продаж по платформам')\n",
    "ax.grid(True)"
   ]
  },
  {
   "cell_type": "markdown",
   "metadata": {},
   "source": [
    "- Платформы до 1994 не попали в топ-6 платформ по продажам игр.\n",
    "- За срок примерно 10 лет проходит жизненный  цикл платформы: появляется, проходит пик продаж, исчезает."
   ]
  },
  {
   "cell_type": "markdown",
   "metadata": {},
   "source": [
    "#### Возьмите данные за соответствующий актуальный период. Актуальный период определите самостоятельно в результате исследования предыдущих вопросов. Основной фактор — эти данные помогут построить прогноз на 2017 год. Не учитывайте в работе данные за предыдущие годы."
   ]
  },
  {
   "cell_type": "markdown",
   "metadata": {},
   "source": [
    "Определим период данных, который поможет построить прогноз на 2017 год, учитывая результаты полученные в пункте 3.2.1.\n",
    "\n",
    "По графику Распределения продаж по 6-ти самым популярным платформам можно сделать вывод, что:\n",
    "\n",
    "-  не стоит брать период более 10 лет;\n",
    "- с 2009 до 2011 есть спад продаж игр;\n",
    "- 3 из 6 платформ с наибольшими продажами игр находятся в периоде с 2014 по 2016.\n",
    "\n",
    "Примем за актуальный период, который поможет построить прогноз на 2017 год: 2014-2016.\n",
    "Это период со стабильнымы продажами игр, и содержит информацию по 3 платформам с наибольшими суммарными продажами."
   ]
  },
  {
   "cell_type": "code",
   "execution_count": 33,
   "metadata": {},
   "outputs": [],
   "source": [
    "actual_period = df.query('year_of_release > 2013')"
   ]
  },
  {
   "cell_type": "markdown",
   "metadata": {},
   "source": [
    "#### Какие платформы лидируют по продажам, растут или падают? Выберите несколько потенциально прибыльных платформ."
   ]
  },
  {
   "cell_type": "code",
   "execution_count": 34,
   "metadata": {},
   "outputs": [
    {
     "data": {
      "text/plain": [
       "Text(0.5, 1.0, 'Распределение продаж по платформам')"
      ]
     },
     "execution_count": 34,
     "metadata": {},
     "output_type": "execute_result"
    },
    {
     "data": {
      "image/png": "[encoded data removed]",
      "text/plain": [
       "<Figure size 1080x432 with 1 Axes>"
      ]
     },
     "metadata": {
      "needs_background": "light"
     },
     "output_type": "display_data"
    }
   ],
   "source": [
    "fig, ax = plt.subplots(figsize=(15,6))\n",
    "pd.pivot_table(actual_period, \n",
    "               index = 'year_of_release', \n",
    "               columns='platform', \n",
    "               values ='total_sales', \n",
    "               aggfunc='sum').plot(ax=ax);\n",
    "plt.xlabel('Год выпуска'), plt.ylabel('Суммарные продажи по платформе (млн.)')\n",
    "plt.title('Распределение продаж по платформам')"
   ]
  },
  {
   "cell_type": "markdown",
   "metadata": {},
   "source": [
    "Посмотрим на график суммарных продаж каждой платформы:\n",
    "\n",
    "1. PSP не имеет продаж начиная после 2015. У данной платформы спад.\n",
    "2. X360 и PS3 имеют значительные продажи в 2014 (почти 35 млн и 50 млн соответственно), но стремительно падают вниз, по причине выхода новых версий платформ: XOne и PS4.\n",
    "3. XOne и PS4 c 2014 растут, имеют пик в 2015. Далее продажи идут на спад.\n",
    "4. Cпадающий график у платформ: 3DS, PSV, WiiU,  Wii, PC. \n",
    "\n",
    "Заметно преобладание нескольких платформ на рынке - это XOne и PS4. К 2016 продажи игр на всех платфомах идет на спад, это может быть по какой-либо причине в мире (по этому вопросу следует лучше изучить игровую индустрию) или выбросы. Рассмотрим 2 вариант: построим графики «ящик с усами» и проанализируем данные на наличие выбросов.\n",
    "\n",
    "За потенциально прибыльные платформы берем - XOne и PS4."
   ]
  },
  {
   "cell_type": "markdown",
   "metadata": {},
   "source": [
    "#### Постройте график «ящик с усами» по глобальным продажам игр в разбивке по платформам. Опишите результат."
   ]
  },
  {
   "cell_type": "code",
   "execution_count": 35,
   "metadata": {},
   "outputs": [
    {
     "name": "stdout",
     "output_type": "stream",
     "text": [
      "['ps4' 'xone' '3ds' 'ps3' 'x360' 'wiiu']\n"
     ]
    }
   ],
   "source": [
    "best_platforms_actual_period = actual_period.groupby('platform')['total_sales']\\\n",
    "                                            .sum().sort_values(ascending = False)\\\n",
    "                                            .reset_index().head(6)\n",
    "best_platforms_names_act_per = best_platforms_actual_period['platform'].unique()\n",
    "top_platforms_actual_period = df[df['platform'].isin(best_platforms_names_act_per)]\n",
    "print(best_platforms_actual_period['platform'].unique())"
   ]
  },
  {
   "cell_type": "code",
   "execution_count": 36,
   "metadata": {},
   "outputs": [
    {
     "data": {
      "image/png": "[encoded data removed]",
      "text/plain": [
       "<Figure size 1080x360 with 1 Axes>"
      ]
     },
     "metadata": {
      "needs_background": "light"
     },
     "output_type": "display_data"
    }
   ],
   "source": [
    "top_platforms_actual_period.boxplot('total_sales', by='platform', figsize=(15, 5))\n",
    "plt.suptitle('Глобальные продажи игр в разбивке по потенциально прибыльным платформам')\n",
    "plt.title(None);\n",
    "plt.xlabel('Платформа'), plt.ylabel('Суммарные продажи (млн.)')\n",
    "plt.ylim(0, 10)\n",
    "plt.show()"
   ]
  },
  {
   "cell_type": "code",
   "execution_count": 37,
   "metadata": {},
   "outputs": [
    {
     "data": {
      "image/png": "[encoded data removed]",
      "text/plain": [
       "<Figure size 1440x720 with 1 Axes>"
      ]
     },
     "metadata": {
      "needs_background": "light"
     },
     "output_type": "display_data"
    }
   ],
   "source": [
    "top_platforms_actual_period.boxplot('total_sales', by='platform', figsize=(20, 10))\n",
    "plt.suptitle('Глобальные продажи игр в разбивке по потенциально прибыльным платформам')\n",
    "plt.title(None);\n",
    "plt.xlabel('Платформа'), plt.ylabel('Суммарные продажи (млн.)')\n",
    "plt.ylim(0, 0.85)\n",
    "plt.show()"
   ]
  },
  {
   "cell_type": "markdown",
   "metadata": {},
   "source": [
    "Медиана по топовым платформам варьируется от 0,1 до 0,28 млн долларов прибыли за игру.\n",
    "Верхняя граница предела, за которыми уже определяются аномалии, у двух платформ - PS3 и X360 - на уровне 1,7 млн долларов.\n",
    "У остальных - от 1 до 1,5 миллионов долларов."
   ]
  },
  {
   "cell_type": "markdown",
   "metadata": {},
   "source": [
    "#### Посмотрите, как влияют на продажи внутри одной популярной платформы отзывы пользователей и критиков. Постройте диаграмму рассеяния и посчитайте корреляцию между отзывами и продажами. Сформулируйте выводы. Соотнесите выводы с продажами игр на других платформах."
   ]
  },
  {
   "cell_type": "markdown",
   "metadata": {},
   "source": [
    "Рассмотрим влияние отзывов пользователей и критиков на продажи игр платформы X360."
   ]
  },
  {
   "cell_type": "code",
   "execution_count": 38,
   "metadata": {},
   "outputs": [],
   "source": [
    "score_for_sales_x360 = actual_period[actual_period['platform'] == 'x360']"
   ]
  },
  {
   "cell_type": "code",
   "execution_count": 39,
   "metadata": {},
   "outputs": [
    {
     "data": {
      "image/png": "[encoded data removed]",
      "text/plain": [
       "<Figure size 1080x432 with 1 Axes>"
      ]
     },
     "metadata": {
      "needs_background": "light"
     },
     "output_type": "display_data"
    }
   ],
   "source": [
    "score_for_sales_x360.plot(x='critic_score', \n",
    "                          y='total_sales', \n",
    "                          kind='scatter', \n",
    "                          ec='black', \n",
    "                          figsize=(15,6), \n",
    "                          alpha=0.5, \n",
    "                          s = 100);\n",
    "plt.ylabel('Суммарные продажи (млн.)'), \n",
    "plt.xlabel('Оценка критиков'), \n",
    "plt.title('Влияние отзывов критиков на продажи игр на платформе X360');"
   ]
  },
  {
   "cell_type": "code",
   "execution_count": 40,
   "metadata": {},
   "outputs": [
    {
     "data": {
      "text/plain": [
       "Text(0.5, 1.0, 'Влияние отзывов пользователей на продажи игр на платформе X360')"
      ]
     },
     "execution_count": 40,
     "metadata": {},
     "output_type": "execute_result"
    },
    {
     "data": {
      "image/png": "[encoded data removed]",
      "text/plain": [
       "<Figure size 1080x432 with 1 Axes>"
      ]
     },
     "metadata": {
      "needs_background": "light"
     },
     "output_type": "display_data"
    }
   ],
   "source": [
    "score_for_sales_x360.plot(x='user_score', \n",
    "                          y='total_sales', \n",
    "                          kind='scatter', \n",
    "                          ec='black', \n",
    "                          figsize=(15,6), \n",
    "                          alpha=0.5, \n",
    "                          s = 100);\n",
    "plt.ylabel('Суммарные продажи (млн.)'), \n",
    "plt.xlabel('Оценка пользователей'), \n",
    "plt.title('Влияние отзывов пользователей на продажи игр на платформе X360')"
   ]
  },
  {
   "cell_type": "code",
   "execution_count": 41,
   "metadata": {},
   "outputs": [
    {
     "data": {
      "text/html": [
       "<div>\n",
       "<style scoped>\n",
       "    .dataframe tbody tr th:only-of-type {\n",
       "        vertical-align: middle;\n",
       "    }\n",
       "\n",
       "    .dataframe tbody tr th {\n",
       "        vertical-align: top;\n",
       "    }\n",
       "\n",
       "    .dataframe thead th {\n",
       "        text-align: right;\n",
       "    }\n",
       "</style>\n",
       "<table border=\"1\" class=\"dataframe\">\n",
       "  <thead>\n",
       "    <tr style=\"text-align: right;\">\n",
       "      <th></th>\n",
       "      <th>critic_score</th>\n",
       "      <th>total_sales</th>\n",
       "      <th>user_score</th>\n",
       "    </tr>\n",
       "  </thead>\n",
       "  <tbody>\n",
       "    <tr>\n",
       "      <th>critic_score</th>\n",
       "      <td>1.000000</td>\n",
       "      <td>0.525723</td>\n",
       "      <td>0.625309</td>\n",
       "    </tr>\n",
       "    <tr>\n",
       "      <th>total_sales</th>\n",
       "      <td>0.525723</td>\n",
       "      <td>1.000000</td>\n",
       "      <td>-0.138445</td>\n",
       "    </tr>\n",
       "    <tr>\n",
       "      <th>user_score</th>\n",
       "      <td>0.625309</td>\n",
       "      <td>-0.138445</td>\n",
       "      <td>1.000000</td>\n",
       "    </tr>\n",
       "  </tbody>\n",
       "</table>\n",
       "</div>"
      ],
      "text/plain": [
       "              critic_score  total_sales  user_score\n",
       "critic_score      1.000000     0.525723    0.625309\n",
       "total_sales       0.525723     1.000000   -0.138445\n",
       "user_score        0.625309    -0.138445    1.000000"
      ]
     },
     "execution_count": 41,
     "metadata": {},
     "output_type": "execute_result"
    }
   ],
   "source": [
    "x360_corr = score_for_sales_x360.pivot_table(index='name', \n",
    "            values=['total_sales', 'critic_score', 'user_score'])\n",
    "x360_corr.corr() "
   ]
  },
  {
   "cell_type": "markdown",
   "metadata": {},
   "source": [
    "1. По графику зависимости продаж от оценки критиков можно сделать вывод, что чем выше оценка, тем больше продаж. Но корреляция в 0,39 - слабая. \n",
    "2. По графику зависимости продаж от оценки пользователей сложнее сделать такой же вывод, т.к. больше выбросов. Корреляция равна 0.04 - т.е. зависимость практически отсутствует."
   ]
  },
  {
   "cell_type": "markdown",
   "metadata": {},
   "source": [
    "Построим аналогичные диаграммы рассеяния для  популярных платформ в актуальный период."
   ]
  },
  {
   "cell_type": "code",
   "execution_count": 42,
   "metadata": {},
   "outputs": [],
   "source": [
    "#создадим функцию для построения диаграмм\n",
    "def plot_scatter(data, platform_name):\n",
    "    data1 = data[data['critic_score'].isna() == False]\n",
    "    if (not data1.empty):\n",
    "        data1.plot(x='critic_score', \n",
    "                   y='total_sales', \n",
    "                   kind='scatter', \n",
    "                   figsize=(5, 3));\n",
    "        plt.ylabel('Суммарные продажи (млн.)'), \n",
    "        plt.xlabel('Оценка критиков'), \n",
    "        plt.title('Зависимость отзывов критиков на продажи игр на платформе ' + data1['platform'].unique());\n",
    "        plt.show()\n",
    "        \n",
    "    \n",
    "    data2 = data[data['user_score'].isna() == False]\n",
    "    if (not data2.empty):\n",
    "        data2.plot(y='total_sales', \n",
    "                   x='user_score', \n",
    "                   kind='scatter', \n",
    "                   figsize=(5, 3));\n",
    "        plt.ylabel('Суммарные продажи (млн.)'), \n",
    "        plt.xlabel('Оценка пользователей'), \n",
    "        plt.title('Зависимость отзывов пользователей на продажи игр на платформе ' + data2['platform'].unique());\n",
    "        plt.show()\n",
    "        \n"
   ]
  },
  {
   "cell_type": "code",
   "execution_count": 43,
   "metadata": {},
   "outputs": [
    {
     "data": {
      "image/png": "[encoded data removed]",
      "text/plain": [
       "<Figure size 360x216 with 1 Axes>"
      ]
     },
     "metadata": {
      "needs_background": "light"
     },
     "output_type": "display_data"
    },
    {
     "data": {
      "image/png": "[encoded data removed]",
      "text/plain": [
       "<Figure size 360x216 with 1 Axes>"
      ]
     },
     "metadata": {
      "needs_background": "light"
     },
     "output_type": "display_data"
    },
    {
     "data": {
      "image/png": "[encoded data removed]",
      "text/plain": [
       "<Figure size 360x216 with 1 Axes>"
      ]
     },
     "metadata": {
      "needs_background": "light"
     },
     "output_type": "display_data"
    },
    {
     "data": {
      "image/png": "[encoded data removed]",
      "text/plain": [
       "<Figure size 360x216 with 1 Axes>"
      ]
     },
     "metadata": {
      "needs_background": "light"
     },
     "output_type": "display_data"
    },
    {
     "data": {
      "image/png": "[encoded data removed]",
      "text/plain": [
       "<Figure size 360x216 with 1 Axes>"
      ]
     },
     "metadata": {
      "needs_background": "light"
     },
     "output_type": "display_data"
    },
    {
     "data": {
      "image/png": "[encoded data removed]",
      "text/plain": [
       "<Figure size 360x216 with 1 Axes>"
      ]
     },
     "metadata": {
      "needs_background": "light"
     },
     "output_type": "display_data"
    },
    {
     "data": {
      "image/png": "[encoded data removed]",
      "text/plain": [
       "<Figure size 360x216 with 1 Axes>"
      ]
     },
     "metadata": {
      "needs_background": "light"
     },
     "output_type": "display_data"
    },
    {
     "data": {
      "image/png": "[encoded data removed]",
      "text/plain": [
       "<Figure size 360x216 with 1 Axes>"
      ]
     },
     "metadata": {
      "needs_background": "light"
     },
     "output_type": "display_data"
    },
    {
     "data": {
      "image/png": "[encoded data removed]",
      "text/plain": [
       "<Figure size 360x216 with 1 Axes>"
      ]
     },
     "metadata": {
      "needs_background": "light"
     },
     "output_type": "display_data"
    },
    {
     "data": {
      "image/png": "[encoded data removed]",
      "text/plain": [
       "<Figure size 360x216 with 1 Axes>"
      ]
     },
     "metadata": {
      "needs_background": "light"
     },
     "output_type": "display_data"
    },
    {
     "data": {
      "image/png": "[encoded data removed]",
      "text/plain": [
       "<Figure size 360x216 with 1 Axes>"
      ]
     },
     "metadata": {
      "needs_background": "light"
     },
     "output_type": "display_data"
    },
    {
     "data": {
      "image/png": "[encoded data removed]",
      "text/plain": [
       "<Figure size 360x216 with 1 Axes>"
      ]
     },
     "metadata": {
      "needs_background": "light"
     },
     "output_type": "display_data"
    }
   ],
   "source": [
    "for platform_name in top_platforms_actual_period['platform'].unique():\n",
    "    data = actual_period[actual_period['platform'] == platform_name]\n",
    "    plot_scatter(data, platform_name) "
   ]
  },
  {
   "cell_type": "markdown",
   "metadata": {},
   "source": [
    "При изучении диаграмм рассеяния других платформ заметно, что о выводы сделанные при анализе одной платформы (X360) характерны и для всех платформ в целом. Ярко выраженной взаимосвязи между отзывами и продажами нет."
   ]
  },
  {
   "cell_type": "code",
   "execution_count": 44,
   "metadata": {},
   "outputs": [],
   "source": [
    "#actual_period.plot(x='user_score', y='total_sales', kind='scatter', ec='black', figsize=(15,6), alpha=0.5, s = 100);\n",
    "#plt.ylabel('Суммарные продажи (млн.)'), plt.xlabel('Оценка пользователей'), plt.title('Влияние отзывов пользователей на продажи игр на всех платофрмах с 2011 по 2016');"
   ]
  },
  {
   "cell_type": "code",
   "execution_count": 45,
   "metadata": {
    "scrolled": true
   },
   "outputs": [],
   "source": [
    "#actual_period_corr = actual_period.pivot_table(index='name', values=['total_sales', 'critic_score', 'user_score'])\n",
    "#actual_period_corr.corr() "
   ]
  },
  {
   "cell_type": "markdown",
   "metadata": {},
   "source": [
    "#### Посмотрите на общее распределение игр по жанрам. Что можно сказать о самых прибыльных жанрах? Выделяются ли жанры с высокими и низкими продажами?"
   ]
  },
  {
   "cell_type": "code",
   "execution_count": 46,
   "metadata": {
    "scrolled": true
   },
   "outputs": [
    {
     "data": {
      "text/plain": [
       "<matplotlib.legend.Legend at 0x7f8a94c05100>"
      ]
     },
     "execution_count": 46,
     "metadata": {},
     "output_type": "execute_result"
    },
    {
     "data": {
      "image/png": "[encoded data removed]",
      "text/plain": [
       "<Figure size 1080x360 with 2 Axes>"
      ]
     },
     "metadata": {
      "needs_background": "light"
     },
     "output_type": "display_data"
    }
   ],
   "source": [
    "ax = plt.gca()\n",
    "ax1 = ax.twinx()\n",
    "\n",
    "pivot = actual_period.groupby('genre').agg({'total_sales':  'median'})\\\n",
    "                                    .sort_values(by='genre', ascending=False)\n",
    "\n",
    "plot1 = pivot['total_sales']\n",
    "plot1.plot(kind='bar', \n",
    "           figsize=(15,5),\n",
    "           ec='black', \n",
    "           ax=ax, \n",
    "           width=0.2, \n",
    "           position=1)\n",
    "\n",
    "pivot2 = actual_period.groupby('genre').agg({'total_sales':  'sum'})\\\n",
    "                                        .sort_values(by='genre', ascending=False)\n",
    "\n",
    "plot2 = pivot2['total_sales']\n",
    "plot2.plot(kind='bar', \n",
    "           figsize=(15,5), \n",
    "           ec='black', \n",
    "           ax=ax1,\n",
    "           width=0.2, \n",
    "           color='green', \n",
    "           position=0)\n",
    "\n",
    "ax.legend(['Медианное значение продаж жанра'], loc = 'upper left')\n",
    "ax1.legend(['Суммарные продажи'], loc = 'upper right') "
   ]
  },
  {
   "cell_type": "markdown",
   "metadata": {},
   "source": [
    "Наибольшее число проданных копий в жанре  Action. Но медианное значение проданных копий игры больше всего у жанра Shooter.\n",
    "Значит игры жанра Shooter стабильно приносят высокий доход.\n",
    "\n",
    "Самое меньшее медианное значение продаж у  жанра  Adventure."
   ]
  },
  {
   "cell_type": "markdown",
   "metadata": {},
   "source": [
    "## Портрет пользователя каждого региона\n",
    "\n",
    "Определите для пользователя каждого региона (*NA, EU, JP*):\n",
    "\n",
    "- Самые популярные платформы (топ-5). Опишите различия в долях продаж.\n",
    "- Самые популярные жанры (топ-5). Поясните разницу.\n",
    "- Влияет ли рейтинг ESRB на продажи в отдельном регионе?"
   ]
  },
  {
   "cell_type": "markdown",
   "metadata": {},
   "source": [
    "### Самые популярные платформы (топ-5)"
   ]
  },
  {
   "cell_type": "markdown",
   "metadata": {},
   "source": [
    "Создадим функцию для построения диаграммы для определенного региона. "
   ]
  },
  {
   "cell_type": "code",
   "execution_count": 47,
   "metadata": {},
   "outputs": [],
   "source": [
    "def plot_top5_in_region(groupby, region_sales, ax):\n",
    "    pivot = actual_period.groupby(groupby)\\\n",
    "                         .agg({region_sales: 'sum'})\\\n",
    "                         .sort_values(by=region_sales, ascending=False)[:5]\n",
    "    title_dict = {'na_sales': 'Продажи в Северной Америке(NA)',\n",
    "                  'eu_sales': 'Прдажи в Европе(EU)',\n",
    "                  'jp_sales': 'Продажи в Японии (JP)'}\n",
    "    color_dict = {'na_sales': 'blue',\n",
    "                  'eu_sales': 'purple',\n",
    "                  'jp_sales': 'green'}\n",
    "    plot = pivot.plot(kind='bar', \n",
    "                      ec='black', \n",
    "                      title=title_dict[region_sales], \n",
    "                      ax=axes[ax], \n",
    "                      fontsize=18, \n",
    "                      color=color_dict[region_sales], \n",
    "                      rot=20)\n",
    "    plot.legend(prop={'size':17})\n",
    "    plot.set_xlabel('')\n",
    "    plot.title.set_size(20)\n"
   ]
  },
  {
   "cell_type": "code",
   "execution_count": 48,
   "metadata": {
    "scrolled": true
   },
   "outputs": [
    {
     "data": {
      "image/png": "[encoded data removed]",
      "text/plain": [
       "<Figure size 1800x432 with 3 Axes>"
      ]
     },
     "metadata": {
      "needs_background": "light"
     },
     "output_type": "display_data"
    }
   ],
   "source": [
    "fig, axes = plt.subplots(1, 3, figsize=(25,6))\n",
    "plot_top5_in_region('platform', 'na_sales', 0)\n",
    "plot_top5_in_region('platform', 'eu_sales', 1)\n",
    "plot_top5_in_region('platform', 'jp_sales', 2)"
   ]
  },
  {
   "cell_type": "markdown",
   "metadata": {},
   "source": [
    "Посмотрим доли продаж пяти популярных платформ в каждом регионе."
   ]
  },
  {
   "cell_type": "code",
   "execution_count": 49,
   "metadata": {},
   "outputs": [
    {
     "data": {
      "image/png": "[encoded data removed]",
      "text/plain": [
       "<Figure size 360x360 with 1 Axes>"
      ]
     },
     "metadata": {},
     "output_type": "display_data"
    },
    {
     "data": {
      "image/png": "[encoded data removed]",
      "text/plain": [
       "<Figure size 360x360 with 1 Axes>"
      ]
     },
     "metadata": {},
     "output_type": "display_data"
    },
    {
     "data": {
      "image/png": "[encoded data removed]",
      "text/plain": [
       "<Figure size 360x360 with 1 Axes>"
      ]
     },
     "metadata": {},
     "output_type": "display_data"
    }
   ],
   "source": [
    "for region in {'na_sales', 'eu_sales', 'jp_sales'}:\n",
    "    (actual_period.pivot_table(index='platform', \n",
    "                               values=region, \n",
    "                               aggfunc='sum')\n",
    "                .sort_values(region, ascending=False).head(5)\n",
    "                .plot(kind='pie', y=region, \n",
    "                      figsize=(5, 5), legend=False, \n",
    "                      title = region, autopct='%1.1f%%')\n",
    "                .set(ylabel='Суммарные продажи, млн.проданных копий')\n",
    "    )\n",
    "    plt.show()"
   ]
  },
  {
   "cell_type": "markdown",
   "metadata": {},
   "source": [
    "У жителей рассматриваемых регионов разные предпочтения в выборе платформ. Самая популярная в Северной Америке - PS4, В Европе - PS4, в Японии - 3DS."
   ]
  },
  {
   "cell_type": "markdown",
   "metadata": {},
   "source": [
    "### Самые популярные жанры (топ-5)"
   ]
  },
  {
   "cell_type": "markdown",
   "metadata": {},
   "source": [
    "Построим даграммы пяти популярных жанров для каждого региона."
   ]
  },
  {
   "cell_type": "code",
   "execution_count": 50,
   "metadata": {},
   "outputs": [
    {
     "data": {
      "image/png": "[encoded data removed]",
      "text/plain": [
       "<Figure size 1800x432 with 3 Axes>"
      ]
     },
     "metadata": {
      "needs_background": "light"
     },
     "output_type": "display_data"
    }
   ],
   "source": [
    "fig, axes = plt.subplots(1, 3, figsize=(25,6))\n",
    "plot_top5_in_region('genre', 'na_sales', 0)\n",
    "plot_top5_in_region('genre', 'eu_sales', 1)\n",
    "plot_top5_in_region('genre', 'jp_sales', 2)"
   ]
  },
  {
   "cell_type": "markdown",
   "metadata": {},
   "source": [
    "Вкусы в Северной Америке и Европе схожи: топ-4 одинаковые - Action, Shooter, Sports, RPG. В Северной Америке больше играют в аркады (Misc), в Европе же чаще выбирают гонки (Racing).\n",
    "\n",
    "\n",
    "В Японии вкус совершенно иной - на первом месте ролевые игры (RPG). Далее жанры Action, аркады (Misc), Fighting, Platform."
   ]
  },
  {
   "cell_type": "markdown",
   "metadata": {},
   "source": [
    "### Влияет ли рейтинг ESRB на продажи в отдельном регионе?"
   ]
  },
  {
   "cell_type": "code",
   "execution_count": 51,
   "metadata": {},
   "outputs": [
    {
     "name": "stderr",
     "output_type": "stream",
     "text": [
      "/tmp/ipykernel_182/1795964444.py:2: SettingWithCopyWarning: \n",
      "A value is trying to be set on a copy of a slice from a DataFrame.\n",
      "Try using .loc[row_indexer,col_indexer] = value instead\n",
      "\n",
      "See the caveats in the documentation: https://pandas.pydata.org/pandas-docs/stable/user_guide/indexing.html#returning-a-view-versus-a-copy\n",
      "  actual_period['rating'] = actual_period['rating'].fillna('no_rating')\n"
     ]
    },
    {
     "data": {
      "text/plain": [
       "array(['no_rating', 'M', 'E', 'T', 'E10+'], dtype=object)"
      ]
     },
     "execution_count": 51,
     "metadata": {},
     "output_type": "execute_result"
    }
   ],
   "source": [
    "#для учета игр без рейтинга заменим nan на строковое значение\n",
    "actual_period['rating'] = actual_period['rating'].fillna('no_rating')\n",
    "actual_period['rating'].unique()"
   ]
  },
  {
   "cell_type": "code",
   "execution_count": 52,
   "metadata": {},
   "outputs": [],
   "source": [
    "#ESRB_description = ['> 17 лет', np.nan, 'Для всех', '>10 лет', '13-19 лет', 'Для детей младшего возраста', 'Рейтинг не установлен']\n",
    "#ESRB_description = {'E': 'Для всех', 'M': '> 17 лет', 'T': '13-19 лет', 'E10+': '>10 лет', 'RP': 'Рейтинг не установлен', 'EC': 'Для детей младшего возраста' }"
   ]
  },
  {
   "cell_type": "code",
   "execution_count": 53,
   "metadata": {},
   "outputs": [],
   "source": [
    "#actual_period['rating'] = actual_period['rating'].replace(ESRB_rating, ESRB_description)\n",
    "#actual_period['ESRB_description'] = actual_period['rating'].map(ESRB_description)№"
   ]
  },
  {
   "cell_type": "code",
   "execution_count": 54,
   "metadata": {},
   "outputs": [
    {
     "data": {
      "text/html": [
       "<div>\n",
       "<style scoped>\n",
       "    .dataframe tbody tr th:only-of-type {\n",
       "        vertical-align: middle;\n",
       "    }\n",
       "\n",
       "    .dataframe tbody tr th {\n",
       "        vertical-align: top;\n",
       "    }\n",
       "\n",
       "    .dataframe thead th {\n",
       "        text-align: right;\n",
       "    }\n",
       "</style>\n",
       "<table border=\"1\" class=\"dataframe\">\n",
       "  <thead>\n",
       "    <tr style=\"text-align: right;\">\n",
       "      <th></th>\n",
       "      <th>name</th>\n",
       "      <th>platform</th>\n",
       "      <th>year_of_release</th>\n",
       "      <th>genre</th>\n",
       "      <th>na_sales</th>\n",
       "      <th>eu_sales</th>\n",
       "      <th>jp_sales</th>\n",
       "      <th>other_sales</th>\n",
       "      <th>critic_score</th>\n",
       "      <th>user_score</th>\n",
       "      <th>rating</th>\n",
       "      <th>total_sales</th>\n",
       "      <th>name_and_platform</th>\n",
       "    </tr>\n",
       "  </thead>\n",
       "  <tbody>\n",
       "    <tr>\n",
       "      <th>31</th>\n",
       "      <td>call of duty: black ops 3</td>\n",
       "      <td>ps4</td>\n",
       "      <td>2015.0</td>\n",
       "      <td>Shooter</td>\n",
       "      <td>6.03</td>\n",
       "      <td>5.86</td>\n",
       "      <td>0.36</td>\n",
       "      <td>2.38</td>\n",
       "      <td>NaN</td>\n",
       "      <td>NaN</td>\n",
       "      <td>no_rating</td>\n",
       "      <td>14.63</td>\n",
       "      <td>call of duty: black ops 3 ps4</td>\n",
       "    </tr>\n",
       "    <tr>\n",
       "      <th>42</th>\n",
       "      <td>grand theft auto v</td>\n",
       "      <td>ps4</td>\n",
       "      <td>2014.0</td>\n",
       "      <td>Action</td>\n",
       "      <td>3.96</td>\n",
       "      <td>6.31</td>\n",
       "      <td>0.38</td>\n",
       "      <td>1.97</td>\n",
       "      <td>97.0</td>\n",
       "      <td>8.3</td>\n",
       "      <td>M</td>\n",
       "      <td>12.62</td>\n",
       "      <td>grand theft auto v ps4</td>\n",
       "    </tr>\n",
       "    <tr>\n",
       "      <th>47</th>\n",
       "      <td>pokemon omega ruby/pokemon alpha sapphire</td>\n",
       "      <td>3ds</td>\n",
       "      <td>2014.0</td>\n",
       "      <td>Role-Playing</td>\n",
       "      <td>4.35</td>\n",
       "      <td>3.49</td>\n",
       "      <td>3.10</td>\n",
       "      <td>0.74</td>\n",
       "      <td>NaN</td>\n",
       "      <td>NaN</td>\n",
       "      <td>no_rating</td>\n",
       "      <td>11.68</td>\n",
       "      <td>pokemon omega ruby/pokemon alpha sapphire 3ds</td>\n",
       "    </tr>\n",
       "    <tr>\n",
       "      <th>77</th>\n",
       "      <td>fifa 16</td>\n",
       "      <td>ps4</td>\n",
       "      <td>2015.0</td>\n",
       "      <td>Sports</td>\n",
       "      <td>1.12</td>\n",
       "      <td>6.12</td>\n",
       "      <td>0.06</td>\n",
       "      <td>1.28</td>\n",
       "      <td>82.0</td>\n",
       "      <td>4.3</td>\n",
       "      <td>E</td>\n",
       "      <td>8.58</td>\n",
       "      <td>fifa 16 ps4</td>\n",
       "    </tr>\n",
       "    <tr>\n",
       "      <th>87</th>\n",
       "      <td>star wars battlefront (2015)</td>\n",
       "      <td>ps4</td>\n",
       "      <td>2015.0</td>\n",
       "      <td>Shooter</td>\n",
       "      <td>2.99</td>\n",
       "      <td>3.49</td>\n",
       "      <td>0.22</td>\n",
       "      <td>1.28</td>\n",
       "      <td>NaN</td>\n",
       "      <td>NaN</td>\n",
       "      <td>no_rating</td>\n",
       "      <td>7.98</td>\n",
       "      <td>star wars battlefront (2015) ps4</td>\n",
       "    </tr>\n",
       "    <tr>\n",
       "      <th>92</th>\n",
       "      <td>call of duty: advanced warfare</td>\n",
       "      <td>ps4</td>\n",
       "      <td>2014.0</td>\n",
       "      <td>Shooter</td>\n",
       "      <td>2.81</td>\n",
       "      <td>3.48</td>\n",
       "      <td>0.14</td>\n",
       "      <td>1.23</td>\n",
       "      <td>83.0</td>\n",
       "      <td>5.7</td>\n",
       "      <td>M</td>\n",
       "      <td>7.66</td>\n",
       "      <td>call of duty: advanced warfare ps4</td>\n",
       "    </tr>\n",
       "    <tr>\n",
       "      <th>94</th>\n",
       "      <td>fifa 17</td>\n",
       "      <td>ps4</td>\n",
       "      <td>2016.0</td>\n",
       "      <td>Sports</td>\n",
       "      <td>0.66</td>\n",
       "      <td>5.75</td>\n",
       "      <td>0.08</td>\n",
       "      <td>1.11</td>\n",
       "      <td>85.0</td>\n",
       "      <td>5.0</td>\n",
       "      <td>E</td>\n",
       "      <td>7.60</td>\n",
       "      <td>fifa 17 ps4</td>\n",
       "    </tr>\n",
       "    <tr>\n",
       "      <th>96</th>\n",
       "      <td>super smash bros. for wii u and 3ds</td>\n",
       "      <td>3ds</td>\n",
       "      <td>2014.0</td>\n",
       "      <td>Fighting</td>\n",
       "      <td>3.27</td>\n",
       "      <td>1.37</td>\n",
       "      <td>2.43</td>\n",
       "      <td>0.48</td>\n",
       "      <td>NaN</td>\n",
       "      <td>NaN</td>\n",
       "      <td>no_rating</td>\n",
       "      <td>7.55</td>\n",
       "      <td>super smash bros. for wii u and 3ds 3ds</td>\n",
       "    </tr>\n",
       "    <tr>\n",
       "      <th>99</th>\n",
       "      <td>call of duty: black ops 3</td>\n",
       "      <td>xone</td>\n",
       "      <td>2015.0</td>\n",
       "      <td>Shooter</td>\n",
       "      <td>4.59</td>\n",
       "      <td>2.11</td>\n",
       "      <td>0.01</td>\n",
       "      <td>0.68</td>\n",
       "      <td>NaN</td>\n",
       "      <td>NaN</td>\n",
       "      <td>no_rating</td>\n",
       "      <td>7.39</td>\n",
       "      <td>call of duty: black ops 3 xone</td>\n",
       "    </tr>\n",
       "    <tr>\n",
       "      <th>105</th>\n",
       "      <td>fallout 4</td>\n",
       "      <td>ps4</td>\n",
       "      <td>2015.0</td>\n",
       "      <td>Role-Playing</td>\n",
       "      <td>2.53</td>\n",
       "      <td>3.27</td>\n",
       "      <td>0.24</td>\n",
       "      <td>1.13</td>\n",
       "      <td>87.0</td>\n",
       "      <td>6.5</td>\n",
       "      <td>M</td>\n",
       "      <td>7.17</td>\n",
       "      <td>fallout 4 ps4</td>\n",
       "    </tr>\n",
       "  </tbody>\n",
       "</table>\n",
       "</div>"
      ],
      "text/plain": [
       "                                          name platform  year_of_release  \\\n",
       "31                   call of duty: black ops 3      ps4           2015.0   \n",
       "42                          grand theft auto v      ps4           2014.0   \n",
       "47   pokemon omega ruby/pokemon alpha sapphire      3ds           2014.0   \n",
       "77                                     fifa 16      ps4           2015.0   \n",
       "87                star wars battlefront (2015)      ps4           2015.0   \n",
       "92              call of duty: advanced warfare      ps4           2014.0   \n",
       "94                                     fifa 17      ps4           2016.0   \n",
       "96         super smash bros. for wii u and 3ds      3ds           2014.0   \n",
       "99                   call of duty: black ops 3     xone           2015.0   \n",
       "105                                  fallout 4      ps4           2015.0   \n",
       "\n",
       "            genre  na_sales  eu_sales  jp_sales  other_sales  critic_score  \\\n",
       "31        Shooter      6.03      5.86      0.36         2.38           NaN   \n",
       "42         Action      3.96      6.31      0.38         1.97          97.0   \n",
       "47   Role-Playing      4.35      3.49      3.10         0.74           NaN   \n",
       "77         Sports      1.12      6.12      0.06         1.28          82.0   \n",
       "87        Shooter      2.99      3.49      0.22         1.28           NaN   \n",
       "92        Shooter      2.81      3.48      0.14         1.23          83.0   \n",
       "94         Sports      0.66      5.75      0.08         1.11          85.0   \n",
       "96       Fighting      3.27      1.37      2.43         0.48           NaN   \n",
       "99        Shooter      4.59      2.11      0.01         0.68           NaN   \n",
       "105  Role-Playing      2.53      3.27      0.24         1.13          87.0   \n",
       "\n",
       "     user_score     rating  total_sales  \\\n",
       "31          NaN  no_rating        14.63   \n",
       "42          8.3          M        12.62   \n",
       "47          NaN  no_rating        11.68   \n",
       "77          4.3          E         8.58   \n",
       "87          NaN  no_rating         7.98   \n",
       "92          5.7          M         7.66   \n",
       "94          5.0          E         7.60   \n",
       "96          NaN  no_rating         7.55   \n",
       "99          NaN  no_rating         7.39   \n",
       "105         6.5          M         7.17   \n",
       "\n",
       "                                 name_and_platform  \n",
       "31                   call of duty: black ops 3 ps4  \n",
       "42                          grand theft auto v ps4  \n",
       "47   pokemon omega ruby/pokemon alpha sapphire 3ds  \n",
       "77                                     fifa 16 ps4  \n",
       "87                star wars battlefront (2015) ps4  \n",
       "92              call of duty: advanced warfare ps4  \n",
       "94                                     fifa 17 ps4  \n",
       "96         super smash bros. for wii u and 3ds 3ds  \n",
       "99                  call of duty: black ops 3 xone  \n",
       "105                                  fallout 4 ps4  "
      ]
     },
     "execution_count": 54,
     "metadata": {},
     "output_type": "execute_result"
    }
   ],
   "source": [
    "actual_period.head(10)"
   ]
  },
  {
   "cell_type": "code",
   "execution_count": 55,
   "metadata": {},
   "outputs": [
    {
     "data": {
      "image/png": "[encoded data removed]",
      "text/plain": [
       "<Figure size 1800x432 with 3 Axes>"
      ]
     },
     "metadata": {
      "needs_background": "light"
     },
     "output_type": "display_data"
    }
   ],
   "source": [
    "fig, axes = plt.subplots(1, 3, figsize=(25,6))\n",
    "plot_top5_in_region('rating', 'na_sales', 0)\n",
    "plot_top5_in_region('rating', 'eu_sales', 1)\n",
    "plot_top5_in_region('rating', 'jp_sales', 2)"
   ]
  },
  {
   "cell_type": "markdown",
   "metadata": {},
   "source": [
    "В Северной Америке и Европе наибольшее количество проданных копий у игр с рейтингом `M` (`> 17 лет`). Что логично вытекает из популярных жанров, т.к. игры жанров Shooter и Action редко могут быть разрешены детям.\n",
    "\n",
    "В Японии преобладают игры без рейтинга, далее идет рейтинг  `T` (`13-19 лет`). Возможно причина того, что лидеры продаж в Японии - игры без рейтинга в том, что в Японии рейтинг контента не требуется по закону и есть свои категории контента."
   ]
  },
  {
   "cell_type": "markdown",
   "metadata": {},
   "source": [
    "#### Вывод"
   ]
  },
  {
   "cell_type": "markdown",
   "metadata": {},
   "source": [
    "Портреты пользователей из каждого региона:\n",
    "\n",
    "Средне-статистический пользователь из Северной Америки пользуется, в основном, платформами XOne и PS4, предпочитает игровые жанры \"Action\" и \"Shoter\" и игры с рейтингом `M` (`> 17 лет`).\n",
    "\n",
    "Средне-статистический пользователь из Европы предпочитает платформы XOne и PS4, жанры \"Action\" и \"Shoter\" и игры с рейтингом `M` (`> 17 лет`).\n",
    "\n",
    "Средне-статистический пользователь из Японии отдает своё предпочтение платформе 3DS, жанру \"Role-Playing\" и \"Action\", играм без рейтинга ESRB."
   ]
  },
  {
   "cell_type": "markdown",
   "metadata": {},
   "source": [
    "## Проверка гипотез\n",
    "\n",
    "- Средние пользовательские рейтинги платформ *Xbox One* и *PC* одинаковые;\n",
    "- Средние пользовательские рейтинги жанров *Action* (англ. «действие», экшен-игры) и *Sports* (англ. «спортивные соревнования») разные.\n",
    "\n",
    "Задайте самостоятельно пороговое значение *alpha*.\n",
    "\n",
    "Поясните:\n",
    "\n",
    "- Как вы сформулировали нулевую и альтернативную гипотезы;\n",
    "- Какой критерий применили для проверки гипотез и почему."
   ]
  },
  {
   "cell_type": "markdown",
   "metadata": {},
   "source": [
    "### Средние пользовательские рейтинги платформ Xbox One и PC одинаковые"
   ]
  },
  {
   "cell_type": "markdown",
   "metadata": {},
   "source": [
    "**Н0 (нулевая гипотеза)** - средние пользовательские рейтинги платформ Xbox One и PC одинаковые.\n",
    "\n",
    "**Н1 (альтернативная гипотеза)** - средние пользовательские рейтинги платформ Xbox One и PC отличаются между собой.\n",
    "\n",
    "Критический уровень статистической значимости  примем в 5%."
   ]
  },
  {
   "cell_type": "code",
   "execution_count": 56,
   "metadata": {},
   "outputs": [],
   "source": [
    "xbox_one_ratings = actual_period[(actual_period['platform'] == 'xone') \\\n",
    "                                 & (actual_period['user_score'] > 0)]['user_score']\n",
    "pc_ratings = actual_period[(actual_period['platform'] == 'pc') \\\n",
    "                           & (actual_period['user_score'] > 0)]['user_score']"
   ]
  },
  {
   "cell_type": "code",
   "execution_count": 57,
   "metadata": {},
   "outputs": [
    {
     "name": "stdout",
     "output_type": "stream",
     "text": [
      "p-значение: 0.11601398086668832\n",
      "Не получилось отвергнуть нулевую гипотезу, средние пользовательские рейтинги платформ Xbox One и PC одинаковы!\n"
     ]
    }
   ],
   "source": [
    "alpha = .05 # критический уровень статистической значимости\n",
    "\n",
    "results = ttest_ind(\n",
    "    xbox_one_ratings,\n",
    "    pc_ratings,\n",
    "    equal_var= False  # так как дисперсии генеральных совокупностей, из которых взяты выборки, не равны\n",
    "    #equal_var= True # для сравнения результата (что будет когда  True)\n",
    ")\n",
    "\n",
    "print('p-значение:', results.pvalue)\n",
    "\n",
    "if (results.pvalue < alpha):\n",
    "    print(\"Отвергаем нулевую гипотезу, т.е. средние пользовательские рейтинги платформ Xbox One и PC различаются!\")\n",
    "else:\n",
    "    print(\"Не получилось отвергнуть нулевую гипотезу, средние пользовательские рейтинги платформ Xbox One и PC одинаковы!\")"
   ]
  },
  {
   "cell_type": "code",
   "execution_count": 58,
   "metadata": {},
   "outputs": [
    {
     "name": "stdout",
     "output_type": "stream",
     "text": [
      "Средний пользовательский рейтинг платформ Xbox One: 6.59 \n",
      "Средний пользовательский рейтинг платформ PC: 6.30 \n"
     ]
    }
   ],
   "source": [
    "# сравним средние оценки\n",
    "print('{:} {: >.2f} '.format(\"Средний пользовательский рейтинг платформ Xbox One:\", xbox_one_ratings.mean() ))\n",
    "print('{:} {: >.2f} '.format(\"Средний пользовательский рейтинг платформ PC:\",pc_ratings.mean() ))"
   ]
  },
  {
   "cell_type": "markdown",
   "metadata": {},
   "source": [
    "#### Вывод\n",
    "Средние пользовательские рейтинги платформ Xbox One и PC статистически одинаковы! \n",
    "\n",
    "Из \"ручного\" сравнения видно, что cредние пользовательские рейтинги платформ Xbox One и PC действительно очень близки по своим значениям. У нас нет оснований утверждать, что средние пользовательские рейтинги платформ Xbox One и PC значимо различаются."
   ]
  },
  {
   "cell_type": "markdown",
   "metadata": {},
   "source": [
    "### Средние пользовательские рейтинги жанров Action и Sports разные."
   ]
  },
  {
   "cell_type": "markdown",
   "metadata": {},
   "source": [
    "**Н0 (нулевая гипотеза)** - средние пользовательские рейтинги жанров **Action** и **Sports** одинаковые.\n",
    "\n",
    "**Н1 (альтернативная гипотеза)** - средние пользовательские рейтинги жанров **Action** и **Sports** отличаются между собой.\n",
    "\n",
    "Критический уровень статистической значимости  примем в 5%."
   ]
  },
  {
   "cell_type": "code",
   "execution_count": 59,
   "metadata": {},
   "outputs": [],
   "source": [
    "action_ratings = actual_period[(actual_period['genre'] == 'Action') \\\n",
    "                               & (actual_period['user_score'] > 0)]['user_score']\n",
    "sports_ratings = actual_period[(actual_period['genre'] == 'Sports') \\\n",
    "                               & (actual_period['user_score'] > 0)]['user_score']"
   ]
  },
  {
   "cell_type": "code",
   "execution_count": 60,
   "metadata": {},
   "outputs": [
    {
     "name": "stdout",
     "output_type": "stream",
     "text": [
      "p-значение: 1.1825550382644557e-14\n",
      "Отвергаем нулевую гипотезу, т.е. средние пользовательские рейтинги  жанров Action и Sports отличаются между собой!\n"
     ]
    }
   ],
   "source": [
    "alpha = .05 # критический уровень статистической значимости\n",
    "\n",
    "results = ttest_ind(\n",
    "    action_ratings,\n",
    "    sports_ratings,\n",
    "    equal_var= False  # так как дисперсии генеральных совокупностей, из которых взяты выборки, не равны\n",
    "    #equal_var= True # для сравнения результата (что будет когда  True)\n",
    ")\n",
    "\n",
    "print('p-значение:', results.pvalue)\n",
    "\n",
    "if (results.pvalue < alpha):\n",
    "    print(\"Отвергаем нулевую гипотезу, т.е. средние пользовательские рейтинги  жанров Action и Sports отличаются между собой!\")\n",
    "else:\n",
    "    print(\"Не получилось отвергнуть нулевую гипотезу, средние пользовательские рейтинги  жанров Action и Sports одинаковы!\")"
   ]
  },
  {
   "cell_type": "code",
   "execution_count": 61,
   "metadata": {},
   "outputs": [
    {
     "name": "stdout",
     "output_type": "stream",
     "text": [
      "Средний пользовательский рейтинг жанра Action: 6.76 \n",
      "Средний пользовательский рейтинг жанра Sports: 5.23 \n"
     ]
    }
   ],
   "source": [
    "# сравним средние оценки\n",
    "print('{:} {: >.2f} '.format(\"Средний пользовательский рейтинг жанра Action:\", action_ratings.mean() ))\n",
    "print('{:} {: >.2f} '.format(\"Средний пользовательский рейтинг жанра Sports:\",sports_ratings.mean() ))"
   ]
  },
  {
   "cell_type": "markdown",
   "metadata": {},
   "source": [
    "###### Вывод\n",
    "Средние пользовательские рейтинги жанров Action и Sports разные! Вероятность случайно получить такое отличие крайне мала.\n",
    "Из \"ручного\" сравнения видно, что cредние пользовательские рейтинги жанров Action и Sports действительно разные."
   ]
  },
  {
   "cell_type": "markdown",
   "metadata": {},
   "source": [
    "## Вывод"
   ]
  },
  {
   "cell_type": "markdown",
   "metadata": {},
   "source": [
    "Основные выводы по проделанной работе:\n",
    "\n",
    " - Цикл жизни платформы - 10 лет, раз в пять лет происходит смена платформы лидера. Сейчас (в конце 2016) максимально привлекательными выглядят следующие платформы: `PS4` и `Xbox one`.\n",
    "\n",
    "- `action` - имеет самое большое число проданных копий, но игры в жанре `shooter` продаются стабильнее. Также популярны  `sports`, `RPG`.\n",
    "- если оценивать рынки с точки зрения популярности платформ (доля продаж в регионе), то\n",
    "    - Северная Америка: `PS4`, `Xone`, `X360`;\n",
    "    - Европа: `PS4`, `Xone` `PS3`;\n",
    "    - Япония: `3ds`, `PS4`,`PSV`;\n",
    "- если оценивать рынки с точки зрения популярности жанров (доля продаж в регионе), то:\n",
    "    - Северная Америка: `action`, `sports`, `shooter`;\n",
    "    - Европа: `action`, `sports`, `shooter`;\n",
    "    - Япония: `role-playing`, `action`, `misc`;\n",
    "- популярность игр в зависимости от рейтинга ESRB:\n",
    "    - Северная Америка:  `M` (`> 17 лет`), игры без рейтинга ESRB, `E` (`Для всех`);\n",
    "    - Европа: `M` (`> 17 лет`), игры без рейтинга ESRB, `E` (`Для всех`;\n",
    "    - Япония: игры без рейтинга ESRB, `T` (`13-19 лет`), `E` (`Для всех`);\n",
    "\n",
    "Главный вопрос всего проекта: нужно выявить определяющие успешность игры закономерности. Это позволит сделать ставку на потенциально популярный продукт и спланировать рекламные кампании\n",
    "\n",
    "Рекомендации для планирования рекламных кампаний по итогам проекта:\n",
    "\n",
    "1. нужно делать ставку на игры для приставок. Сейчас поплуярность набирают `PS4` и `Xbox one`.\n",
    "2. обязательно стоит учесть региональные предпочтения к платформам и жанрам. Как было показано выше рынки США и Европы очень похожи, а вот Япония отличается.\n",
    "3. для потенциального увеличения продаж лучше всего рекламировать игры с рейтингом `M` (`> 17 лет`), `E` (`Для всех`), `T` (`13-19 лет`)."
   ]
  }
 ],
 "metadata": {
  "ExecuteTimeLog": [
   {
    "duration": 666,
    "start_time": "2022-08-02T16:37:21.921Z"
   },
   {
    "duration": 96,
    "start_time": "2022-08-02T16:37:44.474Z"
   },
   {
    "duration": 12,
    "start_time": "2022-08-02T16:38:24.788Z"
   },
   {
    "duration": 26,
    "start_time": "2022-08-02T16:41:04.271Z"
   },
   {
    "duration": 4,
    "start_time": "2022-08-02T17:17:57.638Z"
   },
   {
    "duration": 6,
    "start_time": "2022-08-02T17:22:03.830Z"
   },
   {
    "duration": 507,
    "start_time": "2022-08-02T17:38:32.279Z"
   },
   {
    "duration": 7,
    "start_time": "2022-08-02T17:38:53.939Z"
   },
   {
    "duration": 64,
    "start_time": "2022-08-02T17:39:03.059Z"
   },
   {
    "duration": 18,
    "start_time": "2022-08-02T17:43:13.331Z"
   },
   {
    "duration": 27,
    "start_time": "2022-08-02T17:43:19.223Z"
   },
   {
    "duration": 16,
    "start_time": "2022-08-02T17:43:38.517Z"
   },
   {
    "duration": 14,
    "start_time": "2022-08-02T17:43:49.767Z"
   },
   {
    "duration": 414,
    "start_time": "2022-08-02T17:47:10.537Z"
   },
   {
    "duration": 13,
    "start_time": "2022-08-02T17:47:10.953Z"
   },
   {
    "duration": 34,
    "start_time": "2022-08-02T17:47:10.967Z"
   },
   {
    "duration": 246,
    "start_time": "2022-08-02T17:47:11.003Z"
   },
   {
    "duration": 0,
    "start_time": "2022-08-02T17:47:11.250Z"
   },
   {
    "duration": 0,
    "start_time": "2022-08-02T17:47:11.251Z"
   },
   {
    "duration": 3,
    "start_time": "2022-08-02T17:48:34.533Z"
   },
   {
    "duration": 5,
    "start_time": "2022-08-02T17:48:59.131Z"
   },
   {
    "duration": 12,
    "start_time": "2022-08-02T17:51:13.229Z"
   },
   {
    "duration": 7,
    "start_time": "2022-08-02T17:55:05.225Z"
   },
   {
    "duration": 837,
    "start_time": "2022-08-02T17:55:33.280Z"
   },
   {
    "duration": 5,
    "start_time": "2022-08-02T17:55:43.168Z"
   },
   {
    "duration": 23,
    "start_time": "2022-08-02T17:56:07.027Z"
   },
   {
    "duration": 17,
    "start_time": "2022-08-02T17:59:35.895Z"
   },
   {
    "duration": 5,
    "start_time": "2022-08-02T19:15:57.345Z"
   },
   {
    "duration": 9,
    "start_time": "2022-08-02T19:16:16.226Z"
   },
   {
    "duration": 7,
    "start_time": "2022-08-02T19:16:38.486Z"
   },
   {
    "duration": 4,
    "start_time": "2022-08-02T19:16:58.734Z"
   },
   {
    "duration": 5,
    "start_time": "2022-08-02T19:17:08.816Z"
   },
   {
    "duration": 584,
    "start_time": "2022-08-02T19:17:22.328Z"
   },
   {
    "duration": 379,
    "start_time": "2022-08-02T19:17:37.655Z"
   },
   {
    "duration": 13,
    "start_time": "2022-08-02T19:17:38.036Z"
   },
   {
    "duration": 27,
    "start_time": "2022-08-02T19:17:38.050Z"
   },
   {
    "duration": 5,
    "start_time": "2022-08-02T19:17:38.078Z"
   },
   {
    "duration": 20,
    "start_time": "2022-08-02T19:17:38.084Z"
   },
   {
    "duration": 44,
    "start_time": "2022-08-02T19:17:53.627Z"
   },
   {
    "duration": 3,
    "start_time": "2022-08-02T19:17:59.723Z"
   },
   {
    "duration": 5,
    "start_time": "2022-08-02T19:24:35.104Z"
   },
   {
    "duration": 21,
    "start_time": "2022-08-02T19:25:44.156Z"
   },
   {
    "duration": 11,
    "start_time": "2022-08-02T19:30:37.055Z"
   },
   {
    "duration": 6,
    "start_time": "2022-08-02T19:33:26.961Z"
   },
   {
    "duration": 16,
    "start_time": "2022-08-02T19:33:34.344Z"
   },
   {
    "duration": 17,
    "start_time": "2022-08-02T19:35:19.682Z"
   },
   {
    "duration": 5,
    "start_time": "2022-08-02T19:37:00.203Z"
   },
   {
    "duration": 71,
    "start_time": "2022-08-02T19:46:43.885Z"
   },
   {
    "duration": 787,
    "start_time": "2022-08-02T19:47:27.525Z"
   },
   {
    "duration": 15,
    "start_time": "2022-08-02T19:47:28.315Z"
   },
   {
    "duration": 26,
    "start_time": "2022-08-02T19:47:28.332Z"
   },
   {
    "duration": 5,
    "start_time": "2022-08-02T19:47:28.360Z"
   },
   {
    "duration": 14,
    "start_time": "2022-08-02T19:47:28.367Z"
   },
   {
    "duration": 18,
    "start_time": "2022-08-02T19:47:28.400Z"
   },
   {
    "duration": 5,
    "start_time": "2022-08-02T19:47:28.419Z"
   },
   {
    "duration": 21,
    "start_time": "2022-08-02T19:47:28.425Z"
   },
   {
    "duration": 13,
    "start_time": "2022-08-02T19:50:37.286Z"
   },
   {
    "duration": 9,
    "start_time": "2022-08-02T19:52:24.947Z"
   },
   {
    "duration": 11,
    "start_time": "2022-08-02T19:52:38.649Z"
   },
   {
    "duration": 987,
    "start_time": "2022-08-06T16:28:38.018Z"
   },
   {
    "duration": 14,
    "start_time": "2022-08-06T16:28:39.007Z"
   },
   {
    "duration": 46,
    "start_time": "2022-08-06T16:28:39.023Z"
   },
   {
    "duration": 8,
    "start_time": "2022-08-06T16:28:39.070Z"
   },
   {
    "duration": 12,
    "start_time": "2022-08-06T16:28:39.079Z"
   },
   {
    "duration": 17,
    "start_time": "2022-08-06T16:28:39.092Z"
   },
   {
    "duration": 5,
    "start_time": "2022-08-06T16:28:39.110Z"
   },
   {
    "duration": 28,
    "start_time": "2022-08-06T16:28:39.117Z"
   },
   {
    "duration": 26,
    "start_time": "2022-08-06T16:28:39.147Z"
   },
   {
    "duration": 7,
    "start_time": "2022-08-06T16:28:39.175Z"
   },
   {
    "duration": 207,
    "start_time": "2022-08-06T16:56:22.042Z"
   },
   {
    "duration": 202,
    "start_time": "2022-08-06T16:57:21.961Z"
   },
   {
    "duration": 266,
    "start_time": "2022-08-06T16:57:48.774Z"
   },
   {
    "duration": 233,
    "start_time": "2022-08-06T16:58:15.047Z"
   },
   {
    "duration": 312,
    "start_time": "2022-08-06T16:59:04.993Z"
   },
   {
    "duration": 7,
    "start_time": "2022-08-06T16:59:23.949Z"
   },
   {
    "duration": 76,
    "start_time": "2022-08-06T16:59:50.831Z"
   },
   {
    "duration": 9,
    "start_time": "2022-08-06T16:59:59.583Z"
   },
   {
    "duration": 244,
    "start_time": "2022-08-06T17:00:10.751Z"
   },
   {
    "duration": 45395,
    "start_time": "2022-08-06T17:01:27.207Z"
   },
   {
    "duration": 345,
    "start_time": "2022-08-06T17:03:13.113Z"
   },
   {
    "duration": 640,
    "start_time": "2022-08-06T17:04:17.712Z"
   },
   {
    "duration": 263,
    "start_time": "2022-08-06T17:09:52.592Z"
   },
   {
    "duration": 410,
    "start_time": "2022-08-06T17:13:16.726Z"
   },
   {
    "duration": 8,
    "start_time": "2022-08-06T17:13:52.005Z"
   },
   {
    "duration": 10,
    "start_time": "2022-08-06T17:14:26.377Z"
   },
   {
    "duration": 668,
    "start_time": "2022-08-06T17:14:38.850Z"
   },
   {
    "duration": 13,
    "start_time": "2022-08-06T17:14:39.521Z"
   },
   {
    "duration": 29,
    "start_time": "2022-08-06T17:14:39.536Z"
   },
   {
    "duration": 4,
    "start_time": "2022-08-06T17:14:39.566Z"
   },
   {
    "duration": 11,
    "start_time": "2022-08-06T17:14:39.572Z"
   },
   {
    "duration": 21,
    "start_time": "2022-08-06T17:14:39.585Z"
   },
   {
    "duration": 5,
    "start_time": "2022-08-06T17:14:39.608Z"
   },
   {
    "duration": 41,
    "start_time": "2022-08-06T17:14:39.614Z"
   },
   {
    "duration": 13,
    "start_time": "2022-08-06T17:14:39.656Z"
   },
   {
    "duration": 9,
    "start_time": "2022-08-06T17:14:39.672Z"
   },
   {
    "duration": 8,
    "start_time": "2022-08-06T17:14:39.683Z"
   },
   {
    "duration": 225,
    "start_time": "2022-08-06T17:14:39.693Z"
   },
   {
    "duration": 8,
    "start_time": "2022-08-06T17:15:26.384Z"
   },
   {
    "duration": 665,
    "start_time": "2022-08-06T17:15:46.269Z"
   },
   {
    "duration": 13,
    "start_time": "2022-08-06T17:15:46.935Z"
   },
   {
    "duration": 35,
    "start_time": "2022-08-06T17:15:46.953Z"
   },
   {
    "duration": 5,
    "start_time": "2022-08-06T17:15:46.990Z"
   },
   {
    "duration": 15,
    "start_time": "2022-08-06T17:15:46.998Z"
   },
   {
    "duration": 34,
    "start_time": "2022-08-06T17:15:47.014Z"
   },
   {
    "duration": 7,
    "start_time": "2022-08-06T17:15:47.057Z"
   },
   {
    "duration": 24,
    "start_time": "2022-08-06T17:15:47.066Z"
   },
   {
    "duration": 16,
    "start_time": "2022-08-06T17:15:47.094Z"
   },
   {
    "duration": 8,
    "start_time": "2022-08-06T17:15:47.112Z"
   },
   {
    "duration": 35,
    "start_time": "2022-08-06T17:15:47.121Z"
   },
   {
    "duration": 257,
    "start_time": "2022-08-06T17:15:47.157Z"
   },
   {
    "duration": 111,
    "start_time": "2022-08-06T17:17:12.787Z"
   },
   {
    "duration": 8,
    "start_time": "2022-08-06T17:17:25.601Z"
   },
   {
    "duration": 690,
    "start_time": "2022-08-06T17:17:41.538Z"
   },
   {
    "duration": 21,
    "start_time": "2022-08-06T17:17:42.230Z"
   },
   {
    "duration": 28,
    "start_time": "2022-08-06T17:17:42.252Z"
   },
   {
    "duration": 4,
    "start_time": "2022-08-06T17:17:42.282Z"
   },
   {
    "duration": 13,
    "start_time": "2022-08-06T17:17:42.287Z"
   },
   {
    "duration": 16,
    "start_time": "2022-08-06T17:17:42.302Z"
   },
   {
    "duration": 5,
    "start_time": "2022-08-06T17:17:42.319Z"
   },
   {
    "duration": 55,
    "start_time": "2022-08-06T17:17:42.325Z"
   },
   {
    "duration": 13,
    "start_time": "2022-08-06T17:17:42.382Z"
   },
   {
    "duration": 9,
    "start_time": "2022-08-06T17:17:42.397Z"
   },
   {
    "duration": 17,
    "start_time": "2022-08-06T17:17:42.408Z"
   },
   {
    "duration": 310,
    "start_time": "2022-08-06T17:17:42.426Z"
   },
   {
    "duration": 441,
    "start_time": "2022-08-06T17:20:14.532Z"
   },
   {
    "duration": 341,
    "start_time": "2022-08-06T17:20:35.569Z"
   },
   {
    "duration": 363,
    "start_time": "2022-08-06T17:20:59.629Z"
   },
   {
    "duration": 77,
    "start_time": "2022-08-06T17:25:53.748Z"
   },
   {
    "duration": 8,
    "start_time": "2022-08-06T17:27:45.989Z"
   },
   {
    "duration": 8,
    "start_time": "2022-08-06T17:27:54.495Z"
   },
   {
    "duration": 9,
    "start_time": "2022-08-06T17:28:05.754Z"
   },
   {
    "duration": 10,
    "start_time": "2022-08-06T17:28:40.958Z"
   },
   {
    "duration": 6,
    "start_time": "2022-08-06T17:29:17.029Z"
   },
   {
    "duration": 17,
    "start_time": "2022-08-06T17:32:26.378Z"
   },
   {
    "duration": 923,
    "start_time": "2022-09-24T14:21:57.547Z"
   },
   {
    "duration": 14,
    "start_time": "2022-09-24T14:21:58.472Z"
   },
   {
    "duration": 29,
    "start_time": "2022-09-24T14:21:58.488Z"
   },
   {
    "duration": 5,
    "start_time": "2022-09-24T14:21:58.519Z"
   },
   {
    "duration": 14,
    "start_time": "2022-09-24T14:21:58.526Z"
   },
   {
    "duration": 40,
    "start_time": "2022-09-24T14:21:58.542Z"
   },
   {
    "duration": 6,
    "start_time": "2022-09-24T14:21:58.584Z"
   },
   {
    "duration": 22,
    "start_time": "2022-09-24T14:21:58.592Z"
   },
   {
    "duration": 15,
    "start_time": "2022-09-24T14:21:58.616Z"
   },
   {
    "duration": 10,
    "start_time": "2022-09-24T14:21:58.634Z"
   },
   {
    "duration": 443,
    "start_time": "2022-09-24T14:21:58.646Z"
   },
   {
    "duration": 6,
    "start_time": "2022-09-24T14:21:59.091Z"
   },
   {
    "duration": 19,
    "start_time": "2022-09-24T14:21:59.098Z"
   },
   {
    "duration": 2,
    "start_time": "2022-09-24T14:21:59.119Z"
   },
   {
    "duration": 925,
    "start_time": "2022-09-24T14:25:28.467Z"
   },
   {
    "duration": 12,
    "start_time": "2022-09-24T14:26:05.782Z"
   },
   {
    "duration": 34,
    "start_time": "2022-09-24T14:26:13.309Z"
   },
   {
    "duration": 13,
    "start_time": "2022-09-24T14:26:44.009Z"
   },
   {
    "duration": 1208,
    "start_time": "2022-09-24T14:27:01.227Z"
   },
   {
    "duration": 266,
    "start_time": "2022-09-24T14:27:56.404Z"
   },
   {
    "duration": 20,
    "start_time": "2022-09-24T14:28:28.143Z"
   },
   {
    "duration": 14,
    "start_time": "2022-09-24T14:30:31.659Z"
   },
   {
    "duration": 196,
    "start_time": "2022-09-24T14:31:53.222Z"
   },
   {
    "duration": 260,
    "start_time": "2022-09-24T14:33:37.461Z"
   },
   {
    "duration": 210,
    "start_time": "2022-09-24T14:34:10.316Z"
   },
   {
    "duration": 229,
    "start_time": "2022-09-24T14:34:18.705Z"
   },
   {
    "duration": 167,
    "start_time": "2022-09-24T14:34:27.369Z"
   },
   {
    "duration": 211,
    "start_time": "2022-09-24T14:34:47.791Z"
   },
   {
    "duration": 168,
    "start_time": "2022-09-24T14:35:41.428Z"
   },
   {
    "duration": 153,
    "start_time": "2022-09-24T14:35:48.805Z"
   },
   {
    "duration": 202,
    "start_time": "2022-09-24T14:36:04.655Z"
   },
   {
    "duration": 27,
    "start_time": "2022-09-24T14:44:55.258Z"
   },
   {
    "duration": 17,
    "start_time": "2022-09-24T14:45:13.221Z"
   },
   {
    "duration": 314,
    "start_time": "2022-09-24T14:47:11.451Z"
   },
   {
    "duration": 52,
    "start_time": "2022-09-24T14:47:38.161Z"
   },
   {
    "duration": 400,
    "start_time": "2022-09-24T14:47:46.492Z"
   },
   {
    "duration": 21,
    "start_time": "2022-09-24T14:47:57.273Z"
   },
   {
    "duration": 45,
    "start_time": "2022-09-24T14:48:14.737Z"
   },
   {
    "duration": 21,
    "start_time": "2022-09-24T14:48:18.384Z"
   },
   {
    "duration": 9,
    "start_time": "2022-09-24T14:52:22.917Z"
   },
   {
    "duration": 276,
    "start_time": "2022-09-24T14:53:24.171Z"
   },
   {
    "duration": 281,
    "start_time": "2022-09-24T14:53:37.809Z"
   },
   {
    "duration": 44,
    "start_time": "2022-09-24T14:57:44.593Z"
   },
   {
    "duration": 264,
    "start_time": "2022-09-24T14:57:50.802Z"
   },
   {
    "duration": 574,
    "start_time": "2022-09-24T15:00:52.243Z"
   },
   {
    "duration": 77,
    "start_time": "2022-09-24T15:01:06.951Z"
   },
   {
    "duration": 7,
    "start_time": "2022-09-24T15:01:13.892Z"
   },
   {
    "duration": 6,
    "start_time": "2022-09-24T15:01:22.037Z"
   },
   {
    "duration": 1306,
    "start_time": "2022-09-24T15:01:40.577Z"
   },
   {
    "duration": 16,
    "start_time": "2022-09-24T15:01:41.885Z"
   },
   {
    "duration": 31,
    "start_time": "2022-09-24T15:01:41.903Z"
   },
   {
    "duration": 5,
    "start_time": "2022-09-24T15:01:41.936Z"
   },
   {
    "duration": 45,
    "start_time": "2022-09-24T15:01:41.944Z"
   },
   {
    "duration": 18,
    "start_time": "2022-09-24T15:01:41.990Z"
   },
   {
    "duration": 24,
    "start_time": "2022-09-24T15:01:42.009Z"
   },
   {
    "duration": 12,
    "start_time": "2022-09-24T15:01:42.035Z"
   },
   {
    "duration": 31,
    "start_time": "2022-09-24T15:01:42.049Z"
   },
   {
    "duration": 16,
    "start_time": "2022-09-24T15:01:42.082Z"
   },
   {
    "duration": 19,
    "start_time": "2022-09-24T15:01:42.099Z"
   },
   {
    "duration": 399,
    "start_time": "2022-09-24T15:01:42.120Z"
   },
   {
    "duration": 6,
    "start_time": "2022-09-24T15:01:42.520Z"
   },
   {
    "duration": 18,
    "start_time": "2022-09-24T15:01:42.529Z"
   },
   {
    "duration": 235,
    "start_time": "2022-09-24T15:01:42.549Z"
   },
   {
    "duration": 295,
    "start_time": "2022-09-24T15:01:42.786Z"
   },
   {
    "duration": 3,
    "start_time": "2022-09-24T15:13:00.265Z"
   },
   {
    "duration": 1132,
    "start_time": "2022-09-24T15:13:05.484Z"
   },
   {
    "duration": 13,
    "start_time": "2022-09-24T15:13:06.619Z"
   },
   {
    "duration": 42,
    "start_time": "2022-09-24T15:13:06.634Z"
   },
   {
    "duration": 2,
    "start_time": "2022-09-24T15:13:06.679Z"
   },
   {
    "duration": 7,
    "start_time": "2022-09-24T15:13:06.683Z"
   },
   {
    "duration": 15,
    "start_time": "2022-09-24T15:13:06.692Z"
   },
   {
    "duration": 18,
    "start_time": "2022-09-24T15:13:06.709Z"
   },
   {
    "duration": 4,
    "start_time": "2022-09-24T15:13:06.729Z"
   },
   {
    "duration": 46,
    "start_time": "2022-09-24T15:13:06.735Z"
   },
   {
    "duration": 12,
    "start_time": "2022-09-24T15:13:06.783Z"
   },
   {
    "duration": 8,
    "start_time": "2022-09-24T15:13:06.797Z"
   },
   {
    "duration": 406,
    "start_time": "2022-09-24T15:13:06.806Z"
   },
   {
    "duration": 5,
    "start_time": "2022-09-24T15:13:07.214Z"
   },
   {
    "duration": 18,
    "start_time": "2022-09-24T15:13:07.221Z"
   },
   {
    "duration": 236,
    "start_time": "2022-09-24T15:13:07.241Z"
   },
   {
    "duration": 279,
    "start_time": "2022-09-24T15:13:07.478Z"
   },
   {
    "duration": 64,
    "start_time": "2022-09-24T15:14:13.906Z"
   },
   {
    "duration": 97,
    "start_time": "2022-09-24T15:14:28.351Z"
   },
   {
    "duration": 1139,
    "start_time": "2022-09-24T15:14:53.910Z"
   },
   {
    "duration": 15,
    "start_time": "2022-09-24T15:14:55.052Z"
   },
   {
    "duration": 28,
    "start_time": "2022-09-24T15:14:55.069Z"
   },
   {
    "duration": 5,
    "start_time": "2022-09-24T15:14:55.099Z"
   },
   {
    "duration": 11,
    "start_time": "2022-09-24T15:14:55.107Z"
   },
   {
    "duration": 19,
    "start_time": "2022-09-24T15:14:55.120Z"
   },
   {
    "duration": 5,
    "start_time": "2022-09-24T15:14:55.140Z"
   },
   {
    "duration": 47,
    "start_time": "2022-09-24T15:14:55.146Z"
   },
   {
    "duration": 17,
    "start_time": "2022-09-24T15:14:55.195Z"
   },
   {
    "duration": 10,
    "start_time": "2022-09-24T15:14:55.214Z"
   },
   {
    "duration": 435,
    "start_time": "2022-09-24T15:14:55.226Z"
   },
   {
    "duration": 4,
    "start_time": "2022-09-24T15:14:55.663Z"
   },
   {
    "duration": 23,
    "start_time": "2022-09-24T15:14:55.668Z"
   },
   {
    "duration": 211,
    "start_time": "2022-09-24T15:14:55.693Z"
   },
   {
    "duration": 295,
    "start_time": "2022-09-24T15:14:55.906Z"
   },
   {
    "duration": 96,
    "start_time": "2022-09-24T15:22:48.294Z"
   },
   {
    "duration": 273,
    "start_time": "2022-09-24T15:22:52.655Z"
   },
   {
    "duration": 5,
    "start_time": "2022-09-24T15:22:54.924Z"
   },
   {
    "duration": 347,
    "start_time": "2022-09-24T15:23:23.432Z"
   },
   {
    "duration": 6,
    "start_time": "2022-09-24T15:23:26.282Z"
   },
   {
    "duration": 75,
    "start_time": "2022-09-24T15:23:54.751Z"
   },
   {
    "duration": 11,
    "start_time": "2022-09-24T15:24:01.877Z"
   },
   {
    "duration": 8,
    "start_time": "2022-09-24T15:24:14.413Z"
   },
   {
    "duration": 10,
    "start_time": "2022-09-24T15:24:19.556Z"
   },
   {
    "duration": 9,
    "start_time": "2022-09-24T15:24:24.592Z"
   },
   {
    "duration": 991,
    "start_time": "2022-09-24T16:55:08.836Z"
   },
   {
    "duration": 757,
    "start_time": "2022-09-24T16:56:02.005Z"
   },
   {
    "duration": 870,
    "start_time": "2022-09-24T16:56:41.679Z"
   },
   {
    "duration": 727,
    "start_time": "2022-09-24T16:56:58.688Z"
   },
   {
    "duration": 6,
    "start_time": "2022-09-24T16:57:08.615Z"
   },
   {
    "duration": 5,
    "start_time": "2022-09-24T16:57:15.197Z"
   },
   {
    "duration": 8,
    "start_time": "2022-09-24T16:57:22.772Z"
   },
   {
    "duration": 946,
    "start_time": "2022-09-24T16:57:37.218Z"
   },
   {
    "duration": 743,
    "start_time": "2022-09-24T16:58:22.522Z"
   },
   {
    "duration": 1084,
    "start_time": "2022-09-24T16:58:38.535Z"
   },
   {
    "duration": 8,
    "start_time": "2022-09-24T16:59:04.112Z"
   },
   {
    "duration": 26,
    "start_time": "2022-09-24T16:59:22.000Z"
   },
   {
    "duration": 114,
    "start_time": "2022-09-24T16:59:37.742Z"
   },
   {
    "duration": 222,
    "start_time": "2022-09-24T16:59:49.586Z"
   },
   {
    "duration": 206,
    "start_time": "2022-09-24T17:00:52.440Z"
   },
   {
    "duration": 116,
    "start_time": "2022-09-24T17:01:14.134Z"
   },
   {
    "duration": 116,
    "start_time": "2022-09-24T17:01:33.623Z"
   },
   {
    "duration": 208,
    "start_time": "2022-09-24T17:01:54.728Z"
   },
   {
    "duration": 230,
    "start_time": "2022-09-24T17:02:47.781Z"
   },
   {
    "duration": 234,
    "start_time": "2022-09-24T17:03:58.227Z"
   },
   {
    "duration": 216,
    "start_time": "2022-09-24T17:04:19.967Z"
   },
   {
    "duration": 224,
    "start_time": "2022-09-24T17:04:48.915Z"
   },
   {
    "duration": 294,
    "start_time": "2022-09-24T17:06:06.032Z"
   },
   {
    "duration": 241,
    "start_time": "2022-09-24T17:06:12.469Z"
   },
   {
    "duration": 234,
    "start_time": "2022-09-24T17:07:17.844Z"
   },
   {
    "duration": 137,
    "start_time": "2022-09-24T17:08:00.809Z"
   },
   {
    "duration": 281,
    "start_time": "2022-09-24T17:08:05.153Z"
   },
   {
    "duration": 34,
    "start_time": "2022-09-24T17:32:58.676Z"
   },
   {
    "duration": 28,
    "start_time": "2022-09-24T17:33:45.573Z"
   },
   {
    "duration": 8,
    "start_time": "2022-09-24T17:34:30.029Z"
   },
   {
    "duration": 6,
    "start_time": "2022-09-24T17:34:52.455Z"
   },
   {
    "duration": 8,
    "start_time": "2022-09-24T17:35:16.217Z"
   },
   {
    "duration": 8,
    "start_time": "2022-09-24T17:35:45.212Z"
   },
   {
    "duration": 60,
    "start_time": "2022-09-24T17:36:14.699Z"
   },
   {
    "duration": 502,
    "start_time": "2022-09-24T17:37:36.226Z"
   },
   {
    "duration": 120,
    "start_time": "2022-09-24T17:38:04.880Z"
   },
   {
    "duration": 122,
    "start_time": "2022-09-24T17:38:24.945Z"
   },
   {
    "duration": 25,
    "start_time": "2022-09-24T17:38:45.176Z"
   },
   {
    "duration": 6,
    "start_time": "2022-09-24T17:38:53.927Z"
   },
   {
    "duration": 7,
    "start_time": "2022-09-24T17:39:15.028Z"
   },
   {
    "duration": 119,
    "start_time": "2022-09-24T17:39:16.839Z"
   },
   {
    "duration": 121,
    "start_time": "2022-09-24T17:39:35.767Z"
   },
   {
    "duration": 403,
    "start_time": "2022-09-24T17:39:41.041Z"
   },
   {
    "duration": 19,
    "start_time": "2022-09-24T17:53:42.979Z"
   },
   {
    "duration": 6,
    "start_time": "2022-09-24T17:54:27.816Z"
   },
   {
    "duration": 296,
    "start_time": "2022-09-24T17:54:29.386Z"
   },
   {
    "duration": 18,
    "start_time": "2022-09-24T17:54:35.604Z"
   },
   {
    "duration": 28,
    "start_time": "2022-09-24T17:54:49.082Z"
   },
   {
    "duration": 31,
    "start_time": "2022-09-24T17:55:06.999Z"
   },
   {
    "duration": 31,
    "start_time": "2022-09-24T17:55:40.052Z"
   },
   {
    "duration": 34,
    "start_time": "2022-09-24T17:55:56.981Z"
   },
   {
    "duration": 17,
    "start_time": "2022-09-24T17:56:05.893Z"
   },
   {
    "duration": 30,
    "start_time": "2022-09-24T17:56:19.762Z"
   },
   {
    "duration": 815,
    "start_time": "2022-09-24T17:56:48.075Z"
   },
   {
    "duration": 955,
    "start_time": "2022-09-24T17:57:08.982Z"
   },
   {
    "duration": 76,
    "start_time": "2022-09-24T17:57:18.402Z"
   },
   {
    "duration": 59,
    "start_time": "2022-09-24T17:57:30.677Z"
   },
   {
    "duration": 762,
    "start_time": "2022-09-24T17:57:34.683Z"
   },
   {
    "duration": 939,
    "start_time": "2022-09-24T17:57:56.019Z"
   },
   {
    "duration": 10,
    "start_time": "2022-09-24T17:58:11.585Z"
   },
   {
    "duration": 60,
    "start_time": "2022-09-24T17:59:07.697Z"
   },
   {
    "duration": 195,
    "start_time": "2022-09-24T17:59:32.368Z"
   },
   {
    "duration": 174,
    "start_time": "2022-09-24T18:00:04.570Z"
   },
   {
    "duration": 210,
    "start_time": "2022-09-24T18:00:28.278Z"
   },
   {
    "duration": 195,
    "start_time": "2022-09-24T18:01:03.046Z"
   },
   {
    "duration": 177,
    "start_time": "2022-09-24T18:01:51.437Z"
   },
   {
    "duration": 175,
    "start_time": "2022-09-24T18:02:20.335Z"
   },
   {
    "duration": 209,
    "start_time": "2022-09-24T18:02:38.480Z"
   },
   {
    "duration": 222,
    "start_time": "2022-09-24T18:03:11.636Z"
   },
   {
    "duration": 29,
    "start_time": "2022-09-24T18:09:06.016Z"
   },
   {
    "duration": 7,
    "start_time": "2022-09-24T18:09:17.946Z"
   },
   {
    "duration": 143,
    "start_time": "2022-09-24T18:09:57.306Z"
   },
   {
    "duration": 191,
    "start_time": "2022-09-24T18:13:52.737Z"
   },
   {
    "duration": 30,
    "start_time": "2022-09-24T18:15:08.397Z"
   },
   {
    "duration": 9,
    "start_time": "2022-09-24T18:20:38.975Z"
   },
   {
    "duration": 9,
    "start_time": "2022-09-25T08:56:33.972Z"
   },
   {
    "duration": 9,
    "start_time": "2022-09-25T08:57:35.996Z"
   },
   {
    "duration": 9,
    "start_time": "2022-09-25T08:57:38.458Z"
   },
   {
    "duration": 38,
    "start_time": "2022-09-25T08:58:00.411Z"
   },
   {
    "duration": 19,
    "start_time": "2022-09-25T08:58:41.679Z"
   },
   {
    "duration": 1146,
    "start_time": "2022-09-25T09:02:49.280Z"
   },
   {
    "duration": 13,
    "start_time": "2022-09-25T09:02:50.428Z"
   },
   {
    "duration": 26,
    "start_time": "2022-09-25T09:02:50.442Z"
   },
   {
    "duration": 8,
    "start_time": "2022-09-25T09:02:50.470Z"
   },
   {
    "duration": 11,
    "start_time": "2022-09-25T09:02:50.480Z"
   },
   {
    "duration": 20,
    "start_time": "2022-09-25T09:02:50.492Z"
   },
   {
    "duration": 17,
    "start_time": "2022-09-25T09:02:50.514Z"
   },
   {
    "duration": 19,
    "start_time": "2022-09-25T09:02:50.532Z"
   },
   {
    "duration": 24,
    "start_time": "2022-09-25T09:02:50.553Z"
   },
   {
    "duration": 9,
    "start_time": "2022-09-25T09:02:50.580Z"
   },
   {
    "duration": 403,
    "start_time": "2022-09-25T09:02:50.591Z"
   },
   {
    "duration": 5,
    "start_time": "2022-09-25T09:02:50.997Z"
   },
   {
    "duration": 18,
    "start_time": "2022-09-25T09:02:51.004Z"
   },
   {
    "duration": 222,
    "start_time": "2022-09-25T09:02:51.026Z"
   },
   {
    "duration": 292,
    "start_time": "2022-09-25T09:02:51.251Z"
   },
   {
    "duration": 238,
    "start_time": "2022-09-25T09:02:51.545Z"
   },
   {
    "duration": 9,
    "start_time": "2022-09-25T09:02:51.784Z"
   },
   {
    "duration": 378,
    "start_time": "2022-09-25T09:02:51.794Z"
   },
   {
    "duration": 285,
    "start_time": "2022-09-25T09:02:52.175Z"
   },
   {
    "duration": 5,
    "start_time": "2022-09-25T09:06:09.792Z"
   },
   {
    "duration": 137,
    "start_time": "2022-09-25T09:06:49.842Z"
   },
   {
    "duration": 153,
    "start_time": "2022-09-25T09:09:16.071Z"
   },
   {
    "duration": 171,
    "start_time": "2022-09-25T09:10:35.067Z"
   },
   {
    "duration": 158,
    "start_time": "2022-09-25T09:10:47.294Z"
   },
   {
    "duration": 169,
    "start_time": "2022-09-25T09:11:52.761Z"
   },
   {
    "duration": 159,
    "start_time": "2022-09-25T09:11:55.060Z"
   },
   {
    "duration": 166,
    "start_time": "2022-09-25T09:12:46.038Z"
   },
   {
    "duration": 147,
    "start_time": "2022-09-25T09:12:53.410Z"
   },
   {
    "duration": 182,
    "start_time": "2022-09-25T09:13:11.591Z"
   },
   {
    "duration": 146,
    "start_time": "2022-09-25T09:13:18.580Z"
   },
   {
    "duration": 170,
    "start_time": "2022-09-25T09:13:29.498Z"
   },
   {
    "duration": 14,
    "start_time": "2022-09-25T09:16:48.776Z"
   },
   {
    "duration": 154,
    "start_time": "2022-09-25T09:18:08.266Z"
   },
   {
    "duration": 263,
    "start_time": "2022-09-25T09:39:03.728Z"
   },
   {
    "duration": 202,
    "start_time": "2022-09-25T09:40:04.916Z"
   },
   {
    "duration": 205,
    "start_time": "2022-09-25T09:40:16.852Z"
   },
   {
    "duration": 229,
    "start_time": "2022-09-25T09:41:32.016Z"
   },
   {
    "duration": 6,
    "start_time": "2022-09-25T09:41:46.816Z"
   },
   {
    "duration": 305,
    "start_time": "2022-09-25T09:41:49.768Z"
   },
   {
    "duration": 320,
    "start_time": "2022-09-25T09:42:04.147Z"
   },
   {
    "duration": 196,
    "start_time": "2022-09-25T09:43:46.569Z"
   },
   {
    "duration": 181,
    "start_time": "2022-09-25T09:44:24.890Z"
   },
   {
    "duration": 1111,
    "start_time": "2022-09-25T09:44:48.623Z"
   },
   {
    "duration": 14,
    "start_time": "2022-09-25T09:44:49.736Z"
   },
   {
    "duration": 34,
    "start_time": "2022-09-25T09:44:49.751Z"
   },
   {
    "duration": 5,
    "start_time": "2022-09-25T09:44:49.786Z"
   },
   {
    "duration": 39,
    "start_time": "2022-09-25T09:44:49.793Z"
   },
   {
    "duration": 20,
    "start_time": "2022-09-25T09:44:49.833Z"
   },
   {
    "duration": 10,
    "start_time": "2022-09-25T09:44:49.854Z"
   },
   {
    "duration": 34,
    "start_time": "2022-09-25T09:44:49.865Z"
   },
   {
    "duration": 23,
    "start_time": "2022-09-25T09:44:49.900Z"
   },
   {
    "duration": 16,
    "start_time": "2022-09-25T09:44:49.924Z"
   },
   {
    "duration": 395,
    "start_time": "2022-09-25T09:44:49.941Z"
   },
   {
    "duration": 5,
    "start_time": "2022-09-25T09:44:50.337Z"
   },
   {
    "duration": 18,
    "start_time": "2022-09-25T09:44:50.344Z"
   },
   {
    "duration": 231,
    "start_time": "2022-09-25T09:44:50.378Z"
   },
   {
    "duration": 296,
    "start_time": "2022-09-25T09:44:50.610Z"
   },
   {
    "duration": 250,
    "start_time": "2022-09-25T09:44:50.908Z"
   },
   {
    "duration": 18,
    "start_time": "2022-09-25T09:44:51.161Z"
   },
   {
    "duration": 347,
    "start_time": "2022-09-25T09:44:51.181Z"
   },
   {
    "duration": 259,
    "start_time": "2022-09-25T09:44:51.530Z"
   },
   {
    "duration": 185,
    "start_time": "2022-09-25T09:44:51.791Z"
   },
   {
    "duration": 169,
    "start_time": "2022-09-25T09:44:51.978Z"
   },
   {
    "duration": 15,
    "start_time": "2022-09-25T09:44:52.148Z"
   },
   {
    "duration": 161,
    "start_time": "2022-09-25T09:48:54.239Z"
   },
   {
    "duration": 188,
    "start_time": "2022-09-25T09:50:23.913Z"
   },
   {
    "duration": 166,
    "start_time": "2022-09-25T09:50:27.817Z"
   },
   {
    "duration": 17,
    "start_time": "2022-09-25T09:50:57.752Z"
   },
   {
    "duration": 219,
    "start_time": "2022-09-25T09:54:42.637Z"
   },
   {
    "duration": 107,
    "start_time": "2022-09-25T09:55:07.820Z"
   },
   {
    "duration": 100,
    "start_time": "2022-09-25T09:55:21.651Z"
   },
   {
    "duration": 236,
    "start_time": "2022-09-25T09:55:31.372Z"
   },
   {
    "duration": 205,
    "start_time": "2022-09-25T10:04:55.865Z"
   },
   {
    "duration": 305,
    "start_time": "2022-09-25T10:05:07.753Z"
   },
   {
    "duration": 216,
    "start_time": "2022-09-25T10:05:19.019Z"
   },
   {
    "duration": 5,
    "start_time": "2022-09-25T11:11:41.982Z"
   },
   {
    "duration": 16,
    "start_time": "2022-09-25T11:11:43.868Z"
   },
   {
    "duration": 264,
    "start_time": "2022-09-25T11:12:01.957Z"
   },
   {
    "duration": 5,
    "start_time": "2022-09-25T11:12:04.243Z"
   },
   {
    "duration": 4,
    "start_time": "2022-09-25T11:12:09.885Z"
   },
   {
    "duration": 289,
    "start_time": "2022-09-25T11:12:12.655Z"
   },
   {
    "duration": 4,
    "start_time": "2022-09-25T11:12:40.987Z"
   },
   {
    "duration": 407,
    "start_time": "2022-09-25T11:12:43.229Z"
   },
   {
    "duration": 5,
    "start_time": "2022-09-25T11:14:50.153Z"
   },
   {
    "duration": 416,
    "start_time": "2022-09-25T11:14:52.044Z"
   },
   {
    "duration": 5,
    "start_time": "2022-09-25T11:15:04.389Z"
   },
   {
    "duration": 5,
    "start_time": "2022-09-25T11:15:06.786Z"
   },
   {
    "duration": 498,
    "start_time": "2022-09-25T11:15:08.628Z"
   },
   {
    "duration": 251,
    "start_time": "2022-09-25T11:15:30.408Z"
   },
   {
    "duration": 6,
    "start_time": "2022-09-25T11:15:57.651Z"
   },
   {
    "duration": 384,
    "start_time": "2022-09-25T11:15:59.902Z"
   },
   {
    "duration": 431,
    "start_time": "2022-09-25T11:19:24.974Z"
   },
   {
    "duration": 314,
    "start_time": "2022-09-25T11:20:10.631Z"
   },
   {
    "duration": 423,
    "start_time": "2022-09-25T11:24:31.524Z"
   },
   {
    "duration": 25,
    "start_time": "2022-09-25T11:29:48.858Z"
   },
   {
    "duration": 8,
    "start_time": "2022-09-25T11:30:01.779Z"
   },
   {
    "duration": 4,
    "start_time": "2022-09-25T11:30:12.065Z"
   },
   {
    "duration": 7,
    "start_time": "2022-09-25T11:33:17.562Z"
   },
   {
    "duration": 3,
    "start_time": "2022-09-25T11:33:36.451Z"
   },
   {
    "duration": 7,
    "start_time": "2022-09-25T11:33:42.211Z"
   },
   {
    "duration": 7,
    "start_time": "2022-09-25T11:38:42.723Z"
   },
   {
    "duration": 6,
    "start_time": "2022-09-25T11:39:04.420Z"
   },
   {
    "duration": 15,
    "start_time": "2022-09-25T11:41:13.497Z"
   },
   {
    "duration": 6,
    "start_time": "2022-09-25T11:42:53.804Z"
   },
   {
    "duration": 5,
    "start_time": "2022-09-25T14:29:13.267Z"
   },
   {
    "duration": 6,
    "start_time": "2022-09-25T14:32:00.267Z"
   },
   {
    "duration": 6,
    "start_time": "2022-09-25T14:32:57.797Z"
   },
   {
    "duration": 7,
    "start_time": "2022-09-25T14:33:03.711Z"
   },
   {
    "duration": 61,
    "start_time": "2022-09-25T14:34:29.505Z"
   },
   {
    "duration": 1186,
    "start_time": "2022-09-25T14:34:37.968Z"
   },
   {
    "duration": 15,
    "start_time": "2022-09-25T14:34:39.156Z"
   },
   {
    "duration": 38,
    "start_time": "2022-09-25T14:34:39.173Z"
   },
   {
    "duration": 5,
    "start_time": "2022-09-25T14:34:39.214Z"
   },
   {
    "duration": 16,
    "start_time": "2022-09-25T14:34:39.220Z"
   },
   {
    "duration": 18,
    "start_time": "2022-09-25T14:34:39.238Z"
   },
   {
    "duration": 23,
    "start_time": "2022-09-25T14:34:39.257Z"
   },
   {
    "duration": 31,
    "start_time": "2022-09-25T14:34:39.285Z"
   },
   {
    "duration": 14,
    "start_time": "2022-09-25T14:34:39.318Z"
   },
   {
    "duration": 9,
    "start_time": "2022-09-25T14:34:39.334Z"
   },
   {
    "duration": 416,
    "start_time": "2022-09-25T14:34:39.345Z"
   },
   {
    "duration": 6,
    "start_time": "2022-09-25T14:34:39.762Z"
   },
   {
    "duration": 23,
    "start_time": "2022-09-25T14:34:39.777Z"
   },
   {
    "duration": 223,
    "start_time": "2022-09-25T14:34:39.802Z"
   },
   {
    "duration": 304,
    "start_time": "2022-09-25T14:34:40.027Z"
   },
   {
    "duration": 269,
    "start_time": "2022-09-25T14:34:40.333Z"
   },
   {
    "duration": 7,
    "start_time": "2022-09-25T14:34:40.606Z"
   },
   {
    "duration": 334,
    "start_time": "2022-09-25T14:34:40.615Z"
   },
   {
    "duration": 304,
    "start_time": "2022-09-25T14:34:40.951Z"
   },
   {
    "duration": 203,
    "start_time": "2022-09-25T14:34:41.257Z"
   },
   {
    "duration": 188,
    "start_time": "2022-09-25T14:34:41.462Z"
   },
   {
    "duration": 25,
    "start_time": "2022-09-25T14:34:41.652Z"
   },
   {
    "duration": 213,
    "start_time": "2022-09-25T14:34:41.683Z"
   },
   {
    "duration": 187,
    "start_time": "2022-09-25T14:34:41.898Z"
   },
   {
    "duration": 21,
    "start_time": "2022-09-25T14:34:42.095Z"
   },
   {
    "duration": 277,
    "start_time": "2022-09-25T14:34:42.118Z"
   },
   {
    "duration": 6,
    "start_time": "2022-09-25T14:34:42.397Z"
   },
   {
    "duration": 440,
    "start_time": "2022-09-25T14:34:42.407Z"
   },
   {
    "duration": 127,
    "start_time": "2022-09-25T14:34:42.849Z"
   },
   {
    "duration": 0,
    "start_time": "2022-09-25T14:34:42.993Z"
   },
   {
    "duration": 0,
    "start_time": "2022-09-25T14:34:42.995Z"
   },
   {
    "duration": 0,
    "start_time": "2022-09-25T14:34:42.996Z"
   },
   {
    "duration": 0,
    "start_time": "2022-09-25T14:34:42.997Z"
   },
   {
    "duration": 366,
    "start_time": "2022-09-25T14:35:03.414Z"
   },
   {
    "duration": 557,
    "start_time": "2022-09-25T14:35:08.831Z"
   },
   {
    "duration": 5,
    "start_time": "2022-09-25T14:35:11.670Z"
   },
   {
    "duration": 4,
    "start_time": "2022-09-25T14:35:13.547Z"
   },
   {
    "duration": 6,
    "start_time": "2022-09-25T14:35:15.332Z"
   },
   {
    "duration": 7,
    "start_time": "2022-09-25T14:39:18.954Z"
   },
   {
    "duration": 4,
    "start_time": "2022-09-25T14:41:06.721Z"
   },
   {
    "duration": 4,
    "start_time": "2022-09-25T14:41:20.729Z"
   },
   {
    "duration": 4,
    "start_time": "2022-09-25T14:41:33.564Z"
   },
   {
    "duration": 15,
    "start_time": "2022-09-25T14:42:51.619Z"
   },
   {
    "duration": 5,
    "start_time": "2022-09-25T14:43:29.765Z"
   },
   {
    "duration": 6,
    "start_time": "2022-09-25T14:44:14.325Z"
   },
   {
    "duration": 5,
    "start_time": "2022-09-25T14:46:35.059Z"
   },
   {
    "duration": 6,
    "start_time": "2022-09-25T14:50:13.780Z"
   },
   {
    "duration": 3,
    "start_time": "2022-09-25T14:50:16.256Z"
   },
   {
    "duration": 7,
    "start_time": "2022-09-25T14:50:34.586Z"
   },
   {
    "duration": 6,
    "start_time": "2022-09-25T14:50:40.534Z"
   },
   {
    "duration": 8,
    "start_time": "2022-09-25T14:51:18.467Z"
   },
   {
    "duration": 4,
    "start_time": "2022-09-25T14:51:36.170Z"
   },
   {
    "duration": 1237,
    "start_time": "2022-09-25T14:52:36.613Z"
   },
   {
    "duration": 14,
    "start_time": "2022-09-25T14:52:37.851Z"
   },
   {
    "duration": 33,
    "start_time": "2022-09-25T14:52:37.866Z"
   },
   {
    "duration": 4,
    "start_time": "2022-09-25T14:52:37.901Z"
   },
   {
    "duration": 18,
    "start_time": "2022-09-25T14:52:37.907Z"
   },
   {
    "duration": 18,
    "start_time": "2022-09-25T14:52:37.927Z"
   },
   {
    "duration": 5,
    "start_time": "2022-09-25T14:52:37.947Z"
   },
   {
    "duration": 37,
    "start_time": "2022-09-25T14:52:37.954Z"
   },
   {
    "duration": 23,
    "start_time": "2022-09-25T14:52:37.992Z"
   },
   {
    "duration": 9,
    "start_time": "2022-09-25T14:52:38.018Z"
   },
   {
    "duration": 431,
    "start_time": "2022-09-25T14:52:38.029Z"
   },
   {
    "duration": 5,
    "start_time": "2022-09-25T14:52:38.462Z"
   },
   {
    "duration": 27,
    "start_time": "2022-09-25T14:52:38.469Z"
   },
   {
    "duration": 237,
    "start_time": "2022-09-25T14:52:38.497Z"
   },
   {
    "duration": 308,
    "start_time": "2022-09-25T14:52:38.736Z"
   },
   {
    "duration": 246,
    "start_time": "2022-09-25T14:52:39.045Z"
   },
   {
    "duration": 9,
    "start_time": "2022-09-25T14:52:39.293Z"
   },
   {
    "duration": 383,
    "start_time": "2022-09-25T14:52:39.303Z"
   },
   {
    "duration": 274,
    "start_time": "2022-09-25T14:52:39.692Z"
   },
   {
    "duration": 196,
    "start_time": "2022-09-25T14:52:39.968Z"
   },
   {
    "duration": 177,
    "start_time": "2022-09-25T14:52:40.166Z"
   },
   {
    "duration": 16,
    "start_time": "2022-09-25T14:52:40.345Z"
   },
   {
    "duration": 188,
    "start_time": "2022-09-25T14:52:40.362Z"
   },
   {
    "duration": 199,
    "start_time": "2022-09-25T14:52:40.552Z"
   },
   {
    "duration": 37,
    "start_time": "2022-09-25T14:52:40.753Z"
   },
   {
    "duration": 230,
    "start_time": "2022-09-25T14:52:40.792Z"
   },
   {
    "duration": 4,
    "start_time": "2022-09-25T14:52:41.024Z"
   },
   {
    "duration": 425,
    "start_time": "2022-09-25T14:52:41.031Z"
   },
   {
    "duration": 378,
    "start_time": "2022-09-25T14:52:41.457Z"
   },
   {
    "duration": 535,
    "start_time": "2022-09-25T14:52:41.837Z"
   },
   {
    "duration": 9,
    "start_time": "2022-09-25T14:52:42.380Z"
   },
   {
    "duration": 7,
    "start_time": "2022-09-25T14:52:42.391Z"
   },
   {
    "duration": 19,
    "start_time": "2022-09-25T14:52:42.400Z"
   },
   {
    "duration": 23,
    "start_time": "2022-09-25T14:52:42.421Z"
   },
   {
    "duration": 6,
    "start_time": "2022-09-25T14:53:22.993Z"
   },
   {
    "duration": 5,
    "start_time": "2022-09-25T14:53:42.122Z"
   },
   {
    "duration": 1218,
    "start_time": "2022-09-25T14:53:53.538Z"
   },
   {
    "duration": 14,
    "start_time": "2022-09-25T14:53:54.758Z"
   },
   {
    "duration": 36,
    "start_time": "2022-09-25T14:53:54.774Z"
   },
   {
    "duration": 5,
    "start_time": "2022-09-25T14:53:54.812Z"
   },
   {
    "duration": 14,
    "start_time": "2022-09-25T14:53:54.818Z"
   },
   {
    "duration": 17,
    "start_time": "2022-09-25T14:53:54.834Z"
   },
   {
    "duration": 28,
    "start_time": "2022-09-25T14:53:54.853Z"
   },
   {
    "duration": 20,
    "start_time": "2022-09-25T14:53:54.886Z"
   },
   {
    "duration": 15,
    "start_time": "2022-09-25T14:53:54.907Z"
   },
   {
    "duration": 9,
    "start_time": "2022-09-25T14:53:54.925Z"
   },
   {
    "duration": 467,
    "start_time": "2022-09-25T14:53:54.935Z"
   },
   {
    "duration": 6,
    "start_time": "2022-09-25T14:53:55.404Z"
   },
   {
    "duration": 22,
    "start_time": "2022-09-25T14:53:55.412Z"
   },
   {
    "duration": 240,
    "start_time": "2022-09-25T14:53:55.436Z"
   },
   {
    "duration": 305,
    "start_time": "2022-09-25T14:53:55.679Z"
   },
   {
    "duration": 239,
    "start_time": "2022-09-25T14:53:55.992Z"
   },
   {
    "duration": 7,
    "start_time": "2022-09-25T14:53:56.233Z"
   },
   {
    "duration": 358,
    "start_time": "2022-09-25T14:53:56.242Z"
   },
   {
    "duration": 289,
    "start_time": "2022-09-25T14:53:56.602Z"
   },
   {
    "duration": 208,
    "start_time": "2022-09-25T14:53:56.893Z"
   },
   {
    "duration": 184,
    "start_time": "2022-09-25T14:53:57.103Z"
   },
   {
    "duration": 17,
    "start_time": "2022-09-25T14:53:57.288Z"
   },
   {
    "duration": 188,
    "start_time": "2022-09-25T14:53:57.306Z"
   },
   {
    "duration": 171,
    "start_time": "2022-09-25T14:53:57.496Z"
   },
   {
    "duration": 28,
    "start_time": "2022-09-25T14:53:57.669Z"
   },
   {
    "duration": 241,
    "start_time": "2022-09-25T14:53:57.698Z"
   },
   {
    "duration": 4,
    "start_time": "2022-09-25T14:53:57.941Z"
   },
   {
    "duration": 414,
    "start_time": "2022-09-25T14:53:57.949Z"
   },
   {
    "duration": 346,
    "start_time": "2022-09-25T14:53:58.365Z"
   },
   {
    "duration": 515,
    "start_time": "2022-09-25T14:53:58.712Z"
   },
   {
    "duration": 5,
    "start_time": "2022-09-25T14:53:59.228Z"
   },
   {
    "duration": 7,
    "start_time": "2022-09-25T14:53:59.234Z"
   },
   {
    "duration": 10,
    "start_time": "2022-09-25T14:53:59.242Z"
   },
   {
    "duration": 7,
    "start_time": "2022-09-25T14:53:59.253Z"
   },
   {
    "duration": 6,
    "start_time": "2022-09-25T14:55:27.985Z"
   },
   {
    "duration": 1182,
    "start_time": "2022-09-25T14:55:47.930Z"
   },
   {
    "duration": 14,
    "start_time": "2022-09-25T14:55:49.114Z"
   },
   {
    "duration": 29,
    "start_time": "2022-09-25T14:55:49.130Z"
   },
   {
    "duration": 28,
    "start_time": "2022-09-25T14:55:49.161Z"
   },
   {
    "duration": 11,
    "start_time": "2022-09-25T14:55:49.192Z"
   },
   {
    "duration": 17,
    "start_time": "2022-09-25T14:55:49.205Z"
   },
   {
    "duration": 5,
    "start_time": "2022-09-25T14:55:49.224Z"
   },
   {
    "duration": 23,
    "start_time": "2022-09-25T14:55:49.231Z"
   },
   {
    "duration": 39,
    "start_time": "2022-09-25T14:55:49.256Z"
   },
   {
    "duration": 9,
    "start_time": "2022-09-25T14:55:49.298Z"
   },
   {
    "duration": 407,
    "start_time": "2022-09-25T14:55:49.308Z"
   },
   {
    "duration": 5,
    "start_time": "2022-09-25T14:55:49.716Z"
   },
   {
    "duration": 19,
    "start_time": "2022-09-25T14:55:49.723Z"
   },
   {
    "duration": 249,
    "start_time": "2022-09-25T14:55:49.743Z"
   },
   {
    "duration": 302,
    "start_time": "2022-09-25T14:55:49.993Z"
   },
   {
    "duration": 251,
    "start_time": "2022-09-25T14:55:50.297Z"
   },
   {
    "duration": 8,
    "start_time": "2022-09-25T14:55:50.550Z"
   },
   {
    "duration": 372,
    "start_time": "2022-09-25T14:55:50.560Z"
   },
   {
    "duration": 293,
    "start_time": "2022-09-25T14:55:50.934Z"
   },
   {
    "duration": 210,
    "start_time": "2022-09-25T14:55:51.229Z"
   },
   {
    "duration": 176,
    "start_time": "2022-09-25T14:55:51.441Z"
   },
   {
    "duration": 15,
    "start_time": "2022-09-25T14:55:51.618Z"
   },
   {
    "duration": 187,
    "start_time": "2022-09-25T14:55:51.635Z"
   },
   {
    "duration": 173,
    "start_time": "2022-09-25T14:55:51.823Z"
   },
   {
    "duration": 17,
    "start_time": "2022-09-25T14:55:51.998Z"
   },
   {
    "duration": 249,
    "start_time": "2022-09-25T14:55:52.017Z"
   },
   {
    "duration": 14,
    "start_time": "2022-09-25T14:55:52.267Z"
   },
   {
    "duration": 409,
    "start_time": "2022-09-25T14:55:52.284Z"
   },
   {
    "duration": 329,
    "start_time": "2022-09-25T14:55:52.695Z"
   },
   {
    "duration": 508,
    "start_time": "2022-09-25T14:55:53.026Z"
   },
   {
    "duration": 5,
    "start_time": "2022-09-25T14:55:53.536Z"
   },
   {
    "duration": 5,
    "start_time": "2022-09-25T14:55:53.544Z"
   },
   {
    "duration": 11,
    "start_time": "2022-09-25T14:55:53.550Z"
   },
   {
    "duration": 24,
    "start_time": "2022-09-25T14:55:53.562Z"
   },
   {
    "duration": 19,
    "start_time": "2022-09-25T14:56:08.512Z"
   },
   {
    "duration": 442,
    "start_time": "2022-09-25T14:58:38.949Z"
   },
   {
    "duration": 5,
    "start_time": "2022-09-25T15:03:05.986Z"
   },
   {
    "duration": 440,
    "start_time": "2022-09-25T15:03:42.307Z"
   },
   {
    "duration": 5,
    "start_time": "2022-09-25T15:04:01.057Z"
   },
   {
    "duration": 403,
    "start_time": "2022-09-25T15:04:11.352Z"
   },
   {
    "duration": 4,
    "start_time": "2022-09-25T15:04:24.158Z"
   },
   {
    "duration": 422,
    "start_time": "2022-09-25T15:04:39.455Z"
   },
   {
    "duration": 11,
    "start_time": "2022-09-25T15:21:33.668Z"
   },
   {
    "duration": 7,
    "start_time": "2022-09-25T15:22:32.525Z"
   },
   {
    "duration": 6,
    "start_time": "2022-09-25T15:22:43.723Z"
   },
   {
    "duration": 5,
    "start_time": "2022-09-25T15:22:50.180Z"
   },
   {
    "duration": 93,
    "start_time": "2022-09-25T15:27:25.982Z"
   },
   {
    "duration": 63,
    "start_time": "2022-09-25T15:28:23.422Z"
   },
   {
    "duration": 1274,
    "start_time": "2022-09-25T15:29:01.978Z"
   },
   {
    "duration": 14,
    "start_time": "2022-09-25T15:29:03.254Z"
   },
   {
    "duration": 30,
    "start_time": "2022-09-25T15:29:03.270Z"
   },
   {
    "duration": 5,
    "start_time": "2022-09-25T15:29:03.302Z"
   },
   {
    "duration": 16,
    "start_time": "2022-09-25T15:29:03.310Z"
   },
   {
    "duration": 20,
    "start_time": "2022-09-25T15:29:03.328Z"
   },
   {
    "duration": 27,
    "start_time": "2022-09-25T15:29:03.350Z"
   },
   {
    "duration": 25,
    "start_time": "2022-09-25T15:29:03.380Z"
   },
   {
    "duration": 19,
    "start_time": "2022-09-25T15:29:03.407Z"
   },
   {
    "duration": 13,
    "start_time": "2022-09-25T15:29:03.428Z"
   },
   {
    "duration": 429,
    "start_time": "2022-09-25T15:29:03.477Z"
   },
   {
    "duration": 5,
    "start_time": "2022-09-25T15:29:03.909Z"
   },
   {
    "duration": 32,
    "start_time": "2022-09-25T15:29:03.915Z"
   },
   {
    "duration": 227,
    "start_time": "2022-09-25T15:29:03.949Z"
   },
   {
    "duration": 326,
    "start_time": "2022-09-25T15:29:04.178Z"
   },
   {
    "duration": 272,
    "start_time": "2022-09-25T15:29:04.506Z"
   },
   {
    "duration": 10,
    "start_time": "2022-09-25T15:29:04.780Z"
   },
   {
    "duration": 372,
    "start_time": "2022-09-25T15:29:04.792Z"
   },
   {
    "duration": 318,
    "start_time": "2022-09-25T15:29:05.166Z"
   },
   {
    "duration": 193,
    "start_time": "2022-09-25T15:29:05.486Z"
   },
   {
    "duration": 177,
    "start_time": "2022-09-25T15:29:05.681Z"
   },
   {
    "duration": 24,
    "start_time": "2022-09-25T15:29:05.860Z"
   },
   {
    "duration": 170,
    "start_time": "2022-09-25T15:29:05.886Z"
   },
   {
    "duration": 180,
    "start_time": "2022-09-25T15:29:06.059Z"
   },
   {
    "duration": 18,
    "start_time": "2022-09-25T15:29:06.241Z"
   },
   {
    "duration": 257,
    "start_time": "2022-09-25T15:29:06.261Z"
   },
   {
    "duration": 5,
    "start_time": "2022-09-25T15:29:06.520Z"
   },
   {
    "duration": 416,
    "start_time": "2022-09-25T15:29:06.530Z"
   },
   {
    "duration": 348,
    "start_time": "2022-09-25T15:29:06.948Z"
   },
   {
    "duration": 544,
    "start_time": "2022-09-25T15:29:07.298Z"
   },
   {
    "duration": 5,
    "start_time": "2022-09-25T15:29:07.844Z"
   },
   {
    "duration": 16,
    "start_time": "2022-09-25T15:29:07.851Z"
   },
   {
    "duration": 23,
    "start_time": "2022-09-25T15:29:07.870Z"
   },
   {
    "duration": 53,
    "start_time": "2022-09-25T15:29:07.895Z"
   },
   {
    "duration": 435,
    "start_time": "2022-09-25T15:29:07.951Z"
   },
   {
    "duration": 9,
    "start_time": "2022-09-25T15:29:08.388Z"
   },
   {
    "duration": 124,
    "start_time": "2022-09-25T15:29:08.400Z"
   },
   {
    "duration": 5,
    "start_time": "2022-09-25T15:29:12.897Z"
   },
   {
    "duration": 7,
    "start_time": "2022-09-25T15:29:45.609Z"
   },
   {
    "duration": 5,
    "start_time": "2022-09-25T15:29:48.024Z"
   },
   {
    "duration": 4,
    "start_time": "2022-09-25T15:30:56.063Z"
   },
   {
    "duration": 9,
    "start_time": "2022-09-25T15:31:47.934Z"
   },
   {
    "duration": 5,
    "start_time": "2022-09-25T15:32:36.571Z"
   },
   {
    "duration": 4,
    "start_time": "2022-09-25T15:32:48.380Z"
   },
   {
    "duration": 114,
    "start_time": "2022-09-25T15:42:28.936Z"
   },
   {
    "duration": 7,
    "start_time": "2022-09-25T15:43:42.105Z"
   },
   {
    "duration": 6,
    "start_time": "2022-09-25T15:44:24.741Z"
   },
   {
    "duration": 4,
    "start_time": "2022-09-25T15:45:21.395Z"
   },
   {
    "duration": 1167,
    "start_time": "2022-09-25T16:03:19.192Z"
   },
   {
    "duration": 13,
    "start_time": "2022-09-25T16:03:20.361Z"
   },
   {
    "duration": 40,
    "start_time": "2022-09-25T16:03:20.376Z"
   },
   {
    "duration": 5,
    "start_time": "2022-09-25T16:03:20.417Z"
   },
   {
    "duration": 12,
    "start_time": "2022-09-25T16:03:20.425Z"
   },
   {
    "duration": 18,
    "start_time": "2022-09-25T16:03:20.438Z"
   },
   {
    "duration": 33,
    "start_time": "2022-09-25T16:03:20.458Z"
   },
   {
    "duration": 18,
    "start_time": "2022-09-25T16:03:20.492Z"
   },
   {
    "duration": 12,
    "start_time": "2022-09-25T16:03:20.511Z"
   },
   {
    "duration": 8,
    "start_time": "2022-09-25T16:03:20.525Z"
   },
   {
    "duration": 396,
    "start_time": "2022-09-25T16:03:20.535Z"
   },
   {
    "duration": 5,
    "start_time": "2022-09-25T16:03:20.932Z"
   },
   {
    "duration": 18,
    "start_time": "2022-09-25T16:03:20.938Z"
   },
   {
    "duration": 237,
    "start_time": "2022-09-25T16:03:20.959Z"
   },
   {
    "duration": 293,
    "start_time": "2022-09-25T16:03:21.197Z"
   },
   {
    "duration": 234,
    "start_time": "2022-09-25T16:03:21.491Z"
   },
   {
    "duration": 7,
    "start_time": "2022-09-25T16:03:21.727Z"
   },
   {
    "duration": 354,
    "start_time": "2022-09-25T16:03:21.735Z"
   },
   {
    "duration": 271,
    "start_time": "2022-09-25T16:03:22.091Z"
   },
   {
    "duration": 185,
    "start_time": "2022-09-25T16:03:22.364Z"
   },
   {
    "duration": 186,
    "start_time": "2022-09-25T16:03:22.551Z"
   },
   {
    "duration": 16,
    "start_time": "2022-09-25T16:03:22.739Z"
   },
   {
    "duration": 190,
    "start_time": "2022-09-25T16:03:22.756Z"
   },
   {
    "duration": 179,
    "start_time": "2022-09-25T16:03:22.947Z"
   },
   {
    "duration": 18,
    "start_time": "2022-09-25T16:03:23.128Z"
   },
   {
    "duration": 256,
    "start_time": "2022-09-25T16:03:23.148Z"
   },
   {
    "duration": 4,
    "start_time": "2022-09-25T16:03:23.406Z"
   },
   {
    "duration": 409,
    "start_time": "2022-09-25T16:03:23.412Z"
   },
   {
    "duration": 317,
    "start_time": "2022-09-25T16:03:23.822Z"
   },
   {
    "duration": 502,
    "start_time": "2022-09-25T16:03:24.140Z"
   },
   {
    "duration": 4,
    "start_time": "2022-09-25T16:03:24.644Z"
   },
   {
    "duration": 5,
    "start_time": "2022-09-25T16:03:24.650Z"
   },
   {
    "duration": 31,
    "start_time": "2022-09-25T16:03:24.656Z"
   },
   {
    "duration": 19,
    "start_time": "2022-09-25T16:03:24.689Z"
   },
   {
    "duration": 426,
    "start_time": "2022-09-25T16:03:24.709Z"
   },
   {
    "duration": 6,
    "start_time": "2022-09-25T16:03:25.137Z"
   },
   {
    "duration": 8,
    "start_time": "2022-09-25T16:03:25.144Z"
   },
   {
    "duration": 16,
    "start_time": "2022-09-25T16:03:25.154Z"
   },
   {
    "duration": 32,
    "start_time": "2022-09-25T16:03:25.172Z"
   },
   {
    "duration": 14,
    "start_time": "2022-09-25T16:03:25.206Z"
   },
   {
    "duration": 18,
    "start_time": "2022-09-25T16:03:25.225Z"
   },
   {
    "duration": 3,
    "start_time": "2022-09-26T15:14:22.352Z"
   },
   {
    "duration": 3,
    "start_time": "2022-09-26T15:14:24.893Z"
   },
   {
    "duration": 75,
    "start_time": "2022-09-26T15:14:38.499Z"
   },
   {
    "duration": 14,
    "start_time": "2022-09-26T15:14:58.421Z"
   },
   {
    "duration": 111,
    "start_time": "2022-09-26T15:16:50.375Z"
   },
   {
    "duration": 11,
    "start_time": "2022-09-26T15:17:00.712Z"
   },
   {
    "duration": 13,
    "start_time": "2022-09-26T15:24:40.599Z"
   },
   {
    "duration": 11,
    "start_time": "2022-09-26T15:46:56.266Z"
   },
   {
    "duration": 12,
    "start_time": "2022-09-26T15:47:05.039Z"
   },
   {
    "duration": 1184,
    "start_time": "2022-09-26T15:48:06.831Z"
   },
   {
    "duration": 3,
    "start_time": "2022-09-26T15:48:43.264Z"
   },
   {
    "duration": 6,
    "start_time": "2022-09-26T15:48:43.269Z"
   },
   {
    "duration": 65,
    "start_time": "2022-09-26T15:48:43.277Z"
   },
   {
    "duration": 17,
    "start_time": "2022-09-26T15:48:43.344Z"
   },
   {
    "duration": 32,
    "start_time": "2022-09-26T15:48:43.364Z"
   },
   {
    "duration": 5,
    "start_time": "2022-09-26T15:48:43.397Z"
   },
   {
    "duration": 14,
    "start_time": "2022-09-26T15:48:43.404Z"
   },
   {
    "duration": 2,
    "start_time": "2022-09-26T15:48:43.420Z"
   },
   {
    "duration": 18,
    "start_time": "2022-09-26T15:48:49.726Z"
   },
   {
    "duration": 44,
    "start_time": "2022-09-26T16:45:42.021Z"
   },
   {
    "duration": 4,
    "start_time": "2022-09-26T16:46:05.502Z"
   },
   {
    "duration": 10,
    "start_time": "2022-09-26T16:46:52.504Z"
   },
   {
    "duration": 5,
    "start_time": "2022-09-26T16:47:30.189Z"
   },
   {
    "duration": 12,
    "start_time": "2022-09-26T16:47:32.045Z"
   },
   {
    "duration": 4,
    "start_time": "2022-09-26T16:47:47.177Z"
   },
   {
    "duration": 9,
    "start_time": "2022-09-26T16:47:47.184Z"
   },
   {
    "duration": 67,
    "start_time": "2022-09-26T16:47:47.195Z"
   },
   {
    "duration": 14,
    "start_time": "2022-09-26T16:47:47.265Z"
   },
   {
    "duration": 29,
    "start_time": "2022-09-26T16:47:47.281Z"
   },
   {
    "duration": 5,
    "start_time": "2022-09-26T16:47:47.312Z"
   },
   {
    "duration": 13,
    "start_time": "2022-09-26T16:47:47.318Z"
   },
   {
    "duration": 5,
    "start_time": "2022-09-26T16:47:47.333Z"
   },
   {
    "duration": 45,
    "start_time": "2022-09-26T16:47:47.340Z"
   },
   {
    "duration": 9,
    "start_time": "2022-09-26T16:47:47.386Z"
   },
   {
    "duration": 9,
    "start_time": "2022-09-26T16:47:50.479Z"
   },
   {
    "duration": 5,
    "start_time": "2022-09-26T16:50:01.701Z"
   },
   {
    "duration": 9,
    "start_time": "2022-09-26T16:50:02.724Z"
   },
   {
    "duration": 16,
    "start_time": "2022-09-26T16:51:02.893Z"
   },
   {
    "duration": 6,
    "start_time": "2022-09-26T16:51:29.830Z"
   },
   {
    "duration": 5,
    "start_time": "2022-09-26T16:51:33.691Z"
   },
   {
    "duration": 14,
    "start_time": "2022-09-26T16:51:36.187Z"
   },
   {
    "duration": 4,
    "start_time": "2022-09-26T16:52:42.813Z"
   },
   {
    "duration": 10,
    "start_time": "2022-09-26T16:52:46.720Z"
   },
   {
    "duration": 4,
    "start_time": "2022-09-26T16:52:49.276Z"
   },
   {
    "duration": 14,
    "start_time": "2022-09-26T17:00:38.737Z"
   },
   {
    "duration": 23,
    "start_time": "2022-09-26T17:00:59.196Z"
   },
   {
    "duration": 33,
    "start_time": "2022-09-26T17:02:21.902Z"
   },
   {
    "duration": 306,
    "start_time": "2022-09-26T17:03:31.690Z"
   },
   {
    "duration": 38,
    "start_time": "2022-09-26T17:03:41.630Z"
   },
   {
    "duration": 11,
    "start_time": "2022-09-26T17:04:31.050Z"
   },
   {
    "duration": 15,
    "start_time": "2022-09-26T17:05:59.320Z"
   },
   {
    "duration": 28,
    "start_time": "2022-09-26T17:08:18.878Z"
   },
   {
    "duration": 4,
    "start_time": "2022-09-26T17:08:38.160Z"
   },
   {
    "duration": 21,
    "start_time": "2022-09-26T17:08:38.166Z"
   },
   {
    "duration": 68,
    "start_time": "2022-09-26T17:08:38.189Z"
   },
   {
    "duration": 14,
    "start_time": "2022-09-26T17:08:38.258Z"
   },
   {
    "duration": 68,
    "start_time": "2022-09-26T17:08:38.274Z"
   },
   {
    "duration": 19,
    "start_time": "2022-09-26T17:08:38.344Z"
   },
   {
    "duration": 35,
    "start_time": "2022-09-26T17:08:38.365Z"
   },
   {
    "duration": 9,
    "start_time": "2022-09-26T17:08:38.401Z"
   },
   {
    "duration": 41,
    "start_time": "2022-09-26T17:08:38.412Z"
   },
   {
    "duration": 5,
    "start_time": "2022-09-26T17:08:38.455Z"
   },
   {
    "duration": 27,
    "start_time": "2022-09-26T17:08:38.463Z"
   },
   {
    "duration": 20,
    "start_time": "2022-09-26T17:08:38.492Z"
   },
   {
    "duration": 30,
    "start_time": "2022-09-26T17:08:38.513Z"
   },
   {
    "duration": 60,
    "start_time": "2022-09-26T17:08:38.545Z"
   },
   {
    "duration": 33,
    "start_time": "2022-09-26T17:08:38.607Z"
   },
   {
    "duration": 18,
    "start_time": "2022-09-26T17:08:38.641Z"
   },
   {
    "duration": 29,
    "start_time": "2022-09-26T17:08:38.661Z"
   },
   {
    "duration": 20,
    "start_time": "2022-09-26T17:08:38.692Z"
   },
   {
    "duration": 390,
    "start_time": "2022-09-26T17:08:38.715Z"
   },
   {
    "duration": 5,
    "start_time": "2022-09-26T17:08:39.107Z"
   },
   {
    "duration": 45,
    "start_time": "2022-09-26T17:08:39.113Z"
   },
   {
    "duration": 30,
    "start_time": "2022-09-26T17:08:42.813Z"
   },
   {
    "duration": 18,
    "start_time": "2022-09-26T17:08:50.016Z"
   },
   {
    "duration": 16,
    "start_time": "2022-09-26T17:09:35.269Z"
   },
   {
    "duration": 10,
    "start_time": "2022-09-26T17:09:41.060Z"
   },
   {
    "duration": 11,
    "start_time": "2022-09-26T17:10:09.159Z"
   },
   {
    "duration": 913,
    "start_time": "2022-09-26T17:10:45.955Z"
   },
   {
    "duration": 53,
    "start_time": "2022-09-26T17:10:53.075Z"
   },
   {
    "duration": 43,
    "start_time": "2022-09-26T17:11:01.381Z"
   },
   {
    "duration": 25,
    "start_time": "2022-09-26T17:11:05.183Z"
   },
   {
    "duration": 26,
    "start_time": "2022-09-26T17:12:16.692Z"
   },
   {
    "duration": 12,
    "start_time": "2022-09-26T17:12:58.067Z"
   },
   {
    "duration": 24,
    "start_time": "2022-09-26T17:13:08.111Z"
   },
   {
    "duration": 23,
    "start_time": "2022-09-26T17:14:01.754Z"
   },
   {
    "duration": 19,
    "start_time": "2022-09-26T17:14:09.713Z"
   },
   {
    "duration": 17,
    "start_time": "2022-09-26T17:14:36.908Z"
   },
   {
    "duration": 64,
    "start_time": "2022-09-26T17:28:07.640Z"
   },
   {
    "duration": 69,
    "start_time": "2022-09-26T17:28:19.414Z"
   },
   {
    "duration": 49,
    "start_time": "2022-09-26T17:28:35.994Z"
   },
   {
    "duration": 39,
    "start_time": "2022-09-26T17:29:36.541Z"
   },
   {
    "duration": 74,
    "start_time": "2022-09-26T17:30:29.971Z"
   },
   {
    "duration": 11,
    "start_time": "2022-09-26T17:31:58.759Z"
   },
   {
    "duration": 13,
    "start_time": "2022-09-26T17:34:41.399Z"
   },
   {
    "duration": 12,
    "start_time": "2022-09-26T17:35:58.350Z"
   },
   {
    "duration": 799,
    "start_time": "2022-09-26T17:36:07.475Z"
   },
   {
    "duration": 883,
    "start_time": "2022-09-26T17:36:27.198Z"
   },
   {
    "duration": 12,
    "start_time": "2022-09-26T17:37:01.849Z"
   },
   {
    "duration": 26,
    "start_time": "2022-09-26T17:37:25.906Z"
   },
   {
    "duration": 18,
    "start_time": "2022-09-26T17:37:57.982Z"
   },
   {
    "duration": 14,
    "start_time": "2022-09-26T17:38:13.943Z"
   },
   {
    "duration": 14,
    "start_time": "2022-09-26T17:39:50.299Z"
   },
   {
    "duration": 12,
    "start_time": "2022-09-26T17:39:54.299Z"
   },
   {
    "duration": 14,
    "start_time": "2022-09-26T17:39:59.570Z"
   },
   {
    "duration": 18,
    "start_time": "2022-09-26T17:41:27.771Z"
   },
   {
    "duration": 16,
    "start_time": "2022-09-26T17:44:52.163Z"
   },
   {
    "duration": 22,
    "start_time": "2022-09-26T17:46:25.236Z"
   },
   {
    "duration": 17,
    "start_time": "2022-09-26T19:49:05.473Z"
   },
   {
    "duration": 23,
    "start_time": "2022-09-26T19:49:50.410Z"
   },
   {
    "duration": 17,
    "start_time": "2022-09-26T19:50:40.673Z"
   },
   {
    "duration": 9,
    "start_time": "2022-09-26T19:52:20.065Z"
   },
   {
    "duration": 9,
    "start_time": "2022-09-26T19:53:01.543Z"
   },
   {
    "duration": 27,
    "start_time": "2022-09-26T19:55:28.371Z"
   },
   {
    "duration": 29,
    "start_time": "2022-09-26T19:55:55.758Z"
   },
   {
    "duration": 8,
    "start_time": "2022-09-26T19:56:31.191Z"
   },
   {
    "duration": 18,
    "start_time": "2022-09-26T19:56:35.572Z"
   },
   {
    "duration": 3,
    "start_time": "2022-09-26T20:14:49.994Z"
   },
   {
    "duration": 172,
    "start_time": "2022-09-26T20:15:03.047Z"
   },
   {
    "duration": 14,
    "start_time": "2022-09-26T20:15:15.154Z"
   },
   {
    "duration": 28,
    "start_time": "2022-09-26T20:15:51.798Z"
   },
   {
    "duration": 11,
    "start_time": "2022-09-26T20:16:36.274Z"
   },
   {
    "duration": 6,
    "start_time": "2022-09-26T20:20:09.763Z"
   },
   {
    "duration": 1170,
    "start_time": "2022-09-26T20:29:50.206Z"
   },
   {
    "duration": 3,
    "start_time": "2022-09-26T20:29:51.379Z"
   },
   {
    "duration": 95,
    "start_time": "2022-09-26T20:29:51.384Z"
   },
   {
    "duration": 14,
    "start_time": "2022-09-26T20:29:51.481Z"
   },
   {
    "duration": 28,
    "start_time": "2022-09-26T20:29:51.497Z"
   },
   {
    "duration": 5,
    "start_time": "2022-09-26T20:29:51.526Z"
   },
   {
    "duration": 19,
    "start_time": "2022-09-26T20:29:51.532Z"
   },
   {
    "duration": 24,
    "start_time": "2022-09-26T20:29:51.553Z"
   },
   {
    "duration": 19,
    "start_time": "2022-09-26T20:29:51.578Z"
   },
   {
    "duration": 5,
    "start_time": "2022-09-26T20:29:51.599Z"
   },
   {
    "duration": 17,
    "start_time": "2022-09-26T20:29:51.606Z"
   },
   {
    "duration": 7,
    "start_time": "2022-09-26T20:29:51.624Z"
   },
   {
    "duration": 13,
    "start_time": "2022-09-26T20:29:51.632Z"
   },
   {
    "duration": 31,
    "start_time": "2022-09-26T20:29:51.648Z"
   },
   {
    "duration": 15,
    "start_time": "2022-09-26T20:29:51.680Z"
   },
   {
    "duration": 6,
    "start_time": "2022-09-26T20:29:51.697Z"
   },
   {
    "duration": 13,
    "start_time": "2022-09-26T20:29:51.704Z"
   },
   {
    "duration": 6,
    "start_time": "2022-09-26T20:29:51.718Z"
   },
   {
    "duration": 415,
    "start_time": "2022-09-26T20:29:51.726Z"
   },
   {
    "duration": 6,
    "start_time": "2022-09-26T20:29:52.143Z"
   },
   {
    "duration": 27,
    "start_time": "2022-09-26T20:29:52.150Z"
   },
   {
    "duration": 25,
    "start_time": "2022-09-26T20:29:52.179Z"
   },
   {
    "duration": 41,
    "start_time": "2022-09-26T20:29:52.206Z"
   },
   {
    "duration": 22,
    "start_time": "2022-09-26T20:29:52.249Z"
   },
   {
    "duration": 27,
    "start_time": "2022-09-26T20:29:52.272Z"
   },
   {
    "duration": 7,
    "start_time": "2022-09-26T20:29:52.300Z"
   },
   {
    "duration": 24,
    "start_time": "2022-09-26T20:29:52.309Z"
   },
   {
    "duration": 3,
    "start_time": "2022-09-26T20:29:52.334Z"
   },
   {
    "duration": 17,
    "start_time": "2022-09-26T20:29:52.339Z"
   },
   {
    "duration": 209,
    "start_time": "2022-09-26T20:29:52.357Z"
   },
   {
    "duration": 292,
    "start_time": "2022-09-26T20:29:52.568Z"
   },
   {
    "duration": 228,
    "start_time": "2022-09-26T20:29:52.862Z"
   },
   {
    "duration": 6,
    "start_time": "2022-09-26T20:29:53.091Z"
   },
   {
    "duration": 365,
    "start_time": "2022-09-26T20:29:53.098Z"
   },
   {
    "duration": 197,
    "start_time": "2022-09-26T20:29:53.465Z"
   },
   {
    "duration": 152,
    "start_time": "2022-09-26T20:29:53.664Z"
   },
   {
    "duration": 155,
    "start_time": "2022-09-26T20:29:53.818Z"
   },
   {
    "duration": 11,
    "start_time": "2022-09-26T20:29:53.975Z"
   },
   {
    "duration": 189,
    "start_time": "2022-09-26T20:29:53.987Z"
   },
   {
    "duration": 190,
    "start_time": "2022-09-26T20:29:54.178Z"
   },
   {
    "duration": 15,
    "start_time": "2022-09-26T20:29:54.373Z"
   },
   {
    "duration": 235,
    "start_time": "2022-09-26T20:29:54.390Z"
   },
   {
    "duration": 4,
    "start_time": "2022-09-26T20:29:54.626Z"
   },
   {
    "duration": 371,
    "start_time": "2022-09-26T20:29:54.632Z"
   },
   {
    "duration": 433,
    "start_time": "2022-09-26T20:29:55.005Z"
   },
   {
    "duration": 385,
    "start_time": "2022-09-26T20:29:55.440Z"
   },
   {
    "duration": 4,
    "start_time": "2022-09-26T20:29:55.826Z"
   },
   {
    "duration": 6,
    "start_time": "2022-09-26T20:29:55.832Z"
   },
   {
    "duration": 33,
    "start_time": "2022-09-26T20:29:55.839Z"
   },
   {
    "duration": 18,
    "start_time": "2022-09-26T20:29:55.873Z"
   },
   {
    "duration": 360,
    "start_time": "2022-09-26T20:29:55.892Z"
   },
   {
    "duration": 7,
    "start_time": "2022-09-26T20:29:56.253Z"
   },
   {
    "duration": 16,
    "start_time": "2022-09-26T20:29:56.261Z"
   },
   {
    "duration": 6,
    "start_time": "2022-09-26T20:29:56.279Z"
   },
   {
    "duration": 10,
    "start_time": "2022-09-26T20:29:56.286Z"
   },
   {
    "duration": 10,
    "start_time": "2022-09-26T20:29:56.298Z"
   },
   {
    "duration": 20,
    "start_time": "2022-09-26T20:29:56.310Z"
   },
   {
    "duration": 191,
    "start_time": "2022-09-26T20:33:40.464Z"
   },
   {
    "duration": 197,
    "start_time": "2022-09-26T20:33:55.259Z"
   },
   {
    "duration": 186,
    "start_time": "2022-09-26T20:34:17.695Z"
   },
   {
    "duration": 185,
    "start_time": "2022-09-26T20:34:36.503Z"
   },
   {
    "duration": 248,
    "start_time": "2022-09-26T20:35:30.473Z"
   },
   {
    "duration": 210,
    "start_time": "2022-09-26T20:36:00.272Z"
   },
   {
    "duration": 274,
    "start_time": "2022-09-26T20:36:24.814Z"
   },
   {
    "duration": 189,
    "start_time": "2022-09-26T20:36:38.528Z"
   },
   {
    "duration": 221,
    "start_time": "2022-09-26T20:36:50.484Z"
   },
   {
    "duration": 239,
    "start_time": "2022-09-26T20:38:35.625Z"
   },
   {
    "duration": 9,
    "start_time": "2022-09-27T19:09:12.532Z"
   },
   {
    "duration": 195,
    "start_time": "2022-09-27T19:09:34.441Z"
   },
   {
    "duration": 250,
    "start_time": "2022-09-27T19:09:54.272Z"
   },
   {
    "duration": 103,
    "start_time": "2022-09-27T19:24:56.389Z"
   },
   {
    "duration": 17,
    "start_time": "2022-09-27T19:28:01.034Z"
   },
   {
    "duration": 62,
    "start_time": "2022-09-27T19:29:10.688Z"
   },
   {
    "duration": 9,
    "start_time": "2022-09-27T19:33:43.518Z"
   },
   {
    "duration": 9,
    "start_time": "2022-09-27T19:33:49.757Z"
   },
   {
    "duration": 27,
    "start_time": "2022-09-27T19:33:55.044Z"
   },
   {
    "duration": 44,
    "start_time": "2022-09-27T19:34:14.510Z"
   },
   {
    "duration": 9,
    "start_time": "2022-09-27T19:34:46.319Z"
   },
   {
    "duration": 49,
    "start_time": "2022-09-27T19:34:52.827Z"
   },
   {
    "duration": 16,
    "start_time": "2022-09-27T19:57:18.807Z"
   },
   {
    "duration": 32,
    "start_time": "2022-09-27T19:57:59.074Z"
   },
   {
    "duration": 145,
    "start_time": "2022-09-27T19:59:39.537Z"
   },
   {
    "duration": 137,
    "start_time": "2022-09-27T20:00:41.910Z"
   },
   {
    "duration": 3,
    "start_time": "2022-09-27T20:00:55.817Z"
   },
   {
    "duration": 3,
    "start_time": "2022-09-27T20:00:55.828Z"
   },
   {
    "duration": 75,
    "start_time": "2022-09-27T20:00:55.833Z"
   },
   {
    "duration": 12,
    "start_time": "2022-09-27T20:00:55.910Z"
   },
   {
    "duration": 27,
    "start_time": "2022-09-27T20:00:55.923Z"
   },
   {
    "duration": 25,
    "start_time": "2022-09-27T20:00:55.952Z"
   },
   {
    "duration": 9,
    "start_time": "2022-09-27T20:00:55.979Z"
   },
   {
    "duration": 5,
    "start_time": "2022-09-27T20:00:55.989Z"
   },
   {
    "duration": 18,
    "start_time": "2022-09-27T20:00:55.995Z"
   },
   {
    "duration": 4,
    "start_time": "2022-09-27T20:00:56.015Z"
   },
   {
    "duration": 9,
    "start_time": "2022-09-27T20:00:56.021Z"
   },
   {
    "duration": 6,
    "start_time": "2022-09-27T20:00:56.031Z"
   },
   {
    "duration": 6,
    "start_time": "2022-09-27T20:00:56.077Z"
   },
   {
    "duration": 17,
    "start_time": "2022-09-27T20:00:56.087Z"
   },
   {
    "duration": 13,
    "start_time": "2022-09-27T20:00:56.106Z"
   },
   {
    "duration": 4,
    "start_time": "2022-09-27T20:00:56.121Z"
   },
   {
    "duration": 11,
    "start_time": "2022-09-27T20:00:56.127Z"
   },
   {
    "duration": 4,
    "start_time": "2022-09-27T20:00:56.139Z"
   },
   {
    "duration": 340,
    "start_time": "2022-09-27T20:00:56.177Z"
   },
   {
    "duration": 5,
    "start_time": "2022-09-27T20:00:56.519Z"
   },
   {
    "duration": 16,
    "start_time": "2022-09-27T20:00:56.526Z"
   },
   {
    "duration": 44,
    "start_time": "2022-09-27T20:00:56.544Z"
   },
   {
    "duration": 13,
    "start_time": "2022-09-27T20:00:56.590Z"
   },
   {
    "duration": 21,
    "start_time": "2022-09-27T20:00:56.605Z"
   },
   {
    "duration": 18,
    "start_time": "2022-09-27T20:00:56.627Z"
   },
   {
    "duration": 124,
    "start_time": "2022-09-27T20:00:56.646Z"
   },
   {
    "duration": 18,
    "start_time": "2022-09-27T20:00:56.777Z"
   },
   {
    "duration": 3,
    "start_time": "2022-09-27T20:00:56.797Z"
   },
   {
    "duration": 12,
    "start_time": "2022-09-27T20:00:56.802Z"
   },
   {
    "duration": 233,
    "start_time": "2022-09-27T20:00:56.815Z"
   },
   {
    "duration": 270,
    "start_time": "2022-09-27T20:00:57.050Z"
   },
   {
    "duration": 226,
    "start_time": "2022-09-27T20:00:57.322Z"
   },
   {
    "duration": 6,
    "start_time": "2022-09-27T20:00:57.550Z"
   },
   {
    "duration": 301,
    "start_time": "2022-09-27T20:00:57.557Z"
   },
   {
    "duration": 16,
    "start_time": "2022-09-27T20:00:57.860Z"
   },
   {
    "duration": 194,
    "start_time": "2022-09-27T20:00:57.878Z"
   },
   {
    "duration": 247,
    "start_time": "2022-09-27T20:00:58.074Z"
   },
   {
    "duration": 179,
    "start_time": "2022-09-27T20:01:03.566Z"
   },
   {
    "duration": 182,
    "start_time": "2022-09-27T20:01:46.813Z"
   },
   {
    "duration": 4,
    "start_time": "2022-09-27T20:02:26.076Z"
   },
   {
    "duration": 155,
    "start_time": "2022-09-27T20:02:28.428Z"
   },
   {
    "duration": 157,
    "start_time": "2022-09-27T20:02:57.252Z"
   },
   {
    "duration": 270,
    "start_time": "2022-09-27T20:03:00.156Z"
   },
   {
    "duration": 15,
    "start_time": "2022-09-27T20:03:16.516Z"
   },
   {
    "duration": 183,
    "start_time": "2022-09-27T20:03:30.482Z"
   },
   {
    "duration": 184,
    "start_time": "2022-09-27T20:03:35.995Z"
   },
   {
    "duration": 10,
    "start_time": "2022-09-27T20:05:44.246Z"
   },
   {
    "duration": 5,
    "start_time": "2022-09-27T20:05:49.178Z"
   },
   {
    "duration": 158,
    "start_time": "2022-09-27T20:05:51.124Z"
   },
   {
    "duration": 164,
    "start_time": "2022-09-27T20:06:56.257Z"
   },
   {
    "duration": 163,
    "start_time": "2022-09-27T20:06:58.049Z"
   },
   {
    "duration": 3,
    "start_time": "2022-09-27T20:07:13.168Z"
   },
   {
    "duration": 15,
    "start_time": "2022-09-27T20:08:00.087Z"
   },
   {
    "duration": 14,
    "start_time": "2022-09-27T20:08:19.406Z"
   },
   {
    "duration": 15,
    "start_time": "2022-09-27T20:08:39.390Z"
   },
   {
    "duration": 2,
    "start_time": "2022-09-27T20:10:14.870Z"
   },
   {
    "duration": 5,
    "start_time": "2022-09-27T20:14:23.572Z"
   },
   {
    "duration": 10,
    "start_time": "2022-09-27T20:17:56.130Z"
   },
   {
    "duration": 11,
    "start_time": "2022-09-27T20:19:41.701Z"
   },
   {
    "duration": 6,
    "start_time": "2022-09-27T20:19:45.158Z"
   },
   {
    "duration": 1676,
    "start_time": "2022-09-27T20:19:46.978Z"
   },
   {
    "duration": 337,
    "start_time": "2022-09-27T20:23:45.639Z"
   },
   {
    "duration": 57,
    "start_time": "2022-09-27T20:24:51.921Z"
   },
   {
    "duration": 64,
    "start_time": "2022-09-27T20:25:11.658Z"
   },
   {
    "duration": 63,
    "start_time": "2022-09-27T20:25:25.601Z"
   },
   {
    "duration": 106,
    "start_time": "2022-09-27T20:25:32.449Z"
   },
   {
    "duration": 235,
    "start_time": "2022-09-27T20:25:44.561Z"
   },
   {
    "duration": 112,
    "start_time": "2022-09-27T20:26:28.745Z"
   },
   {
    "duration": 111,
    "start_time": "2022-09-27T20:26:50.127Z"
   },
   {
    "duration": 185,
    "start_time": "2022-09-27T20:27:06.588Z"
   },
   {
    "duration": 186,
    "start_time": "2022-09-27T20:27:22.832Z"
   },
   {
    "duration": 204,
    "start_time": "2022-09-27T20:28:00.383Z"
   },
   {
    "duration": 104,
    "start_time": "2022-09-27T20:29:24.920Z"
   },
   {
    "duration": 124,
    "start_time": "2022-09-27T20:29:32.990Z"
   },
   {
    "duration": 248,
    "start_time": "2022-09-27T20:29:46.894Z"
   },
   {
    "duration": 237,
    "start_time": "2022-09-27T20:30:11.333Z"
   },
   {
    "duration": 229,
    "start_time": "2022-09-27T20:30:32.502Z"
   },
   {
    "duration": 59,
    "start_time": "2022-09-27T20:31:56.744Z"
   },
   {
    "duration": 96,
    "start_time": "2022-09-27T20:32:04.221Z"
   },
   {
    "duration": 115,
    "start_time": "2022-09-27T20:32:16.509Z"
   },
   {
    "duration": 293,
    "start_time": "2022-09-27T20:32:54.835Z"
   },
   {
    "duration": 258,
    "start_time": "2022-09-27T20:33:29.139Z"
   },
   {
    "duration": 274,
    "start_time": "2022-09-27T20:34:24.577Z"
   },
   {
    "duration": 268,
    "start_time": "2022-09-27T20:34:57.121Z"
   },
   {
    "duration": 279,
    "start_time": "2022-09-27T20:35:12.113Z"
   },
   {
    "duration": 67,
    "start_time": "2022-09-27T20:36:25.058Z"
   },
   {
    "duration": 6,
    "start_time": "2022-09-27T20:36:42.372Z"
   },
   {
    "duration": 38,
    "start_time": "2022-09-27T20:36:52.202Z"
   },
   {
    "duration": 274,
    "start_time": "2022-09-27T20:37:03.982Z"
   },
   {
    "duration": 298,
    "start_time": "2022-09-27T20:38:45.990Z"
   },
   {
    "duration": 8,
    "start_time": "2022-09-27T20:39:38.821Z"
   },
   {
    "duration": 382,
    "start_time": "2022-09-27T20:39:51.077Z"
   },
   {
    "duration": 164,
    "start_time": "2022-09-27T20:40:13.809Z"
   },
   {
    "duration": 439,
    "start_time": "2022-09-27T20:42:21.235Z"
   },
   {
    "duration": 333,
    "start_time": "2022-09-27T20:43:05.228Z"
   },
   {
    "duration": 279,
    "start_time": "2022-09-27T20:43:41.951Z"
   },
   {
    "duration": 322,
    "start_time": "2022-09-27T20:44:30.430Z"
   },
   {
    "duration": 276,
    "start_time": "2022-09-27T20:45:21.148Z"
   },
   {
    "duration": 311,
    "start_time": "2022-09-27T20:45:37.225Z"
   },
   {
    "duration": 293,
    "start_time": "2022-09-27T20:45:50.824Z"
   },
   {
    "duration": 289,
    "start_time": "2022-09-27T20:46:08.569Z"
   },
   {
    "duration": 290,
    "start_time": "2022-09-27T20:46:27.328Z"
   },
   {
    "duration": 481,
    "start_time": "2022-09-27T20:46:59.662Z"
   },
   {
    "duration": 307,
    "start_time": "2022-09-27T20:47:22.401Z"
   },
   {
    "duration": 8,
    "start_time": "2022-09-27T20:50:29.891Z"
   },
   {
    "duration": 9,
    "start_time": "2022-09-27T20:50:37.637Z"
   },
   {
    "duration": 5,
    "start_time": "2022-09-27T20:55:24.040Z"
   },
   {
    "duration": 18,
    "start_time": "2022-09-27T20:55:29.632Z"
   },
   {
    "duration": 418,
    "start_time": "2022-09-27T20:55:37.000Z"
   },
   {
    "duration": 1029,
    "start_time": "2022-09-27T20:57:43.920Z"
   },
   {
    "duration": 2,
    "start_time": "2022-09-27T20:57:44.951Z"
   },
   {
    "duration": 69,
    "start_time": "2022-09-27T20:57:44.955Z"
   },
   {
    "duration": 13,
    "start_time": "2022-09-27T20:57:45.026Z"
   },
   {
    "duration": 35,
    "start_time": "2022-09-27T20:57:45.042Z"
   },
   {
    "duration": 5,
    "start_time": "2022-09-27T20:57:45.079Z"
   },
   {
    "duration": 13,
    "start_time": "2022-09-27T20:57:45.085Z"
   },
   {
    "duration": 3,
    "start_time": "2022-09-27T20:57:45.099Z"
   },
   {
    "duration": 18,
    "start_time": "2022-09-27T20:57:45.103Z"
   },
   {
    "duration": 4,
    "start_time": "2022-09-27T20:57:45.123Z"
   },
   {
    "duration": 9,
    "start_time": "2022-09-27T20:57:45.128Z"
   },
   {
    "duration": 5,
    "start_time": "2022-09-27T20:57:45.139Z"
   },
   {
    "duration": 6,
    "start_time": "2022-09-27T20:57:45.178Z"
   },
   {
    "duration": 25,
    "start_time": "2022-09-27T20:57:45.188Z"
   },
   {
    "duration": 17,
    "start_time": "2022-09-27T20:57:45.215Z"
   },
   {
    "duration": 4,
    "start_time": "2022-09-27T20:57:45.234Z"
   },
   {
    "duration": 37,
    "start_time": "2022-09-27T20:57:45.240Z"
   },
   {
    "duration": 6,
    "start_time": "2022-09-27T20:57:45.278Z"
   },
   {
    "duration": 403,
    "start_time": "2022-09-27T20:57:45.286Z"
   },
   {
    "duration": 5,
    "start_time": "2022-09-27T20:57:45.691Z"
   },
   {
    "duration": 19,
    "start_time": "2022-09-27T20:57:45.698Z"
   },
   {
    "duration": 26,
    "start_time": "2022-09-27T20:57:45.718Z"
   },
   {
    "duration": 36,
    "start_time": "2022-09-27T20:57:45.745Z"
   },
   {
    "duration": 26,
    "start_time": "2022-09-27T20:57:45.783Z"
   },
   {
    "duration": 19,
    "start_time": "2022-09-27T20:57:45.810Z"
   },
   {
    "duration": 7,
    "start_time": "2022-09-27T20:57:45.830Z"
   },
   {
    "duration": 42,
    "start_time": "2022-09-27T20:57:45.839Z"
   },
   {
    "duration": 3,
    "start_time": "2022-09-27T20:57:45.883Z"
   },
   {
    "duration": 18,
    "start_time": "2022-09-27T20:57:45.888Z"
   },
   {
    "duration": 204,
    "start_time": "2022-09-27T20:57:45.908Z"
   },
   {
    "duration": 300,
    "start_time": "2022-09-27T20:57:46.113Z"
   },
   {
    "duration": 288,
    "start_time": "2022-09-27T20:57:46.414Z"
   },
   {
    "duration": 6,
    "start_time": "2022-09-27T20:57:46.703Z"
   },
   {
    "duration": 430,
    "start_time": "2022-09-27T20:57:46.711Z"
   },
   {
    "duration": 10,
    "start_time": "2022-09-27T20:57:47.143Z"
   },
   {
    "duration": 188,
    "start_time": "2022-09-27T20:57:47.155Z"
   },
   {
    "duration": 244,
    "start_time": "2022-09-27T20:57:47.345Z"
   },
   {
    "duration": 4,
    "start_time": "2022-09-27T20:57:47.590Z"
   },
   {
    "duration": 172,
    "start_time": "2022-09-27T20:57:47.595Z"
   },
   {
    "duration": 169,
    "start_time": "2022-09-27T20:57:47.769Z"
   },
   {
    "duration": 16,
    "start_time": "2022-09-27T20:57:47.943Z"
   },
   {
    "duration": 16,
    "start_time": "2022-09-27T20:57:47.961Z"
   },
   {
    "duration": 1685,
    "start_time": "2022-09-27T20:57:47.978Z"
   },
   {
    "duration": 3,
    "start_time": "2022-09-27T20:57:49.665Z"
   },
   {
    "duration": 2,
    "start_time": "2022-09-27T20:57:49.676Z"
   },
   {
    "duration": 291,
    "start_time": "2022-09-27T20:57:49.680Z"
   },
   {
    "duration": 6,
    "start_time": "2022-09-27T20:57:49.977Z"
   },
   {
    "duration": 6,
    "start_time": "2022-09-27T20:57:49.985Z"
   },
   {
    "duration": 375,
    "start_time": "2022-09-27T20:57:49.993Z"
   },
   {
    "duration": 409,
    "start_time": "2022-09-27T20:57:50.370Z"
   },
   {
    "duration": 386,
    "start_time": "2022-09-27T20:57:50.781Z"
   },
   {
    "duration": 10,
    "start_time": "2022-09-27T20:57:51.168Z"
   },
   {
    "duration": 7,
    "start_time": "2022-09-27T20:57:51.179Z"
   },
   {
    "duration": 7,
    "start_time": "2022-09-27T20:57:51.187Z"
   },
   {
    "duration": 21,
    "start_time": "2022-09-27T20:57:51.196Z"
   },
   {
    "duration": 363,
    "start_time": "2022-09-27T20:57:51.219Z"
   },
   {
    "duration": 7,
    "start_time": "2022-09-27T20:57:51.583Z"
   },
   {
    "duration": 7,
    "start_time": "2022-09-27T20:57:51.592Z"
   },
   {
    "duration": 9,
    "start_time": "2022-09-27T20:57:51.601Z"
   },
   {
    "duration": 8,
    "start_time": "2022-09-27T20:57:51.612Z"
   },
   {
    "duration": 8,
    "start_time": "2022-09-27T20:57:51.621Z"
   },
   {
    "duration": 8,
    "start_time": "2022-09-27T20:57:51.631Z"
   },
   {
    "duration": 1150,
    "start_time": "2022-09-27T20:59:11.816Z"
   },
   {
    "duration": 2,
    "start_time": "2022-09-27T20:59:12.968Z"
   },
   {
    "duration": 65,
    "start_time": "2022-09-27T20:59:12.977Z"
   },
   {
    "duration": 13,
    "start_time": "2022-09-27T20:59:13.044Z"
   },
   {
    "duration": 26,
    "start_time": "2022-09-27T20:59:13.059Z"
   },
   {
    "duration": 4,
    "start_time": "2022-09-27T20:59:13.087Z"
   },
   {
    "duration": 25,
    "start_time": "2022-09-27T20:59:13.093Z"
   },
   {
    "duration": 5,
    "start_time": "2022-09-27T20:59:13.119Z"
   },
   {
    "duration": 21,
    "start_time": "2022-09-27T20:59:13.125Z"
   },
   {
    "duration": 3,
    "start_time": "2022-09-27T20:59:13.149Z"
   },
   {
    "duration": 12,
    "start_time": "2022-09-27T20:59:13.154Z"
   },
   {
    "duration": 10,
    "start_time": "2022-09-27T20:59:13.168Z"
   },
   {
    "duration": 9,
    "start_time": "2022-09-27T20:59:13.180Z"
   },
   {
    "duration": 19,
    "start_time": "2022-09-27T20:59:13.191Z"
   },
   {
    "duration": 13,
    "start_time": "2022-09-27T20:59:13.212Z"
   },
   {
    "duration": 3,
    "start_time": "2022-09-27T20:59:13.227Z"
   },
   {
    "duration": 15,
    "start_time": "2022-09-27T20:59:13.232Z"
   },
   {
    "duration": 4,
    "start_time": "2022-09-27T20:59:13.248Z"
   },
   {
    "duration": 405,
    "start_time": "2022-09-27T20:59:13.277Z"
   },
   {
    "duration": 4,
    "start_time": "2022-09-27T20:59:13.684Z"
   },
   {
    "duration": 21,
    "start_time": "2022-09-27T20:59:13.690Z"
   },
   {
    "duration": 29,
    "start_time": "2022-09-27T20:59:13.712Z"
   },
   {
    "duration": 38,
    "start_time": "2022-09-27T20:59:13.743Z"
   },
   {
    "duration": 25,
    "start_time": "2022-09-27T20:59:13.782Z"
   },
   {
    "duration": 22,
    "start_time": "2022-09-27T20:59:13.808Z"
   },
   {
    "duration": 7,
    "start_time": "2022-09-27T20:59:13.832Z"
   },
   {
    "duration": 46,
    "start_time": "2022-09-27T20:59:13.840Z"
   },
   {
    "duration": 4,
    "start_time": "2022-09-27T20:59:13.889Z"
   },
   {
    "duration": 18,
    "start_time": "2022-09-27T20:59:13.894Z"
   },
   {
    "duration": 223,
    "start_time": "2022-09-27T20:59:13.913Z"
   },
   {
    "duration": 299,
    "start_time": "2022-09-27T20:59:14.138Z"
   },
   {
    "duration": 258,
    "start_time": "2022-09-27T20:59:14.439Z"
   },
   {
    "duration": 7,
    "start_time": "2022-09-27T20:59:14.698Z"
   },
   {
    "duration": 407,
    "start_time": "2022-09-27T20:59:14.707Z"
   },
   {
    "duration": 11,
    "start_time": "2022-09-27T20:59:15.116Z"
   },
   {
    "duration": 231,
    "start_time": "2022-09-27T20:59:15.128Z"
   },
   {
    "duration": 303,
    "start_time": "2022-09-27T20:59:15.361Z"
   },
   {
    "duration": 4,
    "start_time": "2022-09-27T20:59:15.665Z"
   },
   {
    "duration": 178,
    "start_time": "2022-09-27T20:59:15.677Z"
   },
   {
    "duration": 176,
    "start_time": "2022-09-27T20:59:15.857Z"
   },
   {
    "duration": 15,
    "start_time": "2022-09-27T20:59:16.035Z"
   },
   {
    "duration": 5,
    "start_time": "2022-09-27T20:59:16.052Z"
   },
   {
    "duration": 1796,
    "start_time": "2022-09-27T20:59:16.058Z"
   },
   {
    "duration": 3,
    "start_time": "2022-09-27T20:59:17.856Z"
   },
   {
    "duration": 5,
    "start_time": "2022-09-27T20:59:17.860Z"
   },
   {
    "duration": 317,
    "start_time": "2022-09-27T20:59:17.866Z"
   },
   {
    "duration": 8,
    "start_time": "2022-09-27T20:59:18.185Z"
   },
   {
    "duration": 5,
    "start_time": "2022-09-27T20:59:18.195Z"
   },
   {
    "duration": 396,
    "start_time": "2022-09-27T20:59:18.201Z"
   },
   {
    "duration": 408,
    "start_time": "2022-09-27T20:59:18.599Z"
   },
   {
    "duration": 410,
    "start_time": "2022-09-27T20:59:19.010Z"
   },
   {
    "duration": 2,
    "start_time": "2022-09-27T20:59:19.422Z"
   },
   {
    "duration": 6,
    "start_time": "2022-09-27T20:59:19.426Z"
   },
   {
    "duration": 5,
    "start_time": "2022-09-27T20:59:19.433Z"
   },
   {
    "duration": 20,
    "start_time": "2022-09-27T20:59:19.440Z"
   },
   {
    "duration": 372,
    "start_time": "2022-09-27T20:59:19.462Z"
   },
   {
    "duration": 0,
    "start_time": "2022-09-27T20:59:19.837Z"
   },
   {
    "duration": 0,
    "start_time": "2022-09-27T20:59:19.838Z"
   },
   {
    "duration": 0,
    "start_time": "2022-09-27T20:59:19.839Z"
   },
   {
    "duration": 0,
    "start_time": "2022-09-27T20:59:19.841Z"
   },
   {
    "duration": 0,
    "start_time": "2022-09-27T20:59:19.842Z"
   },
   {
    "duration": 0,
    "start_time": "2022-09-27T20:59:19.844Z"
   },
   {
    "duration": 360,
    "start_time": "2022-09-27T20:59:37.791Z"
   },
   {
    "duration": 5,
    "start_time": "2022-09-27T21:00:19.876Z"
   },
   {
    "duration": 4,
    "start_time": "2022-09-27T21:04:39.243Z"
   },
   {
    "duration": 6,
    "start_time": "2022-09-27T21:04:50.466Z"
   },
   {
    "duration": 17,
    "start_time": "2022-09-27T21:04:56.897Z"
   },
   {
    "duration": 374,
    "start_time": "2022-09-27T21:05:00.658Z"
   },
   {
    "duration": 1021,
    "start_time": "2022-09-27T21:14:29.336Z"
   },
   {
    "duration": 3,
    "start_time": "2022-09-27T21:14:30.359Z"
   },
   {
    "duration": 76,
    "start_time": "2022-09-27T21:14:30.363Z"
   },
   {
    "duration": 13,
    "start_time": "2022-09-27T21:14:30.441Z"
   },
   {
    "duration": 57,
    "start_time": "2022-09-27T21:14:30.456Z"
   },
   {
    "duration": 4,
    "start_time": "2022-09-27T21:14:30.515Z"
   },
   {
    "duration": 19,
    "start_time": "2022-09-27T21:14:30.521Z"
   },
   {
    "duration": 8,
    "start_time": "2022-09-27T21:14:30.542Z"
   },
   {
    "duration": 37,
    "start_time": "2022-09-27T21:14:30.552Z"
   },
   {
    "duration": 17,
    "start_time": "2022-09-27T21:14:30.591Z"
   },
   {
    "duration": 20,
    "start_time": "2022-09-27T21:14:30.610Z"
   },
   {
    "duration": 27,
    "start_time": "2022-09-27T21:14:30.631Z"
   },
   {
    "duration": 18,
    "start_time": "2022-09-27T21:14:30.660Z"
   },
   {
    "duration": 34,
    "start_time": "2022-09-27T21:14:30.683Z"
   },
   {
    "duration": 28,
    "start_time": "2022-09-27T21:14:30.719Z"
   },
   {
    "duration": 24,
    "start_time": "2022-09-27T21:14:30.749Z"
   },
   {
    "duration": 54,
    "start_time": "2022-09-27T21:14:30.775Z"
   },
   {
    "duration": 28,
    "start_time": "2022-09-27T21:14:30.830Z"
   },
   {
    "duration": 385,
    "start_time": "2022-09-27T21:14:30.860Z"
   },
   {
    "duration": 4,
    "start_time": "2022-09-27T21:14:31.247Z"
   },
   {
    "duration": 24,
    "start_time": "2022-09-27T21:14:31.253Z"
   },
   {
    "duration": 36,
    "start_time": "2022-09-27T21:14:31.278Z"
   },
   {
    "duration": 14,
    "start_time": "2022-09-27T21:14:31.316Z"
   },
   {
    "duration": 24,
    "start_time": "2022-09-27T21:14:31.331Z"
   },
   {
    "duration": 37,
    "start_time": "2022-09-27T21:14:31.357Z"
   },
   {
    "duration": 11,
    "start_time": "2022-09-27T21:14:31.396Z"
   },
   {
    "duration": 36,
    "start_time": "2022-09-27T21:14:31.409Z"
   },
   {
    "duration": 4,
    "start_time": "2022-09-27T21:14:31.447Z"
   },
   {
    "duration": 34,
    "start_time": "2022-09-27T21:14:31.454Z"
   },
   {
    "duration": 205,
    "start_time": "2022-09-27T21:14:31.491Z"
   },
   {
    "duration": 266,
    "start_time": "2022-09-27T21:14:31.698Z"
   },
   {
    "duration": 223,
    "start_time": "2022-09-27T21:14:31.965Z"
   },
   {
    "duration": 7,
    "start_time": "2022-09-27T21:14:32.189Z"
   },
   {
    "duration": 370,
    "start_time": "2022-09-27T21:14:32.197Z"
   },
   {
    "duration": 11,
    "start_time": "2022-09-27T21:14:32.569Z"
   },
   {
    "duration": 191,
    "start_time": "2022-09-27T21:14:32.581Z"
   },
   {
    "duration": 242,
    "start_time": "2022-09-27T21:14:32.774Z"
   },
   {
    "duration": 4,
    "start_time": "2022-09-27T21:14:33.017Z"
   },
   {
    "duration": 168,
    "start_time": "2022-09-27T21:14:33.023Z"
   },
   {
    "duration": 187,
    "start_time": "2022-09-27T21:14:33.192Z"
   },
   {
    "duration": 14,
    "start_time": "2022-09-27T21:14:33.383Z"
   },
   {
    "duration": 5,
    "start_time": "2022-09-27T21:14:33.399Z"
   },
   {
    "duration": 1873,
    "start_time": "2022-09-27T21:14:33.405Z"
   },
   {
    "duration": 3,
    "start_time": "2022-09-27T21:14:35.280Z"
   },
   {
    "duration": 20,
    "start_time": "2022-09-27T21:14:35.285Z"
   },
   {
    "duration": 322,
    "start_time": "2022-09-27T21:14:35.307Z"
   },
   {
    "duration": 8,
    "start_time": "2022-09-27T21:14:35.630Z"
   },
   {
    "duration": 9,
    "start_time": "2022-09-27T21:14:35.640Z"
   },
   {
    "duration": 395,
    "start_time": "2022-09-27T21:14:35.651Z"
   },
   {
    "duration": 397,
    "start_time": "2022-09-27T21:14:36.047Z"
   },
   {
    "duration": 426,
    "start_time": "2022-09-27T21:14:36.446Z"
   },
   {
    "duration": 7,
    "start_time": "2022-09-27T21:14:36.876Z"
   },
   {
    "duration": 4,
    "start_time": "2022-09-27T21:14:36.885Z"
   },
   {
    "duration": 8,
    "start_time": "2022-09-27T21:14:36.891Z"
   },
   {
    "duration": 27,
    "start_time": "2022-09-27T21:14:36.901Z"
   },
   {
    "duration": 434,
    "start_time": "2022-09-27T21:14:36.930Z"
   },
   {
    "duration": 12,
    "start_time": "2022-09-27T21:14:37.365Z"
   },
   {
    "duration": 5,
    "start_time": "2022-09-27T21:14:37.379Z"
   },
   {
    "duration": 8,
    "start_time": "2022-09-27T21:14:37.385Z"
   },
   {
    "duration": 12,
    "start_time": "2022-09-27T21:14:37.394Z"
   },
   {
    "duration": 16,
    "start_time": "2022-09-27T21:14:37.408Z"
   },
   {
    "duration": 7,
    "start_time": "2022-09-27T21:14:37.425Z"
   },
   {
    "duration": 57,
    "start_time": "2022-09-27T21:16:17.484Z"
   },
   {
    "duration": 5,
    "start_time": "2022-09-27T21:16:39.735Z"
   },
   {
    "duration": 8,
    "start_time": "2022-09-27T21:16:41.890Z"
   },
   {
    "duration": 5,
    "start_time": "2022-09-27T21:16:43.706Z"
   },
   {
    "duration": 7,
    "start_time": "2022-09-27T21:17:01.796Z"
   },
   {
    "duration": 6,
    "start_time": "2022-09-27T21:17:03.298Z"
   },
   {
    "duration": 4,
    "start_time": "2022-09-27T21:17:07.974Z"
   },
   {
    "duration": 4,
    "start_time": "2022-09-27T21:23:52.368Z"
   },
   {
    "duration": 1086,
    "start_time": "2022-09-27T21:29:00.887Z"
   },
   {
    "duration": 3,
    "start_time": "2022-09-27T21:29:01.974Z"
   },
   {
    "duration": 78,
    "start_time": "2022-09-27T21:29:01.978Z"
   },
   {
    "duration": 13,
    "start_time": "2022-09-27T21:29:02.058Z"
   },
   {
    "duration": 47,
    "start_time": "2022-09-27T21:29:02.073Z"
   },
   {
    "duration": 4,
    "start_time": "2022-09-27T21:29:02.121Z"
   },
   {
    "duration": 22,
    "start_time": "2022-09-27T21:29:02.126Z"
   },
   {
    "duration": 8,
    "start_time": "2022-09-27T21:29:02.149Z"
   },
   {
    "duration": 45,
    "start_time": "2022-09-27T21:29:02.158Z"
   },
   {
    "duration": 13,
    "start_time": "2022-09-27T21:29:02.205Z"
   },
   {
    "duration": 32,
    "start_time": "2022-09-27T21:29:02.220Z"
   },
   {
    "duration": 37,
    "start_time": "2022-09-27T21:29:02.253Z"
   },
   {
    "duration": 44,
    "start_time": "2022-09-27T21:29:02.292Z"
   },
   {
    "duration": 40,
    "start_time": "2022-09-27T21:29:02.338Z"
   },
   {
    "duration": 37,
    "start_time": "2022-09-27T21:29:02.380Z"
   },
   {
    "duration": 10,
    "start_time": "2022-09-27T21:29:02.419Z"
   },
   {
    "duration": 25,
    "start_time": "2022-09-27T21:29:02.430Z"
   },
   {
    "duration": 14,
    "start_time": "2022-09-27T21:29:02.456Z"
   },
   {
    "duration": 364,
    "start_time": "2022-09-27T21:29:02.472Z"
   },
   {
    "duration": 6,
    "start_time": "2022-09-27T21:29:02.838Z"
   },
   {
    "duration": 38,
    "start_time": "2022-09-27T21:29:02.845Z"
   },
   {
    "duration": 26,
    "start_time": "2022-09-27T21:29:02.884Z"
   },
   {
    "duration": 18,
    "start_time": "2022-09-27T21:29:02.912Z"
   },
   {
    "duration": 21,
    "start_time": "2022-09-27T21:29:02.931Z"
   },
   {
    "duration": 35,
    "start_time": "2022-09-27T21:29:02.954Z"
   },
   {
    "duration": 6,
    "start_time": "2022-09-27T21:29:02.991Z"
   },
   {
    "duration": 24,
    "start_time": "2022-09-27T21:29:02.999Z"
   },
   {
    "duration": 3,
    "start_time": "2022-09-27T21:29:03.027Z"
   },
   {
    "duration": 17,
    "start_time": "2022-09-27T21:29:03.032Z"
   },
   {
    "duration": 214,
    "start_time": "2022-09-27T21:29:03.050Z"
   },
   {
    "duration": 287,
    "start_time": "2022-09-27T21:29:03.266Z"
   },
   {
    "duration": 229,
    "start_time": "2022-09-27T21:29:03.555Z"
   },
   {
    "duration": 6,
    "start_time": "2022-09-27T21:29:03.786Z"
   },
   {
    "duration": 361,
    "start_time": "2022-09-27T21:29:03.794Z"
   },
   {
    "duration": 10,
    "start_time": "2022-09-27T21:29:04.156Z"
   },
   {
    "duration": 186,
    "start_time": "2022-09-27T21:29:04.167Z"
   },
   {
    "duration": 237,
    "start_time": "2022-09-27T21:29:04.355Z"
   },
   {
    "duration": 4,
    "start_time": "2022-09-27T21:29:04.594Z"
   },
   {
    "duration": 163,
    "start_time": "2022-09-27T21:29:04.599Z"
   },
   {
    "duration": 161,
    "start_time": "2022-09-27T21:29:04.764Z"
   },
   {
    "duration": 15,
    "start_time": "2022-09-27T21:29:04.927Z"
   },
   {
    "duration": 5,
    "start_time": "2022-09-27T21:29:04.944Z"
   },
   {
    "duration": 1691,
    "start_time": "2022-09-27T21:29:04.951Z"
   },
   {
    "duration": 2,
    "start_time": "2022-09-27T21:29:06.644Z"
   },
   {
    "duration": 6,
    "start_time": "2022-09-27T21:29:06.647Z"
   },
   {
    "duration": 284,
    "start_time": "2022-09-27T21:29:06.655Z"
   },
   {
    "duration": 5,
    "start_time": "2022-09-27T21:29:06.941Z"
   },
   {
    "duration": 376,
    "start_time": "2022-09-27T21:29:06.948Z"
   },
   {
    "duration": 397,
    "start_time": "2022-09-27T21:29:07.326Z"
   },
   {
    "duration": 385,
    "start_time": "2022-09-27T21:29:07.725Z"
   },
   {
    "duration": 7,
    "start_time": "2022-09-27T21:29:08.112Z"
   },
   {
    "duration": 8,
    "start_time": "2022-09-27T21:29:08.121Z"
   },
   {
    "duration": 5,
    "start_time": "2022-09-27T21:29:08.130Z"
   },
   {
    "duration": 20,
    "start_time": "2022-09-27T21:29:08.137Z"
   },
   {
    "duration": 430,
    "start_time": "2022-09-27T21:29:08.159Z"
   },
   {
    "duration": 6,
    "start_time": "2022-09-27T21:29:08.591Z"
   },
   {
    "duration": 8,
    "start_time": "2022-09-27T21:29:08.598Z"
   },
   {
    "duration": 12,
    "start_time": "2022-09-27T21:29:08.608Z"
   },
   {
    "duration": 13,
    "start_time": "2022-09-27T21:29:08.621Z"
   },
   {
    "duration": 10,
    "start_time": "2022-09-27T21:29:08.636Z"
   },
   {
    "duration": 8,
    "start_time": "2022-09-27T21:29:08.647Z"
   },
   {
    "duration": 3,
    "start_time": "2022-09-27T21:33:56.854Z"
   },
   {
    "duration": 91,
    "start_time": "2022-09-27T21:34:33.429Z"
   },
   {
    "duration": 56,
    "start_time": "2022-09-27T21:35:00.390Z"
   },
   {
    "duration": 98,
    "start_time": "2022-09-27T21:35:24.929Z"
   },
   {
    "duration": 91,
    "start_time": "2022-09-27T21:40:14.595Z"
   },
   {
    "duration": 67,
    "start_time": "2022-09-27T21:40:25.826Z"
   },
   {
    "duration": 50,
    "start_time": "2022-09-27T21:40:33.587Z"
   },
   {
    "duration": 43,
    "start_time": "2022-09-27T21:40:48.879Z"
   },
   {
    "duration": 10,
    "start_time": "2022-09-27T21:46:13.081Z"
   },
   {
    "duration": 11,
    "start_time": "2022-09-27T21:47:15.461Z"
   },
   {
    "duration": 15,
    "start_time": "2022-09-27T21:47:48.471Z"
   },
   {
    "duration": 297,
    "start_time": "2022-09-27T21:48:54.615Z"
   },
   {
    "duration": 6,
    "start_time": "2022-09-27T21:50:13.721Z"
   },
   {
    "duration": 6,
    "start_time": "2022-09-27T21:50:15.611Z"
   },
   {
    "duration": 1389,
    "start_time": "2022-09-28T12:24:20.985Z"
   },
   {
    "duration": 3,
    "start_time": "2022-09-28T12:24:22.377Z"
   },
   {
    "duration": 119,
    "start_time": "2022-09-28T12:24:22.382Z"
   },
   {
    "duration": 14,
    "start_time": "2022-09-28T12:24:22.503Z"
   },
   {
    "duration": 29,
    "start_time": "2022-09-28T12:24:22.519Z"
   },
   {
    "duration": 5,
    "start_time": "2022-09-28T12:24:22.554Z"
   },
   {
    "duration": 23,
    "start_time": "2022-09-28T12:24:22.560Z"
   },
   {
    "duration": 4,
    "start_time": "2022-09-28T12:24:22.585Z"
   },
   {
    "duration": 24,
    "start_time": "2022-09-28T12:24:22.590Z"
   },
   {
    "duration": 4,
    "start_time": "2022-09-28T12:24:22.616Z"
   },
   {
    "duration": 14,
    "start_time": "2022-09-28T12:24:22.622Z"
   },
   {
    "duration": 18,
    "start_time": "2022-09-28T12:24:22.637Z"
   },
   {
    "duration": 9,
    "start_time": "2022-09-28T12:24:22.657Z"
   },
   {
    "duration": 22,
    "start_time": "2022-09-28T12:24:22.669Z"
   },
   {
    "duration": 15,
    "start_time": "2022-09-28T12:24:22.692Z"
   },
   {
    "duration": 3,
    "start_time": "2022-09-28T12:24:22.709Z"
   },
   {
    "duration": 12,
    "start_time": "2022-09-28T12:24:22.714Z"
   },
   {
    "duration": 27,
    "start_time": "2022-09-28T12:24:22.728Z"
   },
   {
    "duration": 396,
    "start_time": "2022-09-28T12:24:22.756Z"
   },
   {
    "duration": 5,
    "start_time": "2022-09-28T12:24:23.154Z"
   },
   {
    "duration": 23,
    "start_time": "2022-09-28T12:24:23.161Z"
   },
   {
    "duration": 29,
    "start_time": "2022-09-28T12:24:23.186Z"
   },
   {
    "duration": 41,
    "start_time": "2022-09-28T12:24:23.216Z"
   },
   {
    "duration": 23,
    "start_time": "2022-09-28T12:24:23.259Z"
   },
   {
    "duration": 30,
    "start_time": "2022-09-28T12:24:23.284Z"
   },
   {
    "duration": 1253,
    "start_time": "2022-09-28T12:24:55.517Z"
   },
   {
    "duration": 3,
    "start_time": "2022-09-28T12:24:56.773Z"
   },
   {
    "duration": 89,
    "start_time": "2022-09-28T12:24:56.777Z"
   },
   {
    "duration": 14,
    "start_time": "2022-09-28T12:24:56.868Z"
   },
   {
    "duration": 34,
    "start_time": "2022-09-28T12:24:56.885Z"
   },
   {
    "duration": 4,
    "start_time": "2022-09-28T12:24:56.921Z"
   },
   {
    "duration": 27,
    "start_time": "2022-09-28T12:24:56.927Z"
   },
   {
    "duration": 3,
    "start_time": "2022-09-28T12:24:56.955Z"
   },
   {
    "duration": 21,
    "start_time": "2022-09-28T12:24:56.959Z"
   },
   {
    "duration": 4,
    "start_time": "2022-09-28T12:24:56.981Z"
   },
   {
    "duration": 13,
    "start_time": "2022-09-28T12:24:56.987Z"
   },
   {
    "duration": 7,
    "start_time": "2022-09-28T12:24:57.001Z"
   },
   {
    "duration": 9,
    "start_time": "2022-09-28T12:24:57.010Z"
   },
   {
    "duration": 38,
    "start_time": "2022-09-28T12:24:57.023Z"
   },
   {
    "duration": 15,
    "start_time": "2022-09-28T12:24:57.063Z"
   },
   {
    "duration": 3,
    "start_time": "2022-09-28T12:24:57.080Z"
   },
   {
    "duration": 13,
    "start_time": "2022-09-28T12:24:57.085Z"
   },
   {
    "duration": 17,
    "start_time": "2022-09-28T12:24:57.100Z"
   },
   {
    "duration": 418,
    "start_time": "2022-09-28T12:24:57.119Z"
   },
   {
    "duration": 6,
    "start_time": "2022-09-28T12:24:57.539Z"
   },
   {
    "duration": 25,
    "start_time": "2022-09-28T12:24:57.546Z"
   },
   {
    "duration": 44,
    "start_time": "2022-09-28T12:24:57.573Z"
   },
   {
    "duration": 17,
    "start_time": "2022-09-28T12:24:57.619Z"
   },
   {
    "duration": 36,
    "start_time": "2022-09-28T12:24:57.638Z"
   },
   {
    "duration": 23,
    "start_time": "2022-09-28T12:24:57.675Z"
   },
   {
    "duration": 8,
    "start_time": "2022-09-28T12:24:57.700Z"
   },
   {
    "duration": 35,
    "start_time": "2022-09-28T12:24:57.710Z"
   },
   {
    "duration": 4,
    "start_time": "2022-09-28T12:24:57.754Z"
   },
   {
    "duration": 29,
    "start_time": "2022-09-28T12:24:57.759Z"
   },
   {
    "duration": 227,
    "start_time": "2022-09-28T12:24:57.790Z"
   },
   {
    "duration": 306,
    "start_time": "2022-09-28T12:24:58.019Z"
   },
   {
    "duration": 234,
    "start_time": "2022-09-28T12:24:58.327Z"
   },
   {
    "duration": 0,
    "start_time": "2022-09-28T12:24:58.564Z"
   },
   {
    "duration": 0,
    "start_time": "2022-09-28T12:24:58.566Z"
   },
   {
    "duration": 0,
    "start_time": "2022-09-28T12:24:58.568Z"
   },
   {
    "duration": 0,
    "start_time": "2022-09-28T12:24:58.569Z"
   },
   {
    "duration": 0,
    "start_time": "2022-09-28T12:24:58.570Z"
   },
   {
    "duration": 0,
    "start_time": "2022-09-28T12:24:58.572Z"
   },
   {
    "duration": 0,
    "start_time": "2022-09-28T12:24:58.573Z"
   },
   {
    "duration": 0,
    "start_time": "2022-09-28T12:24:58.575Z"
   },
   {
    "duration": 0,
    "start_time": "2022-09-28T12:24:58.577Z"
   },
   {
    "duration": 0,
    "start_time": "2022-09-28T12:24:58.578Z"
   },
   {
    "duration": 0,
    "start_time": "2022-09-28T12:24:58.579Z"
   },
   {
    "duration": 0,
    "start_time": "2022-09-28T12:24:58.581Z"
   },
   {
    "duration": 0,
    "start_time": "2022-09-28T12:24:58.582Z"
   },
   {
    "duration": 0,
    "start_time": "2022-09-28T12:24:58.584Z"
   },
   {
    "duration": 0,
    "start_time": "2022-09-28T12:24:58.585Z"
   },
   {
    "duration": 0,
    "start_time": "2022-09-28T12:24:58.586Z"
   },
   {
    "duration": 0,
    "start_time": "2022-09-28T12:24:58.587Z"
   },
   {
    "duration": 0,
    "start_time": "2022-09-28T12:24:58.588Z"
   },
   {
    "duration": 0,
    "start_time": "2022-09-28T12:24:58.589Z"
   },
   {
    "duration": 0,
    "start_time": "2022-09-28T12:24:58.723Z"
   },
   {
    "duration": 0,
    "start_time": "2022-09-28T12:24:58.724Z"
   },
   {
    "duration": 0,
    "start_time": "2022-09-28T12:24:58.725Z"
   },
   {
    "duration": 0,
    "start_time": "2022-09-28T12:24:58.726Z"
   },
   {
    "duration": 0,
    "start_time": "2022-09-28T12:24:58.727Z"
   },
   {
    "duration": 0,
    "start_time": "2022-09-28T12:24:58.728Z"
   },
   {
    "duration": 0,
    "start_time": "2022-09-28T12:24:58.729Z"
   },
   {
    "duration": 0,
    "start_time": "2022-09-28T12:24:58.730Z"
   },
   {
    "duration": 0,
    "start_time": "2022-09-28T12:24:58.754Z"
   },
   {
    "duration": 0,
    "start_time": "2022-09-28T12:24:58.755Z"
   },
   {
    "duration": 234,
    "start_time": "2022-09-28T12:25:36.672Z"
   },
   {
    "duration": 1177,
    "start_time": "2022-09-28T12:25:42.913Z"
   },
   {
    "duration": 3,
    "start_time": "2022-09-28T12:25:44.092Z"
   },
   {
    "duration": 91,
    "start_time": "2022-09-28T12:25:44.097Z"
   },
   {
    "duration": 15,
    "start_time": "2022-09-28T12:25:44.190Z"
   },
   {
    "duration": 47,
    "start_time": "2022-09-28T12:25:44.207Z"
   },
   {
    "duration": 5,
    "start_time": "2022-09-28T12:25:44.256Z"
   },
   {
    "duration": 21,
    "start_time": "2022-09-28T12:25:44.262Z"
   },
   {
    "duration": 9,
    "start_time": "2022-09-28T12:25:44.285Z"
   },
   {
    "duration": 23,
    "start_time": "2022-09-28T12:25:44.296Z"
   },
   {
    "duration": 4,
    "start_time": "2022-09-28T12:25:44.321Z"
   },
   {
    "duration": 18,
    "start_time": "2022-09-28T12:25:44.326Z"
   },
   {
    "duration": 6,
    "start_time": "2022-09-28T12:25:44.354Z"
   },
   {
    "duration": 12,
    "start_time": "2022-09-28T12:25:44.361Z"
   },
   {
    "duration": 29,
    "start_time": "2022-09-28T12:25:44.376Z"
   },
   {
    "duration": 23,
    "start_time": "2022-09-28T12:25:44.407Z"
   },
   {
    "duration": 4,
    "start_time": "2022-09-28T12:25:44.432Z"
   },
   {
    "duration": 17,
    "start_time": "2022-09-28T12:25:44.437Z"
   },
   {
    "duration": 7,
    "start_time": "2022-09-28T12:25:44.456Z"
   },
   {
    "duration": 405,
    "start_time": "2022-09-28T12:25:44.464Z"
   },
   {
    "duration": 6,
    "start_time": "2022-09-28T12:25:44.870Z"
   },
   {
    "duration": 22,
    "start_time": "2022-09-28T12:25:44.877Z"
   },
   {
    "duration": 30,
    "start_time": "2022-09-28T12:25:44.900Z"
   },
   {
    "duration": 35,
    "start_time": "2022-09-28T12:25:44.932Z"
   },
   {
    "duration": 25,
    "start_time": "2022-09-28T12:25:44.970Z"
   },
   {
    "duration": 54,
    "start_time": "2022-09-28T12:25:44.996Z"
   },
   {
    "duration": 7,
    "start_time": "2022-09-28T12:25:45.052Z"
   },
   {
    "duration": 25,
    "start_time": "2022-09-28T12:25:45.061Z"
   },
   {
    "duration": 4,
    "start_time": "2022-09-28T12:25:45.087Z"
   },
   {
    "duration": 30,
    "start_time": "2022-09-28T12:25:45.093Z"
   },
   {
    "duration": 225,
    "start_time": "2022-09-28T12:25:45.125Z"
   },
   {
    "duration": 317,
    "start_time": "2022-09-28T12:25:45.354Z"
   },
   {
    "duration": 252,
    "start_time": "2022-09-28T12:25:45.672Z"
   },
   {
    "duration": 7,
    "start_time": "2022-09-28T12:25:45.926Z"
   },
   {
    "duration": 412,
    "start_time": "2022-09-28T12:25:45.935Z"
   },
   {
    "duration": 12,
    "start_time": "2022-09-28T12:25:46.349Z"
   },
   {
    "duration": 224,
    "start_time": "2022-09-28T12:25:46.363Z"
   },
   {
    "duration": 288,
    "start_time": "2022-09-28T12:25:46.589Z"
   },
   {
    "duration": 5,
    "start_time": "2022-09-28T12:25:46.879Z"
   },
   {
    "duration": 194,
    "start_time": "2022-09-28T12:25:46.886Z"
   },
   {
    "duration": 193,
    "start_time": "2022-09-28T12:25:47.083Z"
   },
   {
    "duration": 17,
    "start_time": "2022-09-28T12:25:47.281Z"
   },
   {
    "duration": 7,
    "start_time": "2022-09-28T12:25:47.300Z"
   },
   {
    "duration": 1964,
    "start_time": "2022-09-28T12:25:47.309Z"
   },
   {
    "duration": 3,
    "start_time": "2022-09-28T12:25:49.274Z"
   },
   {
    "duration": 12,
    "start_time": "2022-09-28T12:25:49.279Z"
   },
   {
    "duration": 334,
    "start_time": "2022-09-28T12:25:49.293Z"
   },
   {
    "duration": 5,
    "start_time": "2022-09-28T12:25:49.629Z"
   },
   {
    "duration": 419,
    "start_time": "2022-09-28T12:25:49.636Z"
   },
   {
    "duration": 471,
    "start_time": "2022-09-28T12:25:50.057Z"
   },
   {
    "duration": 480,
    "start_time": "2022-09-28T12:25:50.529Z"
   },
   {
    "duration": 7,
    "start_time": "2022-09-28T12:25:51.011Z"
   },
   {
    "duration": 10,
    "start_time": "2022-09-28T12:25:51.020Z"
   },
   {
    "duration": 11,
    "start_time": "2022-09-28T12:25:51.033Z"
   },
   {
    "duration": 24,
    "start_time": "2022-09-28T12:25:51.053Z"
   },
   {
    "duration": 439,
    "start_time": "2022-09-28T12:25:51.080Z"
   },
   {
    "duration": 10,
    "start_time": "2022-09-28T12:25:51.521Z"
   },
   {
    "duration": 47,
    "start_time": "2022-09-28T12:25:51.533Z"
   },
   {
    "duration": 14,
    "start_time": "2022-09-28T12:25:51.582Z"
   },
   {
    "duration": 14,
    "start_time": "2022-09-28T12:25:51.598Z"
   },
   {
    "duration": 41,
    "start_time": "2022-09-28T12:25:51.614Z"
   },
   {
    "duration": 31,
    "start_time": "2022-09-28T12:25:51.658Z"
   }
  ],
  "kernelspec": {
   "display_name": "Python 3 (ipykernel)",
   "language": "python",
   "name": "python3"
  },
  "language_info": {
   "codemirror_mode": {
    "name": "ipython",
    "version": 3
   },
   "file_extension": ".py",
   "mimetype": "text/x-python",
   "name": "python",
   "nbconvert_exporter": "python",
   "pygments_lexer": "ipython3",
   "version": "3.10.1"
  },
  "toc": {
   "base_numbering": 1,
   "nav_menu": {
    "height": "72px",
    "width": "163px"
   },
   "number_sections": true,
   "sideBar": true,
   "skip_h1_title": true,
   "title_cell": "Table of Contents",
   "title_sidebar": "Contents",
   "toc_cell": false,
   "toc_position": {
    "height": "calc(100% - 180px)",
    "left": "10px",
    "top": "150px",
    "width": "358px"
   },
   "toc_section_display": true,
   "toc_window_display": true
  }
 },
 "nbformat": 4,
 "nbformat_minor": 2
}
